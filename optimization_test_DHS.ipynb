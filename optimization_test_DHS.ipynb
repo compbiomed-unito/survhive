{
 "cells": [
  {
   "cell_type": "code",
   "execution_count": 16,
   "id": "387d1412",
   "metadata": {},
   "outputs": [],
   "source": [
    "import numpy"
   ]
  },
  {
   "cell_type": "code",
   "execution_count": 17,
   "id": "c4083da7",
   "metadata": {},
   "outputs": [],
   "source": [
    "import sklearn"
   ]
  },
  {
   "cell_type": "code",
   "execution_count": 18,
   "id": "5f7d6271",
   "metadata": {},
   "outputs": [],
   "source": [
    "import survhive"
   ]
  },
  {
   "cell_type": "code",
   "execution_count": 46,
   "id": "210bf36c",
   "metadata": {},
   "outputs": [],
   "source": [
    "X, y = survhive.load_test_data()\n",
    "X.shape, y.shape\n",
    "n_features=X.shape[1]\n"
   ]
  },
  {
   "cell_type": "markdown",
   "id": "40fbcb80-0388-4f46-ba3a-29c3f9ee5bee",
   "metadata": {},
   "source": [
    "### Generate a (stratified) train-test split and Scale the features (only) "
   ]
  },
  {
   "cell_type": "markdown",
   "id": "b35f553a-ae5b-476e-bb42-ec48efe8ab89",
   "metadata": {},
   "source": [
    "First do the stratified splitting THEN do scaling, parameterized on X_train set ONLY "
   ]
  },
  {
   "cell_type": "code",
   "execution_count": 20,
   "id": "75714389-2def-4259-8052-bcf7977a2c56",
   "metadata": {},
   "outputs": [],
   "source": [
    "from sklearn.preprocessing import StandardScaler, RobustScaler"
   ]
  },
  {
   "cell_type": "code",
   "execution_count": 21,
   "id": "bd02c821-86c7-4515-986b-07e769f9581b",
   "metadata": {},
   "outputs": [],
   "source": [
    "X_train, X_test, y_train, y_test = sklearn.model_selection.train_test_split(X, y,\n",
    "                                                                            stratify=survhive.get_indicator(y), \n",
    "                                                                           random_state=2308)"
   ]
  },
  {
   "cell_type": "code",
   "execution_count": 22,
   "id": "261585e2-6d7a-4dc8-9861-da0aee20e7c7",
   "metadata": {},
   "outputs": [
    {
     "data": {
      "text/plain": [
       "((148, 84), (50, 84))"
      ]
     },
     "execution_count": 22,
     "metadata": {},
     "output_type": "execute_result"
    }
   ],
   "source": [
    "scaler = StandardScaler().fit(X_train)\n",
    "[X_train, X_test] = [ scaler.transform(_) for _ in  [X_train, X_test] ]\n",
    "X_train.shape, X_test.shape"
   ]
  },
  {
   "cell_type": "code",
   "execution_count": 23,
   "id": "5f89b6c2",
   "metadata": {},
   "outputs": [],
   "source": [
    "#X_train, X_test, y_train, y_test = sklearn.model_selection.train_test_split(X, y)"
   ]
  },
  {
   "cell_type": "markdown",
   "id": "3523fc60-5251-4640-ab08-b4288c7a65b4",
   "metadata": {},
   "source": [
    "balanced partitioning OK. Robst scaler damages the performance of DSM A LOT.\n",
    "maybe did something wrong. It is standard scaler for now."
   ]
  },
  {
   "cell_type": "code",
   "execution_count": 24,
   "id": "449b6bde-498c-437f-8170-e86f34aafc9e",
   "metadata": {},
   "outputs": [
    {
     "data": {
      "text/plain": [
       "(51, 38, 13)"
      ]
     },
     "execution_count": 24,
     "metadata": {},
     "output_type": "execute_result"
    }
   ],
   "source": [
    "survhive.get_indicator(y).sum(), survhive.get_indicator(y_train).sum(), survhive.get_indicator(y_test).sum(),\n"
   ]
  },
  {
   "cell_type": "code",
   "execution_count": 25,
   "id": "62b452cd-4763-4f78-800f-3e8c78ec3bb7",
   "metadata": {
    "scrolled": true
   },
   "outputs": [
    {
     "name": "stdout",
     "output_type": "stream",
     "text": [
      "[13, 12, 13, 13, 12, 13]\n"
     ]
    }
   ],
   "source": [
    "splitter = survhive.survival_crossval_splitter(X_train,y_train,n_splits=3, n_repeats=2,rng_seed=2309)\n",
    "print([ (survhive.get_indicator(y_train[_[1]]).sum()) for _ in splitter])"
   ]
  },
  {
   "cell_type": "markdown",
   "id": "18343e1d-30ec-42b0-be0e-ac85df1298d9",
   "metadata": {},
   "source": [
    "## check possible dimensionality reduction"
   ]
  },
  {
   "cell_type": "code",
   "execution_count": 26,
   "id": "fde3a10a-379c-42b8-8070-485e7c4326bb",
   "metadata": {},
   "outputs": [],
   "source": [
    "from sklearn.decomposition import PCA"
   ]
  },
  {
   "cell_type": "code",
   "execution_count": 27,
   "id": "1ad7a35b-9295-40f8-a9c4-a02ca8cf83c8",
   "metadata": {},
   "outputs": [
    {
     "data": {
      "text/plain": [
       "74"
      ]
     },
     "execution_count": 27,
     "metadata": {},
     "output_type": "execute_result"
    }
   ],
   "source": [
    "pca= PCA(n_components=0.995, random_state=2308).fit(X_train)\n",
    "pca.n_components_"
   ]
  },
  {
   "cell_type": "markdown",
   "id": "afc3f2d1-45e8-42cc-9763-69836b1aaa71",
   "metadata": {},
   "source": [
    "Only a modest dimensionality reduction is possible using PCA"
   ]
  },
  {
   "cell_type": "code",
   "execution_count": 28,
   "id": "dd7a81c3-ced7-48df-8eba-cacb1e814bbd",
   "metadata": {},
   "outputs": [],
   "source": [
    "## Stratified CV spliter for survival analysis"
   ]
  },
  {
   "cell_type": "code",
   "execution_count": 29,
   "id": "e63ce8de-3339-4d4f-9df3-d11c8e61feba",
   "metadata": {},
   "outputs": [],
   "source": [
    "from sklearn.model_selection import RepeatedStratifiedKFold, StratifiedKFold"
   ]
  },
  {
   "cell_type": "code",
   "execution_count": 30,
   "id": "efe2e846-9bc4-435f-9e83-06f01577ca2a",
   "metadata": {},
   "outputs": [],
   "source": [
    "testkf= RepeatedStratifiedKFold(n_splits=5,n_repeats=2,random_state=2307)\n",
    "#for trn,tst in testkf.split(X_train, survhive.get_indicator(y_train)):\n",
    "    #print(trn,tst) "
   ]
  },
  {
   "cell_type": "markdown",
   "id": "8c36a230",
   "metadata": {},
   "source": [
    "# test coxnet"
   ]
  },
  {
   "cell_type": "code",
   "execution_count": 31,
   "id": "9aafa692-2cba-4a47-b376-04742eae3b67",
   "metadata": {
    "jupyter": {
     "source_hidden": true
    }
   },
   "outputs": [
    {
     "data": {
      "text/html": [
       "<style>#sk-container-id-1 {color: black;background-color: white;}#sk-container-id-1 pre{padding: 0;}#sk-container-id-1 div.sk-toggleable {background-color: white;}#sk-container-id-1 label.sk-toggleable__label {cursor: pointer;display: block;width: 100%;margin-bottom: 0;padding: 0.3em;box-sizing: border-box;text-align: center;}#sk-container-id-1 label.sk-toggleable__label-arrow:before {content: \"▸\";float: left;margin-right: 0.25em;color: #696969;}#sk-container-id-1 label.sk-toggleable__label-arrow:hover:before {color: black;}#sk-container-id-1 div.sk-estimator:hover label.sk-toggleable__label-arrow:before {color: black;}#sk-container-id-1 div.sk-toggleable__content {max-height: 0;max-width: 0;overflow: hidden;text-align: left;background-color: #f0f8ff;}#sk-container-id-1 div.sk-toggleable__content pre {margin: 0.2em;color: black;border-radius: 0.25em;background-color: #f0f8ff;}#sk-container-id-1 input.sk-toggleable__control:checked~div.sk-toggleable__content {max-height: 200px;max-width: 100%;overflow: auto;}#sk-container-id-1 input.sk-toggleable__control:checked~label.sk-toggleable__label-arrow:before {content: \"▾\";}#sk-container-id-1 div.sk-estimator input.sk-toggleable__control:checked~label.sk-toggleable__label {background-color: #d4ebff;}#sk-container-id-1 div.sk-label input.sk-toggleable__control:checked~label.sk-toggleable__label {background-color: #d4ebff;}#sk-container-id-1 input.sk-hidden--visually {border: 0;clip: rect(1px 1px 1px 1px);clip: rect(1px, 1px, 1px, 1px);height: 1px;margin: -1px;overflow: hidden;padding: 0;position: absolute;width: 1px;}#sk-container-id-1 div.sk-estimator {font-family: monospace;background-color: #f0f8ff;border: 1px dotted black;border-radius: 0.25em;box-sizing: border-box;margin-bottom: 0.5em;}#sk-container-id-1 div.sk-estimator:hover {background-color: #d4ebff;}#sk-container-id-1 div.sk-parallel-item::after {content: \"\";width: 100%;border-bottom: 1px solid gray;flex-grow: 1;}#sk-container-id-1 div.sk-label:hover label.sk-toggleable__label {background-color: #d4ebff;}#sk-container-id-1 div.sk-serial::before {content: \"\";position: absolute;border-left: 1px solid gray;box-sizing: border-box;top: 0;bottom: 0;left: 50%;z-index: 0;}#sk-container-id-1 div.sk-serial {display: flex;flex-direction: column;align-items: center;background-color: white;padding-right: 0.2em;padding-left: 0.2em;position: relative;}#sk-container-id-1 div.sk-item {position: relative;z-index: 1;}#sk-container-id-1 div.sk-parallel {display: flex;align-items: stretch;justify-content: center;background-color: white;position: relative;}#sk-container-id-1 div.sk-item::before, #sk-container-id-1 div.sk-parallel-item::before {content: \"\";position: absolute;border-left: 1px solid gray;box-sizing: border-box;top: 0;bottom: 0;left: 50%;z-index: -1;}#sk-container-id-1 div.sk-parallel-item {display: flex;flex-direction: column;z-index: 1;position: relative;background-color: white;}#sk-container-id-1 div.sk-parallel-item:first-child::after {align-self: flex-end;width: 50%;}#sk-container-id-1 div.sk-parallel-item:last-child::after {align-self: flex-start;width: 50%;}#sk-container-id-1 div.sk-parallel-item:only-child::after {width: 0;}#sk-container-id-1 div.sk-dashed-wrapped {border: 1px dashed gray;margin: 0 0.4em 0.5em 0.4em;box-sizing: border-box;padding-bottom: 0.4em;background-color: white;}#sk-container-id-1 div.sk-label label {font-family: monospace;font-weight: bold;display: inline-block;line-height: 1.2em;}#sk-container-id-1 div.sk-label-container {text-align: center;}#sk-container-id-1 div.sk-container {/* jupyter's `normalize.less` sets `[hidden] { display: none; }` but bootstrap.min.css set `[hidden] { display: none !important; }` so we also need the `!important` here to be able to override the default hidden behavior on the sphinx rendered scikit-learn.org. See: https://github.com/scikit-learn/scikit-learn/issues/21755 */display: inline-block !important;position: relative;}#sk-container-id-1 div.sk-text-repr-fallback {display: none;}</style><div id=\"sk-container-id-1\" class=\"sk-top-container\"><div class=\"sk-text-repr-fallback\"><pre>CoxNet(rng_seed=2308, alpha=None, l1_ratio=0.5)</pre><b>In a Jupyter environment, please rerun this cell to show the HTML representation or trust the notebook. <br />On GitHub, the HTML representation is unable to render, please try loading this page with nbviewer.org.</b></div><div class=\"sk-container\" hidden><div class=\"sk-item\"><div class=\"sk-estimator sk-toggleable\"><input class=\"sk-toggleable__control sk-hidden--visually\" id=\"sk-estimator-id-1\" type=\"checkbox\" checked><label for=\"sk-estimator-id-1\" class=\"sk-toggleable__label sk-toggleable__label-arrow\">CoxNet</label><div class=\"sk-toggleable__content\"><pre>CoxNet(rng_seed=2308, alpha=None, l1_ratio=0.5)</pre></div></div></div></div></div>"
      ],
      "text/plain": [
       "CoxNet(rng_seed=2308, alpha=None, l1_ratio=0.5)"
      ]
     },
     "execution_count": 31,
     "metadata": {},
     "output_type": "execute_result"
    }
   ],
   "source": [
    "coxnet = survhive.CoxNet(rng_seed=2308)\n",
    "coxnet.fit(X_train, y_train)"
   ]
  },
  {
   "cell_type": "code",
   "execution_count": 32,
   "id": "9a0e80b7",
   "metadata": {},
   "outputs": [
    {
     "data": {
      "text/plain": [
       "0.5330578512396694"
      ]
     },
     "execution_count": 32,
     "metadata": {},
     "output_type": "execute_result"
    }
   ],
   "source": [
    "coxnet.score(X_test, y_test)"
   ]
  },
  {
   "cell_type": "code",
   "execution_count": 33,
   "id": "f894a2c8",
   "metadata": {},
   "outputs": [],
   "source": [
    "from sklearn.model_selection import GridSearchCV, RandomizedSearchCV"
   ]
  },
  {
   "cell_type": "code",
   "execution_count": 34,
   "id": "8a1ea4f2",
   "metadata": {},
   "outputs": [],
   "source": [
    "def optimize(estimator, X, y, mode='sklearn-grid', user_grid=[] , cv=None):\n",
    "    if mode == 'sklearn-grid':\n",
    "        if not user_grid: \n",
    "            user_grid = estimator.get_parameter_grid()\n",
    "        gs = GridSearchCV(estimator, user_grid, refit=True, cv=cv, n_jobs=3)\n",
    "        gs.fit(X, y)\n",
    "        return gs.best_estimator_, gs.best_params_, gs\n",
    "    raise ValueError(f'unknown mode parameter: \"{mode}\"')"
   ]
  },
  {
   "cell_type": "code",
   "execution_count": 35,
   "id": "946d79e0-0f7c-44c6-893c-8b5ea52c5a57",
   "metadata": {},
   "outputs": [
    {
     "data": {
      "text/plain": [
       "{'alpha': [0.001,\n",
       "  0.003,\n",
       "  0.005,\n",
       "  0.008,\n",
       "  0.01,\n",
       "  0.02,\n",
       "  0.03,\n",
       "  0.04,\n",
       "  0.05,\n",
       "  0.06,\n",
       "  0.07,\n",
       "  0.08,\n",
       "  0.09,\n",
       "  0.1,\n",
       "  0.15,\n",
       "  0.2,\n",
       "  0.3],\n",
       " 'l1_ratio': [0.01, 0.1, 0.25, 0.5, 0.75, 0.9, 0.99]}"
      ]
     },
     "execution_count": 35,
     "metadata": {},
     "output_type": "execute_result"
    }
   ],
   "source": [
    "survhive.CoxNet().get_parameter_grid()"
   ]
  },
  {
   "cell_type": "code",
   "execution_count": 36,
   "id": "5b77922c-5d15-4aca-a395-f88ce3f68ad3",
   "metadata": {},
   "outputs": [
    {
     "ename": "KeyboardInterrupt",
     "evalue": "",
     "output_type": "error",
     "traceback": [
      "\u001b[0;31m---------------------------------------------------------------------------\u001b[0m",
      "\u001b[0;31mKeyboardInterrupt\u001b[0m                         Traceback (most recent call last)",
      "Cell \u001b[0;32mIn[36], line 1\u001b[0m\n\u001b[0;32m----> 1\u001b[0m opt_coxnet, opt_coxnet_params, opt_coxnet_search \u001b[38;5;241m=\u001b[39m \u001b[43moptimize\u001b[49m\u001b[43m(\u001b[49m\u001b[43msurvhive\u001b[49m\u001b[38;5;241;43m.\u001b[39;49m\u001b[43mCoxNet\u001b[49m\u001b[43m(\u001b[49m\u001b[43m)\u001b[49m\u001b[43m,\u001b[49m\u001b[43m \u001b[49m\u001b[43mX_train\u001b[49m\u001b[43m,\u001b[49m\u001b[43m \u001b[49m\u001b[43my_train\u001b[49m\u001b[43m,\u001b[49m\u001b[43m \u001b[49m\n\u001b[1;32m      2\u001b[0m \u001b[43m                                                           \u001b[49m\u001b[43mcv\u001b[49m\u001b[38;5;241;43m=\u001b[39;49m\u001b[43msurvhive\u001b[49m\u001b[38;5;241;43m.\u001b[39;49m\u001b[43msurvival_crossval_splitter\u001b[49m\u001b[43m(\u001b[49m\u001b[43mX_train\u001b[49m\u001b[43m,\u001b[49m\u001b[43my_train\u001b[49m\u001b[43m,\u001b[49m\u001b[43mrng_seed\u001b[49m\u001b[38;5;241;43m=\u001b[39;49m\u001b[38;5;241;43m2309\u001b[39;49m\u001b[43m)\u001b[49m\u001b[43m)\u001b[49m\n\u001b[1;32m      3\u001b[0m opt_coxnet\u001b[38;5;241m.\u001b[39mscore(X_test, y_test), opt_coxnet_params\n",
      "Cell \u001b[0;32mIn[34], line 6\u001b[0m, in \u001b[0;36moptimize\u001b[0;34m(estimator, X, y, mode, user_grid, cv)\u001b[0m\n\u001b[1;32m      4\u001b[0m         user_grid \u001b[38;5;241m=\u001b[39m estimator\u001b[38;5;241m.\u001b[39mget_parameter_grid()\n\u001b[1;32m      5\u001b[0m     gs \u001b[38;5;241m=\u001b[39m GridSearchCV(estimator, user_grid, refit\u001b[38;5;241m=\u001b[39m\u001b[38;5;28;01mTrue\u001b[39;00m, cv\u001b[38;5;241m=\u001b[39mcv, n_jobs\u001b[38;5;241m=\u001b[39m\u001b[38;5;241m3\u001b[39m)\n\u001b[0;32m----> 6\u001b[0m     \u001b[43mgs\u001b[49m\u001b[38;5;241;43m.\u001b[39;49m\u001b[43mfit\u001b[49m\u001b[43m(\u001b[49m\u001b[43mX\u001b[49m\u001b[43m,\u001b[49m\u001b[43m \u001b[49m\u001b[43my\u001b[49m\u001b[43m)\u001b[49m\n\u001b[1;32m      7\u001b[0m     \u001b[38;5;28;01mreturn\u001b[39;00m gs\u001b[38;5;241m.\u001b[39mbest_estimator_, gs\u001b[38;5;241m.\u001b[39mbest_params_, gs\n\u001b[1;32m      8\u001b[0m \u001b[38;5;28;01mraise\u001b[39;00m \u001b[38;5;167;01mValueError\u001b[39;00m(\u001b[38;5;124mf\u001b[39m\u001b[38;5;124m'\u001b[39m\u001b[38;5;124munknown mode parameter: \u001b[39m\u001b[38;5;124m\"\u001b[39m\u001b[38;5;132;01m{\u001b[39;00mmode\u001b[38;5;132;01m}\u001b[39;00m\u001b[38;5;124m\"\u001b[39m\u001b[38;5;124m'\u001b[39m)\n",
      "File \u001b[0;32m/usr/local/ivan/Unito/conda/envs/hive/lib/python3.8/site-packages/sklearn/model_selection/_search.py:874\u001b[0m, in \u001b[0;36mBaseSearchCV.fit\u001b[0;34m(self, X, y, groups, **fit_params)\u001b[0m\n\u001b[1;32m    868\u001b[0m     results \u001b[38;5;241m=\u001b[39m \u001b[38;5;28mself\u001b[39m\u001b[38;5;241m.\u001b[39m_format_results(\n\u001b[1;32m    869\u001b[0m         all_candidate_params, n_splits, all_out, all_more_results\n\u001b[1;32m    870\u001b[0m     )\n\u001b[1;32m    872\u001b[0m     \u001b[38;5;28;01mreturn\u001b[39;00m results\n\u001b[0;32m--> 874\u001b[0m \u001b[38;5;28;43mself\u001b[39;49m\u001b[38;5;241;43m.\u001b[39;49m\u001b[43m_run_search\u001b[49m\u001b[43m(\u001b[49m\u001b[43mevaluate_candidates\u001b[49m\u001b[43m)\u001b[49m\n\u001b[1;32m    876\u001b[0m \u001b[38;5;66;03m# multimetric is determined here because in the case of a callable\u001b[39;00m\n\u001b[1;32m    877\u001b[0m \u001b[38;5;66;03m# self.scoring the return type is only known after calling\u001b[39;00m\n\u001b[1;32m    878\u001b[0m first_test_score \u001b[38;5;241m=\u001b[39m all_out[\u001b[38;5;241m0\u001b[39m][\u001b[38;5;124m\"\u001b[39m\u001b[38;5;124mtest_scores\u001b[39m\u001b[38;5;124m\"\u001b[39m]\n",
      "File \u001b[0;32m/usr/local/ivan/Unito/conda/envs/hive/lib/python3.8/site-packages/sklearn/model_selection/_search.py:1388\u001b[0m, in \u001b[0;36mGridSearchCV._run_search\u001b[0;34m(self, evaluate_candidates)\u001b[0m\n\u001b[1;32m   1386\u001b[0m \u001b[38;5;28;01mdef\u001b[39;00m \u001b[38;5;21m_run_search\u001b[39m(\u001b[38;5;28mself\u001b[39m, evaluate_candidates):\n\u001b[1;32m   1387\u001b[0m \u001b[38;5;250m    \u001b[39m\u001b[38;5;124;03m\"\"\"Search all candidates in param_grid\"\"\"\u001b[39;00m\n\u001b[0;32m-> 1388\u001b[0m     \u001b[43mevaluate_candidates\u001b[49m\u001b[43m(\u001b[49m\u001b[43mParameterGrid\u001b[49m\u001b[43m(\u001b[49m\u001b[38;5;28;43mself\u001b[39;49m\u001b[38;5;241;43m.\u001b[39;49m\u001b[43mparam_grid\u001b[49m\u001b[43m)\u001b[49m\u001b[43m)\u001b[49m\n",
      "File \u001b[0;32m/usr/local/ivan/Unito/conda/envs/hive/lib/python3.8/site-packages/sklearn/model_selection/_search.py:821\u001b[0m, in \u001b[0;36mBaseSearchCV.fit.<locals>.evaluate_candidates\u001b[0;34m(candidate_params, cv, more_results)\u001b[0m\n\u001b[1;32m    813\u001b[0m \u001b[38;5;28;01mif\u001b[39;00m \u001b[38;5;28mself\u001b[39m\u001b[38;5;241m.\u001b[39mverbose \u001b[38;5;241m>\u001b[39m \u001b[38;5;241m0\u001b[39m:\n\u001b[1;32m    814\u001b[0m     \u001b[38;5;28mprint\u001b[39m(\n\u001b[1;32m    815\u001b[0m         \u001b[38;5;124m\"\u001b[39m\u001b[38;5;124mFitting \u001b[39m\u001b[38;5;132;01m{0}\u001b[39;00m\u001b[38;5;124m folds for each of \u001b[39m\u001b[38;5;132;01m{1}\u001b[39;00m\u001b[38;5;124m candidates,\u001b[39m\u001b[38;5;124m\"\u001b[39m\n\u001b[1;32m    816\u001b[0m         \u001b[38;5;124m\"\u001b[39m\u001b[38;5;124m totalling \u001b[39m\u001b[38;5;132;01m{2}\u001b[39;00m\u001b[38;5;124m fits\u001b[39m\u001b[38;5;124m\"\u001b[39m\u001b[38;5;241m.\u001b[39mformat(\n\u001b[1;32m    817\u001b[0m             n_splits, n_candidates, n_candidates \u001b[38;5;241m*\u001b[39m n_splits\n\u001b[1;32m    818\u001b[0m         )\n\u001b[1;32m    819\u001b[0m     )\n\u001b[0;32m--> 821\u001b[0m out \u001b[38;5;241m=\u001b[39m \u001b[43mparallel\u001b[49m\u001b[43m(\u001b[49m\n\u001b[1;32m    822\u001b[0m \u001b[43m    \u001b[49m\u001b[43mdelayed\u001b[49m\u001b[43m(\u001b[49m\u001b[43m_fit_and_score\u001b[49m\u001b[43m)\u001b[49m\u001b[43m(\u001b[49m\n\u001b[1;32m    823\u001b[0m \u001b[43m        \u001b[49m\u001b[43mclone\u001b[49m\u001b[43m(\u001b[49m\u001b[43mbase_estimator\u001b[49m\u001b[43m)\u001b[49m\u001b[43m,\u001b[49m\n\u001b[1;32m    824\u001b[0m \u001b[43m        \u001b[49m\u001b[43mX\u001b[49m\u001b[43m,\u001b[49m\n\u001b[1;32m    825\u001b[0m \u001b[43m        \u001b[49m\u001b[43my\u001b[49m\u001b[43m,\u001b[49m\n\u001b[1;32m    826\u001b[0m \u001b[43m        \u001b[49m\u001b[43mtrain\u001b[49m\u001b[38;5;241;43m=\u001b[39;49m\u001b[43mtrain\u001b[49m\u001b[43m,\u001b[49m\n\u001b[1;32m    827\u001b[0m \u001b[43m        \u001b[49m\u001b[43mtest\u001b[49m\u001b[38;5;241;43m=\u001b[39;49m\u001b[43mtest\u001b[49m\u001b[43m,\u001b[49m\n\u001b[1;32m    828\u001b[0m \u001b[43m        \u001b[49m\u001b[43mparameters\u001b[49m\u001b[38;5;241;43m=\u001b[39;49m\u001b[43mparameters\u001b[49m\u001b[43m,\u001b[49m\n\u001b[1;32m    829\u001b[0m \u001b[43m        \u001b[49m\u001b[43msplit_progress\u001b[49m\u001b[38;5;241;43m=\u001b[39;49m\u001b[43m(\u001b[49m\u001b[43msplit_idx\u001b[49m\u001b[43m,\u001b[49m\u001b[43m \u001b[49m\u001b[43mn_splits\u001b[49m\u001b[43m)\u001b[49m\u001b[43m,\u001b[49m\n\u001b[1;32m    830\u001b[0m \u001b[43m        \u001b[49m\u001b[43mcandidate_progress\u001b[49m\u001b[38;5;241;43m=\u001b[39;49m\u001b[43m(\u001b[49m\u001b[43mcand_idx\u001b[49m\u001b[43m,\u001b[49m\u001b[43m \u001b[49m\u001b[43mn_candidates\u001b[49m\u001b[43m)\u001b[49m\u001b[43m,\u001b[49m\n\u001b[1;32m    831\u001b[0m \u001b[43m        \u001b[49m\u001b[38;5;241;43m*\u001b[39;49m\u001b[38;5;241;43m*\u001b[39;49m\u001b[43mfit_and_score_kwargs\u001b[49m\u001b[43m,\u001b[49m\n\u001b[1;32m    832\u001b[0m \u001b[43m    \u001b[49m\u001b[43m)\u001b[49m\n\u001b[1;32m    833\u001b[0m \u001b[43m    \u001b[49m\u001b[38;5;28;43;01mfor\u001b[39;49;00m\u001b[43m \u001b[49m\u001b[43m(\u001b[49m\u001b[43mcand_idx\u001b[49m\u001b[43m,\u001b[49m\u001b[43m \u001b[49m\u001b[43mparameters\u001b[49m\u001b[43m)\u001b[49m\u001b[43m,\u001b[49m\u001b[43m \u001b[49m\u001b[43m(\u001b[49m\u001b[43msplit_idx\u001b[49m\u001b[43m,\u001b[49m\u001b[43m \u001b[49m\u001b[43m(\u001b[49m\u001b[43mtrain\u001b[49m\u001b[43m,\u001b[49m\u001b[43m \u001b[49m\u001b[43mtest\u001b[49m\u001b[43m)\u001b[49m\u001b[43m)\u001b[49m\u001b[43m \u001b[49m\u001b[38;5;129;43;01min\u001b[39;49;00m\u001b[43m \u001b[49m\u001b[43mproduct\u001b[49m\u001b[43m(\u001b[49m\n\u001b[1;32m    834\u001b[0m \u001b[43m        \u001b[49m\u001b[38;5;28;43menumerate\u001b[39;49m\u001b[43m(\u001b[49m\u001b[43mcandidate_params\u001b[49m\u001b[43m)\u001b[49m\u001b[43m,\u001b[49m\u001b[43m \u001b[49m\u001b[38;5;28;43menumerate\u001b[39;49m\u001b[43m(\u001b[49m\u001b[43mcv\u001b[49m\u001b[38;5;241;43m.\u001b[39;49m\u001b[43msplit\u001b[49m\u001b[43m(\u001b[49m\u001b[43mX\u001b[49m\u001b[43m,\u001b[49m\u001b[43m \u001b[49m\u001b[43my\u001b[49m\u001b[43m,\u001b[49m\u001b[43m \u001b[49m\u001b[43mgroups\u001b[49m\u001b[43m)\u001b[49m\u001b[43m)\u001b[49m\n\u001b[1;32m    835\u001b[0m \u001b[43m    \u001b[49m\u001b[43m)\u001b[49m\n\u001b[1;32m    836\u001b[0m \u001b[43m\u001b[49m\u001b[43m)\u001b[49m\n\u001b[1;32m    838\u001b[0m \u001b[38;5;28;01mif\u001b[39;00m \u001b[38;5;28mlen\u001b[39m(out) \u001b[38;5;241m<\u001b[39m \u001b[38;5;241m1\u001b[39m:\n\u001b[1;32m    839\u001b[0m     \u001b[38;5;28;01mraise\u001b[39;00m \u001b[38;5;167;01mValueError\u001b[39;00m(\n\u001b[1;32m    840\u001b[0m         \u001b[38;5;124m\"\u001b[39m\u001b[38;5;124mNo fits were performed. \u001b[39m\u001b[38;5;124m\"\u001b[39m\n\u001b[1;32m    841\u001b[0m         \u001b[38;5;124m\"\u001b[39m\u001b[38;5;124mWas the CV iterator empty? \u001b[39m\u001b[38;5;124m\"\u001b[39m\n\u001b[1;32m    842\u001b[0m         \u001b[38;5;124m\"\u001b[39m\u001b[38;5;124mWere there no candidates?\u001b[39m\u001b[38;5;124m\"\u001b[39m\n\u001b[1;32m    843\u001b[0m     )\n",
      "File \u001b[0;32m/usr/local/ivan/Unito/conda/envs/hive/lib/python3.8/site-packages/sklearn/utils/parallel.py:63\u001b[0m, in \u001b[0;36mParallel.__call__\u001b[0;34m(self, iterable)\u001b[0m\n\u001b[1;32m     58\u001b[0m config \u001b[38;5;241m=\u001b[39m get_config()\n\u001b[1;32m     59\u001b[0m iterable_with_config \u001b[38;5;241m=\u001b[39m (\n\u001b[1;32m     60\u001b[0m     (_with_config(delayed_func, config), args, kwargs)\n\u001b[1;32m     61\u001b[0m     \u001b[38;5;28;01mfor\u001b[39;00m delayed_func, args, kwargs \u001b[38;5;129;01min\u001b[39;00m iterable\n\u001b[1;32m     62\u001b[0m )\n\u001b[0;32m---> 63\u001b[0m \u001b[38;5;28;01mreturn\u001b[39;00m \u001b[38;5;28;43msuper\u001b[39;49m\u001b[43m(\u001b[49m\u001b[43m)\u001b[49m\u001b[38;5;241;43m.\u001b[39;49m\u001b[38;5;21;43m__call__\u001b[39;49m\u001b[43m(\u001b[49m\u001b[43miterable_with_config\u001b[49m\u001b[43m)\u001b[49m\n",
      "File \u001b[0;32m/usr/local/ivan/Unito/conda/envs/hive/lib/python3.8/site-packages/joblib/parallel.py:1952\u001b[0m, in \u001b[0;36mParallel.__call__\u001b[0;34m(self, iterable)\u001b[0m\n\u001b[1;32m   1946\u001b[0m \u001b[38;5;66;03m# The first item from the output is blank, but it makes the interpreter\u001b[39;00m\n\u001b[1;32m   1947\u001b[0m \u001b[38;5;66;03m# progress until it enters the Try/Except block of the generator and\u001b[39;00m\n\u001b[1;32m   1948\u001b[0m \u001b[38;5;66;03m# reach the first `yield` statement. This starts the aynchronous\u001b[39;00m\n\u001b[1;32m   1949\u001b[0m \u001b[38;5;66;03m# dispatch of the tasks to the workers.\u001b[39;00m\n\u001b[1;32m   1950\u001b[0m \u001b[38;5;28mnext\u001b[39m(output)\n\u001b[0;32m-> 1952\u001b[0m \u001b[38;5;28;01mreturn\u001b[39;00m output \u001b[38;5;28;01mif\u001b[39;00m \u001b[38;5;28mself\u001b[39m\u001b[38;5;241m.\u001b[39mreturn_generator \u001b[38;5;28;01melse\u001b[39;00m \u001b[38;5;28;43mlist\u001b[39;49m\u001b[43m(\u001b[49m\u001b[43moutput\u001b[49m\u001b[43m)\u001b[49m\n",
      "File \u001b[0;32m/usr/local/ivan/Unito/conda/envs/hive/lib/python3.8/site-packages/joblib/parallel.py:1595\u001b[0m, in \u001b[0;36mParallel._get_outputs\u001b[0;34m(self, iterator, pre_dispatch)\u001b[0m\n\u001b[1;32m   1592\u001b[0m     \u001b[38;5;28;01myield\u001b[39;00m\n\u001b[1;32m   1594\u001b[0m     \u001b[38;5;28;01mwith\u001b[39;00m \u001b[38;5;28mself\u001b[39m\u001b[38;5;241m.\u001b[39m_backend\u001b[38;5;241m.\u001b[39mretrieval_context():\n\u001b[0;32m-> 1595\u001b[0m         \u001b[38;5;28;01myield from\u001b[39;00m \u001b[38;5;28mself\u001b[39m\u001b[38;5;241m.\u001b[39m_retrieve()\n\u001b[1;32m   1597\u001b[0m \u001b[38;5;28;01mexcept\u001b[39;00m \u001b[38;5;167;01mGeneratorExit\u001b[39;00m:\n\u001b[1;32m   1598\u001b[0m     \u001b[38;5;66;03m# The generator has been garbage collected before being fully\u001b[39;00m\n\u001b[1;32m   1599\u001b[0m     \u001b[38;5;66;03m# consumed. This aborts the remaining tasks if possible and warn\u001b[39;00m\n\u001b[1;32m   1600\u001b[0m     \u001b[38;5;66;03m# the user if necessary.\u001b[39;00m\n\u001b[1;32m   1601\u001b[0m     \u001b[38;5;28mself\u001b[39m\u001b[38;5;241m.\u001b[39m_exception \u001b[38;5;241m=\u001b[39m \u001b[38;5;28;01mTrue\u001b[39;00m\n",
      "File \u001b[0;32m/usr/local/ivan/Unito/conda/envs/hive/lib/python3.8/site-packages/joblib/parallel.py:1707\u001b[0m, in \u001b[0;36mParallel._retrieve\u001b[0;34m(self)\u001b[0m\n\u001b[1;32m   1702\u001b[0m \u001b[38;5;66;03m# If the next job is not ready for retrieval yet, we just wait for\u001b[39;00m\n\u001b[1;32m   1703\u001b[0m \u001b[38;5;66;03m# async callbacks to progress.\u001b[39;00m\n\u001b[1;32m   1704\u001b[0m \u001b[38;5;28;01mif\u001b[39;00m ((\u001b[38;5;28mlen\u001b[39m(\u001b[38;5;28mself\u001b[39m\u001b[38;5;241m.\u001b[39m_jobs) \u001b[38;5;241m==\u001b[39m \u001b[38;5;241m0\u001b[39m) \u001b[38;5;129;01mor\u001b[39;00m\n\u001b[1;32m   1705\u001b[0m     (\u001b[38;5;28mself\u001b[39m\u001b[38;5;241m.\u001b[39m_jobs[\u001b[38;5;241m0\u001b[39m]\u001b[38;5;241m.\u001b[39mget_status(\n\u001b[1;32m   1706\u001b[0m         timeout\u001b[38;5;241m=\u001b[39m\u001b[38;5;28mself\u001b[39m\u001b[38;5;241m.\u001b[39mtimeout) \u001b[38;5;241m==\u001b[39m TASK_PENDING)):\n\u001b[0;32m-> 1707\u001b[0m     \u001b[43mtime\u001b[49m\u001b[38;5;241;43m.\u001b[39;49m\u001b[43msleep\u001b[49m\u001b[43m(\u001b[49m\u001b[38;5;241;43m0.01\u001b[39;49m\u001b[43m)\u001b[49m\n\u001b[1;32m   1708\u001b[0m     \u001b[38;5;28;01mcontinue\u001b[39;00m\n\u001b[1;32m   1710\u001b[0m \u001b[38;5;66;03m# We need to be careful: the job list can be filling up as\u001b[39;00m\n\u001b[1;32m   1711\u001b[0m \u001b[38;5;66;03m# we empty it and Python list are not thread-safe by\u001b[39;00m\n\u001b[1;32m   1712\u001b[0m \u001b[38;5;66;03m# default hence the use of the lock\u001b[39;00m\n",
      "\u001b[0;31mKeyboardInterrupt\u001b[0m: "
     ]
    }
   ],
   "source": [
    "opt_coxnet, opt_coxnet_params, opt_coxnet_search = optimize(survhive.CoxNet(), X_train, y_train, \n",
    "                                                           cv=survhive.survival_crossval_splitter(X_train,y_train,rng_seed=2309))\n",
    "opt_coxnet.score(X_test, y_test), opt_coxnet_params"
   ]
  },
  {
   "cell_type": "code",
   "execution_count": null,
   "id": "2cc893c3",
   "metadata": {},
   "outputs": [],
   "source": [
    "opt_coxnet, opt_coxnet_params, opt_coxnet_search = optimize(survhive.CoxNet(), X_train, y_train, user_grid={'l1_ratio':[0.01,0.25,0.5,0.75,0.8,0.99]},\n",
    "                                                           cv=RepeatedStratifiedKFold(n_splits=5, n_repeats=2, random_state=2308).split(X_train,survhive.get_indicator(y_train)))\n",
    "opt_coxnet.score(X_test, y_test), opt_coxnet_params"
   ]
  },
  {
   "cell_type": "code",
   "execution_count": 54,
   "id": "177ee806-9966-4596-b49f-8d82bc729865",
   "metadata": {},
   "outputs": [],
   "source": [
    "def test_model(model_constructor, **model_params):\n",
    "    m = model_constructor(**model_params)\n",
    "    m.fit(X_train, y_train)\n",
    "    o = m.score(X_train, y_train)\n",
    "    s = m.score(X_test, y_test)\n",
    "    print(f'Train: {o: .4f} , Test: {s:.4f}')\n",
    "    return s"
   ]
  },
  {
   "cell_type": "markdown",
   "id": "2fd37d08-ee4e-4bea-8a6d-2c6b8cbd5c8d",
   "metadata": {},
   "source": [
    "# Test DSM"
   ]
  },
  {
   "cell_type": "code",
   "execution_count": 26,
   "id": "5f760708-c608-4281-b7e0-c17b043053de",
   "metadata": {},
   "outputs": [
    {
     "data": {
      "text/plain": [
       "{'n_distr': [2],\n",
       " 'distr_kind': ['Weibull'],\n",
       " 'batch_size': [16],\n",
       " 'layer_sizes': [[10]],\n",
       " 'learning_rate': [0.001],\n",
       " 'validation_size': [0.1],\n",
       " 'max_epochs': [10],\n",
       " 'elbo': [False]}"
      ]
     },
     "execution_count": 26,
     "metadata": {},
     "output_type": "execute_result"
    }
   ],
   "source": [
    "grid =survhive.DeepSurvivalMachines.get_parameter_grid()\n",
    "grid"
   ]
  },
  {
   "cell_type": "code",
   "execution_count": 27,
   "id": "a1bb0097",
   "metadata": {},
   "outputs": [
    {
     "name": "stderr",
     "output_type": "stream",
     "text": [
      " 50%|█████████████████████████████████████████████████████████████▉                                                             | 5032/10000 [00:04<00:04, 1147.91it/s]\n",
      "  3%|███▉                                                                                                                              | 6/200 [00:00<00:08, 22.40it/s]"
     ]
    },
    {
     "name": "stdout",
     "output_type": "stream",
     "text": [
      "Train:  0.7693 , Test: 0.6302\n"
     ]
    },
    {
     "name": "stderr",
     "output_type": "stream",
     "text": [
      "\n"
     ]
    },
    {
     "data": {
      "text/plain": [
       "0.6301652892561983"
      ]
     },
     "execution_count": 27,
     "metadata": {},
     "output_type": "execute_result"
    }
   ],
   "source": [
    "test_model(survhive.DeepSurvivalMachines, batch_size=16, layer_sizes=[16], n_distr=2, max_epochs=200)"
   ]
  },
  {
   "cell_type": "code",
   "execution_count": 28,
   "id": "931e5ff4-5503-4b97-8a7d-8f5b75e389cc",
   "metadata": {},
   "outputs": [
    {
     "name": "stderr",
     "output_type": "stream",
     "text": [
      " 50%|█████████████████████████████████████████████████████████████▉                                                             | 5032/10000 [00:04<00:04, 1131.30it/s]\n",
      " 10%|████████████▎                                                                                                                    | 19/200 [00:00<00:04, 39.99it/s]"
     ]
    },
    {
     "name": "stdout",
     "output_type": "stream",
     "text": [
      "Train:  0.8681 , Test: 0.6467\n"
     ]
    },
    {
     "name": "stderr",
     "output_type": "stream",
     "text": [
      "\n"
     ]
    },
    {
     "data": {
      "text/plain": [
       "0.6466942148760331"
      ]
     },
     "execution_count": 28,
     "metadata": {},
     "output_type": "execute_result"
    }
   ],
   "source": [
    "test_model(survhive.DeepSurvivalMachines, batch_size=16, layer_sizes=[7,7,7], n_distr=2, max_epochs=200)"
   ]
  },
  {
   "cell_type": "code",
   "execution_count": 29,
   "id": "60be1a27-6f73-43e1-bdc8-21616bed7143",
   "metadata": {},
   "outputs": [
    {
     "name": "stderr",
     "output_type": "stream",
     "text": [
      " 50%|█████████████████████████████████████████████████████████████▉                                                             | 5032/10000 [00:04<00:04, 1142.03it/s]\n",
      "  9%|███████████▌                                                                                                                     | 18/200 [00:00<00:04, 37.12it/s]"
     ]
    },
    {
     "name": "stdout",
     "output_type": "stream",
     "text": [
      "Train:  0.7767 , Test: 0.6085\n"
     ]
    },
    {
     "name": "stderr",
     "output_type": "stream",
     "text": [
      "\n"
     ]
    },
    {
     "data": {
      "text/plain": [
       "0.6084710743801653"
      ]
     },
     "execution_count": 29,
     "metadata": {},
     "output_type": "execute_result"
    }
   ],
   "source": [
    "test_model(survhive.DeepSurvivalMachines, batch_size=16, layer_sizes=[5]*5, n_distr=2, max_epochs=200)"
   ]
  },
  {
   "cell_type": "code",
   "execution_count": 30,
   "id": "8a8cb18b",
   "metadata": {},
   "outputs": [
    {
     "name": "stderr",
     "output_type": "stream",
     "text": [
      " 50%|█████████████████████████████████████████████████████████████▉                                                             | 5032/10000 [00:04<00:04, 1151.30it/s]\n",
      "  3%|███▉                                                                                                                              | 6/200 [00:00<00:07, 27.64it/s]"
     ]
    },
    {
     "name": "stdout",
     "output_type": "stream",
     "text": [
      "Train:  0.7555 , Test: 0.5971\n"
     ]
    },
    {
     "name": "stderr",
     "output_type": "stream",
     "text": [
      "\n"
     ]
    },
    {
     "data": {
      "text/plain": [
       "0.5971074380165289"
      ]
     },
     "execution_count": 30,
     "metadata": {},
     "output_type": "execute_result"
    }
   ],
   "source": [
    "test_model(survhive.DeepSurvivalMachines,layer_sizes=[41], max_epochs=200)"
   ]
  },
  {
   "cell_type": "code",
   "execution_count": 31,
   "id": "5db2f376-1589-4e41-a45b-8aca88521d0a",
   "metadata": {},
   "outputs": [
    {
     "data": {
      "text/plain": [
       "{'n_distr': [1],\n",
       " 'distr_kind': ['Weibull'],\n",
       " 'batch_size': [16],\n",
       " 'layer_sizes': [[3],\n",
       "  [5],\n",
       "  [7],\n",
       "  [11],\n",
       "  [13],\n",
       "  [17],\n",
       "  [19],\n",
       "  [23],\n",
       "  [29],\n",
       "  [31],\n",
       "  [37],\n",
       "  [3, 3, 3],\n",
       "  [5, 5, 5],\n",
       "  [7, 7, 7],\n",
       "  [11, 11, 11],\n",
       "  [13, 13, 13],\n",
       "  [17, 17, 17],\n",
       "  [19, 19, 19],\n",
       "  [23, 23, 23],\n",
       "  [29, 29, 29],\n",
       "  [31, 31, 31],\n",
       "  [37, 37, 37]],\n",
       " 'learning_rate': [0.001],\n",
       " 'validation_size': [0.1],\n",
       " 'max_epochs': [200],\n",
       " 'elbo': [False]}"
      ]
     },
     "execution_count": 31,
     "metadata": {},
     "output_type": "execute_result"
    }
   ],
   "source": [
    "grid['n_distr']=[1]\n",
    "some_primes = [3,5,7,11,13,17,19,23,29,31,37]\n",
    "grid['layer_sizes']=[ [_] for _ in some_primes] + [ [_]*3 for _ in some_primes]\n",
    "    #[31]*2,[29]*2,[27]*2, [25]*2, [23]*2, [21]*2, [19]*2, [17]*3, [15]*3, \n",
    "     #                [12]*4, [10]*5, [8]*6, [7]*7, ]\n",
    "    #[40],[30,30], [30], [23,23], [13,13,13], [25],[11,11,11],[20],[9,9,9], \n",
    "                     #[15],[7,7,7],[10],[5,5,5]]\n",
    "                     #[16],[14,14], [7,7,7]]\n",
    "grid['max_epochs']=[200]\n",
    "grid['batch_size']=[16]\n",
    "grid"
   ]
  },
  {
   "cell_type": "code",
   "execution_count": 32,
   "id": "360b059e-fd0a-41ee-aa5a-ba940f7300ce",
   "metadata": {},
   "outputs": [],
   "source": [
    "from sklearn.model_selection import RepeatedKFold "
   ]
  },
  {
   "cell_type": "code",
   "execution_count": 33,
   "id": "5e24ac45",
   "metadata": {},
   "outputs": [],
   "source": [
    "# Non stratified CV\n",
    "#opt_dsm, opt_dsm_params, opt_dsm_search = optimize(survhive.DeepSurvivalMachines(rng_seed=2308),  X_train, y_train, \n",
    "#                                                   user_grid=grid,cv=RepeatedKFold(n_splits=5, n_repeats=3, random_state=2308))\n",
    "#opt_dsm.score(X_test, y_test), opt_dsm_params"
   ]
  },
  {
   "cell_type": "code",
   "execution_count": 34,
   "id": "6b2fb365-dd6e-4e05-b3fc-6c18c950221a",
   "metadata": {},
   "outputs": [
    {
     "name": "stderr",
     "output_type": "stream",
     "text": [
      " 35%|███▌      | 3536/10000 [00:03<00:05, 1165.41it/s]\n",
      " 20%|██        | 40/200 [00:00<00:01, 80.31it/s]5it/s]\n",
      " 47%|████▋     | 4689/10000 [00:04<00:04, 1155.21it/s]\n",
      " 48%|████▊     | 4777/10000 [00:04<00:04, 1159.25it/s]\n",
      "  2%|▏         | 3/200 [00:00<00:07, 26.15it/s]7it/s]\n",
      "  2%|▏         | 3/200 [00:00<00:07, 24.94it/s]\n",
      " 35%|███▍      | 3482/10000 [00:02<00:05, 1180.24it/s]\n",
      " 20%|█▉        | 39/200 [00:00<00:02, 79.31it/s]8it/s]\n",
      " 34%|███▍      | 3397/10000 [00:02<00:05, 1161.80it/s]\n",
      "  2%|▏         | 3/200 [00:00<00:07, 27.08it/s]64it/s]\n",
      " 50%|█████     | 5045/10000 [00:04<00:04, 1147.44it/s]\n",
      "  8%|▊         | 15/200 [00:00<00:03, 56.19it/s]6it/s]\n",
      " 35%|███▌      | 3509/10000 [00:03<00:05, 1151.97it/s]\n",
      " 17%|█▋        | 34/200 [00:00<00:02, 77.04it/s]2it/s]\n",
      " 49%|████▉     | 4911/10000 [00:04<00:04, 1141.63it/s]\n",
      "  6%|▋         | 13/200 [00:00<00:03, 57.66it/s]5it/s]\n",
      " 34%|███▍      | 3378/10000 [00:02<00:05, 1136.82it/s]\n",
      " 14%|█▎        | 27/200 [00:00<00:02, 70.58it/s]it/s]]\n",
      " 36%|███▌      | 3614/10000 [00:03<00:05, 1160.69it/s]\n",
      " 26%|██▌       | 51/200 [00:00<00:01, 82.37it/s]9it/s]\n",
      " 35%|███▌      | 3536/10000 [00:03<00:05, 1143.91it/s]\n",
      "  2%|▏         | 3/200 [00:00<00:07, 27.32it/s]78it/s]\n",
      " 48%|████▊     | 4777/10000 [00:04<00:04, 1127.89it/s]\n",
      " 27%|██▋       | 54/200 [00:00<00:01, 80.50it/s]6it/s]\n",
      " 35%|███▍      | 3482/10000 [00:03<00:05, 1139.70it/s]\n",
      " 47%|████▋     | 4689/10000 [00:04<00:04, 1162.33it/s]\n",
      "  6%|▋         | 13/200 [00:00<00:03, 58.46it/s]2it/s]\n",
      " 26%|██▌       | 52/200 [00:00<00:01, 78.27it/s]it/s]]\n",
      " 34%|███▍      | 3397/10000 [00:02<00:05, 1166.01it/s]\n",
      "  2%|▏         | 3/200 [00:00<00:07, 27.52it/s]79it/s]\n",
      " 50%|█████     | 5045/10000 [00:04<00:04, 1108.56it/s]\n",
      " 35%|███▌      | 3509/10000 [00:03<00:05, 1138.06it/s]\n",
      "  2%|▏         | 3/200 [00:00<00:09, 20.61it/s]4it/s]\n",
      " 10%|█         | 21/200 [00:00<00:03, 52.92it/s]it/s]\n",
      " 34%|███▍      | 3378/10000 [00:03<00:06, 1100.14it/s]\n",
      " 36%|███▌      | 3614/10000 [00:03<00:05, 1121.53it/s]\n",
      " 10%|█         | 20/200 [00:00<00:02, 66.49it/s]8it/s]\n",
      "  2%|▏         | 3/200 [00:00<00:07, 24.98it/s]29it/s]\n",
      " 49%|████▉     | 4911/10000 [00:04<00:04, 1134.45it/s]\n",
      " 10%|█         | 20/200 [00:00<00:02, 68.14it/s]it/s]\n",
      " 35%|███▌      | 3536/10000 [00:03<00:05, 1166.58it/s]\n",
      "  2%|▏         | 3/200 [00:00<00:07, 26.57it/s]90it/s]\n",
      " 48%|████▊     | 4777/10000 [00:04<00:04, 1158.70it/s]\n",
      " 22%|██▏       | 43/200 [00:00<00:02, 78.34it/s]5it/s]\n",
      " 47%|████▋     | 4689/10000 [00:04<00:04, 1171.29it/s]\n",
      "  4%|▎         | 7/200 [00:00<00:04, 43.70it/s]1it/s]]\n",
      " 35%|███▍      | 3482/10000 [00:02<00:05, 1168.67it/s]\n",
      " 22%|██▎       | 45/200 [00:00<00:01, 78.68it/s]3it/s]\n",
      " 34%|███▍      | 3397/10000 [00:02<00:05, 1181.44it/s]\n",
      "  7%|▋         | 14/200 [00:00<00:03, 59.59it/s]6it/s]\n",
      " 50%|█████     | 5045/10000 [00:04<00:04, 1156.83it/s]\n",
      "  6%|▌         | 12/200 [00:00<00:03, 54.98it/s]1it/s]\n",
      " 35%|███▌      | 3509/10000 [00:03<00:05, 1156.47it/s]\n",
      "  2%|▏         | 3/200 [00:00<00:07, 25.28it/s]6it/s]]\n",
      " 49%|████▉     | 4911/10000 [00:04<00:04, 1173.38it/s]\n",
      " 34%|███▍      | 3378/10000 [00:02<00:05, 1143.40it/s]\n",
      "  6%|▌         | 11/200 [00:00<00:03, 54.81it/s]1it/s]\n",
      " 15%|█▌        | 30/200 [00:00<00:02, 72.80it/s]it/s]]\n",
      " 36%|███▌      | 3614/10000 [00:03<00:05, 1166.54it/s]\n",
      "  8%|▊         | 17/200 [00:00<00:02, 65.21it/s]it/s]\n",
      " 35%|███▌      | 3536/10000 [00:02<00:05, 1180.57it/s]\n",
      "  7%|▋         | 14/200 [00:00<00:03, 59.83it/s]4it/s]\n",
      " 48%|████▊     | 4777/10000 [00:04<00:04, 1155.23it/s]\n",
      "  8%|▊         | 17/200 [00:00<00:03, 59.57it/s]4it/s]\n",
      " 47%|████▋     | 4689/10000 [00:04<00:04, 1160.44it/s]\n",
      "  4%|▎         | 7/200 [00:00<00:04, 43.98it/s]53it/s]\n",
      " 35%|███▍      | 3482/10000 [00:02<00:05, 1166.86it/s]\n",
      " 28%|██▊       | 57/200 [00:00<00:01, 80.74it/s]1it/s]\n",
      " 34%|███▍      | 3397/10000 [00:02<00:05, 1166.27it/s]\n",
      " 20%|█▉        | 39/200 [00:00<00:02, 77.53it/s]9it/s]\n",
      " 50%|█████     | 5045/10000 [00:04<00:04, 1157.81it/s]\n",
      "  4%|▍         | 8/200 [00:00<00:04, 46.96it/s]47it/s]\n",
      " 35%|███▌      | 3509/10000 [00:02<00:05, 1180.91it/s]\n",
      " 12%|█▏        | 23/200 [00:00<00:02, 70.55it/s]7it/s]\n",
      " 34%|███▍      | 3378/10000 [00:02<00:05, 1165.35it/s]\n",
      " 49%|████▉     | 4911/10000 [00:04<00:04, 1157.05it/s]\n",
      "  4%|▍         | 9/200 [00:00<00:03, 51.46it/s]44it/s]\n",
      " 38%|███▊      | 77/200 [00:00<00:01, 83.27it/s]8it/s]\n",
      " 36%|███▌      | 3614/10000 [00:03<00:05, 1171.38it/s]\n",
      " 15%|█▌        | 30/200 [00:00<00:02, 74.93it/s]it/s]\n",
      " 35%|███▌      | 3536/10000 [00:03<00:05, 1156.37it/s]\n",
      " 10%|█         | 20/200 [00:00<00:02, 66.10it/s]1it/s]\n",
      " 48%|████▊     | 4777/10000 [00:04<00:04, 1163.17it/s]\n",
      " 17%|█▋        | 34/200 [00:00<00:02, 74.08it/s]0it/s]\n",
      " 47%|████▋     | 4689/10000 [00:03<00:04, 1173.98it/s]\n",
      "  5%|▌         | 10/200 [00:00<00:03, 52.98it/s]0it/s]\n",
      " 35%|███▍      | 3482/10000 [00:03<00:05, 1156.99it/s]\n",
      " 29%|██▉       | 58/200 [00:00<00:01, 79.84it/s]8it/s]\n",
      " 34%|███▍      | 3397/10000 [00:02<00:05, 1183.48it/s]\n",
      " 16%|█▌        | 31/200 [00:00<00:02, 75.34it/s]6it/s]\n",
      " 50%|█████     | 5045/10000 [00:04<00:04, 1156.88it/s]\n",
      "  5%|▌         | 10/200 [00:00<00:03, 50.85it/s]6it/s]\n",
      " 35%|███▌      | 3509/10000 [00:03<00:05, 1161.06it/s]\n",
      " 18%|█▊        | 36/200 [00:00<00:02, 76.19it/s]8it/s]\n",
      " 34%|███▍      | 3378/10000 [00:02<00:05, 1162.85it/s]\n",
      " 10%|█         | 20/200 [00:00<00:02, 64.07it/s]8it/s]\n",
      " 49%|████▉     | 4911/10000 [00:04<00:04, 1176.39it/s]\n",
      " 14%|█▎        | 27/200 [00:00<00:02, 66.29it/s]7it/s]\n",
      " 36%|███▌      | 3614/10000 [00:03<00:05, 1107.48it/s]\n",
      " 10%|█         | 21/200 [00:00<00:02, 62.22it/s]1it/s]\n",
      " 35%|███▌      | 3536/10000 [00:03<00:05, 1121.32it/s]\n",
      "  4%|▍         | 9/200 [00:00<00:04, 46.78it/s]18it/s]\n",
      " 48%|████▊     | 4777/10000 [00:04<00:04, 1151.05it/s]\n",
      "  8%|▊         | 15/200 [00:00<00:03, 60.05it/s]0it/s]\n",
      " 47%|████▋     | 4689/10000 [00:04<00:04, 1147.58it/s]\n",
      "  3%|▎         | 6/200 [00:00<00:04, 41.62it/s]66it/s]\n",
      " 35%|███▍      | 3482/10000 [00:02<00:05, 1163.57it/s]\n",
      " 18%|█▊        | 35/200 [00:00<00:02, 73.79it/s]6it/s]\n",
      " 34%|███▍      | 3397/10000 [00:02<00:05, 1155.11it/s]\n",
      " 50%|█████     | 5045/10000 [00:04<00:04, 1173.66it/s]\n",
      " 16%|█▌        | 32/200 [00:00<00:02, 72.25it/s]3it/s]\n",
      "  4%|▎         | 7/200 [00:00<00:04, 41.33it/s]\n",
      " 35%|███▌      | 3509/10000 [00:03<00:05, 1148.97it/s]\n",
      " 10%|▉         | 19/200 [00:00<00:02, 64.95it/s]it/s]\n",
      " 34%|███▍      | 3378/10000 [00:02<00:05, 1160.54it/s]\n",
      "  7%|▋         | 14/200 [00:00<00:03, 60.78it/s]6it/s]\n",
      " 36%|███▌      | 3614/10000 [00:03<00:05, 1159.55it/s]\n",
      "  6%|▌         | 11/200 [00:00<00:03, 54.50it/s]8it/s]\n",
      " 49%|████▉     | 4911/10000 [00:04<00:04, 1149.25it/s]\n",
      "  4%|▍         | 9/200 [00:00<00:03, 48.85it/s]1it/s]]\n",
      " 35%|███▌      | 3536/10000 [00:03<00:05, 1175.37it/s]\n",
      " 12%|█▏        | 23/200 [00:00<00:02, 69.27it/s]4it/s]\n",
      " 48%|████▊     | 4777/10000 [00:04<00:04, 1159.02it/s]\n",
      " 47%|████▋     | 4689/10000 [00:04<00:04, 1151.77it/s]\n",
      "  3%|▎         | 6/200 [00:00<00:05, 38.29it/s]84it/s]\n",
      " 14%|█▍        | 28/200 [00:00<00:02, 71.48it/s]\n",
      " 35%|███▍      | 3482/10000 [00:02<00:05, 1165.50it/s]\n",
      " 13%|█▎        | 26/200 [00:00<00:02, 64.39it/s]3it/s]\n",
      " 34%|███▍      | 3397/10000 [00:02<00:05, 1137.74it/s]\n",
      " 11%|█         | 22/200 [00:00<00:02, 68.02it/s]0it/s]\n",
      " 35%|███▌      | 3509/10000 [00:03<00:05, 1169.22it/s]\n",
      " 50%|█████     | 5045/10000 [00:04<00:04, 1142.38it/s]\n",
      "  6%|▌         | 11/200 [00:00<00:03, 53.45it/s]6it/s]\n",
      " 24%|██▍       | 49/200 [00:00<00:01, 79.14it/s]4it/s]\n",
      " 34%|███▍      | 3378/10000 [00:02<00:05, 1143.75it/s]\n",
      " 49%|████▉     | 4911/10000 [00:04<00:04, 1141.78it/s]\n",
      "  3%|▎         | 6/200 [00:00<00:04, 39.89it/s]49it/s]\n",
      " 36%|███▌      | 3614/10000 [00:03<00:05, 1148.36it/s]\n",
      " 15%|█▌        | 30/200 [00:00<00:02, 64.33it/s]t/s]\n",
      "  8%|▊         | 16/200 [00:00<00:03, 58.90it/s]it/s]\n",
      " 35%|███▌      | 3536/10000 [00:03<00:05, 1147.02it/s]\n",
      "  4%|▍         | 9/200 [00:00<00:03, 48.43it/s]89it/s]\n",
      " 48%|████▊     | 4777/10000 [00:04<00:04, 1151.01it/s]\n",
      " 47%|████▋     | 4689/10000 [00:04<00:04, 1170.12it/s]\n",
      "  2%|▏         | 3/200 [00:00<00:09, 21.67it/s]62it/s]\n",
      " 12%|█▏        | 23/200 [00:00<00:02, 65.41it/s]1it/s]\n",
      " 35%|███▍      | 3482/10000 [00:03<00:05, 1149.91it/s]\n",
      "  7%|▋         | 14/200 [00:00<00:03, 59.04it/s]7it/s]\n",
      " 34%|███▍      | 3397/10000 [00:02<00:05, 1167.47it/s]\n",
      "  9%|▉         | 18/200 [00:00<00:02, 61.26it/s]2it/s]\n",
      " 50%|█████     | 5045/10000 [00:04<00:04, 1155.16it/s]\n",
      "  2%|▏         | 4/200 [00:00<00:06, 31.38it/s]10it/s]\n",
      " 35%|███▌      | 3509/10000 [00:03<00:05, 1152.02it/s]\n",
      " 10%|█         | 20/200 [00:00<00:02, 66.39it/s]it/s]]\n",
      " 34%|███▍      | 3378/10000 [00:02<00:05, 1150.84it/s]\n",
      "  6%|▋         | 13/200 [00:00<00:03, 57.61it/s]7it/s]\n",
      " 49%|████▉     | 4911/10000 [00:04<00:04, 1166.40it/s]\n",
      " 10%|█         | 20/200 [00:00<00:02, 68.06it/s]it/s]]\n",
      " 36%|███▌      | 3614/10000 [00:03<00:05, 1146.32it/s]\n",
      " 20%|█▉        | 39/200 [00:00<00:02, 71.95it/s]8it/s]\n",
      " 35%|███▌      | 3536/10000 [00:03<00:05, 1116.35it/s]\n",
      "  2%|▏         | 3/200 [00:00<00:07, 25.17it/s]90it/s]\n",
      " 48%|████▊     | 4777/10000 [00:04<00:04, 1150.99it/s]\n",
      " 14%|█▎        | 27/200 [00:00<00:02, 66.97it/s]0it/s]\n",
      " 47%|████▋     | 4689/10000 [00:04<00:04, 1131.12it/s]\n",
      "  3%|▎         | 6/200 [00:00<00:04, 38.82it/s]20it/s]\n",
      " 35%|███▍      | 3482/10000 [00:03<00:05, 1145.83it/s]\n",
      " 24%|██▍       | 48/200 [00:00<00:02, 74.97it/s]8it/s]\n",
      " 34%|███▍      | 3397/10000 [00:02<00:05, 1152.90it/s]\n",
      "  2%|▏         | 4/200 [00:00<00:06, 29.36it/s]34it/s]\n",
      " 50%|█████     | 5045/10000 [00:04<00:04, 1160.78it/s]\n",
      "  3%|▎         | 6/200 [00:00<00:04, 39.54it/s]87it/s]\n",
      " 35%|███▌      | 3509/10000 [00:03<00:05, 1148.16it/s]\n",
      "  2%|▏         | 3/200 [00:00<00:07, 27.11it/s]11it/s]\n",
      " 34%|███▍      | 3378/10000 [00:02<00:05, 1171.20it/s]\n",
      "  4%|▍         | 9/200 [00:00<00:03, 49.91it/s]61it/s]\n",
      " 49%|████▉     | 4911/10000 [00:04<00:04, 1161.00it/s]\n",
      "  4%|▎         | 7/200 [00:00<00:04, 43.91it/s]9it/s]]\n",
      " 36%|███▌      | 3614/10000 [00:03<00:05, 1140.25it/s]\n",
      " 12%|█▎        | 25/200 [00:00<00:02, 70.19it/s]2it/s]\n",
      " 35%|███▌      | 3536/10000 [00:03<00:05, 1161.86it/s]\n",
      "  5%|▌         | 10/200 [00:00<00:03, 50.91it/s]7it/s]\n",
      " 48%|████▊     | 4777/10000 [00:04<00:04, 1143.98it/s]\n",
      " 11%|█         | 22/200 [00:00<00:02, 64.93it/s]6it/s]\n",
      " 47%|████▋     | 4689/10000 [00:04<00:04, 1114.05it/s]\n",
      "  3%|▎         | 6/200 [00:00<00:04, 39.14it/s]5it/s]]\n",
      " 35%|███▍      | 3482/10000 [00:03<00:05, 1150.32it/s]\n",
      " 12%|█▏        | 23/200 [00:00<00:02, 69.40it/s]1it/s]\n",
      " 34%|███▍      | 3397/10000 [00:02<00:05, 1146.07it/s]\n",
      "  8%|▊         | 15/200 [00:00<00:03, 55.00it/s]9it/s]\n",
      " 50%|█████     | 5045/10000 [00:04<00:04, 1145.36it/s]\n",
      " 35%|███▌      | 3509/10000 [00:03<00:05, 1144.90it/s]\n",
      "  2%|▎         | 5/200 [00:00<00:05, 35.47it/s]07it/s]\n",
      " 14%|█▍        | 28/200 [00:00<00:02, 70.88it/s]4it/s]\n",
      " 34%|███▍      | 3378/10000 [00:02<00:05, 1137.92it/s]\n",
      "  7%|▋         | 14/200 [00:00<00:03, 58.74it/s]2it/s]\n",
      " 49%|████▉     | 4911/10000 [00:04<00:04, 1152.51it/s]\n",
      " 36%|███▌      | 3614/10000 [00:03<00:05, 1146.40it/s]\n",
      "  3%|▎         | 6/200 [00:00<00:04, 39.12it/s]\n",
      " 11%|█         | 22/200 [00:00<00:02, 67.69it/s]it/s]\n",
      " 35%|███▌      | 3536/10000 [00:03<00:05, 1147.37it/s]\n",
      "  7%|▋         | 14/200 [00:00<00:03, 52.81it/s]9it/s]\n",
      " 48%|████▊     | 4777/10000 [00:04<00:04, 1144.77it/s]\n",
      " 47%|████▋     | 4689/10000 [00:04<00:04, 1148.16it/s]\n",
      "  8%|▊         | 16/200 [00:00<00:03, 59.25it/s]4it/s]\n",
      "  2%|▎         | 5/200 [00:00<00:05, 35.87it/s]03it/s]\n",
      " 35%|███▍      | 3482/10000 [00:03<00:05, 1153.65it/s]\n",
      " 16%|█▌        | 31/200 [00:00<00:02, 69.39it/s]2it/s]\n",
      " 34%|███▍      | 3397/10000 [00:02<00:05, 1145.56it/s]\n",
      "  8%|▊         | 15/200 [00:00<00:03, 58.36it/s]0it/s]\n",
      " 50%|█████     | 5045/10000 [00:04<00:04, 1136.75it/s]\n",
      "  2%|▏         | 3/200 [00:00<00:08, 24.58it/s]81it/s]\n",
      " 35%|███▌      | 3509/10000 [00:03<00:05, 1152.19it/s]\n",
      " 12%|█▏        | 23/200 [00:00<00:02, 67.65it/s]1it/s]\n",
      " 34%|███▍      | 3378/10000 [00:02<00:05, 1159.41it/s]\n",
      " 49%|████▉     | 4911/10000 [00:04<00:04, 1154.87it/s]\n",
      "  2%|▏         | 3/200 [00:00<00:08, 24.19it/s]41it/s]\n",
      "  6%|▌         | 12/200 [00:00<00:03, 53.81it/s]\n",
      " 36%|███▌      | 3614/10000 [00:03<00:05, 1159.94it/s]\n",
      "  8%|▊         | 16/200 [00:00<00:02, 62.21it/s]3it/s]\n",
      " 35%|███▌      | 3536/10000 [00:03<00:05, 1163.04it/s]\n",
      " 11%|█         | 22/200 [00:00<00:02, 64.36it/s]6it/s]\n",
      " 48%|████▊     | 4777/10000 [00:04<00:04, 1164.60it/s]\n",
      " 47%|████▋     | 4689/10000 [00:04<00:04, 1164.87it/s]\n",
      "  2%|▏         | 3/200 [00:00<00:07, 25.36it/s]93it/s]\n",
      " 76%|███████▌  | 151/200 [00:01<00:00, 79.90it/s]t/s]]\n",
      " 35%|███▍      | 3482/10000 [00:03<00:05, 1159.75it/s]\n",
      " 34%|███▍      | 69/200 [00:00<00:01, 77.53it/s]8it/s]\n",
      " 34%|███▍      | 3397/10000 [00:02<00:05, 1157.82it/s]\n",
      " 50%|█████     | 5045/10000 [00:04<00:04, 1152.59it/s]\n",
      " 34%|███▎      | 67/200 [00:00<00:01, 75.23it/s]7it/s]\n",
      "  2%|▏         | 3/200 [00:00<00:08, 24.30it/s]\n",
      " 35%|███▌      | 3509/10000 [00:03<00:05, 1163.55it/s]\n",
      " 23%|██▎       | 46/200 [00:00<00:02, 72.95it/s]9it/s]\n",
      " 34%|███▍      | 3378/10000 [00:02<00:05, 1158.71it/s]\n",
      " 26%|██▌       | 52/200 [00:00<00:01, 74.19it/s]8it/s]\n",
      " 36%|███▌      | 3614/10000 [00:03<00:05, 1155.62it/s]\n",
      " 49%|████▉     | 4911/10000 [00:04<00:04, 1153.64it/s]\n",
      "  2%|▏         | 3/200 [00:00<00:07, 25.53it/s]2it/s]\n",
      " 27%|██▋       | 54/200 [00:00<00:01, 74.65it/s]0it/s]\n",
      " 35%|███▌      | 3536/10000 [00:03<00:05, 1154.35it/s]\n",
      "  2%|▏         | 3/200 [00:00<00:07, 25.65it/s]81it/s]\n",
      " 48%|████▊     | 4777/10000 [00:04<00:04, 1157.47it/s]\n",
      " 47%|████▋     | 4689/10000 [00:04<00:04, 1159.10it/s]\n",
      " 26%|██▌       | 52/200 [00:00<00:02, 72.83it/s]9it/s]\n",
      " 11%|█         | 22/200 [00:00<00:02, 63.38it/s]it/s]]\n",
      " 35%|███▍      | 3482/10000 [00:02<00:05, 1163.05it/s]\n",
      "  2%|▏         | 3/200 [00:00<00:08, 24.35it/s]3it/s]\n",
      " 34%|███▍      | 3397/10000 [00:02<00:05, 1161.02it/s]\n",
      " 10%|█         | 20/200 [00:00<00:02, 62.83it/s]2it/s]\n",
      " 35%|███▌      | 3509/10000 [00:03<00:05, 1155.44it/s]\n",
      "  2%|▏         | 3/200 [00:00<00:08, 23.90it/s]14it/s]\n",
      " 50%|█████     | 5045/10000 [00:04<00:04, 1159.92it/s]\n",
      " 14%|█▍        | 29/200 [00:00<00:02, 66.04it/s]5it/s]\n",
      " 34%|███▍      | 3378/10000 [00:02<00:05, 1154.34it/s]\n",
      " 22%|██▎       | 45/200 [00:00<00:02, 72.27it/s]6it/s]\n",
      " 49%|████▉     | 4911/10000 [00:04<00:04, 1158.10it/s]\n",
      " 36%|███▌      | 3614/10000 [00:03<00:05, 1159.30it/s]\n",
      "  2%|▏         | 3/200 [00:00<00:07, 25.83it/s]9it/s]\n",
      " 22%|██▏       | 43/200 [00:00<00:02, 72.23it/s]it/s]\n",
      " 35%|███▌      | 3536/10000 [00:03<00:05, 1164.40it/s]\n",
      "  9%|▉         | 18/200 [00:00<00:03, 59.40it/s]1it/s]\n",
      " 48%|████▊     | 4777/10000 [00:04<00:04, 1163.13it/s]\n",
      " 47%|████▋     | 4689/10000 [00:04<00:04, 1150.30it/s]\n",
      "  4%|▍         | 9/200 [00:00<00:04, 40.66it/s]05it/s]\n",
      "  2%|▏         | 3/200 [00:00<00:08, 22.43it/s]60it/s]\n",
      " 35%|███▍      | 3482/10000 [00:03<00:05, 1141.48it/s]\n",
      " 38%|███▊      | 77/200 [00:01<00:01, 73.87it/s]1it/s]\n",
      " 34%|███▍      | 3397/10000 [00:02<00:05, 1139.74it/s]\n",
      "  2%|▎         | 5/200 [00:00<00:05, 34.43it/s]15it/s]\n",
      " 50%|█████     | 5045/10000 [00:04<00:04, 1143.01it/s]\n",
      "  2%|▎         | 5/200 [00:00<00:05, 33.47it/s]25it/s]\n",
      " 35%|███▌      | 3509/10000 [00:03<00:05, 1151.53it/s]\n",
      " 16%|█▋        | 33/200 [00:00<00:02, 68.78it/s]6it/s]\n",
      " 49%|████▉     | 4911/10000 [00:04<00:04, 1156.19it/s]\n",
      " 34%|███▍      | 3378/10000 [00:02<00:05, 1157.83it/s]\n",
      "  2%|▎         | 5/200 [00:00<00:06, 31.15it/s]53it/s]\n",
      " 32%|███▏      | 63/200 [00:00<00:01, 73.14it/s]it/s]]\n",
      " 36%|███▌      | 3614/10000 [00:03<00:05, 1149.48it/s]\n",
      " 18%|█▊        | 35/200 [00:00<00:02, 68.21it/s]5it/s]\n",
      " 35%|███▌      | 3536/10000 [00:03<00:05, 1172.38it/s]\n",
      "  9%|▉         | 18/200 [00:00<00:03, 59.97it/s]8it/s]\n",
      " 48%|████▊     | 4777/10000 [00:04<00:04, 1149.66it/s]\n",
      "  4%|▍         | 8/200 [00:00<00:04, 41.57it/s]35it/s]\n",
      " 47%|████▋     | 4689/10000 [00:04<00:04, 1145.02it/s]\n",
      " 35%|███▍      | 3482/10000 [00:03<00:05, 1149.31it/s]\n",
      "  6%|▌         | 12/200 [00:00<00:03, 49.98it/s]\n",
      " 36%|███▌      | 71/200 [00:00<00:01, 74.93it/s]it/s]]\n",
      " 34%|███▍      | 3397/10000 [00:02<00:05, 1156.92it/s]\n",
      " 50%|█████     | 5045/10000 [00:04<00:04, 1150.42it/s]\n",
      "  2%|▏         | 3/200 [00:00<00:08, 24.16it/s]]7it/s]\n",
      " 14%|█▎        | 27/200 [00:00<00:02, 65.64it/s]3it/s]\n",
      " 35%|███▌      | 3509/10000 [00:03<00:05, 1156.76it/s]\n",
      " 12%|█▏        | 24/200 [00:00<00:02, 65.01it/s]7it/s]\n",
      " 34%|███▍      | 3378/10000 [00:02<00:05, 1159.33it/s]\n",
      " 32%|███▏      | 64/200 [00:00<00:01, 73.53it/s]7it/s]\n",
      " 36%|███▌      | 3614/10000 [00:03<00:05, 1154.45it/s]\n",
      " 49%|████▉     | 4911/10000 [00:04<00:04, 1155.14it/s]\n",
      "  2%|▏         | 3/200 [00:00<00:07, 24.84it/s]1it/s]\n",
      " 15%|█▌        | 30/200 [00:00<00:02, 66.62it/s]it/s]\n",
      " 35%|███▌      | 3536/10000 [00:03<00:05, 1158.72it/s]\n",
      "  7%|▋         | 14/200 [00:00<00:03, 55.29it/s]1it/s]\n",
      " 48%|████▊     | 4777/10000 [00:04<00:04, 1158.17it/s]\n",
      "  6%|▋         | 13/200 [00:00<00:03, 52.46it/s]5it/s]\n",
      " 47%|████▋     | 4689/10000 [00:04<00:04, 1150.34it/s]\n",
      "  6%|▋         | 13/200 [00:00<00:03, 53.72it/s]1it/s]\n",
      " 35%|███▍      | 3482/10000 [00:02<00:05, 1169.61it/s]\n",
      " 12%|█▎        | 25/200 [00:00<00:02, 59.97it/s]2it/s]\n",
      " 34%|███▍      | 3397/10000 [00:02<00:05, 1163.62it/s]\n",
      "  3%|▎         | 6/200 [00:00<00:05, 32.79it/s]07it/s]\n",
      " 50%|█████     | 5045/10000 [00:04<00:04, 1151.71it/s]\n",
      "  5%|▌         | 10/200 [00:00<00:03, 47.69it/s]7it/s]\n",
      " 35%|███▌      | 3509/10000 [00:03<00:05, 1163.53it/s]\n",
      " 10%|█         | 21/200 [00:00<00:02, 61.85it/s]it/s]]\n",
      " 34%|███▍      | 3378/10000 [00:03<00:05, 1113.94it/s]\n",
      " 49%|████▉     | 4911/10000 [00:04<00:04, 1139.01it/s]\n",
      "  8%|▊         | 16/200 [00:00<00:03, 52.22it/s]6it/s]\n",
      "  9%|▉         | 18/200 [00:00<00:03, 56.61it/s]1it/s]\n",
      " 36%|███▌      | 3614/10000 [00:03<00:05, 1102.56it/s]\n",
      " 10%|█         | 21/200 [00:00<00:02, 61.62it/s]1it/s]\n",
      " 35%|███▌      | 3536/10000 [00:03<00:05, 1169.94it/s]\n",
      "  2%|▏         | 3/200 [00:00<00:07, 24.89it/s]32it/s]\n",
      " 48%|████▊     | 4777/10000 [00:04<00:04, 1160.48it/s]\n",
      "  4%|▎         | 7/200 [00:00<00:04, 39.54it/s]14it/s]\n",
      " 47%|████▋     | 4689/10000 [00:04<00:04, 1156.27it/s]\n",
      "  5%|▌         | 10/200 [00:00<00:03, 48.62it/s]4it/s]\n",
      " 35%|███▍      | 3482/10000 [00:02<00:05, 1172.73it/s]\n",
      " 14%|█▍        | 29/200 [00:00<00:02, 66.08it/s]8it/s]\n",
      " 34%|███▍      | 3397/10000 [00:02<00:05, 1157.88it/s]\n",
      "  2%|▏         | 3/200 [00:00<00:07, 25.53it/s]88it/s]\n",
      " 50%|█████     | 5045/10000 [00:04<00:04, 1161.93it/s]\n",
      "  6%|▌         | 12/200 [00:00<00:03, 52.22it/s]5it/s]\n",
      " 35%|███▌      | 3509/10000 [00:03<00:05, 1162.72it/s]\n",
      "  2%|▏         | 3/200 [00:00<00:08, 23.39it/s]54it/s]\n",
      " 34%|███▍      | 3378/10000 [00:02<00:05, 1155.32it/s]\n",
      "  6%|▋         | 13/200 [00:00<00:03, 51.27it/s]4it/s]\n",
      " 49%|████▉     | 4911/10000 [00:04<00:04, 1149.18it/s]\n",
      "  8%|▊         | 16/200 [00:00<00:03, 56.06it/s]it/s]]\n",
      " 36%|███▌      | 3614/10000 [00:03<00:05, 1152.07it/s]\n",
      "  2%|▏         | 3/200 [00:00<00:07, 25.48it/s]9it/s]\n",
      " 35%|███▌      | 3536/10000 [00:03<00:05, 1154.52it/s]\n",
      " 10%|█         | 20/200 [00:00<00:02, 60.93it/s]9it/s]\n",
      " 48%|████▊     | 4777/10000 [00:04<00:04, 1141.84it/s]\n",
      " 47%|████▋     | 4689/10000 [00:04<00:04, 1155.05it/s]\n",
      "  2%|▏         | 3/200 [00:00<00:08, 24.08it/s]38it/s]\n",
      "  4%|▍         | 9/200 [00:00<00:04, 44.14it/s]\n",
      " 35%|███▍      | 3482/10000 [00:03<00:05, 1149.97it/s]\n",
      " 10%|█         | 21/200 [00:00<00:03, 58.60it/s]2it/s]\n",
      " 34%|███▍      | 3397/10000 [00:02<00:05, 1159.96it/s]\n",
      "  2%|▎         | 5/200 [00:00<00:06, 29.58it/s]04it/s]\n",
      " 50%|█████     | 5045/10000 [00:04<00:04, 1161.74it/s]\n",
      "  2%|▏         | 3/200 [00:00<00:08, 23.22it/s]35it/s]\n",
      " 35%|███▌      | 3509/10000 [00:02<00:05, 1169.80it/s]\n",
      "  6%|▌         | 11/200 [00:00<00:03, 50.59it/s]9it/s]\n",
      " 49%|████▉     | 4911/10000 [00:04<00:04, 1159.37it/s]\n",
      " 34%|███▍      | 3378/10000 [00:02<00:05, 1147.27it/s]\n",
      "  2%|▏         | 3/200 [00:00<00:08, 24.36it/s]39it/s]\n",
      " 10%|█         | 20/200 [00:00<00:03, 58.96it/s]it/s]]\n",
      " 36%|███▌      | 3614/10000 [00:03<00:05, 1162.14it/s]\n",
      "  7%|▋         | 14/200 [00:00<00:03, 55.10it/s]it/s]\n",
      " 35%|███▌      | 3536/10000 [00:03<00:05, 1165.25it/s]\n",
      "  4%|▍         | 9/200 [00:00<00:04, 46.19it/s]02it/s]\n",
      " 48%|████▊     | 4777/10000 [00:04<00:04, 1158.05it/s]\n",
      "  2%|▎         | 5/200 [00:00<00:08, 24.08it/s]20it/s]\n",
      " 47%|████▋     | 4689/10000 [00:04<00:04, 1145.43it/s]\n",
      "  2%|▏         | 4/200 [00:00<00:06, 29.42it/s]99it/s]\n",
      " 35%|███▍      | 3482/10000 [00:03<00:05, 1149.71it/s]\n",
      " 10%|█         | 20/200 [00:00<00:03, 55.69it/s]3it/s]\n",
      " 34%|███▍      | 3397/10000 [00:02<00:05, 1164.00it/s]\n",
      "  3%|▎         | 6/200 [00:00<00:06, 31.12it/s]63it/s]\n",
      " 50%|█████     | 5045/10000 [00:04<00:04, 1150.02it/s]\n",
      "  6%|▌         | 12/200 [00:00<00:03, 51.08it/s]0it/s]\n",
      " 35%|███▌      | 3509/10000 [00:03<00:05, 1154.48it/s]\n",
      "  7%|▋         | 14/200 [00:00<00:03, 54.31it/s]it/s]]\n",
      " 34%|███▍      | 3378/10000 [00:02<00:05, 1155.60it/s]\n",
      "  6%|▌         | 12/200 [00:00<00:03, 50.35it/s]8it/s]\n",
      " 49%|████▉     | 4911/10000 [00:04<00:04, 1145.99it/s]\n",
      "  2%|▏         | 3/200 [00:00<00:08, 24.05it/s]06it/s]\n",
      " 36%|███▌      | 3614/10000 [00:03<00:05, 1138.59it/s]\n",
      "  4%|▍         | 8/200 [00:00<00:04, 43.78it/s]86it/s]\n",
      " 35%|███▌      | 3536/10000 [00:03<00:05, 1162.53it/s]\n",
      "  2%|▏         | 3/200 [00:00<00:07, 25.32it/s]31it/s]\n",
      " 48%|████▊     | 4777/10000 [00:04<00:04, 1158.58it/s]\n",
      "  6%|▌         | 12/200 [00:00<00:03, 50.87it/s]9it/s]\n",
      " 47%|████▋     | 4689/10000 [00:04<00:04, 1153.21it/s]\n",
      "  4%|▍         | 8/200 [00:00<00:04, 43.84it/s]5it/s]]\n",
      " 35%|███▍      | 3482/10000 [00:02<00:05, 1172.58it/s]\n",
      " 12%|█▏        | 23/200 [00:00<00:02, 61.65it/s]0it/s]\n",
      " 34%|███▍      | 3397/10000 [00:02<00:05, 1155.63it/s]\n",
      "  2%|▏         | 4/200 [00:00<00:06, 30.02it/s]96it/s]\n",
      " 50%|█████     | 5045/10000 [00:04<00:04, 1146.51it/s]\n",
      "  5%|▌         | 10/200 [00:00<00:04, 45.71it/s]4it/s]\n",
      " 35%|███▌      | 3509/10000 [00:03<00:05, 1131.55it/s]\n",
      "  2%|▏         | 3/200 [00:00<00:09, 21.00it/s]56it/s]\n",
      " 34%|███▍      | 3378/10000 [00:02<00:05, 1138.71it/s]\n",
      "  7%|▋         | 14/200 [00:00<00:03, 50.71it/s]9it/s]\n",
      " 49%|████▉     | 4911/10000 [00:04<00:04, 1127.90it/s]\n",
      "  6%|▋         | 13/200 [00:00<00:03, 53.41it/s]it/s]]\n",
      " 36%|███▌      | 3614/10000 [00:03<00:05, 1150.43it/s]\n",
      "  2%|▏         | 3/200 [00:00<00:07, 24.80it/s]6it/s]\n",
      " 35%|███▌      | 3536/10000 [00:03<00:05, 1163.92it/s]\n",
      "  7%|▋         | 14/200 [00:00<00:03, 54.56it/s]1it/s]\n",
      " 48%|████▊     | 4777/10000 [00:04<00:04, 1154.47it/s]\n",
      " 47%|████▋     | 4689/10000 [00:04<00:04, 1154.88it/s]\n",
      "  6%|▌         | 12/200 [00:00<00:04, 46.71it/s]7it/s]\n",
      "  2%|▎         | 5/200 [00:00<00:06, 31.26it/s]\n",
      " 35%|███▍      | 3482/10000 [00:03<00:05, 1157.56it/s]\n",
      " 11%|█         | 22/200 [00:00<00:02, 61.04it/s]3it/s]\n",
      " 34%|███▍      | 3397/10000 [00:02<00:05, 1159.78it/s]\n",
      "  2%|▎         | 5/200 [00:00<00:05, 32.95it/s]08it/s]\n",
      " 50%|█████     | 5045/10000 [00:04<00:04, 1132.79it/s]\n",
      "  2%|▏         | 3/200 [00:00<00:09, 21.81it/s]64it/s]\n",
      " 35%|███▌      | 3509/10000 [00:03<00:05, 1148.47it/s]\n",
      "  6%|▌         | 12/200 [00:00<00:03, 51.40it/s]1it/s]\n",
      " 49%|████▉     | 4911/10000 [00:04<00:04, 1143.54it/s]\n",
      "  2%|▏         | 4/200 [00:00<00:06, 29.64it/s]68it/s]\n",
      " 34%|███▍      | 3378/10000 [00:02<00:05, 1150.92it/s]\n",
      "  7%|▋         | 14/200 [00:00<00:03, 52.22it/s]4it/s]\n",
      " 36%|███▌      | 3614/10000 [00:03<00:05, 1154.00it/s]\n",
      "  6%|▌         | 11/200 [00:00<00:04, 42.30it/s]5it/s]\n",
      " 35%|███▌      | 3536/10000 [00:03<00:05, 1135.46it/s]\n",
      "  4%|▎         | 7/200 [00:00<00:04, 40.13it/s]30it/s]\n",
      " 48%|████▊     | 4777/10000 [00:04<00:04, 1144.59it/s]\n",
      "  5%|▌         | 10/200 [00:00<00:04, 42.47it/s]9it/s]\n",
      " 47%|████▋     | 4689/10000 [00:04<00:04, 1165.32it/s]\n",
      "  2%|▏         | 4/200 [00:00<00:06, 30.44it/s]70it/s]\n",
      " 35%|███▍      | 3482/10000 [00:02<00:05, 1165.47it/s]\n",
      " 21%|██        | 42/200 [00:00<00:02, 62.55it/s]1it/s]\n",
      " 34%|███▍      | 3397/10000 [00:02<00:05, 1157.70it/s]\n",
      "  2%|▏         | 4/200 [00:00<00:07, 27.61it/s]51it/s]\n",
      " 50%|█████     | 5045/10000 [00:04<00:04, 1137.99it/s]\n",
      "  2%|▏         | 3/200 [00:00<00:08, 23.76it/s]27it/s]\n",
      " 35%|███▌      | 3509/10000 [00:03<00:05, 1165.08it/s]\n",
      "  4%|▍         | 9/200 [00:00<00:04, 45.33it/s]64it/s]\n",
      " 34%|███▍      | 3378/10000 [00:02<00:05, 1145.85it/s]\n",
      "  4%|▍         | 9/200 [00:00<00:04, 45.02it/s]74it/s]\n",
      " 49%|████▉     | 4911/10000 [00:04<00:04, 1171.55it/s]\n",
      "  2%|▏         | 3/200 [00:00<00:07, 24.78it/s]25it/s]\n",
      " 36%|███▌      | 3614/10000 [00:03<00:05, 1162.92it/s]\n",
      "  6%|▋         | 13/200 [00:00<00:03, 54.61it/s]\n",
      " 50%|█████████████████████████████████████████████████████████████▉                                                             | 5032/10000 [00:04<00:04, 1145.23it/s]\n",
      "  2%|██▌                                                                                                                               | 4/200 [00:00<00:09, 20.26it/s]\n"
     ]
    },
    {
     "data": {
      "text/plain": [
       "(0.6590909090909091,\n",
       " {'batch_size': 16,\n",
       "  'distr_kind': 'Weibull',\n",
       "  'elbo': False,\n",
       "  'layer_sizes': [31, 31, 31],\n",
       "  'learning_rate': 0.001,\n",
       "  'max_epochs': 200,\n",
       "  'n_distr': 1,\n",
       "  'validation_size': 0.1})"
      ]
     },
     "execution_count": 34,
     "metadata": {},
     "output_type": "execute_result"
    }
   ],
   "source": [
    "# Stratified CV\n",
    "opt_dsm, opt_dsm_params, opt_dsm_search = optimize(survhive.DeepSurvivalMachines(rng_seed=2308),  X_train, y_train, \n",
    "                                                   user_grid=grid,cv=RepeatedStratifiedKFold(n_splits=5, n_repeats=2, random_state=2308).split(X_train,survhive.get_indicator(y_train)))\n",
    "opt_dsm.score(X_test, y_test), opt_dsm_params"
   ]
  },
  {
   "cell_type": "code",
   "execution_count": 35,
   "id": "e7e47436",
   "metadata": {},
   "outputs": [],
   "source": [
    "cv_res = opt_dsm_search.cv_results_\n",
    "rez=sorted(zip(cv_res['rank_test_score'], cv_res['mean_test_score'] , cv_res['std_test_score'], \n",
    "               cv_res['mean_test_score'] - cv_res['std_test_score'], opt_dsm_search.cv_results_['params']))"
   ]
  },
  {
   "cell_type": "code",
   "execution_count": 36,
   "id": "fafdcd90",
   "metadata": {},
   "outputs": [
    {
     "data": {
      "text/plain": [
       "[(1,\n",
       "  0.6708545595719525,\n",
       "  0.07941291489368205,\n",
       "  0.5914416446782704,\n",
       "  {'batch_size': 16,\n",
       "   'distr_kind': 'Weibull',\n",
       "   'elbo': False,\n",
       "   'layer_sizes': [31, 31, 31],\n",
       "   'learning_rate': 0.001,\n",
       "   'max_epochs': 200,\n",
       "   'n_distr': 1,\n",
       "   'validation_size': 0.1}),\n",
       " (2,\n",
       "  0.6660412853776564,\n",
       "  0.08625703973533061,\n",
       "  0.5797842456423258,\n",
       "  {'batch_size': 16,\n",
       "   'distr_kind': 'Weibull',\n",
       "   'elbo': False,\n",
       "   'layer_sizes': [13],\n",
       "   'learning_rate': 0.001,\n",
       "   'max_epochs': 200,\n",
       "   'n_distr': 1,\n",
       "   'validation_size': 0.1}),\n",
       " (3,\n",
       "  0.6580985055372891,\n",
       "  0.039886136922990534,\n",
       "  0.6182123686142986,\n",
       "  {'batch_size': 16,\n",
       "   'distr_kind': 'Weibull',\n",
       "   'elbo': False,\n",
       "   'layer_sizes': [23, 23, 23],\n",
       "   'learning_rate': 0.001,\n",
       "   'max_epochs': 200,\n",
       "   'n_distr': 1,\n",
       "   'validation_size': 0.1}),\n",
       " (4,\n",
       "  0.6544769350353211,\n",
       "  0.09844260219660868,\n",
       "  0.5560343328387124,\n",
       "  {'batch_size': 16,\n",
       "   'distr_kind': 'Weibull',\n",
       "   'elbo': False,\n",
       "   'layer_sizes': [23],\n",
       "   'learning_rate': 0.001,\n",
       "   'max_epochs': 200,\n",
       "   'n_distr': 1,\n",
       "   'validation_size': 0.1}),\n",
       " (5,\n",
       "  0.6502447495437347,\n",
       "  0.05905006532574704,\n",
       "  0.5911946842179876,\n",
       "  {'batch_size': 16,\n",
       "   'distr_kind': 'Weibull',\n",
       "   'elbo': False,\n",
       "   'layer_sizes': [37],\n",
       "   'learning_rate': 0.001,\n",
       "   'max_epochs': 200,\n",
       "   'n_distr': 1,\n",
       "   'validation_size': 0.1}),\n",
       " (6,\n",
       "  0.6369849876644174,\n",
       "  0.10775570949941397,\n",
       "  0.5292292781650034,\n",
       "  {'batch_size': 16,\n",
       "   'distr_kind': 'Weibull',\n",
       "   'elbo': False,\n",
       "   'layer_sizes': [17],\n",
       "   'learning_rate': 0.001,\n",
       "   'max_epochs': 200,\n",
       "   'n_distr': 1,\n",
       "   'validation_size': 0.1}),\n",
       " (7,\n",
       "  0.6288413293808699,\n",
       "  0.09260081352441787,\n",
       "  0.536240515856452,\n",
       "  {'batch_size': 16,\n",
       "   'distr_kind': 'Weibull',\n",
       "   'elbo': False,\n",
       "   'layer_sizes': [11],\n",
       "   'learning_rate': 0.001,\n",
       "   'max_epochs': 200,\n",
       "   'n_distr': 1,\n",
       "   'validation_size': 0.1}),\n",
       " (8,\n",
       "  0.6273895484269374,\n",
       "  0.07795802684147296,\n",
       "  0.5494315215854644,\n",
       "  {'batch_size': 16,\n",
       "   'distr_kind': 'Weibull',\n",
       "   'elbo': False,\n",
       "   'layer_sizes': [19],\n",
       "   'learning_rate': 0.001,\n",
       "   'max_epochs': 200,\n",
       "   'n_distr': 1,\n",
       "   'validation_size': 0.1}),\n",
       " (9,\n",
       "  0.6261967010773682,\n",
       "  0.10381205537523215,\n",
       "  0.522384645702136,\n",
       "  {'batch_size': 16,\n",
       "   'distr_kind': 'Weibull',\n",
       "   'elbo': False,\n",
       "   'layer_sizes': [31],\n",
       "   'learning_rate': 0.001,\n",
       "   'max_epochs': 200,\n",
       "   'n_distr': 1,\n",
       "   'validation_size': 0.1}),\n",
       " (10,\n",
       "  0.6137645366592515,\n",
       "  0.07844467724361279,\n",
       "  0.5353198594156386,\n",
       "  {'batch_size': 16,\n",
       "   'distr_kind': 'Weibull',\n",
       "   'elbo': False,\n",
       "   'layer_sizes': [37, 37, 37],\n",
       "   'learning_rate': 0.001,\n",
       "   'max_epochs': 200,\n",
       "   'n_distr': 1,\n",
       "   'validation_size': 0.1})]"
      ]
     },
     "execution_count": 36,
     "metadata": {},
     "output_type": "execute_result"
    }
   ],
   "source": [
    "rez[:10]"
   ]
  },
  {
   "cell_type": "code",
   "execution_count": 37,
   "id": "36d543c7-043d-4ad9-9a3b-9485d098288c",
   "metadata": {
    "scrolled": true
   },
   "outputs": [
    {
     "name": "stdout",
     "output_type": "stream",
     "text": [
      "(3, 0.6580985055372891, 0.039886136922990534, 0.6182123686142986)\n"
     ]
    },
    {
     "name": "stderr",
     "output_type": "stream",
     "text": [
      " 50%|█████████████████████████████████████████████████████████████▉                                                             | 5032/10000 [00:04<00:04, 1146.17it/s]\n",
      "  2%|███▎                                                                                                                              | 5/200 [00:00<00:07, 26.36it/s]\n"
     ]
    },
    {
     "name": "stdout",
     "output_type": "stream",
     "text": [
      "Train:  0.7992 , Test: 0.6632\n",
      "(1, 0.6708545595719525, 0.07941291489368205, 0.5914416446782704)\n"
     ]
    },
    {
     "name": "stderr",
     "output_type": "stream",
     "text": [
      " 50%|█████████████████████████████████████████████████████████████▉                                                             | 5032/10000 [00:04<00:04, 1151.60it/s]\n",
      "  2%|██▌                                                                                                                               | 4/200 [00:00<00:09, 20.69it/s]\n"
     ]
    },
    {
     "name": "stdout",
     "output_type": "stream",
     "text": [
      "Train:  0.8132 , Test: 0.6591\n",
      "(5, 0.6502447495437347, 0.05905006532574704, 0.5911946842179876)\n"
     ]
    },
    {
     "name": "stderr",
     "output_type": "stream",
     "text": [
      " 50%|█████████████████████████████████████████████████████████████▉                                                             | 5032/10000 [00:04<00:04, 1164.03it/s]\n",
      "  3%|███▉                                                                                                                              | 6/200 [00:00<00:07, 26.72it/s]\n"
     ]
    },
    {
     "name": "stdout",
     "output_type": "stream",
     "text": [
      "Train:  0.7964 , Test: 0.6322\n",
      "(2, 0.6660412853776564, 0.08625703973533061, 0.5797842456423258)\n"
     ]
    },
    {
     "name": "stderr",
     "output_type": "stream",
     "text": [
      " 50%|█████████████████████████████████████████████████████████████▉                                                             | 5032/10000 [00:04<00:04, 1152.25it/s]\n",
      "  4%|█████▏                                                                                                                            | 8/200 [00:00<00:05, 35.35it/s]\n"
     ]
    },
    {
     "name": "stdout",
     "output_type": "stream",
     "text": [
      "Train:  0.8348 , Test: 0.6612\n",
      "(4, 0.6544769350353211, 0.09844260219660868, 0.5560343328387124)\n"
     ]
    },
    {
     "name": "stderr",
     "output_type": "stream",
     "text": [
      " 50%|█████████████████████████████████████████████████████████████▉                                                             | 5032/10000 [00:04<00:04, 1151.40it/s]\n",
      "  2%|█▉                                                                                                                                | 3/200 [00:00<00:10, 18.47it/s]\n"
     ]
    },
    {
     "name": "stdout",
     "output_type": "stream",
     "text": [
      "Train:  0.6627 , Test: 0.6488\n",
      "(8, 0.6273895484269374, 0.07795802684147296, 0.5494315215854644)\n"
     ]
    },
    {
     "name": "stderr",
     "output_type": "stream",
     "text": [
      " 50%|█████████████████████████████████████████████████████████████▉                                                             | 5032/10000 [00:04<00:04, 1155.64it/s]\n",
      "  2%|███▎                                                                                                                              | 5/200 [00:00<00:07, 26.82it/s]\n"
     ]
    },
    {
     "name": "stdout",
     "output_type": "stream",
     "text": [
      "Train:  0.7324 , Test: 0.5950\n",
      "(7, 0.6288413293808699, 0.09260081352441787, 0.536240515856452)\n"
     ]
    },
    {
     "name": "stderr",
     "output_type": "stream",
     "text": [
      " 50%|█████████████████████████████████████████████████████████████▉                                                             | 5032/10000 [00:04<00:04, 1150.99it/s]\n",
      "  3%|███▉                                                                                                                              | 6/200 [00:00<00:06, 30.54it/s]\n"
     ]
    },
    {
     "name": "stdout",
     "output_type": "stream",
     "text": [
      "Train:  0.7626 , Test: 0.6240\n",
      "(10, 0.6137645366592515, 0.07844467724361279, 0.5353198594156386)\n"
     ]
    },
    {
     "name": "stderr",
     "output_type": "stream",
     "text": [
      " 50%|█████████████████████████████████████████████████████████████▉                                                             | 5032/10000 [00:04<00:04, 1159.69it/s]\n",
      "  3%|███▉                                                                                                                              | 6/200 [00:00<00:08, 24.09it/s]\n"
     ]
    },
    {
     "name": "stdout",
     "output_type": "stream",
     "text": [
      "Train:  0.8392 , Test: 0.6178\n",
      "(6, 0.6369849876644174, 0.10775570949941397, 0.5292292781650034)\n"
     ]
    },
    {
     "name": "stderr",
     "output_type": "stream",
     "text": [
      " 50%|█████████████████████████████████████████████████████████████▉                                                             | 5032/10000 [00:04<00:04, 1155.51it/s]\n",
      "  4%|████▌                                                                                                                             | 7/200 [00:00<00:05, 32.73it/s]\n"
     ]
    },
    {
     "name": "stdout",
     "output_type": "stream",
     "text": [
      "Train:  0.7824 , Test: 0.6467\n",
      "(9, 0.6261967010773682, 0.10381205537523215, 0.522384645702136)\n"
     ]
    },
    {
     "name": "stderr",
     "output_type": "stream",
     "text": [
      " 50%|█████████████████████████████████████████████████████████████▉                                                             | 5032/10000 [00:04<00:04, 1154.28it/s]\n",
      "  2%|█▉                                                                                                                                | 3/200 [00:00<00:11, 16.70it/s]"
     ]
    },
    {
     "name": "stdout",
     "output_type": "stream",
     "text": [
      "Train:  0.6570 , Test: 0.6694\n"
     ]
    },
    {
     "name": "stderr",
     "output_type": "stream",
     "text": [
      "\n"
     ]
    }
   ],
   "source": [
    "low_bound = sorted(rez[:10], key= lambda k: k[3], reverse=True)\n",
    "for lb in [ _ for _ in low_bound if _[3] > 0.5] :\n",
    "    print(lb[0:4])\n",
    "    test_model(survhive.DeepSurvivalMachines, **lb[4])"
   ]
  },
  {
   "cell_type": "code",
   "execution_count": 38,
   "id": "d29144de-820a-4d6e-89c0-bbf50acd6684",
   "metadata": {
    "scrolled": true
   },
   "outputs": [
    {
     "name": "stderr",
     "output_type": "stream",
     "text": [
      " 50%|█████████████████████████████████████████████████████████████▉                                                             | 5032/10000 [00:04<00:04, 1156.71it/s]\n",
      "  4%|█████▏                                                                                                                            | 8/200 [00:00<00:05, 35.30it/s]"
     ]
    },
    {
     "name": "stdout",
     "output_type": "stream",
     "text": [
      "Train:  0.8348 , Test: 0.6612\n"
     ]
    },
    {
     "name": "stderr",
     "output_type": "stream",
     "text": [
      "\n"
     ]
    },
    {
     "data": {
      "text/plain": [
       "0.6611570247933884"
      ]
     },
     "execution_count": 38,
     "metadata": {},
     "output_type": "execute_result"
    }
   ],
   "source": [
    "test_model(survhive.DeepSurvivalMachines, batch_size=16, layer_sizes=[13], n_distr=1, max_epochs=200)"
   ]
  },
  {
   "cell_type": "markdown",
   "id": "eea8b402-b00f-4636-b0ce-707d2b9c5b88",
   "metadata": {},
   "source": [
    "# Appunti di varie prove DSM\n",
    "\n",
    "## Insieme di prova (Breast cancer)\n",
    "\n",
    "Piccolo insieme bastardo. 200 elementi, 84 features e solo il 25% di eventi non censurati.\n",
    "Coxnet di default va male (c-index 53%), DSM richiede cura per inziare a generalizzare.\n",
    "\n",
    "## Stabilità risultato\n",
    "\n",
    "1. stratificare, stratificare rispetto all'evento. Usando insiemi stratificati rispetto all'evento DSM inizia a funzionare in maniera meno erratica.\n",
    "2. Se si stratifica anche la CV, L'ottimizzazione DSM tende a fornire risultati buoni per tutta le soluzioni top e anche CoxNet ci guadagna in ottimizzazione (c-index: 57%).\n",
    "   potrebbe sembrare ovvio a posteriori, dato che stiamo imponendo un \"contenuto di informazione\" simile tra train e test. ma non mi pare una forzatura clamorosa.\n",
    "\n",
    "# Ottimizzazione parametri DSM\n",
    "\n",
    "1. Quello più difficile da gestire è ovviamente la topologia della rete. Usando un solo strato nascosto si vede che anche cambiando di un solo valore la dimensione si può passare da una rete che generalizza a una che fa schifo, quindi bisognerebbe fare uno scan senza salti. O fare una random search.\n",
    "   Alla fine mi sono inventato un protocollo scemo ma che sembra andare ragionevolmente (su breast cancer). Fare uno scan per i valori de numeri primi compresi tra 3 e n_features/2 (olè!)\n",
    "2. Reti a \"parametri equivalenti\", (la procedura del quant): fatti tanti test, c'è un fenomeno curioso: le reti con numero pari di strarti nascosti generalizzano male. Mah!\n",
    "   Quindi alla fine ho testato sistematicamente solo quelle con strati dispari (1,3,5). Ma per quelle con 5 iniziano ad apparire problemi di stabilità numerica, probabilmente quando sono troppo grandi.\n",
    "3. numero di funzioni di base (Weibull): il default è 2, ma si ottengono parecchi buoni risultati anche con una sola. Molte soluzioni con 3 non generalizzano. quindi 1 o 2.\n",
    "4. Come detto sopra, la stratificazione aiuta molto, così come il fare almeno 10 split (n_splits=5, n_repeats=2) per aver una varianza abbastanza stabile. Sono riuscito a fare griglie con cv stratificate con un trucchino sklearn che implementerei\n",
    "5. batch size: 10% dell'insieme di train. Sembra OK. mai ottimizzata. così come gli altri parametri legati al learning. Non mi aspetto che incidano.\n",
    "6. Alla fine della fiera si possono ottenere risulati stabilmente decorosi usando 1 o 3 strati nascosto e 1 sola weibull (test c-index: 65%). Introducendo anche la doppia weibull la griglia diventa più onerosa e possono aumentare le soluzioni solo apparentemente buone ma generalizzano peggio (anche se non disastrose: 58%). Non andare oltre le 2 weibull e 3 strati.\n"
   ]
  },
  {
   "cell_type": "markdown",
   "id": "b0b40382-076d-4687-94be-a531868a6f55",
   "metadata": {},
   "source": [
    "# PyCox"
   ]
  },
  {
   "cell_type": "code",
   "execution_count": 55,
   "id": "d4c93711-b26b-447b-a207-32641f9c5e89",
   "metadata": {},
   "outputs": [],
   "source": [
    "#import pycox.models"
   ]
  },
  {
   "cell_type": "code",
   "execution_count": 41,
   "id": "ec08ab11-20e1-4d66-9cf7-862a875fe8c6",
   "metadata": {},
   "outputs": [
    {
     "data": {
      "text/html": [
       "<style>#sk-container-id-5 {color: black;background-color: white;}#sk-container-id-5 pre{padding: 0;}#sk-container-id-5 div.sk-toggleable {background-color: white;}#sk-container-id-5 label.sk-toggleable__label {cursor: pointer;display: block;width: 100%;margin-bottom: 0;padding: 0.3em;box-sizing: border-box;text-align: center;}#sk-container-id-5 label.sk-toggleable__label-arrow:before {content: \"▸\";float: left;margin-right: 0.25em;color: #696969;}#sk-container-id-5 label.sk-toggleable__label-arrow:hover:before {color: black;}#sk-container-id-5 div.sk-estimator:hover label.sk-toggleable__label-arrow:before {color: black;}#sk-container-id-5 div.sk-toggleable__content {max-height: 0;max-width: 0;overflow: hidden;text-align: left;background-color: #f0f8ff;}#sk-container-id-5 div.sk-toggleable__content pre {margin: 0.2em;color: black;border-radius: 0.25em;background-color: #f0f8ff;}#sk-container-id-5 input.sk-toggleable__control:checked~div.sk-toggleable__content {max-height: 200px;max-width: 100%;overflow: auto;}#sk-container-id-5 input.sk-toggleable__control:checked~label.sk-toggleable__label-arrow:before {content: \"▾\";}#sk-container-id-5 div.sk-estimator input.sk-toggleable__control:checked~label.sk-toggleable__label {background-color: #d4ebff;}#sk-container-id-5 div.sk-label input.sk-toggleable__control:checked~label.sk-toggleable__label {background-color: #d4ebff;}#sk-container-id-5 input.sk-hidden--visually {border: 0;clip: rect(1px 1px 1px 1px);clip: rect(1px, 1px, 1px, 1px);height: 1px;margin: -1px;overflow: hidden;padding: 0;position: absolute;width: 1px;}#sk-container-id-5 div.sk-estimator {font-family: monospace;background-color: #f0f8ff;border: 1px dotted black;border-radius: 0.25em;box-sizing: border-box;margin-bottom: 0.5em;}#sk-container-id-5 div.sk-estimator:hover {background-color: #d4ebff;}#sk-container-id-5 div.sk-parallel-item::after {content: \"\";width: 100%;border-bottom: 1px solid gray;flex-grow: 1;}#sk-container-id-5 div.sk-label:hover label.sk-toggleable__label {background-color: #d4ebff;}#sk-container-id-5 div.sk-serial::before {content: \"\";position: absolute;border-left: 1px solid gray;box-sizing: border-box;top: 0;bottom: 0;left: 50%;z-index: 0;}#sk-container-id-5 div.sk-serial {display: flex;flex-direction: column;align-items: center;background-color: white;padding-right: 0.2em;padding-left: 0.2em;position: relative;}#sk-container-id-5 div.sk-item {position: relative;z-index: 1;}#sk-container-id-5 div.sk-parallel {display: flex;align-items: stretch;justify-content: center;background-color: white;position: relative;}#sk-container-id-5 div.sk-item::before, #sk-container-id-5 div.sk-parallel-item::before {content: \"\";position: absolute;border-left: 1px solid gray;box-sizing: border-box;top: 0;bottom: 0;left: 50%;z-index: -1;}#sk-container-id-5 div.sk-parallel-item {display: flex;flex-direction: column;z-index: 1;position: relative;background-color: white;}#sk-container-id-5 div.sk-parallel-item:first-child::after {align-self: flex-end;width: 50%;}#sk-container-id-5 div.sk-parallel-item:last-child::after {align-self: flex-start;width: 50%;}#sk-container-id-5 div.sk-parallel-item:only-child::after {width: 0;}#sk-container-id-5 div.sk-dashed-wrapped {border: 1px dashed gray;margin: 0 0.4em 0.5em 0.4em;box-sizing: border-box;padding-bottom: 0.4em;background-color: white;}#sk-container-id-5 div.sk-label label {font-family: monospace;font-weight: bold;display: inline-block;line-height: 1.2em;}#sk-container-id-5 div.sk-label-container {text-align: center;}#sk-container-id-5 div.sk-container {/* jupyter's `normalize.less` sets `[hidden] { display: none; }` but bootstrap.min.css set `[hidden] { display: none !important; }` so we also need the `!important` here to be able to override the default hidden behavior on the sphinx rendered scikit-learn.org. See: https://github.com/scikit-learn/scikit-learn/issues/21755 */display: inline-block !important;position: relative;}#sk-container-id-5 div.sk-text-repr-fallback {display: none;}</style><div id=\"sk-container-id-5\" class=\"sk-top-container\"><div class=\"sk-text-repr-fallback\"><pre>DeepHitSingle(rng_seed=2309, num_durations=10, layer_sizes=[10, 10], epochs=10, batch_size=16, validation_size=0.1, learning_rate=0.001, dropout=0.1, device=&#x27;cpu&#x27;)</pre><b>In a Jupyter environment, please rerun this cell to show the HTML representation or trust the notebook. <br />On GitHub, the HTML representation is unable to render, please try loading this page with nbviewer.org.</b></div><div class=\"sk-container\" hidden><div class=\"sk-item\"><div class=\"sk-estimator sk-toggleable\"><input class=\"sk-toggleable__control sk-hidden--visually\" id=\"sk-estimator-id-5\" type=\"checkbox\" checked><label for=\"sk-estimator-id-5\" class=\"sk-toggleable__label sk-toggleable__label-arrow\">DeepHitSingle</label><div class=\"sk-toggleable__content\"><pre>DeepHitSingle(rng_seed=2309, num_durations=10, layer_sizes=[10, 10], epochs=10, batch_size=16, validation_size=0.1, learning_rate=0.001, dropout=0.1, device=&#x27;cpu&#x27;)</pre></div></div></div></div></div>"
      ],
      "text/plain": [
       "DeepHitSingle(rng_seed=2309, num_durations=10, layer_sizes=[10, 10], epochs=10, batch_size=16, validation_size=0.1, learning_rate=0.001, dropout=0.1, device='cpu')"
      ]
     },
     "execution_count": 41,
     "metadata": {},
     "output_type": "execute_result"
    }
   ],
   "source": [
    "dhs = survhive.DeepHitSingle(rng_seed=2309,\n",
    "                             #validation_size=0.15, \n",
    "                             #learning_rate=0.005,\n",
    "                            )\n",
    "dhs"
   ]
  },
  {
   "cell_type": "code",
   "execution_count": 44,
   "id": "e18d99ef-0064-4d73-b6fc-48e8ee64b37a",
   "metadata": {},
   "outputs": [],
   "source": [
    "# WARNING: if num_cpus is defined in GridSearchCV it dies in the first run of DHS fit, probably bc it wants all cpus for itself\n",
    "def optimize(estimator, X, y, mode='sklearn-grid', user_grid=[] , cv=None):\n",
    "    if mode == 'sklearn-grid':\n",
    "        if not user_grid: \n",
    "            user_grid = estimator.get_parameter_grid()\n",
    "        gs = GridSearchCV(estimator, user_grid, refit=True, cv=cv)\n",
    "        gs.fit(X, y)\n",
    "        return gs.best_estimator_, gs.best_params_, gs\n",
    "    raise ValueError(f'unknown mode parameter: \"{mode}\"')"
   ]
  },
  {
   "cell_type": "code",
   "execution_count": 47,
   "id": "02f94508-cc94-4aa7-bce1-519736713ae4",
   "metadata": {},
   "outputs": [
    {
     "data": {
      "text/plain": [
       "{'num_durations': [10],\n",
       " 'layer_sizes': [[3],\n",
       "  [4],\n",
       "  [5],\n",
       "  [7],\n",
       "  [9],\n",
       "  [11],\n",
       "  [14],\n",
       "  [19],\n",
       "  [24],\n",
       "  [32],\n",
       "  [41],\n",
       "  [54],\n",
       "  [70],\n",
       "  [3, 3],\n",
       "  [4, 4],\n",
       "  [5, 5],\n",
       "  [7, 7],\n",
       "  [9, 9],\n",
       "  [11, 11],\n",
       "  [14, 14],\n",
       "  [19, 19],\n",
       "  [24, 24],\n",
       "  [32, 32],\n",
       "  [41, 41],\n",
       "  [54, 54],\n",
       "  [70, 70],\n",
       "  [3, 3, 3],\n",
       "  [4, 4, 4],\n",
       "  [5, 5, 5],\n",
       "  [7, 7, 7],\n",
       "  [9, 9, 9],\n",
       "  [11, 11, 11],\n",
       "  [14, 14, 14],\n",
       "  [19, 19, 19],\n",
       "  [24, 24, 24],\n",
       "  [32, 32, 32],\n",
       "  [41, 41, 41],\n",
       "  [54, 54, 54],\n",
       "  [70, 70, 70]],\n",
       " 'epochs': [100],\n",
       " 'batch_size': [16, 32],\n",
       " 'dropout': [0.1, 0.2, 0.3],\n",
       " 'validation_size': [0.1]}"
      ]
     },
     "execution_count": 47,
     "metadata": {},
     "output_type": "execute_result"
    }
   ],
   "source": [
    "dhs_grid = dhs.get_parameter_grid(max_width=n_features)\n",
    "dhs_grid"
   ]
  },
  {
   "cell_type": "code",
   "execution_count": 88,
   "id": "49d5c9f0-9ae1-4cc0-87ee-829b2614f147",
   "metadata": {},
   "outputs": [
    {
     "name": "stdout",
     "output_type": "stream",
     "text": [
      "Train:  0.8274 , Test: 0.6364\n"
     ]
    },
    {
     "data": {
      "text/plain": [
       "0.6363636363636364"
      ]
     },
     "execution_count": 88,
     "metadata": {},
     "output_type": "execute_result"
    }
   ],
   "source": [
    "test_model(survhive.DeepHitSingle, rng_seed=2309, num_durations=10, validation_size=None, dropout=0.05, learning_rate=0.005,  epochs=100, layer_sizes=[7,7])"
   ]
  },
  {
   "cell_type": "code",
   "execution_count": 62,
   "id": "f5e6ce2e-0a8a-4805-b9fd-9a7f0ea43f91",
   "metadata": {},
   "outputs": [
    {
     "data": {
      "text/plain": [
       "{'num_durations': [5],\n",
       " 'layer_sizes': [[84], [84, 84], [84, 84, 84], [84, 84, 84, 84]],\n",
       " 'epochs': [100],\n",
       " 'batch_size': [32, 64],\n",
       " 'dropout': [0.1, 0.5],\n",
       " 'validation_size': [0.1],\n",
       " 'learning_rate': [0.005, 0.001],\n",
       " 'rng_seed': [2309]}"
      ]
     },
     "execution_count": 62,
     "metadata": {},
     "output_type": "execute_result"
    }
   ],
   "source": [
    "dhs_grid['num_durations'] =[5]\n",
    "#some_primes = [3,5,7,11,13,17,19,23,29,31,37,41, 43, ]\n",
    "               #47, 53, 59, 61, 67, 71, 73, 79, 83] \n",
    "#dhs_grid['layer_sizes']=[ [_] for _ in some_primes\n",
    "                           # + [ [_]*2 for _ in some_primes]\n",
    "                         #+ [ [_]*3 for _ in some_primes]\n",
    "                        #]\n",
    "dhs_grid['layer_sizes'] =[[n_features], [n_features]*2, [n_features]*3, [n_features]*4 ]\n",
    "dhs_grid['epochs']=[100]\n",
    "dhs_grid['learning_rate']=[0.005, 0.001]\n",
    "dhs_grid['validation_size']=[0.1]\n",
    "dhs_grid['dropout']=[0.1,0.5]\n",
    "dhs_grid['rng_seed']=[2309]\n",
    "dhs_grid['batch_size']=[32,64]\n",
    "dhs_grid"
   ]
  },
  {
   "cell_type": "code",
   "execution_count": 63,
   "id": "5ab02155-32b6-479f-bcef-646f593475de",
   "metadata": {},
   "outputs": [
    {
     "data": {
      "text/plain": [
       "(0.5950413223140496,\n",
       " {'batch_size': 32,\n",
       "  'dropout': 0.5,\n",
       "  'epochs': 100,\n",
       "  'layer_sizes': [84, 84, 84],\n",
       "  'learning_rate': 0.005,\n",
       "  'num_durations': 5,\n",
       "  'rng_seed': 2309,\n",
       "  'validation_size': 0.1})"
      ]
     },
     "execution_count": 63,
     "metadata": {},
     "output_type": "execute_result"
    }
   ],
   "source": [
    "opt_dhs, opt_dhs_params, opt_dhs_search = optimize(dhs,  X_train, y_train, \n",
    "                                                   user_grid=dhs_grid,cv=RepeatedStratifiedKFold(n_splits=5, \n",
    "                                                                                                 n_repeats=2, \n",
    "                                                                                                 random_state=2309).split(X_train,survhive.get_indicator(y_train)))\n",
    "opt_dhs.score(X_test, y_test), opt_dhs_params"
   ]
  },
  {
   "cell_type": "code",
   "execution_count": 64,
   "id": "125929f8-227a-42b2-af58-f3f7b6ac8f94",
   "metadata": {},
   "outputs": [
    {
     "data": {
      "text/plain": [
       "[(1,\n",
       "  0.6404428616192307,\n",
       "  0.10734552455302732,\n",
       "  0.5330973370662033,\n",
       "  {'batch_size': 32,\n",
       "   'dropout': 0.5,\n",
       "   'epochs': 100,\n",
       "   'layer_sizes': [84, 84, 84],\n",
       "   'learning_rate': 0.005,\n",
       "   'num_durations': 5,\n",
       "   'rng_seed': 2309,\n",
       "   'validation_size': 0.1}),\n",
       " (2,\n",
       "  0.6393646516746532,\n",
       "  0.08494808054913208,\n",
       "  0.5544165711255211,\n",
       "  {'batch_size': 32,\n",
       "   'dropout': 0.5,\n",
       "   'epochs': 100,\n",
       "   'layer_sizes': [84, 84, 84],\n",
       "   'learning_rate': 0.001,\n",
       "   'num_durations': 5,\n",
       "   'rng_seed': 2309,\n",
       "   'validation_size': 0.1}),\n",
       " (3,\n",
       "  0.6358160376630274,\n",
       "  0.10277008685947399,\n",
       "  0.5330459508035534,\n",
       "  {'batch_size': 64,\n",
       "   'dropout': 0.1,\n",
       "   'epochs': 100,\n",
       "   'layer_sizes': [84, 84, 84],\n",
       "   'learning_rate': 0.001,\n",
       "   'num_durations': 5,\n",
       "   'rng_seed': 2309,\n",
       "   'validation_size': 0.1}),\n",
       " (4,\n",
       "  0.6296206829454455,\n",
       "  0.08895431196181111,\n",
       "  0.5406663709836343,\n",
       "  {'batch_size': 32,\n",
       "   'dropout': 0.1,\n",
       "   'epochs': 100,\n",
       "   'layer_sizes': [84, 84, 84],\n",
       "   'learning_rate': 0.001,\n",
       "   'num_durations': 5,\n",
       "   'rng_seed': 2309,\n",
       "   'validation_size': 0.1}),\n",
       " (5,\n",
       "  0.6241366560328435,\n",
       "  0.08111517522271638,\n",
       "  0.5430214808101271,\n",
       "  {'batch_size': 64,\n",
       "   'dropout': 0.5,\n",
       "   'epochs': 100,\n",
       "   'layer_sizes': [84, 84, 84],\n",
       "   'learning_rate': 0.001,\n",
       "   'num_durations': 5,\n",
       "   'rng_seed': 2309,\n",
       "   'validation_size': 0.1}),\n",
       " (6,\n",
       "  0.6091212139295202,\n",
       "  0.09113942127976464,\n",
       "  0.5179817926497556,\n",
       "  {'batch_size': 64,\n",
       "   'dropout': 0.5,\n",
       "   'epochs': 100,\n",
       "   'layer_sizes': [84, 84, 84],\n",
       "   'learning_rate': 0.005,\n",
       "   'num_durations': 5,\n",
       "   'rng_seed': 2309,\n",
       "   'validation_size': 0.1}),\n",
       " (7,\n",
       "  0.6071318002758148,\n",
       "  0.10898158735134307,\n",
       "  0.49815021292447176,\n",
       "  {'batch_size': 64,\n",
       "   'dropout': 0.1,\n",
       "   'epochs': 100,\n",
       "   'layer_sizes': [84, 84, 84],\n",
       "   'learning_rate': 0.005,\n",
       "   'num_durations': 5,\n",
       "   'rng_seed': 2309,\n",
       "   'validation_size': 0.1}),\n",
       " (8,\n",
       "  0.5998912689102613,\n",
       "  0.08412558615437021,\n",
       "  0.5157656827558912,\n",
       "  {'batch_size': 32,\n",
       "   'dropout': 0.1,\n",
       "   'epochs': 100,\n",
       "   'layer_sizes': [84, 84, 84],\n",
       "   'learning_rate': 0.005,\n",
       "   'num_durations': 5,\n",
       "   'rng_seed': 2309,\n",
       "   'validation_size': 0.1}),\n",
       " (9,\n",
       "  0.5657034604329402,\n",
       "  0.07608469201438944,\n",
       "  0.48961876841855073,\n",
       "  {'batch_size': 64,\n",
       "   'dropout': 0.5,\n",
       "   'epochs': 100,\n",
       "   'layer_sizes': [84, 84],\n",
       "   'learning_rate': 0.001,\n",
       "   'num_durations': 5,\n",
       "   'rng_seed': 2309,\n",
       "   'validation_size': 0.1}),\n",
       " (10,\n",
       "  0.5613302397833906,\n",
       "  0.14033515592398466,\n",
       "  0.4209950838594059,\n",
       "  {'batch_size': 32,\n",
       "   'dropout': 0.1,\n",
       "   'epochs': 100,\n",
       "   'layer_sizes': [84],\n",
       "   'learning_rate': 0.005,\n",
       "   'num_durations': 5,\n",
       "   'rng_seed': 2309,\n",
       "   'validation_size': 0.1})]"
      ]
     },
     "execution_count": 64,
     "metadata": {},
     "output_type": "execute_result"
    }
   ],
   "source": [
    "dhs_res = opt_dhs_search.cv_results_\n",
    "rez=sorted(zip(dhs_res['rank_test_score'], dhs_res['mean_test_score'] , dhs_res['std_test_score'], \n",
    "               dhs_res['mean_test_score'] - dhs_res['std_test_score'], opt_dhs_search.cv_results_['params']))\n",
    "\n",
    "rez[:10]"
   ]
  },
  {
   "cell_type": "code",
   "execution_count": 65,
   "id": "3e0e1138-132f-4007-9e4d-9add3a6f3cd8",
   "metadata": {
    "scrolled": true
   },
   "outputs": [
    {
     "name": "stdout",
     "output_type": "stream",
     "text": [
      "(2, 0.6393646516746532, 0.08494808054913208, 0.5544165711255211)\n",
      "Train:  0.6846 , Test: 0.5165\n",
      "(5, 0.6241366560328435, 0.08111517522271638, 0.5430214808101271)\n",
      "Train:  0.6848 , Test: 0.5124\n",
      "(4, 0.6296206829454455, 0.08895431196181111, 0.5406663709836343)\n",
      "Train:  0.7305 , Test: 0.4959\n",
      "(1, 0.6404428616192307, 0.10734552455302732, 0.5330973370662033)\n",
      "Train:  0.6904 , Test: 0.5950\n",
      "(3, 0.6358160376630274, 0.10277008685947399, 0.5330459508035534)\n",
      "Train:  0.7918 , Test: 0.5145\n",
      "(6, 0.6091212139295202, 0.09113942127976464, 0.5179817926497556)\n",
      "Train:  0.6928 , Test: 0.5475\n",
      "(8, 0.5998912689102613, 0.08412558615437021, 0.5157656827558912)\n",
      "Train:  0.7060 , Test: 0.5620\n"
     ]
    }
   ],
   "source": [
    "low_bound = sorted(rez[:10], key= lambda k: k[3], reverse=True)\n",
    "for lb in [ _ for _ in low_bound if _[3] > 0.5] :\n",
    "    print(lb[0:4])\n",
    "    test_model(survhive.DeepHitSingle, **lb[4])"
   ]
  },
  {
   "cell_type": "code",
   "execution_count": 56,
   "id": "f0d67cd4-7d7c-4576-9d6e-7f05a5e54a4c",
   "metadata": {},
   "outputs": [
    {
     "data": {
      "text/plain": [
       "<Axes: >"
      ]
     },
     "execution_count": 56,
     "metadata": {},
     "output_type": "execute_result"
    },
    {
     "data": {
      "image/png": "[encoded data removed]",
      "text/plain": [
       "<Figure size 640x480 with 1 Axes>"
      ]
     },
     "metadata": {},
     "output_type": "display_data"
    }
   ],
   "source": [
    "opt_dhs.training_log_.plot()"
   ]
  },
  {
   "cell_type": "code",
   "execution_count": 57,
   "id": "0fcb85ae-7068-456e-8777-d673e5402399",
   "metadata": {},
   "outputs": [
    {
     "name": "stdout",
     "output_type": "stream",
     "text": [
      "0.6903700401248328 0.5537190082644629\n"
     ]
    },
    {
     "data": {
      "text/plain": [
       "<Axes: >"
      ]
     },
     "execution_count": 57,
     "metadata": {},
     "output_type": "execute_result"
    },
    {
     "data": {
      "image/png": "[encoded data removed]",
      "text/plain": [
       "<Figure size 640x480 with 1 Axes>"
      ]
     },
     "metadata": {},
     "output_type": "display_data"
    }
   ],
   "source": [
    "xplore=survhive.DeepHitSingle( **rez[2][4])\n",
    "xplore.fit(X_train,y_train)\n",
    "print(xplore.score(X_train,y_train), xplore.score(X_test,y_test))\n",
    "xplore.training_log_.plot()"
   ]
  },
  {
   "cell_type": "markdown",
   "id": "d83c2fbe-b77a-4408-b54f-6a88d06a131d",
   "metadata": {},
   "source": [
    "## Appunti DHS"
   ]
  },
  {
   "cell_type": "markdown",
   "id": "860ebf6b-b847-4802-b246-06692d969bc3",
   "metadata": {},
   "source": [
    "Con DHS sembra migliore di DSM su questo insieme\n",
    "\n",
    "1. Usando la stratificazione ubiquitaria è piuttosto semplice ottenere risultati comparabili a DSM\n",
    "2. Anche in questo caso, uno strato nascosto sembra sufficiente, la stategia delle reti multistrato nascosto non sembra apportare benefici.\n",
    "3. Sembra più veloce (e comunque supporta le GPU).\n",
    "   *NB* muore orrendamente se si usano processi multipli per gridsearchCV. Il modello vuole tutto per sè.\n",
    "\n",
    "### Problema \n",
    "\n",
    "I parametri di epoch e learning_rate influenzano i risultati e andrebbero calibrati.\n",
    "Ma secondo me questo è vero solo perchè il wrapper non implementa *early stopping*, mentre il modello pycox originale lo fa.\n",
    "Una volta implementato quello, l'ottimizzazione paramentri si potrebbe ridurre essenzialmente alla sola ricerca della dimensione del layer migliore"
   ]
  },
  {
   "cell_type": "markdown",
   "id": "c2c50970-473a-4e5d-bc64-bcda4dcb10a5",
   "metadata": {},
   "source": [
    "### Dopo l'introduzione di early stopping\n",
    "\n",
    "Early stopping (che di default usa una *patience* di 10 epochs e un internal validation size del 10%) rende i risultati peggiori e piuttosto randomici, nel senso che è difficile estrarre consistentemente valori che generalizzino meglio di Coxnet solo basandosi sullo score. risultati sensibili a learning_rate e **rng_seed**.\n",
    "L'introduzione di batch normalization non cambia le cose, quella di dropoutal10% rende i grafici di learning ancora più noisy.\n",
    "\n",
    "Parziale mitigazione: usare *avg-std* come score per la selezione e portare cv a 15 punti (cv 5 con tre ripetizioni).\n",
    "\n",
    "una griglia di solo learning rate, fatta con poche reti sembra suggerire limitata dipendenza dalla topologia (per valori di lr=[0.01,0.005, 0.001], ma grosso effetto su best cv_score.\n",
    "\n",
    "Forse l'assenza di early stopping portava a punteggi alti in quanto train e test sono \"simili\" e fare (over)fitting con alta\n",
    "\n",
    "Tutto ciò potrebbe essere insieme dipendente.\n",
    "\n",
    "HP ha senso fare dropout ma NON early stopping? al mio occhio inesperto sembrerebbe di si"
   ]
  }
 ],
 "metadata": {
  "kernelspec": {
   "display_name": "Python 3 (ipykernel)",
   "language": "python",
   "name": "python3"
  },
  "language_info": {
   "codemirror_mode": {
    "name": "ipython",
    "version": 3
   },
   "file_extension": ".py",
   "mimetype": "text/x-python",
   "name": "python",
   "nbconvert_exporter": "python",
   "pygments_lexer": "ipython3",
   "version": "3.8.17"
  }
 },
 "nbformat": 4,
 "nbformat_minor": 5
}
