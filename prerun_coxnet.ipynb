{
 "cells": [
  {
   "cell_type": "markdown",
   "id": "117cbe68-df60-4578-846a-0b9095732634",
   "metadata": {},
   "source": [
    "# Draft: method evaluation"
   ]
  },
  {
   "cell_type": "code",
   "execution_count": 1,
   "id": "387d1412",
   "metadata": {},
   "outputs": [],
   "source": [
    "import numpy"
   ]
  },
  {
   "cell_type": "code",
   "execution_count": 2,
   "id": "c4083da7",
   "metadata": {},
   "outputs": [],
   "source": [
    "import sklearn"
   ]
  },
  {
   "cell_type": "code",
   "execution_count": 3,
   "id": "d0d73163-89f8-4c5a-bedf-770b8d606bd6",
   "metadata": {},
   "outputs": [],
   "source": [
    "from dataclasses import dataclass"
   ]
  },
  {
   "cell_type": "code",
   "execution_count": 4,
   "id": "5f7d6271",
   "metadata": {},
   "outputs": [
    {
     "data": {
      "text/plain": [
       "('flchain', 'gbsg2', 'metabric', 'support')"
      ]
     },
     "execution_count": 4,
     "metadata": {},
     "output_type": "execute_result"
    }
   ],
   "source": [
    "import survwrap\n",
    "survwrap.datasets.list_available_datasets()"
   ]
  },
  {
   "cell_type": "code",
   "execution_count": 5,
   "id": "f373c237-f6e9-461e-9116-0b59a4cb92ea",
   "metadata": {},
   "outputs": [
    {
     "data": {
      "text/plain": [
       "(numpy.ndarray, numpy.ndarray)"
      ]
     },
     "execution_count": 5,
     "metadata": {},
     "output_type": "execute_result"
    }
   ],
   "source": [
    "_a,_b = survwrap.load_test_data()\n",
    "type(_a), type(_b)"
   ]
  },
  {
   "cell_type": "code",
   "execution_count": 6,
   "id": "1f73bb0e-65ef-44c7-a863-fad8acdc6730",
   "metadata": {},
   "outputs": [],
   "source": [
    "my_data='gbsg2'\n",
    "my_data_df=survwrap.datasets.get_data(my_data)"
   ]
  },
  {
   "cell_type": "code",
   "execution_count": 44,
   "id": "bd0a8c51-b163-4005-ac73-f11dbcb0f73d",
   "metadata": {},
   "outputs": [
    {
     "name": "stdout",
     "output_type": "stream",
     "text": [
      "|    |   age |   meno |   size |   grade |   nodes |   pgr |   er |   hormon |   time |   event |\n",
      "|---:|------:|-------:|-------:|--------:|--------:|------:|-----:|---------:|-------:|--------:|\n",
      "|  0 |    74 |      1 |      1 |       3 |       0 |    35 |  291 |        0 |   1799 |       0 |\n",
      "|  1 |    79 |      1 |      2 |       3 |       0 |    36 |  611 |        0 |   2828 |       0 |\n",
      "|  2 |    44 |      0 |      1 |       2 |       0 |   138 |    0 |        0 |   6012 |       0 |\n",
      "|  3 |    70 |      1 |      2 |       3 |       0 |     0 |   12 |        0 |   2624 |       0 |\n",
      "|  4 |    75 |      1 |      1 |       3 |       0 |   260 |  409 |        0 |   4915 |       0 |\n"
     ]
    }
   ],
   "source": [
    "print(my_data_df.dataframe.head().to_markdown())"
   ]
  },
  {
   "cell_type": "code",
   "execution_count": 8,
   "id": "210bf36c",
   "metadata": {},
   "outputs": [
    {
     "data": {
      "text/plain": [
       "((3668, 8), (3668,))"
      ]
     },
     "execution_count": 8,
     "metadata": {},
     "output_type": "execute_result"
    }
   ],
   "source": [
    "X, y= my_data_df.get_X_y()\n",
    "#X.shape, y.shape"
   ]
  },
  {
   "cell_type": "code",
   "execution_count": 45,
   "id": "dde6e1e9-d0ac-4091-b191-836fe7633508",
   "metadata": {},
   "outputs": [],
   "source": [
    "a_third=X.shape[0] // 3\n",
    "#a_third"
   ]
  },
  {
   "cell_type": "code",
   "execution_count": 10,
   "id": "51aa964b-c99e-4e9c-a429-a5247ba7ec44",
   "metadata": {},
   "outputs": [],
   "source": [
    "seed=2311"
   ]
  },
  {
   "cell_type": "markdown",
   "id": "8c86eb70-ff7c-493b-8095-c83d59f4fbe1",
   "metadata": {},
   "source": [
    "## check possible dimensionality reduction"
   ]
  },
  {
   "cell_type": "code",
   "execution_count": 11,
   "id": "fde3a10a-379c-42b8-8070-485e7c4326bb",
   "metadata": {},
   "outputs": [],
   "source": [
    "from sklearn.decomposition import PCA"
   ]
  },
  {
   "cell_type": "code",
   "execution_count": 12,
   "id": "1ad7a35b-9295-40f8-a9c4-a02ca8cf83c8",
   "metadata": {},
   "outputs": [
    {
     "name": "stdout",
     "output_type": "stream",
     "text": [
      "Data set name: gbsg2\n",
      "n. of features: 8 - PCA-reducible to: 2\n"
     ]
    }
   ],
   "source": [
    "pca= PCA(n_components=0.995, random_state=seed).fit(X)\n",
    "print(\"Data set name:\", my_data),\n",
    "print(\"n. of features:\", X.shape[1],\n",
    "      \"- PCA-reducible to:\", pca.n_components_)"
   ]
  },
  {
   "cell_type": "markdown",
   "id": "46371f15-7519-4d9c-8aa0-bad2ac2d3f97",
   "metadata": {},
   "source": [
    "### Generate three (stratified) non-overlapping splits of original data"
   ]
  },
  {
   "cell_type": "code",
   "execution_count": 13,
   "id": "5eebeca4-3217-4b69-beca-04c4529ecb4d",
   "metadata": {},
   "outputs": [
    {
     "data": {
      "text/plain": [
       "((3668, 8), (3668,))"
      ]
     },
     "execution_count": 13,
     "metadata": {},
     "output_type": "execute_result"
    }
   ],
   "source": [
    "X.shape,y.shape"
   ]
  },
  {
   "cell_type": "code",
   "execution_count": 14,
   "id": "7134e717-bf8c-44b6-bc7e-f49e1baff0a4",
   "metadata": {},
   "outputs": [
    {
     "data": {
      "text/plain": [
       "[split(X=None, y=None), split(X=None, y=None), split(X=None, y=None)]"
      ]
     },
     "execution_count": 14,
     "metadata": {},
     "output_type": "execute_result"
    }
   ],
   "source": [
    "@dataclass\n",
    "class split:\n",
    "    X: numpy.ndarray = None\n",
    "    y: numpy.ndarray = None\n",
    "\n",
    "[split() for _ in range(3)]"
   ]
  },
  {
   "cell_type": "code",
   "execution_count": 15,
   "id": "d6f6aa75-c82a-47ce-a05c-d13d73950bf3",
   "metadata": {},
   "outputs": [
    {
     "name": "stdout",
     "output_type": "stream",
     "text": [
      "[1222, 1223, 1223]\n"
     ]
    }
   ],
   "source": [
    "zsplits=[split() for _ in range(3)]\n",
    "z_rest=split()\n",
    "z_rest.X, zsplits[0].X, z_rest.y, zsplits[0].y = survwrap.survival_train_test_split(X, y,\n",
    "                                                                               rng_seed=seed,test_size=a_third)\n",
    "#print(X.shape[0], zsplits[0].X.shape[0] ,  z_rest.X.shape[0])\n",
    "assert X.shape[0] == zsplits[0].X.shape[0] + z_rest.X.shape[0]\n",
    "#print([_.X.shape[0] for _ in zsplits])\n",
    "zsplits[1].X, zsplits[2].X, zsplits[1].y, zsplits[2].y = survwrap.survival_train_test_split(z_rest.X, z_rest.y,\n",
    "                                                                              test_size=0.5,rng_seed=seed)\n",
    "assert z_rest.X.shape[0] == zsplits[1].X.shape[0] + zsplits[2].X.shape[0]\n",
    "\n",
    "zlen=[ _.X.shape[0] for _ in zsplits]\n",
    "print(zlen)\n",
    "assert  X.shape[0] == sum(zlen)"
   ]
  },
  {
   "cell_type": "markdown",
   "id": "15136001-3fb5-459c-b6f1-d4466d942ccf",
   "metadata": {},
   "source": [
    "## Create runs"
   ]
  },
  {
   "cell_type": "code",
   "execution_count": 16,
   "id": "b04e258d-cc4e-41a9-90c3-2f55699c9fa0",
   "metadata": {},
   "outputs": [],
   "source": [
    "@dataclass \n",
    "class ml_run:\n",
    "    train_set: split = None\n",
    "    test_set: split = None\n",
    "    best_model: survwrap.BaseEstimator = None\n",
    "    best_params: dict = None\n",
    "    search_params: dict = None"
   ]
  },
  {
   "cell_type": "code",
   "execution_count": 17,
   "id": "9d987161-b13e-40c8-9045-6f72de5b9ef2",
   "metadata": {},
   "outputs": [
    {
     "name": "stdout",
     "output_type": "stream",
     "text": [
      "run: 0 (2446, 8) (1222, 8)\n",
      "run: 1 (2445, 8) (1223, 8)\n",
      "run: 2 (2445, 8) (1223, 8)\n",
      "run: (2446, 8) (1222, 8)\n",
      "run: (2445, 8) (1223, 8)\n",
      "run: (2445, 8) (1223, 8)\n"
     ]
    }
   ],
   "source": [
    "fakecircular =[0,1,2,0,1]\n",
    "z_runs=[]\n",
    "for _ in range(3):\n",
    "    z_runs.append(ml_run())\n",
    "    z_runs[-1].test_set = zsplits[fakecircular[_]]\n",
    "    z_runs[-1].train_set = split()\n",
    "    z_runs[-1].train_set.X = numpy.append(zsplits[fakecircular[_+1]].X, zsplits[fakecircular[_+2]].X, axis=0)\n",
    "    z_runs[-1].train_set.y = numpy.append(zsplits[fakecircular[_+1]].y, zsplits[fakecircular[_+2]].y, axis=0) \n",
    "    print('run:',_,z_runs[-1].train_set.X.shape, z_runs[-1].test_set.X.shape)\n",
    "\n",
    "for _ in z_runs:\n",
    "    assert len(X) == len(_.train_set.X) + len(_.test_set.X)\n",
    "    assert len(y) == len(_.train_set.y) + len(_.test_set.y)\n",
    "    print('run:', _.train_set.X.shape, _.test_set.X.shape)\n"
   ]
  },
  {
   "cell_type": "markdown",
   "id": "64913e33-ff8a-4709-9634-e3c50ef886ad",
   "metadata": {},
   "source": [
    "### scale the features (only) "
   ]
  },
  {
   "cell_type": "markdown",
   "id": "b35f553a-ae5b-476e-bb42-ec48efe8ab89",
   "metadata": {},
   "source": [
    "First do the stratified splitting THEN do scaling, parameterized on X_train set ONLY "
   ]
  },
  {
   "cell_type": "code",
   "execution_count": 18,
   "id": "75714389-2def-4259-8052-bcf7977a2c56",
   "metadata": {},
   "outputs": [],
   "source": [
    "from sklearn.preprocessing import StandardScaler"
   ]
  },
  {
   "cell_type": "code",
   "execution_count": 19,
   "id": "bd02c821-86c7-4515-986b-07e769f9581b",
   "metadata": {},
   "outputs": [],
   "source": [
    "#X_train, X_test, y_train, y_test = survwrap.survival_train_test_split(X, y,rng_seed=seed)"
   ]
  },
  {
   "cell_type": "code",
   "execution_count": 20,
   "id": "dc08db68-1907-4484-8387-59cb5ddbbc7e",
   "metadata": {},
   "outputs": [
    {
     "name": "stdout",
     "output_type": "stream",
     "text": [
      "before: (2446, 8) (1222, 8)\n",
      "before: (2445, 8) (1223, 8)\n",
      "before: (2445, 8) (1223, 8)\n",
      "run: (2446, 8) (1222, 8)\n",
      "run: (2445, 8) (1223, 8)\n",
      "run: (2445, 8) (1223, 8)\n"
     ]
    }
   ],
   "source": [
    "scalers=[]\n",
    "for _ in range(len(z_runs)):\n",
    "    scalers.append(StandardScaler().fit(z_runs[_].train_set.X))\n",
    "    print('before:', z_runs[_].train_set.X.shape, z_runs[_].test_set.X.shape)\n",
    "    z_runs[_].train_set.X = scalers[-1].transform(z_runs[_].train_set.X)\n",
    "    z_runs[_].test_set.X = scalers[-1].transform(z_runs[_].test_set.X)\n",
    "\n",
    "for _ in z_runs:\n",
    "    assert len(X) == len(_.train_set.X) + len(_.test_set.X)\n",
    "    assert len(y) == len(_.train_set.y) + len(_.test_set.y)\n",
    "    print('run:',_.train_set.X.shape, _.test_set.X.shape)\n",
    "\n",
    "#assert z_runs[0] != z_runs[1] \n",
    "#assert z_runs[1] != z_runs[2]"
   ]
  },
  {
   "cell_type": "code",
   "execution_count": 21,
   "id": "449b6bde-498c-437f-8170-e86f34aafc9e",
   "metadata": {},
   "outputs": [],
   "source": [
    "#survwrap.get_indicator(y).sum(), survwrap.get_indicator(y_train).sum(), survwrap.get_indicator(y_test).sum(),\n"
   ]
  },
  {
   "cell_type": "code",
   "execution_count": 22,
   "id": "62b452cd-4763-4f78-800f-3e8c78ec3bb7",
   "metadata": {
    "scrolled": true
   },
   "outputs": [],
   "source": [
    "#splitter = survwrap.survival_crossval_splitter(X_train,y_train,n_splits=3, n_repeats=2,rng_seed=2309)\n",
    "#print([ (survwrap.get_indicator(y_train[_[1]]).sum()) for _ in splitter])"
   ]
  },
  {
   "cell_type": "code",
   "execution_count": 23,
   "id": "dd7a81c3-ced7-48df-8eba-cacb1e814bbd",
   "metadata": {},
   "outputs": [],
   "source": [
    "## Stratified CV spliter for survival analysis"
   ]
  },
  {
   "cell_type": "code",
   "execution_count": 24,
   "id": "e63ce8de-3339-4d4f-9df3-d11c8e61feba",
   "metadata": {},
   "outputs": [],
   "source": [
    "#from sklearn.model_selection import RepeatedStratifiedKFold, StratifiedKFold"
   ]
  },
  {
   "cell_type": "markdown",
   "id": "8c36a230",
   "metadata": {},
   "source": [
    "# test coxnet"
   ]
  },
  {
   "cell_type": "markdown",
   "id": "a6b08139-3f7b-4f40-a3f2-5c77d51441b0",
   "metadata": {},
   "source": [
    "## set-up optimization grid"
   ]
  },
  {
   "cell_type": "code",
   "execution_count": 25,
   "id": "a2a4b7d9-5c58-48d0-b898-71f0906e597f",
   "metadata": {},
   "outputs": [
    {
     "data": {
      "text/html": [
       "<style>#sk-container-id-1 {color: black;background-color: white;}#sk-container-id-1 pre{padding: 0;}#sk-container-id-1 div.sk-toggleable {background-color: white;}#sk-container-id-1 label.sk-toggleable__label {cursor: pointer;display: block;width: 100%;margin-bottom: 0;padding: 0.3em;box-sizing: border-box;text-align: center;}#sk-container-id-1 label.sk-toggleable__label-arrow:before {content: \"▸\";float: left;margin-right: 0.25em;color: #696969;}#sk-container-id-1 label.sk-toggleable__label-arrow:hover:before {color: black;}#sk-container-id-1 div.sk-estimator:hover label.sk-toggleable__label-arrow:before {color: black;}#sk-container-id-1 div.sk-toggleable__content {max-height: 0;max-width: 0;overflow: hidden;text-align: left;background-color: #f0f8ff;}#sk-container-id-1 div.sk-toggleable__content pre {margin: 0.2em;color: black;border-radius: 0.25em;background-color: #f0f8ff;}#sk-container-id-1 input.sk-toggleable__control:checked~div.sk-toggleable__content {max-height: 200px;max-width: 100%;overflow: auto;}#sk-container-id-1 input.sk-toggleable__control:checked~label.sk-toggleable__label-arrow:before {content: \"▾\";}#sk-container-id-1 div.sk-estimator input.sk-toggleable__control:checked~label.sk-toggleable__label {background-color: #d4ebff;}#sk-container-id-1 div.sk-label input.sk-toggleable__control:checked~label.sk-toggleable__label {background-color: #d4ebff;}#sk-container-id-1 input.sk-hidden--visually {border: 0;clip: rect(1px 1px 1px 1px);clip: rect(1px, 1px, 1px, 1px);height: 1px;margin: -1px;overflow: hidden;padding: 0;position: absolute;width: 1px;}#sk-container-id-1 div.sk-estimator {font-family: monospace;background-color: #f0f8ff;border: 1px dotted black;border-radius: 0.25em;box-sizing: border-box;margin-bottom: 0.5em;}#sk-container-id-1 div.sk-estimator:hover {background-color: #d4ebff;}#sk-container-id-1 div.sk-parallel-item::after {content: \"\";width: 100%;border-bottom: 1px solid gray;flex-grow: 1;}#sk-container-id-1 div.sk-label:hover label.sk-toggleable__label {background-color: #d4ebff;}#sk-container-id-1 div.sk-serial::before {content: \"\";position: absolute;border-left: 1px solid gray;box-sizing: border-box;top: 0;bottom: 0;left: 50%;z-index: 0;}#sk-container-id-1 div.sk-serial {display: flex;flex-direction: column;align-items: center;background-color: white;padding-right: 0.2em;padding-left: 0.2em;position: relative;}#sk-container-id-1 div.sk-item {position: relative;z-index: 1;}#sk-container-id-1 div.sk-parallel {display: flex;align-items: stretch;justify-content: center;background-color: white;position: relative;}#sk-container-id-1 div.sk-item::before, #sk-container-id-1 div.sk-parallel-item::before {content: \"\";position: absolute;border-left: 1px solid gray;box-sizing: border-box;top: 0;bottom: 0;left: 50%;z-index: -1;}#sk-container-id-1 div.sk-parallel-item {display: flex;flex-direction: column;z-index: 1;position: relative;background-color: white;}#sk-container-id-1 div.sk-parallel-item:first-child::after {align-self: flex-end;width: 50%;}#sk-container-id-1 div.sk-parallel-item:last-child::after {align-self: flex-start;width: 50%;}#sk-container-id-1 div.sk-parallel-item:only-child::after {width: 0;}#sk-container-id-1 div.sk-dashed-wrapped {border: 1px dashed gray;margin: 0 0.4em 0.5em 0.4em;box-sizing: border-box;padding-bottom: 0.4em;background-color: white;}#sk-container-id-1 div.sk-label label {font-family: monospace;font-weight: bold;display: inline-block;line-height: 1.2em;}#sk-container-id-1 div.sk-label-container {text-align: center;}#sk-container-id-1 div.sk-container {/* jupyter's `normalize.less` sets `[hidden] { display: none; }` but bootstrap.min.css set `[hidden] { display: none !important; }` so we also need the `!important` here to be able to override the default hidden behavior on the sphinx rendered scikit-learn.org. See: https://github.com/scikit-learn/scikit-learn/issues/21755 */display: inline-block !important;position: relative;}#sk-container-id-1 div.sk-text-repr-fallback {display: none;}</style><div id=\"sk-container-id-1\" class=\"sk-top-container\"><div class=\"sk-text-repr-fallback\"><pre>CoxNet(rng_seed=2311, alpha=None, l1_ratio=0.5)</pre><b>In a Jupyter environment, please rerun this cell to show the HTML representation or trust the notebook. <br />On GitHub, the HTML representation is unable to render, please try loading this page with nbviewer.org.</b></div><div class=\"sk-container\" hidden><div class=\"sk-item\"><div class=\"sk-estimator sk-toggleable\"><input class=\"sk-toggleable__control sk-hidden--visually\" id=\"sk-estimator-id-1\" type=\"checkbox\" checked><label for=\"sk-estimator-id-1\" class=\"sk-toggleable__label sk-toggleable__label-arrow\">CoxNet</label><div class=\"sk-toggleable__content\"><pre>CoxNet(rng_seed=2311, alpha=None, l1_ratio=0.5)</pre></div></div></div></div></div>"
      ],
      "text/plain": [
       "CoxNet(rng_seed=2311, alpha=None, l1_ratio=0.5)"
      ]
     },
     "execution_count": 25,
     "metadata": {},
     "output_type": "execute_result"
    }
   ],
   "source": [
    "zmodel=survwrap.CoxNet()\n",
    "zmodel.rng_seed = seed\n",
    "zmodel"
   ]
  },
  {
   "cell_type": "code",
   "execution_count": 26,
   "id": "16dc5543-031b-4924-b225-5d26cc0da964",
   "metadata": {},
   "outputs": [
    {
     "data": {
      "text/plain": [
       "{'alpha': [0.001,\n",
       "  0.003,\n",
       "  0.005,\n",
       "  0.008,\n",
       "  0.01,\n",
       "  0.02,\n",
       "  0.03,\n",
       "  0.04,\n",
       "  0.05,\n",
       "  0.06,\n",
       "  0.07,\n",
       "  0.08,\n",
       "  0.09,\n",
       "  0.1,\n",
       "  0.15,\n",
       "  0.2,\n",
       "  0.3],\n",
       " 'l1_ratio': [0.01, 0.1, 0.25, 0.5, 0.75, 0.9, 0.99]}"
      ]
     },
     "execution_count": 26,
     "metadata": {},
     "output_type": "execute_result"
    }
   ],
   "source": [
    "custom_grid=zmodel.get_parameter_grid()\n",
    "#custom_grid['l1_ratio']=[0.5]\n",
    "custom_grid"
   ]
  },
  {
   "cell_type": "code",
   "execution_count": 27,
   "id": "941e3f4c-80cd-47ef-b9bb-b7341da0af2b",
   "metadata": {},
   "outputs": [
    {
     "name": "stdout",
     "output_type": "stream",
     "text": [
      "Full-grid size: 120\n"
     ]
    }
   ],
   "source": [
    "print('Full-grid size:',survwrap.optimization._guess_tries(custom_grid,fraction=1))"
   ]
  },
  {
   "cell_type": "markdown",
   "id": "0ffc39f9-bba5-42e0-a819-917a4bcbb8df",
   "metadata": {},
   "source": [
    "## first report performances on defaults"
   ]
  },
  {
   "cell_type": "code",
   "execution_count": 28,
   "id": "661406b3-a8ab-4f7e-932f-aad2345c1afc",
   "metadata": {},
   "outputs": [
    {
     "name": "stdout",
     "output_type": "stream",
     "text": [
      "## Before optimization\n",
      "\n",
      "Run  0 - train: 0.669\n",
      "Run  0 - Test: 0.691\n",
      "Run  1 - train: 0.690\n",
      "Run  1 - Test: 0.660\n",
      "Run  2 - train: 0.678\n",
      "Run  2 - Test: 0.680\n"
     ]
    }
   ],
   "source": [
    "print('## Before optimization\\n')\n",
    "for ndx in range(3):\n",
    "    current=z_runs[ndx]\n",
    "    zmodel.fit(current.train_set.X, current.train_set.y)    \n",
    "    print(\"Run {0:2d} - train: {1:5.3f}\".format(ndx, zmodel.score(current.train_set.X, current.train_set.y)))\n",
    "    print(\"Run {0:2d} - Test: {1:5.3f}\".format(ndx, zmodel.score(current.test_set.X, current.test_set.y)))\n"
   ]
  },
  {
   "cell_type": "markdown",
   "id": "67939aee-92ee-48c1-b332-134eae63261f",
   "metadata": {},
   "source": [
    "## optimize"
   ]
  },
  {
   "cell_type": "code",
   "execution_count": 29,
   "id": "946d79e0-0f7c-44c6-893c-8b5ea52c5a57",
   "metadata": {},
   "outputs": [],
   "source": [
    "#survwrap.CoxNet().get_parameter_grid()"
   ]
  },
  {
   "cell_type": "code",
   "execution_count": 30,
   "id": "29f6d229-c0b2-43b6-91e1-b619081df7f7",
   "metadata": {},
   "outputs": [],
   "source": [
    "from survwrap import optimize\n",
    "from survwrap.metrics import *"
   ]
  },
  {
   "cell_type": "code",
   "execution_count": 31,
   "id": "352a5009-3c15-4988-83b0-41115a1e5986",
   "metadata": {},
   "outputs": [],
   "source": [
    "scorers = {\n",
    "    'c-index-td': concordance_index_td_scorer,\n",
    "    'neg-brier': make_time_dependent_scorer(neg_brier_score, time_mode='quantiles', time_values=[0.25, 0.5, 0.75]),\n",
    "    'auc': make_time_dependent_scorer(roc_auc_td_score, time_mode='quantiles', time_values=[0.25, 0.5, 0.75]),\n",
    "    #'c-index-median': make_time_dependent_scorer(concordance_index_score, time_mode='quantiles', time_values=[0.5]),\n",
    "}\n",
    "\n",
    "#best_model, best_params, search_results = survwrap.optimize(deephit, X, y, mode='sklearn-random', user_grid=dict(dropout=[0.0, 0.2, 0.9]), scoring=scoring, tries=3, refit='c-index-td')"
   ]
  },
  {
   "cell_type": "code",
   "execution_count": 32,
   "id": "62e8809e-ff29-4627-80e5-c725588e7d16",
   "metadata": {},
   "outputs": [],
   "source": [
    "def save_results(run, basename):\n",
    "    import pickle\n",
    "    import json\n",
    "    with open(basename+'_params.json',\"w\") as f:\n",
    "        json.dump(run.best_params, f)\n",
    "        f.close()\n",
    "    with open(basename+'_search.json',\"w\") as f:\n",
    "        survwrap.get_model_scores_df(run.search_params).to_json(f)\n",
    "        #pickle.dump(run.search_params, f)\n",
    "        f.close()\n",
    "    with open(basename+'_model.pickle',\"wb\") as f:\n",
    "        pickle.dump(run.best_model, f)\n",
    "        f.close()"
   ]
  },
  {
   "cell_type": "code",
   "execution_count": 33,
   "id": "d1c6216f-e922-4a06-a8ca-455414535b04",
   "metadata": {},
   "outputs": [
    {
     "name": "stdout",
     "output_type": "stream",
     "text": [
      "Random search tries: 2\n",
      "run  0 - best model test score:  0.692\n",
      "\tparams: {'l1_ratio': 0.01, 'alpha': 0.02}\n",
      "\n",
      "saving w. basename: gbsg2_CoxNet_0\n",
      "Random search tries: 2\n",
      "run  1 - best model test score:  0.662\n",
      "\tparams: {'l1_ratio': 0.9, 'alpha': 0.02}\n",
      "\n",
      "saving w. basename: gbsg2_CoxNet_1\n",
      "Random search tries: 2\n",
      "run  2 - best model test score:  0.680\n",
      "\tparams: {'l1_ratio': 0.01, 'alpha': 0.02}\n",
      "\n",
      "saving w. basename: gbsg2_CoxNet_2\n"
     ]
    }
   ],
   "source": [
    "for ndx in range(3):\n",
    "    current=z_runs[ndx]\n",
    "    base_file_name= '_'.join([my_data,type(zmodel).__name__, str(ndx)])\n",
    "    current.best_model, current.best_params, current.search_params = optimize(zmodel, current.train_set.X , current.train_set.y, mode='sklearn-random',\n",
    "                                                                          user_grid=custom_grid, tries=2,\n",
    "                                                                          scoring=scorers, refit='c-index-td',\n",
    "                                                                         n_jobs=4)\n",
    "\n",
    "    print('run {0:2d} - best model test score:  {1:5.3f}'.format(\n",
    "        ndx,\n",
    "        current.best_model.score(current.test_set.X, current.test_set.y)))\n",
    "    print(\"\\tparams:\", current.best_params)\n",
    "    print('\\nsaving w. basename:', base_file_name)\n",
    "    save_results(current, base_file_name)"
   ]
  },
  {
   "cell_type": "markdown",
   "id": "8e1d24d1-87de-424c-83eb-4ec4c01670f0",
   "metadata": {},
   "source": [
    "# Final Summary"
   ]
  },
  {
   "cell_type": "code",
   "execution_count": 34,
   "id": "7fa3fb2d-c06d-4b22-8583-50fb08b86444",
   "metadata": {},
   "outputs": [],
   "source": [
    "#opt_coxnet, opt_coxnet_params, opt_coxnet_search = optimize(survwrap.CoxNet(rng_seed=2309), X_train, y_train, n_jobs=4)\n",
    "#opt_coxnet.score(X_train, y_train), opt_coxnet.score(X_test, y_test), opt_coxnet_params"
   ]
  },
  {
   "cell_type": "code",
   "execution_count": null,
   "id": "143d115b-5e92-47ec-9ad6-d7e6defcf198",
   "metadata": {},
   "outputs": [],
   "source": []
  },
  {
   "cell_type": "code",
   "execution_count": 53,
   "id": "b2b37d7b-26a6-4b1a-8963-c469ae7ce300",
   "metadata": {},
   "outputs": [
    {
     "name": "stdout",
     "output_type": "stream",
     "text": [
      "# Summary\n",
      "\n",
      "## Best solutions for run 0\n",
      "\n",
      "Best model test score: 0.695\n",
      "\n",
      "\n",
      "|   rank_test_c-index-td |   mean_test_c-index-td |   std_test_c-index-td |   rank_test_neg-brier |   mean_test_neg-brier |   std_test_neg-brier |   rank_test_auc |   mean_test_auc |   std_test_auc | params                            |   mean_fit_time |   std_fit_time |\n",
      "|-----------------------:|-----------------------:|----------------------:|----------------------:|----------------------:|---------------------:|----------------:|----------------:|---------------:|:----------------------------------|----------------:|---------------:|\n",
      "|                      1 |               0.664666 |             0.013991  |                     2 |             -0.162362 |           0.00330083 |               1 |        0.717789 |      0.0231999 | {'l1_ratio': 0.01, 'alpha': 0.02} |        0.471787 |     0.00862079 |\n",
      "|                      2 |               0.66464  |             0.0138937 |                     1 |             -0.162347 |           0.00331651 |               2 |        0.717471 |      0.0229269 | {'l1_ratio': 0.9, 'alpha': 0.02}  |        0.318414 |     0.00533929 |\n",
      "\n",
      "## Best solutions for run 1\n",
      "\n",
      "Best model test score: 0.661\n",
      "\n",
      "\n",
      "|   rank_test_c-index-td |   mean_test_c-index-td |   std_test_c-index-td |   rank_test_neg-brier |   mean_test_neg-brier |   std_test_neg-brier |   rank_test_auc |   mean_test_auc |   std_test_auc | params                            |   mean_fit_time |   std_fit_time |\n",
      "|-----------------------:|-----------------------:|----------------------:|----------------------:|----------------------:|---------------------:|----------------:|----------------:|---------------:|:----------------------------------|----------------:|---------------:|\n",
      "|                      1 |               0.687076 |             0.0198415 |                     2 |             -0.157012 |           0.00571565 |               2 |        0.75305  |      0.0268447 | {'l1_ratio': 0.9, 'alpha': 0.02}  |        0.336869 |      0.0276662 |\n",
      "|                      2 |               0.686942 |             0.0200356 |                     1 |             -0.157006 |           0.00568069 |               1 |        0.753101 |      0.0269907 | {'l1_ratio': 0.01, 'alpha': 0.02} |        0.537896 |      0.0599821 |\n",
      "\n",
      "## Best solutions for run 2\n",
      "\n",
      "Best model test score: 0.680\n",
      "\n",
      "\n",
      "|   rank_test_c-index-td |   mean_test_c-index-td |   std_test_c-index-td |   rank_test_neg-brier |   mean_test_neg-brier |   std_test_neg-brier |   rank_test_auc |   mean_test_auc |   std_test_auc | params                            |   mean_fit_time |   std_fit_time |\n",
      "|-----------------------:|-----------------------:|----------------------:|----------------------:|----------------------:|---------------------:|----------------:|----------------:|---------------:|:----------------------------------|----------------:|---------------:|\n",
      "|                      1 |               0.674922 |             0.0133101 |                     2 |             -0.159574 |           0.00321061 |               1 |        0.732704 |      0.0182917 | {'l1_ratio': 0.01, 'alpha': 0.02} |        0.546973 |      0.0551101 |\n",
      "|                      2 |               0.674913 |             0.0132916 |                     1 |             -0.159563 |           0.00322096 |               2 |        0.732526 |      0.0182316 | {'l1_ratio': 0.9, 'alpha': 0.02}  |        0.348754 |      0.0456357 |\n"
     ]
    }
   ],
   "source": [
    "#current.search_params.cv_results_\n",
    "print('# Summary')\n",
    "for ndx in range(3):\n",
    "    current=z_runs[ndx]\n",
    "    print('\\n## Best solutions for run', ndx)\n",
    "    print('\\nBest model test score: %5.3f' %\n",
    "        current.best_model.score(current.test_set.X, current.test_set.y))\n",
    "    print('\\n')\n",
    "    print(survwrap.get_model_scores_df(current.search_params)[:10].to_markdown())"
   ]
  }
 ],
 "metadata": {
  "kernelspec": {
   "display_name": "Python 3 (ipykernel)",
   "language": "python",
   "name": "python3"
  },
  "language_info": {
   "codemirror_mode": {
    "name": "ipython",
    "version": 3
   },
   "file_extension": ".py",
   "mimetype": "text/x-python",
   "name": "python",
   "nbconvert_exporter": "python",
   "pygments_lexer": "ipython3",
   "version": "3.8.17"
  }
 },
 "nbformat": 4,
 "nbformat_minor": 5
}
