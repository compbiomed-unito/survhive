{
 "cells": [
  {
   "cell_type": "markdown",
   "id": "2720cf8d-1d0a-49fe-9a39-dfdebabecbbc",
   "metadata": {},
   "source": [
    "# Test on Metabric"
   ]
  },
  {
   "cell_type": "code",
   "execution_count": 1,
   "id": "387d1412",
   "metadata": {},
   "outputs": [],
   "source": [
    "import numpy"
   ]
  },
  {
   "cell_type": "code",
   "execution_count": 2,
   "id": "c4083da7",
   "metadata": {},
   "outputs": [],
   "source": [
    "import sklearn"
   ]
  },
  {
   "cell_type": "code",
   "execution_count": 3,
   "id": "5f7d6271",
   "metadata": {},
   "outputs": [],
   "source": [
    "import survwrap"
   ]
  },
  {
   "cell_type": "code",
   "execution_count": 4,
   "id": "586755ed-9074-4886-815d-4fa921194dec",
   "metadata": {},
   "outputs": [
    {
     "data": {
      "text/plain": [
       "('flchain', 'gbsg2', 'metabric', 'support')"
      ]
     },
     "execution_count": 4,
     "metadata": {},
     "output_type": "execute_result"
    }
   ],
   "source": [
    "survwrap.list_available_datasets()"
   ]
  },
  {
   "cell_type": "code",
   "execution_count": 5,
   "id": "ea5712cd-7025-4064-ab73-40d4ffdca6fa",
   "metadata": {},
   "outputs": [
    {
     "name": "stdout",
     "output_type": "stream",
     "text": [
      "<class 'pandas.core.frame.DataFrame'>\n",
      "Index: 1903 entries, 0 to 1902\n",
      "Data columns (total 11 columns):\n",
      " #   Column             Non-Null Count  Dtype  \n",
      "---  ------             --------------  -----  \n",
      " 0   hormone_treatment  1903 non-null   float64\n",
      " 1   radiotherapy       1903 non-null   float64\n",
      " 2   chemoterapy        1903 non-null   float64\n",
      " 3   ER-positive        1903 non-null   float64\n",
      " 4   MKI67              1903 non-null   float64\n",
      " 5   EGFR               1903 non-null   float64\n",
      " 6   PGR                1903 non-null   float64\n",
      " 7   ERBB2              1903 non-null   float64\n",
      " 8   AOD                1903 non-null   float64\n",
      " 9   time               1903 non-null   float64\n",
      " 10  event              1903 non-null   int64  \n",
      "dtypes: float64(10), int64(1)\n",
      "memory usage: 178.4 KB\n"
     ]
    }
   ],
   "source": [
    "mb_df = survwrap.get_data('metabric')\n",
    "mb_df.dataframe.info()"
   ]
  },
  {
   "cell_type": "code",
   "execution_count": 6,
   "id": "210bf36c",
   "metadata": {},
   "outputs": [
    {
     "data": {
      "text/plain": [
       "((1903, 9), (1903,))"
      ]
     },
     "execution_count": 6,
     "metadata": {},
     "output_type": "execute_result"
    }
   ],
   "source": [
    "X, y = mb_df.get_X_y()\n",
    "X.shape, y.shape"
   ]
  },
  {
   "cell_type": "code",
   "execution_count": 7,
   "id": "04dacc43-638e-41d4-a0c8-a8e598c66400",
   "metadata": {},
   "outputs": [
    {
     "data": {
      "text/plain": [
       "array([(False,  99.33333588), ( True,  95.73332977),\n",
       "       (False, 140.2333374 ), (False, 239.30000305),\n",
       "       ( True,  56.93333435), (False, 123.53333282),\n",
       "       (False, 261.20001221), ( True, 143.        ),\n",
       "       ( True, 150.6000061 ), ( True,  49.43333435)],\n",
       "      dtype=[('event', '?'), ('time', '<f8')])"
      ]
     },
     "execution_count": 7,
     "metadata": {},
     "output_type": "execute_result"
    }
   ],
   "source": [
    "y[:10]"
   ]
  },
  {
   "cell_type": "markdown",
   "id": "40fbcb80-0388-4f46-ba3a-29c3f9ee5bee",
   "metadata": {},
   "source": [
    "### Generate a (stratified) train-test split and Scale the features (only) "
   ]
  },
  {
   "cell_type": "markdown",
   "id": "b35f553a-ae5b-476e-bb42-ec48efe8ab89",
   "metadata": {},
   "source": [
    "First do the stratified splitting THEN do scaling, parameterized on X_train set ONLY "
   ]
  },
  {
   "cell_type": "code",
   "execution_count": 8,
   "id": "75714389-2def-4259-8052-bcf7977a2c56",
   "metadata": {},
   "outputs": [],
   "source": [
    "from sklearn.preprocessing import StandardScaler, RobustScaler"
   ]
  },
  {
   "cell_type": "code",
   "execution_count": 9,
   "id": "bd02c821-86c7-4515-986b-07e769f9581b",
   "metadata": {},
   "outputs": [],
   "source": [
    "X_train, X_test, y_train, y_test = sklearn.model_selection.train_test_split(X, y,\n",
    "                                                                            stratify=survwrap.get_indicator(y), \n",
    "                                                                           random_state=2309)"
   ]
  },
  {
   "cell_type": "code",
   "execution_count": 10,
   "id": "261585e2-6d7a-4dc8-9861-da0aee20e7c7",
   "metadata": {},
   "outputs": [
    {
     "data": {
      "text/plain": [
       "((1427, 9), (476, 9))"
      ]
     },
     "execution_count": 10,
     "metadata": {},
     "output_type": "execute_result"
    }
   ],
   "source": [
    "scaler = StandardScaler().fit(X_train)\n",
    "[X_train, X_test] = [ scaler.transform(_) for _ in  [X_train, X_test] ]\n",
    "X_train.shape, X_test.shape"
   ]
  },
  {
   "cell_type": "code",
   "execution_count": 11,
   "id": "5f89b6c2",
   "metadata": {},
   "outputs": [],
   "source": [
    "#X_train, X_test, y_train, y_test = sklearn.model_selection.train_test_split(X, y)"
   ]
  },
  {
   "cell_type": "markdown",
   "id": "3523fc60-5251-4640-ab08-b4288c7a65b4",
   "metadata": {},
   "source": [
    "balanced partitioning OK. Robst scaler damages the performance of DSM A LOT.\n",
    "maybe did something wrong. It is standard scaler for now."
   ]
  },
  {
   "cell_type": "code",
   "execution_count": 12,
   "id": "449b6bde-498c-437f-8170-e86f34aafc9e",
   "metadata": {},
   "outputs": [
    {
     "data": {
      "text/plain": [
       "(1103, 827, 276)"
      ]
     },
     "execution_count": 12,
     "metadata": {},
     "output_type": "execute_result"
    }
   ],
   "source": [
    "survwrap.get_indicator(y).sum(), survwrap.get_indicator(y_train).sum(), survwrap.get_indicator(y_test).sum(),\n"
   ]
  },
  {
   "cell_type": "markdown",
   "id": "18343e1d-30ec-42b0-be0e-ac85df1298d9",
   "metadata": {},
   "source": [
    "## check possible dimensionality reduction"
   ]
  },
  {
   "cell_type": "code",
   "execution_count": 13,
   "id": "fde3a10a-379c-42b8-8070-485e7c4326bb",
   "metadata": {},
   "outputs": [],
   "source": [
    "from sklearn.decomposition import PCA"
   ]
  },
  {
   "cell_type": "code",
   "execution_count": 14,
   "id": "1ad7a35b-9295-40f8-a9c4-a02ca8cf83c8",
   "metadata": {},
   "outputs": [
    {
     "name": "stdout",
     "output_type": "stream",
     "text": [
      "PCA components: 9\n"
     ]
    }
   ],
   "source": [
    "pca= PCA(n_components=0.995, random_state=2308).fit(X_train)\n",
    "print('PCA components:',pca.n_components_)"
   ]
  },
  {
   "cell_type": "markdown",
   "id": "afc3f2d1-45e8-42cc-9763-69836b1aaa71",
   "metadata": {},
   "source": [
    "No reduction using PCA"
   ]
  },
  {
   "cell_type": "code",
   "execution_count": 15,
   "id": "dd7a81c3-ced7-48df-8eba-cacb1e814bbd",
   "metadata": {},
   "outputs": [],
   "source": [
    "## Stratified CV spliter for survival analysis"
   ]
  },
  {
   "cell_type": "code",
   "execution_count": 16,
   "id": "e63ce8de-3339-4d4f-9df3-d11c8e61feba",
   "metadata": {},
   "outputs": [],
   "source": [
    "from sklearn.model_selection import RepeatedStratifiedKFold, StratifiedKFold"
   ]
  },
  {
   "cell_type": "code",
   "execution_count": 17,
   "id": "efe2e846-9bc4-435f-9e83-06f01577ca2a",
   "metadata": {},
   "outputs": [],
   "source": [
    "#testkf= RepeatedStratifiedKFold(n_splits=5,n_repeats=2,random_state=2307)\n",
    "#for trn,tst in testkf.split(X_train, survwrap.get_indicator(y_train)):\n",
    "#    print(trn,tst) "
   ]
  },
  {
   "cell_type": "markdown",
   "id": "8c36a230",
   "metadata": {},
   "source": [
    "# test coxnet"
   ]
  },
  {
   "cell_type": "code",
   "execution_count": 18,
   "id": "9aafa692-2cba-4a47-b376-04742eae3b67",
   "metadata": {},
   "outputs": [
    {
     "data": {
      "text/html": [
       "<style>#sk-container-id-1 {color: black;background-color: white;}#sk-container-id-1 pre{padding: 0;}#sk-container-id-1 div.sk-toggleable {background-color: white;}#sk-container-id-1 label.sk-toggleable__label {cursor: pointer;display: block;width: 100%;margin-bottom: 0;padding: 0.3em;box-sizing: border-box;text-align: center;}#sk-container-id-1 label.sk-toggleable__label-arrow:before {content: \"▸\";float: left;margin-right: 0.25em;color: #696969;}#sk-container-id-1 label.sk-toggleable__label-arrow:hover:before {color: black;}#sk-container-id-1 div.sk-estimator:hover label.sk-toggleable__label-arrow:before {color: black;}#sk-container-id-1 div.sk-toggleable__content {max-height: 0;max-width: 0;overflow: hidden;text-align: left;background-color: #f0f8ff;}#sk-container-id-1 div.sk-toggleable__content pre {margin: 0.2em;color: black;border-radius: 0.25em;background-color: #f0f8ff;}#sk-container-id-1 input.sk-toggleable__control:checked~div.sk-toggleable__content {max-height: 200px;max-width: 100%;overflow: auto;}#sk-container-id-1 input.sk-toggleable__control:checked~label.sk-toggleable__label-arrow:before {content: \"▾\";}#sk-container-id-1 div.sk-estimator input.sk-toggleable__control:checked~label.sk-toggleable__label {background-color: #d4ebff;}#sk-container-id-1 div.sk-label input.sk-toggleable__control:checked~label.sk-toggleable__label {background-color: #d4ebff;}#sk-container-id-1 input.sk-hidden--visually {border: 0;clip: rect(1px 1px 1px 1px);clip: rect(1px, 1px, 1px, 1px);height: 1px;margin: -1px;overflow: hidden;padding: 0;position: absolute;width: 1px;}#sk-container-id-1 div.sk-estimator {font-family: monospace;background-color: #f0f8ff;border: 1px dotted black;border-radius: 0.25em;box-sizing: border-box;margin-bottom: 0.5em;}#sk-container-id-1 div.sk-estimator:hover {background-color: #d4ebff;}#sk-container-id-1 div.sk-parallel-item::after {content: \"\";width: 100%;border-bottom: 1px solid gray;flex-grow: 1;}#sk-container-id-1 div.sk-label:hover label.sk-toggleable__label {background-color: #d4ebff;}#sk-container-id-1 div.sk-serial::before {content: \"\";position: absolute;border-left: 1px solid gray;box-sizing: border-box;top: 0;bottom: 0;left: 50%;z-index: 0;}#sk-container-id-1 div.sk-serial {display: flex;flex-direction: column;align-items: center;background-color: white;padding-right: 0.2em;padding-left: 0.2em;position: relative;}#sk-container-id-1 div.sk-item {position: relative;z-index: 1;}#sk-container-id-1 div.sk-parallel {display: flex;align-items: stretch;justify-content: center;background-color: white;position: relative;}#sk-container-id-1 div.sk-item::before, #sk-container-id-1 div.sk-parallel-item::before {content: \"\";position: absolute;border-left: 1px solid gray;box-sizing: border-box;top: 0;bottom: 0;left: 50%;z-index: -1;}#sk-container-id-1 div.sk-parallel-item {display: flex;flex-direction: column;z-index: 1;position: relative;background-color: white;}#sk-container-id-1 div.sk-parallel-item:first-child::after {align-self: flex-end;width: 50%;}#sk-container-id-1 div.sk-parallel-item:last-child::after {align-self: flex-start;width: 50%;}#sk-container-id-1 div.sk-parallel-item:only-child::after {width: 0;}#sk-container-id-1 div.sk-dashed-wrapped {border: 1px dashed gray;margin: 0 0.4em 0.5em 0.4em;box-sizing: border-box;padding-bottom: 0.4em;background-color: white;}#sk-container-id-1 div.sk-label label {font-family: monospace;font-weight: bold;display: inline-block;line-height: 1.2em;}#sk-container-id-1 div.sk-label-container {text-align: center;}#sk-container-id-1 div.sk-container {/* jupyter's `normalize.less` sets `[hidden] { display: none; }` but bootstrap.min.css set `[hidden] { display: none !important; }` so we also need the `!important` here to be able to override the default hidden behavior on the sphinx rendered scikit-learn.org. See: https://github.com/scikit-learn/scikit-learn/issues/21755 */display: inline-block !important;position: relative;}#sk-container-id-1 div.sk-text-repr-fallback {display: none;}</style><div id=\"sk-container-id-1\" class=\"sk-top-container\"><div class=\"sk-text-repr-fallback\"><pre>CoxNet(rng_seed=2308, l1_ratio=0.5, verbose=False, fit_baseline_model=False)</pre><b>In a Jupyter environment, please rerun this cell to show the HTML representation or trust the notebook. <br />On GitHub, the HTML representation is unable to render, please try loading this page with nbviewer.org.</b></div><div class=\"sk-container\" hidden><div class=\"sk-item\"><div class=\"sk-estimator sk-toggleable\"><input class=\"sk-toggleable__control sk-hidden--visually\" id=\"sk-estimator-id-1\" type=\"checkbox\" checked><label for=\"sk-estimator-id-1\" class=\"sk-toggleable__label sk-toggleable__label-arrow\">CoxNet</label><div class=\"sk-toggleable__content\"><pre>CoxNet(rng_seed=2308, l1_ratio=0.5, verbose=False, fit_baseline_model=False)</pre></div></div></div></div></div>"
      ],
      "text/plain": [
       "CoxNet(rng_seed=2308, l1_ratio=0.5, verbose=False, fit_baseline_model=False)"
      ]
     },
     "execution_count": 18,
     "metadata": {},
     "output_type": "execute_result"
    }
   ],
   "source": [
    "coxnet = survwrap.CoxNet(rng_seed=2308)\n",
    "coxnet.fit(X_train, y_train)"
   ]
  },
  {
   "cell_type": "code",
   "execution_count": 19,
   "id": "9a0e80b7",
   "metadata": {},
   "outputs": [
    {
     "data": {
      "text/plain": [
       "0.6454275957822058"
      ]
     },
     "execution_count": 19,
     "metadata": {},
     "output_type": "execute_result"
    }
   ],
   "source": [
    "coxnet.score(X_test, y_test)"
   ]
  },
  {
   "cell_type": "code",
   "execution_count": 20,
   "id": "f894a2c8",
   "metadata": {},
   "outputs": [],
   "source": [
    "from sklearn.model_selection import GridSearchCV, RandomizedSearchCV"
   ]
  },
  {
   "cell_type": "code",
   "execution_count": 21,
   "id": "8a1ea4f2",
   "metadata": {},
   "outputs": [],
   "source": [
    "def optimize(estimator, X, y, mode='sklearn-grid', user_grid=[] , cv=None):\n",
    "    if mode == 'sklearn-grid':\n",
    "        if not user_grid: \n",
    "            user_grid = estimator.get_parameter_grid()\n",
    "        gs = GridSearchCV(estimator, user_grid, refit=True, cv=cv, n_jobs=3)\n",
    "        gs.fit(X, y)\n",
    "        return gs.best_estimator_, gs.best_params_, gs\n",
    "    raise ValueError(f'unknown mode parameter: \"{mode}\"')"
   ]
  },
  {
   "cell_type": "code",
   "execution_count": 22,
   "id": "946d79e0-0f7c-44c6-893c-8b5ea52c5a57",
   "metadata": {},
   "outputs": [
    {
     "data": {
      "text/plain": [
       "{'l1_ratio': [0.01, 0.1, 0.25, 0.5, 0.75, 0.9, 0.99]}"
      ]
     },
     "execution_count": 22,
     "metadata": {},
     "output_type": "execute_result"
    }
   ],
   "source": [
    "survwrap.CoxNet().get_parameter_grid()"
   ]
  },
  {
   "cell_type": "code",
   "execution_count": 23,
   "id": "2cc893c3",
   "metadata": {},
   "outputs": [
    {
     "data": {
      "text/plain": [
       "(0.6457778278109247, {'l1_ratio': 0.01})"
      ]
     },
     "execution_count": 23,
     "metadata": {},
     "output_type": "execute_result"
    }
   ],
   "source": [
    "opt_coxnet, opt_coxnet_params, opt_coxnet_search = optimize(survwrap.CoxNet(), X_train, y_train, user_grid={'l1_ratio':[0.01,0.25,0.5,0.75,0.8,0.99]},\n",
    "                                                           cv=RepeatedStratifiedKFold(n_splits=5, n_repeats=2, random_state=2308).split(X_train,survwrap.get_indicator(y_train)))\n",
    "opt_coxnet.score(X_test, y_test), opt_coxnet_params"
   ]
  },
  {
   "cell_type": "code",
   "execution_count": 24,
   "id": "177ee806-9966-4596-b49f-8d82bc729865",
   "metadata": {},
   "outputs": [],
   "source": [
    "def test_model(model_constructor, **model_params):\n",
    "    m = model_constructor(**model_params)\n",
    "    m.fit(X_train, y_train)\n",
    "    o = m.score(X_train, y_train)\n",
    "    s = m.score(X_test, y_test)\n",
    "    print(f'Train: {o: .4f} , Test: {s:.4f}')\n",
    "    return s"
   ]
  },
  {
   "cell_type": "markdown",
   "id": "2fd37d08-ee4e-4bea-8a6d-2c6b8cbd5c8d",
   "metadata": {},
   "source": [
    "# Test DSM"
   ]
  },
  {
   "cell_type": "code",
   "execution_count": 26,
   "id": "dcd9ed4f-1f8b-42d2-84b4-12c119490e40",
   "metadata": {},
   "outputs": [],
   "source": [
    "batch10 = int(X_train.shape[0] /10 ) "
   ]
  },
  {
   "cell_type": "code",
   "execution_count": 27,
   "id": "5f760708-c608-4281-b7e0-c17b043053de",
   "metadata": {},
   "outputs": [
    {
     "data": {
      "text/plain": [
       "{'n_distr': [2],\n",
       " 'distr_kind': ['Weibull'],\n",
       " 'batch_size': [16],\n",
       " 'layer_sizes': [6],\n",
       " 'learning_rate': [0.001],\n",
       " 'validation_size': [0.1],\n",
       " 'max_epochs': [10],\n",
       " 'elbo': [False]}"
      ]
     },
     "execution_count": 27,
     "metadata": {},
     "output_type": "execute_result"
    }
   ],
   "source": [
    "grid =survwrap.DeepSurvivalMachines.get_parameter_grid()\n",
    "grid['layer_sizes']=[6]\n",
    "grid"
   ]
  },
  {
   "cell_type": "code",
   "execution_count": 41,
   "id": "331e2a50-4344-43bf-85ea-aecb3dfe0466",
   "metadata": {},
   "outputs": [
    {
     "data": {
      "text/html": [
       "<style>#sk-container-id-3 {color: black;background-color: white;}#sk-container-id-3 pre{padding: 0;}#sk-container-id-3 div.sk-toggleable {background-color: white;}#sk-container-id-3 label.sk-toggleable__label {cursor: pointer;display: block;width: 100%;margin-bottom: 0;padding: 0.3em;box-sizing: border-box;text-align: center;}#sk-container-id-3 label.sk-toggleable__label-arrow:before {content: \"▸\";float: left;margin-right: 0.25em;color: #696969;}#sk-container-id-3 label.sk-toggleable__label-arrow:hover:before {color: black;}#sk-container-id-3 div.sk-estimator:hover label.sk-toggleable__label-arrow:before {color: black;}#sk-container-id-3 div.sk-toggleable__content {max-height: 0;max-width: 0;overflow: hidden;text-align: left;background-color: #f0f8ff;}#sk-container-id-3 div.sk-toggleable__content pre {margin: 0.2em;color: black;border-radius: 0.25em;background-color: #f0f8ff;}#sk-container-id-3 input.sk-toggleable__control:checked~div.sk-toggleable__content {max-height: 200px;max-width: 100%;overflow: auto;}#sk-container-id-3 input.sk-toggleable__control:checked~label.sk-toggleable__label-arrow:before {content: \"▾\";}#sk-container-id-3 div.sk-estimator input.sk-toggleable__control:checked~label.sk-toggleable__label {background-color: #d4ebff;}#sk-container-id-3 div.sk-label input.sk-toggleable__control:checked~label.sk-toggleable__label {background-color: #d4ebff;}#sk-container-id-3 input.sk-hidden--visually {border: 0;clip: rect(1px 1px 1px 1px);clip: rect(1px, 1px, 1px, 1px);height: 1px;margin: -1px;overflow: hidden;padding: 0;position: absolute;width: 1px;}#sk-container-id-3 div.sk-estimator {font-family: monospace;background-color: #f0f8ff;border: 1px dotted black;border-radius: 0.25em;box-sizing: border-box;margin-bottom: 0.5em;}#sk-container-id-3 div.sk-estimator:hover {background-color: #d4ebff;}#sk-container-id-3 div.sk-parallel-item::after {content: \"\";width: 100%;border-bottom: 1px solid gray;flex-grow: 1;}#sk-container-id-3 div.sk-label:hover label.sk-toggleable__label {background-color: #d4ebff;}#sk-container-id-3 div.sk-serial::before {content: \"\";position: absolute;border-left: 1px solid gray;box-sizing: border-box;top: 0;bottom: 0;left: 50%;z-index: 0;}#sk-container-id-3 div.sk-serial {display: flex;flex-direction: column;align-items: center;background-color: white;padding-right: 0.2em;padding-left: 0.2em;position: relative;}#sk-container-id-3 div.sk-item {position: relative;z-index: 1;}#sk-container-id-3 div.sk-parallel {display: flex;align-items: stretch;justify-content: center;background-color: white;position: relative;}#sk-container-id-3 div.sk-item::before, #sk-container-id-3 div.sk-parallel-item::before {content: \"\";position: absolute;border-left: 1px solid gray;box-sizing: border-box;top: 0;bottom: 0;left: 50%;z-index: -1;}#sk-container-id-3 div.sk-parallel-item {display: flex;flex-direction: column;z-index: 1;position: relative;background-color: white;}#sk-container-id-3 div.sk-parallel-item:first-child::after {align-self: flex-end;width: 50%;}#sk-container-id-3 div.sk-parallel-item:last-child::after {align-self: flex-start;width: 50%;}#sk-container-id-3 div.sk-parallel-item:only-child::after {width: 0;}#sk-container-id-3 div.sk-dashed-wrapped {border: 1px dashed gray;margin: 0 0.4em 0.5em 0.4em;box-sizing: border-box;padding-bottom: 0.4em;background-color: white;}#sk-container-id-3 div.sk-label label {font-family: monospace;font-weight: bold;display: inline-block;line-height: 1.2em;}#sk-container-id-3 div.sk-label-container {text-align: center;}#sk-container-id-3 div.sk-container {/* jupyter's `normalize.less` sets `[hidden] { display: none; }` but bootstrap.min.css set `[hidden] { display: none !important; }` so we also need the `!important` here to be able to override the default hidden behavior on the sphinx rendered scikit-learn.org. See: https://github.com/scikit-learn/scikit-learn/issues/21755 */display: inline-block !important;position: relative;}#sk-container-id-3 div.sk-text-repr-fallback {display: none;}</style><div id=\"sk-container-id-3\" class=\"sk-top-container\"><div class=\"sk-text-repr-fallback\"><pre>DeepSurvivalMachines(rng_seed=2309, n_distr=2, distr_kind=&#x27;Weibull&#x27;, batch_size=32, layer_sizes=[6], learning_rate=0.001, validation_size=0.1, max_epochs=50, elbo=False)</pre><b>In a Jupyter environment, please rerun this cell to show the HTML representation or trust the notebook. <br />On GitHub, the HTML representation is unable to render, please try loading this page with nbviewer.org.</b></div><div class=\"sk-container\" hidden><div class=\"sk-item\"><div class=\"sk-estimator sk-toggleable\"><input class=\"sk-toggleable__control sk-hidden--visually\" id=\"sk-estimator-id-3\" type=\"checkbox\" checked><label for=\"sk-estimator-id-3\" class=\"sk-toggleable__label sk-toggleable__label-arrow\">DeepSurvivalMachines</label><div class=\"sk-toggleable__content\"><pre>DeepSurvivalMachines(rng_seed=2309, n_distr=2, distr_kind=&#x27;Weibull&#x27;, batch_size=32, layer_sizes=[6], learning_rate=0.001, validation_size=0.1, max_epochs=50, elbo=False)</pre></div></div></div></div></div>"
      ],
      "text/plain": [
       "DeepSurvivalMachines(rng_seed=2309, n_distr=2, distr_kind='Weibull', batch_size=32, layer_sizes=[6], learning_rate=0.001, validation_size=0.1, max_epochs=50, elbo=False)"
      ]
     },
     "execution_count": 41,
     "metadata": {},
     "output_type": "execute_result"
    }
   ],
   "source": [
    "xpl=survwrap.DeepSurvivalMachines(n_distr=2,layer_sizes=[6], \n",
    "                                  max_epochs=50, batch_size=32,\n",
    "                                 rng_seed=2309)\n",
    "xpl"
   ]
  },
  {
   "cell_type": "code",
   "execution_count": 42,
   "id": "4dd61af9-8dee-4bba-b4ad-1db324a7173a",
   "metadata": {},
   "outputs": [
    {
     "name": "stderr",
     "output_type": "stream",
     "text": [
      "  8%|██████████▎                                                                                                                  | 822/10000 [00:00<00:09, 959.06it/s]\n",
      " 26%|█████████████████████████████████▊                                                                                                | 13/50 [00:01<00:03, 12.23it/s]\n"
     ]
    },
    {
     "data": {
      "text/plain": [
       "True"
      ]
     },
     "execution_count": 42,
     "metadata": {},
     "output_type": "execute_result"
    }
   ],
   "source": [
    "zzz= xpl.fit(X_train,y_train)\n",
    "zzz.model_.fitted"
   ]
  },
  {
   "cell_type": "code",
   "execution_count": 43,
   "id": "a0031667-2811-4062-93de-bab82ff41bd5",
   "metadata": {},
   "outputs": [
    {
     "data": {
      "text/plain": [
       "array([0.51743684, 0.39865634, 0.51294601, 0.52600467, 0.57710727,\n",
       "       0.28325232, 0.18112254, 0.5109541 , 0.30667376, 0.38728598,\n",
       "       0.45982623, 0.19326165, 0.17162027, 0.45126313, 0.1340118 ,\n",
       "       0.18240573, 0.64186201, 0.37462562, 0.48412323, 0.46589768,\n",
       "       0.09776113, 0.25075281, 0.51886168, 0.2318195 , 0.18262675,\n",
       "       0.50900534, 0.57399659, 0.37342292, 0.6204755 , 0.57630948,\n",
       "       0.45935399, 0.51501477, 0.45101345, 0.50515609, 0.42128875,\n",
       "       0.32124713, 0.44162069, 0.31485687, 0.5998718 , 0.38368833,\n",
       "       0.29413457, 0.19442544, 0.58137982, 0.25055378, 0.57186053,\n",
       "       0.39984265, 0.20987268, 0.51931762, 0.24940009, 0.48397851,\n",
       "       0.48158839, 0.17289804, 0.51782287, 0.31974949, 0.43186709,\n",
       "       0.55856882, 0.28204483, 0.27131825, 0.16623501, 0.61035526,\n",
       "       0.13274965, 0.41615741, 0.54888057, 0.49206395, 0.51151038,\n",
       "       0.56460254, 0.56138959, 0.31406561, 0.32471529, 0.23036438,\n",
       "       0.3718705 , 0.13960503, 0.41824658, 0.28836958, 0.39303085,\n",
       "       0.45529174, 0.34596842, 0.2564257 , 0.57557634, 0.3704503 ,\n",
       "       0.13295577, 0.66934333, 0.18439961, 0.16247234, 0.19618096,\n",
       "       0.41897802, 0.4031721 , 0.29496499, 0.22084232, 0.45221663,\n",
       "       0.25007553, 0.20573106, 0.41853201, 0.23758916, 0.181959  ,\n",
       "       0.55356819, 0.17730814, 0.38257389, 0.34954175, 0.18613299,\n",
       "       0.39189746, 0.43259159, 0.35028812, 0.51311834, 0.13014303,\n",
       "       0.1755349 , 0.18739562, 0.42870696, 0.41293062, 0.37853757,\n",
       "       0.47494301, 0.38412974, 0.42395157, 0.57427796, 0.18650206,\n",
       "       0.40201531, 0.2153668 , 0.45862903, 0.10099583, 0.31608367,\n",
       "       0.39978556, 0.55565951, 0.2623792 , 0.22343718, 0.51743107,\n",
       "       0.33062094, 0.51370936, 0.4090328 , 0.14980856, 0.5097297 ,\n",
       "       0.35087585, 0.50736681, 0.22379841, 0.62056327, 0.11883897,\n",
       "       0.2250429 , 0.51966342, 0.39345254, 0.58906966, 0.34072075,\n",
       "       0.62557754, 0.73109671, 0.28876027, 0.21719754, 0.62585742,\n",
       "       0.55600119, 0.46933133, 0.49382959, 0.36080875, 0.40766949,\n",
       "       0.65212453, 0.37722023, 0.36332569, 0.51290191, 0.14635177,\n",
       "       0.4733926 , 0.37743207, 0.25780797, 0.27284738, 0.3617698 ,\n",
       "       0.18624009, 0.73600406, 0.31403899, 0.32356312, 0.4804615 ,\n",
       "       0.43873824, 0.21223077, 0.10608455, 0.30876776, 0.52127053,\n",
       "       0.27516674, 0.46331351, 0.12853302, 0.30725898, 0.55807741,\n",
       "       0.50033729, 0.24463842, 0.34994241, 0.36942703, 0.50347033,\n",
       "       0.22262493, 0.35714982, 0.47437104, 0.52050001, 0.57056038,\n",
       "       0.50754114, 0.45707856, 0.20009555, 0.28989579, 0.46222477,\n",
       "       0.65263845, 0.15542621, 0.53947687, 0.24167535, 0.23720841,\n",
       "       0.44415634, 0.40199373, 0.16715843, 0.69532826, 0.3129505 ,\n",
       "       0.44567058, 0.58327449, 0.4391524 , 0.45458423, 0.22180692,\n",
       "       0.23285317, 0.46658475, 0.30137499, 0.50974343, 0.60377698,\n",
       "       0.38979661, 0.4320902 , 0.46527819, 0.44032244, 0.45767449,\n",
       "       0.35855432, 0.50506141, 0.17851005, 0.46824627, 0.12911437,\n",
       "       0.34158052, 0.22702422, 0.56810507, 0.24280609, 0.64467853,\n",
       "       0.2047049 , 0.38773386, 0.1790655 , 0.14972085, 0.42494718,\n",
       "       0.57491425, 0.44189524, 0.27077554, 0.4357536 , 0.52064916,\n",
       "       0.14186837, 0.58542848, 0.70252239, 0.32608885, 0.62830847,\n",
       "       0.38835084, 0.34984958, 0.46189061, 0.41568175, 0.15153396,\n",
       "       0.41724392, 0.23866366, 0.46543489, 0.29579796, 0.36815519,\n",
       "       0.21107597, 0.41525719, 0.27616115, 0.36610624, 0.45003302,\n",
       "       0.43843662, 0.47952185, 0.51547323, 0.2789495 , 0.20923121,\n",
       "       0.24452161, 0.32688893, 0.22039613, 0.35285828, 0.22147742,\n",
       "       0.47767204, 0.5386012 , 0.33051463, 0.35190484, 0.11641015,\n",
       "       0.4833333 , 0.39951146, 0.28752941, 0.12752455, 0.45566562,\n",
       "       0.34355285, 0.18405359, 0.18459412, 0.14708816, 0.22475085,\n",
       "       0.53023226, 0.53917057, 0.36748381, 0.31306204, 0.45724382,\n",
       "       0.49904662, 0.44236611, 0.4310127 , 0.24191688, 0.19961027,\n",
       "       0.51165862, 0.46748564, 0.47004605, 0.62738581, 0.24681858,\n",
       "       0.34244049, 0.36362041, 0.40015457, 0.44353996, 0.33791436,\n",
       "       0.12460209, 0.36374703, 0.4882751 , 0.3492373 , 0.4110734 ,\n",
       "       0.15992409, 0.43746031, 0.59478068, 0.48460948, 0.12847958,\n",
       "       0.33405588, 0.45517761, 0.29623548, 0.37908487, 0.49839977,\n",
       "       0.51693556, 0.47374409, 0.24271796, 0.12616957, 0.46309802,\n",
       "       0.5236665 , 0.5146557 , 0.25020688, 0.16724823, 0.16859758,\n",
       "       0.47550264, 0.37668695, 0.22646748, 0.49165362, 0.27340197,\n",
       "       0.48402843, 0.44780811, 0.35017312, 0.48369216, 0.16606466,\n",
       "       0.26245899, 0.33005136, 0.48918869, 0.24585749, 0.41592649,\n",
       "       0.29108329, 0.48836194, 0.39888281, 0.36641049, 0.24488186,\n",
       "       0.42646355, 0.27735081, 0.29705558, 0.4283241 , 0.1563739 ,\n",
       "       0.51306549, 0.47029444, 0.56785106, 0.29119526, 0.1381257 ,\n",
       "       0.20930579, 0.47644543, 0.39117742, 0.21652942, 0.35101928,\n",
       "       0.35523778, 0.38110691, 0.56862388, 0.36350448, 0.42574841,\n",
       "       0.47240296, 0.51636304, 0.49612692, 0.62238219, 0.44669441,\n",
       "       0.50428629, 0.18143746, 0.36228148, 0.20573019, 0.48910693,\n",
       "       0.11609132, 0.72617219, 0.49945441, 0.35559532, 0.55355614,\n",
       "       0.40475284, 0.38068345, 0.5036792 , 0.49607326, 0.19121738,\n",
       "       0.39174282, 0.178855  , 0.31928041, 0.40996341, 0.7187662 ,\n",
       "       0.42229067, 0.46412853, 0.45148113, 0.25055751, 0.38901414,\n",
       "       0.45631766, 0.15388787, 0.35770407, 0.14716756, 0.12386846,\n",
       "       0.46312851, 0.33371582, 0.34140749, 0.43293368, 0.43123566,\n",
       "       0.61922727, 0.34996894, 0.49106391, 0.2592725 , 0.45701225,\n",
       "       0.11805285, 0.45099686, 0.50759133, 0.21538056, 0.48024426,\n",
       "       0.19780082, 0.33172567, 0.46538927, 0.16217699, 0.36403307,\n",
       "       0.49799651, 0.38984682, 0.47139242, 0.59151423, 0.48786054,\n",
       "       0.45600407, 0.30116032, 0.44424123, 0.46168285, 0.61918215,\n",
       "       0.38950183, 0.19406352, 0.39547722, 0.46307241, 0.1852883 ,\n",
       "       0.37188197, 0.33517713, 0.47249738, 0.39552318, 0.39061728,\n",
       "       0.46209984, 0.20915931, 0.48628254, 0.15037255, 0.50283404,\n",
       "       0.17962989, 0.29829827, 0.30249424, 0.46882091, 0.15027546,\n",
       "       0.23951026, 0.47307555, 0.4618122 , 0.34429794, 0.2513119 ,\n",
       "       0.44931839, 0.56264854, 0.17100605, 0.47973908, 0.53770062,\n",
       "       0.2266117 , 0.46974501, 0.51667449, 0.42715834, 0.45555829,\n",
       "       0.26186601, 0.36674533, 0.45892022, 0.20472992, 0.30448981,\n",
       "       0.38610067, 0.50078637, 0.51014818, 0.39595163, 0.25004968,\n",
       "       0.20841209])"
      ]
     },
     "execution_count": 43,
     "metadata": {},
     "output_type": "execute_result"
    }
   ],
   "source": [
    "zzz.predict(X_test, eval_times=None)"
   ]
  },
  {
   "cell_type": "code",
   "execution_count": 30,
   "id": "a1bb0097",
   "metadata": {},
   "outputs": [],
   "source": [
    "#test_model(survwrap.DeepSurvivalMachines, batch_size=32, layer_sizes=[6], n_distr=1, \n",
    "           #elbo=True, max_epochs=50)"
   ]
  },
  {
   "cell_type": "code",
   "execution_count": 88,
   "id": "931e5ff4-5503-4b97-8a7d-8f5b75e389cc",
   "metadata": {},
   "outputs": [],
   "source": [
    "#test_model(survwrap.DeepSurvivalMachines, batch_size=16, layer_sizes=[7,7,7], n_distr=2, max_epochs=200)"
   ]
  },
  {
   "cell_type": "code",
   "execution_count": 34,
   "id": "60be1a27-6f73-43e1-bdc8-21616bed7143",
   "metadata": {},
   "outputs": [
    {
     "name": "stderr",
     "output_type": "stream",
     "text": [
      "  8%|██████████▎                                                                                                                  | 822/10000 [00:00<00:09, 961.96it/s]\n",
      " 34%|███████████████████████████████████████████▊                                                                                     | 68/200 [00:02<00:04, 31.63it/s]"
     ]
    },
    {
     "name": "stdout",
     "output_type": "stream",
     "text": [
      "Train:  0.6179 , Test: 0.6120\n"
     ]
    },
    {
     "name": "stderr",
     "output_type": "stream",
     "text": [
      "\n"
     ]
    },
    {
     "data": {
      "text/plain": [
       "0.6120429784732385"
      ]
     },
     "execution_count": 34,
     "metadata": {},
     "output_type": "execute_result"
    }
   ],
   "source": [
    "test_model(survwrap.DeepSurvivalMachines, batch_size=batch10, layer_sizes=[5]*5, n_distr=2, max_epochs=200)"
   ]
  },
  {
   "cell_type": "code",
   "execution_count": 32,
   "id": "8a8cb18b",
   "metadata": {},
   "outputs": [
    {
     "name": "stderr",
     "output_type": "stream",
     "text": [
      "  8%|██████████▎                                                                                                                  | 822/10000 [00:00<00:09, 990.81it/s]\n",
      "  4%|█████▊                                                                                                                            | 9/200 [00:00<00:16, 11.53it/s]"
     ]
    },
    {
     "name": "stdout",
     "output_type": "stream",
     "text": [
      "Train:  0.6563 , Test: 0.6591\n"
     ]
    },
    {
     "name": "stderr",
     "output_type": "stream",
     "text": [
      "\n"
     ]
    },
    {
     "data": {
      "text/plain": [
       "0.6590616283287678"
      ]
     },
     "execution_count": 32,
     "metadata": {},
     "output_type": "execute_result"
    }
   ],
   "source": [
    "test_model(survwrap.DeepSurvivalMachines,layer_sizes=[41], max_epochs=200)"
   ]
  },
  {
   "cell_type": "code",
   "execution_count": 1,
   "id": "5db2f376-1589-4e41-a45b-8aca88521d0a",
   "metadata": {},
   "outputs": [
    {
     "ename": "NameError",
     "evalue": "name 'grid' is not defined",
     "output_type": "error",
     "traceback": [
      "\u001b[0;31m---------------------------------------------------------------------------\u001b[0m",
      "\u001b[0;31mNameError\u001b[0m                                 Traceback (most recent call last)",
      "Cell \u001b[0;32mIn[1], line 1\u001b[0m\n\u001b[0;32m----> 1\u001b[0m \u001b[43mgrid\u001b[49m[\u001b[38;5;124m'\u001b[39m\u001b[38;5;124mn_distr\u001b[39m\u001b[38;5;124m'\u001b[39m]\u001b[38;5;241m=\u001b[39m[\u001b[38;5;241m1\u001b[39m,\u001b[38;5;241m2\u001b[39m]\n\u001b[1;32m      2\u001b[0m some_primes \u001b[38;5;241m=\u001b[39m \u001b[38;5;28mlist\u001b[39m(\u001b[38;5;28mrange\u001b[39m(\u001b[38;5;241m3\u001b[39m,\u001b[38;5;241m10\u001b[39m))\n\u001b[1;32m      3\u001b[0m grid[\u001b[38;5;124m'\u001b[39m\u001b[38;5;124mlayer_sizes\u001b[39m\u001b[38;5;124m'\u001b[39m]\u001b[38;5;241m=\u001b[39m[ [_] \u001b[38;5;28;01mfor\u001b[39;00m _ \u001b[38;5;129;01min\u001b[39;00m some_primes] \u001b[38;5;241m+\u001b[39m [ [_]\u001b[38;5;241m*\u001b[39m\u001b[38;5;241m3\u001b[39m \u001b[38;5;28;01mfor\u001b[39;00m _ \u001b[38;5;129;01min\u001b[39;00m some_primes]\n",
      "\u001b[0;31mNameError\u001b[0m: name 'grid' is not defined"
     ]
    }
   ],
   "source": [
    "grid['n_distr']=[1,2]\n",
    "some_primes = list(range(3,10))\n",
    "grid['layer_sizes']=[ [_] for _ in some_primes] + [ [_]*3 for _ in some_primes]\n",
    "    #[31]*2,[29]*2,[27]*2, [25]*2, [23]*2, [21]*2, [19]*2, [17]*3, [15]*3, \n",
    "     #                [12]*4, [10]*5, [8]*6, [7]*7, ]\n",
    "    #[40],[30,30], [30], [23,23], [13,13,13], [25],[11,11,11],[20],[9,9,9], \n",
    "                     #[15],[7,7,7],[10],[5,5,5]]\n",
    "                     #[16],[14,14], [7,7,7]]\n",
    "grid['max_epochs']=[100]\n",
    "grid['batch_size']=[32]\n",
    "grid"
   ]
  },
  {
   "cell_type": "code",
   "execution_count": 45,
   "id": "360b059e-fd0a-41ee-aa5a-ba940f7300ce",
   "metadata": {},
   "outputs": [],
   "source": [
    "from sklearn.model_selection import RepeatedStratifiedKFold "
   ]
  },
  {
   "cell_type": "code",
   "execution_count": 33,
   "id": "5e24ac45",
   "metadata": {},
   "outputs": [],
   "source": [
    "# Non stratified CV\n",
    "#opt_dsm, opt_dsm_params, opt_dsm_search = optimize(survwrap.DeepSurvivalMachines(rng_seed=2308),  X_train, y_train, \n",
    "#                                                   user_grid=grid,cv=RepeatedKFold(n_splits=5, n_repeats=3, random_state=2308))\n",
    "#opt_dsm.score(X_test, y_test), opt_dsm_params"
   ]
  },
  {
   "cell_type": "code",
   "execution_count": 48,
   "id": "6b2fb365-dd6e-4e05-b3fc-6c18c950221a",
   "metadata": {},
   "outputs": [
    {
     "name": "stderr",
     "output_type": "stream",
     "text": [
      " 10%|▉         | 993/10000 [00:00<00:08, 1014.03it/s]\n",
      " 10%|█         | 1027/10000 [00:01<00:08, 1020.68it/s]\n",
      " 10%|▉         | 998/10000 [00:01<00:09, 900.31it/s]\n",
      " 44%|████▍     | 44/100 [00:02<00:02, 19.98it/s]\n",
      " 51%|█████     | 51/100 [00:02<00:02, 19.22it/s]it/s]\n",
      " 57%|█████▋    | 57/100 [00:02<00:02, 19.85it/s]it/s]\n",
      " 10%|▉         | 990/10000 [00:00<00:08, 1044.57it/s]\n",
      "  8%|▊         | 813/10000 [00:00<00:08, 1032.41it/s]\n",
      " 10%|█         | 1008/10000 [00:00<00:08, 1071.43it/s]\n",
      " 22%|██▏       | 22/100 [00:01<00:03, 19.87it/s]\n",
      " 17%|█▋        | 17/100 [00:00<00:04, 18.55it/s]it/s]\n",
      " 27%|██▋       | 27/100 [00:01<00:03, 20.08it/s]it/s]\n",
      " 10%|█         | 1005/10000 [00:00<00:08, 1047.52it/s]\n",
      " 10%|█         | 1024/10000 [00:01<00:08, 1014.67it/s]\n",
      " 10%|█         | 1009/10000 [00:00<00:08, 1064.05it/s]\n",
      " 18%|█▊        | 18/100 [00:00<00:04, 19.46it/s]\n",
      " 10%|█         | 1036/10000 [00:00<00:08, 1062.87it/s]\n",
      " 81%|████████  | 81/100 [00:03<00:00, 21.39it/s]\n",
      " 29%|██▉       | 29/100 [00:01<00:03, 20.04it/s]it/s]\n",
      " 82%|████████▏ | 82/100 [00:04<00:00, 20.23it/s]it/s]\n",
      " 10%|▉         | 993/10000 [00:00<00:08, 1045.10it/s]\n",
      " 10%|▉         | 998/10000 [00:00<00:08, 1060.57it/s]\n",
      " 10%|█         | 1027/10000 [00:00<00:08, 1027.47it/s]\n",
      " 19%|█▉        | 19/100 [00:01<00:05, 15.94it/s]\n",
      " 38%|███▊      | 38/100 [00:02<00:03, 16.79it/s]t/s]\n",
      " 10%|▉         | 990/10000 [00:01<00:09, 949.47it/s]]\n",
      "  8%|▊         | 813/10000 [00:00<00:08, 1057.58it/s]\n",
      " 61%|██████    | 61/100 [00:03<00:02, 17.55it/s]\n",
      " 10%|█         | 10/100 [00:00<00:06, 14.58it/s]\n",
      " 10%|█         | 1008/10000 [00:00<00:08, 1065.17it/s]\n",
      " 10%|█         | 1005/10000 [00:00<00:08, 1031.89it/s]\n",
      " 22%|██▏       | 22/100 [00:01<00:04, 16.99it/s]\n",
      " 10%|█         | 1024/10000 [00:00<00:08, 1063.12it/s]\n",
      " 28%|██▊       | 28/100 [00:01<00:04, 16.89it/s]\n",
      " 54%|█████▍    | 54/100 [00:03<00:02, 17.60it/s]/s]\n",
      " 10%|█         | 1009/10000 [00:00<00:08, 1059.95it/s]\n",
      " 10%|█         | 1036/10000 [00:00<00:08, 1063.18it/s]\n",
      " 83%|████████▎ | 83/100 [00:04<00:00, 17.43it/s]\n",
      " 10%|▉         | 993/10000 [00:00<00:08, 1027.05it/s]\n",
      " 53%|█████▎    | 53/100 [00:02<00:02, 18.04it/s]\n",
      " 33%|███▎      | 33/100 [00:01<00:03, 19.46it/s]it/s]\n",
      " 63%|██████▎   | 63/100 [00:03<00:02, 18.23it/s]\n",
      " 10%|▉         | 998/10000 [00:00<00:08, 1024.65it/s]\n",
      " 10%|▉         | 990/10000 [00:00<00:09, 993.79it/s] \n",
      " 10%|█         | 1027/10000 [00:01<00:09, 965.69it/s] \n",
      "  9%|▉         | 9/100 [00:00<00:05, 17.53it/s]]\n",
      " 36%|███▌      | 36/100 [00:01<00:03, 20.11it/s]it/s]\n",
      "  8%|▊         | 813/10000 [00:00<00:08, 1054.37it/s]\n",
      " 29%|██▉       | 29/100 [00:01<00:03, 19.44it/s]it/s]\n",
      " 10%|█         | 1008/10000 [00:00<00:08, 1067.10it/s]\n",
      " 10%|█         | 1005/10000 [00:00<00:08, 1027.68it/s]\n",
      " 16%|█▌        | 16/100 [00:00<00:04, 19.07it/s]\n",
      " 49%|████▉     | 49/100 [00:02<00:02, 21.17it/s]it/s]\n",
      " 10%|█         | 1024/10000 [00:00<00:08, 1065.54it/s]\n",
      " 10%|█         | 1009/10000 [00:00<00:08, 1044.41it/s]\n",
      " 55%|█████▌    | 55/100 [00:02<00:02, 20.17it/s]\n",
      " 32%|███▏      | 32/100 [00:01<00:03, 20.14it/s]it/s]\n",
      " 30%|███       | 30/100 [00:01<00:03, 20.14it/s]it/s]\n",
      " 10%|█         | 1036/10000 [00:01<00:08, 1026.38it/s]\n",
      " 10%|▉         | 993/10000 [00:00<00:08, 1066.41it/s]\n",
      " 10%|▉         | 998/10000 [00:00<00:08, 1056.98it/s]\n",
      " 61%|██████    | 61/100 [00:03<00:02, 18.16it/s]\n",
      " 61%|██████    | 61/100 [00:03<00:02, 18.30it/s]it/s]\n",
      " 10%|█         | 1027/10000 [00:00<00:08, 1061.52it/s]\n",
      "100%|██████████| 100/100 [00:04<00:00, 21.04it/s]t/s]\n",
      " 10%|▉         | 990/10000 [00:00<00:08, 1063.33it/s]\n",
      " 19%|█▉        | 19/100 [00:01<00:04, 16.86it/s]it/s]\n",
      "  8%|▊         | 813/10000 [00:00<00:08, 1024.32it/s]\n",
      " 10%|█         | 1008/10000 [00:00<00:08, 1069.16it/s]\n",
      " 19%|█▉        | 19/100 [00:01<00:04, 16.36it/s]\n",
      " 37%|███▋      | 37/100 [00:02<00:03, 17.87it/s]it/s]\n",
      " 20%|██        | 20/100 [00:01<00:04, 16.79it/s]it/s]\n",
      " 10%|█         | 1005/10000 [00:00<00:08, 1022.85it/s]\n",
      " 10%|█         | 1024/10000 [00:00<00:08, 1058.98it/s]\n",
      " 10%|█         | 1009/10000 [00:00<00:08, 1048.10it/s]\n",
      " 41%|████      | 41/100 [00:02<00:03, 17.73it/s]\n",
      " 63%|██████▎   | 63/100 [00:03<00:02, 17.25it/s]it/s]\n",
      " 10%|█         | 1036/10000 [00:00<00:08, 1066.31it/s]\n",
      " 77%|███████▋  | 77/100 [00:04<00:01, 18.25it/s]it/s]\n",
      " 10%|▉         | 993/10000 [00:00<00:08, 1026.04it/s]\n",
      " 10%|▉         | 998/10000 [00:00<00:08, 1054.59it/s]\n",
      " 54%|█████▍    | 54/100 [00:03<00:02, 17.92it/s]\n",
      " 51%|█████     | 51/100 [00:02<00:02, 20.97it/s]it/s]\n",
      " 69%|██████▉   | 69/100 [00:03<00:01, 20.32it/s]it/s]\n",
      " 10%|█         | 1027/10000 [00:00<00:08, 1059.82it/s]\n",
      "  8%|▊         | 813/10000 [00:00<00:09, 989.77it/s]]\n",
      " 10%|▉         | 990/10000 [00:00<00:08, 1031.11it/s]\n",
      " 15%|█▌        | 15/100 [00:00<00:04, 19.30it/s]\n",
      " 21%|██        | 21/100 [00:01<00:04, 19.18it/s]it/s]\n",
      " 10%|█         | 1008/10000 [00:00<00:08, 1067.62it/s]\n",
      " 10%|█         | 1005/10000 [00:00<00:08, 1007.49it/s]\n",
      " 10%|█         | 10/100 [00:00<00:05, 17.31it/s]\n",
      " 68%|██████▊   | 68/100 [00:03<00:01, 20.87it/s]it/s]\n",
      " 10%|█         | 1024/10000 [00:00<00:08, 1061.88it/s]\n",
      " 10%|█         | 1009/10000 [00:00<00:08, 1067.13it/s]\n",
      " 15%|█▌        | 15/100 [00:00<00:04, 19.10it/s]\n",
      " 10%|█         | 1036/10000 [00:00<00:08, 1071.22it/s]\n",
      " 77%|███████▋  | 77/100 [00:03<00:01, 20.62it/s]\n",
      " 53%|█████▎    | 53/100 [00:02<00:02, 21.15it/s]t/s] \n",
      " 29%|██▉       | 29/100 [00:01<00:03, 20.47it/s]it/s]\n",
      " 10%|▉         | 993/10000 [00:00<00:08, 1024.22it/s]\n",
      " 10%|▉         | 998/10000 [00:00<00:08, 1069.64it/s]\n",
      " 10%|█         | 1027/10000 [00:00<00:08, 1064.15it/s]\n",
      " 20%|██        | 20/100 [00:01<00:04, 17.02it/s]\n",
      " 38%|███▊      | 38/100 [00:02<00:03, 17.29it/s]it/s]\n",
      " 29%|██▉       | 29/100 [00:01<00:04, 17.66it/s]it/s]\n",
      " 10%|▉         | 990/10000 [00:00<00:08, 1069.11it/s]\n",
      "  8%|▊         | 813/10000 [00:00<00:08, 1026.24it/s]\n",
      " 15%|█▌        | 15/100 [00:00<00:05, 16.37it/s]it/s]\n",
      " 10%|█         | 1008/10000 [00:00<00:08, 1059.96it/s]\n",
      " 10%|█         | 1005/10000 [00:00<00:08, 1061.62it/s]\n",
      " 16%|█▌        | 16/100 [00:00<00:05, 16.64it/s]\n",
      " 10%|█         | 1024/10000 [00:00<00:08, 1051.47it/s]\n",
      " 43%|████▎     | 43/100 [00:02<00:03, 17.14it/s]\n",
      " 10%|█         | 1009/10000 [00:00<00:08, 1010.53it/s]\n",
      " 32%|███▏      | 32/100 [00:01<00:03, 17.54it/s]\n",
      " 60%|██████    | 60/100 [00:03<00:02, 17.79it/s]it/s]\n",
      " 10%|█         | 1036/10000 [00:01<00:08, 1025.01it/s]\n",
      " 10%|▉         | 993/10000 [00:00<00:08, 1030.61it/s]\n",
      " 29%|██▉       | 29/100 [00:01<00:03, 17.87it/s]\n",
      " 68%|██████▊   | 68/100 [00:03<00:01, 17.52it/s]it/s]\n",
      " 10%|▉         | 998/10000 [00:00<00:08, 1058.57it/s]\n",
      " 55%|█████▌    | 55/100 [00:02<00:02, 20.92it/s]it/s]\n",
      " 10%|█         | 1027/10000 [00:01<00:08, 1025.19it/s]\n",
      " 10%|▉         | 990/10000 [00:00<00:08, 1069.32it/s]\n",
      " 13%|█▎        | 13/100 [00:00<00:04, 18.03it/s]\n",
      " 37%|███▋      | 37/100 [00:01<00:03, 20.69it/s]it/s]\n",
      "  8%|▊         | 8/100 [00:00<00:05, 16.66it/s]0it/s]\n",
      "  8%|▊         | 813/10000 [00:00<00:08, 1028.13it/s]\n",
      " 10%|█         | 1008/10000 [00:00<00:08, 1063.65it/s]\n",
      "  9%|▉         | 9/100 [00:00<00:05, 16.81it/s]8it/s]\n",
      " 10%|█         | 1005/10000 [00:00<00:08, 1068.29it/s]\n",
      " 15%|█▌        | 15/100 [00:00<00:04, 18.96it/s]it/s]\n",
      " 10%|█         | 1024/10000 [00:00<00:08, 1031.02it/s]\n",
      " 10%|█         | 1009/10000 [00:00<00:08, 1066.24it/s]\n",
      " 38%|███▊      | 38/100 [00:01<00:03, 20.47it/s]\n",
      "  8%|▊         | 8/100 [00:00<00:05, 15.86it/s]4it/s]\n",
      " 10%|█         | 1036/10000 [00:00<00:08, 1052.53it/s]\n",
      " 10%|▉         | 993/10000 [00:00<00:08, 1033.36it/s]\n",
      " 63%|██████▎   | 63/100 [00:03<00:01, 19.88it/s]\n",
      " 29%|██▉       | 29/100 [00:01<00:03, 19.56it/s]/s]\n",
      " 10%|▉         | 998/10000 [00:00<00:08, 1016.62it/s]\n",
      " 38%|███▊      | 38/100 [00:02<00:03, 17.71it/s]it/s]\n",
      " 10%|█         | 1027/10000 [00:00<00:08, 1070.48it/s]\n",
      " 10%|▉         | 990/10000 [00:00<00:08, 1036.54it/s]\n",
      " 15%|█▌        | 15/100 [00:00<00:05, 16.74it/s]\n",
      " 34%|███▍      | 34/100 [00:01<00:03, 17.34it/s]it/s]\n",
      " 47%|████▋     | 47/100 [00:02<00:03, 17.24it/s]it/s]\n",
      "  8%|▊         | 813/10000 [00:00<00:08, 1054.44it/s]\n",
      " 10%|█         | 1008/10000 [00:00<00:08, 1066.40it/s]\n",
      "  7%|▋         | 7/100 [00:00<00:06, 14.05it/s]2it/s]\n",
      " 10%|█         | 1005/10000 [00:00<00:08, 1030.98it/s]\n",
      " 10%|█         | 10/100 [00:00<00:05, 15.24it/s]\n",
      " 10%|█         | 1024/10000 [00:00<00:08, 1060.28it/s]\n",
      " 10%|█         | 1009/10000 [00:00<00:08, 1063.75it/s]\n",
      " 13%|█▎        | 13/100 [00:00<00:05, 16.27it/s]\n",
      " 13%|█▎        | 13/100 [00:00<00:05, 16.03it/s]it/s]\n",
      " 10%|█         | 1036/10000 [00:00<00:08, 1061.57it/s]\n",
      " 10%|▉         | 993/10000 [00:00<00:08, 1071.59it/s]\n",
      " 54%|█████▍    | 54/100 [00:03<00:02, 17.45it/s]\n",
      " 29%|██▉       | 29/100 [00:01<00:04, 17.55it/s]it/s]\n",
      " 10%|▉         | 998/10000 [00:00<00:08, 1028.38it/s]\n",
      " 33%|███▎      | 33/100 [00:01<00:03, 18.09it/s]it/s]\n",
      " 10%|█         | 1027/10000 [00:00<00:08, 1057.38it/s]\n",
      "  5%|▌         | 5/100 [00:00<00:06, 13.59it/s]2it/s]\n",
      " 10%|▉         | 990/10000 [00:00<00:08, 1059.28it/s]\n",
      "  8%|▊         | 813/10000 [00:00<00:08, 1066.16it/s]\n",
      "  8%|▊         | 8/100 [00:00<00:06, 15.29it/s]]\n",
      " 47%|████▋     | 47/100 [00:02<00:02, 17.92it/s]\n",
      " 28%|██▊       | 28/100 [00:01<00:04, 17.55it/s]t/s] \n",
      " 10%|█         | 1008/10000 [00:00<00:08, 1032.98it/s]\n",
      " 10%|█         | 1005/10000 [00:00<00:08, 1005.26it/s]\n",
      " 10%|█         | 1024/10000 [00:00<00:08, 1067.35it/s]\n",
      " 27%|██▋       | 27/100 [00:01<00:03, 18.34it/s]\n",
      " 10%|█         | 1009/10000 [00:00<00:08, 1069.19it/s]\n",
      " 39%|███▉      | 39/100 [00:02<00:03, 18.48it/s]\n",
      " 46%|████▌     | 46/100 [00:02<00:03, 17.98it/s]\n",
      " 10%|█         | 1036/10000 [00:00<00:08, 1068.87it/s]\n",
      " 10%|▉         | 993/10000 [00:00<00:08, 1031.35it/s]\n",
      " 32%|███▏      | 32/100 [00:01<00:03, 18.26it/s]\n",
      " 10%|▉         | 998/10000 [00:00<00:08, 1062.78it/s]\n",
      " 29%|██▉       | 29/100 [00:01<00:03, 18.05it/s]\n",
      " 13%|█▎        | 13/100 [00:00<00:05, 14.50it/s]it/s]\n",
      " 10%|█         | 1027/10000 [00:00<00:08, 1055.50it/s]\n",
      " 10%|▉         | 990/10000 [00:00<00:08, 1030.54it/s]\n",
      " 65%|██████▌   | 65/100 [00:04<00:02, 15.68it/s]\n",
      " 14%|█▍        | 14/100 [00:00<00:05, 14.94it/s]it/s]\n",
      " 30%|███       | 30/100 [00:01<00:04, 15.53it/s]it/s]\n",
      "  8%|▊         | 813/10000 [00:00<00:08, 1029.52it/s]\n",
      " 10%|█         | 1008/10000 [00:00<00:08, 1061.36it/s]\n",
      " 10%|█         | 1005/10000 [00:00<00:08, 1068.12it/s]\n",
      " 22%|██▏       | 22/100 [00:01<00:05, 15.16it/s]\n",
      " 30%|███       | 30/100 [00:01<00:04, 15.81it/s]t/s] \n",
      " 10%|█         | 1024/10000 [00:01<00:09, 992.53it/s]\n",
      " 10%|█         | 1009/10000 [00:00<00:08, 1061.70it/s]\n",
      " 46%|████▌     | 46/100 [00:02<00:03, 15.53it/s]\n",
      "100%|██████████| 100/100 [00:05<00:00, 16.69it/s]t/s]\n",
      " 10%|█         | 1036/10000 [00:01<00:08, 1028.89it/s]\n",
      " 63%|██████▎   | 63/100 [00:03<00:02, 16.51it/s]it/s]\n",
      " 10%|▉         | 993/10000 [00:00<00:08, 1056.76it/s]\n",
      " 10%|▉         | 998/10000 [00:00<00:08, 1063.29it/s]\n",
      " 32%|███▏      | 32/100 [00:01<00:03, 17.94it/s]\n",
      " 10%|█         | 1027/10000 [00:00<00:08, 1067.74it/s]\n",
      " 65%|██████▌   | 65/100 [00:03<00:01, 18.52it/s]\n",
      "  9%|▉         | 9/100 [00:00<00:05, 15.47it/s]7it/s]\n",
      " 10%|▉         | 990/10000 [00:00<00:08, 1063.38it/s]\n",
      "  8%|▊         | 813/10000 [00:00<00:08, 1064.62it/s]\n",
      "  5%|▌         | 5/100 [00:00<00:07, 13.20it/s]]\n",
      "  8%|▊         | 8/100 [00:00<00:06, 15.09it/s]]it/s]\n",
      "100%|██████████| 100/100 [00:06<00:00, 16.21it/s]t/s]\n",
      " 10%|█         | 1008/10000 [00:00<00:08, 1061.38it/s]\n",
      " 10%|█         | 1005/10000 [00:00<00:08, 1063.63it/s]\n",
      " 10%|█         | 1024/10000 [00:00<00:08, 1031.14it/s]\n",
      " 26%|██▌       | 26/100 [00:01<00:04, 16.99it/s]\n",
      " 39%|███▉      | 39/100 [00:02<00:03, 18.08it/s]it/s]\n",
      " 10%|█         | 1009/10000 [00:00<00:08, 1027.16it/s]\n",
      " 53%|█████▎    | 53/100 [00:02<00:02, 18.68it/s]it/s]\n",
      " 10%|█         | 1036/10000 [00:00<00:08, 1070.00it/s]\n",
      " 10%|▉         | 993/10000 [00:00<00:08, 1064.36it/s]\n",
      " 42%|████▏     | 42/100 [00:02<00:03, 17.13it/s]\n",
      " 31%|███       | 31/100 [00:02<00:04, 15.16it/s]it/s]\n",
      " 10%|▉         | 998/10000 [00:00<00:08, 1026.40it/s]\n",
      " 10%|█         | 1027/10000 [00:00<00:08, 1066.78it/s]\n",
      " 73%|███████▎  | 73/100 [00:03<00:01, 18.34it/s]\n",
      " 10%|▉         | 990/10000 [00:00<00:08, 1073.61it/s]\n",
      " 19%|█▉        | 19/100 [00:01<00:05, 15.50it/s]\n",
      " 31%|███       | 31/100 [00:02<00:04, 15.46it/s]it/s]\n",
      "  8%|▊         | 813/10000 [00:00<00:08, 1050.14it/s]\n",
      " 15%|█▌        | 15/100 [00:01<00:05, 14.77it/s]\n",
      " 10%|█         | 1008/10000 [00:00<00:08, 1026.92it/s]\n",
      " 11%|█         | 11/100 [00:00<00:06, 14.53it/s]it/s]\n",
      " 10%|█         | 1005/10000 [00:00<00:08, 1067.11it/s]\n",
      " 10%|█         | 1024/10000 [00:00<00:08, 1065.97it/s]\n",
      " 27%|██▋       | 27/100 [00:01<00:04, 15.39it/s]\n",
      " 10%|█         | 1009/10000 [00:00<00:08, 1033.13it/s]\n",
      " 29%|██▉       | 29/100 [00:01<00:04, 16.18it/s]\n",
      " 12%|█▏        | 12/100 [00:00<00:06, 14.08it/s]it/s]\n",
      " 10%|█         | 1036/10000 [00:00<00:08, 1061.17it/s]\n",
      " 10%|▉         | 993/10000 [00:00<00:08, 1027.98it/s]\n",
      " 75%|███████▌  | 75/100 [00:04<00:01, 16.68it/s]\n",
      " 29%|██▉       | 29/100 [00:01<00:04, 16.05it/s]it/s]\n",
      " 10%|▉         | 998/10000 [00:00<00:08, 1038.60it/s]\n",
      " 10%|█         | 1027/10000 [00:00<00:08, 1064.80it/s]\n",
      " 50%|█████     | 50/100 [00:02<00:02, 17.95it/s]\n",
      " 31%|███       | 31/100 [00:01<00:03, 18.26it/s]it/s]\n",
      " 10%|▉         | 990/10000 [00:00<00:09, 996.25it/s] \n",
      " 29%|██▉       | 29/100 [00:01<00:03, 17.79it/s]t/s]\n",
      "  8%|▊         | 813/10000 [00:00<00:09, 1015.57it/s]\n",
      "  5%|▌         | 5/100 [00:00<00:07, 13.30it/s]]it/s]\n",
      " 10%|█         | 10/100 [00:00<00:05, 15.17it/s]it/s]\n",
      " 10%|█         | 1008/10000 [00:00<00:08, 1060.23it/s]\n",
      " 10%|█         | 1005/10000 [00:00<00:08, 1069.55it/s]\n",
      " 10%|█         | 1024/10000 [00:00<00:08, 1034.37it/s]\n",
      " 16%|█▌        | 16/100 [00:00<00:05, 16.45it/s]\n",
      " 28%|██▊       | 28/100 [00:01<00:03, 18.13it/s]\n",
      " 35%|███▌      | 35/100 [00:01<00:03, 18.24it/s]it/s]\n",
      " 10%|█         | 1009/10000 [00:00<00:08, 1024.30it/s]\n",
      " 10%|█         | 1036/10000 [00:00<00:08, 1065.53it/s]\n",
      " 10%|▉         | 993/10000 [00:00<00:08, 1064.55it/s]\n",
      " 13%|█▎        | 13/100 [00:00<00:05, 16.05it/s]\n",
      " 10%|▉         | 998/10000 [00:00<00:08, 1030.79it/s]\n",
      " 39%|███▉      | 39/100 [00:02<00:03, 18.76it/s]\n",
      " 10%|█         | 1027/10000 [00:00<00:08, 1056.78it/s]\n",
      " 21%|██        | 21/100 [00:01<00:05, 15.21it/s]\n",
      " 53%|█████▎    | 53/100 [00:03<00:03, 15.58it/s]it/s]\n",
      " 10%|▉         | 990/10000 [00:00<00:08, 1050.25it/s]\n",
      "  8%|▊         | 813/10000 [00:00<00:08, 1030.80it/s]\n",
      "100%|██████████| 100/100 [00:05<00:00, 16.86it/s]\n",
      " 10%|█         | 1008/10000 [00:00<00:08, 1069.06it/s]\n",
      " 55%|█████▌    | 55/100 [00:03<00:02, 16.67it/s]\n",
      " 18%|█▊        | 18/100 [00:01<00:05, 15.20it/s]/s]\n",
      " 50%|█████     | 50/100 [00:03<00:03, 15.77it/s]it/s]\n",
      " 10%|█         | 1005/10000 [00:00<00:08, 1041.03it/s]\n",
      " 10%|█         | 1024/10000 [00:00<00:08, 1059.73it/s]\n",
      " 10%|█         | 1009/10000 [00:00<00:08, 1036.28it/s]\n",
      " 17%|█▋        | 17/100 [00:01<00:05, 14.66it/s]\n",
      " 25%|██▌       | 25/100 [00:01<00:05, 14.92it/s]it/s]\n",
      " 10%|█         | 1036/10000 [00:00<00:08, 1071.24it/s]\n",
      " 10%|▉         | 993/10000 [00:00<00:08, 1033.46it/s]\n",
      " 63%|██████▎   | 63/100 [00:03<00:02, 16.51it/s]\n",
      " 29%|██▉       | 29/100 [00:01<00:04, 15.75it/s]it/s]\n",
      " 10%|▉         | 998/10000 [00:00<00:08, 1036.41it/s]\n",
      " 31%|███       | 31/100 [00:01<00:03, 17.26it/s]it/s]\n",
      " 10%|█         | 1027/10000 [00:00<00:08, 1060.73it/s]\n",
      " 10%|▉         | 990/10000 [00:00<00:08, 1030.71it/s]\n",
      " 22%|██▏       | 22/100 [00:01<00:04, 17.83it/s]\n",
      " 21%|██        | 21/100 [00:01<00:04, 17.46it/s]it/s]\n",
      "  8%|▊         | 813/10000 [00:00<00:08, 1052.42it/s]\n",
      " 10%|█         | 1008/10000 [00:00<00:08, 1067.67it/s]\n",
      "  7%|▋         | 7/100 [00:00<00:06, 14.83it/s]\n",
      " 32%|███▏      | 32/100 [00:01<00:03, 17.09it/s]t/s] \n",
      "  8%|▊         | 8/100 [00:00<00:06, 13.87it/s]t/s]]\n",
      " 10%|█         | 1005/10000 [00:00<00:08, 1024.49it/s]\n",
      " 10%|█         | 1024/10000 [00:00<00:08, 1025.39it/s]\n",
      " 10%|█         | 1009/10000 [00:00<00:08, 1070.50it/s]\n",
      "  8%|▊         | 8/100 [00:00<00:06, 15.26it/s]]\n",
      " 13%|█▎        | 13/100 [00:00<00:05, 16.00it/s]it/s]\n",
      " 10%|█         | 1036/10000 [00:00<00:08, 1062.92it/s]\n",
      " 38%|███▊      | 38/100 [00:02<00:03, 18.56it/s]\n",
      " 10%|▉         | 993/10000 [00:00<00:08, 1017.19it/s]\n",
      " 10%|▉         | 998/10000 [00:00<00:08, 1037.47it/s]\n",
      " 28%|██▊       | 28/100 [00:01<00:04, 17.48it/s]\n",
      " 10%|█         | 1027/10000 [00:00<00:08, 1062.90it/s]\n",
      " 30%|███       | 30/100 [00:01<00:04, 16.07it/s]\n",
      " 10%|▉         | 990/10000 [00:00<00:08, 1058.37it/s]\n",
      " 61%|██████    | 61/100 [00:03<00:02, 15.72it/s]\n",
      " 11%|█         | 11/100 [00:00<00:06, 13.81it/s]it/s]\n",
      "  8%|▊         | 813/10000 [00:00<00:09, 1012.10it/s]\n",
      "  7%|▋         | 7/100 [00:00<00:07, 12.66it/s]6it/s]\n",
      " 10%|█         | 1008/10000 [00:00<00:08, 1055.73it/s]\n",
      "  9%|▉         | 9/100 [00:00<00:06, 13.94it/s]]it/s]\n",
      " 10%|█         | 1005/10000 [00:00<00:08, 1023.49it/s]\n",
      " 73%|███████▎  | 73/100 [00:04<00:01, 16.25it/s]it/s]\n",
      " 10%|█         | 1024/10000 [00:00<00:08, 1062.49it/s]\n",
      " 10%|█         | 1009/10000 [00:00<00:08, 1065.10it/s]\n",
      " 38%|███▊      | 38/100 [00:02<00:03, 15.54it/s]\n",
      " 13%|█▎        | 13/100 [00:00<00:05, 14.54it/s]\n",
      " 38%|███▊      | 38/100 [00:02<00:03, 16.36it/s]it/s]\n",
      " 10%|█         | 1036/10000 [00:00<00:08, 1042.10it/s]\n",
      " 39%|███▉      | 39/100 [00:02<00:03, 15.99it/s]\n",
      "  8%|██████████▏                                                                                                                 | 822/10000 [00:00<00:08, 1021.99it/s]\n",
      " 23%|█████████████████████████████▋                                                                                                   | 23/100 [00:01<00:06, 11.89it/s]\n"
     ]
    },
    {
     "data": {
      "text/plain": [
       "(0.6665853628028569,\n",
       " {'batch_size': 32,\n",
       "  'distr_kind': 'Weibull',\n",
       "  'elbo': False,\n",
       "  'layer_sizes': [7],\n",
       "  'learning_rate': 0.001,\n",
       "  'max_epochs': 100,\n",
       "  'n_distr': 2,\n",
       "  'validation_size': 0.1})"
      ]
     },
     "execution_count": 48,
     "metadata": {},
     "output_type": "execute_result"
    }
   ],
   "source": [
    "# Stratified CV\n",
    "opt_dsm, opt_dsm_params, opt_dsm_search = optimize(survwrap.DeepSurvivalMachines(rng_seed=2308),  X_train, y_train, \n",
    "                                                   user_grid=grid,cv=RepeatedStratifiedKFold(n_splits=5, n_repeats=2, random_state=2308).split(X_train,survwrap.get_indicator(y_train)))\n",
    "opt_dsm.score(X_test, y_test), opt_dsm_params"
   ]
  },
  {
   "cell_type": "code",
   "execution_count": 50,
   "id": "ab81d401-a14d-46aa-844a-eb3b3c0344e1",
   "metadata": {},
   "outputs": [
    {
     "data": {
      "text/plain": [
       "[(1,\n",
       "  0.6439123236055904,\n",
       "  0.013331054406781466,\n",
       "  0.6305812691988089,\n",
       "  {'batch_size': 32,\n",
       "   'distr_kind': 'Weibull',\n",
       "   'elbo': False,\n",
       "   'layer_sizes': [7],\n",
       "   'learning_rate': 0.001,\n",
       "   'max_epochs': 100,\n",
       "   'n_distr': 2,\n",
       "   'validation_size': 0.1}),\n",
       " (2,\n",
       "  0.6374513258647787,\n",
       "  0.012825806218798695,\n",
       "  0.62462551964598,\n",
       "  {'batch_size': 32,\n",
       "   'distr_kind': 'Weibull',\n",
       "   'elbo': False,\n",
       "   'layer_sizes': [7, 7, 7],\n",
       "   'learning_rate': 0.001,\n",
       "   'max_epochs': 100,\n",
       "   'n_distr': 2,\n",
       "   'validation_size': 0.1}),\n",
       " (3,\n",
       "  0.6373802236649386,\n",
       "  0.011519852514337724,\n",
       "  0.6258603711506009,\n",
       "  {'batch_size': 32,\n",
       "   'distr_kind': 'Weibull',\n",
       "   'elbo': False,\n",
       "   'layer_sizes': [7],\n",
       "   'learning_rate': 0.001,\n",
       "   'max_epochs': 100,\n",
       "   'n_distr': 1,\n",
       "   'validation_size': 0.1}),\n",
       " (4,\n",
       "  0.6358725130321964,\n",
       "  0.01804665694618733,\n",
       "  0.617825856086009,\n",
       "  {'batch_size': 32,\n",
       "   'distr_kind': 'Weibull',\n",
       "   'elbo': False,\n",
       "   'layer_sizes': [5],\n",
       "   'learning_rate': 0.001,\n",
       "   'max_epochs': 100,\n",
       "   'n_distr': 1,\n",
       "   'validation_size': 0.1}),\n",
       " (5,\n",
       "  0.6332197165637087,\n",
       "  0.02091167614586832,\n",
       "  0.6123080404178404,\n",
       "  {'batch_size': 32,\n",
       "   'distr_kind': 'Weibull',\n",
       "   'elbo': False,\n",
       "   'layer_sizes': [9],\n",
       "   'learning_rate': 0.001,\n",
       "   'max_epochs': 100,\n",
       "   'n_distr': 2,\n",
       "   'validation_size': 0.1}),\n",
       " (6,\n",
       "  0.6249941446757835,\n",
       "  0.02282013733615964,\n",
       "  0.6021740073396239,\n",
       "  {'batch_size': 32,\n",
       "   'distr_kind': 'Weibull',\n",
       "   'elbo': False,\n",
       "   'layer_sizes': [3],\n",
       "   'learning_rate': 0.001,\n",
       "   'max_epochs': 100,\n",
       "   'n_distr': 2,\n",
       "   'validation_size': 0.1}),\n",
       " (7,\n",
       "  0.6245370620843073,\n",
       "  0.028332369005579436,\n",
       "  0.5962046930787278,\n",
       "  {'batch_size': 32,\n",
       "   'distr_kind': 'Weibull',\n",
       "   'elbo': False,\n",
       "   'layer_sizes': [7, 7, 7],\n",
       "   'learning_rate': 0.001,\n",
       "   'max_epochs': 100,\n",
       "   'n_distr': 1,\n",
       "   'validation_size': 0.1}),\n",
       " (8,\n",
       "  0.6242495458397811,\n",
       "  0.02556621142212975,\n",
       "  0.5986833344176513,\n",
       "  {'batch_size': 32,\n",
       "   'distr_kind': 'Weibull',\n",
       "   'elbo': False,\n",
       "   'layer_sizes': [5, 5, 5],\n",
       "   'learning_rate': 0.001,\n",
       "   'max_epochs': 100,\n",
       "   'n_distr': 2,\n",
       "   'validation_size': 0.1}),\n",
       " (9,\n",
       "  0.6234525703797101,\n",
       "  0.027161547714066064,\n",
       "  0.596291022665644,\n",
       "  {'batch_size': 32,\n",
       "   'distr_kind': 'Weibull',\n",
       "   'elbo': False,\n",
       "   'layer_sizes': [5],\n",
       "   'learning_rate': 0.001,\n",
       "   'max_epochs': 100,\n",
       "   'n_distr': 2,\n",
       "   'validation_size': 0.1}),\n",
       " (10,\n",
       "  0.6198937510658755,\n",
       "  0.012579301794757695,\n",
       "  0.6073144492711178,\n",
       "  {'batch_size': 32,\n",
       "   'distr_kind': 'Weibull',\n",
       "   'elbo': False,\n",
       "   'layer_sizes': [9, 9, 9],\n",
       "   'learning_rate': 0.001,\n",
       "   'max_epochs': 100,\n",
       "   'n_distr': 1,\n",
       "   'validation_size': 0.1})]"
      ]
     },
     "execution_count": 50,
     "metadata": {},
     "output_type": "execute_result"
    }
   ],
   "source": [
    "cv_res = opt_dsm_search.cv_results_\n",
    "rez=sorted(zip(cv_res['rank_test_score'], cv_res['mean_test_score'] , cv_res['std_test_score'], \n",
    "               cv_res['mean_test_score'] - cv_res['std_test_score'], opt_dsm_search.cv_results_['params']))\n",
    "rez[:10]"
   ]
  },
  {
   "cell_type": "code",
   "execution_count": 51,
   "id": "36d543c7-043d-4ad9-9a3b-9485d098288c",
   "metadata": {
    "scrolled": true
   },
   "outputs": [
    {
     "name": "stdout",
     "output_type": "stream",
     "text": [
      "(1, 0.6439123236055904, 0.013331054406781466, 0.6305812691988089)\n"
     ]
    },
    {
     "name": "stderr",
     "output_type": "stream",
     "text": [
      "  8%|██████████▏                                                                                                                 | 822/10000 [00:00<00:09, 1000.51it/s]\n",
      " 23%|█████████████████████████████▋                                                                                                   | 23/100 [00:01<00:06, 12.29it/s]\n"
     ]
    },
    {
     "name": "stdout",
     "output_type": "stream",
     "text": [
      "Train:  0.6579 , Test: 0.6666\n",
      "(3, 0.6373802236649386, 0.011519852514337724, 0.6258603711506009)\n"
     ]
    },
    {
     "name": "stderr",
     "output_type": "stream",
     "text": [
      "  8%|██████████▏                                                                                                                 | 822/10000 [00:00<00:09, 1014.30it/s]\n",
      " 13%|████████████████▊                                                                                                                | 13/100 [00:00<00:06, 13.74it/s]\n"
     ]
    },
    {
     "name": "stdout",
     "output_type": "stream",
     "text": [
      "Train:  0.6424 , Test: 0.6341\n",
      "(2, 0.6374513258647787, 0.012825806218798695, 0.62462551964598)\n"
     ]
    },
    {
     "name": "stderr",
     "output_type": "stream",
     "text": [
      "  8%|██████████▏                                                                                                                 | 822/10000 [00:00<00:08, 1023.91it/s]\n",
      " 14%|██████████████████                                                                                                               | 14/100 [00:01<00:08, 10.55it/s]\n"
     ]
    },
    {
     "name": "stdout",
     "output_type": "stream",
     "text": [
      "Train:  0.6542 , Test: 0.6551\n",
      "(4, 0.6358725130321964, 0.01804665694618733, 0.617825856086009)\n"
     ]
    },
    {
     "name": "stderr",
     "output_type": "stream",
     "text": [
      "  8%|██████████▏                                                                                                                 | 822/10000 [00:00<00:09, 1006.77it/s]\n",
      " 33%|██████████████████████████████████████████▌                                                                                      | 33/100 [00:02<00:04, 14.49it/s]\n"
     ]
    },
    {
     "name": "stdout",
     "output_type": "stream",
     "text": [
      "Train:  0.6583 , Test: 0.6545\n",
      "(5, 0.6332197165637087, 0.02091167614586832, 0.6123080404178404)\n"
     ]
    },
    {
     "name": "stderr",
     "output_type": "stream",
     "text": [
      "  8%|██████████▎                                                                                                                  | 822/10000 [00:00<00:09, 980.27it/s]\n",
      " 15%|███████████████████▎                                                                                                             | 15/100 [00:01<00:07, 11.23it/s]\n"
     ]
    },
    {
     "name": "stdout",
     "output_type": "stream",
     "text": [
      "Train:  0.6483 , Test: 0.6469\n",
      "(10, 0.6198937510658755, 0.012579301794757695, 0.6073144492711178)\n"
     ]
    },
    {
     "name": "stderr",
     "output_type": "stream",
     "text": [
      "  8%|██████████▎                                                                                                                  | 822/10000 [00:00<00:09, 935.74it/s]\n",
      " 28%|████████████████████████████████████                                                                                             | 28/100 [00:02<00:05, 12.65it/s]\n"
     ]
    },
    {
     "name": "stdout",
     "output_type": "stream",
     "text": [
      "Train:  0.6568 , Test: 0.6473\n",
      "(6, 0.6249941446757835, 0.02282013733615964, 0.6021740073396239)\n"
     ]
    },
    {
     "name": "stderr",
     "output_type": "stream",
     "text": [
      "  8%|██████████▏                                                                                                                 | 822/10000 [00:00<00:09, 1003.71it/s]\n",
      " 77%|███████████████████████████████████████████████████████████████████████████████████████████████████▎                             | 77/100 [00:06<00:01, 12.58it/s]\n"
     ]
    },
    {
     "name": "stdout",
     "output_type": "stream",
     "text": [
      "Train:  0.6551 , Test: 0.6531\n",
      "(8, 0.6242495458397811, 0.02556621142212975, 0.5986833344176513)\n"
     ]
    },
    {
     "name": "stderr",
     "output_type": "stream",
     "text": [
      "  8%|██████████▏                                                                                                                 | 822/10000 [00:00<00:09, 1002.04it/s]\n",
      " 15%|███████████████████▎                                                                                                             | 15/100 [00:01<00:07, 10.65it/s]\n"
     ]
    },
    {
     "name": "stdout",
     "output_type": "stream",
     "text": [
      "Train:  0.6413 , Test: 0.6220\n",
      "(9, 0.6234525703797101, 0.027161547714066064, 0.596291022665644)\n"
     ]
    },
    {
     "name": "stderr",
     "output_type": "stream",
     "text": [
      "  8%|██████████▏                                                                                                                 | 822/10000 [00:00<00:08, 1030.08it/s]\n",
      " 21%|███████████████████████████                                                                                                      | 21/100 [00:01<00:06, 12.76it/s]\n"
     ]
    },
    {
     "name": "stdout",
     "output_type": "stream",
     "text": [
      "Train:  0.6393 , Test: 0.6399\n",
      "(7, 0.6245370620843073, 0.028332369005579436, 0.5962046930787278)\n"
     ]
    },
    {
     "name": "stderr",
     "output_type": "stream",
     "text": [
      "  8%|██████████▏                                                                                                                 | 822/10000 [00:00<00:08, 1030.47it/s]\n",
      " 60%|█████████████████████████████████████████████████████████████████████████████▍                                                   | 60/100 [00:04<00:03, 13.32it/s]"
     ]
    },
    {
     "name": "stdout",
     "output_type": "stream",
     "text": [
      "Train:  0.6576 , Test: 0.6430\n"
     ]
    },
    {
     "name": "stderr",
     "output_type": "stream",
     "text": [
      "\n"
     ]
    }
   ],
   "source": [
    "low_bound = sorted(rez[:10], key= lambda k: k[3], reverse=True)\n",
    "for lb in [ _ for _ in low_bound if _[3] > 0.5] :\n",
    "    print(lb[0:4])\n",
    "    test_model(survwrap.DeepSurvivalMachines, **lb[4])"
   ]
  },
  {
   "cell_type": "code",
   "execution_count": 53,
   "id": "d29144de-820a-4d6e-89c0-bbf50acd6684",
   "metadata": {
    "scrolled": true
   },
   "outputs": [
    {
     "name": "stderr",
     "output_type": "stream",
     "text": [
      "  8%|██████████▎                                                                                                                  | 822/10000 [00:00<00:09, 981.93it/s]\n",
      " 12%|██████████████▊                                                                                                                  | 23/200 [00:01<00:14, 11.87it/s]"
     ]
    },
    {
     "name": "stdout",
     "output_type": "stream",
     "text": [
      "Train:  0.6579 , Test: 0.6666\n"
     ]
    },
    {
     "name": "stderr",
     "output_type": "stream",
     "text": [
      "\n"
     ]
    },
    {
     "data": {
      "text/plain": [
       "0.6665853628028569"
      ]
     },
     "execution_count": 53,
     "metadata": {},
     "output_type": "execute_result"
    }
   ],
   "source": [
    "test_model(survwrap.DeepSurvivalMachines, batch_size=32, layer_sizes=[7], n_distr=2, max_epochs=200)"
   ]
  },
  {
   "cell_type": "markdown",
   "id": "eea8b402-b00f-4636-b0ce-707d2b9c5b88",
   "metadata": {},
   "source": [
    "# Appunti di varie prove DSM\n",
    "\n",
    "## Insieme di prova (Breast cancer)\n",
    "\n",
    "Piccolo insieme bastardo. 200 elementi, 84 features e solo il 25% di eventi non censurati.\n",
    "Coxnet di default va male (c-index 53%), DSM richiede cura per inziare a generalizzare.\n",
    "\n",
    "## Stabilità risultato\n",
    "\n",
    "1. stratificare, stratificare rispetto all'evento. Usando insiemi stratificati rispetto all'evento DSM inizia a funzionare in maniera meno erratica.\n",
    "2. Se si stratifica anche la CV, L'ottimizzazione DSM tende a fornire risultati buoni per tutta le soluzioni top e anche CoxNet ci guadagna in ottimizzazione (c-index: 57%).\n",
    "   potrebbe sembrare ovvio a posteriori, dato che stiamo imponendo un \"contenuto di informazione\" simile tra train e test. ma non mi pare una forzatura clamorosa.\n",
    "\n",
    "# Ottimizzazione parametri DSM\n",
    "\n",
    "1. Quello più difficile da gestire è ovviamente la topologia della rete. Usando un solo strato nascosto si vede che anche cambiando di un solo valore la dimensione si può passare da una rete che generalizza a una che fa schifo, quindi bisognerebbe fare uno scan senza salti. O fare una random search.\n",
    "   Alla fine mi sono inventato un protocollo scemo ma che sembra andare ragionevolmente (su breast cancer). Fare uno scan per i valori de numeri primi compresi tra 3 e n_features/2 (olè!)\n",
    "2. Reti a \"parametri equivalenti\", (la procedura del quant): fatti tanti test, c'è un fenomeno curioso: le reti con numero pari di strarti nascosti generalizzano male. Mah!\n",
    "   Quindi alla fine ho testato sistematicamente solo quelle con strati dispari (1,3,5). Ma per quelle con 5 iniziano ad apparire problemi di stabilità numerica, probabilmente quando sono troppo grandi.\n",
    "3. numero di funzioni di base (Weibull): il default è 2, ma si ottengono parecchi buoni risultati anche con una sola. Molte soluzioni con 3 non generalizzano. quindi 1 o 2.\n",
    "4. Come detto sopra, la stratificazione aiuta molto, così come il fare almeno 10 split (n_splits=5, n_repeats=2) per aver una varianza abbastanza stabile. Sono riuscito a fare griglie con cv stratificate con un trucchino sklearn che implementerei\n",
    "5. batch size: 10% dell'insieme di train. Sembra OK. mai ottimizzata. così come gli altri parametri legati al learning. Non mi aspetto che incidano.\n",
    "6. Alla fine della fiera si possono ottenere risulati stabilmente decorosi usando 1 o 3 strati nascosto e 1 sola weibull (test c-index: 65%). Introducendo anche la doppia weibull la griglia diventa più onerosa e possono aumentare le soluzioni solo apparentemente buone ma generalizzano peggio (anche se non disastrose: 58%). Non andare oltre le 2 weibull e 3 strati.\n"
   ]
  },
  {
   "cell_type": "markdown",
   "id": "b0b40382-076d-4687-94be-a531868a6f55",
   "metadata": {},
   "source": [
    "# PyCox"
   ]
  },
  {
   "cell_type": "code",
   "execution_count": 55,
   "id": "d4c93711-b26b-447b-a207-32641f9c5e89",
   "metadata": {},
   "outputs": [],
   "source": [
    "#import pycox.models"
   ]
  },
  {
   "cell_type": "code",
   "execution_count": 54,
   "id": "ec08ab11-20e1-4d66-9cf7-862a875fe8c6",
   "metadata": {},
   "outputs": [
    {
     "data": {
      "text/html": [
       "<style>#sk-container-id-4 {color: black;background-color: white;}#sk-container-id-4 pre{padding: 0;}#sk-container-id-4 div.sk-toggleable {background-color: white;}#sk-container-id-4 label.sk-toggleable__label {cursor: pointer;display: block;width: 100%;margin-bottom: 0;padding: 0.3em;box-sizing: border-box;text-align: center;}#sk-container-id-4 label.sk-toggleable__label-arrow:before {content: \"▸\";float: left;margin-right: 0.25em;color: #696969;}#sk-container-id-4 label.sk-toggleable__label-arrow:hover:before {color: black;}#sk-container-id-4 div.sk-estimator:hover label.sk-toggleable__label-arrow:before {color: black;}#sk-container-id-4 div.sk-toggleable__content {max-height: 0;max-width: 0;overflow: hidden;text-align: left;background-color: #f0f8ff;}#sk-container-id-4 div.sk-toggleable__content pre {margin: 0.2em;color: black;border-radius: 0.25em;background-color: #f0f8ff;}#sk-container-id-4 input.sk-toggleable__control:checked~div.sk-toggleable__content {max-height: 200px;max-width: 100%;overflow: auto;}#sk-container-id-4 input.sk-toggleable__control:checked~label.sk-toggleable__label-arrow:before {content: \"▾\";}#sk-container-id-4 div.sk-estimator input.sk-toggleable__control:checked~label.sk-toggleable__label {background-color: #d4ebff;}#sk-container-id-4 div.sk-label input.sk-toggleable__control:checked~label.sk-toggleable__label {background-color: #d4ebff;}#sk-container-id-4 input.sk-hidden--visually {border: 0;clip: rect(1px 1px 1px 1px);clip: rect(1px, 1px, 1px, 1px);height: 1px;margin: -1px;overflow: hidden;padding: 0;position: absolute;width: 1px;}#sk-container-id-4 div.sk-estimator {font-family: monospace;background-color: #f0f8ff;border: 1px dotted black;border-radius: 0.25em;box-sizing: border-box;margin-bottom: 0.5em;}#sk-container-id-4 div.sk-estimator:hover {background-color: #d4ebff;}#sk-container-id-4 div.sk-parallel-item::after {content: \"\";width: 100%;border-bottom: 1px solid gray;flex-grow: 1;}#sk-container-id-4 div.sk-label:hover label.sk-toggleable__label {background-color: #d4ebff;}#sk-container-id-4 div.sk-serial::before {content: \"\";position: absolute;border-left: 1px solid gray;box-sizing: border-box;top: 0;bottom: 0;left: 50%;z-index: 0;}#sk-container-id-4 div.sk-serial {display: flex;flex-direction: column;align-items: center;background-color: white;padding-right: 0.2em;padding-left: 0.2em;position: relative;}#sk-container-id-4 div.sk-item {position: relative;z-index: 1;}#sk-container-id-4 div.sk-parallel {display: flex;align-items: stretch;justify-content: center;background-color: white;position: relative;}#sk-container-id-4 div.sk-item::before, #sk-container-id-4 div.sk-parallel-item::before {content: \"\";position: absolute;border-left: 1px solid gray;box-sizing: border-box;top: 0;bottom: 0;left: 50%;z-index: -1;}#sk-container-id-4 div.sk-parallel-item {display: flex;flex-direction: column;z-index: 1;position: relative;background-color: white;}#sk-container-id-4 div.sk-parallel-item:first-child::after {align-self: flex-end;width: 50%;}#sk-container-id-4 div.sk-parallel-item:last-child::after {align-self: flex-start;width: 50%;}#sk-container-id-4 div.sk-parallel-item:only-child::after {width: 0;}#sk-container-id-4 div.sk-dashed-wrapped {border: 1px dashed gray;margin: 0 0.4em 0.5em 0.4em;box-sizing: border-box;padding-bottom: 0.4em;background-color: white;}#sk-container-id-4 div.sk-label label {font-family: monospace;font-weight: bold;display: inline-block;line-height: 1.2em;}#sk-container-id-4 div.sk-label-container {text-align: center;}#sk-container-id-4 div.sk-container {/* jupyter's `normalize.less` sets `[hidden] { display: none; }` but bootstrap.min.css set `[hidden] { display: none !important; }` so we also need the `!important` here to be able to override the default hidden behavior on the sphinx rendered scikit-learn.org. See: https://github.com/scikit-learn/scikit-learn/issues/21755 */display: inline-block !important;position: relative;}#sk-container-id-4 div.sk-text-repr-fallback {display: none;}</style><div id=\"sk-container-id-4\" class=\"sk-top-container\"><div class=\"sk-text-repr-fallback\"><pre>DeepHitSingle(rng_seed=-1, num_durations=10, layer_sizes=[10, 10], epochs=10, batch_size=16, validation_size=0.1, learning_rate=0.001, device=&#x27;cpu&#x27;)</pre><b>In a Jupyter environment, please rerun this cell to show the HTML representation or trust the notebook. <br />On GitHub, the HTML representation is unable to render, please try loading this page with nbviewer.org.</b></div><div class=\"sk-container\" hidden><div class=\"sk-item\"><div class=\"sk-estimator sk-toggleable\"><input class=\"sk-toggleable__control sk-hidden--visually\" id=\"sk-estimator-id-4\" type=\"checkbox\" checked><label for=\"sk-estimator-id-4\" class=\"sk-toggleable__label sk-toggleable__label-arrow\">DeepHitSingle</label><div class=\"sk-toggleable__content\"><pre>DeepHitSingle(rng_seed=-1, num_durations=10, layer_sizes=[10, 10], epochs=10, batch_size=16, validation_size=0.1, learning_rate=0.001, device=&#x27;cpu&#x27;)</pre></div></div></div></div></div>"
      ],
      "text/plain": [
       "DeepHitSingle(rng_seed=-1, num_durations=10, layer_sizes=[10, 10], epochs=10, batch_size=16, validation_size=0.1, learning_rate=0.001, device='cpu')"
      ]
     },
     "execution_count": 54,
     "metadata": {},
     "output_type": "execute_result"
    }
   ],
   "source": [
    "dhs = survwrap.DeepHitSingle()\n",
    "dhs"
   ]
  },
  {
   "cell_type": "code",
   "execution_count": 55,
   "id": "e18d99ef-0064-4d73-b6fc-48e8ee64b37a",
   "metadata": {},
   "outputs": [],
   "source": [
    "# WARNING: if num_cpus is defined in GridSearchCV it dies in the first run of DHS fit, probably bc it wants all cpus for itself\n",
    "def optimize(estimator, X, y, mode='sklearn-grid', user_grid=[] , cv=None):\n",
    "    if mode == 'sklearn-grid':\n",
    "        if not user_grid: \n",
    "            user_grid = estimator.get_parameter_grid()\n",
    "        gs = GridSearchCV(estimator, user_grid, refit=True, cv=cv)\n",
    "        gs.fit(X, y)\n",
    "        return gs.best_estimator_, gs.best_params_, gs\n",
    "    raise ValueError(f'unknown mode parameter: \"{mode}\"')"
   ]
  },
  {
   "cell_type": "code",
   "execution_count": 56,
   "id": "02f94508-cc94-4aa7-bce1-519736713ae4",
   "metadata": {},
   "outputs": [
    {
     "data": {
      "text/plain": [
       "{'num_durations': [10],\n",
       " 'layer_sizes': [[10, 10]],\n",
       " 'epochs': [100],\n",
       " 'batch_size': [16]}"
      ]
     },
     "execution_count": 56,
     "metadata": {},
     "output_type": "execute_result"
    }
   ],
   "source": [
    "dhs_grid = dhs.get_parameter_grid()\n",
    "dhs_grid"
   ]
  },
  {
   "cell_type": "code",
   "execution_count": 66,
   "id": "49d5c9f0-9ae1-4cc0-87ee-829b2614f147",
   "metadata": {},
   "outputs": [
    {
     "ename": "TypeError",
     "evalue": "DeepHitSingle.__init__() got an unexpected keyword argument 'dropout'",
     "output_type": "error",
     "traceback": [
      "\u001b[0;31m---------------------------------------------------------------------------\u001b[0m",
      "\u001b[0;31mTypeError\u001b[0m                                 Traceback (most recent call last)",
      "Cell \u001b[0;32mIn[66], line 1\u001b[0m\n\u001b[0;32m----> 1\u001b[0m \u001b[43mtest_model\u001b[49m\u001b[43m(\u001b[49m\u001b[43msurvwrap\u001b[49m\u001b[38;5;241;43m.\u001b[39;49m\u001b[43mDeepHitSingle\u001b[49m\u001b[43m,\u001b[49m\u001b[43m \u001b[49m\u001b[43mrng_seed\u001b[49m\u001b[38;5;241;43m=\u001b[39;49m\u001b[38;5;241;43m2309\u001b[39;49m\u001b[43m,\u001b[49m\u001b[43m \u001b[49m\u001b[43mbatch_size\u001b[49m\u001b[38;5;241;43m=\u001b[39;49m\u001b[38;5;241;43m32\u001b[39;49m\u001b[43m,\u001b[49m\u001b[43m \u001b[49m\u001b[43mnum_durations\u001b[49m\u001b[38;5;241;43m=\u001b[39;49m\u001b[38;5;241;43m10\u001b[39;49m\u001b[43m,\u001b[49m\u001b[43m \u001b[49m\u001b[43mepochs\u001b[49m\u001b[38;5;241;43m=\u001b[39;49m\u001b[38;5;241;43m50\u001b[39;49m\u001b[43m,\u001b[49m\u001b[43m \u001b[49m\u001b[43mdropout\u001b[49m\u001b[38;5;241;43m=\u001b[39;49m\u001b[38;5;241;43m0.2\u001b[39;49m\u001b[43m,\u001b[49m\n\u001b[1;32m      2\u001b[0m \u001b[43m           \u001b[49m\u001b[43mlearning_rate\u001b[49m\u001b[38;5;241;43m=\u001b[39;49m\u001b[38;5;241;43m0.005\u001b[39;49m\u001b[43m,\u001b[49m\u001b[43m \u001b[49m\u001b[43mlayer_sizes\u001b[49m\u001b[38;5;241;43m=\u001b[39;49m\u001b[43m[\u001b[49m\u001b[38;5;241;43m9\u001b[39;49m\u001b[43m]\u001b[49m\u001b[43m,\u001b[49m\u001b[43m)\u001b[49m\n",
      "Cell \u001b[0;32mIn[24], line 2\u001b[0m, in \u001b[0;36mtest_model\u001b[0;34m(model_constructor, **model_params)\u001b[0m\n\u001b[1;32m      1\u001b[0m \u001b[38;5;28;01mdef\u001b[39;00m \u001b[38;5;21mtest_model\u001b[39m(model_constructor, \u001b[38;5;241m*\u001b[39m\u001b[38;5;241m*\u001b[39mmodel_params):\n\u001b[0;32m----> 2\u001b[0m     m \u001b[38;5;241m=\u001b[39m \u001b[43mmodel_constructor\u001b[49m\u001b[43m(\u001b[49m\u001b[38;5;241;43m*\u001b[39;49m\u001b[38;5;241;43m*\u001b[39;49m\u001b[43mmodel_params\u001b[49m\u001b[43m)\u001b[49m\n\u001b[1;32m      3\u001b[0m     m\u001b[38;5;241m.\u001b[39mfit(X_train, y_train)\n\u001b[1;32m      4\u001b[0m     o \u001b[38;5;241m=\u001b[39m m\u001b[38;5;241m.\u001b[39mscore(X_train, y_train)\n",
      "\u001b[0;31mTypeError\u001b[0m: DeepHitSingle.__init__() got an unexpected keyword argument 'dropout'"
     ]
    }
   ],
   "source": [
    "test_model(survwrap.DeepHitSingle, rng_seed=2309, batch_size=32, num_durations=10, epochs=50, dropout=0.2,\n",
    "           learning_rate=0.005, layer_sizes=[9],)"
   ]
  },
  {
   "cell_type": "code",
   "execution_count": 58,
   "id": "f5e6ce2e-0a8a-4805-b9fd-9a7f0ea43f91",
   "metadata": {},
   "outputs": [
    {
     "data": {
      "text/plain": [
       "{'num_durations': [10],\n",
       " 'layer_sizes': [[3],\n",
       "  [4],\n",
       "  [5],\n",
       "  [6],\n",
       "  [7],\n",
       "  [8],\n",
       "  [9],\n",
       "  [[3, 3]],\n",
       "  [[4, 4]],\n",
       "  [[5, 5]],\n",
       "  [[6, 6]],\n",
       "  [[7, 7]],\n",
       "  [[8, 8]],\n",
       "  [[9, 9]],\n",
       "  [[3, 3, 3]],\n",
       "  [[4, 4, 4]],\n",
       "  [[5, 5, 5]],\n",
       "  [[6, 6, 6]],\n",
       "  [[7, 7, 7]],\n",
       "  [[8, 8, 8]],\n",
       "  [[9, 9, 9]]],\n",
       " 'epochs': [50],\n",
       " 'batch_size': [32],\n",
       " 'learning_rate': [0.005],\n",
       " 'rng_seed': [2309]}"
      ]
     },
     "execution_count": 58,
     "metadata": {},
     "output_type": "execute_result"
    }
   ],
   "source": [
    "dhs_grid['num_durations'] =[10]\n",
    "#some_primes = [5,7,11,13,17,19,23,29,31,37,41, 43, 47, 53, 59, 61, 67, 71, 73, 79, 83] \n",
    "some_primes = list(range(3,10))\n",
    "dhs_grid['layer_sizes']=[ [_] for _ in some_primes\n",
    "                            + [ [_]*2 for _ in some_primes]\n",
    "                         + [ [_]*3 for _ in some_primes]\n",
    "                        ]\n",
    "#dhs_grid['layer_sizes'] =[[23], [19]*2, [10]*3, [7]*4, [5]*5]\n",
    "dhs_grid['epochs']=[50]\n",
    "dhs_grid['learning_rate']=[0.005]\n",
    "dhs_grid['rng_seed']=[2309]\n",
    "dhs_grid['batch_size']=[32]\n",
    "dhs_grid"
   ]
  },
  {
   "cell_type": "code",
   "execution_count": 59,
   "id": "5ab02155-32b6-479f-bcef-646f593475de",
   "metadata": {},
   "outputs": [
    {
     "data": {
      "text/plain": [
       "(0.6449147560258671,\n",
       " {'batch_size': 32,\n",
       "  'epochs': 50,\n",
       "  'layer_sizes': [6],\n",
       "  'learning_rate': 0.005,\n",
       "  'num_durations': 10,\n",
       "  'rng_seed': 2309})"
      ]
     },
     "execution_count": 59,
     "metadata": {},
     "output_type": "execute_result"
    }
   ],
   "source": [
    "opt_dhs, opt_dhs_params, opt_dhs_search = optimize(dhs,  X_train, y_train, \n",
    "                                                   user_grid=dhs_grid,cv=RepeatedStratifiedKFold(n_splits=5, n_repeats=2, random_state=2308).split(X_train,survwrap.get_indicator(y_train)))\n",
    "opt_dhs.score(X_test, y_test), opt_dhs_params"
   ]
  },
  {
   "cell_type": "code",
   "execution_count": 60,
   "id": "125929f8-227a-42b2-af58-f3f7b6ac8f94",
   "metadata": {},
   "outputs": [
    {
     "data": {
      "text/plain": [
       "[(1,\n",
       "  0.6293940402665956,\n",
       "  0.018538404184646546,\n",
       "  0.610855636081949,\n",
       "  {'batch_size': 32,\n",
       "   'epochs': 50,\n",
       "   'layer_sizes': [6],\n",
       "   'learning_rate': 0.005,\n",
       "   'num_durations': 10,\n",
       "   'rng_seed': 2309}),\n",
       " (2,\n",
       "  0.6156312638650023,\n",
       "  0.016495291948131128,\n",
       "  0.5991359719168712,\n",
       "  {'batch_size': 32,\n",
       "   'epochs': 50,\n",
       "   'layer_sizes': [[5, 5]],\n",
       "   'learning_rate': 0.005,\n",
       "   'num_durations': 10,\n",
       "   'rng_seed': 2309}),\n",
       " (3,\n",
       "  0.6150932417045929,\n",
       "  0.019157584473229298,\n",
       "  0.5959356572313635,\n",
       "  {'batch_size': 32,\n",
       "   'epochs': 50,\n",
       "   'layer_sizes': [[7, 7]],\n",
       "   'learning_rate': 0.005,\n",
       "   'num_durations': 10,\n",
       "   'rng_seed': 2309}),\n",
       " (4,\n",
       "  0.6094377323759372,\n",
       "  0.014625385877486075,\n",
       "  0.5948123464984512,\n",
       "  {'batch_size': 32,\n",
       "   'epochs': 50,\n",
       "   'layer_sizes': [[5, 5, 5]],\n",
       "   'learning_rate': 0.005,\n",
       "   'num_durations': 10,\n",
       "   'rng_seed': 2309}),\n",
       " (5,\n",
       "  0.6092215917974272,\n",
       "  0.022117025091760535,\n",
       "  0.5871045667056667,\n",
       "  {'batch_size': 32,\n",
       "   'epochs': 50,\n",
       "   'layer_sizes': [5],\n",
       "   'learning_rate': 0.005,\n",
       "   'num_durations': 10,\n",
       "   'rng_seed': 2309}),\n",
       " (6,\n",
       "  0.608983296206381,\n",
       "  0.02282965758735939,\n",
       "  0.5861536386190216,\n",
       "  {'batch_size': 32,\n",
       "   'epochs': 50,\n",
       "   'layer_sizes': [3],\n",
       "   'learning_rate': 0.005,\n",
       "   'num_durations': 10,\n",
       "   'rng_seed': 2309}),\n",
       " (7,\n",
       "  0.6074044518116818,\n",
       "  0.020586779209763997,\n",
       "  0.5868176726019178,\n",
       "  {'batch_size': 32,\n",
       "   'epochs': 50,\n",
       "   'layer_sizes': [[6, 6]],\n",
       "   'learning_rate': 0.005,\n",
       "   'num_durations': 10,\n",
       "   'rng_seed': 2309}),\n",
       " (8,\n",
       "  0.6068977861786076,\n",
       "  0.02041239729915842,\n",
       "  0.5864853888794491,\n",
       "  {'batch_size': 32,\n",
       "   'epochs': 50,\n",
       "   'layer_sizes': [[9, 9]],\n",
       "   'learning_rate': 0.005,\n",
       "   'num_durations': 10,\n",
       "   'rng_seed': 2309}),\n",
       " (9,\n",
       "  0.605092540546014,\n",
       "  0.027544180086719872,\n",
       "  0.5775483604592941,\n",
       "  {'batch_size': 32,\n",
       "   'epochs': 50,\n",
       "   'layer_sizes': [9],\n",
       "   'learning_rate': 0.005,\n",
       "   'num_durations': 10,\n",
       "   'rng_seed': 2309}),\n",
       " (10,\n",
       "  0.6036952370593676,\n",
       "  0.02561340590639352,\n",
       "  0.5780818311529741,\n",
       "  {'batch_size': 32,\n",
       "   'epochs': 50,\n",
       "   'layer_sizes': [[7, 7, 7]],\n",
       "   'learning_rate': 0.005,\n",
       "   'num_durations': 10,\n",
       "   'rng_seed': 2309})]"
      ]
     },
     "execution_count": 60,
     "metadata": {},
     "output_type": "execute_result"
    }
   ],
   "source": [
    "dhs_res = opt_dhs_search.cv_results_\n",
    "rez=sorted(zip(dhs_res['rank_test_score'], dhs_res['mean_test_score'] , dhs_res['std_test_score'], \n",
    "               dhs_res['mean_test_score'] - dhs_res['std_test_score'], opt_dhs_search.cv_results_['params']))\n",
    "\n",
    "rez[:10]"
   ]
  },
  {
   "cell_type": "code",
   "execution_count": 61,
   "id": "3e0e1138-132f-4007-9e4d-9add3a6f3cd8",
   "metadata": {
    "scrolled": true
   },
   "outputs": [
    {
     "name": "stdout",
     "output_type": "stream",
     "text": [
      "(1, 0.6293940402665956, 0.018538404184646546, 0.610855636081949)\n",
      "Train:  0.6428 , Test: 0.6449\n",
      "(2, 0.6156312638650023, 0.016495291948131128, 0.5991359719168712)\n",
      "Train:  0.6303 , Test: 0.6288\n",
      "(3, 0.6150932417045929, 0.019157584473229298, 0.5959356572313635)\n",
      "Train:  0.6429 , Test: 0.6599\n",
      "(4, 0.6094377323759372, 0.014625385877486075, 0.5948123464984512)\n",
      "Train:  0.6421 , Test: 0.6447\n",
      "(5, 0.6092215917974272, 0.022117025091760535, 0.5871045667056667)\n",
      "Train:  0.6189 , Test: 0.6326\n",
      "(7, 0.6074044518116818, 0.020586779209763997, 0.5868176726019178)\n",
      "Train:  0.6191 , Test: 0.6339\n",
      "(8, 0.6068977861786076, 0.02041239729915842, 0.5864853888794491)\n",
      "Train:  0.6312 , Test: 0.6204\n",
      "(6, 0.608983296206381, 0.02282965758735939, 0.5861536386190216)\n",
      "Train:  0.6149 , Test: 0.6182\n",
      "(10, 0.6036952370593676, 0.02561340590639352, 0.5780818311529741)\n",
      "Train:  0.6420 , Test: 0.6446\n",
      "(9, 0.605092540546014, 0.027544180086719872, 0.5775483604592941)\n",
      "Train:  0.6292 , Test: 0.6266\n"
     ]
    }
   ],
   "source": [
    "low_bound = sorted(rez[:10], key= lambda k: k[3], reverse=True)\n",
    "for lb in [ _ for _ in low_bound if _[3] > 0.5] :\n",
    "    print(lb[0:4])\n",
    "    test_model(survwrap.DeepHitSingle, **lb[4])"
   ]
  },
  {
   "cell_type": "code",
   "execution_count": 62,
   "id": "f0d67cd4-7d7c-4576-9d6e-7f05a5e54a4c",
   "metadata": {},
   "outputs": [
    {
     "data": {
      "text/plain": [
       "<Axes: >"
      ]
     },
     "execution_count": 62,
     "metadata": {},
     "output_type": "execute_result"
    },
    {
     "data": {
      "image/png": "[encoded data removed]",
      "text/plain": [
       "<Figure size 640x480 with 1 Axes>"
      ]
     },
     "metadata": {},
     "output_type": "display_data"
    }
   ],
   "source": [
    "opt_dhs.training_log_.plot()"
   ]
  },
  {
   "cell_type": "code",
   "execution_count": 64,
   "id": "0fcb85ae-7068-456e-8777-d673e5402399",
   "metadata": {},
   "outputs": [
    {
     "name": "stdout",
     "output_type": "stream",
     "text": [
      "0.6428653090389425 0.6599309542571954\n"
     ]
    },
    {
     "data": {
      "text/plain": [
       "<Axes: >"
      ]
     },
     "execution_count": 64,
     "metadata": {},
     "output_type": "execute_result"
    },
    {
     "data": {
      "image/png": "[encoded data removed]",
      "text/plain": [
       "<Figure size 640x480 with 1 Axes>"
      ]
     },
     "metadata": {},
     "output_type": "display_data"
    }
   ],
   "source": [
    "xplore=survwrap.DeepHitSingle( **rez[2][4])\n",
    "xplore.fit(X_train,y_train)\n",
    "print(xplore.score(X_train,y_train), xplore.score(X_test,y_test))\n",
    "xplore.training_log_.plot()"
   ]
  },
  {
   "cell_type": "markdown",
   "id": "d83c2fbe-b77a-4408-b54f-6a88d06a131d",
   "metadata": {},
   "source": [
    "## Appunti DHS"
   ]
  },
  {
   "cell_type": "markdown",
   "id": "860ebf6b-b847-4802-b246-06692d969bc3",
   "metadata": {},
   "source": [
    "Con DHS sembra migliore di DSM su questo insieme\n",
    "\n",
    "1. Usando la stratificazione ubiquitaria è piuttosto semplice ottenere risultati comparabili a DSM\n",
    "2. Anche in questo caso, uno strato nascosto sembra sufficiente, la stategia delle reti multistrato nascosto non sembra apportare benefici.\n",
    "3. Sembra più veloce (e comunque supporta le GPU).\n",
    "   *NB* muore orrendamente se si usano processi multipli per gridsearchCV. Il modello vuole tutto per sè.\n",
    "\n",
    "### Problema \n",
    "\n",
    "I parametri di epoch e learning_rate influenzano i risultati e andrebbero calibrati.\n",
    "Ma secondo me questo è vero solo perchè il wrapper non implementa *early stopping*, mentre il modello pycox originale lo fa.\n",
    "Una volta implementato quello, l'ottimizzazione paramentri si potrebbe ridurre essenzialmente alla sola ricerca della dimensione del layer migliore"
   ]
  },
  {
   "cell_type": "markdown",
   "id": "c2c50970-473a-4e5d-bc64-bcda4dcb10a5",
   "metadata": {},
   "source": [
    "### Dopo l'introduzione di early stopping\n",
    "\n",
    "Early stopping (che di default usa una *patience* di 10 epochs e un internal validation size del 10%) rende i risultati peggiori e piuttosto randomici, nel senso che è difficile estrarre consistentemente valori che generalizzino meglio di Coxnet solo basandosi sullo score. risultati sensibili a learning_rate e **rng_seed**.\n",
    "L'introduzione di batch normalization non cambia le cose, quella di dropoutal10% rende i grafici di learning ancora più noisy.\n",
    "\n",
    "Parziale mitigazione: usare *avg-std* come score per la selezione e portare cv a 15 punti (cv 5 con tre ripetizioni).\n",
    "\n",
    "una griglia di solo learning rate, fatta con poche reti sembra suggerire limitata dipendenza dalla topologia (per valori di lr=[0.01,0.005, 0.001], ma grosso effetto su best cv_score.\n",
    "\n",
    "Forse l'assenza di early stopping portava a punteggi alti in quanto train e test sono \"simili\" e fare (over)fitting con alta\n",
    "\n",
    "Tutto ciò potrebbe essere insieme dipendente.\n",
    "\n",
    "HP ha senso fare dropout ma NON early stopping? al mio occhio inesperto sembrerebbe di si"
   ]
  }
 ],
 "metadata": {
  "kernelspec": {
   "display_name": "Python 3 (ipykernel)",
   "language": "python",
   "name": "python3"
  },
  "language_info": {
   "codemirror_mode": {
    "name": "ipython",
    "version": 3
   },
   "file_extension": ".py",
   "mimetype": "text/x-python",
   "name": "python",
   "nbconvert_exporter": "python",
   "pygments_lexer": "ipython3",
   "version": "3.10.9"
  }
 },
 "nbformat": 4,
 "nbformat_minor": 5
}
