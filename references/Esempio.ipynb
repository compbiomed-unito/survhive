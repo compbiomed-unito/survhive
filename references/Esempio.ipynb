{
 "cells": [
  {
   "cell_type": "code",
   "execution_count": 1,
   "id": "43de0873",
   "metadata": {},
   "outputs": [],
   "source": [
    "import numpy"
   ]
  },
  {
   "attachments": {},
   "cell_type": "markdown",
   "id": "6210e28b",
   "metadata": {},
   "source": [
    "## Mini example for scikit-survival estimators"
   ]
  },
  {
   "attachments": {},
   "cell_type": "markdown",
   "id": "a5f734c0",
   "metadata": {},
   "source": [
    "Load standard dataset for testing"
   ]
  },
  {
   "cell_type": "code",
   "execution_count": 2,
   "id": "2bd93295",
   "metadata": {},
   "outputs": [],
   "source": [
    "def load_toy_data():\n",
    "    import sksurv.datasets\n",
    "    from sklearn.preprocessing import OneHotEncoder\n",
    "    \n",
    "    X, y = sksurv.datasets.load_breast_cancer()\n",
    "    X = numpy.concatenate([\n",
    "        X.select_dtypes('float'), \n",
    "        OneHotEncoder(sparse=False).fit_transform(X.select_dtypes('category'))\n",
    "        #OneHotEncoder(sparse_output=False).fit_transform(X.select_dtypes('category'))\n",
    "        ], axis=1)\n",
    "    return X, y"
   ]
  },
  {
   "cell_type": "code",
   "execution_count": 3,
   "id": "359b7d27",
   "metadata": {},
   "outputs": [
    {
     "data": {
      "text/plain": [
       "(198, 84)"
      ]
     },
     "execution_count": 3,
     "metadata": {},
     "output_type": "execute_result"
    }
   ],
   "source": [
    "X, y = load_toy_data()\n",
    "X.shape"
   ]
  },
  {
   "attachments": {},
   "cell_type": "markdown",
   "id": "601509e7",
   "metadata": {},
   "source": [
    "Fit penalized Cox model (from scikit-survival)"
   ]
  },
  {
   "cell_type": "code",
   "execution_count": 4,
   "id": "27f0f135",
   "metadata": {},
   "outputs": [],
   "source": [
    "from sksurv.linear_model import CoxnetSurvivalAnalysis\n",
    "from sksurv.metrics import concordance_index_censored"
   ]
  },
  {
   "cell_type": "code",
   "execution_count": 5,
   "id": "179fc520",
   "metadata": {},
   "outputs": [],
   "source": [
    "model = CoxnetSurvivalAnalysis()\n",
    "model.fit(X, y)\n",
    "pred = model.predict(X)"
   ]
  },
  {
   "attachments": {},
   "cell_type": "markdown",
   "id": "44d25f3e",
   "metadata": {},
   "source": [
    "Standard functions from scikit-learn can be used with scikit-survival models"
   ]
  },
  {
   "cell_type": "code",
   "execution_count": 6,
   "id": "eb18cdb5",
   "metadata": {},
   "outputs": [],
   "source": [
    "from sklearn.model_selection import cross_val_score"
   ]
  },
  {
   "cell_type": "code",
   "execution_count": 7,
   "id": "d25715c4",
   "metadata": {},
   "outputs": [
    {
     "data": {
      "text/plain": [
       "0.6191250002013456"
      ]
     },
     "execution_count": 7,
     "metadata": {},
     "output_type": "execute_result"
    }
   ],
   "source": [
    "numpy.mean(cross_val_score(CoxnetSurvivalAnalysis(), X, y))"
   ]
  },
  {
   "attachments": {},
   "cell_type": "markdown",
   "id": "0f809f42",
   "metadata": {},
   "source": [
    "## Scikit-learn compatibility\n",
    "Scikit-learn has a checker for estimators to see if they conform to their specification. "
   ]
  },
  {
   "cell_type": "code",
   "execution_count": 8,
   "id": "5d646652",
   "metadata": {},
   "outputs": [],
   "source": [
    "from sklearn.utils.estimator_checks import check_estimator"
   ]
  },
  {
   "attachments": {},
   "cell_type": "markdown",
   "id": "4dc0b880",
   "metadata": {},
   "source": [
    "Scikit-survival models do not necessarily pass ;-)"
   ]
  },
  {
   "cell_type": "code",
   "execution_count": 9,
   "id": "01ed6c29",
   "metadata": {},
   "outputs": [
    {
     "name": "stdout",
     "output_type": "stream",
     "text": [
      "AssertionError\n",
      "Estimator CoxnetSurvivalAnalysis should not set any attribute apart from parameters during init. Found attributes ['_baseline_models'].\n"
     ]
    }
   ],
   "source": [
    "try:\n",
    "    check_estimator(CoxnetSurvivalAnalysis())\n",
    "except Exception as e:\n",
    "    print(e.__class__.__name__)\n",
    "    print(e)"
   ]
  },
  {
   "attachments": {},
   "cell_type": "markdown",
   "id": "f6da257b",
   "metadata": {},
   "source": [
    "This is an example of a minimal (empty) estimator that passes the tests. Dataclasses can be useful to avoid long __init__ functions and it appears to work. BaseEstimator include the get/set_params methods that are required. check_X_y and check_array implement checks (required by the check_estimator function) on the input data."
   ]
  },
  {
   "cell_type": "code",
   "execution_count": 10,
   "id": "53220b5f",
   "metadata": {},
   "outputs": [],
   "source": [
    "from dataclasses import dataclass\n",
    "from sklearn.base import BaseEstimator\n",
    "from sklearn.utils import check_X_y, check_array\n",
    "\n",
    "@dataclass\n",
    "class TestEstimator(BaseEstimator):\n",
    "    param1: int = 1,\n",
    "\n",
    "    def fit(self, X, y):\n",
    "        X, y = check_X_y(X, y)\n",
    "        self._validate_data(X, y)\n",
    "        return self\n",
    "\n",
    "    def predict(self, X):\n",
    "        X = check_array(X)\n",
    "        return numpy.full(shape=X.shape[0], fill_value=self.param1)\n",
    "\n",
    "check_estimator(TestEstimator(param1=33))"
   ]
  },
  {
   "attachments": {},
   "cell_type": "markdown",
   "id": "99137670",
   "metadata": {},
   "source": [
    "## Outcome format"
   ]
  },
  {
   "attachments": {},
   "cell_type": "markdown",
   "id": "efcea259",
   "metadata": {},
   "source": [
    "Esempio formato scikit-survival"
   ]
  },
  {
   "cell_type": "code",
   "execution_count": 11,
   "id": "1a6617ec",
   "metadata": {},
   "outputs": [
    {
     "data": {
      "text/plain": [
       "array([( True,  723.), (False, 6591.), ( True,  524.), (False, 6255.),\n",
       "       ( True, 3822.), (False, 6507.), (False, 5947.), (False, 5816.),\n",
       "       (False, 6007.), ( True, 1233.)],\n",
       "      dtype=[('e.tdm', '?'), ('t.tdm', '<f8')])"
      ]
     },
     "execution_count": 11,
     "metadata": {},
     "output_type": "execute_result"
    }
   ],
   "source": [
    "y[:10]"
   ]
  },
  {
   "cell_type": "code",
   "execution_count": 12,
   "id": "c8c9d5b6",
   "metadata": {},
   "outputs": [],
   "source": [
    "def get_indicator(y):\n",
    "    return y[y.dtype.names[0]]\n",
    "def get_time(y):\n",
    "    return y[y.dtype.names[1]]"
   ]
  },
  {
   "cell_type": "code",
   "execution_count": 13,
   "id": "3ee43a7e",
   "metadata": {},
   "outputs": [
    {
     "data": {
      "text/plain": [
       "array([ True, False,  True, False,  True, False, False, False, False,\n",
       "        True])"
      ]
     },
     "execution_count": 13,
     "metadata": {},
     "output_type": "execute_result"
    }
   ],
   "source": [
    "get_indicator(y[:10])"
   ]
  },
  {
   "cell_type": "code",
   "execution_count": null,
   "id": "a8b0da03",
   "metadata": {},
   "outputs": [],
   "source": []
  },
  {
   "cell_type": "code",
   "execution_count": 14,
   "id": "2b50cce1",
   "metadata": {},
   "outputs": [],
   "source": [
    "def check_surv_y(y):\n",
    "    assert y.dtype[1] == float\n",
    "    if y.dtype[0] == bool: # single event\n",
    "        assert any(get_indicator(y))\n",
    "    elif y.dtype[0] == int: # competing events\n",
    "        e = get_indicator(y)\n",
    "        assert any(e == 1)\n",
    "    #return y\n",
    "check_surv_y(y)"
   ]
  },
  {
   "attachments": {},
   "cell_type": "markdown",
   "id": "78198e7f",
   "metadata": {},
   "source": [
    "## Wrapper for the DeepHit method from the pycox module"
   ]
  },
  {
   "attachments": {},
   "cell_type": "markdown",
   "id": "c315930b",
   "metadata": {},
   "source": [
    "Molto preliminare, sto recuperando e adattando il codice dal notebook ALS"
   ]
  },
  {
   "cell_type": "code",
   "execution_count": 15,
   "id": "9f31f9bd",
   "metadata": {},
   "outputs": [],
   "source": [
    "import pycox"
   ]
  },
  {
   "attachments": {},
   "cell_type": "markdown",
   "id": "4bf5024b",
   "metadata": {},
   "source": [
    "Ho fatto questa classe perche' la maggior parte dei modelli deep learning ha questi parametri..."
   ]
  },
  {
   "cell_type": "code",
   "execution_count": 27,
   "id": "86106bd2",
   "metadata": {},
   "outputs": [],
   "source": [
    "from dataclasses import dataclass, field\n",
    "from sklearn.base import BaseEstimator\n",
    "from collections.abc import Sequence\n",
    "\n",
    "@dataclass\n",
    "class BaseSurvival(BaseEstimator):\n",
    "    layer_sizes: Sequence[int] = field(default_factory=lambda: [10, 10])\n",
    "    epochs: int = 10 # maybe implement also early stopping\n",
    "    batch_size: int = 16\n",
    "    learning_rate: float = 0.001\n",
    "    device: str = 'cpu'\n",
    "\n",
    "    def fit(self, X, y):\n",
    "        self.median_time_ = numpy.median(get_time(y))\n",
    "        self._fit(check_array(X), y)\n",
    "        return self\n",
    "\n",
    "    def predict(self, X, times=None):\n",
    "        r = self._predict(check_array(X), [self.median_time_] if times is None else times)\n",
    "        if times is None:\n",
    "            r = r[:, 0]\n",
    "        return r\n"
   ]
  },
  {
   "cell_type": "code",
   "execution_count": 28,
   "id": "daa596f2",
   "metadata": {},
   "outputs": [
    {
     "data": {
      "text/plain": [
       "array([0.43400747, 0.43261647, 0.40482927, 0.51853378, 0.48376092,\n",
       "       0.52510303, 0.48095094, 0.41796547, 0.4811762 , 0.49664181,\n",
       "       0.51762345, 0.51315589, 0.43757693, 0.46304867, 0.47778717,\n",
       "       0.46782003, 0.48432079, 0.51733526, 0.45714169, 0.53752853,\n",
       "       0.53918343, 0.45799163, 0.45954248, 0.5149161 , 0.55116003,\n",
       "       0.4868627 , 0.61068153, 0.50941051, 0.47016023, 0.48105872,\n",
       "       0.46622029, 0.49530748, 0.436892  , 0.47476353, 0.53043029,\n",
       "       0.49867153, 0.45486153, 0.51499362, 0.52545263, 0.47394102,\n",
       "       0.4404548 , 0.56097785, 0.53205022, 0.60503965, 0.46855244,\n",
       "       0.42425613, 0.7992805 , 0.70881606, 0.47032489, 0.44825696,\n",
       "       0.47254311, 0.47980306, 0.51670312, 0.50449704, 0.46059427,\n",
       "       0.47339197, 0.43157607, 0.54600291, 0.4768812 , 0.42066925,\n",
       "       0.49484315, 0.51078752, 0.4886064 , 0.44483711, 0.48468494,\n",
       "       0.45136087, 0.48303066, 0.4528864 , 0.4324962 , 0.53132864,\n",
       "       0.50725421, 0.4974609 , 0.48598324, 0.42342955, 0.46994595,\n",
       "       0.49267627, 0.49985797, 0.50767386, 0.51839557, 0.55079668,\n",
       "       0.43994916, 0.41461512, 0.49090748, 0.41122889, 0.45721972,\n",
       "       0.41743664, 0.50980813, 0.44213901, 0.47924479, 0.56623646,\n",
       "       0.47329647, 0.42995414, 0.53226105, 0.48894723, 0.47951797,\n",
       "       0.48629508, 0.48852911, 0.51287647, 0.46465063, 0.53847673,\n",
       "       0.47477805, 0.50191964, 0.41512094, 0.52693799, 0.41956422,\n",
       "       0.55316641, 0.41869384, 0.51782133, 0.48835217, 0.42754787,\n",
       "       0.42044138, 0.44468716, 0.48886559, 0.4393706 , 0.49369863,\n",
       "       0.57895304, 0.61858317, 0.51982477, 0.53161593, 0.48728555,\n",
       "       0.53557866, 0.51103165, 0.5274905 , 0.50116403, 0.48895492,\n",
       "       0.47344738, 0.57268067, 0.51015625, 0.5476203 , 0.50255151,\n",
       "       0.50319957, 0.4714541 , 0.44486456, 0.48923406, 0.53093684,\n",
       "       0.50834934, 0.49477356, 0.41316691, 0.51653623, 0.54809069,\n",
       "       0.63841345, 0.46628878, 0.41917212, 0.51001862, 0.452105  ,\n",
       "       0.52001242, 0.5432022 , 0.76159129, 0.43938585, 0.56471453,\n",
       "       0.51951614, 0.50298837, 0.50074218, 0.4494883 , 0.51012974,\n",
       "       0.50143602, 0.5580665 , 0.53149837, 0.52183466, 0.51118953,\n",
       "       0.48397152, 0.45136991, 0.45088854, 0.5149623 , 0.53511451,\n",
       "       0.52447776, 0.63142491, 0.45613696, 0.5550143 , 0.47146883,\n",
       "       0.45047378, 0.50139255, 0.53521317, 0.52177348, 0.50584841,\n",
       "       0.46214231, 0.47047017, 0.51547357, 0.49586577, 0.48427121,\n",
       "       0.48255975, 0.46245541, 0.49721019, 0.43475871, 0.48513775,\n",
       "       0.50357949, 0.48860801, 0.49179705, 0.52668397, 0.45744175,\n",
       "       0.51820323, 0.52826947, 0.4826797 , 0.73617126, 0.57735909,\n",
       "       0.49847439, 0.53460141, 0.5062417 ])"
      ]
     },
     "execution_count": 28,
     "metadata": {},
     "output_type": "execute_result"
    }
   ],
   "source": [
    "@dataclass\n",
    "class DeepHitPycox(BaseSurvival):\n",
    "    num_durations: int = 10\n",
    "    # qui mettiamo i parametri per la forma della rete, cercherei di fare qualcosa che rispetti il paper originale\n",
    "    layer_sizes: Sequence[int] = field(default_factory=lambda: [10, 10])\n",
    "    epochs: int = 10 # maybe implement also early stopping\n",
    "    batch_size: int = 16\n",
    "    learning_rate: float = 0.001\n",
    "    device: str = 'cpu'\n",
    "\n",
    "    def _fit(self, X, y):\n",
    "        from pycox.models import DeepHitSingle\n",
    "        import torchtuples as tt\n",
    "        \n",
    "        optimizer = tt.optim.AdamWR(\n",
    "            lr=self.learning_rate,\n",
    "            #decoupled_weight_decay=,\n",
    "            #cycle_eta_multiplier=,\n",
    "        )\n",
    "        self.labtrans_ = DeepHitSingle.label_transform(self.num_durations)\n",
    "        y_discrete = self.labtrans_.fit_transform(get_time(y), get_indicator(y))\n",
    "        net = tt.practical.MLPVanilla(\n",
    "            in_features=X.shape[1], \n",
    "            out_features=self.labtrans_.out_features, \n",
    "            num_nodes=self.layer_sizes,\n",
    "            #batch_norm, dropout,\n",
    "            #**self.model_params['indepnet'], **self.model_params['net']\n",
    "        )\n",
    "        self.model_ = DeepHitSingle(\n",
    "            net, optimizer, \n",
    "            device=self.device,\n",
    "        )\n",
    "\n",
    "        self.model_.fit(\n",
    "            X.astype('float32'), y_discrete, \n",
    "            num_workers=0 if True else n_jobs, \n",
    "            verbose=False, \n",
    "            epochs=self.epochs,\n",
    "            batch_size=self.batch_size,\n",
    "        )\n",
    "\n",
    "    def predict(self, X, eval_times=None):\n",
    "        preds = 1 - self.model_.predict_surv(X.astype('float32'))\n",
    "        \n",
    "        r = numpy.array([numpy.interp(\n",
    "            [self.median_time_] if eval_times is None else eval_times, \n",
    "            self.labtrans_.cuts, p, left=0, right=1\n",
    "        ) for p in preds])\n",
    "        if eval_times is None:\n",
    "            r = r[:, 0]\n",
    "        return r\n",
    "\n",
    "DeepHitPycox(epochs=3).fit(X, y).predict(X)"
   ]
  },
  {
   "attachments": {},
   "cell_type": "markdown",
   "id": "1f8bfe07",
   "metadata": {},
   "source": [
    "Qui ho wrappato il c-index di scikit-survival nella forma delle metriche di scikit-learn (perche' non e' proprio compatibile)"
   ]
  },
  {
   "cell_type": "code",
   "execution_count": 18,
   "id": "cfbe340a",
   "metadata": {},
   "outputs": [],
   "source": [
    "def concordance_index_score(y_true, y_pred, *args, **kwargs):\n",
    "    from sksurv.metrics import concordance_index_censored\n",
    "    return concordance_index_censored(\n",
    "        event_indicator=get_indicator(y_true),\n",
    "        event_time=get_time(y_true),\n",
    "        estimate=y_pred,\n",
    "        *args, **kwargs,\n",
    "    )[0]"
   ]
  },
  {
   "cell_type": "code",
   "execution_count": 19,
   "id": "1ccbb2b5",
   "metadata": {},
   "outputs": [
    {
     "data": {
      "text/plain": [
       "0.4922461474526555"
      ]
     },
     "execution_count": 19,
     "metadata": {},
     "output_type": "execute_result"
    }
   ],
   "source": [
    "from sklearn.metrics import make_scorer\n",
    "numpy.mean(cross_val_score(DeepHitPycox(), X, y, scoring=make_scorer(concordance_index_score)))"
   ]
  },
  {
   "attachments": {},
   "cell_type": "markdown",
   "id": "200a3e27",
   "metadata": {},
   "source": [
    "### Wrapper per DeepSurvivalMachines"
   ]
  },
  {
   "cell_type": "code",
   "execution_count": 30,
   "id": "d7ae8a17",
   "metadata": {},
   "outputs": [
    {
     "name": "stderr",
     "output_type": "stream",
     "text": [
      " 41%|████      | 4098/10000 [00:07<00:10, 565.83it/s]\n",
      "100%|██████████| 10/10 [00:00<00:00, 23.90it/s]\n"
     ]
    },
    {
     "data": {
      "text/plain": [
       "array([0.22734015, 0.22734015, 0.22734015, 0.22734015, 0.22734015,\n",
       "       0.22734015, 0.22734015, 0.22734015, 0.22734015, 0.22734015,\n",
       "       0.22734015, 0.22734015, 0.22734015, 0.22734015, 0.22931426,\n",
       "       0.22734015, 0.22734015, 0.22734015, 0.22734015, 0.22734015,\n",
       "       0.22734015, 0.22734015, 0.22734015, 0.22734015, 0.22734015,\n",
       "       0.22734015, 0.22734015, 0.22734015, 0.22734015, 0.22734015,\n",
       "       0.22734015, 0.22734015, 0.22734015, 0.22734015, 0.22734015,\n",
       "       0.22734015, 0.23071089, 0.22734015, 0.22734015, 0.2273842 ,\n",
       "       0.22734015, 0.22734015, 0.22734015, 0.22734015, 0.22734015,\n",
       "       0.22734015, 0.22734015, 0.22734015, 0.22734015, 0.22734015,\n",
       "       0.22734015, 0.22734015, 0.22734015, 0.22734015, 0.22734015,\n",
       "       0.22734015, 0.22734015, 0.22734015, 0.22734015, 0.22734015,\n",
       "       0.22734015, 0.22796632, 0.22734015, 0.22734015, 0.22734015,\n",
       "       0.22734015, 0.22734015, 0.22734015, 0.22734015, 0.22734015,\n",
       "       0.22734015, 0.22734015, 0.22734015, 0.22734015, 0.22734015,\n",
       "       0.22734015, 0.22734015, 0.22734015, 0.22734015, 0.22734015,\n",
       "       0.23166085, 0.22734015, 0.22734015, 0.22734015, 0.22734015,\n",
       "       0.22734015, 0.22734015, 0.22734015, 0.22734015, 0.22734015,\n",
       "       0.22734015, 0.22734015, 0.22734015, 0.22734015, 0.22734015,\n",
       "       0.22734015, 0.22734015, 0.22734015, 0.22734015, 0.22734015,\n",
       "       0.22734015, 0.22734015, 0.22734015, 0.22734015, 0.22734015,\n",
       "       0.22734015, 0.22734015, 0.22734015, 0.22734015, 0.22734015,\n",
       "       0.22734015, 0.22734015, 0.22734015, 0.22734015, 0.22734015,\n",
       "       0.23544719, 0.22734015, 0.22734015, 0.22734015, 0.22734015,\n",
       "       0.22734015, 0.22734015, 0.22734015, 0.22734015, 0.22734015,\n",
       "       0.22776189, 0.22734015, 0.22734015, 0.22734015, 0.22734015,\n",
       "       0.22734015, 0.22734015, 0.22734015, 0.22734015, 0.22734015,\n",
       "       0.22734015, 0.22734015, 0.22734015, 0.22734015, 0.22734015,\n",
       "       0.22734015, 0.22734015, 0.22734015, 0.22734015, 0.22734015,\n",
       "       0.22734015, 0.22734015, 0.22734015, 0.22734015, 0.22734015,\n",
       "       0.22734015, 0.22734015, 0.22734015, 0.22734015, 0.22734015,\n",
       "       0.22734015, 0.22734015, 0.22734015, 0.22734015, 0.22734015,\n",
       "       0.22734015, 0.22734015, 0.22734015, 0.22734015, 0.22734015,\n",
       "       0.22734015, 0.22734015, 0.22734015, 0.22734015, 0.22734015,\n",
       "       0.22734015, 0.2358426 , 0.22734015, 0.22734015, 0.22734015,\n",
       "       0.24319013, 0.22734015, 0.22734015, 0.22734015, 0.22734015,\n",
       "       0.22734015, 0.22734015, 0.22734015, 0.22734015, 0.22734015,\n",
       "       0.22734015, 0.22734015, 0.22734015, 0.22734015, 0.23194059,\n",
       "       0.22734015, 0.22734015, 0.22734015, 0.22734015, 0.22734015,\n",
       "       0.22734015, 0.22734015, 0.22734015])"
      ]
     },
     "execution_count": 30,
     "metadata": {},
     "output_type": "execute_result"
    }
   ],
   "source": [
    "@dataclass\n",
    "class DeepSurvivalMachines(BaseSurvival):\n",
    "    n_distr: int = 2\n",
    "    distr_kind: str = 'Weibull'\n",
    "    validation_size: float = 0.1\n",
    "    elbo: bool = False # what is this?\n",
    "    \n",
    "    def _fit(self, X, y):\n",
    "        import sys\n",
    "        sys.path.append('./auton-survival-master')\n",
    "        from auton_survival.models.dsm import DeepSurvivalMachines\n",
    "\n",
    "        self.model_ = DeepSurvivalMachines(\n",
    "            k=self.n_distr,\n",
    "            distribution=self.distr_kind,\n",
    "            layers=self.layer_sizes,\n",
    "        ).fit(\n",
    "            X, get_time(y), get_indicator(y),\n",
    "            learning_rate=self.learning_rate,\n",
    "            vsize = self.validation_size,\n",
    "            batch_size = self.batch_size,\n",
    "            iters = self.epochs, # this should be the maximum number of epochs\n",
    "            elbo = self.elbo,\n",
    "        )\n",
    "        \n",
    "\n",
    "    def _predict(self, X, eval_times):\n",
    "        \"\"\"predict probabilites of event up to given times for each event\"\"\"\n",
    "        #global dbg\n",
    "        #dbg = self.model_, X, eval_times, numpy.swapaxes([self.model_.predict_risk(X, t)[:, 0] for t in eval_times], 0, 1)\n",
    "        return numpy.swapaxes([self.model_.predict_risk(X, t)[:, 0] for t in eval_times], 0, 1)\n",
    "        #return numpy.nan_to_num(numpy.swapaxes([self.model_.predict_risk(X, t)[:, 0] for t in eval_times], 0, 1), nan=0.5, posinf=1, neginf=0)\n",
    "\n",
    "DeepSurvivalMachines().fit(X, y).predict(X)"
   ]
  },
  {
   "cell_type": "code",
   "execution_count": 32,
   "id": "3a367988",
   "metadata": {},
   "outputs": [
    {
     "name": "stderr",
     "output_type": "stream",
     "text": [
      " 48%|████▊     | 4830/10000 [00:08<00:08, 602.43it/s]\n",
      "100%|██████████| 10/10 [00:00<00:00, 21.46it/s]\n",
      " 45%|████▌     | 4517/10000 [00:07<00:08, 612.28it/s]\n",
      " 90%|█████████ | 9/10 [00:00<00:00, 15.84it/s]\n",
      " 35%|███▌      | 3518/10000 [00:05<00:10, 603.20it/s]\n",
      " 50%|█████     | 5/10 [00:00<00:00,  8.89it/s]\n",
      " 38%|███▊      | 3845/10000 [00:06<00:10, 609.31it/s]\n",
      "100%|██████████| 10/10 [00:00<00:00, 30.42it/s]\n",
      " 33%|███▎      | 3293/10000 [00:05<00:11, 598.87it/s]\n",
      "100%|██████████| 10/10 [00:00<00:00, 19.71it/s]\n"
     ]
    },
    {
     "data": {
      "text/plain": [
       "0.5631863832364458"
      ]
     },
     "execution_count": 32,
     "metadata": {},
     "output_type": "execute_result"
    }
   ],
   "source": [
    "numpy.mean(cross_val_score(DeepSurvivalMachines(), X, y, scoring=make_scorer(concordance_index_score)))"
   ]
  },
  {
   "attachments": {},
   "cell_type": "markdown",
   "id": "85a31852",
   "metadata": {},
   "source": [
    "# Pasticci"
   ]
  },
  {
   "cell_type": "code",
   "execution_count": null,
   "id": "53fe51e8",
   "metadata": {},
   "outputs": [],
   "source": [
    "from sklearn.tree import DecisionTreeClassifier"
   ]
  },
  {
   "cell_type": "code",
   "execution_count": null,
   "id": "7cb39d9d",
   "metadata": {},
   "outputs": [],
   "source": [
    "cross_val_score(DecisionTreeClassifier(), X, get_indicator(y))"
   ]
  },
  {
   "cell_type": "code",
   "execution_count": null,
   "id": "0ef62e44",
   "metadata": {},
   "outputs": [],
   "source": [
    "cross_val_score(CoxnetSurvivalAnalysis(), X, y, scoring=concordance_index_score)"
   ]
  },
  {
   "cell_type": "code",
   "execution_count": null,
   "id": "012ef866",
   "metadata": {},
   "outputs": [],
   "source": [
    "import survwrap"
   ]
  },
  {
   "cell_type": "code",
   "execution_count": null,
   "id": "319d64ed",
   "metadata": {},
   "outputs": [],
   "source": []
  }
 ],
 "metadata": {
  "kernelspec": {
   "display_name": "Python 3 (ipykernel)",
   "language": "python",
   "name": "python3"
  },
  "language_info": {
   "codemirror_mode": {
    "name": "ipython",
    "version": 3
   },
   "file_extension": ".py",
   "mimetype": "text/x-python",
   "name": "python",
   "nbconvert_exporter": "python",
   "pygments_lexer": "ipython3",
   "version": "3.10.9"
  },
  "vscode": {
   "interpreter": {
    "hash": "e7370f93d1d0cde622a1f8e1c04877d8463912d04d973331ad4851f04de6915a"
   }
  }
 },
 "nbformat": 4,
 "nbformat_minor": 5
}
