{
 "cells": [
  {
   "cell_type": "code",
   "execution_count": 1,
   "id": "43de0873",
   "metadata": {},
   "outputs": [],
   "source": [
    "import numpy"
   ]
  },
  {
   "attachments": {},
   "cell_type": "markdown",
   "id": "6210e28b",
   "metadata": {},
   "source": [
    "## Mini example for scikit-survival estimators"
   ]
  },
  {
   "attachments": {},
   "cell_type": "markdown",
   "id": "a5f734c0",
   "metadata": {},
   "source": [
    "Load standard dataset for testing"
   ]
  },
  {
   "cell_type": "code",
   "execution_count": 2,
   "id": "2bd93295",
   "metadata": {},
   "outputs": [],
   "source": [
    "def load_toy_data():\n",
    "    import sksurv.datasets\n",
    "    from sklearn.preprocessing import OneHotEncoder\n",
    "    \n",
    "    X, y = sksurv.datasets.load_breast_cancer()\n",
    "    X = numpy.concatenate([\n",
    "        X.select_dtypes('float'), \n",
    "        OneHotEncoder(sparse=False).fit_transform(X.select_dtypes('category'))\n",
    "        #OneHotEncoder(sparse_output=False).fit_transform(X.select_dtypes('category'))\n",
    "        ], axis=1)\n",
    "    return X, y"
   ]
  },
  {
   "cell_type": "code",
   "execution_count": 3,
   "id": "359b7d27",
   "metadata": {},
   "outputs": [
    {
     "data": {
      "text/plain": [
       "(198, 84)"
      ]
     },
     "execution_count": 3,
     "metadata": {},
     "output_type": "execute_result"
    }
   ],
   "source": [
    "X, y = load_toy_data()\n",
    "X.shape"
   ]
  },
  {
   "attachments": {},
   "cell_type": "markdown",
   "id": "601509e7",
   "metadata": {},
   "source": [
    "Fit penalized Cox model (from scikit-survival)"
   ]
  },
  {
   "cell_type": "code",
   "execution_count": 4,
   "id": "27f0f135",
   "metadata": {},
   "outputs": [],
   "source": [
    "from sksurv.linear_model import CoxnetSurvivalAnalysis\n",
    "from sksurv.metrics import concordance_index_censored"
   ]
  },
  {
   "cell_type": "code",
   "execution_count": 5,
   "id": "179fc520",
   "metadata": {},
   "outputs": [],
   "source": [
    "model = CoxnetSurvivalAnalysis()\n",
    "model.fit(X, y)\n",
    "pred = model.predict(X)"
   ]
  },
  {
   "attachments": {},
   "cell_type": "markdown",
   "id": "44d25f3e",
   "metadata": {},
   "source": [
    "Standard functions from scikit-learn can be used with scikit-survival models"
   ]
  },
  {
   "cell_type": "code",
   "execution_count": 6,
   "id": "eb18cdb5",
   "metadata": {},
   "outputs": [],
   "source": [
    "from sklearn.model_selection import cross_val_score"
   ]
  },
  {
   "cell_type": "code",
   "execution_count": 7,
   "id": "d25715c4",
   "metadata": {},
   "outputs": [
    {
     "data": {
      "text/plain": [
       "array([0.61711712, 0.53243243, 0.58865248, 0.60504202, 0.75238095])"
      ]
     },
     "execution_count": 7,
     "metadata": {},
     "output_type": "execute_result"
    }
   ],
   "source": [
    "cross_val_score(CoxnetSurvivalAnalysis(), X, y)"
   ]
  },
  {
   "attachments": {},
   "cell_type": "markdown",
   "id": "0f809f42",
   "metadata": {},
   "source": [
    "## Scikit-learn compatibility\n",
    "Scikit-learn has a checker for estimators to see if they conform to their specification. "
   ]
  },
  {
   "cell_type": "code",
   "execution_count": 8,
   "id": "5d646652",
   "metadata": {},
   "outputs": [],
   "source": [
    "from sklearn.utils.estimator_checks import check_estimator"
   ]
  },
  {
   "attachments": {},
   "cell_type": "markdown",
   "id": "4dc0b880",
   "metadata": {},
   "source": [
    "Scikit-survival models do not necessarily pass ;-)"
   ]
  },
  {
   "cell_type": "code",
   "execution_count": 9,
   "id": "01ed6c29",
   "metadata": {},
   "outputs": [
    {
     "name": "stdout",
     "output_type": "stream",
     "text": [
      "AssertionError\n",
      "Estimator CoxnetSurvivalAnalysis should not set any attribute apart from parameters during init. Found attributes ['_baseline_models'].\n"
     ]
    }
   ],
   "source": [
    "try:\n",
    "    check_estimator(CoxnetSurvivalAnalysis())\n",
    "except Exception as e:\n",
    "    print(e.__class__.__name__)\n",
    "    print(e)"
   ]
  },
  {
   "attachments": {},
   "cell_type": "markdown",
   "id": "f6da257b",
   "metadata": {},
   "source": [
    "This is an example of a minimal (empty) estimator that passes the tests. Dataclasses can be useful to avoid long __init__ functions and it appears to work. BaseEstimator include the get/set_params methods that are required. check_X_y and check_array implement checks (required by the check_estimator function) on the input data."
   ]
  },
  {
   "cell_type": "code",
   "execution_count": 10,
   "id": "53220b5f",
   "metadata": {},
   "outputs": [],
   "source": [
    "from dataclasses import dataclass\n",
    "from sklearn.base import BaseEstimator\n",
    "from sklearn.utils import check_X_y, check_array\n",
    "\n",
    "@dataclass\n",
    "class TestEstimator(BaseEstimator):\n",
    "    param1: int = 1,\n",
    "\n",
    "    def fit(self, X, y):\n",
    "        X, y = check_X_y(X, y)\n",
    "        self._validate_data(X, y)\n",
    "        return self\n",
    "\n",
    "    def predict(self, X):\n",
    "        X = check_array(X)\n",
    "        return numpy.full(shape=X.shape[0], fill_value=self.param1)\n",
    "\n",
    "check_estimator(TestEstimator(param1=33))"
   ]
  },
  {
   "attachments": {},
   "cell_type": "markdown",
   "id": "99137670",
   "metadata": {},
   "source": [
    "## Outcome format"
   ]
  },
  {
   "attachments": {},
   "cell_type": "markdown",
   "id": "efcea259",
   "metadata": {},
   "source": [
    "Esempio formato scikit-survival"
   ]
  },
  {
   "cell_type": "code",
   "execution_count": 11,
   "id": "1a6617ec",
   "metadata": {},
   "outputs": [
    {
     "data": {
      "text/plain": [
       "array([( True,  723.), (False, 6591.), ( True,  524.), (False, 6255.),\n",
       "       ( True, 3822.), (False, 6507.), (False, 5947.), (False, 5816.),\n",
       "       (False, 6007.), ( True, 1233.)],\n",
       "      dtype=[('e.tdm', '?'), ('t.tdm', '<f8')])"
      ]
     },
     "execution_count": 11,
     "metadata": {},
     "output_type": "execute_result"
    }
   ],
   "source": [
    "y[:10]"
   ]
  },
  {
   "cell_type": "code",
   "execution_count": 12,
   "id": "c8c9d5b6",
   "metadata": {},
   "outputs": [],
   "source": [
    "def get_indicator(y):\n",
    "    return y[y.dtype.names[0]]\n",
    "def get_time(y):\n",
    "    return y[y.dtype.names[1]]"
   ]
  },
  {
   "cell_type": "code",
   "execution_count": 13,
   "id": "3ee43a7e",
   "metadata": {},
   "outputs": [
    {
     "data": {
      "text/plain": [
       "array([ True, False,  True, False,  True, False, False, False, False,\n",
       "        True])"
      ]
     },
     "execution_count": 13,
     "metadata": {},
     "output_type": "execute_result"
    }
   ],
   "source": [
    "get_indicator(y[:10])"
   ]
  },
  {
   "attachments": {},
   "cell_type": "markdown",
   "id": "78198e7f",
   "metadata": {},
   "source": [
    "## Wrapper for the DeepHit method from the pycox module"
   ]
  },
  {
   "attachments": {},
   "cell_type": "markdown",
   "id": "c315930b",
   "metadata": {},
   "source": [
    "Molto preliminare, sto recuperando e adattando il codice dal notebook ALS"
   ]
  },
  {
   "cell_type": "code",
   "execution_count": 14,
   "id": "9f31f9bd",
   "metadata": {},
   "outputs": [],
   "source": [
    "import pycox"
   ]
  },
  {
   "cell_type": "code",
   "execution_count": 26,
   "id": "daa596f2",
   "metadata": {},
   "outputs": [
    {
     "data": {
      "text/plain": [
       "array([[0.53773113],\n",
       "       [0.462967  ],\n",
       "       [0.54508943],\n",
       "       [0.41866197],\n",
       "       [0.50503328],\n",
       "       [0.42582475],\n",
       "       [0.37008203],\n",
       "       [0.33495384],\n",
       "       [0.45986246],\n",
       "       [0.46456713],\n",
       "       [0.40806079],\n",
       "       [0.40094691],\n",
       "       [0.42012897],\n",
       "       [0.39999714],\n",
       "       [0.42305477],\n",
       "       [0.49981038],\n",
       "       [0.4633688 ],\n",
       "       [0.47668839],\n",
       "       [0.50281748],\n",
       "       [0.47356684],\n",
       "       [0.43521895],\n",
       "       [0.4639473 ],\n",
       "       [0.50009723],\n",
       "       [0.2582028 ],\n",
       "       [0.2349975 ],\n",
       "       [0.4815646 ],\n",
       "       [0.3479222 ],\n",
       "       [0.42019552],\n",
       "       [0.4687982 ],\n",
       "       [0.37562506],\n",
       "       [0.45827493],\n",
       "       [0.47970679],\n",
       "       [0.44191477],\n",
       "       [0.32344067],\n",
       "       [0.47418981],\n",
       "       [0.47774983],\n",
       "       [0.3424169 ],\n",
       "       [0.48649347],\n",
       "       [0.29671496],\n",
       "       [0.45843205],\n",
       "       [0.28535281],\n",
       "       [0.53496291],\n",
       "       [0.49948594],\n",
       "       [0.41875015],\n",
       "       [0.37960392],\n",
       "       [0.34387186],\n",
       "       [0.43924819],\n",
       "       [0.48516151],\n",
       "       [0.44882356],\n",
       "       [0.4097439 ],\n",
       "       [0.46721777],\n",
       "       [0.36977309],\n",
       "       [0.26692302],\n",
       "       [0.37287423],\n",
       "       [0.42575423],\n",
       "       [0.45333824],\n",
       "       [0.63051022],\n",
       "       [0.53483587],\n",
       "       [0.48473532],\n",
       "       [0.44188823],\n",
       "       [0.44431206],\n",
       "       [0.51603384],\n",
       "       [0.3971769 ],\n",
       "       [0.51513088],\n",
       "       [0.37190267],\n",
       "       [0.47123383],\n",
       "       [0.28849699],\n",
       "       [0.46391295],\n",
       "       [0.4512885 ],\n",
       "       [0.45324257],\n",
       "       [0.34839081],\n",
       "       [0.4659464 ],\n",
       "       [0.33894772],\n",
       "       [0.3869393 ],\n",
       "       [0.44961808],\n",
       "       [0.55517396],\n",
       "       [0.38599557],\n",
       "       [0.4860069 ],\n",
       "       [0.40944541],\n",
       "       [0.46413212],\n",
       "       [0.42334362],\n",
       "       [0.35957209],\n",
       "       [0.44338642],\n",
       "       [0.42991028],\n",
       "       [0.42844088],\n",
       "       [0.33666381],\n",
       "       [0.39261315],\n",
       "       [0.43979398],\n",
       "       [0.426967  ],\n",
       "       [0.31973466],\n",
       "       [0.53673843],\n",
       "       [0.32440423],\n",
       "       [0.56298543],\n",
       "       [0.41595523],\n",
       "       [0.31358638],\n",
       "       [0.31935432],\n",
       "       [0.46020861],\n",
       "       [0.34925252],\n",
       "       [0.52223321],\n",
       "       [0.40100637],\n",
       "       [0.333036  ],\n",
       "       [0.42876372],\n",
       "       [0.40426905],\n",
       "       [0.23348509],\n",
       "       [0.36891455],\n",
       "       [0.45618344],\n",
       "       [0.35397708],\n",
       "       [0.50609011],\n",
       "       [0.45439821],\n",
       "       [0.37635229],\n",
       "       [0.46449319],\n",
       "       [0.36147464],\n",
       "       [0.53241104],\n",
       "       [0.41983661],\n",
       "       [0.31746027],\n",
       "       [0.59914829],\n",
       "       [0.4114935 ],\n",
       "       [0.26055084],\n",
       "       [0.47284297],\n",
       "       [0.31354756],\n",
       "       [0.48797282],\n",
       "       [0.46136675],\n",
       "       [0.37744511],\n",
       "       [0.51930672],\n",
       "       [0.40577996],\n",
       "       [0.4547813 ],\n",
       "       [0.30966604],\n",
       "       [0.32900972],\n",
       "       [0.55697817],\n",
       "       [0.34583312],\n",
       "       [0.4100371 ],\n",
       "       [0.43943547],\n",
       "       [0.31864877],\n",
       "       [0.51165769],\n",
       "       [0.28198605],\n",
       "       [0.43952949],\n",
       "       [0.58856598],\n",
       "       [0.30342573],\n",
       "       [0.52172279],\n",
       "       [0.31529427],\n",
       "       [0.51765476],\n",
       "       [0.51177321],\n",
       "       [0.24485618],\n",
       "       [0.48397435],\n",
       "       [0.50092556],\n",
       "       [0.39700474],\n",
       "       [0.45836182],\n",
       "       [0.38994506],\n",
       "       [0.19844871],\n",
       "       [0.533015  ],\n",
       "       [0.48678255],\n",
       "       [0.39444761],\n",
       "       [0.47797238],\n",
       "       [0.46736507],\n",
       "       [0.42012685],\n",
       "       [0.38390933],\n",
       "       [0.38924635],\n",
       "       [0.33781872],\n",
       "       [0.46356059],\n",
       "       [0.42683599],\n",
       "       [0.49768892],\n",
       "       [0.45248498],\n",
       "       [0.45419385],\n",
       "       [0.54103825],\n",
       "       [0.43973129],\n",
       "       [0.31183185],\n",
       "       [0.25420017],\n",
       "       [0.44146752],\n",
       "       [0.42166026],\n",
       "       [0.43779303],\n",
       "       [0.48236073],\n",
       "       [0.50397766],\n",
       "       [0.43016046],\n",
       "       [0.42845563],\n",
       "       [0.49737869],\n",
       "       [0.49995026],\n",
       "       [0.52420255],\n",
       "       [0.49110571],\n",
       "       [0.52164739],\n",
       "       [0.47961412],\n",
       "       [0.50374085],\n",
       "       [0.45674199],\n",
       "       [0.38185392],\n",
       "       [0.51677813],\n",
       "       [0.45132246],\n",
       "       [0.46154194],\n",
       "       [0.44098573],\n",
       "       [0.44009711],\n",
       "       [0.46437971],\n",
       "       [0.37601244],\n",
       "       [0.37743039],\n",
       "       [0.30490926],\n",
       "       [0.34688874],\n",
       "       [0.52978759],\n",
       "       [0.33868843],\n",
       "       [0.53372656],\n",
       "       [0.41927942],\n",
       "       [0.29662339]])"
      ]
     },
     "execution_count": 26,
     "metadata": {},
     "output_type": "execute_result"
    }
   ],
   "source": [
    "from dataclasses import dataclass, field\n",
    "from sklearn.base import BaseEstimator\n",
    "from collections.abc import Sequence\n",
    "\n",
    "@dataclass\n",
    "class DeepHitPycox(BaseEstimator):\n",
    "    num_durations: int = 10\n",
    "    # qui mettiamo i parametri per la forma della rete, cercherei di fare qualcosa che rispetti il paper originale\n",
    "    layer_sizes: Sequence[int] = field(default_factory=lambda: [10, 10])\n",
    "    epochs: int = 10 # maybe implement also early stopping\n",
    "    batch_size: int = 16\n",
    "    learning_rate: float = 0.001\n",
    "    device: str = 'cpu'\n",
    "\n",
    "    def fit(self, X, y):\n",
    "        from pycox.models import DeepHitSingle\n",
    "        import torchtuples as tt\n",
    "        #X, y = check_X_y(X, y)\n",
    "        optimizer = tt.optim.AdamWR(\n",
    "            lr=self.learning_rate,\n",
    "            #decoupled_weight_decay=,\n",
    "            #cycle_eta_multiplier=,\n",
    "        )\n",
    "        self.labtrans_ = DeepHitSingle.label_transform(self.num_durations)\n",
    "        y_discrete = self.labtrans_.fit_transform(get_time(y), get_indicator(y))\n",
    "        net = tt.practical.MLPVanilla(\n",
    "            in_features=X.shape[1], \n",
    "            out_features=self.labtrans_.out_features, \n",
    "            num_nodes=self.layer_sizes,\n",
    "            #batch_norm, dropout,\n",
    "            #**self.model_params['indepnet'], **self.model_params['net']\n",
    "        )\n",
    "        self.model_ = DeepHitSingle(\n",
    "            net, optimizer, \n",
    "            device=self.device,\n",
    "        )\n",
    "\n",
    "        self.median_time_ = numpy.median(get_time(y))\n",
    "        self.model_.fit(\n",
    "            X.astype('float32'), y_discrete, \n",
    "            num_workers=0 if True else n_jobs, \n",
    "            verbose=False, \n",
    "            epochs=self.epochs,\n",
    "            batch_size=self.batch_size,\n",
    "        )\n",
    "        return self\n",
    "\n",
    "    def predict(self, X, eval_times=None):\n",
    "        if eval_times is None:\n",
    "            eval_times = [self.median_time_]\n",
    "        preds = 1 - self.model_.predict_surv(X.astype('float32'))\n",
    "        #print('predict', eval_times.shape, self.labtrans_.cuts.shape, preds.shape)\n",
    "        return numpy.array([numpy.interp(eval_times, self.labtrans_.cuts, p, left=0, right=1) for p in preds])\n",
    "\n",
    "preds = DeepHitPycox(epochs=3).fit(X, y).predict(X)\n",
    "preds"
   ]
  },
  {
   "cell_type": "code",
   "execution_count": null,
   "id": "013d7c2d",
   "metadata": {},
   "outputs": [],
   "source": []
  },
  {
   "cell_type": "code",
   "execution_count": 23,
   "id": "cfbe340a",
   "metadata": {},
   "outputs": [],
   "source": [
    "def concordance_index_score(y_true, y_pred, *args, **kwargs):\n",
    "    print(y_true)\n",
    "    from sksurv.metrics import concordance_index_censored\n",
    "    return concordance_index_censored(\n",
    "        event_indicator=get_indicator(y_true),\n",
    "        event_time=get_time(y_true),\n",
    "        estimate=y_pred,\n",
    "        *args, **kwargs,\n",
    "    )\n"
   ]
  },
  {
   "cell_type": "code",
   "execution_count": 24,
   "id": "1ccbb2b5",
   "metadata": {},
   "outputs": [
    {
     "name": "stdout",
     "output_type": "stream",
     "text": [
      "DeepHitPycox(num_durations=10, layer_sizes=[10, 10], epochs=10, batch_size=16, learning_rate=0.001, device='cpu')\n"
     ]
    },
    {
     "name": "stderr",
     "output_type": "stream",
     "text": [
      "/home/gbirolo/miniconda3/lib/python3.10/site-packages/sklearn/model_selection/_validation.py:776: UserWarning: Scoring failed. The score on this train-test partition for these parameters will be set to nan. Details: \n",
      "Traceback (most recent call last):\n",
      "  File \"/home/gbirolo/miniconda3/lib/python3.10/site-packages/sklearn/model_selection/_validation.py\", line 767, in _score\n",
      "    scores = scorer(estimator, X_test, y_test)\n",
      "  File \"/home/gbirolo/miniconda3/lib/python3.10/site-packages/sklearn/metrics/_scorer.py\", line 108, in __call__\n",
      "    score = scorer(estimator, *args, **kwargs)\n",
      "  File \"/tmp/ipykernel_791023/2909229765.py\", line 5, in concordance_index_score\n",
      "    event_indicator=get_indicator(y_true),\n",
      "  File \"/tmp/ipykernel_791023/2231177257.py\", line 2, in get_indicator\n",
      "    return y[y.dtype.names[0]]\n",
      "AttributeError: 'DeepHitPycox' object has no attribute 'dtype'\n",
      "\n",
      "  warnings.warn(\n"
     ]
    },
    {
     "name": "stdout",
     "output_type": "stream",
     "text": [
      "DeepHitPycox(num_durations=10, layer_sizes=[10, 10], epochs=10, batch_size=16, learning_rate=0.001, device='cpu')\n",
      "DeepHitPycox(num_durations=10, layer_sizes=[10, 10], epochs=10, batch_size=16, learning_rate=0.001, device='cpu')\n",
      "DeepHitPycox(num_durations=10, layer_sizes=[10, 10], epochs=10, batch_size=16, learning_rate=0.001, device='cpu')\n",
      "DeepHitPycox(num_durations=10, layer_sizes=[10, 10], epochs=10, batch_size=16, learning_rate=0.001, device='cpu')\n"
     ]
    },
    {
     "data": {
      "text/plain": [
       "array([nan, nan, nan, nan, nan])"
      ]
     },
     "execution_count": 24,
     "metadata": {},
     "output_type": "execute_result"
    }
   ],
   "source": [
    "cross_val_score(DeepHitPycox(), X, y, scoring=concordance_index_score)"
   ]
  },
  {
   "attachments": {},
   "cell_type": "markdown",
   "id": "85a31852",
   "metadata": {},
   "source": [
    "# Pasticci"
   ]
  },
  {
   "cell_type": "code",
   "execution_count": 16,
   "id": "53fe51e8",
   "metadata": {},
   "outputs": [],
   "source": [
    "from sklearn.tree import DecisionTreeClassifier"
   ]
  },
  {
   "cell_type": "code",
   "execution_count": 17,
   "id": "7cb39d9d",
   "metadata": {},
   "outputs": [
    {
     "data": {
      "text/plain": [
       "array([0.55      , 0.6       , 0.6       , 0.58974359, 0.64102564])"
      ]
     },
     "execution_count": 17,
     "metadata": {},
     "output_type": "execute_result"
    }
   ],
   "source": [
    "cross_val_score(DecisionTreeClassifier(), X, get_indicator(y))"
   ]
  },
  {
   "cell_type": "code",
   "execution_count": 18,
   "id": "d7ae8a17",
   "metadata": {},
   "outputs": [
    {
     "ename": "ModuleNotFoundError",
     "evalue": "No module named 'auton_survival'",
     "output_type": "error",
     "traceback": [
      "\u001b[0;31m---------------------------------------------------------------------------\u001b[0m",
      "\u001b[0;31mModuleNotFoundError\u001b[0m                       Traceback (most recent call last)",
      "Cell \u001b[0;32mIn[18], line 21\u001b[0m\n\u001b[1;32m     18\u001b[0m         \u001b[39mreturn\u001b[39;00m numpy\u001b[39m.\u001b[39mswapaxes([\u001b[39mself\u001b[39m\u001b[39m.\u001b[39mmodel_\u001b[39m.\u001b[39mpredict_risk(X, t)[:, \u001b[39m0\u001b[39m] \u001b[39mfor\u001b[39;00m t \u001b[39min\u001b[39;00m eval_times], \u001b[39m0\u001b[39m, \u001b[39m1\u001b[39m)\n\u001b[1;32m     19\u001b[0m         \u001b[39m#return numpy.nan_to_num(numpy.swapaxes([self.model_.predict_risk(X, t)[:, 0] for t in eval_times], 0, 1), nan=0.5, posinf=1, neginf=0)\u001b[39;00m\n\u001b[0;32m---> 21\u001b[0m DeepSurvivalMachines()\u001b[39m.\u001b[39;49mfit(X, y)\u001b[39m.\u001b[39mpredict(X)\n",
      "Cell \u001b[0;32mIn[18], line 5\u001b[0m, in \u001b[0;36mDeepSurvivalMachines.fit\u001b[0;34m(self, X, y)\u001b[0m\n\u001b[1;32m      3\u001b[0m \u001b[39mimport\u001b[39;00m \u001b[39msys\u001b[39;00m\n\u001b[1;32m      4\u001b[0m sys\u001b[39m.\u001b[39mpath\u001b[39m.\u001b[39mappend(\u001b[39m'\u001b[39m\u001b[39m./auton-survival\u001b[39m\u001b[39m'\u001b[39m)\n\u001b[0;32m----> 5\u001b[0m \u001b[39mfrom\u001b[39;00m \u001b[39mauton_survival\u001b[39;00m\u001b[39m.\u001b[39;00m\u001b[39mmodels\u001b[39;00m\u001b[39m.\u001b[39;00m\u001b[39mdsm\u001b[39;00m \u001b[39mimport\u001b[39;00m DeepSurvivalMachines\n\u001b[1;32m      6\u001b[0m \u001b[39mtry\u001b[39;00m:\n\u001b[1;32m      7\u001b[0m     \u001b[39mself\u001b[39m\u001b[39m.\u001b[39mmodel_ \u001b[39m=\u001b[39m DeepSurvivalMachines(\n\u001b[1;32m      8\u001b[0m         \u001b[39m*\u001b[39m\u001b[39m*\u001b[39m\u001b[39mself\u001b[39m\u001b[39m.\u001b[39mmodel_params[\u001b[39m'\u001b[39m\u001b[39mmod\u001b[39m\u001b[39m'\u001b[39m])\u001b[39m.\u001b[39mfit(\n\u001b[1;32m      9\u001b[0m         X, times, events, \u001b[39m*\u001b[39m\u001b[39m*\u001b[39m\u001b[39mself\u001b[39m\u001b[39m.\u001b[39mmodel_params[\u001b[39m'\u001b[39m\u001b[39mfit\u001b[39m\u001b[39m'\u001b[39m])\n",
      "\u001b[0;31mModuleNotFoundError\u001b[0m: No module named 'auton_survival'"
     ]
    }
   ],
   "source": [
    "class DeepSurvivalMachines:\n",
    "    def fit(self, X, y):\n",
    "        import sys\n",
    "        sys.path.append('./auton-survival')\n",
    "        from auton_survival.models.dsm import DeepSurvivalMachines\n",
    "        try:\n",
    "            self.model_ = DeepSurvivalMachines(\n",
    "                **self.model_params['mod']).fit(\n",
    "                X, times, events, **self.model_params['fit'])\n",
    "        except RuntimeError as e:\n",
    "            raise FailedModel(f'{self.short_name} model fit failed: {e}')\n",
    "        return self\n",
    "\n",
    "    def predict(self, X, eval_times):\n",
    "        \"\"\"predict probabilites of event up to given times for each event\"\"\"\n",
    "        #global dbg\n",
    "        #dbg = self.model_, X, eval_times, numpy.swapaxes([self.model_.predict_risk(X, t)[:, 0] for t in eval_times], 0, 1)\n",
    "        return numpy.swapaxes([self.model_.predict_risk(X, t)[:, 0] for t in eval_times], 0, 1)\n",
    "        #return numpy.nan_to_num(numpy.swapaxes([self.model_.predict_risk(X, t)[:, 0] for t in eval_times], 0, 1), nan=0.5, posinf=1, neginf=0)\n",
    "\n",
    "DeepSurvivalMachines().fit(X, y).predict(X)"
   ]
  },
  {
   "cell_type": "code",
   "execution_count": null,
   "id": "0ef62e44",
   "metadata": {},
   "outputs": [],
   "source": [
    "cross_val_score(CoxnetSurvivalAnalysis(), X, y, scoring=concordance_index_score)"
   ]
  },
  {
   "cell_type": "code",
   "execution_count": null,
   "id": "012ef866",
   "metadata": {},
   "outputs": [],
   "source": [
    "import survwrap"
   ]
  },
  {
   "cell_type": "code",
   "execution_count": null,
   "id": "319d64ed",
   "metadata": {},
   "outputs": [],
   "source": []
  }
 ],
 "metadata": {
  "kernelspec": {
   "display_name": "Python 3 (ipykernel)",
   "language": "python",
   "name": "python3"
  },
  "language_info": {
   "codemirror_mode": {
    "name": "ipython",
    "version": 3
   },
   "file_extension": ".py",
   "mimetype": "text/x-python",
   "name": "python",
   "nbconvert_exporter": "python",
   "pygments_lexer": "ipython3",
   "version": "3.10.9"
  },
  "vscode": {
   "interpreter": {
    "hash": "e7370f93d1d0cde622a1f8e1c04877d8463912d04d973331ad4851f04de6915a"
   }
  }
 },
 "nbformat": 4,
 "nbformat_minor": 5
}
