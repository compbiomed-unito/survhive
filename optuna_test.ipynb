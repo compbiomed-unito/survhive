{
 "cells": [
  {
   "cell_type": "code",
   "execution_count": 1,
   "id": "387d1412",
   "metadata": {},
   "outputs": [],
   "source": [
    "import numpy\n",
    "import sklearn\n",
    "import survwrap"
   ]
  },
  {
   "cell_type": "code",
   "execution_count": 2,
   "id": "210bf36c",
   "metadata": {},
   "outputs": [
    {
     "data": {
      "text/plain": [
       "((198, 84), (198,))"
      ]
     },
     "execution_count": 2,
     "metadata": {},
     "output_type": "execute_result"
    }
   ],
   "source": [
    "X, y = survwrap.load_test_data()\n",
    "X.shape, y.shape"
   ]
  },
  {
   "cell_type": "markdown",
   "id": "40fbcb80-0388-4f46-ba3a-29c3f9ee5bee",
   "metadata": {},
   "source": [
    "### Generate a (stratified) train-test split and Scale the features (only) "
   ]
  },
  {
   "cell_type": "markdown",
   "id": "b35f553a-ae5b-476e-bb42-ec48efe8ab89",
   "metadata": {},
   "source": [
    "First do the stratified splitting THEN do scaling, parameterized on X_train set ONLY "
   ]
  },
  {
   "cell_type": "code",
   "execution_count": 3,
   "id": "75714389-2def-4259-8052-bcf7977a2c56",
   "metadata": {},
   "outputs": [],
   "source": [
    "from sklearn.preprocessing import StandardScaler, RobustScaler"
   ]
  },
  {
   "cell_type": "code",
   "execution_count": 4,
   "id": "bd02c821-86c7-4515-986b-07e769f9581b",
   "metadata": {},
   "outputs": [],
   "source": [
    "X_train, X_test, y_train, y_test = sklearn.model_selection.train_test_split(\n",
    "    X, y,\n",
    "    stratify=survwrap.get_indicator(y), \n",
    "    random_state=2308,\n",
    ")"
   ]
  },
  {
   "cell_type": "code",
   "execution_count": 5,
   "id": "261585e2-6d7a-4dc8-9861-da0aee20e7c7",
   "metadata": {},
   "outputs": [
    {
     "data": {
      "text/plain": [
       "((148, 84), (50, 84))"
      ]
     },
     "execution_count": 5,
     "metadata": {},
     "output_type": "execute_result"
    }
   ],
   "source": [
    "scaler = StandardScaler().fit(X_train)\n",
    "[X_train, X_test] = [ scaler.transform(_) for _ in  [X_train, X_test] ]\n",
    "X_train.shape, X_test.shape"
   ]
  },
  {
   "cell_type": "code",
   "execution_count": 7,
   "id": "5f89b6c2",
   "metadata": {},
   "outputs": [],
   "source": [
    "#X_train, X_test, y_train, y_test = sklearn.model_selection.train_test_split(X, y)"
   ]
  },
  {
   "cell_type": "markdown",
   "id": "3523fc60-5251-4640-ab08-b4288c7a65b4",
   "metadata": {},
   "source": [
    "balanced partitioning OK. Robst scaler damages the performance of DSM A LOT.\n",
    "maybe did something wrong. It is standard scaler for now."
   ]
  },
  {
   "cell_type": "code",
   "execution_count": 108,
   "id": "449b6bde-498c-437f-8170-e86f34aafc9e",
   "metadata": {},
   "outputs": [
    {
     "data": {
      "text/plain": [
       "(51, 38, 13)"
      ]
     },
     "execution_count": 108,
     "metadata": {},
     "output_type": "execute_result"
    }
   ],
   "source": [
    "survwrap.get_indicator(y).sum(), survwrap.get_indicator(y_train).sum(), survwrap.get_indicator(y_test).sum(),\n"
   ]
  },
  {
   "cell_type": "markdown",
   "id": "8c36a230",
   "metadata": {},
   "source": [
    "# test coxnet"
   ]
  },
  {
   "cell_type": "code",
   "execution_count": 6,
   "id": "9aafa692-2cba-4a47-b376-04742eae3b67",
   "metadata": {},
   "outputs": [
    {
     "data": {
      "text/html": [
       "<style>#sk-container-id-1 {color: black;}#sk-container-id-1 pre{padding: 0;}#sk-container-id-1 div.sk-toggleable {background-color: white;}#sk-container-id-1 label.sk-toggleable__label {cursor: pointer;display: block;width: 100%;margin-bottom: 0;padding: 0.3em;box-sizing: border-box;text-align: center;}#sk-container-id-1 label.sk-toggleable__label-arrow:before {content: \"▸\";float: left;margin-right: 0.25em;color: #696969;}#sk-container-id-1 label.sk-toggleable__label-arrow:hover:before {color: black;}#sk-container-id-1 div.sk-estimator:hover label.sk-toggleable__label-arrow:before {color: black;}#sk-container-id-1 div.sk-toggleable__content {max-height: 0;max-width: 0;overflow: hidden;text-align: left;background-color: #f0f8ff;}#sk-container-id-1 div.sk-toggleable__content pre {margin: 0.2em;color: black;border-radius: 0.25em;background-color: #f0f8ff;}#sk-container-id-1 input.sk-toggleable__control:checked~div.sk-toggleable__content {max-height: 200px;max-width: 100%;overflow: auto;}#sk-container-id-1 input.sk-toggleable__control:checked~label.sk-toggleable__label-arrow:before {content: \"▾\";}#sk-container-id-1 div.sk-estimator input.sk-toggleable__control:checked~label.sk-toggleable__label {background-color: #d4ebff;}#sk-container-id-1 div.sk-label input.sk-toggleable__control:checked~label.sk-toggleable__label {background-color: #d4ebff;}#sk-container-id-1 input.sk-hidden--visually {border: 0;clip: rect(1px 1px 1px 1px);clip: rect(1px, 1px, 1px, 1px);height: 1px;margin: -1px;overflow: hidden;padding: 0;position: absolute;width: 1px;}#sk-container-id-1 div.sk-estimator {font-family: monospace;background-color: #f0f8ff;border: 1px dotted black;border-radius: 0.25em;box-sizing: border-box;margin-bottom: 0.5em;}#sk-container-id-1 div.sk-estimator:hover {background-color: #d4ebff;}#sk-container-id-1 div.sk-parallel-item::after {content: \"\";width: 100%;border-bottom: 1px solid gray;flex-grow: 1;}#sk-container-id-1 div.sk-label:hover label.sk-toggleable__label {background-color: #d4ebff;}#sk-container-id-1 div.sk-serial::before {content: \"\";position: absolute;border-left: 1px solid gray;box-sizing: border-box;top: 0;bottom: 0;left: 50%;z-index: 0;}#sk-container-id-1 div.sk-serial {display: flex;flex-direction: column;align-items: center;background-color: white;padding-right: 0.2em;padding-left: 0.2em;position: relative;}#sk-container-id-1 div.sk-item {position: relative;z-index: 1;}#sk-container-id-1 div.sk-parallel {display: flex;align-items: stretch;justify-content: center;background-color: white;position: relative;}#sk-container-id-1 div.sk-item::before, #sk-container-id-1 div.sk-parallel-item::before {content: \"\";position: absolute;border-left: 1px solid gray;box-sizing: border-box;top: 0;bottom: 0;left: 50%;z-index: -1;}#sk-container-id-1 div.sk-parallel-item {display: flex;flex-direction: column;z-index: 1;position: relative;background-color: white;}#sk-container-id-1 div.sk-parallel-item:first-child::after {align-self: flex-end;width: 50%;}#sk-container-id-1 div.sk-parallel-item:last-child::after {align-self: flex-start;width: 50%;}#sk-container-id-1 div.sk-parallel-item:only-child::after {width: 0;}#sk-container-id-1 div.sk-dashed-wrapped {border: 1px dashed gray;margin: 0 0.4em 0.5em 0.4em;box-sizing: border-box;padding-bottom: 0.4em;background-color: white;}#sk-container-id-1 div.sk-label label {font-family: monospace;font-weight: bold;display: inline-block;line-height: 1.2em;}#sk-container-id-1 div.sk-label-container {text-align: center;}#sk-container-id-1 div.sk-container {/* jupyter's `normalize.less` sets `[hidden] { display: none; }` but bootstrap.min.css set `[hidden] { display: none !important; }` so we also need the `!important` here to be able to override the default hidden behavior on the sphinx rendered scikit-learn.org. See: https://github.com/scikit-learn/scikit-learn/issues/21755 */display: inline-block !important;position: relative;}#sk-container-id-1 div.sk-text-repr-fallback {display: none;}</style><div id=\"sk-container-id-1\" class=\"sk-top-container\"><div class=\"sk-text-repr-fallback\"><pre>CoxNet(rng_seed=2308, l1_ratio=0.5, verbose=False, fit_baseline_model=False)</pre><b>In a Jupyter environment, please rerun this cell to show the HTML representation or trust the notebook. <br />On GitHub, the HTML representation is unable to render, please try loading this page with nbviewer.org.</b></div><div class=\"sk-container\" hidden><div class=\"sk-item\"><div class=\"sk-estimator sk-toggleable\"><input class=\"sk-toggleable__control sk-hidden--visually\" id=\"sk-estimator-id-1\" type=\"checkbox\" checked><label for=\"sk-estimator-id-1\" class=\"sk-toggleable__label sk-toggleable__label-arrow\">CoxNet</label><div class=\"sk-toggleable__content\"><pre>CoxNet(rng_seed=2308, l1_ratio=0.5, verbose=False, fit_baseline_model=False)</pre></div></div></div></div></div>"
      ],
      "text/plain": [
       "CoxNet(rng_seed=2308, l1_ratio=0.5, verbose=False, fit_baseline_model=False)"
      ]
     },
     "execution_count": 6,
     "metadata": {},
     "output_type": "execute_result"
    }
   ],
   "source": [
    "coxnet = survwrap.CoxNet(rng_seed=2308)\n",
    "coxnet.fit(X_train, y_train)"
   ]
  },
  {
   "cell_type": "code",
   "execution_count": 7,
   "id": "9a0e80b7",
   "metadata": {},
   "outputs": [
    {
     "data": {
      "text/plain": [
       "0.5330578512396694"
      ]
     },
     "execution_count": 7,
     "metadata": {},
     "output_type": "execute_result"
    }
   ],
   "source": [
    "coxnet.score(X_test, y_test)"
   ]
  },
  {
   "cell_type": "code",
   "execution_count": 8,
   "id": "f894a2c8",
   "metadata": {},
   "outputs": [],
   "source": [
    "from survwrap.hyper import optimize"
   ]
  },
  {
   "cell_type": "code",
   "execution_count": 9,
   "id": "85cb65cc",
   "metadata": {},
   "outputs": [
    {
     "name": "stdout",
     "output_type": "stream",
     "text": [
      "{'l1_ratio': FloatParameter(min=-4.59511985013459, max=4.595119850134584, num_steps=7, transform=<function make_all_params.<locals>.<lambda> at 0x7fd5ea3f65e0>)}\n",
      "{'l1_ratio': [0.010000000000000002, 0.04464190557436299, 0.17774412460002154, 0.49999999999999933, 0.8222558753999777, 0.9553580944256369, 0.99]}\n",
      "7\n"
     ]
    },
    {
     "data": {
      "text/plain": [
       "(CoxNet(rng_seed=-1, l1_ratio=0.49999999999999933, verbose=False, fit_baseline_model=False),\n",
       " {'l1_ratio': 0.49999999999999933},\n",
       " GridSearchCV(estimator=CoxNet(),\n",
       "              param_grid={'l1_ratio': [0.010000000000000002, 0.04464190557436299,\n",
       "                                       0.17774412460002154, 0.49999999999999933,\n",
       "                                       0.8222558753999777, 0.9553580944256369,\n",
       "                                       0.99]}))"
      ]
     },
     "execution_count": 9,
     "metadata": {},
     "output_type": "execute_result"
    }
   ],
   "source": [
    "r1 = optimize(survwrap.CoxNet(), X_train, y_train, mode='sklearn-grid')\n",
    "r1"
   ]
  },
  {
   "cell_type": "code",
   "execution_count": 11,
   "id": "a3062171",
   "metadata": {},
   "outputs": [
    {
     "data": {
      "text/plain": [
       "0.5"
      ]
     },
     "execution_count": 11,
     "metadata": {},
     "output_type": "execute_result"
    }
   ],
   "source": [
    "r1[0].score(X_test, y_test)"
   ]
  },
  {
   "cell_type": "code",
   "execution_count": 12,
   "id": "308b4514",
   "metadata": {},
   "outputs": [
    {
     "name": "stderr",
     "output_type": "stream",
     "text": [
      "[I 2023-09-07 13:23:10,887] A new study created in memory with name: prova\n"
     ]
    },
    {
     "name": "stdout",
     "output_type": "stream",
     "text": [
      "{'l1_ratio': FloatParameter(min=-4.59511985013459, max=4.595119850134584, num_steps=7, transform=<function make_all_params.<locals>.<lambda> at 0x7fd5ea3f65e0>)}\n",
      "{'l1_ratio': [0.010000000000000002, 0.04464190557436299, 0.17774412460002154, 0.49999999999999933, 0.8222558753999777, 0.9553580944256369, 0.99]}\n",
      "7\n",
      "trial params: {'l1_ratio': 0.610308175389875}\n"
     ]
    },
    {
     "name": "stderr",
     "output_type": "stream",
     "text": [
      "[I 2023-09-07 13:23:15,002] Trial 0 finished with value: 0.5756680088279384 and parameters: {'l1_ratio': 0.44860780170214287}. Best is trial 0 with value: 0.5756680088279384.\n"
     ]
    },
    {
     "name": "stdout",
     "output_type": "stream",
     "text": [
      "score 0.5756680088279384 [0.52272727 0.66666667 0.70857143 0.56730769 0.56818182]\n",
      "trial params: {'l1_ratio': 0.8784295582382612}\n"
     ]
    },
    {
     "name": "stderr",
     "output_type": "stream",
     "text": [
      "[I 2023-09-07 13:23:19,826] Trial 1 finished with value: 0.5696871027673664 and parameters: {'l1_ratio': 1.9776418579115749}. Best is trial 0 with value: 0.5756680088279384.\n"
     ]
    },
    {
     "name": "stdout",
     "output_type": "stream",
     "text": [
      "score 0.5696871027673664 [0.52272727 0.66666667 0.72571429 0.5625     0.54545455]\n",
      "trial params: {'l1_ratio': 0.7199916233761879}\n"
     ]
    },
    {
     "name": "stderr",
     "output_type": "stream",
     "text": [
      "[I 2023-09-07 13:23:23,832] Trial 2 finished with value: 0.5727383762280822 and parameters: {'l1_ratio': 0.9444200585073101}. Best is trial 0 with value: 0.5756680088279384.\n"
     ]
    },
    {
     "name": "stdout",
     "output_type": "stream",
     "text": [
      "score 0.5727383762280822 [0.52840909 0.66145833 0.71428571 0.55769231 0.56060606]\n",
      "trial params: {'l1_ratio': 0.6016841149916052}\n"
     ]
    },
    {
     "name": "stderr",
     "output_type": "stream",
     "text": [
      "[I 2023-09-07 13:23:27,934] Trial 3 finished with value: 0.5768626343010168 and parameters: {'l1_ratio': 0.4124872102525252}. Best is trial 3 with value: 0.5768626343010168.\n"
     ]
    },
    {
     "name": "stdout",
     "output_type": "stream",
     "text": [
      "score 0.5768626343010168 [0.52272727 0.66666667 0.70857143 0.57211538 0.56818182]\n",
      "trial params: {'l1_ratio': 0.33145078118209154}\n"
     ]
    },
    {
     "name": "stderr",
     "output_type": "stream",
     "text": [
      "[I 2023-09-07 13:23:31,443] Trial 4 finished with value: 0.5699072675338412 and parameters: {'l1_ratio': -0.7016306940406172}. Best is trial 3 with value: 0.5768626343010168.\n"
     ]
    },
    {
     "name": "stdout",
     "output_type": "stream",
     "text": [
      "score 0.5699072675338412 [0.50568182 0.671875   0.72       0.56730769 0.56060606]\n",
      "trial params: {'l1_ratio': 0.7926217777309582}\n"
     ]
    },
    {
     "name": "stderr",
     "output_type": "stream",
     "text": [
      "[I 2023-09-07 13:23:35,656] Trial 5 finished with value: 0.5684080298601667 and parameters: {'l1_ratio': 1.3408018699407398}. Best is trial 3 with value: 0.5768626343010168.\n"
     ]
    },
    {
     "name": "stdout",
     "output_type": "stream",
     "text": [
      "score 0.5684080298601667 [0.52840909 0.66145833 0.70857143 0.55769231 0.54545455]\n",
      "trial params: {'l1_ratio': 0.3604092127723097}\n"
     ]
    },
    {
     "name": "stderr",
     "output_type": "stream",
     "text": [
      "[I 2023-09-07 13:23:38,944] Trial 6 finished with value: 0.5710204632401155 and parameters: {'l1_ratio': -0.5735884888581184}. Best is trial 3 with value: 0.5768626343010168.\n"
     ]
    },
    {
     "name": "stdout",
     "output_type": "stream",
     "text": [
      "score 0.5710204632401155 [0.51136364 0.66666667 0.72       0.56730769 0.56060606]\n",
      "trial params: {'l1_ratio': 0.9734156320700281}\n"
     ]
    },
    {
     "name": "stderr",
     "output_type": "stream",
     "text": [
      "[I 2023-09-07 13:23:43,815] Trial 7 finished with value: 0.5709505042232558 and parameters: {'l1_ratio': 3.600487785281053}. Best is trial 3 with value: 0.5768626343010168.\n"
     ]
    },
    {
     "name": "stdout",
     "output_type": "stream",
     "text": [
      "score 0.5709505042232558 [0.52840909 0.640625   0.73714286 0.55769231 0.56060606]\n",
      "trial params: {'l1_ratio': 0.986090442853965}\n"
     ]
    },
    {
     "name": "stderr",
     "output_type": "stream",
     "text": [
      "[I 2023-09-07 13:23:49,337] Trial 8 finished with value: 0.5747258775871312 and parameters: {'l1_ratio': 4.261171909092954}. Best is trial 3 with value: 0.5768626343010168.\n"
     ]
    },
    {
     "name": "stdout",
     "output_type": "stream",
     "text": [
      "score 0.5747258775871312 [0.53409091 0.625      0.73142857 0.5625     0.57575758]\n",
      "trial params: {'l1_ratio': 0.2551748719138359}\n"
     ]
    },
    {
     "name": "stderr",
     "output_type": "stream",
     "text": [
      "[I 2023-09-07 13:23:52,973] Trial 9 finished with value: 0.5739527398174206 and parameters: {'l1_ratio': -1.0712003810904176}. Best is trial 3 with value: 0.5768626343010168.\n"
     ]
    },
    {
     "name": "stdout",
     "output_type": "stream",
     "text": [
      "score 0.5739527398174206 [0.51136364 0.671875   0.72571429 0.56730769 0.56818182]\n"
     ]
    },
    {
     "data": {
      "text/plain": [
       "<optuna.study.study.Study at 0x7fd5ea0562e0>"
      ]
     },
     "execution_count": 12,
     "metadata": {},
     "output_type": "execute_result"
    }
   ],
   "source": [
    "r2 = optimize(survwrap.CoxNet(), X_train, y_train, mode='optuna', tries=10)\n",
    "r2"
   ]
  },
  {
   "cell_type": "code",
   "execution_count": null,
   "id": "b9ff248b",
   "metadata": {},
   "outputs": [],
   "source": [
    "r2"
   ]
  }
 ],
 "metadata": {
  "kernelspec": {
   "display_name": "Python 3 (ipykernel)",
   "language": "python",
   "name": "python3"
  },
  "language_info": {
   "codemirror_mode": {
    "name": "ipython",
    "version": 3
   },
   "file_extension": ".py",
   "mimetype": "text/x-python",
   "name": "python",
   "nbconvert_exporter": "python",
   "pygments_lexer": "ipython3",
   "version": "3.8.10"
  }
 },
 "nbformat": 4,
 "nbformat_minor": 5
}
