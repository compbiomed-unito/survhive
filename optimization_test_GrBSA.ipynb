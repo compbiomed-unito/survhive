{
 "cells": [
  {
   "cell_type": "markdown",
   "id": "d0d5ccd9-853f-4e52-b3c4-696e7212e5a0",
   "metadata": {},
   "source": [
    "# Testing optimization by random search"
   ]
  },
  {
   "cell_type": "code",
   "execution_count": 1,
   "id": "387d1412",
   "metadata": {},
   "outputs": [],
   "source": [
    "import numpy"
   ]
  },
  {
   "cell_type": "code",
   "execution_count": 2,
   "id": "c4083da7",
   "metadata": {},
   "outputs": [],
   "source": [
    "import sklearn"
   ]
  },
  {
   "cell_type": "code",
   "execution_count": 3,
   "id": "5f7d6271",
   "metadata": {},
   "outputs": [],
   "source": [
    "import survhive"
   ]
  },
  {
   "cell_type": "code",
   "execution_count": 4,
   "id": "2322393d-3b57-453e-9987-0315b83bd875",
   "metadata": {},
   "outputs": [],
   "source": [
    "seed=2402\n",
    "n_cpus=4"
   ]
  },
  {
   "cell_type": "code",
   "execution_count": 5,
   "id": "210bf36c",
   "metadata": {},
   "outputs": [
    {
     "data": {
      "text/plain": [
       "((198, 84), (198,))"
      ]
     },
     "execution_count": 5,
     "metadata": {},
     "output_type": "execute_result"
    }
   ],
   "source": [
    "X, y = survhive.load_test_data()\n",
    "X.shape, y.shape"
   ]
  },
  {
   "cell_type": "markdown",
   "id": "40fbcb80-0388-4f46-ba3a-29c3f9ee5bee",
   "metadata": {},
   "source": [
    "### Generate a (stratified) train-test split and Scale the features (only) "
   ]
  },
  {
   "cell_type": "markdown",
   "id": "b35f553a-ae5b-476e-bb42-ec48efe8ab89",
   "metadata": {},
   "source": [
    "First do the stratified splitting THEN do scaling, parameterized on X_train set ONLY "
   ]
  },
  {
   "cell_type": "code",
   "execution_count": 6,
   "id": "75714389-2def-4259-8052-bcf7977a2c56",
   "metadata": {},
   "outputs": [],
   "source": [
    "from sklearn.preprocessing import StandardScaler"
   ]
  },
  {
   "cell_type": "code",
   "execution_count": 7,
   "id": "bd02c821-86c7-4515-986b-07e769f9581b",
   "metadata": {},
   "outputs": [],
   "source": [
    "X_train, X_test, y_train, y_test = survhive.survival_train_test_split(X, y,rng_seed=seed)"
   ]
  },
  {
   "cell_type": "code",
   "execution_count": 8,
   "id": "261585e2-6d7a-4dc8-9861-da0aee20e7c7",
   "metadata": {},
   "outputs": [
    {
     "data": {
      "text/plain": [
       "((148, 84), (50, 84))"
      ]
     },
     "execution_count": 8,
     "metadata": {},
     "output_type": "execute_result"
    }
   ],
   "source": [
    "scaler = StandardScaler().fit(X_train)\n",
    "[X_train, X_test] = [ scaler.transform(_) for _ in  [X_train, X_test] ]\n",
    "X_train.shape, X_test.shape"
   ]
  },
  {
   "cell_type": "code",
   "execution_count": 9,
   "id": "5f89b6c2",
   "metadata": {},
   "outputs": [],
   "source": [
    "#X_train, X_test, y_train, y_test = sklearn.model_selection.train_test_split(X, y)"
   ]
  },
  {
   "cell_type": "markdown",
   "id": "3523fc60-5251-4640-ab08-b4288c7a65b4",
   "metadata": {},
   "source": [
    "balanced partitioning OK. Robst scaler damages the performance of DSM A LOT.\n",
    "maybe did something wrong. It is standard scaler for now."
   ]
  },
  {
   "cell_type": "code",
   "execution_count": 10,
   "id": "449b6bde-498c-437f-8170-e86f34aafc9e",
   "metadata": {},
   "outputs": [
    {
     "data": {
      "text/plain": [
       "(51, 38, 13)"
      ]
     },
     "execution_count": 10,
     "metadata": {},
     "output_type": "execute_result"
    }
   ],
   "source": [
    "survhive.get_indicator(y).sum(), survhive.get_indicator(y_train).sum(), survhive.get_indicator(y_test).sum(),\n"
   ]
  },
  {
   "cell_type": "code",
   "execution_count": 11,
   "id": "62b452cd-4763-4f78-800f-3e8c78ec3bb7",
   "metadata": {
    "scrolled": true
   },
   "outputs": [
    {
     "name": "stdout",
     "output_type": "stream",
     "text": [
      "[13, 12, 13, 13, 12, 13]\n"
     ]
    }
   ],
   "source": [
    "splitter = survhive.survival_crossval_splitter(X_train,y_train,n_splits=3, n_repeats=2,rng_seed=2309)\n",
    "print([ (survhive.get_indicator(y_train[_[1]]).sum()) for _ in splitter])"
   ]
  },
  {
   "cell_type": "markdown",
   "id": "18343e1d-30ec-42b0-be0e-ac85df1298d9",
   "metadata": {},
   "source": [
    "## check possible dimensionality reduction"
   ]
  },
  {
   "cell_type": "code",
   "execution_count": 12,
   "id": "fde3a10a-379c-42b8-8070-485e7c4326bb",
   "metadata": {},
   "outputs": [],
   "source": [
    "from sklearn.decomposition import PCA"
   ]
  },
  {
   "cell_type": "code",
   "execution_count": 13,
   "id": "1ad7a35b-9295-40f8-a9c4-a02ca8cf83c8",
   "metadata": {},
   "outputs": [
    {
     "data": {
      "text/plain": [
       "74"
      ]
     },
     "execution_count": 13,
     "metadata": {},
     "output_type": "execute_result"
    }
   ],
   "source": [
    "pca= PCA(n_components=0.995, random_state=seed).fit(X_train)\n",
    "pca.n_components_"
   ]
  },
  {
   "cell_type": "markdown",
   "id": "afc3f2d1-45e8-42cc-9763-69836b1aaa71",
   "metadata": {},
   "source": [
    "Only a modest dimensionality reduction is possible using PCA"
   ]
  },
  {
   "cell_type": "code",
   "execution_count": 14,
   "id": "dd7a81c3-ced7-48df-8eba-cacb1e814bbd",
   "metadata": {},
   "outputs": [],
   "source": [
    "## Stratified CV spliter for survival analysis"
   ]
  },
  {
   "cell_type": "code",
   "execution_count": 15,
   "id": "e63ce8de-3339-4d4f-9df3-d11c8e61feba",
   "metadata": {},
   "outputs": [],
   "source": [
    "from sklearn.model_selection import RepeatedStratifiedKFold, StratifiedKFold"
   ]
  },
  {
   "cell_type": "markdown",
   "id": "8c36a230",
   "metadata": {},
   "source": [
    "# test coxnet"
   ]
  },
  {
   "cell_type": "code",
   "execution_count": 16,
   "id": "9aafa692-2cba-4a47-b376-04742eae3b67",
   "metadata": {},
   "outputs": [
    {
     "data": {
      "text/html": [
       "<style>#sk-container-id-1 {color: black;}#sk-container-id-1 pre{padding: 0;}#sk-container-id-1 div.sk-toggleable {background-color: white;}#sk-container-id-1 label.sk-toggleable__label {cursor: pointer;display: block;width: 100%;margin-bottom: 0;padding: 0.3em;box-sizing: border-box;text-align: center;}#sk-container-id-1 label.sk-toggleable__label-arrow:before {content: \"▸\";float: left;margin-right: 0.25em;color: #696969;}#sk-container-id-1 label.sk-toggleable__label-arrow:hover:before {color: black;}#sk-container-id-1 div.sk-estimator:hover label.sk-toggleable__label-arrow:before {color: black;}#sk-container-id-1 div.sk-toggleable__content {max-height: 0;max-width: 0;overflow: hidden;text-align: left;background-color: #f0f8ff;}#sk-container-id-1 div.sk-toggleable__content pre {margin: 0.2em;color: black;border-radius: 0.25em;background-color: #f0f8ff;}#sk-container-id-1 input.sk-toggleable__control:checked~div.sk-toggleable__content {max-height: 200px;max-width: 100%;overflow: auto;}#sk-container-id-1 input.sk-toggleable__control:checked~label.sk-toggleable__label-arrow:before {content: \"▾\";}#sk-container-id-1 div.sk-estimator input.sk-toggleable__control:checked~label.sk-toggleable__label {background-color: #d4ebff;}#sk-container-id-1 div.sk-label input.sk-toggleable__control:checked~label.sk-toggleable__label {background-color: #d4ebff;}#sk-container-id-1 input.sk-hidden--visually {border: 0;clip: rect(1px 1px 1px 1px);clip: rect(1px, 1px, 1px, 1px);height: 1px;margin: -1px;overflow: hidden;padding: 0;position: absolute;width: 1px;}#sk-container-id-1 div.sk-estimator {font-family: monospace;background-color: #f0f8ff;border: 1px dotted black;border-radius: 0.25em;box-sizing: border-box;margin-bottom: 0.5em;}#sk-container-id-1 div.sk-estimator:hover {background-color: #d4ebff;}#sk-container-id-1 div.sk-parallel-item::after {content: \"\";width: 100%;border-bottom: 1px solid gray;flex-grow: 1;}#sk-container-id-1 div.sk-label:hover label.sk-toggleable__label {background-color: #d4ebff;}#sk-container-id-1 div.sk-serial::before {content: \"\";position: absolute;border-left: 1px solid gray;box-sizing: border-box;top: 0;bottom: 0;left: 50%;z-index: 0;}#sk-container-id-1 div.sk-serial {display: flex;flex-direction: column;align-items: center;background-color: white;padding-right: 0.2em;padding-left: 0.2em;position: relative;}#sk-container-id-1 div.sk-item {position: relative;z-index: 1;}#sk-container-id-1 div.sk-parallel {display: flex;align-items: stretch;justify-content: center;background-color: white;position: relative;}#sk-container-id-1 div.sk-item::before, #sk-container-id-1 div.sk-parallel-item::before {content: \"\";position: absolute;border-left: 1px solid gray;box-sizing: border-box;top: 0;bottom: 0;left: 50%;z-index: -1;}#sk-container-id-1 div.sk-parallel-item {display: flex;flex-direction: column;z-index: 1;position: relative;background-color: white;}#sk-container-id-1 div.sk-parallel-item:first-child::after {align-self: flex-end;width: 50%;}#sk-container-id-1 div.sk-parallel-item:last-child::after {align-self: flex-start;width: 50%;}#sk-container-id-1 div.sk-parallel-item:only-child::after {width: 0;}#sk-container-id-1 div.sk-dashed-wrapped {border: 1px dashed gray;margin: 0 0.4em 0.5em 0.4em;box-sizing: border-box;padding-bottom: 0.4em;background-color: white;}#sk-container-id-1 div.sk-label label {font-family: monospace;font-weight: bold;display: inline-block;line-height: 1.2em;}#sk-container-id-1 div.sk-label-container {text-align: center;}#sk-container-id-1 div.sk-container {/* jupyter's `normalize.less` sets `[hidden] { display: none; }` but bootstrap.min.css set `[hidden] { display: none !important; }` so we also need the `!important` here to be able to override the default hidden behavior on the sphinx rendered scikit-learn.org. See: https://github.com/scikit-learn/scikit-learn/issues/21755 */display: inline-block !important;position: relative;}#sk-container-id-1 div.sk-text-repr-fallback {display: none;}</style><div id=\"sk-container-id-1\" class=\"sk-top-container\"><div class=\"sk-text-repr-fallback\"><pre>CoxNet(rng_seed=2402, alpha=None, l1_ratio=0.5)</pre><b>In a Jupyter environment, please rerun this cell to show the HTML representation or trust the notebook. <br />On GitHub, the HTML representation is unable to render, please try loading this page with nbviewer.org.</b></div><div class=\"sk-container\" hidden><div class=\"sk-item\"><div class=\"sk-estimator sk-toggleable\"><input class=\"sk-toggleable__control sk-hidden--visually\" id=\"sk-estimator-id-1\" type=\"checkbox\" checked><label for=\"sk-estimator-id-1\" class=\"sk-toggleable__label sk-toggleable__label-arrow\">CoxNet</label><div class=\"sk-toggleable__content\"><pre>CoxNet(rng_seed=2402, alpha=None, l1_ratio=0.5)</pre></div></div></div></div></div>"
      ],
      "text/plain": [
       "CoxNet(rng_seed=2402, alpha=None, l1_ratio=0.5)"
      ]
     },
     "execution_count": 16,
     "metadata": {},
     "output_type": "execute_result"
    }
   ],
   "source": [
    "coxnet = survhive.CoxNet(rng_seed=seed)\n",
    "coxnet.fit(X_train, y_train)"
   ]
  },
  {
   "cell_type": "code",
   "execution_count": 17,
   "id": "9a0e80b7",
   "metadata": {},
   "outputs": [
    {
     "data": {
      "text/plain": [
       "0.5"
      ]
     },
     "execution_count": 17,
     "metadata": {},
     "output_type": "execute_result"
    }
   ],
   "source": [
    "coxnet.score(X_test, y_test)"
   ]
  },
  {
   "cell_type": "code",
   "execution_count": 18,
   "id": "f894a2c8",
   "metadata": {
    "jupyter": {
     "source_hidden": true
    }
   },
   "outputs": [],
   "source": [
    "#from sklearn.model_selection import GridSearchCV, RandomizedSearchCV"
   ]
  },
  {
   "cell_type": "code",
   "execution_count": 19,
   "id": "941e3f4c-80cd-47ef-b9bb-b7341da0af2b",
   "metadata": {},
   "outputs": [
    {
     "data": {
      "text/plain": [
       "6"
      ]
     },
     "execution_count": 19,
     "metadata": {},
     "output_type": "execute_result"
    }
   ],
   "source": [
    "survhive.optimization._guess_tries(survhive.CoxNet.get_parameter_grid())"
   ]
  },
  {
   "cell_type": "code",
   "execution_count": 18,
   "id": "946d79e0-0f7c-44c6-893c-8b5ea52c5a57",
   "metadata": {},
   "outputs": [
    {
     "data": {
      "text/plain": [
       "{'alpha': [0.001,\n",
       "  0.003,\n",
       "  0.005,\n",
       "  0.008,\n",
       "  0.01,\n",
       "  0.02,\n",
       "  0.03,\n",
       "  0.04,\n",
       "  0.05,\n",
       "  0.06,\n",
       "  0.07,\n",
       "  0.08,\n",
       "  0.09,\n",
       "  0.1,\n",
       "  0.15,\n",
       "  0.2,\n",
       "  0.3],\n",
       " 'l1_ratio': [0.01, 0.1, 0.25, 0.5, 0.75, 0.9, 0.99]}"
      ]
     },
     "execution_count": 18,
     "metadata": {},
     "output_type": "execute_result"
    }
   ],
   "source": [
    "survhive.CoxNet().get_parameter_grid()"
   ]
  },
  {
   "cell_type": "code",
   "execution_count": 20,
   "id": "29f6d229-c0b2-43b6-91e1-b619081df7f7",
   "metadata": {},
   "outputs": [],
   "source": [
    "from survhive import optimize"
   ]
  },
  {
   "cell_type": "code",
   "execution_count": 21,
   "id": "5b77922c-5d15-4aca-a395-f88ce3f68ad3",
   "metadata": {},
   "outputs": [
    {
     "name": "stdout",
     "output_type": "stream",
     "text": [
      "Random search tries: 6\n"
     ]
    },
    {
     "name": "stderr",
     "output_type": "stream",
     "text": [
      "/usr/local/ivan/Unito/conda/envs/hive/lib/python3.8/site-packages/sklearn/model_selection/_validation.py:425: FitFailedWarning: \n",
      "10 fits failed out of a total of 60.\n",
      "The score on these train-test partitions for these parameters will be set to nan.\n",
      "If these failures are not expected, you can try to debug them by setting error_score='raise'.\n",
      "\n",
      "Below are more details about the failures:\n",
      "--------------------------------------------------------------------------------\n",
      "10 fits failed with the following error:\n",
      "Traceback (most recent call last):\n",
      "  File \"/usr/local/ivan/Unito/conda/envs/hive/lib/python3.8/site-packages/sklearn/model_selection/_validation.py\", line 729, in _fit_and_score\n",
      "    estimator.fit(X_train, y_train, **fit_params)\n",
      "  File \"/usr/local/ivan/Unito/survhive/survhive/sksurv_adapters.py\", line 63, in fit\n",
      "    self.model_ = self.model_.fit(X, y)\n",
      "  File \"/usr/local/ivan/Unito/conda/envs/hive/lib/python3.8/site-packages/sksurv/linear_model/coxnet.py\", line 269, in fit\n",
      "    coef, alphas, deviance_ratio, n_iter = call_fit_coxnet(\n",
      "  File \"sksurv/linear_model/_coxnet.pyx\", line 68, in sksurv.linear_model._coxnet.call_fit_coxnet\n",
      "ArithmeticError: Numerical error, because weights are too large. Consider increasing alpha.\n",
      "\n",
      "  warnings.warn(some_fits_failed_message, FitFailedWarning)\n",
      "/usr/local/ivan/Unito/conda/envs/hive/lib/python3.8/site-packages/sklearn/model_selection/_search.py:979: UserWarning: One or more of the test scores are non-finite: [0.56713882        nan 0.77002997 0.67346352 0.77797637 0.50291733]\n",
      "  warnings.warn(\n"
     ]
    },
    {
     "data": {
      "text/plain": [
       "(0.572429906542056, {'l1_ratio': 0.75, 'alpha': 0.03})"
      ]
     },
     "execution_count": 21,
     "metadata": {},
     "output_type": "execute_result"
    }
   ],
   "source": [
    "opt_coxnet, opt_coxnet_params, opt_coxnet_search = optimize(survhive.CoxNet(rng_seed=seed), X_train, y_train, \n",
    "                                                            mode='sklearn-random',\n",
    "                                                           n_jobs=n_cpus)\n",
    "opt_coxnet.score(X_test, y_test), opt_coxnet_params"
   ]
  },
  {
   "cell_type": "code",
   "execution_count": 23,
   "id": "7fa3fb2d-c06d-4b22-8583-50fb08b86444",
   "metadata": {},
   "outputs": [
    {
     "name": "stderr",
     "output_type": "stream",
     "text": [
      "/usr/local/ivan/Unito/survhive/survhive/sksurv_adapters.py:63: ConvergenceWarning: Optimization terminated early, you might want to increase the number of iterations (max_iter=100000).\n",
      "  self.model_ = self.model_.fit(X, y)\n",
      "/usr/local/ivan/Unito/conda/envs/hive/lib/python3.8/site-packages/sksurv/linear_model/coxph.py:64: RuntimeWarning: overflow encountered in exp\n",
      "  risk_score = np.exp(linear_predictor)\n",
      "/usr/local/ivan/Unito/conda/envs/hive/lib/python3.8/site-packages/sksurv/linear_model/coxph.py:75: RuntimeWarning: invalid value encountered in scalar subtract\n",
      "  value -= risk_score[k : (k + d)].sum()\n",
      "/usr/local/ivan/Unito/conda/envs/hive/lib/python3.8/site-packages/sksurv/linear_model/coxph.py:120: RuntimeWarning: overflow encountered in exp\n",
      "  risk_score = np.exp(linear_predictor)\n",
      "/usr/local/ivan/Unito/survhive/survhive/sksurv_adapters.py:63: ConvergenceWarning: Optimization terminated early, you might want to increase the number of iterations (max_iter=100000).\n",
      "  self.model_ = self.model_.fit(X, y)\n",
      "/usr/local/ivan/Unito/conda/envs/hive/lib/python3.8/site-packages/sksurv/linear_model/coxph.py:81: RuntimeWarning: divide by zero encountered in divide\n",
      "  y = np.cumsum(n_events / divisor)\n",
      "/usr/local/ivan/Unito/survhive/survhive/sksurv_adapters.py:63: ConvergenceWarning: Optimization terminated early, you might want to increase the number of iterations (max_iter=100000).\n",
      "  self.model_ = self.model_.fit(X, y)\n",
      "/usr/local/ivan/Unito/survhive/survhive/sksurv_adapters.py:63: ConvergenceWarning: Optimization terminated early, you might want to increase the number of iterations (max_iter=100000).\n",
      "  self.model_ = self.model_.fit(X, y)\n",
      "/usr/local/ivan/Unito/conda/envs/hive/lib/python3.8/site-packages/sksurv/linear_model/coxph.py:81: RuntimeWarning: divide by zero encountered in divide\n",
      "  y = np.cumsum(n_events / divisor)\n",
      "/usr/local/ivan/Unito/survhive/survhive/sksurv_adapters.py:63: ConvergenceWarning: Optimization terminated early, you might want to increase the number of iterations (max_iter=100000).\n",
      "  self.model_ = self.model_.fit(X, y)\n",
      "/usr/local/ivan/Unito/conda/envs/hive/lib/python3.8/site-packages/sksurv/linear_model/coxph.py:81: RuntimeWarning: divide by zero encountered in divide\n",
      "  y = np.cumsum(n_events / divisor)\n",
      "/usr/local/ivan/Unito/survhive/survhive/sksurv_adapters.py:63: ConvergenceWarning: Optimization terminated early, you might want to increase the number of iterations (max_iter=100000).\n",
      "  self.model_ = self.model_.fit(X, y)\n",
      "/usr/local/ivan/Unito/conda/envs/hive/lib/python3.8/site-packages/sksurv/linear_model/coxph.py:81: RuntimeWarning: invalid value encountered in divide\n",
      "  y = np.cumsum(n_events / divisor)\n",
      "/usr/local/ivan/Unito/survhive/survhive/sksurv_adapters.py:63: ConvergenceWarning: Optimization terminated early, you might want to increase the number of iterations (max_iter=100000).\n",
      "  self.model_ = self.model_.fit(X, y)\n",
      "/usr/local/ivan/Unito/conda/envs/hive/lib/python3.8/site-packages/sksurv/linear_model/coxph.py:81: RuntimeWarning: divide by zero encountered in divide\n",
      "  y = np.cumsum(n_events / divisor)\n",
      "/usr/local/ivan/Unito/survhive/survhive/sksurv_adapters.py:63: ConvergenceWarning: Optimization terminated early, you might want to increase the number of iterations (max_iter=100000).\n",
      "  self.model_ = self.model_.fit(X, y)\n",
      "/usr/local/ivan/Unito/survhive/survhive/sksurv_adapters.py:63: ConvergenceWarning: Optimization terminated early, you might want to increase the number of iterations (max_iter=100000).\n",
      "  self.model_ = self.model_.fit(X, y)\n",
      "/usr/local/ivan/Unito/conda/envs/hive/lib/python3.8/site-packages/sksurv/linear_model/coxph.py:81: RuntimeWarning: invalid value encountered in divide\n",
      "  y = np.cumsum(n_events / divisor)\n",
      "/usr/local/ivan/Unito/survhive/survhive/sksurv_adapters.py:63: ConvergenceWarning: Optimization terminated early, you might want to increase the number of iterations (max_iter=100000).\n",
      "  self.model_ = self.model_.fit(X, y)\n",
      "/usr/local/ivan/Unito/survhive/survhive/sksurv_adapters.py:63: ConvergenceWarning: Optimization terminated early, you might want to increase the number of iterations (max_iter=100000).\n",
      "  self.model_ = self.model_.fit(X, y)\n",
      "/usr/local/ivan/Unito/survhive/survhive/sksurv_adapters.py:63: ConvergenceWarning: Optimization terminated early, you might want to increase the number of iterations (max_iter=100000).\n",
      "  self.model_ = self.model_.fit(X, y)\n",
      "/usr/local/ivan/Unito/survhive/survhive/sksurv_adapters.py:63: UserWarning: all coefficients are zero, consider decreasing alpha.\n",
      "  self.model_ = self.model_.fit(X, y)\n",
      "/usr/local/ivan/Unito/survhive/survhive/sksurv_adapters.py:63: UserWarning: all coefficients are zero, consider decreasing alpha.\n",
      "  self.model_ = self.model_.fit(X, y)\n",
      "/usr/local/ivan/Unito/survhive/survhive/sksurv_adapters.py:63: UserWarning: all coefficients are zero, consider decreasing alpha.\n",
      "  self.model_ = self.model_.fit(X, y)\n",
      "/usr/local/ivan/Unito/survhive/survhive/sksurv_adapters.py:63: UserWarning: all coefficients are zero, consider decreasing alpha.\n",
      "  self.model_ = self.model_.fit(X, y)\n",
      "/usr/local/ivan/Unito/survhive/survhive/sksurv_adapters.py:63: UserWarning: all coefficients are zero, consider decreasing alpha.\n",
      "  self.model_ = self.model_.fit(X, y)\n",
      "/usr/local/ivan/Unito/survhive/survhive/sksurv_adapters.py:63: UserWarning: all coefficients are zero, consider decreasing alpha.\n",
      "  self.model_ = self.model_.fit(X, y)\n",
      "/usr/local/ivan/Unito/survhive/survhive/sksurv_adapters.py:63: UserWarning: all coefficients are zero, consider decreasing alpha.\n",
      "  self.model_ = self.model_.fit(X, y)\n",
      "/usr/local/ivan/Unito/survhive/survhive/sksurv_adapters.py:63: UserWarning: all coefficients are zero, consider decreasing alpha.\n",
      "  self.model_ = self.model_.fit(X, y)\n",
      "/usr/local/ivan/Unito/survhive/survhive/sksurv_adapters.py:63: UserWarning: all coefficients are zero, consider decreasing alpha.\n",
      "  self.model_ = self.model_.fit(X, y)\n",
      "/usr/local/ivan/Unito/survhive/survhive/sksurv_adapters.py:63: UserWarning: all coefficients are zero, consider decreasing alpha.\n",
      "  self.model_ = self.model_.fit(X, y)\n",
      "/usr/local/ivan/Unito/survhive/survhive/sksurv_adapters.py:63: UserWarning: all coefficients are zero, consider decreasing alpha.\n",
      "  self.model_ = self.model_.fit(X, y)\n",
      "/usr/local/ivan/Unito/survhive/survhive/sksurv_adapters.py:63: UserWarning: all coefficients are zero, consider decreasing alpha.\n",
      "  self.model_ = self.model_.fit(X, y)\n",
      "/usr/local/ivan/Unito/survhive/survhive/sksurv_adapters.py:63: UserWarning: all coefficients are zero, consider decreasing alpha.\n",
      "  self.model_ = self.model_.fit(X, y)\n",
      "/usr/local/ivan/Unito/survhive/survhive/sksurv_adapters.py:63: UserWarning: all coefficients are zero, consider decreasing alpha.\n",
      "  self.model_ = self.model_.fit(X, y)\n",
      "/usr/local/ivan/Unito/survhive/survhive/sksurv_adapters.py:63: UserWarning: all coefficients are zero, consider decreasing alpha.\n",
      "  self.model_ = self.model_.fit(X, y)\n",
      "/usr/local/ivan/Unito/survhive/survhive/sksurv_adapters.py:63: UserWarning: all coefficients are zero, consider decreasing alpha.\n",
      "  self.model_ = self.model_.fit(X, y)\n",
      "/usr/local/ivan/Unito/survhive/survhive/sksurv_adapters.py:63: UserWarning: all coefficients are zero, consider decreasing alpha.\n",
      "  self.model_ = self.model_.fit(X, y)\n",
      "/usr/local/ivan/Unito/survhive/survhive/sksurv_adapters.py:63: UserWarning: all coefficients are zero, consider decreasing alpha.\n",
      "  self.model_ = self.model_.fit(X, y)\n",
      "/usr/local/ivan/Unito/survhive/survhive/sksurv_adapters.py:63: UserWarning: all coefficients are zero, consider decreasing alpha.\n",
      "  self.model_ = self.model_.fit(X, y)\n",
      "/usr/local/ivan/Unito/survhive/survhive/sksurv_adapters.py:63: UserWarning: all coefficients are zero, consider decreasing alpha.\n",
      "  self.model_ = self.model_.fit(X, y)\n",
      "/usr/local/ivan/Unito/survhive/survhive/sksurv_adapters.py:63: UserWarning: all coefficients are zero, consider decreasing alpha.\n",
      "  self.model_ = self.model_.fit(X, y)\n",
      "/usr/local/ivan/Unito/survhive/survhive/sksurv_adapters.py:63: UserWarning: all coefficients are zero, consider decreasing alpha.\n",
      "  self.model_ = self.model_.fit(X, y)\n",
      "/usr/local/ivan/Unito/survhive/survhive/sksurv_adapters.py:63: UserWarning: all coefficients are zero, consider decreasing alpha.\n",
      "  self.model_ = self.model_.fit(X, y)\n",
      "/usr/local/ivan/Unito/survhive/survhive/sksurv_adapters.py:63: UserWarning: all coefficients are zero, consider decreasing alpha.\n",
      "  self.model_ = self.model_.fit(X, y)\n",
      "/usr/local/ivan/Unito/survhive/survhive/sksurv_adapters.py:63: UserWarning: all coefficients are zero, consider decreasing alpha.\n",
      "  self.model_ = self.model_.fit(X, y)\n",
      "/usr/local/ivan/Unito/survhive/survhive/sksurv_adapters.py:63: ConvergenceWarning: Optimization terminated early, you might want to increase the number of iterations (max_iter=100000).\n",
      "  self.model_ = self.model_.fit(X, y)\n",
      "/usr/local/ivan/Unito/survhive/survhive/sksurv_adapters.py:63: ConvergenceWarning: Optimization terminated early, you might want to increase the number of iterations (max_iter=100000).\n",
      "  self.model_ = self.model_.fit(X, y)\n",
      "/usr/local/ivan/Unito/survhive/survhive/sksurv_adapters.py:63: ConvergenceWarning: Optimization terminated early, you might want to increase the number of iterations (max_iter=100000).\n",
      "  self.model_ = self.model_.fit(X, y)\n",
      "/usr/local/ivan/Unito/conda/envs/hive/lib/python3.8/site-packages/sksurv/linear_model/coxph.py:81: RuntimeWarning: divide by zero encountered in divide\n",
      "  y = np.cumsum(n_events / divisor)\n",
      "/usr/local/ivan/Unito/survhive/survhive/sksurv_adapters.py:63: ConvergenceWarning: Optimization terminated early, you might want to increase the number of iterations (max_iter=100000).\n",
      "  self.model_ = self.model_.fit(X, y)\n",
      "/usr/local/ivan/Unito/conda/envs/hive/lib/python3.8/site-packages/sksurv/linear_model/coxph.py:81: RuntimeWarning: invalid value encountered in divide\n",
      "  y = np.cumsum(n_events / divisor)\n",
      "/usr/local/ivan/Unito/survhive/survhive/sksurv_adapters.py:63: ConvergenceWarning: Optimization terminated early, you might want to increase the number of iterations (max_iter=100000).\n",
      "  self.model_ = self.model_.fit(X, y)\n",
      "/usr/local/ivan/Unito/conda/envs/hive/lib/python3.8/site-packages/sksurv/linear_model/coxph.py:81: RuntimeWarning: invalid value encountered in divide\n",
      "  y = np.cumsum(n_events / divisor)\n",
      "/usr/local/ivan/Unito/survhive/survhive/sksurv_adapters.py:63: ConvergenceWarning: Optimization terminated early, you might want to increase the number of iterations (max_iter=100000).\n",
      "  self.model_ = self.model_.fit(X, y)\n",
      "/usr/local/ivan/Unito/conda/envs/hive/lib/python3.8/site-packages/sksurv/linear_model/coxph.py:81: RuntimeWarning: invalid value encountered in divide\n",
      "  y = np.cumsum(n_events / divisor)\n",
      "/usr/local/ivan/Unito/survhive/survhive/sksurv_adapters.py:63: ConvergenceWarning: Optimization terminated early, you might want to increase the number of iterations (max_iter=100000).\n",
      "  self.model_ = self.model_.fit(X, y)\n",
      "/usr/local/ivan/Unito/conda/envs/hive/lib/python3.8/site-packages/sksurv/linear_model/coxph.py:81: RuntimeWarning: invalid value encountered in divide\n",
      "  y = np.cumsum(n_events / divisor)\n",
      "/usr/local/ivan/Unito/survhive/survhive/sksurv_adapters.py:63: ConvergenceWarning: Optimization terminated early, you might want to increase the number of iterations (max_iter=100000).\n",
      "  self.model_ = self.model_.fit(X, y)\n",
      "/usr/local/ivan/Unito/conda/envs/hive/lib/python3.8/site-packages/sksurv/linear_model/coxph.py:81: RuntimeWarning: invalid value encountered in divide\n",
      "  y = np.cumsum(n_events / divisor)\n",
      "/usr/local/ivan/Unito/survhive/survhive/sksurv_adapters.py:63: ConvergenceWarning: Optimization terminated early, you might want to increase the number of iterations (max_iter=100000).\n",
      "  self.model_ = self.model_.fit(X, y)\n",
      "/usr/local/ivan/Unito/survhive/survhive/sksurv_adapters.py:63: ConvergenceWarning: Optimization terminated early, you might want to increase the number of iterations (max_iter=100000).\n",
      "  self.model_ = self.model_.fit(X, y)\n",
      "/usr/local/ivan/Unito/survhive/survhive/sksurv_adapters.py:63: ConvergenceWarning: Optimization terminated early, you might want to increase the number of iterations (max_iter=100000).\n",
      "  self.model_ = self.model_.fit(X, y)\n",
      "/usr/local/ivan/Unito/survhive/survhive/sksurv_adapters.py:63: ConvergenceWarning: Optimization terminated early, you might want to increase the number of iterations (max_iter=100000).\n",
      "  self.model_ = self.model_.fit(X, y)\n",
      "/usr/local/ivan/Unito/survhive/survhive/sksurv_adapters.py:63: UserWarning: all coefficients are zero, consider decreasing alpha.\n",
      "  self.model_ = self.model_.fit(X, y)\n",
      "/usr/local/ivan/Unito/survhive/survhive/sksurv_adapters.py:63: UserWarning: all coefficients are zero, consider decreasing alpha.\n",
      "  self.model_ = self.model_.fit(X, y)\n",
      "/usr/local/ivan/Unito/survhive/survhive/sksurv_adapters.py:63: UserWarning: all coefficients are zero, consider decreasing alpha.\n",
      "  self.model_ = self.model_.fit(X, y)\n",
      "/usr/local/ivan/Unito/survhive/survhive/sksurv_adapters.py:63: UserWarning: all coefficients are zero, consider decreasing alpha.\n",
      "  self.model_ = self.model_.fit(X, y)\n",
      "/usr/local/ivan/Unito/survhive/survhive/sksurv_adapters.py:63: UserWarning: all coefficients are zero, consider decreasing alpha.\n",
      "  self.model_ = self.model_.fit(X, y)\n",
      "/usr/local/ivan/Unito/survhive/survhive/sksurv_adapters.py:63: UserWarning: all coefficients are zero, consider decreasing alpha.\n",
      "  self.model_ = self.model_.fit(X, y)\n",
      "/usr/local/ivan/Unito/survhive/survhive/sksurv_adapters.py:63: UserWarning: all coefficients are zero, consider decreasing alpha.\n",
      "  self.model_ = self.model_.fit(X, y)\n",
      "/usr/local/ivan/Unito/survhive/survhive/sksurv_adapters.py:63: UserWarning: all coefficients are zero, consider decreasing alpha.\n",
      "  self.model_ = self.model_.fit(X, y)\n",
      "/usr/local/ivan/Unito/survhive/survhive/sksurv_adapters.py:63: UserWarning: all coefficients are zero, consider decreasing alpha.\n",
      "  self.model_ = self.model_.fit(X, y)\n",
      "/usr/local/ivan/Unito/survhive/survhive/sksurv_adapters.py:63: UserWarning: all coefficients are zero, consider decreasing alpha.\n",
      "  self.model_ = self.model_.fit(X, y)\n",
      "/usr/local/ivan/Unito/survhive/survhive/sksurv_adapters.py:63: UserWarning: all coefficients are zero, consider decreasing alpha.\n",
      "  self.model_ = self.model_.fit(X, y)\n",
      "/usr/local/ivan/Unito/survhive/survhive/sksurv_adapters.py:63: UserWarning: all coefficients are zero, consider decreasing alpha.\n",
      "  self.model_ = self.model_.fit(X, y)\n",
      "/usr/local/ivan/Unito/survhive/survhive/sksurv_adapters.py:63: UserWarning: all coefficients are zero, consider decreasing alpha.\n",
      "  self.model_ = self.model_.fit(X, y)\n",
      "/usr/local/ivan/Unito/survhive/survhive/sksurv_adapters.py:63: UserWarning: all coefficients are zero, consider decreasing alpha.\n",
      "  self.model_ = self.model_.fit(X, y)\n",
      "/usr/local/ivan/Unito/survhive/survhive/sksurv_adapters.py:63: UserWarning: all coefficients are zero, consider decreasing alpha.\n",
      "  self.model_ = self.model_.fit(X, y)\n",
      "/usr/local/ivan/Unito/survhive/survhive/sksurv_adapters.py:63: UserWarning: all coefficients are zero, consider decreasing alpha.\n",
      "  self.model_ = self.model_.fit(X, y)\n",
      "/usr/local/ivan/Unito/survhive/survhive/sksurv_adapters.py:63: UserWarning: all coefficients are zero, consider decreasing alpha.\n",
      "  self.model_ = self.model_.fit(X, y)\n",
      "/usr/local/ivan/Unito/survhive/survhive/sksurv_adapters.py:63: UserWarning: all coefficients are zero, consider decreasing alpha.\n",
      "  self.model_ = self.model_.fit(X, y)\n",
      "/usr/local/ivan/Unito/survhive/survhive/sksurv_adapters.py:63: UserWarning: all coefficients are zero, consider decreasing alpha.\n",
      "  self.model_ = self.model_.fit(X, y)\n",
      "/usr/local/ivan/Unito/survhive/survhive/sksurv_adapters.py:63: UserWarning: all coefficients are zero, consider decreasing alpha.\n",
      "  self.model_ = self.model_.fit(X, y)\n",
      "/usr/local/ivan/Unito/survhive/survhive/sksurv_adapters.py:63: UserWarning: all coefficients are zero, consider decreasing alpha.\n",
      "  self.model_ = self.model_.fit(X, y)\n",
      "/usr/local/ivan/Unito/survhive/survhive/sksurv_adapters.py:63: UserWarning: all coefficients are zero, consider decreasing alpha.\n",
      "  self.model_ = self.model_.fit(X, y)\n",
      "/usr/local/ivan/Unito/survhive/survhive/sksurv_adapters.py:63: UserWarning: all coefficients are zero, consider decreasing alpha.\n",
      "  self.model_ = self.model_.fit(X, y)\n",
      "/usr/local/ivan/Unito/survhive/survhive/sksurv_adapters.py:63: UserWarning: all coefficients are zero, consider decreasing alpha.\n",
      "  self.model_ = self.model_.fit(X, y)\n",
      "/usr/local/ivan/Unito/survhive/survhive/sksurv_adapters.py:63: ConvergenceWarning: Optimization terminated early, you might want to increase the number of iterations (max_iter=100000).\n",
      "  self.model_ = self.model_.fit(X, y)\n",
      "/usr/local/ivan/Unito/conda/envs/hive/lib/python3.8/site-packages/sksurv/linear_model/coxph.py:64: RuntimeWarning: overflow encountered in exp\n",
      "  risk_score = np.exp(linear_predictor)\n",
      "/usr/local/ivan/Unito/conda/envs/hive/lib/python3.8/site-packages/sksurv/linear_model/coxph.py:75: RuntimeWarning: invalid value encountered in scalar subtract\n",
      "  value -= risk_score[k : (k + d)].sum()\n",
      "/usr/local/ivan/Unito/conda/envs/hive/lib/python3.8/site-packages/sksurv/linear_model/coxph.py:120: RuntimeWarning: overflow encountered in exp\n",
      "  risk_score = np.exp(linear_predictor)\n",
      "/usr/local/ivan/Unito/survhive/survhive/sksurv_adapters.py:63: ConvergenceWarning: Optimization terminated early, you might want to increase the number of iterations (max_iter=100000).\n",
      "  self.model_ = self.model_.fit(X, y)\n",
      "/usr/local/ivan/Unito/conda/envs/hive/lib/python3.8/site-packages/sksurv/linear_model/coxph.py:64: RuntimeWarning: overflow encountered in exp\n",
      "  risk_score = np.exp(linear_predictor)\n",
      "/usr/local/ivan/Unito/conda/envs/hive/lib/python3.8/site-packages/sksurv/linear_model/coxph.py:75: RuntimeWarning: invalid value encountered in scalar subtract\n",
      "  value -= risk_score[k : (k + d)].sum()\n",
      "/usr/local/ivan/Unito/conda/envs/hive/lib/python3.8/site-packages/sksurv/linear_model/coxph.py:120: RuntimeWarning: overflow encountered in exp\n",
      "  risk_score = np.exp(linear_predictor)\n",
      "/usr/local/ivan/Unito/survhive/survhive/sksurv_adapters.py:63: ConvergenceWarning: Optimization terminated early, you might want to increase the number of iterations (max_iter=100000).\n",
      "  self.model_ = self.model_.fit(X, y)\n",
      "/usr/local/ivan/Unito/conda/envs/hive/lib/python3.8/site-packages/sksurv/linear_model/coxph.py:64: RuntimeWarning: overflow encountered in exp\n",
      "  risk_score = np.exp(linear_predictor)\n",
      "/usr/local/ivan/Unito/conda/envs/hive/lib/python3.8/site-packages/sksurv/linear_model/coxph.py:75: RuntimeWarning: invalid value encountered in scalar subtract\n",
      "  value -= risk_score[k : (k + d)].sum()\n",
      "/usr/local/ivan/Unito/conda/envs/hive/lib/python3.8/site-packages/sksurv/linear_model/coxph.py:120: RuntimeWarning: overflow encountered in exp\n",
      "  risk_score = np.exp(linear_predictor)\n",
      "/usr/local/ivan/Unito/survhive/survhive/sksurv_adapters.py:63: ConvergenceWarning: Optimization terminated early, you might want to increase the number of iterations (max_iter=100000).\n",
      "  self.model_ = self.model_.fit(X, y)\n",
      "/usr/local/ivan/Unito/conda/envs/hive/lib/python3.8/site-packages/sksurv/linear_model/coxph.py:64: RuntimeWarning: overflow encountered in exp\n",
      "  risk_score = np.exp(linear_predictor)\n",
      "/usr/local/ivan/Unito/conda/envs/hive/lib/python3.8/site-packages/sksurv/linear_model/coxph.py:75: RuntimeWarning: invalid value encountered in scalar subtract\n",
      "  value -= risk_score[k : (k + d)].sum()\n",
      "/usr/local/ivan/Unito/survhive/survhive/sksurv_adapters.py:63: ConvergenceWarning: Optimization terminated early, you might want to increase the number of iterations (max_iter=100000).\n",
      "  self.model_ = self.model_.fit(X, y)\n",
      "/usr/local/ivan/Unito/conda/envs/hive/lib/python3.8/site-packages/sksurv/linear_model/coxph.py:81: RuntimeWarning: divide by zero encountered in divide\n",
      "  y = np.cumsum(n_events / divisor)\n",
      "/usr/local/ivan/Unito/survhive/survhive/sksurv_adapters.py:63: ConvergenceWarning: Optimization terminated early, you might want to increase the number of iterations (max_iter=100000).\n",
      "  self.model_ = self.model_.fit(X, y)\n",
      "/usr/local/ivan/Unito/conda/envs/hive/lib/python3.8/site-packages/sksurv/linear_model/coxph.py:64: RuntimeWarning: overflow encountered in exp\n",
      "  risk_score = np.exp(linear_predictor)\n",
      "/usr/local/ivan/Unito/conda/envs/hive/lib/python3.8/site-packages/sksurv/linear_model/coxph.py:75: RuntimeWarning: invalid value encountered in scalar subtract\n",
      "  value -= risk_score[k : (k + d)].sum()\n",
      "/usr/local/ivan/Unito/conda/envs/hive/lib/python3.8/site-packages/sksurv/linear_model/coxph.py:120: RuntimeWarning: overflow encountered in exp\n",
      "  risk_score = np.exp(linear_predictor)\n",
      "/usr/local/ivan/Unito/survhive/survhive/sksurv_adapters.py:63: ConvergenceWarning: Optimization terminated early, you might want to increase the number of iterations (max_iter=100000).\n",
      "  self.model_ = self.model_.fit(X, y)\n",
      "/usr/local/ivan/Unito/survhive/survhive/sksurv_adapters.py:63: ConvergenceWarning: Optimization terminated early, you might want to increase the number of iterations (max_iter=100000).\n",
      "  self.model_ = self.model_.fit(X, y)\n",
      "/usr/local/ivan/Unito/conda/envs/hive/lib/python3.8/site-packages/sksurv/linear_model/coxph.py:81: RuntimeWarning: invalid value encountered in divide\n",
      "  y = np.cumsum(n_events / divisor)\n",
      "/usr/local/ivan/Unito/survhive/survhive/sksurv_adapters.py:63: ConvergenceWarning: Optimization terminated early, you might want to increase the number of iterations (max_iter=100000).\n",
      "  self.model_ = self.model_.fit(X, y)\n",
      "/usr/local/ivan/Unito/survhive/survhive/sksurv_adapters.py:63: ConvergenceWarning: Optimization terminated early, you might want to increase the number of iterations (max_iter=100000).\n",
      "  self.model_ = self.model_.fit(X, y)\n",
      "/usr/local/ivan/Unito/conda/envs/hive/lib/python3.8/site-packages/sksurv/linear_model/coxph.py:81: RuntimeWarning: invalid value encountered in divide\n",
      "  y = np.cumsum(n_events / divisor)\n",
      "/usr/local/ivan/Unito/survhive/survhive/sksurv_adapters.py:63: ConvergenceWarning: Optimization terminated early, you might want to increase the number of iterations (max_iter=100000).\n",
      "  self.model_ = self.model_.fit(X, y)\n",
      "/usr/local/ivan/Unito/conda/envs/hive/lib/python3.8/site-packages/sksurv/linear_model/coxph.py:81: RuntimeWarning: divide by zero encountered in divide\n",
      "  y = np.cumsum(n_events / divisor)\n",
      "/usr/local/ivan/Unito/survhive/survhive/sksurv_adapters.py:63: ConvergenceWarning: Optimization terminated early, you might want to increase the number of iterations (max_iter=100000).\n",
      "  self.model_ = self.model_.fit(X, y)\n",
      "/usr/local/ivan/Unito/conda/envs/hive/lib/python3.8/site-packages/sksurv/linear_model/coxph.py:81: RuntimeWarning: invalid value encountered in divide\n",
      "  y = np.cumsum(n_events / divisor)\n",
      "/usr/local/ivan/Unito/survhive/survhive/sksurv_adapters.py:63: ConvergenceWarning: Optimization terminated early, you might want to increase the number of iterations (max_iter=100000).\n",
      "  self.model_ = self.model_.fit(X, y)\n",
      "/usr/local/ivan/Unito/survhive/survhive/sksurv_adapters.py:63: ConvergenceWarning: Optimization terminated early, you might want to increase the number of iterations (max_iter=100000).\n",
      "  self.model_ = self.model_.fit(X, y)\n",
      "/usr/local/ivan/Unito/conda/envs/hive/lib/python3.8/site-packages/sksurv/linear_model/coxph.py:81: RuntimeWarning: divide by zero encountered in divide\n",
      "  y = np.cumsum(n_events / divisor)\n",
      "/usr/local/ivan/Unito/survhive/survhive/sksurv_adapters.py:63: ConvergenceWarning: Optimization terminated early, you might want to increase the number of iterations (max_iter=100000).\n",
      "  self.model_ = self.model_.fit(X, y)\n",
      "/usr/local/ivan/Unito/survhive/survhive/sksurv_adapters.py:63: ConvergenceWarning: Optimization terminated early, you might want to increase the number of iterations (max_iter=100000).\n",
      "  self.model_ = self.model_.fit(X, y)\n",
      "/usr/local/ivan/Unito/conda/envs/hive/lib/python3.8/site-packages/sksurv/linear_model/coxph.py:81: RuntimeWarning: invalid value encountered in divide\n",
      "  y = np.cumsum(n_events / divisor)\n",
      "/usr/local/ivan/Unito/survhive/survhive/sksurv_adapters.py:63: ConvergenceWarning: Optimization terminated early, you might want to increase the number of iterations (max_iter=100000).\n",
      "  self.model_ = self.model_.fit(X, y)\n",
      "/usr/local/ivan/Unito/survhive/survhive/sksurv_adapters.py:63: ConvergenceWarning: Optimization terminated early, you might want to increase the number of iterations (max_iter=100000).\n",
      "  self.model_ = self.model_.fit(X, y)\n",
      "/usr/local/ivan/Unito/conda/envs/hive/lib/python3.8/site-packages/sklearn/model_selection/_validation.py:425: FitFailedWarning: \n",
      "289 fits failed out of a total of 1190.\n",
      "The score on these train-test partitions for these parameters will be set to nan.\n",
      "If these failures are not expected, you can try to debug them by setting error_score='raise'.\n",
      "\n",
      "Below are more details about the failures:\n",
      "--------------------------------------------------------------------------------\n",
      "289 fits failed with the following error:\n",
      "Traceback (most recent call last):\n",
      "  File \"/usr/local/ivan/Unito/conda/envs/hive/lib/python3.8/site-packages/sklearn/model_selection/_validation.py\", line 729, in _fit_and_score\n",
      "    estimator.fit(X_train, y_train, **fit_params)\n",
      "  File \"/usr/local/ivan/Unito/survhive/survhive/sksurv_adapters.py\", line 63, in fit\n",
      "    self.model_ = self.model_.fit(X, y)\n",
      "  File \"/usr/local/ivan/Unito/conda/envs/hive/lib/python3.8/site-packages/sksurv/linear_model/coxnet.py\", line 269, in fit\n",
      "    coef, alphas, deviance_ratio, n_iter = call_fit_coxnet(\n",
      "  File \"sksurv/linear_model/_coxnet.pyx\", line 68, in sksurv.linear_model._coxnet.call_fit_coxnet\n",
      "ArithmeticError: Numerical error, because weights are too large. Consider increasing alpha.\n",
      "\n",
      "  warnings.warn(some_fits_failed_message, FitFailedWarning)\n",
      "/usr/local/ivan/Unito/conda/envs/hive/lib/python3.8/site-packages/sklearn/model_selection/_search.py:979: UserWarning: One or more of the test scores are non-finite: [       nan        nan        nan        nan        nan        nan\n",
      "        nan        nan        nan        nan        nan        nan\n",
      "        nan        nan        nan        nan        nan        nan\n",
      "        nan        nan        nan        nan        nan        nan\n",
      "        nan        nan        nan        nan        nan        nan\n",
      "        nan        nan        nan        nan        nan        nan\n",
      "        nan        nan 0.77525045 0.78137485 0.78125926 0.7786581\n",
      " 0.7473556  0.75839804 0.77321961 0.77793501 0.77797637 0.7709316\n",
      " 0.76589501 0.75768248 0.77020753 0.77034661 0.77607776 0.7647638\n",
      " 0.75529188 0.74144746 0.75525468 0.77058815 0.77158571 0.76913395\n",
      " 0.74541978 0.72976809 0.72125167 0.76040534 0.77069028 0.77038405\n",
      " 0.76000985 0.72882635 0.70890621 0.70039365 0.76006765 0.77002997\n",
      " 0.76639204 0.74649436 0.71220092 0.69156777 0.68627853 0.76030739\n",
      " 0.76833042 0.7660882  0.7322354  0.69875045 0.6791511  0.67346352\n",
      " 0.76017638 0.76088673 0.76459328 0.72586126 0.68771044 0.67638901\n",
      " 0.66842193 0.76048056 0.76071091 0.75917141 0.7151272  0.67599378\n",
      " 0.66676764 0.64747806 0.75790687 0.7561214  0.72754189 0.6780478\n",
      " 0.61881253 0.56713882 0.51232327 0.74924318 0.7484758  0.71525607\n",
      " 0.64914396 0.50291733 0.5        0.5        0.74612696 0.72264255\n",
      " 0.68830587 0.50291733 0.5        0.5        0.5       ]\n",
      "  warnings.warn(\n"
     ]
    },
    {
     "data": {
      "text/plain": [
       "(0.5677570093457944, {'alpha': 0.02, 'l1_ratio': 0.75})"
      ]
     },
     "execution_count": 23,
     "metadata": {},
     "output_type": "execute_result"
    }
   ],
   "source": [
    "opt_coxnet, opt_coxnet_params, opt_coxnet_search = optimize(survhive.CoxNet(rng_seed=seed), X_train, y_train,\n",
    "                                                           n_jobs=n_cpus)\n",
    "opt_coxnet.score(X_test, y_test), opt_coxnet_params"
   ]
  },
  {
   "cell_type": "markdown",
   "id": "03040b24-90a4-4b9e-9325-bbc3c41c55cb",
   "metadata": {},
   "source": [
    "## Test GrBSA"
   ]
  },
  {
   "cell_type": "code",
   "execution_count": 22,
   "id": "301beb87-b5b7-4619-a05a-ffb0650ff3a8",
   "metadata": {},
   "outputs": [
    {
     "data": {
      "text/html": [
       "<style>#sk-container-id-2 {color: black;}#sk-container-id-2 pre{padding: 0;}#sk-container-id-2 div.sk-toggleable {background-color: white;}#sk-container-id-2 label.sk-toggleable__label {cursor: pointer;display: block;width: 100%;margin-bottom: 0;padding: 0.3em;box-sizing: border-box;text-align: center;}#sk-container-id-2 label.sk-toggleable__label-arrow:before {content: \"▸\";float: left;margin-right: 0.25em;color: #696969;}#sk-container-id-2 label.sk-toggleable__label-arrow:hover:before {color: black;}#sk-container-id-2 div.sk-estimator:hover label.sk-toggleable__label-arrow:before {color: black;}#sk-container-id-2 div.sk-toggleable__content {max-height: 0;max-width: 0;overflow: hidden;text-align: left;background-color: #f0f8ff;}#sk-container-id-2 div.sk-toggleable__content pre {margin: 0.2em;color: black;border-radius: 0.25em;background-color: #f0f8ff;}#sk-container-id-2 input.sk-toggleable__control:checked~div.sk-toggleable__content {max-height: 200px;max-width: 100%;overflow: auto;}#sk-container-id-2 input.sk-toggleable__control:checked~label.sk-toggleable__label-arrow:before {content: \"▾\";}#sk-container-id-2 div.sk-estimator input.sk-toggleable__control:checked~label.sk-toggleable__label {background-color: #d4ebff;}#sk-container-id-2 div.sk-label input.sk-toggleable__control:checked~label.sk-toggleable__label {background-color: #d4ebff;}#sk-container-id-2 input.sk-hidden--visually {border: 0;clip: rect(1px 1px 1px 1px);clip: rect(1px, 1px, 1px, 1px);height: 1px;margin: -1px;overflow: hidden;padding: 0;position: absolute;width: 1px;}#sk-container-id-2 div.sk-estimator {font-family: monospace;background-color: #f0f8ff;border: 1px dotted black;border-radius: 0.25em;box-sizing: border-box;margin-bottom: 0.5em;}#sk-container-id-2 div.sk-estimator:hover {background-color: #d4ebff;}#sk-container-id-2 div.sk-parallel-item::after {content: \"\";width: 100%;border-bottom: 1px solid gray;flex-grow: 1;}#sk-container-id-2 div.sk-label:hover label.sk-toggleable__label {background-color: #d4ebff;}#sk-container-id-2 div.sk-serial::before {content: \"\";position: absolute;border-left: 1px solid gray;box-sizing: border-box;top: 0;bottom: 0;left: 50%;z-index: 0;}#sk-container-id-2 div.sk-serial {display: flex;flex-direction: column;align-items: center;background-color: white;padding-right: 0.2em;padding-left: 0.2em;position: relative;}#sk-container-id-2 div.sk-item {position: relative;z-index: 1;}#sk-container-id-2 div.sk-parallel {display: flex;align-items: stretch;justify-content: center;background-color: white;position: relative;}#sk-container-id-2 div.sk-item::before, #sk-container-id-2 div.sk-parallel-item::before {content: \"\";position: absolute;border-left: 1px solid gray;box-sizing: border-box;top: 0;bottom: 0;left: 50%;z-index: -1;}#sk-container-id-2 div.sk-parallel-item {display: flex;flex-direction: column;z-index: 1;position: relative;background-color: white;}#sk-container-id-2 div.sk-parallel-item:first-child::after {align-self: flex-end;width: 50%;}#sk-container-id-2 div.sk-parallel-item:last-child::after {align-self: flex-start;width: 50%;}#sk-container-id-2 div.sk-parallel-item:only-child::after {width: 0;}#sk-container-id-2 div.sk-dashed-wrapped {border: 1px dashed gray;margin: 0 0.4em 0.5em 0.4em;box-sizing: border-box;padding-bottom: 0.4em;background-color: white;}#sk-container-id-2 div.sk-label label {font-family: monospace;font-weight: bold;display: inline-block;line-height: 1.2em;}#sk-container-id-2 div.sk-label-container {text-align: center;}#sk-container-id-2 div.sk-container {/* jupyter's `normalize.less` sets `[hidden] { display: none; }` but bootstrap.min.css set `[hidden] { display: none !important; }` so we also need the `!important` here to be able to override the default hidden behavior on the sphinx rendered scikit-learn.org. See: https://github.com/scikit-learn/scikit-learn/issues/21755 */display: inline-block !important;position: relative;}#sk-container-id-2 div.sk-text-repr-fallback {display: none;}</style><div id=\"sk-container-id-2\" class=\"sk-top-container\"><div class=\"sk-text-repr-fallback\"><pre>GrBoostSA(rng_seed=2402, n_estimators=100, max_depth=None, min_samples_split=0.1, min_samples_leaf=0.05, validation_fraction=0.1, patience=5)</pre><b>In a Jupyter environment, please rerun this cell to show the HTML representation or trust the notebook. <br />On GitHub, the HTML representation is unable to render, please try loading this page with nbviewer.org.</b></div><div class=\"sk-container\" hidden><div class=\"sk-item\"><div class=\"sk-estimator sk-toggleable\"><input class=\"sk-toggleable__control sk-hidden--visually\" id=\"sk-estimator-id-2\" type=\"checkbox\" checked><label for=\"sk-estimator-id-2\" class=\"sk-toggleable__label sk-toggleable__label-arrow\">GrBoostSA</label><div class=\"sk-toggleable__content\"><pre>GrBoostSA(rng_seed=2402, n_estimators=100, max_depth=None, min_samples_split=0.1, min_samples_leaf=0.05, validation_fraction=0.1, patience=5)</pre></div></div></div></div></div>"
      ],
      "text/plain": [
       "GrBoostSA(rng_seed=2402, n_estimators=100, max_depth=None, min_samples_split=0.1, min_samples_leaf=0.05, validation_fraction=0.1, patience=5)"
      ]
     },
     "execution_count": 22,
     "metadata": {},
     "output_type": "execute_result"
    }
   ],
   "source": [
    "grbsa=survhive.GrBoostSA(rng_seed=seed)\n",
    "grbsa"
   ]
  },
  {
   "cell_type": "code",
   "execution_count": 23,
   "id": "65fcadf5-5da4-45c0-afb6-fa6ffeb8e3d7",
   "metadata": {},
   "outputs": [
    {
     "data": {
      "text/plain": [
       "0.49065420560747663"
      ]
     },
     "execution_count": 23,
     "metadata": {},
     "output_type": "execute_result"
    }
   ],
   "source": [
    "grbsa.fit(X_train,y_train)\n",
    "grbsa.score(X_test,y_test)"
   ]
  },
  {
   "cell_type": "code",
   "execution_count": 24,
   "id": "95ae23bb-1fb8-40d4-8fd5-d31191f4fdce",
   "metadata": {},
   "outputs": [
    {
     "data": {
      "text/plain": [
       "19"
      ]
     },
     "execution_count": 24,
     "metadata": {},
     "output_type": "execute_result"
    }
   ],
   "source": [
    "grbsa.model_.n_estimators_"
   ]
  },
  {
   "cell_type": "code",
   "execution_count": 25,
   "id": "47ef3f41-cd0b-4ee5-8e7a-efc1e084819a",
   "metadata": {},
   "outputs": [
    {
     "data": {
      "text/plain": [
       "{'n_estimators': [100],\n",
       " 'max_depth': [None],\n",
       " 'min_samples_split': [0.1, 0.05],\n",
       " 'min_samples_leaf': [0.05, 0.02, 0.01],\n",
       " 'patience': [None, 5]}"
      ]
     },
     "execution_count": 25,
     "metadata": {},
     "output_type": "execute_result"
    }
   ],
   "source": [
    "grbsa_grid = grbsa.get_parameter_grid()\n",
    "grbsa_grid['n_estimators']=[100]\n",
    "grbsa_grid['max_depth']=[None]\n",
    "#grbsa_grid['validation_fraction']=[0.1,0.3,0.2]\n",
    "grbsa_grid['min_samples_split']=[0.1,0.05]\n",
    "grbsa_grid['min_samples_leaf']=[0.05, 0.02, 0.01]\n",
    "#grbsa_grid['patience']=[5]\n",
    "grbsa_grid"
   ]
  },
  {
   "cell_type": "code",
   "execution_count": 26,
   "id": "2d2041aa-986e-455b-9dab-cbf6ae5bd897",
   "metadata": {},
   "outputs": [
    {
     "data": {
      "text/plain": [
       "{'c-index-antolini': <function survhive.metrics.concordance_index_antolini_scorer(estimator, X, y, return_all=False)>,\n",
       " 'c-index-quartiles': <function survhive.metrics.make_survival_scorer.<locals>.scorer(estimator, X, y)>,\n",
       " 'roc-auc-quartiles': <function survhive.metrics.make_survival_scorer.<locals>.scorer(estimator, X, y)>,\n",
       " 'neg-brier-quartiles': <function survhive.metrics.make_survival_scorer.<locals>.scorer(estimator, X, y)>}"
      ]
     },
     "execution_count": 26,
     "metadata": {},
     "output_type": "execute_result"
    }
   ],
   "source": [
    "scorers=survhive.metrics._SCORERS\n",
    "scorers"
   ]
  },
  {
   "cell_type": "code",
   "execution_count": 27,
   "id": "4f32b24d-9a95-4861-9ad2-a5a521d7bacf",
   "metadata": {},
   "outputs": [
    {
     "data": {
      "text/plain": [
       "(0.9958945548833189,\n",
       " 0.6845794392523364,\n",
       " {'max_depth': None,\n",
       "  'min_samples_leaf': 0.01,\n",
       "  'min_samples_split': 0.1,\n",
       "  'n_estimators': 100,\n",
       "  'patience': None})"
      ]
     },
     "execution_count": 27,
     "metadata": {},
     "output_type": "execute_result"
    }
   ],
   "source": [
    "opt_rsf, opt_rsf_params, opt_rsf_search = optimize(survhive.GrBoostSA(rng_seed=seed), X_train, y_train, \n",
    "                                                   user_grid=grbsa_grid, scoring=scorers, \n",
    "                                                   refit='c-index-antolini',\n",
    "                                                   #refit='neg-brier-quartiles',\n",
    "                                                   n_jobs=n_cpus)\n",
    "#opt_rsf, opt_rsf_params, opt_rsf_search = optimize(survhive.RSF(rng_seed=2309), X_train, y_train, n_jobs=4)\n",
    "opt_rsf.score(X_train, y_train), opt_rsf.score(X_test, y_test), opt_rsf_params"
   ]
  },
  {
   "cell_type": "code",
   "execution_count": 28,
   "id": "6a85e021-7fa4-4b19-90a9-faf24bed2133",
   "metadata": {
    "scrolled": true
   },
   "outputs": [
    {
     "data": {
      "text/html": [
       "<div>\n",
       "<style scoped>\n",
       "    .dataframe tbody tr th:only-of-type {\n",
       "        vertical-align: middle;\n",
       "    }\n",
       "\n",
       "    .dataframe tbody tr th {\n",
       "        vertical-align: top;\n",
       "    }\n",
       "\n",
       "    .dataframe thead th {\n",
       "        text-align: right;\n",
       "    }\n",
       "</style>\n",
       "<table border=\"1\" class=\"dataframe\">\n",
       "  <thead>\n",
       "    <tr style=\"text-align: right;\">\n",
       "      <th></th>\n",
       "      <th>rank_test_c-index-antolini</th>\n",
       "      <th>mean_test_c-index-antolini</th>\n",
       "      <th>std_test_c-index-antolini</th>\n",
       "      <th>rank_test_c-index-quartiles</th>\n",
       "      <th>mean_test_c-index-quartiles</th>\n",
       "      <th>std_test_c-index-quartiles</th>\n",
       "      <th>rank_test_roc-auc-quartiles</th>\n",
       "      <th>mean_test_roc-auc-quartiles</th>\n",
       "      <th>std_test_roc-auc-quartiles</th>\n",
       "      <th>rank_test_neg-brier-quartiles</th>\n",
       "      <th>mean_test_neg-brier-quartiles</th>\n",
       "      <th>std_test_neg-brier-quartiles</th>\n",
       "      <th>params</th>\n",
       "      <th>mean_fit_time</th>\n",
       "      <th>std_fit_time</th>\n",
       "    </tr>\n",
       "  </thead>\n",
       "  <tbody>\n",
       "    <tr>\n",
       "      <th>8</th>\n",
       "      <td>1</td>\n",
       "      <td>0.677028</td>\n",
       "      <td>0.082136</td>\n",
       "      <td>2</td>\n",
       "      <td>0.66808</td>\n",
       "      <td>0.080758</td>\n",
       "      <td>1</td>\n",
       "      <td>0.699151</td>\n",
       "      <td>0.144763</td>\n",
       "      <td>9</td>\n",
       "      <td>-0.11809</td>\n",
       "      <td>0.018454</td>\n",
       "      <td>{'max_depth': None, 'min_samples_leaf': 0.01, ...</td>\n",
       "      <td>0.954163</td>\n",
       "      <td>0.12268</td>\n",
       "    </tr>\n",
       "    <tr>\n",
       "      <th>7</th>\n",
       "      <td>2</td>\n",
       "      <td>0.676703</td>\n",
       "      <td>0.069577</td>\n",
       "      <td>1</td>\n",
       "      <td>0.672184</td>\n",
       "      <td>0.07159</td>\n",
       "      <td>2</td>\n",
       "      <td>0.69882</td>\n",
       "      <td>0.128825</td>\n",
       "      <td>3</td>\n",
       "      <td>-0.113248</td>\n",
       "      <td>0.00911</td>\n",
       "      <td>{'max_depth': None, 'min_samples_leaf': 0.02, ...</td>\n",
       "      <td>0.090216</td>\n",
       "      <td>0.047694</td>\n",
       "    </tr>\n",
       "    <tr>\n",
       "      <th>0</th>\n",
       "      <td>3</td>\n",
       "      <td>0.671129</td>\n",
       "      <td>0.09189</td>\n",
       "      <td>3</td>\n",
       "      <td>0.658716</td>\n",
       "      <td>0.090521</td>\n",
       "      <td>3</td>\n",
       "      <td>0.693279</td>\n",
       "      <td>0.134353</td>\n",
       "      <td>1</td>\n",
       "      <td>-0.112672</td>\n",
       "      <td>0.012165</td>\n",
       "      <td>{'max_depth': None, 'min_samples_leaf': 0.05, ...</td>\n",
       "      <td>0.592562</td>\n",
       "      <td>0.055772</td>\n",
       "    </tr>\n",
       "    <tr>\n",
       "      <th>2</th>\n",
       "      <td>3</td>\n",
       "      <td>0.671129</td>\n",
       "      <td>0.09189</td>\n",
       "      <td>3</td>\n",
       "      <td>0.658716</td>\n",
       "      <td>0.090521</td>\n",
       "      <td>3</td>\n",
       "      <td>0.693279</td>\n",
       "      <td>0.134353</td>\n",
       "      <td>1</td>\n",
       "      <td>-0.112672</td>\n",
       "      <td>0.012165</td>\n",
       "      <td>{'max_depth': None, 'min_samples_leaf': 0.05, ...</td>\n",
       "      <td>0.534101</td>\n",
       "      <td>0.031037</td>\n",
       "    </tr>\n",
       "    <tr>\n",
       "      <th>10</th>\n",
       "      <td>5</td>\n",
       "      <td>0.660499</td>\n",
       "      <td>0.111307</td>\n",
       "      <td>6</td>\n",
       "      <td>0.651099</td>\n",
       "      <td>0.111444</td>\n",
       "      <td>8</td>\n",
       "      <td>0.679448</td>\n",
       "      <td>0.19137</td>\n",
       "      <td>12</td>\n",
       "      <td>-0.122967</td>\n",
       "      <td>0.028876</td>\n",
       "      <td>{'max_depth': None, 'min_samples_leaf': 0.01, ...</td>\n",
       "      <td>1.026682</td>\n",
       "      <td>0.075061</td>\n",
       "    </tr>\n",
       "    <tr>\n",
       "      <th>5</th>\n",
       "      <td>6</td>\n",
       "      <td>0.659531</td>\n",
       "      <td>0.091021</td>\n",
       "      <td>5</td>\n",
       "      <td>0.652494</td>\n",
       "      <td>0.09042</td>\n",
       "      <td>7</td>\n",
       "      <td>0.680547</td>\n",
       "      <td>0.137951</td>\n",
       "      <td>6</td>\n",
       "      <td>-0.11517</td>\n",
       "      <td>0.010628</td>\n",
       "      <td>{'max_depth': None, 'min_samples_leaf': 0.02, ...</td>\n",
       "      <td>0.077995</td>\n",
       "      <td>0.042738</td>\n",
       "    </tr>\n",
       "    <tr>\n",
       "      <th>4</th>\n",
       "      <td>7</td>\n",
       "      <td>0.658274</td>\n",
       "      <td>0.083578</td>\n",
       "      <td>7</td>\n",
       "      <td>0.649863</td>\n",
       "      <td>0.080968</td>\n",
       "      <td>5</td>\n",
       "      <td>0.687135</td>\n",
       "      <td>0.143016</td>\n",
       "      <td>10</td>\n",
       "      <td>-0.118254</td>\n",
       "      <td>0.016664</td>\n",
       "      <td>{'max_depth': None, 'min_samples_leaf': 0.02, ...</td>\n",
       "      <td>0.798387</td>\n",
       "      <td>0.087022</td>\n",
       "    </tr>\n",
       "    <tr>\n",
       "      <th>6</th>\n",
       "      <td>8</td>\n",
       "      <td>0.649311</td>\n",
       "      <td>0.077607</td>\n",
       "      <td>8</td>\n",
       "      <td>0.63892</td>\n",
       "      <td>0.07203</td>\n",
       "      <td>6</td>\n",
       "      <td>0.686307</td>\n",
       "      <td>0.138536</td>\n",
       "      <td>11</td>\n",
       "      <td>-0.11856</td>\n",
       "      <td>0.021699</td>\n",
       "      <td>{'max_depth': None, 'min_samples_leaf': 0.02, ...</td>\n",
       "      <td>0.837493</td>\n",
       "      <td>0.079296</td>\n",
       "    </tr>\n",
       "    <tr>\n",
       "      <th>9</th>\n",
       "      <td>9</td>\n",
       "      <td>0.636623</td>\n",
       "      <td>0.109693</td>\n",
       "      <td>9</td>\n",
       "      <td>0.62974</td>\n",
       "      <td>0.100876</td>\n",
       "      <td>11</td>\n",
       "      <td>0.65415</td>\n",
       "      <td>0.112411</td>\n",
       "      <td>7</td>\n",
       "      <td>-0.116309</td>\n",
       "      <td>0.008674</td>\n",
       "      <td>{'max_depth': None, 'min_samples_leaf': 0.01, ...</td>\n",
       "      <td>0.089184</td>\n",
       "      <td>0.062927</td>\n",
       "    </tr>\n",
       "    <tr>\n",
       "      <th>1</th>\n",
       "      <td>10</td>\n",
       "      <td>0.636108</td>\n",
       "      <td>0.112148</td>\n",
       "      <td>11</td>\n",
       "      <td>0.626085</td>\n",
       "      <td>0.104453</td>\n",
       "      <td>9</td>\n",
       "      <td>0.658907</td>\n",
       "      <td>0.132478</td>\n",
       "      <td>4</td>\n",
       "      <td>-0.114093</td>\n",
       "      <td>0.010116</td>\n",
       "      <td>{'max_depth': None, 'min_samples_leaf': 0.05, ...</td>\n",
       "      <td>0.067662</td>\n",
       "      <td>0.061731</td>\n",
       "    </tr>\n",
       "    <tr>\n",
       "      <th>3</th>\n",
       "      <td>10</td>\n",
       "      <td>0.636108</td>\n",
       "      <td>0.112148</td>\n",
       "      <td>11</td>\n",
       "      <td>0.626085</td>\n",
       "      <td>0.104453</td>\n",
       "      <td>9</td>\n",
       "      <td>0.658907</td>\n",
       "      <td>0.132478</td>\n",
       "      <td>4</td>\n",
       "      <td>-0.114093</td>\n",
       "      <td>0.010116</td>\n",
       "      <td>{'max_depth': None, 'min_samples_leaf': 0.05, ...</td>\n",
       "      <td>0.060876</td>\n",
       "      <td>0.050721</td>\n",
       "    </tr>\n",
       "    <tr>\n",
       "      <th>11</th>\n",
       "      <td>12</td>\n",
       "      <td>0.63571</td>\n",
       "      <td>0.095436</td>\n",
       "      <td>10</td>\n",
       "      <td>0.628474</td>\n",
       "      <td>0.095689</td>\n",
       "      <td>12</td>\n",
       "      <td>0.651185</td>\n",
       "      <td>0.139698</td>\n",
       "      <td>8</td>\n",
       "      <td>-0.117669</td>\n",
       "      <td>0.012567</td>\n",
       "      <td>{'max_depth': None, 'min_samples_leaf': 0.01, ...</td>\n",
       "      <td>0.100818</td>\n",
       "      <td>0.050577</td>\n",
       "    </tr>\n",
       "  </tbody>\n",
       "</table>\n",
       "</div>"
      ],
      "text/plain": [
       "   rank_test_c-index-antolini mean_test_c-index-antolini  \\\n",
       "8                           1                   0.677028   \n",
       "7                           2                   0.676703   \n",
       "0                           3                   0.671129   \n",
       "2                           3                   0.671129   \n",
       "10                          5                   0.660499   \n",
       "5                           6                   0.659531   \n",
       "4                           7                   0.658274   \n",
       "6                           8                   0.649311   \n",
       "9                           9                   0.636623   \n",
       "1                          10                   0.636108   \n",
       "3                          10                   0.636108   \n",
       "11                         12                    0.63571   \n",
       "\n",
       "   std_test_c-index-antolini rank_test_c-index-quartiles  \\\n",
       "8                   0.082136                           2   \n",
       "7                   0.069577                           1   \n",
       "0                    0.09189                           3   \n",
       "2                    0.09189                           3   \n",
       "10                  0.111307                           6   \n",
       "5                   0.091021                           5   \n",
       "4                   0.083578                           7   \n",
       "6                   0.077607                           8   \n",
       "9                   0.109693                           9   \n",
       "1                   0.112148                          11   \n",
       "3                   0.112148                          11   \n",
       "11                  0.095436                          10   \n",
       "\n",
       "   mean_test_c-index-quartiles std_test_c-index-quartiles  \\\n",
       "8                      0.66808                   0.080758   \n",
       "7                     0.672184                    0.07159   \n",
       "0                     0.658716                   0.090521   \n",
       "2                     0.658716                   0.090521   \n",
       "10                    0.651099                   0.111444   \n",
       "5                     0.652494                    0.09042   \n",
       "4                     0.649863                   0.080968   \n",
       "6                      0.63892                    0.07203   \n",
       "9                      0.62974                   0.100876   \n",
       "1                     0.626085                   0.104453   \n",
       "3                     0.626085                   0.104453   \n",
       "11                    0.628474                   0.095689   \n",
       "\n",
       "   rank_test_roc-auc-quartiles mean_test_roc-auc-quartiles  \\\n",
       "8                            1                    0.699151   \n",
       "7                            2                     0.69882   \n",
       "0                            3                    0.693279   \n",
       "2                            3                    0.693279   \n",
       "10                           8                    0.679448   \n",
       "5                            7                    0.680547   \n",
       "4                            5                    0.687135   \n",
       "6                            6                    0.686307   \n",
       "9                           11                     0.65415   \n",
       "1                            9                    0.658907   \n",
       "3                            9                    0.658907   \n",
       "11                          12                    0.651185   \n",
       "\n",
       "   std_test_roc-auc-quartiles rank_test_neg-brier-quartiles  \\\n",
       "8                    0.144763                             9   \n",
       "7                    0.128825                             3   \n",
       "0                    0.134353                             1   \n",
       "2                    0.134353                             1   \n",
       "10                    0.19137                            12   \n",
       "5                    0.137951                             6   \n",
       "4                    0.143016                            10   \n",
       "6                    0.138536                            11   \n",
       "9                    0.112411                             7   \n",
       "1                    0.132478                             4   \n",
       "3                    0.132478                             4   \n",
       "11                   0.139698                             8   \n",
       "\n",
       "   mean_test_neg-brier-quartiles std_test_neg-brier-quartiles  \\\n",
       "8                       -0.11809                     0.018454   \n",
       "7                      -0.113248                      0.00911   \n",
       "0                      -0.112672                     0.012165   \n",
       "2                      -0.112672                     0.012165   \n",
       "10                     -0.122967                     0.028876   \n",
       "5                       -0.11517                     0.010628   \n",
       "4                      -0.118254                     0.016664   \n",
       "6                       -0.11856                     0.021699   \n",
       "9                      -0.116309                     0.008674   \n",
       "1                      -0.114093                     0.010116   \n",
       "3                      -0.114093                     0.010116   \n",
       "11                     -0.117669                     0.012567   \n",
       "\n",
       "                                               params mean_fit_time  \\\n",
       "8   {'max_depth': None, 'min_samples_leaf': 0.01, ...      0.954163   \n",
       "7   {'max_depth': None, 'min_samples_leaf': 0.02, ...      0.090216   \n",
       "0   {'max_depth': None, 'min_samples_leaf': 0.05, ...      0.592562   \n",
       "2   {'max_depth': None, 'min_samples_leaf': 0.05, ...      0.534101   \n",
       "10  {'max_depth': None, 'min_samples_leaf': 0.01, ...      1.026682   \n",
       "5   {'max_depth': None, 'min_samples_leaf': 0.02, ...      0.077995   \n",
       "4   {'max_depth': None, 'min_samples_leaf': 0.02, ...      0.798387   \n",
       "6   {'max_depth': None, 'min_samples_leaf': 0.02, ...      0.837493   \n",
       "9   {'max_depth': None, 'min_samples_leaf': 0.01, ...      0.089184   \n",
       "1   {'max_depth': None, 'min_samples_leaf': 0.05, ...      0.067662   \n",
       "3   {'max_depth': None, 'min_samples_leaf': 0.05, ...      0.060876   \n",
       "11  {'max_depth': None, 'min_samples_leaf': 0.01, ...      0.100818   \n",
       "\n",
       "   std_fit_time  \n",
       "8       0.12268  \n",
       "7      0.047694  \n",
       "0      0.055772  \n",
       "2      0.031037  \n",
       "10     0.075061  \n",
       "5      0.042738  \n",
       "4      0.087022  \n",
       "6      0.079296  \n",
       "9      0.062927  \n",
       "1      0.061731  \n",
       "3      0.050721  \n",
       "11     0.050577  "
      ]
     },
     "execution_count": 28,
     "metadata": {},
     "output_type": "execute_result"
    }
   ],
   "source": [
    "survhive.get_model_scores_df(opt_rsf_search)"
   ]
  }
 ],
 "metadata": {
  "kernelspec": {
   "display_name": "Python 3 (ipykernel)",
   "language": "python",
   "name": "python3"
  },
  "language_info": {
   "codemirror_mode": {
    "name": "ipython",
    "version": 3
   },
   "file_extension": ".py",
   "mimetype": "text/x-python",
   "name": "python",
   "nbconvert_exporter": "python",
   "pygments_lexer": "ipython3",
   "version": "3.8.17"
  }
 },
 "nbformat": 4,
 "nbformat_minor": 5
}
