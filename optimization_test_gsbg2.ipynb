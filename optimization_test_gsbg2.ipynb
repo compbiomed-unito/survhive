{
 "cells": [
  {
   "cell_type": "markdown",
   "id": "2720cf8d-1d0a-49fe-9a39-dfdebabecbbc",
   "metadata": {},
   "source": [
    "# Test on GSBG2"
   ]
  },
  {
   "cell_type": "code",
   "execution_count": 1,
   "id": "387d1412",
   "metadata": {},
   "outputs": [],
   "source": [
    "import numpy"
   ]
  },
  {
   "cell_type": "code",
   "execution_count": 2,
   "id": "c4083da7",
   "metadata": {},
   "outputs": [],
   "source": [
    "import sklearn"
   ]
  },
  {
   "cell_type": "code",
   "execution_count": 3,
   "id": "5f7d6271",
   "metadata": {},
   "outputs": [],
   "source": [
    "import survwrap"
   ]
  },
  {
   "cell_type": "code",
   "execution_count": 4,
   "id": "586755ed-9074-4886-815d-4fa921194dec",
   "metadata": {},
   "outputs": [
    {
     "data": {
      "text/plain": [
       "('flchain', 'gbsg2', 'metabric', 'support')"
      ]
     },
     "execution_count": 4,
     "metadata": {},
     "output_type": "execute_result"
    }
   ],
   "source": [
    "survwrap.list_available_datasets()"
   ]
  },
  {
   "cell_type": "code",
   "execution_count": 5,
   "id": "ea5712cd-7025-4064-ab73-40d4ffdca6fa",
   "metadata": {},
   "outputs": [
    {
     "name": "stdout",
     "output_type": "stream",
     "text": [
      "<class 'pandas.core.frame.DataFrame'>\n",
      "Index: 3668 entries, 0 to 685\n",
      "Data columns (total 10 columns):\n",
      " #   Column  Non-Null Count  Dtype  \n",
      "---  ------  --------------  -----  \n",
      " 0   age     3668 non-null   int64  \n",
      " 1   meno    3668 non-null   int64  \n",
      " 2   size    3668 non-null   int64  \n",
      " 3   grade   3668 non-null   int64  \n",
      " 4   nodes   3668 non-null   int64  \n",
      " 5   pgr     3668 non-null   int64  \n",
      " 6   er      3668 non-null   int64  \n",
      " 7   hormon  3668 non-null   int64  \n",
      " 8   time    3668 non-null   float64\n",
      " 9   event   3668 non-null   int64  \n",
      "dtypes: float64(1), int64(9)\n",
      "memory usage: 315.2 KB\n"
     ]
    }
   ],
   "source": [
    "mb_df = survwrap.get_data('gbsg2')\n",
    "mb_df.dataframe.info()"
   ]
  },
  {
   "cell_type": "code",
   "execution_count": 6,
   "id": "210bf36c",
   "metadata": {},
   "outputs": [
    {
     "data": {
      "text/plain": [
       "((3668, 8), (3668,))"
      ]
     },
     "execution_count": 6,
     "metadata": {},
     "output_type": "execute_result"
    }
   ],
   "source": [
    "X, y = mb_df.get_X_y()\n",
    "X.shape, y.shape"
   ]
  },
  {
   "cell_type": "code",
   "execution_count": 7,
   "id": "04dacc43-638e-41d4-a0c8-a8e598c66400",
   "metadata": {},
   "outputs": [
    {
     "data": {
      "text/plain": [
       "array([(False, 2921.00006199), (False, 1938.99997735),\n",
       "       (False, 3018.00008678), (False, 3445.0000906 ),\n",
       "       (False, 1874.9999969 ), (False, 3322.99998999),\n",
       "       (False, 4215.00019646), (False, 2261.00010395),\n",
       "       (False, 4374.00009346), (False, 2903.9999547 )],\n",
       "      dtype=[('event', '?'), ('time', '<f8')])"
      ]
     },
     "execution_count": 7,
     "metadata": {},
     "output_type": "execute_result"
    }
   ],
   "source": [
    "y[680:690]"
   ]
  },
  {
   "cell_type": "markdown",
   "id": "40fbcb80-0388-4f46-ba3a-29c3f9ee5bee",
   "metadata": {},
   "source": [
    "### Generate a (stratified) train-test split and Scale the features (only) "
   ]
  },
  {
   "cell_type": "markdown",
   "id": "b35f553a-ae5b-476e-bb42-ec48efe8ab89",
   "metadata": {},
   "source": [
    "First do the stratified splitting THEN do scaling, parameterized on X_train set ONLY "
   ]
  },
  {
   "cell_type": "code",
   "execution_count": 8,
   "id": "75714389-2def-4259-8052-bcf7977a2c56",
   "metadata": {},
   "outputs": [],
   "source": [
    "from sklearn.preprocessing import StandardScaler, RobustScaler"
   ]
  },
  {
   "cell_type": "code",
   "execution_count": 9,
   "id": "bd02c821-86c7-4515-986b-07e769f9581b",
   "metadata": {},
   "outputs": [],
   "source": [
    "X_train, X_test, y_train, y_test = survwrap.survival_train_test_split(X, y, rng_seed=2309)"
   ]
  },
  {
   "cell_type": "code",
   "execution_count": 10,
   "id": "261585e2-6d7a-4dc8-9861-da0aee20e7c7",
   "metadata": {},
   "outputs": [
    {
     "data": {
      "text/plain": [
       "((2751, 8), (917, 8))"
      ]
     },
     "execution_count": 10,
     "metadata": {},
     "output_type": "execute_result"
    }
   ],
   "source": [
    "scaler = RobustScaler().fit(X_train)\n",
    "[X_train, X_test] = [ scaler.transform(_) for _ in  [X_train, X_test] ]\n",
    "X_train.shape, X_test.shape"
   ]
  },
  {
   "cell_type": "code",
   "execution_count": 11,
   "id": "449b6bde-498c-437f-8170-e86f34aafc9e",
   "metadata": {},
   "outputs": [
    {
     "data": {
      "text/plain": [
       "(1817, 1363, 454)"
      ]
     },
     "execution_count": 11,
     "metadata": {},
     "output_type": "execute_result"
    }
   ],
   "source": [
    "survwrap.get_indicator(y).sum(), survwrap.get_indicator(y_train).sum(), survwrap.get_indicator(y_test).sum(),\n"
   ]
  },
  {
   "cell_type": "markdown",
   "id": "18343e1d-30ec-42b0-be0e-ac85df1298d9",
   "metadata": {},
   "source": [
    "## check possible dimensionality reduction"
   ]
  },
  {
   "cell_type": "code",
   "execution_count": 12,
   "id": "fde3a10a-379c-42b8-8070-485e7c4326bb",
   "metadata": {},
   "outputs": [],
   "source": [
    "from sklearn.decomposition import PCA"
   ]
  },
  {
   "cell_type": "code",
   "execution_count": 13,
   "id": "1ad7a35b-9295-40f8-a9c4-a02ca8cf83c8",
   "metadata": {},
   "outputs": [
    {
     "name": "stdout",
     "output_type": "stream",
     "text": [
      "PCA components: 8\n"
     ]
    }
   ],
   "source": [
    "pca= PCA(n_components=0.995, random_state=2308).fit(X_train)\n",
    "print('PCA components:',pca.n_components_)"
   ]
  },
  {
   "cell_type": "code",
   "execution_count": 14,
   "id": "dd7a81c3-ced7-48df-8eba-cacb1e814bbd",
   "metadata": {},
   "outputs": [],
   "source": [
    "## Stratified CV spliter for survival analysis"
   ]
  },
  {
   "cell_type": "code",
   "execution_count": 15,
   "id": "e63ce8de-3339-4d4f-9df3-d11c8e61feba",
   "metadata": {},
   "outputs": [],
   "source": [
    "#from sklearn.model_selection import RepeatedStratifiedKFold, StratifiedKFold"
   ]
  },
  {
   "cell_type": "code",
   "execution_count": 16,
   "id": "efe2e846-9bc4-435f-9e83-06f01577ca2a",
   "metadata": {},
   "outputs": [],
   "source": [
    "#testkf= RepeatedStratifiedKFold(n_splits=5,n_repeats=2,random_state=2307)\n",
    "#for trn,tst in testkf.split(X_train, survwrap.get_indicator(y_train)):\n",
    "#    print(trn,tst) "
   ]
  },
  {
   "cell_type": "markdown",
   "id": "8c36a230",
   "metadata": {},
   "source": [
    "# test coxnet"
   ]
  },
  {
   "cell_type": "code",
   "execution_count": 17,
   "id": "9aafa692-2cba-4a47-b376-04742eae3b67",
   "metadata": {},
   "outputs": [
    {
     "data": {
      "text/html": [
       "<style>#sk-container-id-1 {color: black;background-color: white;}#sk-container-id-1 pre{padding: 0;}#sk-container-id-1 div.sk-toggleable {background-color: white;}#sk-container-id-1 label.sk-toggleable__label {cursor: pointer;display: block;width: 100%;margin-bottom: 0;padding: 0.3em;box-sizing: border-box;text-align: center;}#sk-container-id-1 label.sk-toggleable__label-arrow:before {content: \"▸\";float: left;margin-right: 0.25em;color: #696969;}#sk-container-id-1 label.sk-toggleable__label-arrow:hover:before {color: black;}#sk-container-id-1 div.sk-estimator:hover label.sk-toggleable__label-arrow:before {color: black;}#sk-container-id-1 div.sk-toggleable__content {max-height: 0;max-width: 0;overflow: hidden;text-align: left;background-color: #f0f8ff;}#sk-container-id-1 div.sk-toggleable__content pre {margin: 0.2em;color: black;border-radius: 0.25em;background-color: #f0f8ff;}#sk-container-id-1 input.sk-toggleable__control:checked~div.sk-toggleable__content {max-height: 200px;max-width: 100%;overflow: auto;}#sk-container-id-1 input.sk-toggleable__control:checked~label.sk-toggleable__label-arrow:before {content: \"▾\";}#sk-container-id-1 div.sk-estimator input.sk-toggleable__control:checked~label.sk-toggleable__label {background-color: #d4ebff;}#sk-container-id-1 div.sk-label input.sk-toggleable__control:checked~label.sk-toggleable__label {background-color: #d4ebff;}#sk-container-id-1 input.sk-hidden--visually {border: 0;clip: rect(1px 1px 1px 1px);clip: rect(1px, 1px, 1px, 1px);height: 1px;margin: -1px;overflow: hidden;padding: 0;position: absolute;width: 1px;}#sk-container-id-1 div.sk-estimator {font-family: monospace;background-color: #f0f8ff;border: 1px dotted black;border-radius: 0.25em;box-sizing: border-box;margin-bottom: 0.5em;}#sk-container-id-1 div.sk-estimator:hover {background-color: #d4ebff;}#sk-container-id-1 div.sk-parallel-item::after {content: \"\";width: 100%;border-bottom: 1px solid gray;flex-grow: 1;}#sk-container-id-1 div.sk-label:hover label.sk-toggleable__label {background-color: #d4ebff;}#sk-container-id-1 div.sk-serial::before {content: \"\";position: absolute;border-left: 1px solid gray;box-sizing: border-box;top: 0;bottom: 0;left: 50%;z-index: 0;}#sk-container-id-1 div.sk-serial {display: flex;flex-direction: column;align-items: center;background-color: white;padding-right: 0.2em;padding-left: 0.2em;position: relative;}#sk-container-id-1 div.sk-item {position: relative;z-index: 1;}#sk-container-id-1 div.sk-parallel {display: flex;align-items: stretch;justify-content: center;background-color: white;position: relative;}#sk-container-id-1 div.sk-item::before, #sk-container-id-1 div.sk-parallel-item::before {content: \"\";position: absolute;border-left: 1px solid gray;box-sizing: border-box;top: 0;bottom: 0;left: 50%;z-index: -1;}#sk-container-id-1 div.sk-parallel-item {display: flex;flex-direction: column;z-index: 1;position: relative;background-color: white;}#sk-container-id-1 div.sk-parallel-item:first-child::after {align-self: flex-end;width: 50%;}#sk-container-id-1 div.sk-parallel-item:last-child::after {align-self: flex-start;width: 50%;}#sk-container-id-1 div.sk-parallel-item:only-child::after {width: 0;}#sk-container-id-1 div.sk-dashed-wrapped {border: 1px dashed gray;margin: 0 0.4em 0.5em 0.4em;box-sizing: border-box;padding-bottom: 0.4em;background-color: white;}#sk-container-id-1 div.sk-label label {font-family: monospace;font-weight: bold;display: inline-block;line-height: 1.2em;}#sk-container-id-1 div.sk-label-container {text-align: center;}#sk-container-id-1 div.sk-container {/* jupyter's `normalize.less` sets `[hidden] { display: none; }` but bootstrap.min.css set `[hidden] { display: none !important; }` so we also need the `!important` here to be able to override the default hidden behavior on the sphinx rendered scikit-learn.org. See: https://github.com/scikit-learn/scikit-learn/issues/21755 */display: inline-block !important;position: relative;}#sk-container-id-1 div.sk-text-repr-fallback {display: none;}</style><div id=\"sk-container-id-1\" class=\"sk-top-container\"><div class=\"sk-text-repr-fallback\"><pre>CoxNet(rng_seed=2309, l1_ratio=0.5, verbose=False, fit_baseline_model=False)</pre><b>In a Jupyter environment, please rerun this cell to show the HTML representation or trust the notebook. <br />On GitHub, the HTML representation is unable to render, please try loading this page with nbviewer.org.</b></div><div class=\"sk-container\" hidden><div class=\"sk-item\"><div class=\"sk-estimator sk-toggleable\"><input class=\"sk-toggleable__control sk-hidden--visually\" id=\"sk-estimator-id-1\" type=\"checkbox\" checked><label for=\"sk-estimator-id-1\" class=\"sk-toggleable__label sk-toggleable__label-arrow\">CoxNet</label><div class=\"sk-toggleable__content\"><pre>CoxNet(rng_seed=2309, l1_ratio=0.5, verbose=False, fit_baseline_model=False)</pre></div></div></div></div></div>"
      ],
      "text/plain": [
       "CoxNet(rng_seed=2309, l1_ratio=0.5, verbose=False, fit_baseline_model=False)"
      ]
     },
     "execution_count": 17,
     "metadata": {},
     "output_type": "execute_result"
    }
   ],
   "source": [
    "coxnet = survwrap.CoxNet(rng_seed=2309)\n",
    "coxnet.fit(X_train, y_train)"
   ]
  },
  {
   "cell_type": "code",
   "execution_count": 18,
   "id": "9a0e80b7",
   "metadata": {},
   "outputs": [
    {
     "data": {
      "text/plain": [
       "0.6887912277300243"
      ]
     },
     "execution_count": 18,
     "metadata": {},
     "output_type": "execute_result"
    }
   ],
   "source": [
    "coxnet.score(X_test, y_test)"
   ]
  },
  {
   "cell_type": "code",
   "execution_count": 19,
   "id": "f894a2c8",
   "metadata": {},
   "outputs": [],
   "source": [
    "#from sklearn.model_selection import GridSearchCV, RandomizedSearchCV"
   ]
  },
  {
   "cell_type": "code",
   "execution_count": 20,
   "id": "946d79e0-0f7c-44c6-893c-8b5ea52c5a57",
   "metadata": {},
   "outputs": [
    {
     "data": {
      "text/plain": [
       "{'l1_ratio': [0.01, 0.1, 0.25, 0.5, 0.75, 0.9, 0.99]}"
      ]
     },
     "execution_count": 20,
     "metadata": {},
     "output_type": "execute_result"
    }
   ],
   "source": [
    "coxnet.get_parameter_grid()"
   ]
  },
  {
   "cell_type": "code",
   "execution_count": 21,
   "id": "2cc893c3",
   "metadata": {},
   "outputs": [
    {
     "data": {
      "text/plain": [
       "(0.6894590577134363, {'l1_ratio': 0.01})"
      ]
     },
     "execution_count": 21,
     "metadata": {},
     "output_type": "execute_result"
    }
   ],
   "source": [
    "opt_coxnet, opt_coxnet_params, opt_coxnet_search = survwrap.optimize(coxnet, X_train, y_train,  n_jobs=4)\n",
    "opt_coxnet.score(X_test, y_test), opt_coxnet_params"
   ]
  },
  {
   "cell_type": "code",
   "execution_count": 22,
   "id": "603ad87d-9e0f-46c4-9e34-7eec765a2b66",
   "metadata": {},
   "outputs": [
    {
     "data": {
      "text/plain": [
       "[(1, 0.6694876341728885, 0.01305643245602949, {'l1_ratio': 0.01}),\n",
       " (2, 0.6694018828807328, 0.013022090822348342, {'l1_ratio': 0.1}),\n",
       " (3, 0.6692828007193661, 0.012889705044678621, {'l1_ratio': 0.25}),\n",
       " (4, 0.6692613821092743, 0.012799356641076627, {'l1_ratio': 0.5}),\n",
       " (5, 0.66922694942408, 0.012796312712512957, {'l1_ratio': 0.9}),\n",
       " (6, 0.6692229583770107, 0.012781217883428212, {'l1_ratio': 0.99}),\n",
       " (7, 0.6692220816702286, 0.01281013923941198, {'l1_ratio': 0.75})]"
      ]
     },
     "execution_count": 22,
     "metadata": {},
     "output_type": "execute_result"
    }
   ],
   "source": [
    "survwrap.get_top_models(opt_coxnet_search)"
   ]
  },
  {
   "cell_type": "markdown",
   "id": "2fd37d08-ee4e-4bea-8a6d-2c6b8cbd5c8d",
   "metadata": {},
   "source": [
    "# Test DSM"
   ]
  },
  {
   "cell_type": "code",
   "execution_count": 23,
   "id": "dcd9ed4f-1f8b-42d2-84b4-12c119490e40",
   "metadata": {},
   "outputs": [],
   "source": [
    "batch5 = int(X_train.shape[0] /20 ) "
   ]
  },
  {
   "cell_type": "code",
   "execution_count": 24,
   "id": "96b54175-b841-4fd8-a658-6396df51b0a8",
   "metadata": {},
   "outputs": [
    {
     "data": {
      "text/html": [
       "<style>#sk-container-id-2 {color: black;background-color: white;}#sk-container-id-2 pre{padding: 0;}#sk-container-id-2 div.sk-toggleable {background-color: white;}#sk-container-id-2 label.sk-toggleable__label {cursor: pointer;display: block;width: 100%;margin-bottom: 0;padding: 0.3em;box-sizing: border-box;text-align: center;}#sk-container-id-2 label.sk-toggleable__label-arrow:before {content: \"▸\";float: left;margin-right: 0.25em;color: #696969;}#sk-container-id-2 label.sk-toggleable__label-arrow:hover:before {color: black;}#sk-container-id-2 div.sk-estimator:hover label.sk-toggleable__label-arrow:before {color: black;}#sk-container-id-2 div.sk-toggleable__content {max-height: 0;max-width: 0;overflow: hidden;text-align: left;background-color: #f0f8ff;}#sk-container-id-2 div.sk-toggleable__content pre {margin: 0.2em;color: black;border-radius: 0.25em;background-color: #f0f8ff;}#sk-container-id-2 input.sk-toggleable__control:checked~div.sk-toggleable__content {max-height: 200px;max-width: 100%;overflow: auto;}#sk-container-id-2 input.sk-toggleable__control:checked~label.sk-toggleable__label-arrow:before {content: \"▾\";}#sk-container-id-2 div.sk-estimator input.sk-toggleable__control:checked~label.sk-toggleable__label {background-color: #d4ebff;}#sk-container-id-2 div.sk-label input.sk-toggleable__control:checked~label.sk-toggleable__label {background-color: #d4ebff;}#sk-container-id-2 input.sk-hidden--visually {border: 0;clip: rect(1px 1px 1px 1px);clip: rect(1px, 1px, 1px, 1px);height: 1px;margin: -1px;overflow: hidden;padding: 0;position: absolute;width: 1px;}#sk-container-id-2 div.sk-estimator {font-family: monospace;background-color: #f0f8ff;border: 1px dotted black;border-radius: 0.25em;box-sizing: border-box;margin-bottom: 0.5em;}#sk-container-id-2 div.sk-estimator:hover {background-color: #d4ebff;}#sk-container-id-2 div.sk-parallel-item::after {content: \"\";width: 100%;border-bottom: 1px solid gray;flex-grow: 1;}#sk-container-id-2 div.sk-label:hover label.sk-toggleable__label {background-color: #d4ebff;}#sk-container-id-2 div.sk-serial::before {content: \"\";position: absolute;border-left: 1px solid gray;box-sizing: border-box;top: 0;bottom: 0;left: 50%;z-index: 0;}#sk-container-id-2 div.sk-serial {display: flex;flex-direction: column;align-items: center;background-color: white;padding-right: 0.2em;padding-left: 0.2em;position: relative;}#sk-container-id-2 div.sk-item {position: relative;z-index: 1;}#sk-container-id-2 div.sk-parallel {display: flex;align-items: stretch;justify-content: center;background-color: white;position: relative;}#sk-container-id-2 div.sk-item::before, #sk-container-id-2 div.sk-parallel-item::before {content: \"\";position: absolute;border-left: 1px solid gray;box-sizing: border-box;top: 0;bottom: 0;left: 50%;z-index: -1;}#sk-container-id-2 div.sk-parallel-item {display: flex;flex-direction: column;z-index: 1;position: relative;background-color: white;}#sk-container-id-2 div.sk-parallel-item:first-child::after {align-self: flex-end;width: 50%;}#sk-container-id-2 div.sk-parallel-item:last-child::after {align-self: flex-start;width: 50%;}#sk-container-id-2 div.sk-parallel-item:only-child::after {width: 0;}#sk-container-id-2 div.sk-dashed-wrapped {border: 1px dashed gray;margin: 0 0.4em 0.5em 0.4em;box-sizing: border-box;padding-bottom: 0.4em;background-color: white;}#sk-container-id-2 div.sk-label label {font-family: monospace;font-weight: bold;display: inline-block;line-height: 1.2em;}#sk-container-id-2 div.sk-label-container {text-align: center;}#sk-container-id-2 div.sk-container {/* jupyter's `normalize.less` sets `[hidden] { display: none; }` but bootstrap.min.css set `[hidden] { display: none !important; }` so we also need the `!important` here to be able to override the default hidden behavior on the sphinx rendered scikit-learn.org. See: https://github.com/scikit-learn/scikit-learn/issues/21755 */display: inline-block !important;position: relative;}#sk-container-id-2 div.sk-text-repr-fallback {display: none;}</style><div id=\"sk-container-id-2\" class=\"sk-top-container\"><div class=\"sk-text-repr-fallback\"><pre>DeepSurvivalMachines(rng_seed=2309, n_distr=2, distr_kind=&#x27;Weibull&#x27;, batch_size=137, layer_sizes=[8], learning_rate=0.01, validation_size=0.2, max_epochs=100, elbo=True)</pre><b>In a Jupyter environment, please rerun this cell to show the HTML representation or trust the notebook. <br />On GitHub, the HTML representation is unable to render, please try loading this page with nbviewer.org.</b></div><div class=\"sk-container\" hidden><div class=\"sk-item\"><div class=\"sk-estimator sk-toggleable\"><input class=\"sk-toggleable__control sk-hidden--visually\" id=\"sk-estimator-id-2\" type=\"checkbox\" checked><label for=\"sk-estimator-id-2\" class=\"sk-toggleable__label sk-toggleable__label-arrow\">DeepSurvivalMachines</label><div class=\"sk-toggleable__content\"><pre>DeepSurvivalMachines(rng_seed=2309, n_distr=2, distr_kind=&#x27;Weibull&#x27;, batch_size=137, layer_sizes=[8], learning_rate=0.01, validation_size=0.2, max_epochs=100, elbo=True)</pre></div></div></div></div></div>"
      ],
      "text/plain": [
       "DeepSurvivalMachines(rng_seed=2309, n_distr=2, distr_kind='Weibull', batch_size=137, layer_sizes=[8], learning_rate=0.01, validation_size=0.2, max_epochs=100, elbo=True)"
      ]
     },
     "execution_count": 24,
     "metadata": {},
     "output_type": "execute_result"
    }
   ],
   "source": [
    "fl_dsm=survwrap.DeepSurvivalMachines(rng_seed=2309, batch_size=batch5, layer_sizes=[8], validation_size=0.2, \n",
    "                                     learning_rate=0.01, max_epochs=100, n_distr=2, elbo=True, distr_kind='Weibull')\n",
    "fl_dsm"
   ]
  },
  {
   "cell_type": "code",
   "execution_count": 25,
   "id": "548ed8b6-98d1-4727-9e2d-2d84b836e503",
   "metadata": {},
   "outputs": [
    {
     "name": "stderr",
     "output_type": "stream",
     "text": [
      " 27%|█████████████████████████████████▎                                                                                          | 2682/10000 [00:02<00:07, 932.17it/s]\n",
      " 24%|██████████████████████████████▉                                                                                                  | 24/100 [00:00<00:03, 25.13it/s]\n"
     ]
    },
    {
     "data": {
      "text/plain": [
       "(0.68429523863456, 0.7045893563698773)"
      ]
     },
     "execution_count": 25,
     "metadata": {},
     "output_type": "execute_result"
    }
   ],
   "source": [
    "#fl_dsm.layer_sizes=[3]\n",
    "#fl_dsm.learning_rate=0.01\n",
    "fl_dsm_xplore=fl_dsm.fit(X_train,y_train)\n",
    "fl_dsm_xplore\n",
    "#fl_dsm_xplore.score(X_train,y_train)\n",
    "\n",
    "fl_dsm_xplore.score(X_train,y_train), fl_dsm_xplore.score(X_test,y_test)"
   ]
  },
  {
   "cell_type": "code",
   "execution_count": 26,
   "id": "5f760708-c608-4281-b7e0-c17b043053de",
   "metadata": {},
   "outputs": [
    {
     "data": {
      "text/plain": [
       "{'n_distr': [1, 2, 3],\n",
       " 'distr_kind': ['Weibull'],\n",
       " 'batch_size': [16, 32],\n",
       " 'layer_sizes': [[3],\n",
       "  [4],\n",
       "  [5],\n",
       "  [7],\n",
       "  [3, 3],\n",
       "  [4, 4],\n",
       "  [5, 5],\n",
       "  [7, 7],\n",
       "  [3, 3, 3],\n",
       "  [4, 4, 4],\n",
       "  [5, 5, 5],\n",
       "  [7, 7, 7]],\n",
       " 'learning_rate': [0.005, 0.001],\n",
       " 'validation_size': [0.1],\n",
       " 'max_epochs': [100],\n",
       " 'elbo': [False]}"
      ]
     },
     "execution_count": 26,
     "metadata": {},
     "output_type": "execute_result"
    }
   ],
   "source": [
    "grid =survwrap.DeepSurvivalMachines.get_parameter_grid(max_width=X_train.shape[1])\n",
    "grid"
   ]
  },
  {
   "cell_type": "code",
   "execution_count": 27,
   "id": "6b2fb365-dd6e-4e05-b3fc-6c18c950221a",
   "metadata": {},
   "outputs": [],
   "source": [
    "# Stratified CV\n",
    "#opt_dsm, opt_dsm_params, opt_dsm_search = optimize(survwrap.DeepSurvivalMachines(rng_seed=2308),  X_train, y_train, n_jobs=8,\n",
    "                                                  # user_grid=grid,cv=RepeatedStratifiedKFold(n_splits=5, n_repeats=2, random_state=2308).split(X_train,survwrap.get_indicator(y_train)))\n",
    "#opt_dsm.score(X_test, y_test), opt_dsm_params"
   ]
  },
  {
   "cell_type": "code",
   "execution_count": 28,
   "id": "424fb715-4c00-4d40-82b2-04eb7bbc5f28",
   "metadata": {},
   "outputs": [
    {
     "data": {
      "text/plain": [
       "{'n_distr': [2],\n",
       " 'distr_kind': ['Weibull'],\n",
       " 'batch_size': [137],\n",
       " 'layer_sizes': [[3], [3, 3], [3, 3, 3]],\n",
       " 'learning_rate': [0.005, 0.001],\n",
       " 'validation_size': [0.1],\n",
       " 'max_epochs': [100],\n",
       " 'elbo': [False]}"
      ]
     },
     "execution_count": 28,
     "metadata": {},
     "output_type": "execute_result"
    }
   ],
   "source": [
    "# Stratified CV\n",
    "fl_dsm=survwrap.DeepSurvivalMachines(rng_seed=2309,max_epochs=200, validation_size=0.2, batch_size=batch5)\n",
    "fl_grid=fl_dsm.get_parameter_grid(max_width=3)\n",
    "fl_grid['batch_size']=[batch5]\n",
    "fl_grid['n_distr']=[2]\n",
    "fl_grid"
   ]
  },
  {
   "cell_type": "code",
   "execution_count": 29,
   "id": "376c5f7c-ec16-47a0-9ea1-0b47534d8421",
   "metadata": {},
   "outputs": [
    {
     "name": "stderr",
     "output_type": "stream",
     "text": [
      " 23%|██▎       | 2334/10000 [00:02<00:09, 818.14it/s]\n",
      " 24%|██▍       | 2396/10000 [00:02<00:09, 822.46it/s]\n",
      " 28%|██▊       | 2752/10000 [00:03<00:09, 772.93it/s]\n",
      " 28%|██▊       | 2819/10000 [00:03<00:09, 761.00it/s]\n",
      " 29%|██▉       | 29/100 [00:00<00:02, 30.45it/s]\n",
      " 34%|███▍      | 34/100 [00:01<00:02, 32.78it/s]/s]\n",
      " 67%|██████▋   | 67/100 [00:02<00:01, 31.88it/s]t/s]\n",
      " 89%|████████▉ | 89/100 [00:02<00:00, 32.93it/s]t/s]\n",
      " 19%|█▉        | 1887/10000 [00:02<00:10, 766.50it/s]\n",
      " 30%|██▉       | 2996/10000 [00:03<00:08, 837.43it/s]\n",
      " 29%|██▉       | 2894/10000 [00:03<00:08, 824.65it/s]\n",
      " 29%|██▊       | 2851/10000 [00:03<00:08, 842.40it/s]\n",
      " 40%|████      | 40/100 [00:01<00:01, 31.20it/s]\n",
      " 12%|█▏        | 12/100 [00:00<00:03, 27.78it/s]\n",
      " 53%|█████▎    | 53/100 [00:01<00:01, 28.57it/s]t/s]\n",
      " 48%|████▊     | 48/100 [00:01<00:01, 28.37it/s]t/s]\n",
      " 29%|██▉       | 2904/10000 [00:03<00:08, 814.41it/s]\n",
      " 28%|██▊       | 2752/10000 [00:03<00:08, 835.56it/s]\n",
      " 29%|██▊       | 2863/10000 [00:03<00:09, 766.98it/s]\n",
      " 15%|█▌        | 15/100 [00:00<00:03, 28.06it/s]it/s]\n",
      " 28%|██▊       | 2819/10000 [00:03<00:09, 777.68it/s]\n",
      " 23%|██▎       | 23/100 [00:00<00:02, 29.20it/s]t/s]\n",
      " 49%|████▉     | 49/100 [00:01<00:01, 30.34it/s]t/s]\n",
      " 24%|██▍       | 2396/10000 [00:02<00:09, 816.11it/s]\n",
      " 23%|██▎       | 2334/10000 [00:02<00:08, 885.93it/s]\n",
      "100%|██████████| 100/100 [00:02<00:00, 33.54it/s]t/s]\n",
      " 28%|██▊       | 28/100 [00:01<00:02, 27.18it/s]it/s]\n",
      " 41%|████      | 41/100 [00:01<00:01, 29.73it/s]it/s]\n",
      " 30%|██▉       | 2996/10000 [00:03<00:08, 841.72it/s]\n",
      " 28%|██▊       | 2803/10000 [00:03<00:08, 840.51it/s]\n",
      " 29%|██▉       | 2894/10000 [00:03<00:08, 835.27it/s]\n",
      " 29%|██▊       | 2851/10000 [00:03<00:08, 844.92it/s]\n",
      "100%|██████████| 100/100 [00:03<00:00, 30.10it/s]\n",
      " 55%|█████▌    | 55/100 [00:01<00:01, 31.27it/s]t/s]\n",
      " 30%|███       | 30/100 [00:01<00:02, 29.35it/s]\n",
      " 38%|███▊      | 38/100 [00:01<00:02, 30.39it/s]t/s]\n",
      " 29%|██▊       | 2863/10000 [00:03<00:08, 866.51it/s]\n",
      " 28%|██▊       | 2752/10000 [00:03<00:08, 891.50it/s]\n",
      " 29%|██▉       | 2904/10000 [00:03<00:08, 859.65it/s]\n",
      " 28%|██▊       | 2819/10000 [00:03<00:08, 849.32it/s]\n",
      " 31%|███       | 31/100 [00:01<00:02, 30.98it/s]\n",
      " 33%|███▎      | 33/100 [00:01<00:02, 29.88it/s]t/s]\n",
      " 73%|███████▎  | 73/100 [00:02<00:00, 33.70it/s]it/s]\n",
      "100%|██████████| 100/100 [00:03<00:00, 31.89it/s]/s]]\n",
      " 24%|██▍       | 2396/10000 [00:02<00:08, 890.26it/s]\n",
      " 23%|██▎       | 2334/10000 [00:02<00:08, 899.63it/s]\n",
      " 28%|██▊       | 28/100 [00:00<00:02, 29.08it/s]it/s]\n",
      "  9%|▉         | 9/100 [00:00<00:03, 22.78it/s]8it/s]\n",
      " 30%|██▉       | 2996/10000 [00:03<00:08, 858.89it/s]\n",
      " 28%|██▊       | 2803/10000 [00:03<00:07, 906.45it/s]\n",
      " 40%|████      | 40/100 [00:01<00:01, 30.63it/s]it/s]\n",
      " 32%|███▏      | 32/100 [00:01<00:02, 28.98it/s]it/s]\n",
      " 29%|██▉       | 2894/10000 [00:03<00:08, 850.56it/s]\n",
      " 29%|██▊       | 2851/10000 [00:03<00:08, 873.36it/s]\n",
      "  7%|▋         | 7/100 [00:00<00:04, 21.88it/s]it/s]]\n",
      " 29%|██▊       | 2863/10000 [00:03<00:08, 877.09it/s]\n",
      " 29%|██▉       | 2904/10000 [00:03<00:08, 874.63it/s]\n",
      "100%|██████████| 100/100 [00:03<00:00, 30.96it/s]t/s]\n",
      " 29%|██▉       | 29/100 [00:00<00:02, 29.66it/s]it/s]\n",
      " 28%|██▊       | 2752/10000 [00:03<00:08, 815.66it/s]\n",
      " 54%|█████▍    | 54/100 [00:01<00:01, 31.26it/s]t/s]\n",
      " 23%|██▎       | 23/100 [00:00<00:02, 27.77it/s]it/s]\n",
      " 24%|██▍       | 2396/10000 [00:02<00:09, 837.30it/s]\n",
      " 28%|██▊       | 2819/10000 [00:03<00:08, 839.29it/s]\n",
      " 23%|██▎       | 2334/10000 [00:02<00:08, 905.01it/s]\n",
      " 20%|██        | 20/100 [00:00<00:02, 28.72it/s]it/s]\n",
      " 34%|███▍      | 34/100 [00:01<00:02, 29.57it/s]it/s]\n",
      " 30%|██▉       | 2996/10000 [00:03<00:08, 867.07it/s]\n",
      "100%|██████████| 100/100 [00:03<00:00, 29.36it/s]t/s]\n",
      " 28%|██▊       | 2803/10000 [00:03<00:08, 835.85it/s]\n",
      " 81%|████████  | 81/100 [00:02<00:00, 29.42it/s]it/s]\n",
      " 29%|██▉       | 2894/10000 [00:03<00:08, 853.21it/s]\n",
      " 24%|██▍       | 24/100 [00:00<00:02, 27.96it/s]it/s]\n",
      " 21%|██        | 21/100 [00:00<00:02, 28.93it/s]t/s]]\n",
      " 29%|██▊       | 2851/10000 [00:03<00:08, 853.79it/s]\n",
      " 29%|██▊       | 2863/10000 [00:03<00:08, 851.93it/s]\n",
      " 29%|██▉       | 2904/10000 [00:03<00:07, 888.04it/s]\n",
      " 25%|██▌       | 25/100 [00:00<00:02, 28.40it/s]it/s]\n",
      " 28%|██▊       | 2752/10000 [00:03<00:08, 849.43it/s]\n",
      " 63%|██████▎   | 63/100 [00:02<00:01, 29.95it/s]t/s]\n",
      " 22%|██▏       | 22/100 [00:00<00:02, 27.54it/s]\n",
      " 23%|██▎       | 23/100 [00:00<00:02, 27.26it/s]t/s]\n",
      " 23%|██▎       | 2334/10000 [00:02<00:08, 916.51it/s]\n",
      " 24%|██▍       | 2396/10000 [00:02<00:08, 853.04it/s]\n",
      " 28%|██▊       | 2819/10000 [00:03<00:08, 811.68it/s]\n",
      " 20%|██        | 20/100 [00:00<00:03, 25.93it/s]it/s]\n",
      " 30%|██▉       | 2996/10000 [00:03<00:08, 866.94it/s]\n",
      " 50%|█████     | 50/100 [00:01<00:01, 27.98it/s]it/s]\n",
      "100%|██████████| 100/100 [00:03<00:00, 28.24it/s]t/s]\n",
      " 28%|██▊       | 2803/10000 [00:03<00:08, 835.61it/s]\n",
      "100%|██████████| 100/100 [00:03<00:00, 30.99it/s]t/s]\n",
      " 29%|██▉       | 2894/10000 [00:03<00:08, 884.46it/s]\n",
      " 11%|█         | 11/100 [00:00<00:03, 24.97it/s]it/s]\n",
      " 64%|██████▍   | 64/100 [00:02<00:01, 29.76it/s]it/s]\n",
      " 29%|██▊       | 2851/10000 [00:03<00:08, 862.62it/s]\n",
      " 11%|█         | 11/100 [00:00<00:03, 22.75it/s]it/s]\n",
      " 29%|██▊       | 2863/10000 [00:03<00:08, 868.03it/s]\n",
      " 29%|██▉       | 2904/10000 [00:03<00:07, 895.05it/s]\n",
      " 28%|██▊       | 2752/10000 [00:03<00:07, 906.34it/s]\n",
      " 49%|████▉     | 49/100 [00:01<00:01, 28.64it/s]it/s]\n",
      " 27%|██▋       | 27/100 [00:00<00:02, 27.52it/s]it/s]\n",
      " 28%|██▊       | 2819/10000 [00:03<00:08, 824.44it/s]\n",
      " 84%|████████▍ | 84/100 [00:02<00:00, 28.68it/s]it/s]\n",
      " 24%|██▍       | 2396/10000 [00:02<00:08, 878.87it/s]\n",
      " 23%|██▎       | 2334/10000 [00:02<00:08, 900.47it/s]\n",
      " 27%|██▋       | 27/100 [00:00<00:02, 28.02it/s]it/s]\n",
      " 48%|████▊     | 48/100 [00:01<00:01, 30.74it/s]it/s]\n",
      "100%|██████████| 100/100 [00:03<00:00, 29.43it/s]\n",
      " 30%|██▉       | 2996/10000 [00:03<00:08, 855.83it/s]\n",
      " 28%|██▊       | 2803/10000 [00:03<00:08, 899.23it/s]\n",
      " 29%|██▉       | 2894/10000 [00:03<00:07, 903.41it/s]\n",
      " 29%|██▊       | 2851/10000 [00:03<00:08, 886.60it/s]\n",
      " 50%|█████     | 50/100 [00:01<00:01, 29.86it/s]\n",
      " 27%|██▋       | 27/100 [00:00<00:02, 29.29it/s]t/s]\n",
      " 33%|███▎      | 33/100 [00:01<00:02, 27.72it/s]t/s]\n",
      "100%|██████████| 100/100 [00:03<00:00, 29.71it/s]/s]\n",
      " 29%|██▊       | 2863/10000 [00:02<00:07, 959.34it/s]\n",
      " 29%|██▉       | 2904/10000 [00:02<00:07, 970.23it/s]\n",
      " 62%|██████▏   | 62/100 [00:01<00:01, 33.58it/s]\n",
      "100%|██████████| 100/100 [00:02<00:00, 35.66it/s]\n",
      " 30%|████████████████████████████████████▌                                                                                       | 2950/10000 [00:03<00:07, 933.21it/s]\n",
      " 15%|███████████████████▎                                                                                                             | 15/100 [00:00<00:04, 21.12it/s]\n"
     ]
    },
    {
     "data": {
      "text/plain": [
       "(0.6890407663528584,\n",
       " {'batch_size': 137,\n",
       "  'distr_kind': 'Weibull',\n",
       "  'elbo': False,\n",
       "  'layer_sizes': [3, 3],\n",
       "  'learning_rate': 0.005,\n",
       "  'max_epochs': 100,\n",
       "  'n_distr': 2,\n",
       "  'validation_size': 0.1})"
      ]
     },
     "execution_count": 29,
     "metadata": {},
     "output_type": "execute_result"
    }
   ],
   "source": [
    "opt_dsm, opt_dsm_params, opt_dsm_search = survwrap.optimize(fl_dsm,  X_train, y_train, user_grid=fl_grid, n_jobs=4)\n",
    "opt_dsm.score(X_test, y_test), opt_dsm_params"
   ]
  },
  {
   "cell_type": "code",
   "execution_count": 30,
   "id": "222eb137-070c-4bca-a4dd-5bb451296500",
   "metadata": {},
   "outputs": [
    {
     "data": {
      "text/plain": [
       "[(1,\n",
       "  0.6638592543789789,\n",
       "  0.017563736522538106,\n",
       "  {'batch_size': 137,\n",
       "   'distr_kind': 'Weibull',\n",
       "   'elbo': False,\n",
       "   'layer_sizes': [3, 3],\n",
       "   'learning_rate': 0.005,\n",
       "   'max_epochs': 100,\n",
       "   'n_distr': 2,\n",
       "   'validation_size': 0.1}),\n",
       " (2,\n",
       "  0.6618388212026807,\n",
       "  0.01680284757554033,\n",
       "  {'batch_size': 137,\n",
       "   'distr_kind': 'Weibull',\n",
       "   'elbo': False,\n",
       "   'layer_sizes': [3],\n",
       "   'learning_rate': 0.005,\n",
       "   'max_epochs': 100,\n",
       "   'n_distr': 2,\n",
       "   'validation_size': 0.1}),\n",
       " (3,\n",
       "  0.6604066822945046,\n",
       "  0.018080381213841295,\n",
       "  {'batch_size': 137,\n",
       "   'distr_kind': 'Weibull',\n",
       "   'elbo': False,\n",
       "   'layer_sizes': [3, 3, 3],\n",
       "   'learning_rate': 0.005,\n",
       "   'max_epochs': 100,\n",
       "   'n_distr': 2,\n",
       "   'validation_size': 0.1}),\n",
       " (4,\n",
       "  0.659515767838107,\n",
       "  0.01887316527061439,\n",
       "  {'batch_size': 137,\n",
       "   'distr_kind': 'Weibull',\n",
       "   'elbo': False,\n",
       "   'layer_sizes': [3, 3, 3],\n",
       "   'learning_rate': 0.001,\n",
       "   'max_epochs': 100,\n",
       "   'n_distr': 2,\n",
       "   'validation_size': 0.1}),\n",
       " (5,\n",
       "  0.6586663367352833,\n",
       "  0.019350780004985448,\n",
       "  {'batch_size': 137,\n",
       "   'distr_kind': 'Weibull',\n",
       "   'elbo': False,\n",
       "   'layer_sizes': [3, 3],\n",
       "   'learning_rate': 0.001,\n",
       "   'max_epochs': 100,\n",
       "   'n_distr': 2,\n",
       "   'validation_size': 0.1}),\n",
       " (6,\n",
       "  0.6558557683744527,\n",
       "  0.020196483455498845,\n",
       "  {'batch_size': 137,\n",
       "   'distr_kind': 'Weibull',\n",
       "   'elbo': False,\n",
       "   'layer_sizes': [3],\n",
       "   'learning_rate': 0.001,\n",
       "   'max_epochs': 100,\n",
       "   'n_distr': 2,\n",
       "   'validation_size': 0.1})]"
      ]
     },
     "execution_count": 30,
     "metadata": {},
     "output_type": "execute_result"
    }
   ],
   "source": [
    "survwrap.get_top_models(opt_dsm_search)"
   ]
  },
  {
   "cell_type": "markdown",
   "id": "b0b40382-076d-4687-94be-a531868a6f55",
   "metadata": {},
   "source": [
    "# PyCox"
   ]
  },
  {
   "cell_type": "code",
   "execution_count": 31,
   "id": "d4c93711-b26b-447b-a207-32641f9c5e89",
   "metadata": {},
   "outputs": [],
   "source": [
    "#import pycox.models"
   ]
  },
  {
   "cell_type": "code",
   "execution_count": 39,
   "id": "ec08ab11-20e1-4d66-9cf7-862a875fe8c6",
   "metadata": {},
   "outputs": [
    {
     "data": {
      "text/html": [
       "<style>#sk-container-id-4 {color: black;background-color: white;}#sk-container-id-4 pre{padding: 0;}#sk-container-id-4 div.sk-toggleable {background-color: white;}#sk-container-id-4 label.sk-toggleable__label {cursor: pointer;display: block;width: 100%;margin-bottom: 0;padding: 0.3em;box-sizing: border-box;text-align: center;}#sk-container-id-4 label.sk-toggleable__label-arrow:before {content: \"▸\";float: left;margin-right: 0.25em;color: #696969;}#sk-container-id-4 label.sk-toggleable__label-arrow:hover:before {color: black;}#sk-container-id-4 div.sk-estimator:hover label.sk-toggleable__label-arrow:before {color: black;}#sk-container-id-4 div.sk-toggleable__content {max-height: 0;max-width: 0;overflow: hidden;text-align: left;background-color: #f0f8ff;}#sk-container-id-4 div.sk-toggleable__content pre {margin: 0.2em;color: black;border-radius: 0.25em;background-color: #f0f8ff;}#sk-container-id-4 input.sk-toggleable__control:checked~div.sk-toggleable__content {max-height: 200px;max-width: 100%;overflow: auto;}#sk-container-id-4 input.sk-toggleable__control:checked~label.sk-toggleable__label-arrow:before {content: \"▾\";}#sk-container-id-4 div.sk-estimator input.sk-toggleable__control:checked~label.sk-toggleable__label {background-color: #d4ebff;}#sk-container-id-4 div.sk-label input.sk-toggleable__control:checked~label.sk-toggleable__label {background-color: #d4ebff;}#sk-container-id-4 input.sk-hidden--visually {border: 0;clip: rect(1px 1px 1px 1px);clip: rect(1px, 1px, 1px, 1px);height: 1px;margin: -1px;overflow: hidden;padding: 0;position: absolute;width: 1px;}#sk-container-id-4 div.sk-estimator {font-family: monospace;background-color: #f0f8ff;border: 1px dotted black;border-radius: 0.25em;box-sizing: border-box;margin-bottom: 0.5em;}#sk-container-id-4 div.sk-estimator:hover {background-color: #d4ebff;}#sk-container-id-4 div.sk-parallel-item::after {content: \"\";width: 100%;border-bottom: 1px solid gray;flex-grow: 1;}#sk-container-id-4 div.sk-label:hover label.sk-toggleable__label {background-color: #d4ebff;}#sk-container-id-4 div.sk-serial::before {content: \"\";position: absolute;border-left: 1px solid gray;box-sizing: border-box;top: 0;bottom: 0;left: 50%;z-index: 0;}#sk-container-id-4 div.sk-serial {display: flex;flex-direction: column;align-items: center;background-color: white;padding-right: 0.2em;padding-left: 0.2em;position: relative;}#sk-container-id-4 div.sk-item {position: relative;z-index: 1;}#sk-container-id-4 div.sk-parallel {display: flex;align-items: stretch;justify-content: center;background-color: white;position: relative;}#sk-container-id-4 div.sk-item::before, #sk-container-id-4 div.sk-parallel-item::before {content: \"\";position: absolute;border-left: 1px solid gray;box-sizing: border-box;top: 0;bottom: 0;left: 50%;z-index: -1;}#sk-container-id-4 div.sk-parallel-item {display: flex;flex-direction: column;z-index: 1;position: relative;background-color: white;}#sk-container-id-4 div.sk-parallel-item:first-child::after {align-self: flex-end;width: 50%;}#sk-container-id-4 div.sk-parallel-item:last-child::after {align-self: flex-start;width: 50%;}#sk-container-id-4 div.sk-parallel-item:only-child::after {width: 0;}#sk-container-id-4 div.sk-dashed-wrapped {border: 1px dashed gray;margin: 0 0.4em 0.5em 0.4em;box-sizing: border-box;padding-bottom: 0.4em;background-color: white;}#sk-container-id-4 div.sk-label label {font-family: monospace;font-weight: bold;display: inline-block;line-height: 1.2em;}#sk-container-id-4 div.sk-label-container {text-align: center;}#sk-container-id-4 div.sk-container {/* jupyter's `normalize.less` sets `[hidden] { display: none; }` but bootstrap.min.css set `[hidden] { display: none !important; }` so we also need the `!important` here to be able to override the default hidden behavior on the sphinx rendered scikit-learn.org. See: https://github.com/scikit-learn/scikit-learn/issues/21755 */display: inline-block !important;position: relative;}#sk-container-id-4 div.sk-text-repr-fallback {display: none;}</style><div id=\"sk-container-id-4\" class=\"sk-top-container\"><div class=\"sk-text-repr-fallback\"><pre>DeepHitSingle(rng_seed=2309, num_durations=10, layer_sizes=[10, 10], epochs=10, batch_size=16, validation_size=0.1, learning_rate=0.001, dropout=0.1, device=&#x27;cpu&#x27;)</pre><b>In a Jupyter environment, please rerun this cell to show the HTML representation or trust the notebook. <br />On GitHub, the HTML representation is unable to render, please try loading this page with nbviewer.org.</b></div><div class=\"sk-container\" hidden><div class=\"sk-item\"><div class=\"sk-estimator sk-toggleable\"><input class=\"sk-toggleable__control sk-hidden--visually\" id=\"sk-estimator-id-4\" type=\"checkbox\" checked><label for=\"sk-estimator-id-4\" class=\"sk-toggleable__label sk-toggleable__label-arrow\">DeepHitSingle</label><div class=\"sk-toggleable__content\"><pre>DeepHitSingle(rng_seed=2309, num_durations=10, layer_sizes=[10, 10], epochs=10, batch_size=16, validation_size=0.1, learning_rate=0.001, dropout=0.1, device=&#x27;cpu&#x27;)</pre></div></div></div></div></div>"
      ],
      "text/plain": [
       "DeepHitSingle(rng_seed=2309, num_durations=10, layer_sizes=[10, 10], epochs=10, batch_size=16, validation_size=0.1, learning_rate=0.001, dropout=0.1, device='cpu')"
      ]
     },
     "execution_count": 39,
     "metadata": {},
     "output_type": "execute_result"
    }
   ],
   "source": [
    "fl_dhs = survwrap.DeepHitSingle(rng_seed=2309)\n",
    "fl_dhs"
   ]
  },
  {
   "cell_type": "code",
   "execution_count": 37,
   "id": "02f94508-cc94-4aa7-bce1-519736713ae4",
   "metadata": {
    "scrolled": true
   },
   "outputs": [
    {
     "data": {
      "text/plain": [
       "{'num_durations': [10],\n",
       " 'layer_sizes': [[3],\n",
       "  [4],\n",
       "  [5],\n",
       "  [7],\n",
       "  [3, 3],\n",
       "  [4, 4],\n",
       "  [5, 5],\n",
       "  [7, 7],\n",
       "  [3, 3, 3],\n",
       "  [4, 4, 4],\n",
       "  [5, 5, 5],\n",
       "  [7, 7, 7]],\n",
       " 'epochs': [100],\n",
       " 'batch_size': [137],\n",
       " 'dropout': [0.2],\n",
       " 'validation_size': [0.1]}"
      ]
     },
     "execution_count": 37,
     "metadata": {},
     "output_type": "execute_result"
    }
   ],
   "source": [
    "dhs_grid = fl_dhs.get_parameter_grid(max_width=8)\n",
    "dhs_grid['batch_size']=[batch5]\n",
    "dhs_grid['dropout']=[0.2]\n",
    "dhs_grid"
   ]
  },
  {
   "cell_type": "code",
   "execution_count": 40,
   "id": "4d26c982-d0e2-4cf0-a59f-7a218e17ff96",
   "metadata": {},
   "outputs": [
    {
     "data": {
      "text/plain": [
       "(0.6913440616988733,\n",
       " {'batch_size': 137,\n",
       "  'dropout': 0.2,\n",
       "  'epochs': 100,\n",
       "  'layer_sizes': [3],\n",
       "  'num_durations': 10,\n",
       "  'validation_size': 0.1})"
      ]
     },
     "execution_count": 40,
     "metadata": {},
     "output_type": "execute_result"
    }
   ],
   "source": [
    "opt_dhs, opt_dhs_params, opt_dhs_search = survwrap.optimize(fl_dhs,  X_train, y_train, user_grid=dhs_grid, n_jobs=1)\n",
    "opt_dhs.score(X_test, y_test), opt_dhs_params"
   ]
  },
  {
   "cell_type": "code",
   "execution_count": 41,
   "id": "b7afef32-f4b5-4f6c-a370-2fe59a0855d0",
   "metadata": {},
   "outputs": [
    {
     "data": {
      "text/plain": [
       "[(1,\n",
       "  0.6750846918469555,\n",
       "  0.018500384343510572,\n",
       "  {'batch_size': 137,\n",
       "   'dropout': 0.2,\n",
       "   'epochs': 100,\n",
       "   'layer_sizes': [3],\n",
       "   'num_durations': 10,\n",
       "   'validation_size': 0.1}),\n",
       " (2,\n",
       "  0.6707956614299107,\n",
       "  0.015879720814370737,\n",
       "  {'batch_size': 137,\n",
       "   'dropout': 0.2,\n",
       "   'epochs': 100,\n",
       "   'layer_sizes': [4],\n",
       "   'num_durations': 10,\n",
       "   'validation_size': 0.1}),\n",
       " (3,\n",
       "  0.6656579088034458,\n",
       "  0.013299489503216015,\n",
       "  {'batch_size': 137,\n",
       "   'dropout': 0.2,\n",
       "   'epochs': 100,\n",
       "   'layer_sizes': [4, 4],\n",
       "   'num_durations': 10,\n",
       "   'validation_size': 0.1}),\n",
       " (4,\n",
       "  0.6651048980728758,\n",
       "  0.018823535052887946,\n",
       "  {'batch_size': 137,\n",
       "   'dropout': 0.2,\n",
       "   'epochs': 100,\n",
       "   'layer_sizes': [7],\n",
       "   'num_durations': 10,\n",
       "   'validation_size': 0.1}),\n",
       " (5,\n",
       "  0.6629710044231338,\n",
       "  0.014029048247762174,\n",
       "  {'batch_size': 137,\n",
       "   'dropout': 0.2,\n",
       "   'epochs': 100,\n",
       "   'layer_sizes': [7, 7, 7],\n",
       "   'num_durations': 10,\n",
       "   'validation_size': 0.1}),\n",
       " (6,\n",
       "  0.6551085583594881,\n",
       "  0.017862666593351718,\n",
       "  {'batch_size': 137,\n",
       "   'dropout': 0.2,\n",
       "   'epochs': 100,\n",
       "   'layer_sizes': [5, 5, 5],\n",
       "   'num_durations': 10,\n",
       "   'validation_size': 0.1}),\n",
       " (7,\n",
       "  0.6534798723876087,\n",
       "  0.022220979912939396,\n",
       "  {'batch_size': 137,\n",
       "   'dropout': 0.2,\n",
       "   'epochs': 100,\n",
       "   'layer_sizes': [5],\n",
       "   'num_durations': 10,\n",
       "   'validation_size': 0.1}),\n",
       " (8,\n",
       "  0.6533073211521424,\n",
       "  0.016010351070330598,\n",
       "  {'batch_size': 137,\n",
       "   'dropout': 0.2,\n",
       "   'epochs': 100,\n",
       "   'layer_sizes': [7, 7],\n",
       "   'num_durations': 10,\n",
       "   'validation_size': 0.1}),\n",
       " (9,\n",
       "  0.6520427167586507,\n",
       "  0.022739464007288438,\n",
       "  {'batch_size': 137,\n",
       "   'dropout': 0.2,\n",
       "   'epochs': 100,\n",
       "   'layer_sizes': [3, 3],\n",
       "   'num_durations': 10,\n",
       "   'validation_size': 0.1}),\n",
       " (10,\n",
       "  0.6514226017038366,\n",
       "  0.013647410367409645,\n",
       "  {'batch_size': 137,\n",
       "   'dropout': 0.2,\n",
       "   'epochs': 100,\n",
       "   'layer_sizes': [3, 3, 3],\n",
       "   'num_durations': 10,\n",
       "   'validation_size': 0.1})]"
      ]
     },
     "execution_count": 41,
     "metadata": {},
     "output_type": "execute_result"
    }
   ],
   "source": [
    "survwrap.get_top_models(opt_dhs_search)"
   ]
  },
  {
   "cell_type": "code",
   "execution_count": 44,
   "id": "ecaef350-3706-4a15-b7fa-fef5fd9362f4",
   "metadata": {},
   "outputs": [
    {
     "data": {
      "text/plain": [
       "0.6810981042113482"
      ]
     },
     "execution_count": 44,
     "metadata": {},
     "output_type": "execute_result"
    }
   ],
   "source": [
    "fl_dhs.layer_sizes=[4,4]\n",
    "fl_dhs.learning_rate=0.02\n",
    "fl_dhs.batch_size=batch5\n",
    "fl_dhs_xplore=fl_dhs.fit(X_train,y_train)\n",
    "fl_dhs_xplore.score(X_train,y_train)"
   ]
  },
  {
   "cell_type": "code",
   "execution_count": 45,
   "id": "fee87e56-fa88-48ca-860f-4c086a61dcfc",
   "metadata": {},
   "outputs": [
    {
     "data": {
      "text/plain": [
       "<Axes: >"
      ]
     },
     "execution_count": 45,
     "metadata": {},
     "output_type": "execute_result"
    },
    {
     "data": {
      "image/png": "[encoded data removed]",
      "text/plain": [
       "<Figure size 640x480 with 1 Axes>"
      ]
     },
     "metadata": {},
     "output_type": "display_data"
    }
   ],
   "source": [
    "fl_dhs_xplore.training_log_.plot()"
   ]
  },
  {
   "cell_type": "code",
   "execution_count": null,
   "id": "5016842c-a840-4781-92d7-295a1670e2ca",
   "metadata": {},
   "outputs": [],
   "source": [
    "dhs_grid['batch_size']=[batch5]\n",
    "dhs_grid['dropout']=[0.2]\n",
    "dhs_grid"
   ]
  },
  {
   "cell_type": "code",
   "execution_count": null,
   "id": "fa90e6bf-a124-4ce0-b9b4-109474ab7940",
   "metadata": {},
   "outputs": [],
   "source": [
    "opt__dhs.score(X_test, y_test), opt_dhs_params"
   ]
  },
  {
   "cell_type": "code",
   "execution_count": null,
   "id": "004f5820-81b2-46f3-a3ec-3d944fed7a3b",
   "metadata": {},
   "outputs": [],
   "source": [
    "opt__dhs.training_log_.plot()"
   ]
  },
  {
   "cell_type": "code",
   "execution_count": null,
   "id": "e12d8fe0-72d5-4a55-8e79-5e51e382c6cc",
   "metadata": {},
   "outputs": [],
   "source": [
    "survwrap.get_top_models(opt_dhs_search, X_test, y_test)"
   ]
  }
 ],
 "metadata": {
  "kernelspec": {
   "display_name": "Python 3 (ipykernel)",
   "language": "python",
   "name": "python3"
  },
  "language_info": {
   "codemirror_mode": {
    "name": "ipython",
    "version": 3
   },
   "file_extension": ".py",
   "mimetype": "text/x-python",
   "name": "python",
   "nbconvert_exporter": "python",
   "pygments_lexer": "ipython3",
   "version": "3.10.9"
  }
 },
 "nbformat": 4,
 "nbformat_minor": 5
}
