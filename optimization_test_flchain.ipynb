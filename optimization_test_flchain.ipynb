{
 "cells": [
  {
   "cell_type": "markdown",
   "id": "2720cf8d-1d0a-49fe-9a39-dfdebabecbbc",
   "metadata": {},
   "source": [
    "# Test on FLCHAIN"
   ]
  },
  {
   "cell_type": "code",
   "execution_count": 1,
   "id": "387d1412",
   "metadata": {},
   "outputs": [],
   "source": [
    "import numpy"
   ]
  },
  {
   "cell_type": "code",
   "execution_count": 2,
   "id": "c4083da7",
   "metadata": {},
   "outputs": [],
   "source": [
    "import sklearn"
   ]
  },
  {
   "cell_type": "code",
   "execution_count": 3,
   "id": "5f7d6271",
   "metadata": {},
   "outputs": [],
   "source": [
    "import survhive"
   ]
  },
  {
   "cell_type": "code",
   "execution_count": 4,
   "id": "586755ed-9074-4886-815d-4fa921194dec",
   "metadata": {},
   "outputs": [
    {
     "data": {
      "text/plain": [
       "('flchain', 'gbsg2', 'metabric', 'support')"
      ]
     },
     "execution_count": 4,
     "metadata": {},
     "output_type": "execute_result"
    }
   ],
   "source": [
    "survhive.list_available_datasets()"
   ]
  },
  {
   "cell_type": "code",
   "execution_count": 5,
   "id": "ea5712cd-7025-4064-ab73-40d4ffdca6fa",
   "metadata": {},
   "outputs": [
    {
     "name": "stdout",
     "output_type": "stream",
     "text": [
      "<class 'pandas.core.frame.DataFrame'>\n",
      "Index: 6524 entries, 0 to 6523\n",
      "Data columns (total 10 columns):\n",
      " #   Column      Non-Null Count  Dtype  \n",
      "---  ------      --------------  -----  \n",
      " 0   age         6524 non-null   float64\n",
      " 1   sex         6524 non-null   float64\n",
      " 2   sample.yr   6524 non-null   int64  \n",
      " 3   kappa       6524 non-null   float64\n",
      " 4   lambda      6524 non-null   float64\n",
      " 5   flc.grp     6524 non-null   int64  \n",
      " 6   creatinine  6524 non-null   float64\n",
      " 7   mgus        6524 non-null   float64\n",
      " 8   time        6524 non-null   float64\n",
      " 9   event       6524 non-null   float64\n",
      "dtypes: float64(8), int64(2)\n",
      "memory usage: 560.7 KB\n"
     ]
    }
   ],
   "source": [
    "mb_df = survhive.get_data('flchain')\n",
    "mb_df.dataframe.info()"
   ]
  },
  {
   "cell_type": "code",
   "execution_count": 6,
   "id": "210bf36c",
   "metadata": {},
   "outputs": [
    {
     "data": {
      "text/plain": [
       "((6524, 8), (6524,))"
      ]
     },
     "execution_count": 6,
     "metadata": {},
     "output_type": "execute_result"
    }
   ],
   "source": [
    "X, y = mb_df.get_X_y()\n",
    "X.shape, y.shape"
   ]
  },
  {
   "cell_type": "code",
   "execution_count": 7,
   "id": "04dacc43-638e-41d4-a0c8-a8e598c66400",
   "metadata": {},
   "outputs": [
    {
     "data": {
      "text/plain": [
       "array([( True,   85.), ( True, 1281.), ( True,   69.), ( True,  115.),\n",
       "       ( True, 1039.), ( True, 1355.), ( True, 2851.), ( True,  372.),\n",
       "       ( True, 3309.), ( True, 1326.)],\n",
       "      dtype=[('event', '?'), ('time', '<f8')])"
      ]
     },
     "execution_count": 7,
     "metadata": {},
     "output_type": "execute_result"
    }
   ],
   "source": [
    "y[:10]"
   ]
  },
  {
   "cell_type": "markdown",
   "id": "40fbcb80-0388-4f46-ba3a-29c3f9ee5bee",
   "metadata": {},
   "source": [
    "### Generate a (stratified) train-test split and Scale the features (only) "
   ]
  },
  {
   "cell_type": "markdown",
   "id": "b35f553a-ae5b-476e-bb42-ec48efe8ab89",
   "metadata": {},
   "source": [
    "First do the stratified splitting THEN do scaling, parameterized on X_train set ONLY "
   ]
  },
  {
   "cell_type": "code",
   "execution_count": 8,
   "id": "75714389-2def-4259-8052-bcf7977a2c56",
   "metadata": {},
   "outputs": [],
   "source": [
    "from sklearn.preprocessing import StandardScaler, RobustScaler"
   ]
  },
  {
   "cell_type": "code",
   "execution_count": 9,
   "id": "bd02c821-86c7-4515-986b-07e769f9581b",
   "metadata": {},
   "outputs": [],
   "source": [
    "X_train, X_test, y_train, y_test = survhive.survival_train_test_split(X, y, rng_seed=2309)"
   ]
  },
  {
   "cell_type": "code",
   "execution_count": 10,
   "id": "261585e2-6d7a-4dc8-9861-da0aee20e7c7",
   "metadata": {},
   "outputs": [
    {
     "data": {
      "text/plain": [
       "((4893, 8), (1631, 8))"
      ]
     },
     "execution_count": 10,
     "metadata": {},
     "output_type": "execute_result"
    }
   ],
   "source": [
    "scaler = StandardScaler().fit(X_train)\n",
    "[X_train, X_test] = [ scaler.transform(_) for _ in  [X_train, X_test] ]\n",
    "X_train.shape, X_test.shape"
   ]
  },
  {
   "cell_type": "code",
   "execution_count": 11,
   "id": "449b6bde-498c-437f-8170-e86f34aafc9e",
   "metadata": {},
   "outputs": [
    {
     "data": {
      "text/plain": [
       "(1962, 1472, 490)"
      ]
     },
     "execution_count": 11,
     "metadata": {},
     "output_type": "execute_result"
    }
   ],
   "source": [
    "survhive.get_indicator(y).sum(), survhive.get_indicator(y_train).sum(), survhive.get_indicator(y_test).sum(),\n"
   ]
  },
  {
   "cell_type": "markdown",
   "id": "18343e1d-30ec-42b0-be0e-ac85df1298d9",
   "metadata": {},
   "source": [
    "## check possible dimensionality reduction"
   ]
  },
  {
   "cell_type": "code",
   "execution_count": 12,
   "id": "fde3a10a-379c-42b8-8070-485e7c4326bb",
   "metadata": {},
   "outputs": [],
   "source": [
    "from sklearn.decomposition import PCA"
   ]
  },
  {
   "cell_type": "code",
   "execution_count": 13,
   "id": "1ad7a35b-9295-40f8-a9c4-a02ca8cf83c8",
   "metadata": {},
   "outputs": [
    {
     "name": "stdout",
     "output_type": "stream",
     "text": [
      "PCA components: 8\n"
     ]
    }
   ],
   "source": [
    "pca= PCA(n_components=0.995, random_state=2308).fit(X_train)\n",
    "print('PCA components:',pca.n_components_)"
   ]
  },
  {
   "cell_type": "markdown",
   "id": "afc3f2d1-45e8-42cc-9763-69836b1aaa71",
   "metadata": {},
   "source": [
    "Massive (50%) reduction using PCA"
   ]
  },
  {
   "cell_type": "code",
   "execution_count": 14,
   "id": "dd7a81c3-ced7-48df-8eba-cacb1e814bbd",
   "metadata": {},
   "outputs": [],
   "source": [
    "## Stratified CV spliter for survival analysis"
   ]
  },
  {
   "cell_type": "code",
   "execution_count": 15,
   "id": "e63ce8de-3339-4d4f-9df3-d11c8e61feba",
   "metadata": {},
   "outputs": [],
   "source": [
    "#from sklearn.model_selection import RepeatedStratifiedKFold, StratifiedKFold"
   ]
  },
  {
   "cell_type": "code",
   "execution_count": 16,
   "id": "efe2e846-9bc4-435f-9e83-06f01577ca2a",
   "metadata": {},
   "outputs": [],
   "source": [
    "#testkf= RepeatedStratifiedKFold(n_splits=5,n_repeats=2,random_state=2307)\n",
    "#for trn,tst in testkf.split(X_train, survhive.get_indicator(y_train)):\n",
    "#    print(trn,tst) "
   ]
  },
  {
   "cell_type": "markdown",
   "id": "8c36a230",
   "metadata": {},
   "source": [
    "# test coxnet"
   ]
  },
  {
   "cell_type": "code",
   "execution_count": 17,
   "id": "9aafa692-2cba-4a47-b376-04742eae3b67",
   "metadata": {},
   "outputs": [
    {
     "data": {
      "text/html": [
       "<style>#sk-container-id-1 {color: black;background-color: white;}#sk-container-id-1 pre{padding: 0;}#sk-container-id-1 div.sk-toggleable {background-color: white;}#sk-container-id-1 label.sk-toggleable__label {cursor: pointer;display: block;width: 100%;margin-bottom: 0;padding: 0.3em;box-sizing: border-box;text-align: center;}#sk-container-id-1 label.sk-toggleable__label-arrow:before {content: \"▸\";float: left;margin-right: 0.25em;color: #696969;}#sk-container-id-1 label.sk-toggleable__label-arrow:hover:before {color: black;}#sk-container-id-1 div.sk-estimator:hover label.sk-toggleable__label-arrow:before {color: black;}#sk-container-id-1 div.sk-toggleable__content {max-height: 0;max-width: 0;overflow: hidden;text-align: left;background-color: #f0f8ff;}#sk-container-id-1 div.sk-toggleable__content pre {margin: 0.2em;color: black;border-radius: 0.25em;background-color: #f0f8ff;}#sk-container-id-1 input.sk-toggleable__control:checked~div.sk-toggleable__content {max-height: 200px;max-width: 100%;overflow: auto;}#sk-container-id-1 input.sk-toggleable__control:checked~label.sk-toggleable__label-arrow:before {content: \"▾\";}#sk-container-id-1 div.sk-estimator input.sk-toggleable__control:checked~label.sk-toggleable__label {background-color: #d4ebff;}#sk-container-id-1 div.sk-label input.sk-toggleable__control:checked~label.sk-toggleable__label {background-color: #d4ebff;}#sk-container-id-1 input.sk-hidden--visually {border: 0;clip: rect(1px 1px 1px 1px);clip: rect(1px, 1px, 1px, 1px);height: 1px;margin: -1px;overflow: hidden;padding: 0;position: absolute;width: 1px;}#sk-container-id-1 div.sk-estimator {font-family: monospace;background-color: #f0f8ff;border: 1px dotted black;border-radius: 0.25em;box-sizing: border-box;margin-bottom: 0.5em;}#sk-container-id-1 div.sk-estimator:hover {background-color: #d4ebff;}#sk-container-id-1 div.sk-parallel-item::after {content: \"\";width: 100%;border-bottom: 1px solid gray;flex-grow: 1;}#sk-container-id-1 div.sk-label:hover label.sk-toggleable__label {background-color: #d4ebff;}#sk-container-id-1 div.sk-serial::before {content: \"\";position: absolute;border-left: 1px solid gray;box-sizing: border-box;top: 0;bottom: 0;left: 50%;z-index: 0;}#sk-container-id-1 div.sk-serial {display: flex;flex-direction: column;align-items: center;background-color: white;padding-right: 0.2em;padding-left: 0.2em;position: relative;}#sk-container-id-1 div.sk-item {position: relative;z-index: 1;}#sk-container-id-1 div.sk-parallel {display: flex;align-items: stretch;justify-content: center;background-color: white;position: relative;}#sk-container-id-1 div.sk-item::before, #sk-container-id-1 div.sk-parallel-item::before {content: \"\";position: absolute;border-left: 1px solid gray;box-sizing: border-box;top: 0;bottom: 0;left: 50%;z-index: -1;}#sk-container-id-1 div.sk-parallel-item {display: flex;flex-direction: column;z-index: 1;position: relative;background-color: white;}#sk-container-id-1 div.sk-parallel-item:first-child::after {align-self: flex-end;width: 50%;}#sk-container-id-1 div.sk-parallel-item:last-child::after {align-self: flex-start;width: 50%;}#sk-container-id-1 div.sk-parallel-item:only-child::after {width: 0;}#sk-container-id-1 div.sk-dashed-wrapped {border: 1px dashed gray;margin: 0 0.4em 0.5em 0.4em;box-sizing: border-box;padding-bottom: 0.4em;background-color: white;}#sk-container-id-1 div.sk-label label {font-family: monospace;font-weight: bold;display: inline-block;line-height: 1.2em;}#sk-container-id-1 div.sk-label-container {text-align: center;}#sk-container-id-1 div.sk-container {/* jupyter's `normalize.less` sets `[hidden] { display: none; }` but bootstrap.min.css set `[hidden] { display: none !important; }` so we also need the `!important` here to be able to override the default hidden behavior on the sphinx rendered scikit-learn.org. See: https://github.com/scikit-learn/scikit-learn/issues/21755 */display: inline-block !important;position: relative;}#sk-container-id-1 div.sk-text-repr-fallback {display: none;}</style><div id=\"sk-container-id-1\" class=\"sk-top-container\"><div class=\"sk-text-repr-fallback\"><pre>CoxNet(rng_seed=2309, l1_ratio=0.5, verbose=False, fit_baseline_model=False)</pre><b>In a Jupyter environment, please rerun this cell to show the HTML representation or trust the notebook. <br />On GitHub, the HTML representation is unable to render, please try loading this page with nbviewer.org.</b></div><div class=\"sk-container\" hidden><div class=\"sk-item\"><div class=\"sk-estimator sk-toggleable\"><input class=\"sk-toggleable__control sk-hidden--visually\" id=\"sk-estimator-id-1\" type=\"checkbox\" checked><label for=\"sk-estimator-id-1\" class=\"sk-toggleable__label sk-toggleable__label-arrow\">CoxNet</label><div class=\"sk-toggleable__content\"><pre>CoxNet(rng_seed=2309, l1_ratio=0.5, verbose=False, fit_baseline_model=False)</pre></div></div></div></div></div>"
      ],
      "text/plain": [
       "CoxNet(rng_seed=2309, l1_ratio=0.5, verbose=False, fit_baseline_model=False)"
      ]
     },
     "execution_count": 17,
     "metadata": {},
     "output_type": "execute_result"
    }
   ],
   "source": [
    "coxnet = survhive.CoxNet(rng_seed=2309)\n",
    "coxnet.fit(X_train, y_train)"
   ]
  },
  {
   "cell_type": "code",
   "execution_count": 18,
   "id": "9a0e80b7",
   "metadata": {},
   "outputs": [
    {
     "data": {
      "text/plain": [
       "0.7927079761717836"
      ]
     },
     "execution_count": 18,
     "metadata": {},
     "output_type": "execute_result"
    }
   ],
   "source": [
    "coxnet.score(X_test, y_test)"
   ]
  },
  {
   "cell_type": "code",
   "execution_count": 19,
   "id": "f894a2c8",
   "metadata": {},
   "outputs": [],
   "source": [
    "#from sklearn.model_selection import GridSearchCV, RandomizedSearchCV"
   ]
  },
  {
   "cell_type": "code",
   "execution_count": 21,
   "id": "946d79e0-0f7c-44c6-893c-8b5ea52c5a57",
   "metadata": {},
   "outputs": [
    {
     "data": {
      "text/plain": [
       "{'l1_ratio': [0.01, 0.1, 0.25, 0.5, 0.75, 0.9, 0.99]}"
      ]
     },
     "execution_count": 21,
     "metadata": {},
     "output_type": "execute_result"
    }
   ],
   "source": [
    "coxnet.get_parameter_grid()"
   ]
  },
  {
   "cell_type": "code",
   "execution_count": 22,
   "id": "2cc893c3",
   "metadata": {
    "jupyter": {
     "source_hidden": true
    }
   },
   "outputs": [
    {
     "data": {
      "text/plain": [
       "(0.7929050492362217, {'l1_ratio': 0.01})"
      ]
     },
     "execution_count": 22,
     "metadata": {},
     "output_type": "execute_result"
    }
   ],
   "source": [
    "opt_coxnet, opt_coxnet_params, opt_coxnet_search = survhive.optimize(coxnet, X_train, y_train,  n_jobs=4)\n",
    "opt_coxnet.score(X_test, y_test), opt_coxnet_params"
   ]
  },
  {
   "cell_type": "code",
   "execution_count": 24,
   "id": "603ad87d-9e0f-46c4-9e34-7eec765a2b66",
   "metadata": {
    "jupyter": {
     "source_hidden": true
    }
   },
   "outputs": [
    {
     "data": {
      "text/plain": [
       "[(1, 0.7908660030457184, 0.013578576459717839, {'l1_ratio': 0.01}),\n",
       " (2, 0.790853929619151, 0.013575786215731024, {'l1_ratio': 0.1}),\n",
       " (3, 0.7908424033057694, 0.013587621352660808, {'l1_ratio': 0.25}),\n",
       " (4, 0.7908046510956237, 0.01358534558473881, {'l1_ratio': 0.5}),\n",
       " (5, 0.7907654260533723, 0.013603444287500337, {'l1_ratio': 0.75}),\n",
       " (6, 0.7907518540000099, 0.013597551300141642, {'l1_ratio': 0.9}),\n",
       " (7, 0.7907474755844599, 0.01361259181444461, {'l1_ratio': 0.99})]"
      ]
     },
     "execution_count": 24,
     "metadata": {},
     "output_type": "execute_result"
    }
   ],
   "source": [
    "survhive.get_top_models(opt_coxnet_search, X_test, y_test)"
   ]
  },
  {
   "cell_type": "markdown",
   "id": "2fd37d08-ee4e-4bea-8a6d-2c6b8cbd5c8d",
   "metadata": {},
   "source": [
    "# Test DSM"
   ]
  },
  {
   "cell_type": "code",
   "execution_count": 81,
   "id": "dcd9ed4f-1f8b-42d2-84b4-12c119490e40",
   "metadata": {},
   "outputs": [],
   "source": [
    "batch5 = int(X_train.shape[0] /20 ) "
   ]
  },
  {
   "cell_type": "code",
   "execution_count": 114,
   "id": "96b54175-b841-4fd8-a658-6396df51b0a8",
   "metadata": {},
   "outputs": [
    {
     "data": {
      "text/html": [
       "<style>#sk-container-id-20 {color: black;background-color: white;}#sk-container-id-20 pre{padding: 0;}#sk-container-id-20 div.sk-toggleable {background-color: white;}#sk-container-id-20 label.sk-toggleable__label {cursor: pointer;display: block;width: 100%;margin-bottom: 0;padding: 0.3em;box-sizing: border-box;text-align: center;}#sk-container-id-20 label.sk-toggleable__label-arrow:before {content: \"▸\";float: left;margin-right: 0.25em;color: #696969;}#sk-container-id-20 label.sk-toggleable__label-arrow:hover:before {color: black;}#sk-container-id-20 div.sk-estimator:hover label.sk-toggleable__label-arrow:before {color: black;}#sk-container-id-20 div.sk-toggleable__content {max-height: 0;max-width: 0;overflow: hidden;text-align: left;background-color: #f0f8ff;}#sk-container-id-20 div.sk-toggleable__content pre {margin: 0.2em;color: black;border-radius: 0.25em;background-color: #f0f8ff;}#sk-container-id-20 input.sk-toggleable__control:checked~div.sk-toggleable__content {max-height: 200px;max-width: 100%;overflow: auto;}#sk-container-id-20 input.sk-toggleable__control:checked~label.sk-toggleable__label-arrow:before {content: \"▾\";}#sk-container-id-20 div.sk-estimator input.sk-toggleable__control:checked~label.sk-toggleable__label {background-color: #d4ebff;}#sk-container-id-20 div.sk-label input.sk-toggleable__control:checked~label.sk-toggleable__label {background-color: #d4ebff;}#sk-container-id-20 input.sk-hidden--visually {border: 0;clip: rect(1px 1px 1px 1px);clip: rect(1px, 1px, 1px, 1px);height: 1px;margin: -1px;overflow: hidden;padding: 0;position: absolute;width: 1px;}#sk-container-id-20 div.sk-estimator {font-family: monospace;background-color: #f0f8ff;border: 1px dotted black;border-radius: 0.25em;box-sizing: border-box;margin-bottom: 0.5em;}#sk-container-id-20 div.sk-estimator:hover {background-color: #d4ebff;}#sk-container-id-20 div.sk-parallel-item::after {content: \"\";width: 100%;border-bottom: 1px solid gray;flex-grow: 1;}#sk-container-id-20 div.sk-label:hover label.sk-toggleable__label {background-color: #d4ebff;}#sk-container-id-20 div.sk-serial::before {content: \"\";position: absolute;border-left: 1px solid gray;box-sizing: border-box;top: 0;bottom: 0;left: 50%;z-index: 0;}#sk-container-id-20 div.sk-serial {display: flex;flex-direction: column;align-items: center;background-color: white;padding-right: 0.2em;padding-left: 0.2em;position: relative;}#sk-container-id-20 div.sk-item {position: relative;z-index: 1;}#sk-container-id-20 div.sk-parallel {display: flex;align-items: stretch;justify-content: center;background-color: white;position: relative;}#sk-container-id-20 div.sk-item::before, #sk-container-id-20 div.sk-parallel-item::before {content: \"\";position: absolute;border-left: 1px solid gray;box-sizing: border-box;top: 0;bottom: 0;left: 50%;z-index: -1;}#sk-container-id-20 div.sk-parallel-item {display: flex;flex-direction: column;z-index: 1;position: relative;background-color: white;}#sk-container-id-20 div.sk-parallel-item:first-child::after {align-self: flex-end;width: 50%;}#sk-container-id-20 div.sk-parallel-item:last-child::after {align-self: flex-start;width: 50%;}#sk-container-id-20 div.sk-parallel-item:only-child::after {width: 0;}#sk-container-id-20 div.sk-dashed-wrapped {border: 1px dashed gray;margin: 0 0.4em 0.5em 0.4em;box-sizing: border-box;padding-bottom: 0.4em;background-color: white;}#sk-container-id-20 div.sk-label label {font-family: monospace;font-weight: bold;display: inline-block;line-height: 1.2em;}#sk-container-id-20 div.sk-label-container {text-align: center;}#sk-container-id-20 div.sk-container {/* jupyter's `normalize.less` sets `[hidden] { display: none; }` but bootstrap.min.css set `[hidden] { display: none !important; }` so we also need the `!important` here to be able to override the default hidden behavior on the sphinx rendered scikit-learn.org. See: https://github.com/scikit-learn/scikit-learn/issues/21755 */display: inline-block !important;position: relative;}#sk-container-id-20 div.sk-text-repr-fallback {display: none;}</style><div id=\"sk-container-id-20\" class=\"sk-top-container\"><div class=\"sk-text-repr-fallback\"><pre>DeepSurvivalMachines(rng_seed=2309, n_distr=2, distr_kind=&#x27;Weibull&#x27;, batch_size=244, layer_sizes=[4], learning_rate=0.1, validation_size=0.2, max_epochs=1000, elbo=False)</pre><b>In a Jupyter environment, please rerun this cell to show the HTML representation or trust the notebook. <br />On GitHub, the HTML representation is unable to render, please try loading this page with nbviewer.org.</b></div><div class=\"sk-container\" hidden><div class=\"sk-item\"><div class=\"sk-estimator sk-toggleable\"><input class=\"sk-toggleable__control sk-hidden--visually\" id=\"sk-estimator-id-20\" type=\"checkbox\" checked><label for=\"sk-estimator-id-20\" class=\"sk-toggleable__label sk-toggleable__label-arrow\">DeepSurvivalMachines</label><div class=\"sk-toggleable__content\"><pre>DeepSurvivalMachines(rng_seed=2309, n_distr=2, distr_kind=&#x27;Weibull&#x27;, batch_size=244, layer_sizes=[4], learning_rate=0.1, validation_size=0.2, max_epochs=1000, elbo=False)</pre></div></div></div></div></div>"
      ],
      "text/plain": [
       "DeepSurvivalMachines(rng_seed=2309, n_distr=2, distr_kind='Weibull', batch_size=244, layer_sizes=[4], learning_rate=0.1, validation_size=0.2, max_epochs=1000, elbo=False)"
      ]
     },
     "execution_count": 114,
     "metadata": {},
     "output_type": "execute_result"
    }
   ],
   "source": [
    "fl_dsm=survhive.DeepSurvivalMachines(rng_seed=2309, batch_size=batch5, layer_sizes=[4], validation_size=0.2, learning_rate=0.1, max_epochs=1000)\n",
    "fl_dsm"
   ]
  },
  {
   "cell_type": "code",
   "execution_count": 115,
   "id": "59b7ea26-ea58-4cf0-8381-82588d6f17b4",
   "metadata": {},
   "outputs": [
    {
     "name": "stderr",
     "output_type": "stream",
     "text": [
      "100%|███████████████████████████████████████████████████████████████████████████████████████████████████████████████████████████| 10000/10000 [00:13<00:00, 733.60it/s]\n",
      "100%|██████████████████████████████████████████████████████████████████████████████████████████████████████████████████████████████| 1000/1000 [00:36<00:00, 27.18it/s]\n"
     ]
    },
    {
     "ename": "ValueError",
     "evalue": "Input estimate contains NaN.",
     "output_type": "error",
     "traceback": [
      "\u001b[0;31m---------------------------------------------------------------------------\u001b[0m",
      "\u001b[0;31mValueError\u001b[0m                                Traceback (most recent call last)",
      "Cell \u001b[0;32mIn[115], line 4\u001b[0m\n\u001b[1;32m      1\u001b[0m \u001b[38;5;66;03m#fl_dsm.layer_sizes=[3]\u001b[39;00m\n\u001b[1;32m      2\u001b[0m \u001b[38;5;66;03m#fl_dsm.learning_rate=0.01\u001b[39;00m\n\u001b[1;32m      3\u001b[0m fl_dsm_xplore\u001b[38;5;241m=\u001b[39mfl_dsm\u001b[38;5;241m.\u001b[39mfit(X_train,y_train)\n\u001b[0;32m----> 4\u001b[0m \u001b[43mfl_dsm_xplore\u001b[49m\u001b[38;5;241;43m.\u001b[39;49m\u001b[43mscore\u001b[49m\u001b[43m(\u001b[49m\u001b[43mX_train\u001b[49m\u001b[43m,\u001b[49m\u001b[43my_train\u001b[49m\u001b[43m)\u001b[49m\n",
      "File \u001b[0;32m/usr/local/ivan/Unito/survhive/survhive/auton_adapters.py:95\u001b[0m, in \u001b[0;36mDeepSurvivalMachines.score\u001b[0;34m(self, X, y)\u001b[0m\n\u001b[1;32m     93\u001b[0m \u001b[38;5;124m\"\u001b[39m\u001b[38;5;124mreturn the Harrell\u001b[39m\u001b[38;5;124m'\u001b[39m\u001b[38;5;124ms c-index as a sklearn score\u001b[39m\u001b[38;5;124m\"\u001b[39m\n\u001b[1;32m     94\u001b[0m X, y \u001b[38;5;241m=\u001b[39m check_X_y(X, y)\n\u001b[0;32m---> 95\u001b[0m \u001b[38;5;28;01mreturn\u001b[39;00m \u001b[38;5;28;43mself\u001b[39;49m\u001b[38;5;241;43m.\u001b[39;49m\u001b[43mharrell_score\u001b[49m\u001b[43m(\u001b[49m\u001b[43my\u001b[49m\u001b[43m,\u001b[49m\u001b[43m \u001b[49m\u001b[38;5;28;43mself\u001b[39;49m\u001b[38;5;241;43m.\u001b[39;49m\u001b[43mpredict\u001b[49m\u001b[43m(\u001b[49m\u001b[43mX\u001b[49m\u001b[43m)\u001b[49m\u001b[43m)\u001b[49m[\u001b[38;5;241m0\u001b[39m]\n",
      "File \u001b[0;32m/usr/local/ivan/Unito/survhive/survhive/auton_adapters.py:83\u001b[0m, in \u001b[0;36mDeepSurvivalMachines.harrell_score\u001b[0;34m(self, y_true, y_pred, *args, **kwargs)\u001b[0m\n\u001b[1;32m     80\u001b[0m \u001b[38;5;28;01mdef\u001b[39;00m \u001b[38;5;21mharrell_score\u001b[39m(\u001b[38;5;28mself\u001b[39m, y_true, y_pred, \u001b[38;5;241m*\u001b[39margs, \u001b[38;5;241m*\u001b[39m\u001b[38;5;241m*\u001b[39mkwargs):\n\u001b[1;32m     81\u001b[0m     \u001b[38;5;124m\"\u001b[39m\u001b[38;5;124mreturn Harrell\u001b[39m\u001b[38;5;124m'\u001b[39m\u001b[38;5;124ms C-index for a prediction\u001b[39m\u001b[38;5;124m\"\u001b[39m\n\u001b[0;32m---> 83\u001b[0m     \u001b[38;5;28;01mreturn\u001b[39;00m \u001b[43mconcordance_index_censored\u001b[49m\u001b[43m(\u001b[49m\n\u001b[1;32m     84\u001b[0m \u001b[43m        \u001b[49m\u001b[38;5;66;43;03m# event_indicator=y_true[y_true.dtype.names[0]],\u001b[39;49;00m\n\u001b[1;32m     85\u001b[0m \u001b[43m        \u001b[49m\u001b[43mevent_indicator\u001b[49m\u001b[38;5;241;43m=\u001b[39;49m\u001b[43mget_indicator\u001b[49m\u001b[43m(\u001b[49m\u001b[43my_true\u001b[49m\u001b[43m)\u001b[49m\u001b[43m,\u001b[49m\n\u001b[1;32m     86\u001b[0m \u001b[43m        \u001b[49m\u001b[43mevent_time\u001b[49m\u001b[38;5;241;43m=\u001b[39;49m\u001b[43mget_time\u001b[49m\u001b[43m(\u001b[49m\u001b[43my_true\u001b[49m\u001b[43m)\u001b[49m\u001b[43m,\u001b[49m\n\u001b[1;32m     87\u001b[0m \u001b[43m        \u001b[49m\u001b[43mestimate\u001b[49m\u001b[38;5;241;43m=\u001b[39;49m\u001b[43my_pred\u001b[49m\u001b[43m,\u001b[49m\n\u001b[1;32m     88\u001b[0m \u001b[43m        \u001b[49m\u001b[38;5;241;43m*\u001b[39;49m\u001b[43margs\u001b[49m\u001b[43m,\u001b[49m\n\u001b[1;32m     89\u001b[0m \u001b[43m        \u001b[49m\u001b[38;5;241;43m*\u001b[39;49m\u001b[38;5;241;43m*\u001b[39;49m\u001b[43mkwargs\u001b[49m\u001b[43m,\u001b[49m\n\u001b[1;32m     90\u001b[0m \u001b[43m    \u001b[49m\u001b[43m)\u001b[49m\n",
      "File \u001b[0;32m/usr/local/ivan/Unito/conda/envs/tosa/lib/python3.10/site-packages/sksurv/metrics.py:214\u001b[0m, in \u001b[0;36mconcordance_index_censored\u001b[0;34m(event_indicator, event_time, estimate, tied_tol)\u001b[0m\n\u001b[1;32m    149\u001b[0m \u001b[38;5;28;01mdef\u001b[39;00m \u001b[38;5;21mconcordance_index_censored\u001b[39m(event_indicator, event_time, estimate, tied_tol\u001b[38;5;241m=\u001b[39m\u001b[38;5;241m1e-8\u001b[39m):\n\u001b[1;32m    150\u001b[0m \u001b[38;5;250m    \u001b[39m\u001b[38;5;124;03m\"\"\"Concordance index for right-censored data\u001b[39;00m\n\u001b[1;32m    151\u001b[0m \n\u001b[1;32m    152\u001b[0m \u001b[38;5;124;03m    The concordance index is defined as the proportion of all comparable pairs\u001b[39;00m\n\u001b[0;32m   (...)\u001b[0m\n\u001b[1;32m    212\u001b[0m \u001b[38;5;124;03m           Statistics in Medicine, 15(4), 361-87, 1996.\u001b[39;00m\n\u001b[1;32m    213\u001b[0m \u001b[38;5;124;03m    \"\"\"\u001b[39;00m\n\u001b[0;32m--> 214\u001b[0m     event_indicator, event_time, estimate \u001b[38;5;241m=\u001b[39m \u001b[43m_check_inputs\u001b[49m\u001b[43m(\u001b[49m\u001b[43mevent_indicator\u001b[49m\u001b[43m,\u001b[49m\u001b[43m \u001b[49m\u001b[43mevent_time\u001b[49m\u001b[43m,\u001b[49m\u001b[43m \u001b[49m\u001b[43mestimate\u001b[49m\u001b[43m)\u001b[49m\n\u001b[1;32m    216\u001b[0m     w \u001b[38;5;241m=\u001b[39m np\u001b[38;5;241m.\u001b[39mones_like(estimate)\n\u001b[1;32m    218\u001b[0m     \u001b[38;5;28;01mreturn\u001b[39;00m _estimate_concordance_index(event_indicator, event_time, estimate, w, tied_tol)\n",
      "File \u001b[0;32m/usr/local/ivan/Unito/conda/envs/tosa/lib/python3.10/site-packages/sksurv/metrics.py:47\u001b[0m, in \u001b[0;36m_check_inputs\u001b[0;34m(event_indicator, event_time, estimate)\u001b[0m\n\u001b[1;32m     45\u001b[0m event_indicator \u001b[38;5;241m=\u001b[39m check_array(event_indicator, ensure_2d\u001b[38;5;241m=\u001b[39m\u001b[38;5;28;01mFalse\u001b[39;00m, input_name\u001b[38;5;241m=\u001b[39m\u001b[38;5;124m\"\u001b[39m\u001b[38;5;124mevent_indicator\u001b[39m\u001b[38;5;124m\"\u001b[39m)\n\u001b[1;32m     46\u001b[0m event_time \u001b[38;5;241m=\u001b[39m check_array(event_time, ensure_2d\u001b[38;5;241m=\u001b[39m\u001b[38;5;28;01mFalse\u001b[39;00m, input_name\u001b[38;5;241m=\u001b[39m\u001b[38;5;124m\"\u001b[39m\u001b[38;5;124mevent_time\u001b[39m\u001b[38;5;124m\"\u001b[39m)\n\u001b[0;32m---> 47\u001b[0m estimate \u001b[38;5;241m=\u001b[39m \u001b[43m_check_estimate_1d\u001b[49m\u001b[43m(\u001b[49m\u001b[43mestimate\u001b[49m\u001b[43m,\u001b[49m\u001b[43m \u001b[49m\u001b[43mevent_time\u001b[49m\u001b[43m)\u001b[49m\n\u001b[1;32m     49\u001b[0m \u001b[38;5;28;01mif\u001b[39;00m \u001b[38;5;129;01mnot\u001b[39;00m np\u001b[38;5;241m.\u001b[39missubdtype(event_indicator\u001b[38;5;241m.\u001b[39mdtype, np\u001b[38;5;241m.\u001b[39mbool_):\n\u001b[1;32m     50\u001b[0m     \u001b[38;5;28;01mraise\u001b[39;00m \u001b[38;5;167;01mValueError\u001b[39;00m(\n\u001b[1;32m     51\u001b[0m         \u001b[38;5;124mf\u001b[39m\u001b[38;5;124m\"\u001b[39m\u001b[38;5;124monly boolean arrays are supported as class labels for survival analysis, got \u001b[39m\u001b[38;5;132;01m{\u001b[39;00mevent_indicator\u001b[38;5;241m.\u001b[39mdtype\u001b[38;5;132;01m}\u001b[39;00m\u001b[38;5;124m\"\u001b[39m\n\u001b[1;32m     52\u001b[0m     )\n",
      "File \u001b[0;32m/usr/local/ivan/Unito/conda/envs/tosa/lib/python3.10/site-packages/sksurv/metrics.py:36\u001b[0m, in \u001b[0;36m_check_estimate_1d\u001b[0;34m(estimate, test_time)\u001b[0m\n\u001b[1;32m     35\u001b[0m \u001b[38;5;28;01mdef\u001b[39;00m \u001b[38;5;21m_check_estimate_1d\u001b[39m(estimate, test_time):\n\u001b[0;32m---> 36\u001b[0m     estimate \u001b[38;5;241m=\u001b[39m \u001b[43mcheck_array\u001b[49m\u001b[43m(\u001b[49m\u001b[43mestimate\u001b[49m\u001b[43m,\u001b[49m\u001b[43m \u001b[49m\u001b[43mensure_2d\u001b[49m\u001b[38;5;241;43m=\u001b[39;49m\u001b[38;5;28;43;01mFalse\u001b[39;49;00m\u001b[43m,\u001b[49m\u001b[43m \u001b[49m\u001b[43minput_name\u001b[49m\u001b[38;5;241;43m=\u001b[39;49m\u001b[38;5;124;43m\"\u001b[39;49m\u001b[38;5;124;43mestimate\u001b[39;49m\u001b[38;5;124;43m\"\u001b[39;49m\u001b[43m)\u001b[49m\n\u001b[1;32m     37\u001b[0m     \u001b[38;5;28;01mif\u001b[39;00m estimate\u001b[38;5;241m.\u001b[39mndim \u001b[38;5;241m!=\u001b[39m \u001b[38;5;241m1\u001b[39m:\n\u001b[1;32m     38\u001b[0m         \u001b[38;5;28;01mraise\u001b[39;00m \u001b[38;5;167;01mValueError\u001b[39;00m(\u001b[38;5;124mf\u001b[39m\u001b[38;5;124m\"\u001b[39m\u001b[38;5;124mExpected 1D array, got \u001b[39m\u001b[38;5;132;01m{\u001b[39;00mestimate\u001b[38;5;241m.\u001b[39mndim\u001b[38;5;132;01m}\u001b[39;00m\u001b[38;5;124mD array instead:\u001b[39m\u001b[38;5;130;01m\\n\u001b[39;00m\u001b[38;5;124marray=\u001b[39m\u001b[38;5;132;01m{\u001b[39;00mestimate\u001b[38;5;132;01m}\u001b[39;00m\u001b[38;5;124m.\u001b[39m\u001b[38;5;130;01m\\n\u001b[39;00m\u001b[38;5;124m\"\u001b[39m)\n",
      "File \u001b[0;32m/usr/local/ivan/Unito/conda/envs/tosa/lib/python3.10/site-packages/sklearn/utils/validation.py:921\u001b[0m, in \u001b[0;36mcheck_array\u001b[0;34m(array, accept_sparse, accept_large_sparse, dtype, order, copy, force_all_finite, ensure_2d, allow_nd, ensure_min_samples, ensure_min_features, estimator, input_name)\u001b[0m\n\u001b[1;32m    915\u001b[0m         \u001b[38;5;28;01mraise\u001b[39;00m \u001b[38;5;167;01mValueError\u001b[39;00m(\n\u001b[1;32m    916\u001b[0m             \u001b[38;5;124m\"\u001b[39m\u001b[38;5;124mFound array with dim \u001b[39m\u001b[38;5;132;01m%d\u001b[39;00m\u001b[38;5;124m. \u001b[39m\u001b[38;5;132;01m%s\u001b[39;00m\u001b[38;5;124m expected <= 2.\u001b[39m\u001b[38;5;124m\"\u001b[39m\n\u001b[1;32m    917\u001b[0m             \u001b[38;5;241m%\u001b[39m (array\u001b[38;5;241m.\u001b[39mndim, estimator_name)\n\u001b[1;32m    918\u001b[0m         )\n\u001b[1;32m    920\u001b[0m     \u001b[38;5;28;01mif\u001b[39;00m force_all_finite:\n\u001b[0;32m--> 921\u001b[0m         \u001b[43m_assert_all_finite\u001b[49m\u001b[43m(\u001b[49m\n\u001b[1;32m    922\u001b[0m \u001b[43m            \u001b[49m\u001b[43marray\u001b[49m\u001b[43m,\u001b[49m\n\u001b[1;32m    923\u001b[0m \u001b[43m            \u001b[49m\u001b[43minput_name\u001b[49m\u001b[38;5;241;43m=\u001b[39;49m\u001b[43minput_name\u001b[49m\u001b[43m,\u001b[49m\n\u001b[1;32m    924\u001b[0m \u001b[43m            \u001b[49m\u001b[43mestimator_name\u001b[49m\u001b[38;5;241;43m=\u001b[39;49m\u001b[43mestimator_name\u001b[49m\u001b[43m,\u001b[49m\n\u001b[1;32m    925\u001b[0m \u001b[43m            \u001b[49m\u001b[43mallow_nan\u001b[49m\u001b[38;5;241;43m=\u001b[39;49m\u001b[43mforce_all_finite\u001b[49m\u001b[43m \u001b[49m\u001b[38;5;241;43m==\u001b[39;49m\u001b[43m \u001b[49m\u001b[38;5;124;43m\"\u001b[39;49m\u001b[38;5;124;43mallow-nan\u001b[39;49m\u001b[38;5;124;43m\"\u001b[39;49m\u001b[43m,\u001b[49m\n\u001b[1;32m    926\u001b[0m \u001b[43m        \u001b[49m\u001b[43m)\u001b[49m\n\u001b[1;32m    928\u001b[0m \u001b[38;5;28;01mif\u001b[39;00m ensure_min_samples \u001b[38;5;241m>\u001b[39m \u001b[38;5;241m0\u001b[39m:\n\u001b[1;32m    929\u001b[0m     n_samples \u001b[38;5;241m=\u001b[39m _num_samples(array)\n",
      "File \u001b[0;32m/usr/local/ivan/Unito/conda/envs/tosa/lib/python3.10/site-packages/sklearn/utils/validation.py:161\u001b[0m, in \u001b[0;36m_assert_all_finite\u001b[0;34m(X, allow_nan, msg_dtype, estimator_name, input_name)\u001b[0m\n\u001b[1;32m    144\u001b[0m \u001b[38;5;28;01mif\u001b[39;00m estimator_name \u001b[38;5;129;01mand\u001b[39;00m input_name \u001b[38;5;241m==\u001b[39m \u001b[38;5;124m\"\u001b[39m\u001b[38;5;124mX\u001b[39m\u001b[38;5;124m\"\u001b[39m \u001b[38;5;129;01mand\u001b[39;00m has_nan_error:\n\u001b[1;32m    145\u001b[0m     \u001b[38;5;66;03m# Improve the error message on how to handle missing values in\u001b[39;00m\n\u001b[1;32m    146\u001b[0m     \u001b[38;5;66;03m# scikit-learn.\u001b[39;00m\n\u001b[1;32m    147\u001b[0m     msg_err \u001b[38;5;241m+\u001b[39m\u001b[38;5;241m=\u001b[39m (\n\u001b[1;32m    148\u001b[0m         \u001b[38;5;124mf\u001b[39m\u001b[38;5;124m\"\u001b[39m\u001b[38;5;130;01m\\n\u001b[39;00m\u001b[38;5;132;01m{\u001b[39;00mestimator_name\u001b[38;5;132;01m}\u001b[39;00m\u001b[38;5;124m does not accept missing values\u001b[39m\u001b[38;5;124m\"\u001b[39m\n\u001b[1;32m    149\u001b[0m         \u001b[38;5;124m\"\u001b[39m\u001b[38;5;124m encoded as NaN natively. For supervised learning, you might want\u001b[39m\u001b[38;5;124m\"\u001b[39m\n\u001b[0;32m   (...)\u001b[0m\n\u001b[1;32m    159\u001b[0m         \u001b[38;5;124m\"\u001b[39m\u001b[38;5;124m#estimators-that-handle-nan-values\u001b[39m\u001b[38;5;124m\"\u001b[39m\n\u001b[1;32m    160\u001b[0m     )\n\u001b[0;32m--> 161\u001b[0m \u001b[38;5;28;01mraise\u001b[39;00m \u001b[38;5;167;01mValueError\u001b[39;00m(msg_err)\n",
      "\u001b[0;31mValueError\u001b[0m: Input estimate contains NaN."
     ]
    }
   ],
   "source": [
    "#fl_dsm.layer_sizes=[3]\n",
    "#fl_dsm.learning_rate=0.01\n",
    "fl_dsm_xplore=fl_dsm.fit(X_train,y_train)\n",
    "fl_dsm_xplore.score(X_train,y_train)"
   ]
  },
  {
   "cell_type": "code",
   "execution_count": 27,
   "id": "5f760708-c608-4281-b7e0-c17b043053de",
   "metadata": {},
   "outputs": [
    {
     "data": {
      "text/plain": [
       "{'n_distr': [1, 2, 3],\n",
       " 'distr_kind': ['Weibull'],\n",
       " 'batch_size': [16, 32],\n",
       " 'layer_sizes': [[3],\n",
       "  [4],\n",
       "  [5],\n",
       "  [7],\n",
       "  [3, 3],\n",
       "  [4, 4],\n",
       "  [5, 5],\n",
       "  [7, 7],\n",
       "  [3, 3, 3],\n",
       "  [4, 4, 4],\n",
       "  [5, 5, 5],\n",
       "  [7, 7, 7]],\n",
       " 'learning_rate': [0.005, 0.001],\n",
       " 'validation_size': [0.1],\n",
       " 'max_epochs': [100],\n",
       " 'elbo': [False]}"
      ]
     },
     "execution_count": 27,
     "metadata": {},
     "output_type": "execute_result"
    }
   ],
   "source": [
    "grid =survhive.DeepSurvivalMachines.get_parameter_grid(max_width=X_train.shape[1])\n",
    "grid"
   ]
  },
  {
   "cell_type": "code",
   "execution_count": 29,
   "id": "6b2fb365-dd6e-4e05-b3fc-6c18c950221a",
   "metadata": {},
   "outputs": [],
   "source": [
    "# Stratified CV\n",
    "#opt_dsm, opt_dsm_params, opt_dsm_search = optimize(survhive.DeepSurvivalMachines(rng_seed=2308),  X_train, y_train, n_jobs=8,\n",
    "                                                  # user_grid=grid,cv=RepeatedStratifiedKFold(n_splits=5, n_repeats=2, random_state=2308).split(X_train,survhive.get_indicator(y_train)))\n",
    "#opt_dsm.score(X_test, y_test), opt_dsm_params"
   ]
  },
  {
   "cell_type": "code",
   "execution_count": 109,
   "id": "424fb715-4c00-4d40-82b2-04eb7bbc5f28",
   "metadata": {},
   "outputs": [
    {
     "data": {
      "text/plain": [
       "{'n_distr': [2],\n",
       " 'distr_kind': ['Weibull'],\n",
       " 'batch_size': [244],\n",
       " 'layer_sizes': [[3], [3, 3], [3, 3, 3]],\n",
       " 'learning_rate': [0.005, 0.001],\n",
       " 'validation_size': [0.1],\n",
       " 'max_epochs': [100],\n",
       " 'elbo': [False]}"
      ]
     },
     "execution_count": 109,
     "metadata": {},
     "output_type": "execute_result"
    }
   ],
   "source": [
    "# Stratified CV\n",
    "fl_dsm=survhive.DeepSurvivalMachines(rng_seed=2309,max_epochs=200, validation_size=0.2, batch_size=batch5)\n",
    "fl_grid=fl_dsm.get_parameter_grid(max_width=3)\n",
    "fl_grid['batch_size']=[batch5]\n",
    "fl_grid['n_distr']=[2]\n",
    "fl_grid"
   ]
  },
  {
   "cell_type": "code",
   "execution_count": 110,
   "id": "376c5f7c-ec16-47a0-9ea1-0b47534d8421",
   "metadata": {},
   "outputs": [
    {
     "name": "stderr",
     "output_type": "stream",
     "text": [
      "100%|██████████| 10000/10000 [00:12<00:00, 807.97it/s]\n",
      "100%|██████████| 10000/10000 [00:12<00:00, 794.99it/s]\n",
      "100%|██████████| 100/100 [00:02<00:00, 33.41it/s]\n",
      " 89%|████████▉ | 89/100 [00:02<00:00, 34.26it/s]/usr/local/ivan/Unito/conda/envs/tosa/lib/python3.10/site-packages/sklearn/model_selection/_validation.py:778: UserWarning: Scoring failed. The score on this train-test partition for these parameters will be set to nan. Details: \n",
      "Traceback (most recent call last):\n",
      "  File \"/usr/local/ivan/Unito/conda/envs/tosa/lib/python3.10/site-packages/sklearn/model_selection/_validation.py\", line 767, in _score\n",
      "    scores = scorer(estimator, X_test, y_test)\n",
      "  File \"/usr/local/ivan/Unito/conda/envs/tosa/lib/python3.10/site-packages/sklearn/metrics/_scorer.py\", line 444, in _passthrough_scorer\n",
      "    return estimator.score(*args, **kwargs)\n",
      "  File \"/usr/local/ivan/Unito/survhive/survhive/auton_adapters.py\", line 95, in score\n",
      "    return self.harrell_score(y, self.predict(X))[0]\n",
      "  File \"/usr/local/ivan/Unito/survhive/survhive/auton_adapters.py\", line 83, in harrell_score\n",
      "    return concordance_index_censored(\n",
      "  File \"/usr/local/ivan/Unito/conda/envs/tosa/lib/python3.10/site-packages/sksurv/metrics.py\", line 214, in concordance_index_censored\n",
      "    event_indicator, event_time, estimate = _check_inputs(event_indicator, event_time, estimate)\n",
      "  File \"/usr/local/ivan/Unito/conda/envs/tosa/lib/python3.10/site-packages/sksurv/metrics.py\", line 47, in _check_inputs\n",
      "    estimate = _check_estimate_1d(estimate, event_time)\n",
      "  File \"/usr/local/ivan/Unito/conda/envs/tosa/lib/python3.10/site-packages/sksurv/metrics.py\", line 36, in _check_estimate_1d\n",
      "    estimate = check_array(estimate, ensure_2d=False, input_name=\"estimate\")\n",
      "  File \"/usr/local/ivan/Unito/conda/envs/tosa/lib/python3.10/site-packages/sklearn/utils/validation.py\", line 921, in check_array\n",
      "    _assert_all_finite(\n",
      "  File \"/usr/local/ivan/Unito/conda/envs/tosa/lib/python3.10/site-packages/sklearn/utils/validation.py\", line 161, in _assert_all_finite\n",
      "    raise ValueError(msg_err)\n",
      "ValueError: Input estimate contains NaN.\n",
      "\n",
      "  warnings.warn(\n",
      "100%|██████████| 100/100 [00:03<00:00, 31.52it/s]/s]\n",
      "/usr/local/ivan/Unito/conda/envs/tosa/lib/python3.10/site-packages/sklearn/model_selection/_validation.py:778: UserWarning: Scoring failed. The score on this train-test partition for these parameters will be set to nan. Details: \n",
      "Traceback (most recent call last):\n",
      "  File \"/usr/local/ivan/Unito/conda/envs/tosa/lib/python3.10/site-packages/sklearn/model_selection/_validation.py\", line 767, in _score\n",
      "    scores = scorer(estimator, X_test, y_test)\n",
      "  File \"/usr/local/ivan/Unito/conda/envs/tosa/lib/python3.10/site-packages/sklearn/metrics/_scorer.py\", line 444, in _passthrough_scorer\n",
      "    return estimator.score(*args, **kwargs)\n",
      "  File \"/usr/local/ivan/Unito/survhive/survhive/auton_adapters.py\", line 95, in score\n",
      "    return self.harrell_score(y, self.predict(X))[0]\n",
      "  File \"/usr/local/ivan/Unito/survhive/survhive/auton_adapters.py\", line 83, in harrell_score\n",
      "    return concordance_index_censored(\n",
      "  File \"/usr/local/ivan/Unito/conda/envs/tosa/lib/python3.10/site-packages/sksurv/metrics.py\", line 214, in concordance_index_censored\n",
      "    event_indicator, event_time, estimate = _check_inputs(event_indicator, event_time, estimate)\n",
      "  File \"/usr/local/ivan/Unito/conda/envs/tosa/lib/python3.10/site-packages/sksurv/metrics.py\", line 47, in _check_inputs\n",
      "    estimate = _check_estimate_1d(estimate, event_time)\n",
      "  File \"/usr/local/ivan/Unito/conda/envs/tosa/lib/python3.10/site-packages/sksurv/metrics.py\", line 36, in _check_estimate_1d\n",
      "    estimate = check_array(estimate, ensure_2d=False, input_name=\"estimate\")\n",
      "  File \"/usr/local/ivan/Unito/conda/envs/tosa/lib/python3.10/site-packages/sklearn/utils/validation.py\", line 921, in check_array\n",
      "    _assert_all_finite(\n",
      "  File \"/usr/local/ivan/Unito/conda/envs/tosa/lib/python3.10/site-packages/sklearn/utils/validation.py\", line 161, in _assert_all_finite\n",
      "    raise ValueError(msg_err)\n",
      "ValueError: Input estimate contains NaN.\n",
      "\n",
      "  warnings.warn(\n",
      "100%|██████████| 10000/10000 [00:12<00:00, 798.69it/s]\n",
      "100%|██████████| 10000/10000 [00:12<00:00, 787.06it/s]\n",
      "100%|██████████| 100/100 [00:03<00:00, 32.92it/s]\n",
      " 77%|███████▋  | 77/100 [00:02<00:00, 32.86it/s]/usr/local/ivan/Unito/conda/envs/tosa/lib/python3.10/site-packages/sklearn/model_selection/_validation.py:778: UserWarning: Scoring failed. The score on this train-test partition for these parameters will be set to nan. Details: \n",
      "Traceback (most recent call last):\n",
      "  File \"/usr/local/ivan/Unito/conda/envs/tosa/lib/python3.10/site-packages/sklearn/model_selection/_validation.py\", line 767, in _score\n",
      "    scores = scorer(estimator, X_test, y_test)\n",
      "  File \"/usr/local/ivan/Unito/conda/envs/tosa/lib/python3.10/site-packages/sklearn/metrics/_scorer.py\", line 444, in _passthrough_scorer\n",
      "    return estimator.score(*args, **kwargs)\n",
      "  File \"/usr/local/ivan/Unito/survhive/survhive/auton_adapters.py\", line 95, in score\n",
      "    return self.harrell_score(y, self.predict(X))[0]\n",
      "  File \"/usr/local/ivan/Unito/survhive/survhive/auton_adapters.py\", line 83, in harrell_score\n",
      "    return concordance_index_censored(\n",
      "  File \"/usr/local/ivan/Unito/conda/envs/tosa/lib/python3.10/site-packages/sksurv/metrics.py\", line 214, in concordance_index_censored\n",
      "    event_indicator, event_time, estimate = _check_inputs(event_indicator, event_time, estimate)\n",
      "  File \"/usr/local/ivan/Unito/conda/envs/tosa/lib/python3.10/site-packages/sksurv/metrics.py\", line 47, in _check_inputs\n",
      "    estimate = _check_estimate_1d(estimate, event_time)\n",
      "  File \"/usr/local/ivan/Unito/conda/envs/tosa/lib/python3.10/site-packages/sksurv/metrics.py\", line 36, in _check_estimate_1d\n",
      "    estimate = check_array(estimate, ensure_2d=False, input_name=\"estimate\")\n",
      "  File \"/usr/local/ivan/Unito/conda/envs/tosa/lib/python3.10/site-packages/sklearn/utils/validation.py\", line 921, in check_array\n",
      "    _assert_all_finite(\n",
      "  File \"/usr/local/ivan/Unito/conda/envs/tosa/lib/python3.10/site-packages/sklearn/utils/validation.py\", line 161, in _assert_all_finite\n",
      "    raise ValueError(msg_err)\n",
      "ValueError: Input estimate contains NaN.\n",
      "\n",
      "  warnings.warn(\n",
      "100%|██████████| 100/100 [00:03<00:00, 31.35it/s]/s]\n",
      "/usr/local/ivan/Unito/conda/envs/tosa/lib/python3.10/site-packages/sklearn/model_selection/_validation.py:778: UserWarning: Scoring failed. The score on this train-test partition for these parameters will be set to nan. Details: \n",
      "Traceback (most recent call last):\n",
      "  File \"/usr/local/ivan/Unito/conda/envs/tosa/lib/python3.10/site-packages/sklearn/model_selection/_validation.py\", line 767, in _score\n",
      "    scores = scorer(estimator, X_test, y_test)\n",
      "  File \"/usr/local/ivan/Unito/conda/envs/tosa/lib/python3.10/site-packages/sklearn/metrics/_scorer.py\", line 444, in _passthrough_scorer\n",
      "    return estimator.score(*args, **kwargs)\n",
      "  File \"/usr/local/ivan/Unito/survhive/survhive/auton_adapters.py\", line 95, in score\n",
      "    return self.harrell_score(y, self.predict(X))[0]\n",
      "  File \"/usr/local/ivan/Unito/survhive/survhive/auton_adapters.py\", line 83, in harrell_score\n",
      "    return concordance_index_censored(\n",
      "  File \"/usr/local/ivan/Unito/conda/envs/tosa/lib/python3.10/site-packages/sksurv/metrics.py\", line 214, in concordance_index_censored\n",
      "    event_indicator, event_time, estimate = _check_inputs(event_indicator, event_time, estimate)\n",
      "  File \"/usr/local/ivan/Unito/conda/envs/tosa/lib/python3.10/site-packages/sksurv/metrics.py\", line 47, in _check_inputs\n",
      "    estimate = _check_estimate_1d(estimate, event_time)\n",
      "  File \"/usr/local/ivan/Unito/conda/envs/tosa/lib/python3.10/site-packages/sksurv/metrics.py\", line 36, in _check_estimate_1d\n",
      "    estimate = check_array(estimate, ensure_2d=False, input_name=\"estimate\")\n",
      "  File \"/usr/local/ivan/Unito/conda/envs/tosa/lib/python3.10/site-packages/sklearn/utils/validation.py\", line 921, in check_array\n",
      "    _assert_all_finite(\n",
      "  File \"/usr/local/ivan/Unito/conda/envs/tosa/lib/python3.10/site-packages/sklearn/utils/validation.py\", line 161, in _assert_all_finite\n",
      "    raise ValueError(msg_err)\n",
      "ValueError: Input estimate contains NaN.\n",
      "\n",
      "  warnings.warn(\n",
      "100%|██████████| 10000/10000 [00:12<00:00, 804.64it/s]\n",
      "100%|██████████| 10000/10000 [00:12<00:00, 791.32it/s]\n",
      "100%|██████████| 100/100 [00:03<00:00, 33.12it/s]\n",
      " 72%|███████▏  | 72/100 [00:02<00:00, 32.57it/s]/usr/local/ivan/Unito/conda/envs/tosa/lib/python3.10/site-packages/sklearn/model_selection/_validation.py:778: UserWarning: Scoring failed. The score on this train-test partition for these parameters will be set to nan. Details: \n",
      "Traceback (most recent call last):\n",
      "  File \"/usr/local/ivan/Unito/conda/envs/tosa/lib/python3.10/site-packages/sklearn/model_selection/_validation.py\", line 767, in _score\n",
      "    scores = scorer(estimator, X_test, y_test)\n",
      "  File \"/usr/local/ivan/Unito/conda/envs/tosa/lib/python3.10/site-packages/sklearn/metrics/_scorer.py\", line 444, in _passthrough_scorer\n",
      "    return estimator.score(*args, **kwargs)\n",
      "  File \"/usr/local/ivan/Unito/survhive/survhive/auton_adapters.py\", line 95, in score\n",
      "    return self.harrell_score(y, self.predict(X))[0]\n",
      "  File \"/usr/local/ivan/Unito/survhive/survhive/auton_adapters.py\", line 83, in harrell_score\n",
      "    return concordance_index_censored(\n",
      "  File \"/usr/local/ivan/Unito/conda/envs/tosa/lib/python3.10/site-packages/sksurv/metrics.py\", line 214, in concordance_index_censored\n",
      "    event_indicator, event_time, estimate = _check_inputs(event_indicator, event_time, estimate)\n",
      "  File \"/usr/local/ivan/Unito/conda/envs/tosa/lib/python3.10/site-packages/sksurv/metrics.py\", line 47, in _check_inputs\n",
      "    estimate = _check_estimate_1d(estimate, event_time)\n",
      "  File \"/usr/local/ivan/Unito/conda/envs/tosa/lib/python3.10/site-packages/sksurv/metrics.py\", line 36, in _check_estimate_1d\n",
      "    estimate = check_array(estimate, ensure_2d=False, input_name=\"estimate\")\n",
      "  File \"/usr/local/ivan/Unito/conda/envs/tosa/lib/python3.10/site-packages/sklearn/utils/validation.py\", line 921, in check_array\n",
      "    _assert_all_finite(\n",
      "  File \"/usr/local/ivan/Unito/conda/envs/tosa/lib/python3.10/site-packages/sklearn/utils/validation.py\", line 161, in _assert_all_finite\n",
      "    raise ValueError(msg_err)\n",
      "ValueError: Input estimate contains NaN.\n",
      "\n",
      "  warnings.warn(\n",
      "100%|██████████| 100/100 [00:03<00:00, 33.26it/s]/s]\n",
      "  6%|▋         | 644/10000 [00:00<00:11, 796.84it/s]/usr/local/ivan/Unito/conda/envs/tosa/lib/python3.10/site-packages/sklearn/model_selection/_validation.py:778: UserWarning: Scoring failed. The score on this train-test partition for these parameters will be set to nan. Details: \n",
      "Traceback (most recent call last):\n",
      "  File \"/usr/local/ivan/Unito/conda/envs/tosa/lib/python3.10/site-packages/sklearn/model_selection/_validation.py\", line 767, in _score\n",
      "    scores = scorer(estimator, X_test, y_test)\n",
      "  File \"/usr/local/ivan/Unito/conda/envs/tosa/lib/python3.10/site-packages/sklearn/metrics/_scorer.py\", line 444, in _passthrough_scorer\n",
      "    return estimator.score(*args, **kwargs)\n",
      "  File \"/usr/local/ivan/Unito/survhive/survhive/auton_adapters.py\", line 95, in score\n",
      "    return self.harrell_score(y, self.predict(X))[0]\n",
      "  File \"/usr/local/ivan/Unito/survhive/survhive/auton_adapters.py\", line 83, in harrell_score\n",
      "    return concordance_index_censored(\n",
      "  File \"/usr/local/ivan/Unito/conda/envs/tosa/lib/python3.10/site-packages/sksurv/metrics.py\", line 214, in concordance_index_censored\n",
      "    event_indicator, event_time, estimate = _check_inputs(event_indicator, event_time, estimate)\n",
      "  File \"/usr/local/ivan/Unito/conda/envs/tosa/lib/python3.10/site-packages/sksurv/metrics.py\", line 47, in _check_inputs\n",
      "    estimate = _check_estimate_1d(estimate, event_time)\n",
      "  File \"/usr/local/ivan/Unito/conda/envs/tosa/lib/python3.10/site-packages/sksurv/metrics.py\", line 36, in _check_estimate_1d\n",
      "    estimate = check_array(estimate, ensure_2d=False, input_name=\"estimate\")\n",
      "  File \"/usr/local/ivan/Unito/conda/envs/tosa/lib/python3.10/site-packages/sklearn/utils/validation.py\", line 921, in check_array\n",
      "    _assert_all_finite(\n",
      "  File \"/usr/local/ivan/Unito/conda/envs/tosa/lib/python3.10/site-packages/sklearn/utils/validation.py\", line 161, in _assert_all_finite\n",
      "    raise ValueError(msg_err)\n",
      "ValueError: Input estimate contains NaN.\n",
      "\n",
      "  warnings.warn(\n",
      "100%|██████████| 10000/10000 [00:12<00:00, 790.97it/s]\n",
      "100%|██████████| 10000/10000 [00:12<00:00, 782.74it/s]\n",
      "100%|██████████| 100/100 [00:02<00:00, 33.59it/s]\n",
      "/usr/local/ivan/Unito/conda/envs/tosa/lib/python3.10/site-packages/sklearn/model_selection/_validation.py:778: UserWarning: Scoring failed. The score on this train-test partition for these parameters will be set to nan. Details: \n",
      "Traceback (most recent call last):\n",
      "  File \"/usr/local/ivan/Unito/conda/envs/tosa/lib/python3.10/site-packages/sklearn/model_selection/_validation.py\", line 767, in _score\n",
      "    scores = scorer(estimator, X_test, y_test)\n",
      "  File \"/usr/local/ivan/Unito/conda/envs/tosa/lib/python3.10/site-packages/sklearn/metrics/_scorer.py\", line 444, in _passthrough_scorer\n",
      "    return estimator.score(*args, **kwargs)\n",
      "  File \"/usr/local/ivan/Unito/survhive/survhive/auton_adapters.py\", line 95, in score\n",
      "    return self.harrell_score(y, self.predict(X))[0]\n",
      "  File \"/usr/local/ivan/Unito/survhive/survhive/auton_adapters.py\", line 83, in harrell_score\n",
      "    return concordance_index_censored(\n",
      "  File \"/usr/local/ivan/Unito/conda/envs/tosa/lib/python3.10/site-packages/sksurv/metrics.py\", line 214, in concordance_index_censored\n",
      "    event_indicator, event_time, estimate = _check_inputs(event_indicator, event_time, estimate)\n",
      "  File \"/usr/local/ivan/Unito/conda/envs/tosa/lib/python3.10/site-packages/sksurv/metrics.py\", line 47, in _check_inputs\n",
      "    estimate = _check_estimate_1d(estimate, event_time)\n",
      "  File \"/usr/local/ivan/Unito/conda/envs/tosa/lib/python3.10/site-packages/sksurv/metrics.py\", line 36, in _check_estimate_1d\n",
      "    estimate = check_array(estimate, ensure_2d=False, input_name=\"estimate\")\n",
      "  File \"/usr/local/ivan/Unito/conda/envs/tosa/lib/python3.10/site-packages/sklearn/utils/validation.py\", line 921, in check_array\n",
      "    _assert_all_finite(\n",
      "  File \"/usr/local/ivan/Unito/conda/envs/tosa/lib/python3.10/site-packages/sklearn/utils/validation.py\", line 161, in _assert_all_finite\n",
      "    raise ValueError(msg_err)\n",
      "ValueError: Input estimate contains NaN.\n",
      "\n",
      "  warnings.warn(\n",
      "100%|██████████| 100/100 [00:03<00:00, 31.71it/s]/s]\n",
      "  9%|▉         | 883/10000 [00:01<00:11, 775.25it/s]/usr/local/ivan/Unito/conda/envs/tosa/lib/python3.10/site-packages/sklearn/model_selection/_validation.py:778: UserWarning: Scoring failed. The score on this train-test partition for these parameters will be set to nan. Details: \n",
      "Traceback (most recent call last):\n",
      "  File \"/usr/local/ivan/Unito/conda/envs/tosa/lib/python3.10/site-packages/sklearn/model_selection/_validation.py\", line 767, in _score\n",
      "    scores = scorer(estimator, X_test, y_test)\n",
      "  File \"/usr/local/ivan/Unito/conda/envs/tosa/lib/python3.10/site-packages/sklearn/metrics/_scorer.py\", line 444, in _passthrough_scorer\n",
      "    return estimator.score(*args, **kwargs)\n",
      "  File \"/usr/local/ivan/Unito/survhive/survhive/auton_adapters.py\", line 95, in score\n",
      "    return self.harrell_score(y, self.predict(X))[0]\n",
      "  File \"/usr/local/ivan/Unito/survhive/survhive/auton_adapters.py\", line 83, in harrell_score\n",
      "    return concordance_index_censored(\n",
      "  File \"/usr/local/ivan/Unito/conda/envs/tosa/lib/python3.10/site-packages/sksurv/metrics.py\", line 214, in concordance_index_censored\n",
      "    event_indicator, event_time, estimate = _check_inputs(event_indicator, event_time, estimate)\n",
      "  File \"/usr/local/ivan/Unito/conda/envs/tosa/lib/python3.10/site-packages/sksurv/metrics.py\", line 47, in _check_inputs\n",
      "    estimate = _check_estimate_1d(estimate, event_time)\n",
      "  File \"/usr/local/ivan/Unito/conda/envs/tosa/lib/python3.10/site-packages/sksurv/metrics.py\", line 36, in _check_estimate_1d\n",
      "    estimate = check_array(estimate, ensure_2d=False, input_name=\"estimate\")\n",
      "  File \"/usr/local/ivan/Unito/conda/envs/tosa/lib/python3.10/site-packages/sklearn/utils/validation.py\", line 921, in check_array\n",
      "    _assert_all_finite(\n",
      "  File \"/usr/local/ivan/Unito/conda/envs/tosa/lib/python3.10/site-packages/sklearn/utils/validation.py\", line 161, in _assert_all_finite\n",
      "    raise ValueError(msg_err)\n",
      "ValueError: Input estimate contains NaN.\n",
      "\n",
      "  warnings.warn(\n",
      "100%|██████████| 10000/10000 [00:12<00:00, 797.99it/s]\n",
      "100%|██████████| 10000/10000 [00:12<00:00, 791.06it/s]\n",
      "100%|██████████| 100/100 [00:03<00:00, 32.91it/s]\n",
      "/usr/local/ivan/Unito/conda/envs/tosa/lib/python3.10/site-packages/sklearn/model_selection/_validation.py:778: UserWarning: Scoring failed. The score on this train-test partition for these parameters will be set to nan. Details: \n",
      "Traceback (most recent call last):\n",
      "  File \"/usr/local/ivan/Unito/conda/envs/tosa/lib/python3.10/site-packages/sklearn/model_selection/_validation.py\", line 767, in _score\n",
      "    scores = scorer(estimator, X_test, y_test)\n",
      "  File \"/usr/local/ivan/Unito/conda/envs/tosa/lib/python3.10/site-packages/sklearn/metrics/_scorer.py\", line 444, in _passthrough_scorer\n",
      "    return estimator.score(*args, **kwargs)\n",
      "  File \"/usr/local/ivan/Unito/survhive/survhive/auton_adapters.py\", line 95, in score\n",
      "    return self.harrell_score(y, self.predict(X))[0]\n",
      "  File \"/usr/local/ivan/Unito/survhive/survhive/auton_adapters.py\", line 83, in harrell_score\n",
      "    return concordance_index_censored(\n",
      "  File \"/usr/local/ivan/Unito/conda/envs/tosa/lib/python3.10/site-packages/sksurv/metrics.py\", line 214, in concordance_index_censored\n",
      "    event_indicator, event_time, estimate = _check_inputs(event_indicator, event_time, estimate)\n",
      "  File \"/usr/local/ivan/Unito/conda/envs/tosa/lib/python3.10/site-packages/sksurv/metrics.py\", line 47, in _check_inputs\n",
      "    estimate = _check_estimate_1d(estimate, event_time)\n",
      "  File \"/usr/local/ivan/Unito/conda/envs/tosa/lib/python3.10/site-packages/sksurv/metrics.py\", line 36, in _check_estimate_1d\n",
      "    estimate = check_array(estimate, ensure_2d=False, input_name=\"estimate\")\n",
      "  File \"/usr/local/ivan/Unito/conda/envs/tosa/lib/python3.10/site-packages/sklearn/utils/validation.py\", line 921, in check_array\n",
      "    _assert_all_finite(\n",
      "  File \"/usr/local/ivan/Unito/conda/envs/tosa/lib/python3.10/site-packages/sklearn/utils/validation.py\", line 161, in _assert_all_finite\n",
      "    raise ValueError(msg_err)\n",
      "ValueError: Input estimate contains NaN.\n",
      "\n",
      "  warnings.warn(\n",
      "100%|██████████| 100/100 [00:03<00:00, 33.10it/s]/s]\n",
      " 10%|▉         | 968/10000 [00:01<00:11, 789.91it/s]/usr/local/ivan/Unito/conda/envs/tosa/lib/python3.10/site-packages/sklearn/model_selection/_validation.py:778: UserWarning: Scoring failed. The score on this train-test partition for these parameters will be set to nan. Details: \n",
      "Traceback (most recent call last):\n",
      "  File \"/usr/local/ivan/Unito/conda/envs/tosa/lib/python3.10/site-packages/sklearn/model_selection/_validation.py\", line 767, in _score\n",
      "    scores = scorer(estimator, X_test, y_test)\n",
      "  File \"/usr/local/ivan/Unito/conda/envs/tosa/lib/python3.10/site-packages/sklearn/metrics/_scorer.py\", line 444, in _passthrough_scorer\n",
      "    return estimator.score(*args, **kwargs)\n",
      "  File \"/usr/local/ivan/Unito/survhive/survhive/auton_adapters.py\", line 95, in score\n",
      "    return self.harrell_score(y, self.predict(X))[0]\n",
      "  File \"/usr/local/ivan/Unito/survhive/survhive/auton_adapters.py\", line 83, in harrell_score\n",
      "    return concordance_index_censored(\n",
      "  File \"/usr/local/ivan/Unito/conda/envs/tosa/lib/python3.10/site-packages/sksurv/metrics.py\", line 214, in concordance_index_censored\n",
      "    event_indicator, event_time, estimate = _check_inputs(event_indicator, event_time, estimate)\n",
      "  File \"/usr/local/ivan/Unito/conda/envs/tosa/lib/python3.10/site-packages/sksurv/metrics.py\", line 47, in _check_inputs\n",
      "    estimate = _check_estimate_1d(estimate, event_time)\n",
      "  File \"/usr/local/ivan/Unito/conda/envs/tosa/lib/python3.10/site-packages/sksurv/metrics.py\", line 36, in _check_estimate_1d\n",
      "    estimate = check_array(estimate, ensure_2d=False, input_name=\"estimate\")\n",
      "  File \"/usr/local/ivan/Unito/conda/envs/tosa/lib/python3.10/site-packages/sklearn/utils/validation.py\", line 921, in check_array\n",
      "    _assert_all_finite(\n",
      "  File \"/usr/local/ivan/Unito/conda/envs/tosa/lib/python3.10/site-packages/sklearn/utils/validation.py\", line 161, in _assert_all_finite\n",
      "    raise ValueError(msg_err)\n",
      "ValueError: Input estimate contains NaN.\n",
      "\n",
      "  warnings.warn(\n",
      "100%|██████████| 10000/10000 [00:12<00:00, 804.33it/s]\n",
      "100%|██████████| 10000/10000 [00:12<00:00, 789.88it/s]\n",
      "100%|██████████| 100/100 [00:03<00:00, 32.58it/s]\n",
      " 51%|█████     | 51/100 [00:01<00:01, 30.66it/s]/usr/local/ivan/Unito/conda/envs/tosa/lib/python3.10/site-packages/sklearn/model_selection/_validation.py:778: UserWarning: Scoring failed. The score on this train-test partition for these parameters will be set to nan. Details: \n",
      "Traceback (most recent call last):\n",
      "  File \"/usr/local/ivan/Unito/conda/envs/tosa/lib/python3.10/site-packages/sklearn/model_selection/_validation.py\", line 767, in _score\n",
      "    scores = scorer(estimator, X_test, y_test)\n",
      "  File \"/usr/local/ivan/Unito/conda/envs/tosa/lib/python3.10/site-packages/sklearn/metrics/_scorer.py\", line 444, in _passthrough_scorer\n",
      "    return estimator.score(*args, **kwargs)\n",
      "  File \"/usr/local/ivan/Unito/survhive/survhive/auton_adapters.py\", line 95, in score\n",
      "    return self.harrell_score(y, self.predict(X))[0]\n",
      "  File \"/usr/local/ivan/Unito/survhive/survhive/auton_adapters.py\", line 83, in harrell_score\n",
      "    return concordance_index_censored(\n",
      "  File \"/usr/local/ivan/Unito/conda/envs/tosa/lib/python3.10/site-packages/sksurv/metrics.py\", line 214, in concordance_index_censored\n",
      "    event_indicator, event_time, estimate = _check_inputs(event_indicator, event_time, estimate)\n",
      "  File \"/usr/local/ivan/Unito/conda/envs/tosa/lib/python3.10/site-packages/sksurv/metrics.py\", line 47, in _check_inputs\n",
      "    estimate = _check_estimate_1d(estimate, event_time)\n",
      "  File \"/usr/local/ivan/Unito/conda/envs/tosa/lib/python3.10/site-packages/sksurv/metrics.py\", line 36, in _check_estimate_1d\n",
      "    estimate = check_array(estimate, ensure_2d=False, input_name=\"estimate\")\n",
      "  File \"/usr/local/ivan/Unito/conda/envs/tosa/lib/python3.10/site-packages/sklearn/utils/validation.py\", line 921, in check_array\n",
      "    _assert_all_finite(\n",
      "  File \"/usr/local/ivan/Unito/conda/envs/tosa/lib/python3.10/site-packages/sklearn/utils/validation.py\", line 161, in _assert_all_finite\n",
      "    raise ValueError(msg_err)\n",
      "ValueError: Input estimate contains NaN.\n",
      "\n",
      "  warnings.warn(\n",
      "100%|██████████| 100/100 [00:03<00:00, 32.90it/s]t/s]\n",
      " 11%|█         | 1100/10000 [00:01<00:12, 737.52it/s]/usr/local/ivan/Unito/conda/envs/tosa/lib/python3.10/site-packages/sklearn/model_selection/_validation.py:778: UserWarning: Scoring failed. The score on this train-test partition for these parameters will be set to nan. Details: \n",
      "Traceback (most recent call last):\n",
      "  File \"/usr/local/ivan/Unito/conda/envs/tosa/lib/python3.10/site-packages/sklearn/model_selection/_validation.py\", line 767, in _score\n",
      "    scores = scorer(estimator, X_test, y_test)\n",
      "  File \"/usr/local/ivan/Unito/conda/envs/tosa/lib/python3.10/site-packages/sklearn/metrics/_scorer.py\", line 444, in _passthrough_scorer\n",
      "    return estimator.score(*args, **kwargs)\n",
      "  File \"/usr/local/ivan/Unito/survhive/survhive/auton_adapters.py\", line 95, in score\n",
      "    return self.harrell_score(y, self.predict(X))[0]\n",
      "  File \"/usr/local/ivan/Unito/survhive/survhive/auton_adapters.py\", line 83, in harrell_score\n",
      "    return concordance_index_censored(\n",
      "  File \"/usr/local/ivan/Unito/conda/envs/tosa/lib/python3.10/site-packages/sksurv/metrics.py\", line 214, in concordance_index_censored\n",
      "    event_indicator, event_time, estimate = _check_inputs(event_indicator, event_time, estimate)\n",
      "  File \"/usr/local/ivan/Unito/conda/envs/tosa/lib/python3.10/site-packages/sksurv/metrics.py\", line 47, in _check_inputs\n",
      "    estimate = _check_estimate_1d(estimate, event_time)\n",
      "  File \"/usr/local/ivan/Unito/conda/envs/tosa/lib/python3.10/site-packages/sksurv/metrics.py\", line 36, in _check_estimate_1d\n",
      "    estimate = check_array(estimate, ensure_2d=False, input_name=\"estimate\")\n",
      "  File \"/usr/local/ivan/Unito/conda/envs/tosa/lib/python3.10/site-packages/sklearn/utils/validation.py\", line 921, in check_array\n",
      "    _assert_all_finite(\n",
      "  File \"/usr/local/ivan/Unito/conda/envs/tosa/lib/python3.10/site-packages/sklearn/utils/validation.py\", line 161, in _assert_all_finite\n",
      "    raise ValueError(msg_err)\n",
      "ValueError: Input estimate contains NaN.\n",
      "\n",
      "  warnings.warn(\n",
      "100%|██████████| 10000/10000 [00:12<00:00, 794.40it/s]\n",
      "100%|██████████| 10000/10000 [00:12<00:00, 781.55it/s]\n",
      "100%|██████████| 100/100 [00:03<00:00, 32.16it/s]\n",
      " 47%|████▋     | 47/100 [00:01<00:01, 30.42it/s]/usr/local/ivan/Unito/conda/envs/tosa/lib/python3.10/site-packages/sklearn/model_selection/_validation.py:778: UserWarning: Scoring failed. The score on this train-test partition for these parameters will be set to nan. Details: \n",
      "Traceback (most recent call last):\n",
      "  File \"/usr/local/ivan/Unito/conda/envs/tosa/lib/python3.10/site-packages/sklearn/model_selection/_validation.py\", line 767, in _score\n",
      "    scores = scorer(estimator, X_test, y_test)\n",
      "  File \"/usr/local/ivan/Unito/conda/envs/tosa/lib/python3.10/site-packages/sklearn/metrics/_scorer.py\", line 444, in _passthrough_scorer\n",
      "    return estimator.score(*args, **kwargs)\n",
      "  File \"/usr/local/ivan/Unito/survhive/survhive/auton_adapters.py\", line 95, in score\n",
      "    return self.harrell_score(y, self.predict(X))[0]\n",
      "  File \"/usr/local/ivan/Unito/survhive/survhive/auton_adapters.py\", line 83, in harrell_score\n",
      "    return concordance_index_censored(\n",
      "  File \"/usr/local/ivan/Unito/conda/envs/tosa/lib/python3.10/site-packages/sksurv/metrics.py\", line 214, in concordance_index_censored\n",
      "    event_indicator, event_time, estimate = _check_inputs(event_indicator, event_time, estimate)\n",
      "  File \"/usr/local/ivan/Unito/conda/envs/tosa/lib/python3.10/site-packages/sksurv/metrics.py\", line 47, in _check_inputs\n",
      "    estimate = _check_estimate_1d(estimate, event_time)\n",
      "  File \"/usr/local/ivan/Unito/conda/envs/tosa/lib/python3.10/site-packages/sksurv/metrics.py\", line 36, in _check_estimate_1d\n",
      "    estimate = check_array(estimate, ensure_2d=False, input_name=\"estimate\")\n",
      "  File \"/usr/local/ivan/Unito/conda/envs/tosa/lib/python3.10/site-packages/sklearn/utils/validation.py\", line 921, in check_array\n",
      "    _assert_all_finite(\n",
      "  File \"/usr/local/ivan/Unito/conda/envs/tosa/lib/python3.10/site-packages/sklearn/utils/validation.py\", line 161, in _assert_all_finite\n",
      "    raise ValueError(msg_err)\n",
      "ValueError: Input estimate contains NaN.\n",
      "\n",
      "  warnings.warn(\n",
      "100%|██████████| 100/100 [00:03<00:00, 32.83it/s]t/s]\n",
      " 12%|█▏        | 1193/10000 [00:01<00:11, 761.94it/s]/usr/local/ivan/Unito/conda/envs/tosa/lib/python3.10/site-packages/sklearn/model_selection/_validation.py:778: UserWarning: Scoring failed. The score on this train-test partition for these parameters will be set to nan. Details: \n",
      "Traceback (most recent call last):\n",
      "  File \"/usr/local/ivan/Unito/conda/envs/tosa/lib/python3.10/site-packages/sklearn/model_selection/_validation.py\", line 767, in _score\n",
      "    scores = scorer(estimator, X_test, y_test)\n",
      "  File \"/usr/local/ivan/Unito/conda/envs/tosa/lib/python3.10/site-packages/sklearn/metrics/_scorer.py\", line 444, in _passthrough_scorer\n",
      "    return estimator.score(*args, **kwargs)\n",
      "  File \"/usr/local/ivan/Unito/survhive/survhive/auton_adapters.py\", line 95, in score\n",
      "    return self.harrell_score(y, self.predict(X))[0]\n",
      "  File \"/usr/local/ivan/Unito/survhive/survhive/auton_adapters.py\", line 83, in harrell_score\n",
      "    return concordance_index_censored(\n",
      "  File \"/usr/local/ivan/Unito/conda/envs/tosa/lib/python3.10/site-packages/sksurv/metrics.py\", line 214, in concordance_index_censored\n",
      "    event_indicator, event_time, estimate = _check_inputs(event_indicator, event_time, estimate)\n",
      "  File \"/usr/local/ivan/Unito/conda/envs/tosa/lib/python3.10/site-packages/sksurv/metrics.py\", line 47, in _check_inputs\n",
      "    estimate = _check_estimate_1d(estimate, event_time)\n",
      "  File \"/usr/local/ivan/Unito/conda/envs/tosa/lib/python3.10/site-packages/sksurv/metrics.py\", line 36, in _check_estimate_1d\n",
      "    estimate = check_array(estimate, ensure_2d=False, input_name=\"estimate\")\n",
      "  File \"/usr/local/ivan/Unito/conda/envs/tosa/lib/python3.10/site-packages/sklearn/utils/validation.py\", line 921, in check_array\n",
      "    _assert_all_finite(\n",
      "  File \"/usr/local/ivan/Unito/conda/envs/tosa/lib/python3.10/site-packages/sklearn/utils/validation.py\", line 161, in _assert_all_finite\n",
      "    raise ValueError(msg_err)\n",
      "ValueError: Input estimate contains NaN.\n",
      "\n",
      "  warnings.warn(\n",
      "100%|██████████| 10000/10000 [00:12<00:00, 797.02it/s]\n",
      "100%|██████████| 10000/10000 [00:12<00:00, 782.69it/s]\n",
      "100%|██████████| 100/100 [00:02<00:00, 35.14it/s]\n",
      "/usr/local/ivan/Unito/conda/envs/tosa/lib/python3.10/site-packages/sklearn/model_selection/_validation.py:778: UserWarning: Scoring failed. The score on this train-test partition for these parameters will be set to nan. Details: \n",
      "Traceback (most recent call last):\n",
      "  File \"/usr/local/ivan/Unito/conda/envs/tosa/lib/python3.10/site-packages/sklearn/model_selection/_validation.py\", line 767, in _score\n",
      "    scores = scorer(estimator, X_test, y_test)\n",
      "  File \"/usr/local/ivan/Unito/conda/envs/tosa/lib/python3.10/site-packages/sklearn/metrics/_scorer.py\", line 444, in _passthrough_scorer\n",
      "    return estimator.score(*args, **kwargs)\n",
      "  File \"/usr/local/ivan/Unito/survhive/survhive/auton_adapters.py\", line 95, in score\n",
      "    return self.harrell_score(y, self.predict(X))[0]\n",
      "  File \"/usr/local/ivan/Unito/survhive/survhive/auton_adapters.py\", line 83, in harrell_score\n",
      "    return concordance_index_censored(\n",
      "  File \"/usr/local/ivan/Unito/conda/envs/tosa/lib/python3.10/site-packages/sksurv/metrics.py\", line 214, in concordance_index_censored\n",
      "    event_indicator, event_time, estimate = _check_inputs(event_indicator, event_time, estimate)\n",
      "  File \"/usr/local/ivan/Unito/conda/envs/tosa/lib/python3.10/site-packages/sksurv/metrics.py\", line 47, in _check_inputs\n",
      "    estimate = _check_estimate_1d(estimate, event_time)\n",
      "  File \"/usr/local/ivan/Unito/conda/envs/tosa/lib/python3.10/site-packages/sksurv/metrics.py\", line 36, in _check_estimate_1d\n",
      "    estimate = check_array(estimate, ensure_2d=False, input_name=\"estimate\")\n",
      "  File \"/usr/local/ivan/Unito/conda/envs/tosa/lib/python3.10/site-packages/sklearn/utils/validation.py\", line 921, in check_array\n",
      "    _assert_all_finite(\n",
      "  File \"/usr/local/ivan/Unito/conda/envs/tosa/lib/python3.10/site-packages/sklearn/utils/validation.py\", line 161, in _assert_all_finite\n",
      "    raise ValueError(msg_err)\n",
      "ValueError: Input estimate contains NaN.\n",
      "\n",
      "  warnings.warn(\n",
      "100%|██████████| 100/100 [00:02<00:00, 33.39it/s]t/s]\n",
      " 15%|█▌        | 1514/10000 [00:01<00:10, 785.38it/s]/usr/local/ivan/Unito/conda/envs/tosa/lib/python3.10/site-packages/sklearn/model_selection/_validation.py:778: UserWarning: Scoring failed. The score on this train-test partition for these parameters will be set to nan. Details: \n",
      "Traceback (most recent call last):\n",
      "  File \"/usr/local/ivan/Unito/conda/envs/tosa/lib/python3.10/site-packages/sklearn/model_selection/_validation.py\", line 767, in _score\n",
      "    scores = scorer(estimator, X_test, y_test)\n",
      "  File \"/usr/local/ivan/Unito/conda/envs/tosa/lib/python3.10/site-packages/sklearn/metrics/_scorer.py\", line 444, in _passthrough_scorer\n",
      "    return estimator.score(*args, **kwargs)\n",
      "  File \"/usr/local/ivan/Unito/survhive/survhive/auton_adapters.py\", line 95, in score\n",
      "    return self.harrell_score(y, self.predict(X))[0]\n",
      "  File \"/usr/local/ivan/Unito/survhive/survhive/auton_adapters.py\", line 83, in harrell_score\n",
      "    return concordance_index_censored(\n",
      "  File \"/usr/local/ivan/Unito/conda/envs/tosa/lib/python3.10/site-packages/sksurv/metrics.py\", line 214, in concordance_index_censored\n",
      "    event_indicator, event_time, estimate = _check_inputs(event_indicator, event_time, estimate)\n",
      "  File \"/usr/local/ivan/Unito/conda/envs/tosa/lib/python3.10/site-packages/sksurv/metrics.py\", line 47, in _check_inputs\n",
      "    estimate = _check_estimate_1d(estimate, event_time)\n",
      "  File \"/usr/local/ivan/Unito/conda/envs/tosa/lib/python3.10/site-packages/sksurv/metrics.py\", line 36, in _check_estimate_1d\n",
      "    estimate = check_array(estimate, ensure_2d=False, input_name=\"estimate\")\n",
      "  File \"/usr/local/ivan/Unito/conda/envs/tosa/lib/python3.10/site-packages/sklearn/utils/validation.py\", line 921, in check_array\n",
      "    _assert_all_finite(\n",
      "  File \"/usr/local/ivan/Unito/conda/envs/tosa/lib/python3.10/site-packages/sklearn/utils/validation.py\", line 161, in _assert_all_finite\n",
      "    raise ValueError(msg_err)\n",
      "ValueError: Input estimate contains NaN.\n",
      "\n",
      "  warnings.warn(\n",
      "100%|██████████| 10000/10000 [00:12<00:00, 799.25it/s]\n",
      "100%|██████████| 10000/10000 [00:12<00:00, 787.09it/s]\n",
      "100%|██████████| 100/100 [00:02<00:00, 34.08it/s]\n",
      "/usr/local/ivan/Unito/conda/envs/tosa/lib/python3.10/site-packages/sklearn/model_selection/_validation.py:778: UserWarning: Scoring failed. The score on this train-test partition for these parameters will be set to nan. Details: \n",
      "Traceback (most recent call last):\n",
      "  File \"/usr/local/ivan/Unito/conda/envs/tosa/lib/python3.10/site-packages/sklearn/model_selection/_validation.py\", line 767, in _score\n",
      "    scores = scorer(estimator, X_test, y_test)\n",
      "  File \"/usr/local/ivan/Unito/conda/envs/tosa/lib/python3.10/site-packages/sklearn/metrics/_scorer.py\", line 444, in _passthrough_scorer\n",
      "    return estimator.score(*args, **kwargs)\n",
      "  File \"/usr/local/ivan/Unito/survhive/survhive/auton_adapters.py\", line 95, in score\n",
      "    return self.harrell_score(y, self.predict(X))[0]\n",
      "  File \"/usr/local/ivan/Unito/survhive/survhive/auton_adapters.py\", line 83, in harrell_score\n",
      "    return concordance_index_censored(\n",
      "  File \"/usr/local/ivan/Unito/conda/envs/tosa/lib/python3.10/site-packages/sksurv/metrics.py\", line 214, in concordance_index_censored\n",
      "    event_indicator, event_time, estimate = _check_inputs(event_indicator, event_time, estimate)\n",
      "  File \"/usr/local/ivan/Unito/conda/envs/tosa/lib/python3.10/site-packages/sksurv/metrics.py\", line 47, in _check_inputs\n",
      "    estimate = _check_estimate_1d(estimate, event_time)\n",
      "  File \"/usr/local/ivan/Unito/conda/envs/tosa/lib/python3.10/site-packages/sksurv/metrics.py\", line 36, in _check_estimate_1d\n",
      "    estimate = check_array(estimate, ensure_2d=False, input_name=\"estimate\")\n",
      "  File \"/usr/local/ivan/Unito/conda/envs/tosa/lib/python3.10/site-packages/sklearn/utils/validation.py\", line 921, in check_array\n",
      "    _assert_all_finite(\n",
      "  File \"/usr/local/ivan/Unito/conda/envs/tosa/lib/python3.10/site-packages/sklearn/utils/validation.py\", line 161, in _assert_all_finite\n",
      "    raise ValueError(msg_err)\n",
      "ValueError: Input estimate contains NaN.\n",
      "\n",
      "  warnings.warn(\n",
      "100%|██████████| 100/100 [00:02<00:00, 34.03it/s]t/s]\n",
      " 17%|█▋        | 1679/10000 [00:02<00:10, 784.11it/s]/usr/local/ivan/Unito/conda/envs/tosa/lib/python3.10/site-packages/sklearn/model_selection/_validation.py:778: UserWarning: Scoring failed. The score on this train-test partition for these parameters will be set to nan. Details: \n",
      "Traceback (most recent call last):\n",
      "  File \"/usr/local/ivan/Unito/conda/envs/tosa/lib/python3.10/site-packages/sklearn/model_selection/_validation.py\", line 767, in _score\n",
      "    scores = scorer(estimator, X_test, y_test)\n",
      "  File \"/usr/local/ivan/Unito/conda/envs/tosa/lib/python3.10/site-packages/sklearn/metrics/_scorer.py\", line 444, in _passthrough_scorer\n",
      "    return estimator.score(*args, **kwargs)\n",
      "  File \"/usr/local/ivan/Unito/survhive/survhive/auton_adapters.py\", line 95, in score\n",
      "    return self.harrell_score(y, self.predict(X))[0]\n",
      "  File \"/usr/local/ivan/Unito/survhive/survhive/auton_adapters.py\", line 83, in harrell_score\n",
      "    return concordance_index_censored(\n",
      "  File \"/usr/local/ivan/Unito/conda/envs/tosa/lib/python3.10/site-packages/sksurv/metrics.py\", line 214, in concordance_index_censored\n",
      "    event_indicator, event_time, estimate = _check_inputs(event_indicator, event_time, estimate)\n",
      "  File \"/usr/local/ivan/Unito/conda/envs/tosa/lib/python3.10/site-packages/sksurv/metrics.py\", line 47, in _check_inputs\n",
      "    estimate = _check_estimate_1d(estimate, event_time)\n",
      "  File \"/usr/local/ivan/Unito/conda/envs/tosa/lib/python3.10/site-packages/sksurv/metrics.py\", line 36, in _check_estimate_1d\n",
      "    estimate = check_array(estimate, ensure_2d=False, input_name=\"estimate\")\n",
      "  File \"/usr/local/ivan/Unito/conda/envs/tosa/lib/python3.10/site-packages/sklearn/utils/validation.py\", line 921, in check_array\n",
      "    _assert_all_finite(\n",
      "  File \"/usr/local/ivan/Unito/conda/envs/tosa/lib/python3.10/site-packages/sklearn/utils/validation.py\", line 161, in _assert_all_finite\n",
      "    raise ValueError(msg_err)\n",
      "ValueError: Input estimate contains NaN.\n",
      "\n",
      "  warnings.warn(\n",
      "100%|██████████| 10000/10000 [00:12<00:00, 795.36it/s]\n",
      "100%|██████████| 10000/10000 [00:12<00:00, 784.53it/s]\n",
      "100%|██████████| 100/100 [00:02<00:00, 35.14it/s]\n",
      "/usr/local/ivan/Unito/conda/envs/tosa/lib/python3.10/site-packages/sklearn/model_selection/_validation.py:778: UserWarning: Scoring failed. The score on this train-test partition for these parameters will be set to nan. Details: \n",
      "Traceback (most recent call last):\n",
      "  File \"/usr/local/ivan/Unito/conda/envs/tosa/lib/python3.10/site-packages/sklearn/model_selection/_validation.py\", line 767, in _score\n",
      "    scores = scorer(estimator, X_test, y_test)\n",
      "  File \"/usr/local/ivan/Unito/conda/envs/tosa/lib/python3.10/site-packages/sklearn/metrics/_scorer.py\", line 444, in _passthrough_scorer\n",
      "    return estimator.score(*args, **kwargs)\n",
      "  File \"/usr/local/ivan/Unito/survhive/survhive/auton_adapters.py\", line 95, in score\n",
      "    return self.harrell_score(y, self.predict(X))[0]\n",
      "  File \"/usr/local/ivan/Unito/survhive/survhive/auton_adapters.py\", line 83, in harrell_score\n",
      "    return concordance_index_censored(\n",
      "  File \"/usr/local/ivan/Unito/conda/envs/tosa/lib/python3.10/site-packages/sksurv/metrics.py\", line 214, in concordance_index_censored\n",
      "    event_indicator, event_time, estimate = _check_inputs(event_indicator, event_time, estimate)\n",
      "  File \"/usr/local/ivan/Unito/conda/envs/tosa/lib/python3.10/site-packages/sksurv/metrics.py\", line 47, in _check_inputs\n",
      "    estimate = _check_estimate_1d(estimate, event_time)\n",
      "  File \"/usr/local/ivan/Unito/conda/envs/tosa/lib/python3.10/site-packages/sksurv/metrics.py\", line 36, in _check_estimate_1d\n",
      "    estimate = check_array(estimate, ensure_2d=False, input_name=\"estimate\")\n",
      "  File \"/usr/local/ivan/Unito/conda/envs/tosa/lib/python3.10/site-packages/sklearn/utils/validation.py\", line 921, in check_array\n",
      "    _assert_all_finite(\n",
      "  File \"/usr/local/ivan/Unito/conda/envs/tosa/lib/python3.10/site-packages/sklearn/utils/validation.py\", line 161, in _assert_all_finite\n",
      "    raise ValueError(msg_err)\n",
      "ValueError: Input estimate contains NaN.\n",
      "\n",
      "  warnings.warn(\n",
      "100%|██████████| 100/100 [00:02<00:00, 34.23it/s]t/s]\n",
      "/usr/local/ivan/Unito/conda/envs/tosa/lib/python3.10/site-packages/sklearn/model_selection/_validation.py:778: UserWarning: Scoring failed. The score on this train-test partition for these parameters will be set to nan. Details: \n",
      "Traceback (most recent call last):\n",
      "  File \"/usr/local/ivan/Unito/conda/envs/tosa/lib/python3.10/site-packages/sklearn/model_selection/_validation.py\", line 767, in _score\n",
      "    scores = scorer(estimator, X_test, y_test)\n",
      "  File \"/usr/local/ivan/Unito/conda/envs/tosa/lib/python3.10/site-packages/sklearn/metrics/_scorer.py\", line 444, in _passthrough_scorer\n",
      "    return estimator.score(*args, **kwargs)\n",
      "  File \"/usr/local/ivan/Unito/survhive/survhive/auton_adapters.py\", line 95, in score\n",
      "    return self.harrell_score(y, self.predict(X))[0]\n",
      "  File \"/usr/local/ivan/Unito/survhive/survhive/auton_adapters.py\", line 83, in harrell_score\n",
      "    return concordance_index_censored(\n",
      "  File \"/usr/local/ivan/Unito/conda/envs/tosa/lib/python3.10/site-packages/sksurv/metrics.py\", line 214, in concordance_index_censored\n",
      "    event_indicator, event_time, estimate = _check_inputs(event_indicator, event_time, estimate)\n",
      "  File \"/usr/local/ivan/Unito/conda/envs/tosa/lib/python3.10/site-packages/sksurv/metrics.py\", line 47, in _check_inputs\n",
      "    estimate = _check_estimate_1d(estimate, event_time)\n",
      "  File \"/usr/local/ivan/Unito/conda/envs/tosa/lib/python3.10/site-packages/sksurv/metrics.py\", line 36, in _check_estimate_1d\n",
      "    estimate = check_array(estimate, ensure_2d=False, input_name=\"estimate\")\n",
      "  File \"/usr/local/ivan/Unito/conda/envs/tosa/lib/python3.10/site-packages/sklearn/utils/validation.py\", line 921, in check_array\n",
      "    _assert_all_finite(\n",
      "  File \"/usr/local/ivan/Unito/conda/envs/tosa/lib/python3.10/site-packages/sklearn/utils/validation.py\", line 161, in _assert_all_finite\n",
      "    raise ValueError(msg_err)\n",
      "ValueError: Input estimate contains NaN.\n",
      "\n",
      "  warnings.warn(\n",
      "100%|██████████| 10000/10000 [00:12<00:00, 790.88it/s]\n",
      "100%|██████████| 10000/10000 [00:12<00:00, 779.39it/s]\n",
      "100%|██████████| 100/100 [00:03<00:00, 33.07it/s]\n",
      "/usr/local/ivan/Unito/conda/envs/tosa/lib/python3.10/site-packages/sklearn/model_selection/_validation.py:778: UserWarning: Scoring failed. The score on this train-test partition for these parameters will be set to nan. Details: \n",
      "Traceback (most recent call last):\n",
      "  File \"/usr/local/ivan/Unito/conda/envs/tosa/lib/python3.10/site-packages/sklearn/model_selection/_validation.py\", line 767, in _score\n",
      "    scores = scorer(estimator, X_test, y_test)\n",
      "  File \"/usr/local/ivan/Unito/conda/envs/tosa/lib/python3.10/site-packages/sklearn/metrics/_scorer.py\", line 444, in _passthrough_scorer\n",
      "    return estimator.score(*args, **kwargs)\n",
      "  File \"/usr/local/ivan/Unito/survhive/survhive/auton_adapters.py\", line 95, in score\n",
      "    return self.harrell_score(y, self.predict(X))[0]\n",
      "  File \"/usr/local/ivan/Unito/survhive/survhive/auton_adapters.py\", line 83, in harrell_score\n",
      "    return concordance_index_censored(\n",
      "  File \"/usr/local/ivan/Unito/conda/envs/tosa/lib/python3.10/site-packages/sksurv/metrics.py\", line 214, in concordance_index_censored\n",
      "    event_indicator, event_time, estimate = _check_inputs(event_indicator, event_time, estimate)\n",
      "  File \"/usr/local/ivan/Unito/conda/envs/tosa/lib/python3.10/site-packages/sksurv/metrics.py\", line 47, in _check_inputs\n",
      "    estimate = _check_estimate_1d(estimate, event_time)\n",
      "  File \"/usr/local/ivan/Unito/conda/envs/tosa/lib/python3.10/site-packages/sksurv/metrics.py\", line 36, in _check_estimate_1d\n",
      "    estimate = check_array(estimate, ensure_2d=False, input_name=\"estimate\")\n",
      "  File \"/usr/local/ivan/Unito/conda/envs/tosa/lib/python3.10/site-packages/sklearn/utils/validation.py\", line 921, in check_array\n",
      "    _assert_all_finite(\n",
      "  File \"/usr/local/ivan/Unito/conda/envs/tosa/lib/python3.10/site-packages/sklearn/utils/validation.py\", line 161, in _assert_all_finite\n",
      "    raise ValueError(msg_err)\n",
      "ValueError: Input estimate contains NaN.\n",
      "\n",
      "  warnings.warn(\n",
      " 45%|████▌     | 45/100 [00:01<00:01, 31.71it/s]t/s]\n",
      "\n",
      "  0%|          | 0/10000 [00:00<?, ?it/s]"
     ]
    },
    {
     "ename": "KeyboardInterrupt",
     "evalue": "",
     "output_type": "error",
     "traceback": [
      "\u001b[0;31m---------------------------------------------------------------------------\u001b[0m",
      "\u001b[0;31mKeyboardInterrupt\u001b[0m                         Traceback (most recent call last)",
      "Cell \u001b[0;32mIn[110], line 1\u001b[0m\n\u001b[0;32m----> 1\u001b[0m opt_dsm, opt_dsm_params, opt_dsm_search \u001b[38;5;241m=\u001b[39m \u001b[43msurvhive\u001b[49m\u001b[38;5;241;43m.\u001b[39;49m\u001b[43moptimize\u001b[49m\u001b[43m(\u001b[49m\u001b[43mfl_dsm\u001b[49m\u001b[43m,\u001b[49m\u001b[43m  \u001b[49m\u001b[43mX_train\u001b[49m\u001b[43m,\u001b[49m\u001b[43m \u001b[49m\u001b[43my_train\u001b[49m\u001b[43m,\u001b[49m\u001b[43m \u001b[49m\u001b[43muser_grid\u001b[49m\u001b[38;5;241;43m=\u001b[39;49m\u001b[43mfl_grid\u001b[49m\u001b[43m,\u001b[49m\u001b[43m \u001b[49m\u001b[43mn_jobs\u001b[49m\u001b[38;5;241;43m=\u001b[39;49m\u001b[38;5;241;43m2\u001b[39;49m\u001b[43m)\u001b[49m\n\u001b[1;32m      2\u001b[0m opt_dsm\u001b[38;5;241m.\u001b[39mscore(X_test, y_test), opt_dsm_params\n",
      "File \u001b[0;32m/usr/local/ivan/Unito/survhive/survhive/util.py:97\u001b[0m, in \u001b[0;36moptimize\u001b[0;34m(estimator, X, y, mode, user_grid, cv, n_jobs)\u001b[0m\n\u001b[1;32m     95\u001b[0m         user_grid \u001b[38;5;241m=\u001b[39m estimator\u001b[38;5;241m.\u001b[39mget_parameter_grid(max_width\u001b[38;5;241m=\u001b[39mX\u001b[38;5;241m.\u001b[39mshape[\u001b[38;5;241m1\u001b[39m])\n\u001b[1;32m     96\u001b[0m     gs \u001b[38;5;241m=\u001b[39m GridSearchCV(estimator, user_grid, refit\u001b[38;5;241m=\u001b[39m\u001b[38;5;28;01mTrue\u001b[39;00m, cv\u001b[38;5;241m=\u001b[39mcv, n_jobs\u001b[38;5;241m=\u001b[39mn_jobs)\n\u001b[0;32m---> 97\u001b[0m     \u001b[43mgs\u001b[49m\u001b[38;5;241;43m.\u001b[39;49m\u001b[43mfit\u001b[49m\u001b[43m(\u001b[49m\u001b[43mX\u001b[49m\u001b[43m,\u001b[49m\u001b[43m \u001b[49m\u001b[43my\u001b[49m\u001b[43m)\u001b[49m\n\u001b[1;32m     98\u001b[0m     \u001b[38;5;28;01mreturn\u001b[39;00m gs\u001b[38;5;241m.\u001b[39mbest_estimator_, gs\u001b[38;5;241m.\u001b[39mbest_params_, gs\n\u001b[1;32m     99\u001b[0m \u001b[38;5;28;01mraise\u001b[39;00m \u001b[38;5;167;01mValueError\u001b[39;00m(\u001b[38;5;124mf\u001b[39m\u001b[38;5;124m'\u001b[39m\u001b[38;5;124munknown mode parameter: \u001b[39m\u001b[38;5;124m\"\u001b[39m\u001b[38;5;132;01m{\u001b[39;00mmode\u001b[38;5;132;01m}\u001b[39;00m\u001b[38;5;124m\"\u001b[39m\u001b[38;5;124m'\u001b[39m)\n",
      "File \u001b[0;32m/usr/local/ivan/Unito/conda/envs/tosa/lib/python3.10/site-packages/sklearn/model_selection/_search.py:874\u001b[0m, in \u001b[0;36mBaseSearchCV.fit\u001b[0;34m(self, X, y, groups, **fit_params)\u001b[0m\n\u001b[1;32m    868\u001b[0m     results \u001b[38;5;241m=\u001b[39m \u001b[38;5;28mself\u001b[39m\u001b[38;5;241m.\u001b[39m_format_results(\n\u001b[1;32m    869\u001b[0m         all_candidate_params, n_splits, all_out, all_more_results\n\u001b[1;32m    870\u001b[0m     )\n\u001b[1;32m    872\u001b[0m     \u001b[38;5;28;01mreturn\u001b[39;00m results\n\u001b[0;32m--> 874\u001b[0m \u001b[38;5;28;43mself\u001b[39;49m\u001b[38;5;241;43m.\u001b[39;49m\u001b[43m_run_search\u001b[49m\u001b[43m(\u001b[49m\u001b[43mevaluate_candidates\u001b[49m\u001b[43m)\u001b[49m\n\u001b[1;32m    876\u001b[0m \u001b[38;5;66;03m# multimetric is determined here because in the case of a callable\u001b[39;00m\n\u001b[1;32m    877\u001b[0m \u001b[38;5;66;03m# self.scoring the return type is only known after calling\u001b[39;00m\n\u001b[1;32m    878\u001b[0m first_test_score \u001b[38;5;241m=\u001b[39m all_out[\u001b[38;5;241m0\u001b[39m][\u001b[38;5;124m\"\u001b[39m\u001b[38;5;124mtest_scores\u001b[39m\u001b[38;5;124m\"\u001b[39m]\n",
      "File \u001b[0;32m/usr/local/ivan/Unito/conda/envs/tosa/lib/python3.10/site-packages/sklearn/model_selection/_search.py:1388\u001b[0m, in \u001b[0;36mGridSearchCV._run_search\u001b[0;34m(self, evaluate_candidates)\u001b[0m\n\u001b[1;32m   1386\u001b[0m \u001b[38;5;28;01mdef\u001b[39;00m \u001b[38;5;21m_run_search\u001b[39m(\u001b[38;5;28mself\u001b[39m, evaluate_candidates):\n\u001b[1;32m   1387\u001b[0m \u001b[38;5;250m    \u001b[39m\u001b[38;5;124;03m\"\"\"Search all candidates in param_grid\"\"\"\u001b[39;00m\n\u001b[0;32m-> 1388\u001b[0m     \u001b[43mevaluate_candidates\u001b[49m\u001b[43m(\u001b[49m\u001b[43mParameterGrid\u001b[49m\u001b[43m(\u001b[49m\u001b[38;5;28;43mself\u001b[39;49m\u001b[38;5;241;43m.\u001b[39;49m\u001b[43mparam_grid\u001b[49m\u001b[43m)\u001b[49m\u001b[43m)\u001b[49m\n",
      "File \u001b[0;32m/usr/local/ivan/Unito/conda/envs/tosa/lib/python3.10/site-packages/sklearn/model_selection/_search.py:821\u001b[0m, in \u001b[0;36mBaseSearchCV.fit.<locals>.evaluate_candidates\u001b[0;34m(candidate_params, cv, more_results)\u001b[0m\n\u001b[1;32m    813\u001b[0m \u001b[38;5;28;01mif\u001b[39;00m \u001b[38;5;28mself\u001b[39m\u001b[38;5;241m.\u001b[39mverbose \u001b[38;5;241m>\u001b[39m \u001b[38;5;241m0\u001b[39m:\n\u001b[1;32m    814\u001b[0m     \u001b[38;5;28mprint\u001b[39m(\n\u001b[1;32m    815\u001b[0m         \u001b[38;5;124m\"\u001b[39m\u001b[38;5;124mFitting \u001b[39m\u001b[38;5;132;01m{0}\u001b[39;00m\u001b[38;5;124m folds for each of \u001b[39m\u001b[38;5;132;01m{1}\u001b[39;00m\u001b[38;5;124m candidates,\u001b[39m\u001b[38;5;124m\"\u001b[39m\n\u001b[1;32m    816\u001b[0m         \u001b[38;5;124m\"\u001b[39m\u001b[38;5;124m totalling \u001b[39m\u001b[38;5;132;01m{2}\u001b[39;00m\u001b[38;5;124m fits\u001b[39m\u001b[38;5;124m\"\u001b[39m\u001b[38;5;241m.\u001b[39mformat(\n\u001b[1;32m    817\u001b[0m             n_splits, n_candidates, n_candidates \u001b[38;5;241m*\u001b[39m n_splits\n\u001b[1;32m    818\u001b[0m         )\n\u001b[1;32m    819\u001b[0m     )\n\u001b[0;32m--> 821\u001b[0m out \u001b[38;5;241m=\u001b[39m \u001b[43mparallel\u001b[49m\u001b[43m(\u001b[49m\n\u001b[1;32m    822\u001b[0m \u001b[43m    \u001b[49m\u001b[43mdelayed\u001b[49m\u001b[43m(\u001b[49m\u001b[43m_fit_and_score\u001b[49m\u001b[43m)\u001b[49m\u001b[43m(\u001b[49m\n\u001b[1;32m    823\u001b[0m \u001b[43m        \u001b[49m\u001b[43mclone\u001b[49m\u001b[43m(\u001b[49m\u001b[43mbase_estimator\u001b[49m\u001b[43m)\u001b[49m\u001b[43m,\u001b[49m\n\u001b[1;32m    824\u001b[0m \u001b[43m        \u001b[49m\u001b[43mX\u001b[49m\u001b[43m,\u001b[49m\n\u001b[1;32m    825\u001b[0m \u001b[43m        \u001b[49m\u001b[43my\u001b[49m\u001b[43m,\u001b[49m\n\u001b[1;32m    826\u001b[0m \u001b[43m        \u001b[49m\u001b[43mtrain\u001b[49m\u001b[38;5;241;43m=\u001b[39;49m\u001b[43mtrain\u001b[49m\u001b[43m,\u001b[49m\n\u001b[1;32m    827\u001b[0m \u001b[43m        \u001b[49m\u001b[43mtest\u001b[49m\u001b[38;5;241;43m=\u001b[39;49m\u001b[43mtest\u001b[49m\u001b[43m,\u001b[49m\n\u001b[1;32m    828\u001b[0m \u001b[43m        \u001b[49m\u001b[43mparameters\u001b[49m\u001b[38;5;241;43m=\u001b[39;49m\u001b[43mparameters\u001b[49m\u001b[43m,\u001b[49m\n\u001b[1;32m    829\u001b[0m \u001b[43m        \u001b[49m\u001b[43msplit_progress\u001b[49m\u001b[38;5;241;43m=\u001b[39;49m\u001b[43m(\u001b[49m\u001b[43msplit_idx\u001b[49m\u001b[43m,\u001b[49m\u001b[43m \u001b[49m\u001b[43mn_splits\u001b[49m\u001b[43m)\u001b[49m\u001b[43m,\u001b[49m\n\u001b[1;32m    830\u001b[0m \u001b[43m        \u001b[49m\u001b[43mcandidate_progress\u001b[49m\u001b[38;5;241;43m=\u001b[39;49m\u001b[43m(\u001b[49m\u001b[43mcand_idx\u001b[49m\u001b[43m,\u001b[49m\u001b[43m \u001b[49m\u001b[43mn_candidates\u001b[49m\u001b[43m)\u001b[49m\u001b[43m,\u001b[49m\n\u001b[1;32m    831\u001b[0m \u001b[43m        \u001b[49m\u001b[38;5;241;43m*\u001b[39;49m\u001b[38;5;241;43m*\u001b[39;49m\u001b[43mfit_and_score_kwargs\u001b[49m\u001b[43m,\u001b[49m\n\u001b[1;32m    832\u001b[0m \u001b[43m    \u001b[49m\u001b[43m)\u001b[49m\n\u001b[1;32m    833\u001b[0m \u001b[43m    \u001b[49m\u001b[38;5;28;43;01mfor\u001b[39;49;00m\u001b[43m \u001b[49m\u001b[43m(\u001b[49m\u001b[43mcand_idx\u001b[49m\u001b[43m,\u001b[49m\u001b[43m \u001b[49m\u001b[43mparameters\u001b[49m\u001b[43m)\u001b[49m\u001b[43m,\u001b[49m\u001b[43m \u001b[49m\u001b[43m(\u001b[49m\u001b[43msplit_idx\u001b[49m\u001b[43m,\u001b[49m\u001b[43m \u001b[49m\u001b[43m(\u001b[49m\u001b[43mtrain\u001b[49m\u001b[43m,\u001b[49m\u001b[43m \u001b[49m\u001b[43mtest\u001b[49m\u001b[43m)\u001b[49m\u001b[43m)\u001b[49m\u001b[43m \u001b[49m\u001b[38;5;129;43;01min\u001b[39;49;00m\u001b[43m \u001b[49m\u001b[43mproduct\u001b[49m\u001b[43m(\u001b[49m\n\u001b[1;32m    834\u001b[0m \u001b[43m        \u001b[49m\u001b[38;5;28;43menumerate\u001b[39;49m\u001b[43m(\u001b[49m\u001b[43mcandidate_params\u001b[49m\u001b[43m)\u001b[49m\u001b[43m,\u001b[49m\u001b[43m \u001b[49m\u001b[38;5;28;43menumerate\u001b[39;49m\u001b[43m(\u001b[49m\u001b[43mcv\u001b[49m\u001b[38;5;241;43m.\u001b[39;49m\u001b[43msplit\u001b[49m\u001b[43m(\u001b[49m\u001b[43mX\u001b[49m\u001b[43m,\u001b[49m\u001b[43m \u001b[49m\u001b[43my\u001b[49m\u001b[43m,\u001b[49m\u001b[43m \u001b[49m\u001b[43mgroups\u001b[49m\u001b[43m)\u001b[49m\u001b[43m)\u001b[49m\n\u001b[1;32m    835\u001b[0m \u001b[43m    \u001b[49m\u001b[43m)\u001b[49m\n\u001b[1;32m    836\u001b[0m \u001b[43m\u001b[49m\u001b[43m)\u001b[49m\n\u001b[1;32m    838\u001b[0m \u001b[38;5;28;01mif\u001b[39;00m \u001b[38;5;28mlen\u001b[39m(out) \u001b[38;5;241m<\u001b[39m \u001b[38;5;241m1\u001b[39m:\n\u001b[1;32m    839\u001b[0m     \u001b[38;5;28;01mraise\u001b[39;00m \u001b[38;5;167;01mValueError\u001b[39;00m(\n\u001b[1;32m    840\u001b[0m         \u001b[38;5;124m\"\u001b[39m\u001b[38;5;124mNo fits were performed. \u001b[39m\u001b[38;5;124m\"\u001b[39m\n\u001b[1;32m    841\u001b[0m         \u001b[38;5;124m\"\u001b[39m\u001b[38;5;124mWas the CV iterator empty? \u001b[39m\u001b[38;5;124m\"\u001b[39m\n\u001b[1;32m    842\u001b[0m         \u001b[38;5;124m\"\u001b[39m\u001b[38;5;124mWere there no candidates?\u001b[39m\u001b[38;5;124m\"\u001b[39m\n\u001b[1;32m    843\u001b[0m     )\n",
      "File \u001b[0;32m/usr/local/ivan/Unito/conda/envs/tosa/lib/python3.10/site-packages/sklearn/utils/parallel.py:63\u001b[0m, in \u001b[0;36mParallel.__call__\u001b[0;34m(self, iterable)\u001b[0m\n\u001b[1;32m     58\u001b[0m config \u001b[38;5;241m=\u001b[39m get_config()\n\u001b[1;32m     59\u001b[0m iterable_with_config \u001b[38;5;241m=\u001b[39m (\n\u001b[1;32m     60\u001b[0m     (_with_config(delayed_func, config), args, kwargs)\n\u001b[1;32m     61\u001b[0m     \u001b[38;5;28;01mfor\u001b[39;00m delayed_func, args, kwargs \u001b[38;5;129;01min\u001b[39;00m iterable\n\u001b[1;32m     62\u001b[0m )\n\u001b[0;32m---> 63\u001b[0m \u001b[38;5;28;01mreturn\u001b[39;00m \u001b[38;5;28;43msuper\u001b[39;49m\u001b[43m(\u001b[49m\u001b[43m)\u001b[49m\u001b[38;5;241;43m.\u001b[39;49m\u001b[38;5;21;43m__call__\u001b[39;49m\u001b[43m(\u001b[49m\u001b[43miterable_with_config\u001b[49m\u001b[43m)\u001b[49m\n",
      "File \u001b[0;32m/usr/local/ivan/Unito/conda/envs/tosa/lib/python3.10/site-packages/joblib/parallel.py:1944\u001b[0m, in \u001b[0;36mParallel.__call__\u001b[0;34m(self, iterable)\u001b[0m\n\u001b[1;32m   1938\u001b[0m \u001b[38;5;66;03m# The first item from the output is blank, but it makes the interpreter\u001b[39;00m\n\u001b[1;32m   1939\u001b[0m \u001b[38;5;66;03m# progress until it enters the Try/Except block of the generator and\u001b[39;00m\n\u001b[1;32m   1940\u001b[0m \u001b[38;5;66;03m# reach the first `yield` statement. This starts the aynchronous\u001b[39;00m\n\u001b[1;32m   1941\u001b[0m \u001b[38;5;66;03m# dispatch of the tasks to the workers.\u001b[39;00m\n\u001b[1;32m   1942\u001b[0m \u001b[38;5;28mnext\u001b[39m(output)\n\u001b[0;32m-> 1944\u001b[0m \u001b[38;5;28;01mreturn\u001b[39;00m output \u001b[38;5;28;01mif\u001b[39;00m \u001b[38;5;28mself\u001b[39m\u001b[38;5;241m.\u001b[39mreturn_generator \u001b[38;5;28;01melse\u001b[39;00m \u001b[38;5;28;43mlist\u001b[39;49m\u001b[43m(\u001b[49m\u001b[43moutput\u001b[49m\u001b[43m)\u001b[49m\n",
      "File \u001b[0;32m/usr/local/ivan/Unito/conda/envs/tosa/lib/python3.10/site-packages/joblib/parallel.py:1587\u001b[0m, in \u001b[0;36mParallel._get_outputs\u001b[0;34m(self, iterator, pre_dispatch)\u001b[0m\n\u001b[1;32m   1584\u001b[0m     \u001b[38;5;28;01myield\u001b[39;00m\n\u001b[1;32m   1586\u001b[0m     \u001b[38;5;28;01mwith\u001b[39;00m \u001b[38;5;28mself\u001b[39m\u001b[38;5;241m.\u001b[39m_backend\u001b[38;5;241m.\u001b[39mretrieval_context():\n\u001b[0;32m-> 1587\u001b[0m         \u001b[38;5;28;01myield from\u001b[39;00m \u001b[38;5;28mself\u001b[39m\u001b[38;5;241m.\u001b[39m_retrieve()\n\u001b[1;32m   1589\u001b[0m \u001b[38;5;28;01mexcept\u001b[39;00m \u001b[38;5;167;01mGeneratorExit\u001b[39;00m:\n\u001b[1;32m   1590\u001b[0m     \u001b[38;5;66;03m# The generator has been garbage collected before being fully\u001b[39;00m\n\u001b[1;32m   1591\u001b[0m     \u001b[38;5;66;03m# consumed. This aborts the remaining tasks if possible and warn\u001b[39;00m\n\u001b[1;32m   1592\u001b[0m     \u001b[38;5;66;03m# the user if necessary.\u001b[39;00m\n\u001b[1;32m   1593\u001b[0m     \u001b[38;5;28mself\u001b[39m\u001b[38;5;241m.\u001b[39m_exception \u001b[38;5;241m=\u001b[39m \u001b[38;5;28;01mTrue\u001b[39;00m\n",
      "File \u001b[0;32m/usr/local/ivan/Unito/conda/envs/tosa/lib/python3.10/site-packages/joblib/parallel.py:1699\u001b[0m, in \u001b[0;36mParallel._retrieve\u001b[0;34m(self)\u001b[0m\n\u001b[1;32m   1694\u001b[0m \u001b[38;5;66;03m# If the next job is not ready for retrieval yet, we just wait for\u001b[39;00m\n\u001b[1;32m   1695\u001b[0m \u001b[38;5;66;03m# async callbacks to progress.\u001b[39;00m\n\u001b[1;32m   1696\u001b[0m \u001b[38;5;28;01mif\u001b[39;00m ((\u001b[38;5;28mlen\u001b[39m(\u001b[38;5;28mself\u001b[39m\u001b[38;5;241m.\u001b[39m_jobs) \u001b[38;5;241m==\u001b[39m \u001b[38;5;241m0\u001b[39m) \u001b[38;5;129;01mor\u001b[39;00m\n\u001b[1;32m   1697\u001b[0m     (\u001b[38;5;28mself\u001b[39m\u001b[38;5;241m.\u001b[39m_jobs[\u001b[38;5;241m0\u001b[39m]\u001b[38;5;241m.\u001b[39mget_status(\n\u001b[1;32m   1698\u001b[0m         timeout\u001b[38;5;241m=\u001b[39m\u001b[38;5;28mself\u001b[39m\u001b[38;5;241m.\u001b[39mtimeout) \u001b[38;5;241m==\u001b[39m TASK_PENDING)):\n\u001b[0;32m-> 1699\u001b[0m     \u001b[43mtime\u001b[49m\u001b[38;5;241;43m.\u001b[39;49m\u001b[43msleep\u001b[49m\u001b[43m(\u001b[49m\u001b[38;5;241;43m0.01\u001b[39;49m\u001b[43m)\u001b[49m\n\u001b[1;32m   1700\u001b[0m     \u001b[38;5;28;01mcontinue\u001b[39;00m\n\u001b[1;32m   1702\u001b[0m \u001b[38;5;66;03m# We need to be careful: the job list can be filling up as\u001b[39;00m\n\u001b[1;32m   1703\u001b[0m \u001b[38;5;66;03m# we empty it and Python list are not thread-safe by\u001b[39;00m\n\u001b[1;32m   1704\u001b[0m \u001b[38;5;66;03m# default hence the use of the lock\u001b[39;00m\n",
      "\u001b[0;31mKeyboardInterrupt\u001b[0m: "
     ]
    }
   ],
   "source": [
    "opt_dsm, opt_dsm_params, opt_dsm_search = survhive.optimize(fl_dsm,  X_train, y_train, user_grid=fl_grid, n_jobs=2)\n",
    "opt_dsm.score(X_test, y_test), opt_dsm_params"
   ]
  },
  {
   "cell_type": "code",
   "execution_count": 42,
   "id": "ab81d401-a14d-46aa-844a-eb3b3c0344e1",
   "metadata": {},
   "outputs": [
    {
     "data": {
      "text/plain": [
       "[(1,\n",
       "  0.6439123236055904,\n",
       "  0.013331054406781466,\n",
       "  0.6305812691988089,\n",
       "  {'batch_size': 32,\n",
       "   'distr_kind': 'Weibull',\n",
       "   'elbo': False,\n",
       "   'layer_sizes': [7],\n",
       "   'learning_rate': 0.001,\n",
       "   'max_epochs': 100,\n",
       "   'n_distr': 2,\n",
       "   'validation_size': 0.1}),\n",
       " (2,\n",
       "  0.641216329625738,\n",
       "  0.013656838752293343,\n",
       "  0.6275594908734448,\n",
       "  {'batch_size': 32,\n",
       "   'distr_kind': 'Weibull',\n",
       "   'elbo': False,\n",
       "   'layer_sizes': [8, 8, 8],\n",
       "   'learning_rate': 0.001,\n",
       "   'max_epochs': 100,\n",
       "   'n_distr': 2,\n",
       "   'validation_size': 0.1}),\n",
       " (3,\n",
       "  0.6410448389376093,\n",
       "  0.01578927172475547,\n",
       "  0.6252555672128539,\n",
       "  {'batch_size': 32,\n",
       "   'distr_kind': 'Weibull',\n",
       "   'elbo': False,\n",
       "   'layer_sizes': [6, 6],\n",
       "   'learning_rate': 0.001,\n",
       "   'max_epochs': 100,\n",
       "   'n_distr': 2,\n",
       "   'validation_size': 0.1}),\n",
       " (4,\n",
       "  0.6401690073828874,\n",
       "  0.0085377368984144,\n",
       "  0.631631270484473,\n",
       "  {'batch_size': 32,\n",
       "   'distr_kind': 'Weibull',\n",
       "   'elbo': False,\n",
       "   'layer_sizes': [6],\n",
       "   'learning_rate': 0.001,\n",
       "   'max_epochs': 100,\n",
       "   'n_distr': 2,\n",
       "   'validation_size': 0.1}),\n",
       " (5,\n",
       "  0.6392439596135209,\n",
       "  0.013189568452178372,\n",
       "  0.6260543911613425,\n",
       "  {'batch_size': 32,\n",
       "   'distr_kind': 'Weibull',\n",
       "   'elbo': False,\n",
       "   'layer_sizes': [8, 8],\n",
       "   'learning_rate': 0.001,\n",
       "   'max_epochs': 100,\n",
       "   'n_distr': 2,\n",
       "   'validation_size': 0.1}),\n",
       " (6,\n",
       "  0.6374513258647787,\n",
       "  0.012825806218798695,\n",
       "  0.62462551964598,\n",
       "  {'batch_size': 32,\n",
       "   'distr_kind': 'Weibull',\n",
       "   'elbo': False,\n",
       "   'layer_sizes': [7, 7, 7],\n",
       "   'learning_rate': 0.001,\n",
       "   'max_epochs': 100,\n",
       "   'n_distr': 2,\n",
       "   'validation_size': 0.1}),\n",
       " (7,\n",
       "  0.6373802236649386,\n",
       "  0.011519852514337724,\n",
       "  0.6258603711506009,\n",
       "  {'batch_size': 32,\n",
       "   'distr_kind': 'Weibull',\n",
       "   'elbo': False,\n",
       "   'layer_sizes': [7],\n",
       "   'learning_rate': 0.001,\n",
       "   'max_epochs': 100,\n",
       "   'n_distr': 1,\n",
       "   'validation_size': 0.1}),\n",
       " (8,\n",
       "  0.6358725130321964,\n",
       "  0.01804665694618733,\n",
       "  0.617825856086009,\n",
       "  {'batch_size': 32,\n",
       "   'distr_kind': 'Weibull',\n",
       "   'elbo': False,\n",
       "   'layer_sizes': [5],\n",
       "   'learning_rate': 0.001,\n",
       "   'max_epochs': 100,\n",
       "   'n_distr': 1,\n",
       "   'validation_size': 0.1}),\n",
       " (9,\n",
       "  0.6356634920689161,\n",
       "  0.011565403723919947,\n",
       "  0.6240980883449962,\n",
       "  {'batch_size': 32,\n",
       "   'distr_kind': 'Weibull',\n",
       "   'elbo': False,\n",
       "   'layer_sizes': [6, 6, 6],\n",
       "   'learning_rate': 0.001,\n",
       "   'max_epochs': 100,\n",
       "   'n_distr': 2,\n",
       "   'validation_size': 0.1}),\n",
       " (10,\n",
       "  0.6355773888965156,\n",
       "  0.010116405584353453,\n",
       "  0.6254609833121622,\n",
       "  {'batch_size': 32,\n",
       "   'distr_kind': 'Weibull',\n",
       "   'elbo': False,\n",
       "   'layer_sizes': [8],\n",
       "   'learning_rate': 0.001,\n",
       "   'max_epochs': 100,\n",
       "   'n_distr': 2,\n",
       "   'validation_size': 0.1})]"
      ]
     },
     "execution_count": 42,
     "metadata": {},
     "output_type": "execute_result"
    }
   ],
   "source": [
    "cv_res = opt_dsm_search.cv_results_\n",
    "rez=sorted(zip(cv_res['rank_test_score'], cv_res['mean_test_score'] , cv_res['std_test_score'], \n",
    "               cv_res['mean_test_score'] - cv_res['std_test_score'], opt_dsm_search.cv_results_['params']))\n",
    "rez[:10]"
   ]
  },
  {
   "cell_type": "code",
   "execution_count": 43,
   "id": "36d543c7-043d-4ad9-9a3b-9485d098288c",
   "metadata": {
    "scrolled": true
   },
   "outputs": [
    {
     "name": "stdout",
     "output_type": "stream",
     "text": [
      "(4, 0.6401690073828874, 0.0085377368984144, 0.631631270484473)\n"
     ]
    },
    {
     "name": "stderr",
     "output_type": "stream",
     "text": [
      "  8%|████▎                                                | 822/10000 [00:01<00:17, 538.57it/s]\n",
      " 13%|███████▍                                                 | 13/100 [00:01<00:12,  7.19it/s]\n"
     ]
    },
    {
     "name": "stdout",
     "output_type": "stream",
     "text": [
      "Train:  0.6486 , Test: 0.6522\n",
      "(1, 0.6439123236055904, 0.013331054406781466, 0.6305812691988089)\n"
     ]
    },
    {
     "name": "stderr",
     "output_type": "stream",
     "text": [
      "  8%|████▎                                                | 822/10000 [00:01<00:16, 568.31it/s]\n",
      " 23%|█████████████                                            | 23/100 [00:02<00:09,  7.86it/s]\n"
     ]
    },
    {
     "name": "stdout",
     "output_type": "stream",
     "text": [
      "Train:  0.6579 , Test: 0.6666\n",
      "(2, 0.641216329625738, 0.013656838752293343, 0.6275594908734448)\n"
     ]
    },
    {
     "name": "stderr",
     "output_type": "stream",
     "text": [
      "  8%|████▎                                                | 822/10000 [00:01<00:15, 579.84it/s]\n",
      " 26%|██████████████▊                                          | 26/100 [00:03<00:10,  7.01it/s]\n"
     ]
    },
    {
     "name": "stdout",
     "output_type": "stream",
     "text": [
      "Train:  0.6614 , Test: 0.6682\n",
      "(5, 0.6392439596135209, 0.013189568452178372, 0.6260543911613425)\n"
     ]
    },
    {
     "name": "stderr",
     "output_type": "stream",
     "text": [
      "  8%|████▎                                                | 822/10000 [00:01<00:15, 576.36it/s]\n",
      " 33%|██████████████████▊                                      | 33/100 [00:04<00:08,  7.73it/s]\n"
     ]
    },
    {
     "name": "stdout",
     "output_type": "stream",
     "text": [
      "Train:  0.6625 , Test: 0.6661\n",
      "(7, 0.6373802236649386, 0.011519852514337724, 0.6258603711506009)\n"
     ]
    },
    {
     "name": "stderr",
     "output_type": "stream",
     "text": [
      "  8%|████▎                                                | 822/10000 [00:01<00:15, 583.68it/s]\n",
      " 13%|███████▍                                                 | 13/100 [00:01<00:10,  8.47it/s]\n"
     ]
    },
    {
     "name": "stdout",
     "output_type": "stream",
     "text": [
      "Train:  0.6424 , Test: 0.6341\n",
      "(10, 0.6355773888965156, 0.010116405584353453, 0.6254609833121622)\n"
     ]
    },
    {
     "name": "stderr",
     "output_type": "stream",
     "text": [
      "  8%|████▎                                                | 822/10000 [00:01<00:15, 583.44it/s]\n",
      " 15%|████████▌                                                | 15/100 [00:01<00:11,  7.71it/s]\n"
     ]
    },
    {
     "name": "stdout",
     "output_type": "stream",
     "text": [
      "Train:  0.6481 , Test: 0.6642\n",
      "(3, 0.6410448389376093, 0.01578927172475547, 0.6252555672128539)\n"
     ]
    },
    {
     "name": "stderr",
     "output_type": "stream",
     "text": [
      "  8%|████▎                                                | 822/10000 [00:01<00:16, 563.94it/s]\n",
      " 13%|███████▍                                                 | 13/100 [00:01<00:12,  6.90it/s]\n"
     ]
    },
    {
     "name": "stdout",
     "output_type": "stream",
     "text": [
      "Train:  0.6500 , Test: 0.6492\n",
      "(6, 0.6374513258647787, 0.012825806218798695, 0.62462551964598)\n"
     ]
    },
    {
     "name": "stderr",
     "output_type": "stream",
     "text": [
      "  8%|████▎                                                | 822/10000 [00:01<00:16, 548.67it/s]\n",
      " 14%|███████▉                                                 | 14/100 [00:02<00:13,  6.42it/s]\n"
     ]
    },
    {
     "name": "stdout",
     "output_type": "stream",
     "text": [
      "Train:  0.6542 , Test: 0.6551\n",
      "(9, 0.6356634920689161, 0.011565403723919947, 0.6240980883449962)\n"
     ]
    },
    {
     "name": "stderr",
     "output_type": "stream",
     "text": [
      "  8%|████▎                                                | 822/10000 [00:01<00:16, 551.09it/s]\n",
      " 13%|███████▍                                                 | 13/100 [00:02<00:13,  6.44it/s]\n"
     ]
    },
    {
     "name": "stdout",
     "output_type": "stream",
     "text": [
      "Train:  0.6482 , Test: 0.6479\n",
      "(8, 0.6358725130321964, 0.01804665694618733, 0.617825856086009)\n"
     ]
    },
    {
     "name": "stderr",
     "output_type": "stream",
     "text": [
      "  8%|████▎                                                | 822/10000 [00:01<00:16, 545.80it/s]\n",
      " 33%|██████████████████▊                                      | 33/100 [00:03<00:07,  9.08it/s]"
     ]
    },
    {
     "name": "stdout",
     "output_type": "stream",
     "text": [
      "Train:  0.6583 , Test: 0.6545\n"
     ]
    },
    {
     "name": "stderr",
     "output_type": "stream",
     "text": [
      "\n"
     ]
    }
   ],
   "source": [
    "low_bound = sorted(rez[:10], key= lambda k: k[3], reverse=True)\n",
    "for lb in [ _ for _ in low_bound if _[3] > 0.5] :\n",
    "    print(lb[0:4])\n",
    "    test_model(survhive.DeepSurvivalMachines, **lb[4])"
   ]
  },
  {
   "cell_type": "code",
   "execution_count": 53,
   "id": "d29144de-820a-4d6e-89c0-bbf50acd6684",
   "metadata": {
    "scrolled": true
   },
   "outputs": [
    {
     "name": "stderr",
     "output_type": "stream",
     "text": [
      "  8%|██████████▎                                                                                                                  | 822/10000 [00:00<00:09, 981.93it/s]\n",
      " 12%|██████████████▊                                                                                                                  | 23/200 [00:01<00:14, 11.87it/s]"
     ]
    },
    {
     "name": "stdout",
     "output_type": "stream",
     "text": [
      "Train:  0.6579 , Test: 0.6666\n"
     ]
    },
    {
     "name": "stderr",
     "output_type": "stream",
     "text": [
      "\n"
     ]
    },
    {
     "data": {
      "text/plain": [
       "0.6665853628028569"
      ]
     },
     "execution_count": 53,
     "metadata": {},
     "output_type": "execute_result"
    }
   ],
   "source": [
    "test_model(survhive.DeepSurvivalMachines, batch_size=32, layer_sizes=[7], n_distr=2, max_epochs=200)"
   ]
  },
  {
   "cell_type": "markdown",
   "id": "b0b40382-076d-4687-94be-a531868a6f55",
   "metadata": {},
   "source": [
    "# PyCox"
   ]
  },
  {
   "cell_type": "code",
   "execution_count": 55,
   "id": "d4c93711-b26b-447b-a207-32641f9c5e89",
   "metadata": {},
   "outputs": [],
   "source": [
    "#import pycox.models"
   ]
  },
  {
   "cell_type": "code",
   "execution_count": 59,
   "id": "ec08ab11-20e1-4d66-9cf7-862a875fe8c6",
   "metadata": {},
   "outputs": [
    {
     "data": {
      "text/html": [
       "<style>#sk-container-id-7 {color: black;background-color: white;}#sk-container-id-7 pre{padding: 0;}#sk-container-id-7 div.sk-toggleable {background-color: white;}#sk-container-id-7 label.sk-toggleable__label {cursor: pointer;display: block;width: 100%;margin-bottom: 0;padding: 0.3em;box-sizing: border-box;text-align: center;}#sk-container-id-7 label.sk-toggleable__label-arrow:before {content: \"▸\";float: left;margin-right: 0.25em;color: #696969;}#sk-container-id-7 label.sk-toggleable__label-arrow:hover:before {color: black;}#sk-container-id-7 div.sk-estimator:hover label.sk-toggleable__label-arrow:before {color: black;}#sk-container-id-7 div.sk-toggleable__content {max-height: 0;max-width: 0;overflow: hidden;text-align: left;background-color: #f0f8ff;}#sk-container-id-7 div.sk-toggleable__content pre {margin: 0.2em;color: black;border-radius: 0.25em;background-color: #f0f8ff;}#sk-container-id-7 input.sk-toggleable__control:checked~div.sk-toggleable__content {max-height: 200px;max-width: 100%;overflow: auto;}#sk-container-id-7 input.sk-toggleable__control:checked~label.sk-toggleable__label-arrow:before {content: \"▾\";}#sk-container-id-7 div.sk-estimator input.sk-toggleable__control:checked~label.sk-toggleable__label {background-color: #d4ebff;}#sk-container-id-7 div.sk-label input.sk-toggleable__control:checked~label.sk-toggleable__label {background-color: #d4ebff;}#sk-container-id-7 input.sk-hidden--visually {border: 0;clip: rect(1px 1px 1px 1px);clip: rect(1px, 1px, 1px, 1px);height: 1px;margin: -1px;overflow: hidden;padding: 0;position: absolute;width: 1px;}#sk-container-id-7 div.sk-estimator {font-family: monospace;background-color: #f0f8ff;border: 1px dotted black;border-radius: 0.25em;box-sizing: border-box;margin-bottom: 0.5em;}#sk-container-id-7 div.sk-estimator:hover {background-color: #d4ebff;}#sk-container-id-7 div.sk-parallel-item::after {content: \"\";width: 100%;border-bottom: 1px solid gray;flex-grow: 1;}#sk-container-id-7 div.sk-label:hover label.sk-toggleable__label {background-color: #d4ebff;}#sk-container-id-7 div.sk-serial::before {content: \"\";position: absolute;border-left: 1px solid gray;box-sizing: border-box;top: 0;bottom: 0;left: 50%;z-index: 0;}#sk-container-id-7 div.sk-serial {display: flex;flex-direction: column;align-items: center;background-color: white;padding-right: 0.2em;padding-left: 0.2em;position: relative;}#sk-container-id-7 div.sk-item {position: relative;z-index: 1;}#sk-container-id-7 div.sk-parallel {display: flex;align-items: stretch;justify-content: center;background-color: white;position: relative;}#sk-container-id-7 div.sk-item::before, #sk-container-id-7 div.sk-parallel-item::before {content: \"\";position: absolute;border-left: 1px solid gray;box-sizing: border-box;top: 0;bottom: 0;left: 50%;z-index: -1;}#sk-container-id-7 div.sk-parallel-item {display: flex;flex-direction: column;z-index: 1;position: relative;background-color: white;}#sk-container-id-7 div.sk-parallel-item:first-child::after {align-self: flex-end;width: 50%;}#sk-container-id-7 div.sk-parallel-item:last-child::after {align-self: flex-start;width: 50%;}#sk-container-id-7 div.sk-parallel-item:only-child::after {width: 0;}#sk-container-id-7 div.sk-dashed-wrapped {border: 1px dashed gray;margin: 0 0.4em 0.5em 0.4em;box-sizing: border-box;padding-bottom: 0.4em;background-color: white;}#sk-container-id-7 div.sk-label label {font-family: monospace;font-weight: bold;display: inline-block;line-height: 1.2em;}#sk-container-id-7 div.sk-label-container {text-align: center;}#sk-container-id-7 div.sk-container {/* jupyter's `normalize.less` sets `[hidden] { display: none; }` but bootstrap.min.css set `[hidden] { display: none !important; }` so we also need the `!important` here to be able to override the default hidden behavior on the sphinx rendered scikit-learn.org. See: https://github.com/scikit-learn/scikit-learn/issues/21755 */display: inline-block !important;position: relative;}#sk-container-id-7 div.sk-text-repr-fallback {display: none;}</style><div id=\"sk-container-id-7\" class=\"sk-top-container\"><div class=\"sk-text-repr-fallback\"><pre>DeepHitSingle(rng_seed=2309, num_durations=10, layer_sizes=[10, 10], epochs=10, batch_size=16, validation_size=0.1, learning_rate=0.001, dropout=0.1, device=&#x27;cpu&#x27;)</pre><b>In a Jupyter environment, please rerun this cell to show the HTML representation or trust the notebook. <br />On GitHub, the HTML representation is unable to render, please try loading this page with nbviewer.org.</b></div><div class=\"sk-container\" hidden><div class=\"sk-item\"><div class=\"sk-estimator sk-toggleable\"><input class=\"sk-toggleable__control sk-hidden--visually\" id=\"sk-estimator-id-7\" type=\"checkbox\" checked><label for=\"sk-estimator-id-7\" class=\"sk-toggleable__label sk-toggleable__label-arrow\">DeepHitSingle</label><div class=\"sk-toggleable__content\"><pre>DeepHitSingle(rng_seed=2309, num_durations=10, layer_sizes=[10, 10], epochs=10, batch_size=16, validation_size=0.1, learning_rate=0.001, dropout=0.1, device=&#x27;cpu&#x27;)</pre></div></div></div></div></div>"
      ],
      "text/plain": [
       "DeepHitSingle(rng_seed=2309, num_durations=10, layer_sizes=[10, 10], epochs=10, batch_size=16, validation_size=0.1, learning_rate=0.001, dropout=0.1, device='cpu')"
      ]
     },
     "execution_count": 59,
     "metadata": {},
     "output_type": "execute_result"
    }
   ],
   "source": [
    "fl_dhs = survhive.DeepHitSingle(rng_seed=2309)\n",
    "fl_dhs"
   ]
  },
  {
   "cell_type": "code",
   "execution_count": 58,
   "id": "02f94508-cc94-4aa7-bce1-519736713ae4",
   "metadata": {},
   "outputs": [
    {
     "data": {
      "text/plain": [
       "{'num_durations': [10],\n",
       " 'layer_sizes': [[3],\n",
       "  [4],\n",
       "  [5],\n",
       "  [7],\n",
       "  [3, 3],\n",
       "  [4, 4],\n",
       "  [5, 5],\n",
       "  [7, 7],\n",
       "  [3, 3, 3],\n",
       "  [4, 4, 4],\n",
       "  [5, 5, 5],\n",
       "  [7, 7, 7]],\n",
       " 'epochs': [100],\n",
       " 'batch_size': [16, 32],\n",
       " 'dropout': [0.1, 0.2, 0.3],\n",
       " 'validation_size': [0.1]}"
      ]
     },
     "execution_count": 58,
     "metadata": {},
     "output_type": "execute_result"
    }
   ],
   "source": [
    "dhs_grid = dhs.get_parameter_grid(max_width=8)\n",
    "dhs_grid"
   ]
  },
  {
   "cell_type": "code",
   "execution_count": 72,
   "id": "ecaef350-3706-4a15-b7fa-fef5fd9362f4",
   "metadata": {},
   "outputs": [
    {
     "data": {
      "text/plain": [
       "0.7931254345893516"
      ]
     },
     "execution_count": 72,
     "metadata": {},
     "output_type": "execute_result"
    }
   ],
   "source": [
    "fl_dhs.layer_sizes=[10,10,10]\n",
    "fl_dhs.learning_rate=0.01\n",
    "fl_dhs.batch_size=32\n",
    "fl_dhs_xplore=fl_dhs.fit(X_train,y_train)\n",
    "fl_dhs_xplore.score(X_train,y_train)"
   ]
  },
  {
   "cell_type": "code",
   "execution_count": 73,
   "id": "fee87e56-fa88-48ca-860f-4c086a61dcfc",
   "metadata": {},
   "outputs": [
    {
     "data": {
      "text/plain": [
       "<Axes: >"
      ]
     },
     "execution_count": 73,
     "metadata": {},
     "output_type": "execute_result"
    },
    {
     "data": {
      "image/png": "[encoded data removed]",
      "text/plain": [
       "<Figure size 640x480 with 1 Axes>"
      ]
     },
     "metadata": {},
     "output_type": "display_data"
    }
   ],
   "source": [
    "fl_dhs_xplore.training_log_.plot()"
   ]
  },
  {
   "cell_type": "code",
   "execution_count": 74,
   "id": "5016842c-a840-4781-92d7-295a1670e2ca",
   "metadata": {},
   "outputs": [
    {
     "data": {
      "text/plain": [
       "{'num_durations': [10],\n",
       " 'layer_sizes': [[3],\n",
       "  [4],\n",
       "  [5],\n",
       "  [7],\n",
       "  [3, 3],\n",
       "  [4, 4],\n",
       "  [5, 5],\n",
       "  [7, 7],\n",
       "  [3, 3, 3],\n",
       "  [4, 4, 4],\n",
       "  [5, 5, 5],\n",
       "  [7, 7, 7]],\n",
       " 'epochs': [100],\n",
       " 'batch_size': [32],\n",
       " 'dropout': [0.2],\n",
       " 'validation_size': [0.1]}"
      ]
     },
     "execution_count": 74,
     "metadata": {},
     "output_type": "execute_result"
    }
   ],
   "source": [
    "dhs_grid['batch_size']=[32]\n",
    "dhs_grid['dropout']=[0.2]\n",
    "dhs_grid"
   ]
  },
  {
   "cell_type": "code",
   "execution_count": null,
   "id": "a153acd9-9db8-4958-8233-58e7a7e2b794",
   "metadata": {},
   "outputs": [],
   "source": [
    "opt__dhs, opt_dhs_params, opt_dhs_search = survhive.optimize(fl_dhs, X_train, y_train,user_grid=dhs_grid)"
   ]
  },
  {
   "cell_type": "code",
   "execution_count": 79,
   "id": "fa90e6bf-a124-4ce0-b9b4-109474ab7940",
   "metadata": {},
   "outputs": [
    {
     "data": {
      "text/plain": [
       "(0.7949943441632726,\n",
       " {'batch_size': 32,\n",
       "  'dropout': 0.2,\n",
       "  'epochs': 100,\n",
       "  'layer_sizes': [5, 5],\n",
       "  'num_durations': 10,\n",
       "  'validation_size': 0.1})"
      ]
     },
     "execution_count": 79,
     "metadata": {},
     "output_type": "execute_result"
    }
   ],
   "source": [
    "opt__dhs.score(X_test, y_test), opt_dhs_params"
   ]
  },
  {
   "cell_type": "code",
   "execution_count": 80,
   "id": "004f5820-81b2-46f3-a3ec-3d944fed7a3b",
   "metadata": {},
   "outputs": [
    {
     "data": {
      "text/plain": [
       "<Axes: >"
      ]
     },
     "execution_count": 80,
     "metadata": {},
     "output_type": "execute_result"
    },
    {
     "data": {
      "image/png": "[encoded data removed]",
      "text/plain": [
       "<Figure size 640x480 with 1 Axes>"
      ]
     },
     "metadata": {},
     "output_type": "display_data"
    }
   ],
   "source": [
    "opt__dhs.training_log_.plot()"
   ]
  },
  {
   "cell_type": "code",
   "execution_count": 78,
   "id": "e12d8fe0-72d5-4a55-8e79-5e51e382c6cc",
   "metadata": {},
   "outputs": [
    {
     "data": {
      "text/plain": [
       "[(1,\n",
       "  0.7927399916143336,\n",
       "  0.013422081671170243,\n",
       "  {'batch_size': 32,\n",
       "   'dropout': 0.2,\n",
       "   'epochs': 100,\n",
       "   'layer_sizes': [5, 5],\n",
       "   'num_durations': 10,\n",
       "   'validation_size': 0.1}),\n",
       " (2,\n",
       "  0.7921540863768431,\n",
       "  0.01347731694802788,\n",
       "  {'batch_size': 32,\n",
       "   'dropout': 0.2,\n",
       "   'epochs': 100,\n",
       "   'layer_sizes': [5, 5, 5],\n",
       "   'num_durations': 10,\n",
       "   'validation_size': 0.1}),\n",
       " (3,\n",
       "  0.7916013747347811,\n",
       "  0.013502402920411556,\n",
       "  {'batch_size': 32,\n",
       "   'dropout': 0.2,\n",
       "   'epochs': 100,\n",
       "   'layer_sizes': [5],\n",
       "   'num_durations': 10,\n",
       "   'validation_size': 0.1}),\n",
       " (4,\n",
       "  0.7914767806975285,\n",
       "  0.013004894822233085,\n",
       "  {'batch_size': 32,\n",
       "   'dropout': 0.2,\n",
       "   'epochs': 100,\n",
       "   'layer_sizes': [3, 3],\n",
       "   'num_durations': 10,\n",
       "   'validation_size': 0.1}),\n",
       " (5,\n",
       "  0.7913469253931625,\n",
       "  0.012888061854199074,\n",
       "  {'batch_size': 32,\n",
       "   'dropout': 0.2,\n",
       "   'epochs': 100,\n",
       "   'layer_sizes': [7, 7],\n",
       "   'num_durations': 10,\n",
       "   'validation_size': 0.1}),\n",
       " (6,\n",
       "  0.7912872264589248,\n",
       "  0.014945716541755232,\n",
       "  {'batch_size': 32,\n",
       "   'dropout': 0.2,\n",
       "   'epochs': 100,\n",
       "   'layer_sizes': [4, 4, 4],\n",
       "   'num_durations': 10,\n",
       "   'validation_size': 0.1}),\n",
       " (7,\n",
       "  0.7910299859213589,\n",
       "  0.013441891858867358,\n",
       "  {'batch_size': 32,\n",
       "   'dropout': 0.2,\n",
       "   'epochs': 100,\n",
       "   'layer_sizes': [3, 3, 3],\n",
       "   'num_durations': 10,\n",
       "   'validation_size': 0.1}),\n",
       " (8,\n",
       "  0.7908153485949948,\n",
       "  0.014207831783447072,\n",
       "  {'batch_size': 32,\n",
       "   'dropout': 0.2,\n",
       "   'epochs': 100,\n",
       "   'layer_sizes': [3],\n",
       "   'num_durations': 10,\n",
       "   'validation_size': 0.1}),\n",
       " (9,\n",
       "  0.7906140202674319,\n",
       "  0.014422187874646965,\n",
       "  {'batch_size': 32,\n",
       "   'dropout': 0.2,\n",
       "   'epochs': 100,\n",
       "   'layer_sizes': [4, 4],\n",
       "   'num_durations': 10,\n",
       "   'validation_size': 0.1}),\n",
       " (10,\n",
       "  0.7903370760062665,\n",
       "  0.014325516605867153,\n",
       "  {'batch_size': 32,\n",
       "   'dropout': 0.2,\n",
       "   'epochs': 100,\n",
       "   'layer_sizes': [4],\n",
       "   'num_durations': 10,\n",
       "   'validation_size': 0.1})]"
      ]
     },
     "execution_count": 78,
     "metadata": {},
     "output_type": "execute_result"
    }
   ],
   "source": [
    "survhive.get_top_models(opt_dhs_search, X_test, y_test)"
   ]
  },
  {
   "cell_type": "markdown",
   "id": "87d8724a-7016-41ea-9f1b-9f234f054fcf",
   "metadata": {},
   "source": [
    "## Note su flchain\n",
    "\n",
    "1. Miglioramento nullo  rispetto a Coxnet dei metodi deep.\n",
    "2. Le migliori soluzioni si ottengono con già con un singolo strato nascosto.\n",
    "4. Pycox converge bene auton non converge mai"
   ]
  }
 ],
 "metadata": {
  "kernelspec": {
   "display_name": "Python 3 (ipykernel)",
   "language": "python",
   "name": "python3"
  },
  "language_info": {
   "codemirror_mode": {
    "name": "ipython",
    "version": 3
   },
   "file_extension": ".py",
   "mimetype": "text/x-python",
   "name": "python",
   "nbconvert_exporter": "python",
   "pygments_lexer": "ipython3",
   "version": "3.10.9"
  }
 },
 "nbformat": 4,
 "nbformat_minor": 5
}
