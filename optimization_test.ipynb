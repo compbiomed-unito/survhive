{
 "cells": [
  {
   "cell_type": "code",
   "execution_count": 1,
   "id": "387d1412",
   "metadata": {},
   "outputs": [],
   "source": [
    "import numpy"
   ]
  },
  {
   "cell_type": "code",
   "execution_count": 2,
   "id": "c4083da7",
   "metadata": {},
   "outputs": [],
   "source": [
    "import sklearn"
   ]
  },
  {
   "cell_type": "code",
   "execution_count": 3,
   "id": "5f7d6271",
   "metadata": {},
   "outputs": [],
   "source": [
    "import survwrap"
   ]
  },
  {
   "cell_type": "code",
   "execution_count": 4,
   "id": "210bf36c",
   "metadata": {},
   "outputs": [
    {
     "data": {
      "text/plain": [
       "((198, 84), (198,))"
      ]
     },
     "execution_count": 4,
     "metadata": {},
     "output_type": "execute_result"
    }
   ],
   "source": [
    "X, y = survwrap.load_test_data()\n",
    "X.shape, y.shape"
   ]
  },
  {
   "cell_type": "markdown",
   "id": "40fbcb80-0388-4f46-ba3a-29c3f9ee5bee",
   "metadata": {},
   "source": [
    "### Generate a (stratified) train-test split and Scale the features (only) "
   ]
  },
  {
   "cell_type": "markdown",
   "id": "b35f553a-ae5b-476e-bb42-ec48efe8ab89",
   "metadata": {},
   "source": [
    "First do the stratified splitting THEN do scaling, parameterized on X_train set ONLY "
   ]
  },
  {
   "cell_type": "code",
   "execution_count": 5,
   "id": "75714389-2def-4259-8052-bcf7977a2c56",
   "metadata": {},
   "outputs": [],
   "source": [
    "from sklearn.preprocessing import StandardScaler, RobustScaler"
   ]
  },
  {
   "cell_type": "code",
   "execution_count": 94,
   "id": "bd02c821-86c7-4515-986b-07e769f9581b",
   "metadata": {},
   "outputs": [],
   "source": [
    "X_train, X_test, y_train, y_test = sklearn.model_selection.train_test_split(X, y,\n",
    "                                                                            stratify=survwrap.get_indicator(y), \n",
    "                                                                           random_state=2308)"
   ]
  },
  {
   "cell_type": "code",
   "execution_count": 107,
   "id": "261585e2-6d7a-4dc8-9861-da0aee20e7c7",
   "metadata": {},
   "outputs": [
    {
     "data": {
      "text/plain": [
       "((148, 84), (50, 84))"
      ]
     },
     "execution_count": 107,
     "metadata": {},
     "output_type": "execute_result"
    }
   ],
   "source": [
    "scaler = StandardScaler().fit(X_train)\n",
    "[X_train, X_test] = [ scaler.transform(_) for _ in  [X_train, X_test] ]\n",
    "X_train.shape, X_test.shape"
   ]
  },
  {
   "cell_type": "code",
   "execution_count": 7,
   "id": "5f89b6c2",
   "metadata": {},
   "outputs": [],
   "source": [
    "#X_train, X_test, y_train, y_test = sklearn.model_selection.train_test_split(X, y)"
   ]
  },
  {
   "cell_type": "markdown",
   "id": "3523fc60-5251-4640-ab08-b4288c7a65b4",
   "metadata": {},
   "source": [
    "balanced partitioning OK. Robst scaler damages the performance of DSM A LOT.\n",
    "maybe did something wrong. It is standard scaler for now."
   ]
  },
  {
   "cell_type": "code",
   "execution_count": 108,
   "id": "449b6bde-498c-437f-8170-e86f34aafc9e",
   "metadata": {},
   "outputs": [
    {
     "data": {
      "text/plain": [
       "(51, 38, 13)"
      ]
     },
     "execution_count": 108,
     "metadata": {},
     "output_type": "execute_result"
    }
   ],
   "source": [
    "survwrap.get_indicator(y).sum(), survwrap.get_indicator(y_train).sum(), survwrap.get_indicator(y_test).sum(),\n"
   ]
  },
  {
   "cell_type": "markdown",
   "id": "18343e1d-30ec-42b0-be0e-ac85df1298d9",
   "metadata": {},
   "source": [
    "## check possible dimensionality reduction"
   ]
  },
  {
   "cell_type": "code",
   "execution_count": 99,
   "id": "fde3a10a-379c-42b8-8070-485e7c4326bb",
   "metadata": {},
   "outputs": [],
   "source": [
    "from sklearn.decomposition import PCA"
   ]
  },
  {
   "cell_type": "code",
   "execution_count": 109,
   "id": "1ad7a35b-9295-40f8-a9c4-a02ca8cf83c8",
   "metadata": {},
   "outputs": [
    {
     "data": {
      "text/plain": [
       "74"
      ]
     },
     "execution_count": 109,
     "metadata": {},
     "output_type": "execute_result"
    }
   ],
   "source": [
    "pca= PCA(n_components=0.995, random_state=2308).fit(X_train)\n",
    "pca.n_components_"
   ]
  },
  {
   "cell_type": "markdown",
   "id": "afc3f2d1-45e8-42cc-9763-69836b1aaa71",
   "metadata": {},
   "source": [
    "Only a modest dimensionality reduction is possible using PCA"
   ]
  },
  {
   "cell_type": "code",
   "execution_count": 129,
   "id": "dd7a81c3-ced7-48df-8eba-cacb1e814bbd",
   "metadata": {},
   "outputs": [],
   "source": [
    "## Stratified CV spliter for survival analysis"
   ]
  },
  {
   "cell_type": "code",
   "execution_count": 140,
   "id": "efe2e846-9bc4-435f-9e83-06f01577ca2a",
   "metadata": {},
   "outputs": [
    {
     "name": "stdout",
     "output_type": "stream",
     "text": [
      "[  1   2   3   6   7   8   9  10  11  13  14  16  17  19  20  22  24  25\n",
      "  26  28  29  30  31  32  33  34  35  36  37  39  41  42  43  45  46  47\n",
      "  48  49  51  52  53  54  55  57  59  60  61  62  63  67  68  70  71  72\n",
      "  74  76  77  78  79  80  82  83  84  85  86  87  88  89  90  91  92  93\n",
      "  95  96  97  98  99 101 102 104 105 106 108 109 110 111 112 114 115 116\n",
      " 117 118 119 120 121 122 123 125 126 127 128 129 130 131 132 133 135 136\n",
      " 137 138 139 140 141 142 144 145 146 147] [  0   4   5  12  15  18  21  23  27  38  40  44  50  56  58  64  65  66\n",
      "  69  73  75  81  94 100 103 107 113 124 134 143]\n",
      "[  0   1   3   4   5   7   8  10  11  12  13  15  16  17  18  19  20  21\n",
      "  22  23  24  25  26  27  28  29  30  31  32  33  34  35  38  39  40  42\n",
      "  43  44  45  46  47  49  50  51  54  55  56  57  58  61  63  64  65  66\n",
      "  67  68  69  70  71  72  73  74  75  76  77  78  79  80  81  82  83  84\n",
      "  85  87  88  89  90  91  94  95  97  98 100 101 103 104 106 107 109 110\n",
      " 112 113 114 115 116 117 119 120 123 124 125 126 127 128 129 130 131 132\n",
      " 133 134 135 136 137 138 140 142 143 147] [  2   6   9  14  36  37  41  48  52  53  59  60  62  86  92  93  96  99\n",
      " 102 105 108 111 118 121 122 139 141 144 145 146]\n",
      "[  0   2   4   5   6   7   8   9  10  11  12  14  15  16  18  19  20  21\n",
      "  23  25  27  28  32  33  35  36  37  38  39  40  41  42  43  44  46  47\n",
      "  48  50  51  52  53  55  56  57  58  59  60  62  63  64  65  66  67  68\n",
      "  69  71  72  73  74  75  77  79  80  81  82  85  86  88  89  90  92  93\n",
      "  94  95  96  97  99 100 101 102 103 104 105 106 107 108 109 110 111 112\n",
      " 113 114 116 118 120 121 122 123 124 125 126 127 128 129 132 133 134 135\n",
      " 137 138 139 140 141 143 144 145 146 147] [  1   3  13  17  22  24  26  29  30  31  34  45  49  54  61  70  76  78\n",
      "  83  84  87  91  98 115 117 119 130 131 136 142]\n",
      "[  0   1   2   3   4   5   6   7   8   9  10  11  12  13  14  15  16  17\n",
      "  18  19  20  21  22  23  24  26  27  29  30  31  33  34  36  37  38  39\n",
      "  40  41  44  45  46  47  48  49  50  51  52  53  54  56  58  59  60  61\n",
      "  62  63  64  65  66  67  69  70  73  75  76  77  78  81  82  83  84  85\n",
      "  86  87  91  92  93  94  95  96  98  99 100 102 103 105 106 107 108 109\n",
      " 111 112 113 115 116 117 118 119 120 121 122 123 124 125 126 127 129 130\n",
      " 131 134 135 136 139 141 142 143 144 145 146] [ 25  28  32  35  42  43  55  57  68  71  72  74  79  80  88  89  90  97\n",
      " 101 104 110 114 128 132 133 137 138 140 147]\n",
      "[  0   1   2   3   4   5   6   9  12  13  14  15  17  18  21  22  23  24\n",
      "  25  26  27  28  29  30  31  32  34  35  36  37  38  40  41  42  43  44\n",
      "  45  48  49  50  52  53  54  55  56  57  58  59  60  61  62  64  65  66\n",
      "  68  69  70  71  72  73  74  75  76  78  79  80  81  83  84  86  87  88\n",
      "  89  90  91  92  93  94  96  97  98  99 100 101 102 103 104 105 107 108\n",
      " 110 111 113 114 115 117 118 119 121 122 124 128 130 131 132 133 134 136\n",
      " 137 138 139 140 141 142 143 144 145 146 147] [  7   8  10  11  16  19  20  33  39  46  47  51  63  67  77  82  85  95\n",
      " 106 109 112 116 120 123 125 126 127 129 135]\n",
      "[  2   3   4   6  10  11  12  13  14  16  18  19  20  22  23  24  26  27\n",
      "  28  29  30  31  32  33  34  35  36  37  38  40  41  42  43  44  45  46\n",
      "  47  49  50  51  52  53  55  56  57  58  59  60  62  63  64  65  66  67\n",
      "  68  69  70  71  72  73  74  75  76  77  78  79  80  81  83  84  85  86\n",
      "  89  91  92  94  96  97  98  99 101 102 103 104 109 110 111 115 116 117\n",
      " 118 119 120 121 122 123 124 125 126 127 128 130 131 132 134 135 136 137\n",
      " 138 139 140 141 142 143 144 145 146 147] [  0   1   5   7   8   9  15  17  21  25  39  48  54  61  82  87  88  90\n",
      "  93  95 100 105 106 107 108 112 113 114 129 133]\n",
      "[  0   1   2   3   4   5   6   7   8   9  10  11  12  13  14  15  16  17\n",
      "  18  19  21  22  23  25  27  28  29  30  32  34  35  37  38  39  40  41\n",
      "  42  45  46  48  49  50  51  52  53  54  55  56  58  59  61  62  64  66\n",
      "  68  69  70  71  72  74  75  76  77  78  79  80  82  83  84  85  86  87\n",
      "  88  89  90  92  93  95  96  97  98  99 100 101 102 103 104 105 106 107\n",
      " 108 109 110 111 112 113 114 115 116 117 118 119 121 122 123 124 126 127\n",
      " 128 129 131 133 137 138 140 142 143 144] [ 20  24  26  31  33  36  43  44  47  57  60  63  65  67  73  81  91  94\n",
      " 120 125 130 132 134 135 136 139 141 145 146 147]\n",
      "[  0   1   2   3   5   6   7   8   9  10  11  12  13  14  15  16  17  18\n",
      "  19  20  21  22  23  24  25  26  28  29  30  31  33  35  36  39  40  41\n",
      "  42  43  44  45  46  47  48  49  51  52  53  54  56  57  59  60  61  62\n",
      "  63  64  65  67  69  72  73  74  78  79  80  81  82  83  84  85  87  88\n",
      "  89  90  91  93  94  95  96 100 101 102 103 105 106 107 108 109 110 112\n",
      " 113 114 115 116 117 119 120 121 122 124 125 126 127 129 130 132 133 134\n",
      " 135 136 138 139 140 141 143 145 146 147] [  4  27  32  34  37  38  50  55  58  66  68  70  71  75  76  77  86  92\n",
      "  97  98  99 104 111 118 123 128 131 137 142 144]\n",
      "[  0   1   4   5   7   8   9  10  11  12  15  16  17  19  20  21  24  25\n",
      "  26  27  30  31  32  33  34  35  36  37  38  39  41  42  43  44  45  47\n",
      "  48  49  50  51  54  55  56  57  58  60  61  63  65  66  67  68  70  71\n",
      "  72  73  75  76  77  78  79  80  81  82  83  84  85  86  87  88  90  91\n",
      "  92  93  94  95  97  98  99 100 101 102 103 104 105 106 107 108 110 111\n",
      " 112 113 114 116 117 118 120 122 123 125 128 129 130 131 132 133 134 135\n",
      " 136 137 138 139 141 142 143 144 145 146 147] [  2   3   6  13  14  18  22  23  28  29  40  46  52  53  59  62  64  69\n",
      "  74  89  96 109 115 119 121 124 126 127 140]\n",
      "[  0   1   2   3   4   5   6   7   8   9  13  14  15  17  18  20  21  22\n",
      "  23  24  25  26  27  28  29  31  32  33  34  36  37  38  39  40  43  44\n",
      "  46  47  48  50  52  53  54  55  57  58  59  60  61  62  63  64  65  66\n",
      "  67  68  69  70  71  73  74  75  76  77  81  82  86  87  88  89  90  91\n",
      "  92  93  94  95  96  97  98  99 100 104 105 106 107 108 109 111 112 113\n",
      " 114 115 118 119 120 121 123 124 125 126 127 128 129 130 131 132 133 134\n",
      " 135 136 137 139 140 141 142 144 145 146 147] [ 10  11  12  16  19  30  35  41  42  45  49  51  56  72  78  79  80  83\n",
      "  84  85 101 102 103 110 116 117 122 138 143]\n"
     ]
    }
   ],
   "source": [
    "testkf= RepeatedStratifiedKFold(n_splits=5,n_repeats=2,random_state=2307)\n",
    "for trn,tst in testkf.split(X_train, survwrap.get_indicator(y_train)):\n",
    "    print(trn,tst) "
   ]
  },
  {
   "cell_type": "code",
   "execution_count": 130,
   "id": "e63ce8de-3339-4d4f-9df3-d11c8e61feba",
   "metadata": {},
   "outputs": [],
   "source": [
    "from sklearn.model_selection import RepeatedKFold, StratifiedKFold"
   ]
  },
  {
   "cell_type": "markdown",
   "id": "8c36a230",
   "metadata": {},
   "source": [
    "# test coxnet"
   ]
  },
  {
   "cell_type": "code",
   "execution_count": 110,
   "id": "9aafa692-2cba-4a47-b376-04742eae3b67",
   "metadata": {},
   "outputs": [
    {
     "data": {
      "text/html": [
       "<style>#sk-container-id-4 {color: black;background-color: white;}#sk-container-id-4 pre{padding: 0;}#sk-container-id-4 div.sk-toggleable {background-color: white;}#sk-container-id-4 label.sk-toggleable__label {cursor: pointer;display: block;width: 100%;margin-bottom: 0;padding: 0.3em;box-sizing: border-box;text-align: center;}#sk-container-id-4 label.sk-toggleable__label-arrow:before {content: \"▸\";float: left;margin-right: 0.25em;color: #696969;}#sk-container-id-4 label.sk-toggleable__label-arrow:hover:before {color: black;}#sk-container-id-4 div.sk-estimator:hover label.sk-toggleable__label-arrow:before {color: black;}#sk-container-id-4 div.sk-toggleable__content {max-height: 0;max-width: 0;overflow: hidden;text-align: left;background-color: #f0f8ff;}#sk-container-id-4 div.sk-toggleable__content pre {margin: 0.2em;color: black;border-radius: 0.25em;background-color: #f0f8ff;}#sk-container-id-4 input.sk-toggleable__control:checked~div.sk-toggleable__content {max-height: 200px;max-width: 100%;overflow: auto;}#sk-container-id-4 input.sk-toggleable__control:checked~label.sk-toggleable__label-arrow:before {content: \"▾\";}#sk-container-id-4 div.sk-estimator input.sk-toggleable__control:checked~label.sk-toggleable__label {background-color: #d4ebff;}#sk-container-id-4 div.sk-label input.sk-toggleable__control:checked~label.sk-toggleable__label {background-color: #d4ebff;}#sk-container-id-4 input.sk-hidden--visually {border: 0;clip: rect(1px 1px 1px 1px);clip: rect(1px, 1px, 1px, 1px);height: 1px;margin: -1px;overflow: hidden;padding: 0;position: absolute;width: 1px;}#sk-container-id-4 div.sk-estimator {font-family: monospace;background-color: #f0f8ff;border: 1px dotted black;border-radius: 0.25em;box-sizing: border-box;margin-bottom: 0.5em;}#sk-container-id-4 div.sk-estimator:hover {background-color: #d4ebff;}#sk-container-id-4 div.sk-parallel-item::after {content: \"\";width: 100%;border-bottom: 1px solid gray;flex-grow: 1;}#sk-container-id-4 div.sk-label:hover label.sk-toggleable__label {background-color: #d4ebff;}#sk-container-id-4 div.sk-serial::before {content: \"\";position: absolute;border-left: 1px solid gray;box-sizing: border-box;top: 0;bottom: 0;left: 50%;z-index: 0;}#sk-container-id-4 div.sk-serial {display: flex;flex-direction: column;align-items: center;background-color: white;padding-right: 0.2em;padding-left: 0.2em;position: relative;}#sk-container-id-4 div.sk-item {position: relative;z-index: 1;}#sk-container-id-4 div.sk-parallel {display: flex;align-items: stretch;justify-content: center;background-color: white;position: relative;}#sk-container-id-4 div.sk-item::before, #sk-container-id-4 div.sk-parallel-item::before {content: \"\";position: absolute;border-left: 1px solid gray;box-sizing: border-box;top: 0;bottom: 0;left: 50%;z-index: -1;}#sk-container-id-4 div.sk-parallel-item {display: flex;flex-direction: column;z-index: 1;position: relative;background-color: white;}#sk-container-id-4 div.sk-parallel-item:first-child::after {align-self: flex-end;width: 50%;}#sk-container-id-4 div.sk-parallel-item:last-child::after {align-self: flex-start;width: 50%;}#sk-container-id-4 div.sk-parallel-item:only-child::after {width: 0;}#sk-container-id-4 div.sk-dashed-wrapped {border: 1px dashed gray;margin: 0 0.4em 0.5em 0.4em;box-sizing: border-box;padding-bottom: 0.4em;background-color: white;}#sk-container-id-4 div.sk-label label {font-family: monospace;font-weight: bold;display: inline-block;line-height: 1.2em;}#sk-container-id-4 div.sk-label-container {text-align: center;}#sk-container-id-4 div.sk-container {/* jupyter's `normalize.less` sets `[hidden] { display: none; }` but bootstrap.min.css set `[hidden] { display: none !important; }` so we also need the `!important` here to be able to override the default hidden behavior on the sphinx rendered scikit-learn.org. See: https://github.com/scikit-learn/scikit-learn/issues/21755 */display: inline-block !important;position: relative;}#sk-container-id-4 div.sk-text-repr-fallback {display: none;}</style><div id=\"sk-container-id-4\" class=\"sk-top-container\"><div class=\"sk-text-repr-fallback\"><pre>CoxNet(rng_seed=2308, l1_ratio=0.5, verbose=False, fit_baseline_model=False)</pre><b>In a Jupyter environment, please rerun this cell to show the HTML representation or trust the notebook. <br />On GitHub, the HTML representation is unable to render, please try loading this page with nbviewer.org.</b></div><div class=\"sk-container\" hidden><div class=\"sk-item\"><div class=\"sk-estimator sk-toggleable\"><input class=\"sk-toggleable__control sk-hidden--visually\" id=\"sk-estimator-id-4\" type=\"checkbox\" checked><label for=\"sk-estimator-id-4\" class=\"sk-toggleable__label sk-toggleable__label-arrow\">CoxNet</label><div class=\"sk-toggleable__content\"><pre>CoxNet(rng_seed=2308, l1_ratio=0.5, verbose=False, fit_baseline_model=False)</pre></div></div></div></div></div>"
      ],
      "text/plain": [
       "CoxNet(rng_seed=2308, l1_ratio=0.5, verbose=False, fit_baseline_model=False)"
      ]
     },
     "execution_count": 110,
     "metadata": {},
     "output_type": "execute_result"
    }
   ],
   "source": [
    "coxnet = survwrap.CoxNet(rng_seed=2308)\n",
    "coxnet.fit(X_train, y_train)"
   ]
  },
  {
   "cell_type": "code",
   "execution_count": 111,
   "id": "9a0e80b7",
   "metadata": {},
   "outputs": [
    {
     "data": {
      "text/plain": [
       "0.5330578512396694"
      ]
     },
     "execution_count": 111,
     "metadata": {},
     "output_type": "execute_result"
    }
   ],
   "source": [
    "coxnet.score(X_test, y_test)"
   ]
  },
  {
   "cell_type": "code",
   "execution_count": 48,
   "id": "f894a2c8",
   "metadata": {},
   "outputs": [],
   "source": [
    "from sklearn.model_selection import GridSearchCV, RandomizedSearchCV"
   ]
  },
  {
   "cell_type": "code",
   "execution_count": 16,
   "id": "8a1ea4f2",
   "metadata": {},
   "outputs": [],
   "source": [
    "def optimize(estimator, X, y, mode='sklearn-grid', user_grid=[] , cv=None):\n",
    "    if mode == 'sklearn-grid':\n",
    "        if not user_grid: \n",
    "            user_grid = estimator.get_parameter_grid()\n",
    "        gs = GridSearchCV(estimator, user_grid, refit=True, cv=cv, n_jobs=3, random)\n",
    "        gs.fit(X, y)\n",
    "        return gs.best_estimator_, gs.best_params_, gs\n",
    "    raise ValueError(f'unknown mode parameter: \"{mode}\"')"
   ]
  },
  {
   "cell_type": "code",
   "execution_count": 103,
   "id": "946d79e0-0f7c-44c6-893c-8b5ea52c5a57",
   "metadata": {},
   "outputs": [
    {
     "data": {
      "text/plain": [
       "{'l1_ratio': [0.01, 0.1, 0.25, 0.5, 0.75, 0.9, 0.99]}"
      ]
     },
     "execution_count": 103,
     "metadata": {},
     "output_type": "execute_result"
    }
   ],
   "source": [
    "survwrap.CoxNet().get_parameter_grid()"
   ]
  },
  {
   "cell_type": "code",
   "execution_count": 171,
   "id": "2cc893c3",
   "metadata": {},
   "outputs": [
    {
     "data": {
      "text/plain": [
       "(0.5764462809917356, {'l1_ratio': 0.01})"
      ]
     },
     "execution_count": 171,
     "metadata": {},
     "output_type": "execute_result"
    }
   ],
   "source": [
    "opt_coxnet, opt_coxnet_params, opt_coxnet_search = optimize(survwrap.CoxNet(), X_train, y_train, user_grid={'l1_ratio':[0.01,0.25,0.5,0.75,0.8,0.99]},\n",
    "                                                           cv=RepeatedStratifiedKFold(n_splits=5, n_repeats=2, random_state=2308).split(X_train,survwrap.get_indicator(y_train)))\n",
    "opt_coxnet.score(X_test, y_test), opt_coxnet_params"
   ]
  },
  {
   "cell_type": "code",
   "execution_count": 113,
   "id": "177ee806-9966-4596-b49f-8d82bc729865",
   "metadata": {},
   "outputs": [],
   "source": [
    "def test_model(model_constructor, **model_params):\n",
    "    m = model_constructor(**model_params, rng_seed=2308)\n",
    "    m.fit(X_train, y_train)\n",
    "    o = m.score(X_train, y_train)\n",
    "    s = m.score(X_test, y_test)\n",
    "    print(f'Train: {o: .4f} , Test: {s:.4f}')\n",
    "    return s"
   ]
  },
  {
   "cell_type": "markdown",
   "id": "2fd37d08-ee4e-4bea-8a6d-2c6b8cbd5c8d",
   "metadata": {},
   "source": [
    "# Test DSM"
   ]
  },
  {
   "cell_type": "code",
   "execution_count": 114,
   "id": "5f760708-c608-4281-b7e0-c17b043053de",
   "metadata": {},
   "outputs": [
    {
     "data": {
      "text/plain": [
       "{'n_distr': [2],\n",
       " 'distr_kind': ['Weibull'],\n",
       " 'batch_size': [16],\n",
       " 'layer_sizes': [[10]],\n",
       " 'learning_rate': [0.001],\n",
       " 'validation_size': [0.1],\n",
       " 'max_epochs': [10],\n",
       " 'elbo': [False]}"
      ]
     },
     "execution_count": 114,
     "metadata": {},
     "output_type": "execute_result"
    }
   ],
   "source": [
    "grid =survwrap.DeepSurvivalMachines.get_parameter_grid()\n",
    "grid"
   ]
  },
  {
   "cell_type": "code",
   "execution_count": 115,
   "id": "a1bb0097",
   "metadata": {},
   "outputs": [
    {
     "name": "stderr",
     "output_type": "stream",
     "text": [
      " 50%|█████████████████████████▋                         | 5032/10000 [00:04<00:04, 1162.81it/s]\n",
      "  3%|█▋                                                        | 6/200 [00:00<00:09, 19.53it/s]\n"
     ]
    },
    {
     "name": "stdout",
     "output_type": "stream",
     "text": [
      "Train:  0.7693 , Test: 0.6302\n"
     ]
    },
    {
     "data": {
      "text/plain": [
       "0.6301652892561983"
      ]
     },
     "execution_count": 115,
     "metadata": {},
     "output_type": "execute_result"
    }
   ],
   "source": [
    "test_model(survwrap.DeepSurvivalMachines, batch_size=16, layer_sizes=[16], n_distr=2, max_epochs=200)"
   ]
  },
  {
   "cell_type": "code",
   "execution_count": 116,
   "id": "931e5ff4-5503-4b97-8a7d-8f5b75e389cc",
   "metadata": {},
   "outputs": [
    {
     "name": "stderr",
     "output_type": "stream",
     "text": [
      " 50%|█████████████████████████▋                         | 5032/10000 [00:04<00:04, 1170.88it/s]\n",
      " 10%|█████▍                                                   | 19/200 [00:00<00:05, 35.97it/s]\n"
     ]
    },
    {
     "name": "stdout",
     "output_type": "stream",
     "text": [
      "Train:  0.8681 , Test: 0.6467\n"
     ]
    },
    {
     "data": {
      "text/plain": [
       "0.6466942148760331"
      ]
     },
     "execution_count": 116,
     "metadata": {},
     "output_type": "execute_result"
    }
   ],
   "source": [
    "test_model(survwrap.DeepSurvivalMachines, batch_size=16, layer_sizes=[7,7,7], n_distr=2, max_epochs=200)"
   ]
  },
  {
   "cell_type": "code",
   "execution_count": 121,
   "id": "60be1a27-6f73-43e1-bdc8-21616bed7143",
   "metadata": {},
   "outputs": [
    {
     "name": "stderr",
     "output_type": "stream",
     "text": [
      " 50%|█████████████████████████▋                         | 5032/10000 [00:04<00:04, 1173.03it/s]\n",
      "  9%|█████▏                                                   | 18/200 [00:00<00:05, 34.87it/s]"
     ]
    },
    {
     "name": "stdout",
     "output_type": "stream",
     "text": [
      "Train:  0.7767 , Test: 0.6085\n"
     ]
    },
    {
     "name": "stderr",
     "output_type": "stream",
     "text": [
      "\n"
     ]
    },
    {
     "data": {
      "text/plain": [
       "0.6084710743801653"
      ]
     },
     "execution_count": 121,
     "metadata": {},
     "output_type": "execute_result"
    }
   ],
   "source": [
    "test_model(survwrap.DeepSurvivalMachines, batch_size=16, layer_sizes=[5]*5, n_distr=2, max_epochs=200)"
   ]
  },
  {
   "cell_type": "code",
   "execution_count": 128,
   "id": "8a8cb18b",
   "metadata": {},
   "outputs": [
    {
     "name": "stderr",
     "output_type": "stream",
     "text": [
      " 50%|█████████████████████████▋                         | 5032/10000 [00:04<00:04, 1165.34it/s]\n",
      "  3%|█▋                                                        | 6/200 [00:00<00:08, 22.83it/s]"
     ]
    },
    {
     "name": "stdout",
     "output_type": "stream",
     "text": [
      "Train:  0.7555 , Test: 0.5971\n"
     ]
    },
    {
     "name": "stderr",
     "output_type": "stream",
     "text": [
      "\n"
     ]
    },
    {
     "data": {
      "text/plain": [
       "0.5971074380165289"
      ]
     },
     "execution_count": 128,
     "metadata": {},
     "output_type": "execute_result"
    }
   ],
   "source": [
    "test_model(survwrap.DeepSurvivalMachines,layer_sizes=[41], max_epochs=200)"
   ]
  },
  {
   "cell_type": "code",
   "execution_count": 165,
   "id": "5db2f376-1589-4e41-a45b-8aca88521d0a",
   "metadata": {},
   "outputs": [
    {
     "data": {
      "text/plain": [
       "{'n_distr': [1],\n",
       " 'distr_kind': ['Weibull'],\n",
       " 'batch_size': [16],\n",
       " 'layer_sizes': [[3],\n",
       "  [5],\n",
       "  [7],\n",
       "  [11],\n",
       "  [13],\n",
       "  [17],\n",
       "  [19],\n",
       "  [23],\n",
       "  [29],\n",
       "  [31],\n",
       "  [37],\n",
       "  [3, 3, 3],\n",
       "  [5, 5, 5],\n",
       "  [7, 7, 7],\n",
       "  [11, 11, 11],\n",
       "  [13, 13, 13],\n",
       "  [17, 17, 17],\n",
       "  [19, 19, 19],\n",
       "  [23, 23, 23],\n",
       "  [29, 29, 29],\n",
       "  [31, 31, 31],\n",
       "  [37, 37, 37]],\n",
       " 'learning_rate': [0.001],\n",
       " 'validation_size': [0.1],\n",
       " 'max_epochs': [200],\n",
       " 'elbo': [False]}"
      ]
     },
     "execution_count": 165,
     "metadata": {},
     "output_type": "execute_result"
    }
   ],
   "source": [
    "grid['n_distr']=[1]\n",
    "some_primes = [3,5,7,11,13,17,19,23,29,31,37]\n",
    "grid['layer_sizes']=[ [_] for _ in some_primes] + [ [_]*3 for _ in some_primes]\n",
    "    #[31]*2,[29]*2,[27]*2, [25]*2, [23]*2, [21]*2, [19]*2, [17]*3, [15]*3, \n",
    "     #                [12]*4, [10]*5, [8]*6, [7]*7, ]\n",
    "    #[40],[30,30], [30], [23,23], [13,13,13], [25],[11,11,11],[20],[9,9,9], \n",
    "                     #[15],[7,7,7],[10],[5,5,5]]\n",
    "                     #[16],[14,14], [7,7,7]]\n",
    "grid['max_epochs']=[200]\n",
    "grid['batch_size']=[16]\n",
    "grid"
   ]
  },
  {
   "cell_type": "code",
   "execution_count": 33,
   "id": "360b059e-fd0a-41ee-aa5a-ba940f7300ce",
   "metadata": {},
   "outputs": [],
   "source": [
    "from sklearn.model_selection import RepeatedKFold "
   ]
  },
  {
   "cell_type": "code",
   "execution_count": 142,
   "id": "5e24ac45",
   "metadata": {},
   "outputs": [],
   "source": [
    "# Non stratified CV\n",
    "#opt_dsm, opt_dsm_params, opt_dsm_search = optimize(survwrap.DeepSurvivalMachines(rng_seed=2308),  X_train, y_train, \n",
    "#                                                   user_grid=grid,cv=RepeatedKFold(n_splits=5, n_repeats=3, random_state=2308))\n",
    "#opt_dsm.score(X_test, y_test), opt_dsm_params"
   ]
  },
  {
   "cell_type": "code",
   "execution_count": 166,
   "id": "6b2fb365-dd6e-4e05-b3fc-6c18c950221a",
   "metadata": {},
   "outputs": [
    {
     "name": "stderr",
     "output_type": "stream",
     "text": [
      " 35%|███▌      | 3536/10000 [00:02<00:05, 1184.72it/s]\n",
      " 20%|██        | 40/200 [00:00<00:02, 79.17it/s]9it/s]\n",
      " 47%|████▋     | 4689/10000 [00:04<00:04, 1164.84it/s]\n",
      " 48%|████▊     | 4777/10000 [00:04<00:04, 1162.60it/s]\n",
      "  2%|▏         | 3/200 [00:00<00:07, 25.04it/s]5it/s]\n",
      "  2%|▏         | 3/200 [00:00<00:08, 23.84it/s]\n",
      " 35%|███▍      | 3482/10000 [00:02<00:05, 1172.44it/s]\n",
      " 20%|█▉        | 39/200 [00:00<00:02, 78.64it/s]9it/s]\n",
      " 34%|███▍      | 3397/10000 [00:02<00:05, 1148.13it/s]\n",
      "  2%|▏         | 3/200 [00:00<00:07, 27.16it/s]8it/s]]\n",
      " 50%|█████     | 5045/10000 [00:04<00:04, 1156.99it/s]\n",
      "  8%|▊         | 15/200 [00:00<00:03, 59.93it/s]8it/s]\n",
      " 35%|███▌      | 3509/10000 [00:03<00:05, 1146.22it/s]\n",
      " 17%|█▋        | 34/200 [00:00<00:02, 71.80it/s]0it/s]\n",
      " 49%|████▉     | 4911/10000 [00:04<00:04, 1108.56it/s]\n",
      " 34%|███▍      | 3378/10000 [00:02<00:05, 1134.57it/s]\n",
      "  6%|▋         | 13/200 [00:00<00:03, 59.05it/s]9it/s]\n",
      " 14%|█▎        | 27/200 [00:00<00:02, 69.91it/s]it/s]]\n",
      " 36%|███▌      | 3614/10000 [00:03<00:05, 1127.78it/s]\n",
      " 26%|██▌       | 51/200 [00:01<00:03, 49.60it/s]it/s] \n",
      " 35%|███▌      | 3536/10000 [00:03<00:07, 904.80it/s]\n",
      "  2%|▏         | 3/200 [00:00<00:13, 14.24it/s]it/s]]\n",
      " 48%|████▊     | 4777/10000 [00:06<00:06, 791.94it/s]\n",
      " 27%|██▋       | 54/200 [00:00<00:02, 61.77it/s]it/s]\n",
      " 35%|███▍      | 3482/10000 [00:04<00:07, 851.09it/s] \n",
      " 47%|████▋     | 4689/10000 [00:05<00:06, 796.76it/s] \n",
      "  6%|▋         | 13/200 [00:00<00:05, 32.44it/s]it/s]\n",
      " 26%|██▌       | 52/200 [00:01<00:02, 49.97it/s]/s]s]\n",
      " 50%|█████     | 5045/10000 [00:05<00:04, 1003.68it/s]\n",
      " 34%|███▍      | 3397/10000 [00:03<00:06, 1004.19it/s]\n",
      " 10%|█         | 21/200 [00:00<00:03, 54.89it/s]5it/s]\n",
      "  2%|▏         | 3/200 [00:00<00:10, 18.16it/s]0it/s] \n",
      " 35%|███▌      | 3509/10000 [00:03<00:06, 1028.38it/s]\n",
      "  2%|▏         | 3/200 [00:00<00:07, 26.04it/s]7it/s]\n",
      " 34%|███▍      | 3378/10000 [00:03<00:06, 1073.02it/s]\n",
      " 36%|███▌      | 3614/10000 [00:03<00:05, 1101.08it/s]\n",
      " 10%|█         | 20/200 [00:00<00:02, 69.44it/s]\n",
      "  2%|▏         | 3/200 [00:00<00:07, 26.74it/s]22it/s]\n",
      " 49%|████▉     | 4911/10000 [00:04<00:04, 1076.40it/s]\n",
      " 10%|█         | 20/200 [00:00<00:03, 59.54it/s]9it/s]\n",
      " 35%|███▌      | 3536/10000 [00:03<00:06, 1058.40it/s]\n",
      "  2%|▏         | 3/200 [00:00<00:08, 24.53it/s]0it/s]\n",
      " 48%|████▊     | 4777/10000 [00:04<00:05, 1028.05it/s]\n",
      " 22%|██▏       | 43/200 [00:00<00:01, 80.14it/s]2it/s]\n",
      " 47%|████▋     | 4689/10000 [00:04<00:05, 1036.66it/s]\n",
      "  4%|▎         | 7/200 [00:00<00:04, 45.20it/s]55it/s]\n",
      " 35%|███▍      | 3482/10000 [00:02<00:05, 1170.65it/s]\n",
      " 22%|██▎       | 45/200 [00:00<00:02, 71.48it/s]7it/s]\n",
      " 34%|███▍      | 3397/10000 [00:03<00:06, 1076.70it/s]\n",
      "  7%|▋         | 14/200 [00:00<00:03, 60.35it/s]2it/s]\n",
      " 50%|█████     | 5045/10000 [00:04<00:04, 1120.75it/s]\n",
      "  6%|▌         | 12/200 [00:00<00:03, 57.88it/s]8it/s]\n",
      " 35%|███▌      | 3509/10000 [00:03<00:05, 1118.39it/s]\n",
      "  2%|▏         | 3/200 [00:00<00:09, 21.52it/s]9it/s]\n",
      " 34%|███▍      | 3378/10000 [00:03<00:05, 1122.08it/s]\n",
      " 15%|█▌        | 30/200 [00:00<00:02, 64.28it/s]it/s] \n",
      " 36%|███▌      | 3614/10000 [00:03<00:06, 1059.60it/s]\n",
      " 49%|████▉     | 4911/10000 [00:04<00:04, 1071.96it/s]\n",
      "  8%|▊         | 17/200 [00:00<00:02, 65.40it/s]\n",
      "  6%|▌         | 11/200 [00:00<00:03, 55.75it/s]it/s]\n",
      " 35%|███▌      | 3536/10000 [00:03<00:05, 1170.41it/s]\n",
      "  7%|▋         | 14/200 [00:00<00:03, 61.33it/s]3it/s]\n",
      " 48%|████▊     | 4777/10000 [00:04<00:04, 1192.94it/s]\n",
      " 47%|████▋     | 4689/10000 [00:04<00:04, 1165.55it/s]\n",
      "  8%|▊         | 17/200 [00:00<00:03, 48.64it/s]0it/s]\n",
      "  4%|▎         | 7/200 [00:00<00:04, 40.51it/s]\n",
      " 35%|███▍      | 3482/10000 [00:03<00:05, 1123.95it/s]\n",
      " 28%|██▊       | 57/200 [00:00<00:01, 80.58it/s]2it/s]\n",
      " 34%|███▍      | 3397/10000 [00:02<00:05, 1137.36it/s]\n",
      " 20%|█▉        | 39/200 [00:00<00:02, 77.49it/s]2it/s]\n",
      " 50%|█████     | 5045/10000 [00:04<00:04, 1168.59it/s]\n",
      "  4%|▍         | 8/200 [00:00<00:04, 46.96it/s]70it/s]\n",
      " 35%|███▌      | 3509/10000 [00:03<00:05, 1144.34it/s]\n",
      " 12%|█▏        | 23/200 [00:00<00:02, 70.43it/s]3it/s]\n",
      " 34%|███▍      | 3378/10000 [00:02<00:05, 1170.94it/s]\n",
      " 49%|████▉     | 4911/10000 [00:04<00:04, 1126.68it/s]\n",
      "  4%|▍         | 9/200 [00:00<00:04, 47.07it/s]86it/s]\n",
      " 38%|███▊      | 77/200 [00:00<00:01, 81.15it/s]it/s]]\n",
      " 36%|███▌      | 3614/10000 [00:03<00:05, 1112.63it/s]\n",
      " 15%|█▌        | 30/200 [00:00<00:02, 75.28it/s]9it/s]\n",
      " 35%|███▌      | 3536/10000 [00:03<00:05, 1167.68it/s]\n",
      " 10%|█         | 20/200 [00:00<00:03, 57.29it/s]3it/s]\n",
      " 48%|████▊     | 4777/10000 [00:04<00:04, 1180.24it/s]\n",
      " 17%|█▋        | 34/200 [00:00<00:02, 62.90it/s]it/s] \n",
      " 47%|████▋     | 4689/10000 [00:04<00:04, 1088.87it/s]\n",
      "  5%|▌         | 10/200 [00:00<00:03, 47.80it/s]it/s] \n",
      " 35%|███▍      | 3482/10000 [00:03<00:06, 1024.26it/s]\n",
      " 29%|██▉       | 58/200 [00:00<00:01, 77.87it/s]0it/s]\n",
      " 34%|███▍      | 3397/10000 [00:02<00:05, 1153.35it/s]\n",
      " 16%|█▌        | 31/200 [00:00<00:02, 75.24it/s]7it/s]\n",
      " 50%|█████     | 5045/10000 [00:04<00:04, 1130.83it/s]\n",
      "  5%|▌         | 10/200 [00:00<00:03, 53.43it/s]0it/s]\n",
      " 35%|███▌      | 3509/10000 [00:03<00:05, 1167.98it/s]\n",
      " 18%|█▊        | 36/200 [00:00<00:02, 77.74it/s]8it/s]\n",
      " 34%|███▍      | 3378/10000 [00:02<00:05, 1167.92it/s]\n",
      " 10%|█         | 20/200 [00:00<00:03, 55.54it/s]0it/s]\n",
      " 49%|████▉     | 4911/10000 [00:04<00:04, 1156.99it/s]\n",
      " 14%|█▎        | 27/200 [00:00<00:02, 63.59it/s]it/s]]\n",
      " 36%|███▌      | 3614/10000 [00:03<00:05, 1119.46it/s]\n",
      " 10%|█         | 21/200 [00:00<00:03, 56.01it/s]t/s]s]\n",
      " 35%|███▌      | 3536/10000 [00:03<00:05, 1110.56it/s]\n",
      "  4%|▍         | 9/200 [00:00<00:03, 50.98it/s]95it/s]\n",
      " 48%|████▊     | 4777/10000 [00:04<00:05, 1043.29it/s]\n",
      "  8%|▊         | 15/200 [00:00<00:02, 62.38it/s]1it/s]\n",
      " 47%|████▋     | 4689/10000 [00:04<00:04, 1096.43it/s]\n",
      "  3%|▎         | 6/200 [00:00<00:04, 41.63it/s]5it/s]]\n",
      " 35%|███▍      | 3482/10000 [00:02<00:05, 1169.53it/s]\n",
      " 18%|█▊        | 35/200 [00:00<00:02, 78.12it/s]it/s]]\n",
      " 34%|███▍      | 3397/10000 [00:02<00:05, 1159.83it/s]\n",
      " 16%|█▌        | 32/200 [00:00<00:02, 68.64it/s]8it/s]\n",
      " 35%|███▌      | 3509/10000 [00:02<00:05, 1171.63it/s]\n",
      " 10%|▉         | 19/200 [00:00<00:02, 67.78it/s]6it/s]\n",
      " 50%|█████     | 5045/10000 [00:04<00:04, 1138.15it/s]\n",
      "  4%|▎         | 7/200 [00:00<00:04, 41.91it/s]5it/s]\n",
      " 34%|███▍      | 3378/10000 [00:03<00:05, 1120.06it/s]\n",
      "  7%|▋         | 14/200 [00:00<00:03, 55.65it/s]7it/s]\n",
      " 36%|███▌      | 3614/10000 [00:03<00:05, 1073.16it/s]\n",
      "  6%|▌         | 11/200 [00:00<00:03, 55.40it/s]it/s]]\n",
      " 49%|████▉     | 4911/10000 [00:04<00:04, 1113.72it/s]\n",
      "  4%|▍         | 9/200 [00:00<00:04, 43.07it/s]0it/s]\n",
      " 35%|███▌      | 3536/10000 [00:03<00:05, 1148.95it/s]\n",
      " 12%|█▏        | 23/200 [00:00<00:02, 70.64it/s]7it/s]\n",
      " 48%|████▊     | 4777/10000 [00:04<00:04, 1154.90it/s]\n",
      " 47%|████▋     | 4689/10000 [00:04<00:04, 1157.13it/s]\n",
      " 14%|█▍        | 28/200 [00:00<00:02, 73.96it/s]6it/s]\n",
      "  3%|▎         | 6/200 [00:00<00:04, 39.62it/s]49it/s]\n",
      " 35%|███▍      | 3482/10000 [00:02<00:05, 1192.31it/s]\n",
      " 13%|█▎        | 26/200 [00:00<00:02, 73.23it/s]9it/s]\n",
      " 34%|███▍      | 3397/10000 [00:02<00:05, 1169.32it/s]\n",
      " 11%|█         | 22/200 [00:00<00:02, 65.85it/s]0it/s]\n",
      " 50%|█████     | 5045/10000 [00:04<00:04, 1153.32it/s]\n",
      "  6%|▌         | 11/200 [00:00<00:03, 52.23it/s]1it/s]\n",
      " 35%|███▌      | 3509/10000 [00:03<00:05, 1155.83it/s]\n",
      " 24%|██▍       | 49/200 [00:00<00:02, 65.18it/s]it/s] \n",
      " 34%|███▍      | 3378/10000 [00:03<00:06, 1072.29it/s]\n",
      " 49%|████▉     | 4911/10000 [00:04<00:04, 1038.39it/s]\n",
      " 15%|█▌        | 30/200 [00:00<00:02, 67.94it/s]6it/s]\n",
      "  3%|▎         | 6/200 [00:00<00:04, 39.90it/s]\n",
      " 36%|███▌      | 3614/10000 [00:03<00:05, 1124.89it/s]\n",
      "  8%|▊         | 16/200 [00:00<00:03, 47.34it/s]it/s]\n",
      " 35%|███▌      | 3536/10000 [00:03<00:05, 1137.60it/s]\n",
      "  4%|▍         | 9/200 [00:00<00:03, 49.89it/s]41it/s]\n",
      " 48%|████▊     | 4777/10000 [00:04<00:04, 1114.45it/s]\n",
      "  2%|▏         | 3/200 [00:00<00:08, 22.99it/s]29it/s]\n",
      " 47%|████▋     | 4689/10000 [00:04<00:04, 1135.94it/s]\n",
      " 12%|█▏        | 23/200 [00:00<00:02, 63.19it/s]7it/s]\n",
      " 35%|███▍      | 3482/10000 [00:03<00:05, 1109.93it/s]\n",
      "  7%|▋         | 14/200 [00:00<00:03, 51.97it/s]2it/s]\n",
      " 34%|███▍      | 3397/10000 [00:03<00:06, 1084.78it/s]\n",
      "  9%|▉         | 18/200 [00:00<00:02, 63.75it/s]3it/s]\n",
      " 50%|█████     | 5045/10000 [00:04<00:04, 1074.29it/s]\n",
      "  2%|▏         | 4/200 [00:00<00:06, 31.52it/s]11it/s]\n",
      " 35%|███▌      | 3509/10000 [00:03<00:05, 1116.40it/s]\n",
      " 10%|█         | 20/200 [00:00<00:02, 66.16it/s]5it/s]\n",
      " 34%|███▍      | 3378/10000 [00:03<00:06, 1025.01it/s]\n",
      "  6%|▋         | 13/200 [00:00<00:05, 37.30it/s]it/s]\n",
      " 49%|████▉     | 4911/10000 [00:04<00:05, 1014.80it/s]\n",
      " 10%|█         | 20/200 [00:00<00:02, 66.55it/s]1it/s]\n",
      " 36%|███▌      | 3614/10000 [00:03<00:06, 981.97it/s] \n",
      " 20%|█▉        | 39/200 [00:00<00:02, 76.76it/s]2it/s]\n",
      " 35%|███▌      | 3536/10000 [00:03<00:05, 1136.08it/s]\n",
      "  2%|▏         | 3/200 [00:00<00:07, 26.87it/s]02it/s]\n",
      " 48%|████▊     | 4777/10000 [00:04<00:04, 1140.73it/s]\n",
      " 14%|█▎        | 27/200 [00:00<00:02, 61.97it/s]8it/s]\n",
      " 47%|████▋     | 4689/10000 [00:04<00:04, 1117.86it/s]\n",
      "  3%|▎         | 6/200 [00:00<00:04, 39.54it/s]9it/s]]\n",
      " 35%|███▍      | 3482/10000 [00:03<00:05, 1144.80it/s]\n",
      " 24%|██▍       | 48/200 [00:00<00:01, 79.91it/s]0it/s]\n",
      " 34%|███▍      | 3397/10000 [00:03<00:05, 1117.65it/s]\n",
      "  2%|▏         | 4/200 [00:00<00:07, 26.03it/s]5it/s] \n",
      " 35%|███▌      | 3509/10000 [00:03<00:05, 1122.97it/s]\n",
      " 50%|█████     | 5045/10000 [00:04<00:04, 1098.22it/s]\n",
      "  2%|▏         | 3/200 [00:00<00:08, 22.37it/s]\n",
      "  3%|▎         | 6/200 [00:00<00:05, 38.02it/s]6it/s]]\n",
      " 34%|███▍      | 3378/10000 [00:02<00:05, 1161.13it/s]\n",
      "  4%|▍         | 9/200 [00:00<00:04, 46.65it/s]22it/s]\n",
      " 49%|████▉     | 4911/10000 [00:04<00:04, 1116.62it/s]\n",
      " 36%|███▌      | 3614/10000 [00:03<00:05, 1153.99it/s]\n",
      "  4%|▎         | 7/200 [00:00<00:04, 43.13it/s]0it/s]\n",
      " 12%|█▎        | 25/200 [00:00<00:02, 66.13it/s]it/s]\n",
      " 35%|███▌      | 3536/10000 [00:03<00:05, 1127.65it/s]\n",
      "  5%|▌         | 10/200 [00:00<00:04, 47.13it/s]9it/s]\n",
      " 48%|████▊     | 4777/10000 [00:04<00:04, 1109.72it/s]\n",
      " 47%|████▋     | 4689/10000 [00:04<00:04, 1120.69it/s]\n",
      "  3%|▎         | 6/200 [00:00<00:06, 30.33it/s]]2it/s]\n",
      " 11%|█         | 22/200 [00:00<00:03, 58.63it/s]it/s] \n",
      " 35%|███▍      | 3482/10000 [00:03<00:05, 1111.53it/s]\n",
      " 12%|█▏        | 23/200 [00:00<00:02, 70.26it/s]1it/s]\n",
      " 34%|███▍      | 3397/10000 [00:02<00:05, 1162.07it/s]\n",
      "  8%|▊         | 15/200 [00:00<00:02, 62.24it/s]4it/s]\n",
      " 50%|█████     | 5045/10000 [00:04<00:04, 1178.71it/s]\n",
      "  2%|▎         | 5/200 [00:00<00:05, 35.27it/s]59it/s]\n",
      " 35%|███▌      | 3509/10000 [00:03<00:05, 1158.86it/s]\n",
      " 14%|█▍        | 28/200 [00:00<00:02, 73.59it/s]it/s]]\n",
      " 34%|███▍      | 3378/10000 [00:02<00:05, 1174.59it/s]\n",
      " 49%|████▉     | 4911/10000 [00:04<00:04, 1153.87it/s]\n",
      "  7%|▋         | 14/200 [00:00<00:03, 60.74it/s]\n",
      "  3%|▎         | 6/200 [00:00<00:04, 40.66it/s]04it/s]\n",
      " 36%|███▌      | 3614/10000 [00:03<00:05, 1148.92it/s]\n",
      " 11%|█         | 22/200 [00:00<00:02, 69.37it/s]6it/s]\n",
      " 35%|███▌      | 3536/10000 [00:02<00:05, 1201.92it/s]\n",
      "  7%|▋         | 14/200 [00:00<00:03, 59.75it/s]4it/s]\n",
      " 48%|████▊     | 4777/10000 [00:04<00:04, 1171.71it/s]\n",
      "  8%|▊         | 16/200 [00:00<00:02, 62.51it/s]1it/s]\n",
      " 47%|████▋     | 4689/10000 [00:03<00:04, 1173.61it/s]\n",
      "  2%|▎         | 5/200 [00:00<00:07, 26.27it/s]43it/s]\n",
      " 35%|███▍      | 3482/10000 [00:02<00:05, 1179.04it/s]\n",
      " 16%|█▌        | 31/200 [00:00<00:02, 75.15it/s]4it/s]\n",
      " 34%|███▍      | 3397/10000 [00:03<00:05, 1118.45it/s]\n",
      "  8%|▊         | 15/200 [00:00<00:03, 56.74it/s]8it/s]\n",
      " 50%|█████     | 5045/10000 [00:04<00:04, 1139.16it/s]\n",
      "  2%|▏         | 3/200 [00:00<00:07, 26.97it/s]7it/s]]\n",
      " 35%|███▌      | 3509/10000 [00:03<00:05, 1166.59it/s]\n",
      " 12%|█▏        | 23/200 [00:00<00:02, 60.49it/s]6it/s]\n",
      " 34%|███▍      | 3378/10000 [00:02<00:05, 1128.52it/s]\n",
      "  6%|▌         | 12/200 [00:00<00:03, 57.38it/s]8it/s]\n",
      " 36%|███▌      | 3614/10000 [00:03<00:05, 1156.79it/s]\n",
      " 49%|████▉     | 4911/10000 [00:04<00:04, 1108.25it/s]\n",
      "  2%|▏         | 3/200 [00:00<00:07, 25.20it/s]43it/s]\n",
      "  8%|▊         | 16/200 [00:00<00:03, 56.57it/s]9it/s]\n",
      " 35%|███▌      | 3536/10000 [00:03<00:05, 1107.95it/s]\n",
      " 11%|█         | 22/200 [00:00<00:03, 55.59it/s]0it/s]\n",
      " 47%|████▋     | 4689/10000 [00:04<00:04, 1157.60it/s]\n",
      " 48%|████▊     | 4777/10000 [00:04<00:04, 1142.18it/s]\n",
      "  2%|▏         | 3/200 [00:00<00:07, 25.71it/s]50it/s]\n",
      " 35%|███▍      | 3482/10000 [00:03<00:05, 1140.61it/s]\n",
      " 76%|███████▌  | 151/200 [00:01<00:00, 79.02it/s]it/s]\n",
      " 34%|███▍      | 69/200 [00:00<00:01, 77.48it/s]it/s]]\n",
      " 50%|█████     | 5045/10000 [00:04<00:04, 1148.88it/s]\n",
      "  2%|▏         | 3/200 [00:00<00:07, 25.87it/s]53it/s]\n",
      " 34%|███▍      | 3397/10000 [00:03<00:05, 1121.80it/s]\n",
      " 35%|███▌      | 3509/10000 [00:03<00:05, 1093.10it/s]\n",
      " 34%|███▎      | 67/200 [00:01<00:01, 66.52it/s]8it/s]\n",
      " 23%|██▎       | 46/200 [00:00<00:02, 68.82it/s]6it/s]\n",
      " 34%|███▍      | 3378/10000 [00:02<00:05, 1141.14it/s]\n",
      " 49%|████▉     | 4911/10000 [00:04<00:04, 1134.30it/s]\n",
      "  2%|▏         | 3/200 [00:00<00:07, 25.80it/s]63it/s]\n",
      " 36%|███▌      | 3614/10000 [00:03<00:05, 1155.11it/s]\n",
      " 26%|██▌       | 52/200 [00:00<00:02, 67.63it/s]it/s]\n",
      " 27%|██▋       | 54/200 [00:00<00:02, 65.86it/s]9it/s]\n",
      " 35%|███▌      | 3536/10000 [00:03<00:05, 1126.17it/s]\n",
      "  2%|▏         | 3/200 [00:00<00:07, 25.81it/s]02it/s]\n",
      " 48%|████▊     | 4777/10000 [00:04<00:04, 1139.32it/s]\n",
      " 47%|████▋     | 4689/10000 [00:04<00:04, 1163.12it/s]\n",
      " 11%|█         | 22/200 [00:00<00:02, 60.13it/s]3it/s]\n",
      " 26%|██▌       | 52/200 [00:00<00:02, 70.44it/s]it/s]]\n",
      " 35%|███▍      | 3482/10000 [00:02<00:05, 1168.43it/s]\n",
      "  2%|▏         | 3/200 [00:00<00:07, 25.92it/s]3it/s]\n",
      " 34%|███▍      | 3397/10000 [00:03<00:06, 1098.85it/s]\n",
      " 10%|█         | 20/200 [00:00<00:03, 58.80it/s]7it/s]\n",
      " 35%|███▌      | 3509/10000 [00:03<00:05, 1127.60it/s]\n",
      "  2%|▏         | 3/200 [00:00<00:08, 24.25it/s]87it/s]\n",
      " 50%|█████     | 5045/10000 [00:04<00:04, 1135.85it/s]\n",
      " 14%|█▍        | 29/200 [00:00<00:02, 62.19it/s]it/s]]\n",
      " 34%|███▍      | 3378/10000 [00:02<00:05, 1134.69it/s]\n",
      " 22%|██▎       | 45/200 [00:00<00:02, 72.05it/s]2it/s]\n",
      " 49%|████▉     | 4911/10000 [00:04<00:04, 1136.53it/s]\n",
      " 36%|███▌      | 3614/10000 [00:03<00:05, 1177.44it/s]\n",
      "  2%|▏         | 3/200 [00:00<00:08, 22.89it/s]7it/s]\n",
      " 22%|██▏       | 43/200 [00:00<00:02, 59.73it/s]it/s]\n",
      " 35%|███▌      | 3536/10000 [00:03<00:05, 1111.05it/s]\n",
      "  9%|▉         | 18/200 [00:00<00:04, 40.12it/s]it/s] \n",
      " 48%|████▊     | 4777/10000 [00:04<00:04, 1082.12it/s]\n",
      "  4%|▍         | 9/200 [00:00<00:04, 42.05it/s]46it/s]\n",
      " 47%|████▋     | 4689/10000 [00:04<00:05, 1014.25it/s]\n",
      "  2%|▏         | 3/200 [00:00<00:13, 14.72it/s]it/s]]\n",
      " 35%|███▍      | 3482/10000 [00:03<00:06, 947.75it/s] \n",
      " 38%|███▊      | 77/200 [00:01<00:01, 69.33it/s]8it/s]\n",
      " 34%|███▍      | 3397/10000 [00:03<00:06, 1054.40it/s]\n",
      "  2%|▎         | 5/200 [00:00<00:05, 36.05it/s]7it/s]]\n",
      " 50%|█████     | 5045/10000 [00:04<00:04, 1037.70it/s]\n",
      "  2%|▎         | 5/200 [00:00<00:05, 35.10it/s]73it/s]\n",
      " 35%|███▌      | 3509/10000 [00:02<00:05, 1179.33it/s]\n",
      " 16%|█▋        | 33/200 [00:00<00:02, 65.36it/s]4it/s]\n",
      " 34%|███▍      | 3378/10000 [00:02<00:05, 1155.47it/s]\n",
      " 49%|████▉     | 4911/10000 [00:04<00:04, 1167.09it/s]\n",
      "  2%|▎         | 5/200 [00:00<00:05, 35.11it/s]]7it/s]\n",
      " 32%|███▏      | 63/200 [00:00<00:01, 75.47it/s]1it/s]\n",
      " 36%|███▌      | 3614/10000 [00:03<00:05, 1179.73it/s]\n",
      " 18%|█▊        | 35/200 [00:00<00:02, 71.45it/s]8it/s]\n",
      " 35%|███▌      | 3536/10000 [00:03<00:05, 1168.32it/s]\n",
      "  9%|▉         | 18/200 [00:00<00:03, 60.19it/s]9it/s]\n",
      " 48%|████▊     | 4777/10000 [00:04<00:04, 1171.42it/s]\n",
      "  4%|▍         | 8/200 [00:00<00:04, 45.74it/s]59it/s]\n",
      " 47%|████▋     | 4689/10000 [00:03<00:04, 1190.64it/s]\n",
      "  6%|▌         | 12/200 [00:00<00:03, 52.80it/s]6it/s]\n",
      " 35%|███▍      | 3482/10000 [00:02<00:05, 1173.58it/s]\n",
      " 36%|███▌      | 71/200 [00:00<00:01, 75.67it/s]5it/s]\n",
      " 50%|█████     | 5045/10000 [00:04<00:04, 1169.46it/s]\n",
      "  2%|▏         | 3/200 [00:00<00:07, 25.94it/s]91it/s]\n",
      " 34%|███▍      | 3397/10000 [00:02<00:05, 1191.80it/s]\n",
      " 14%|█▎        | 27/200 [00:00<00:02, 66.35it/s]2it/s]\n",
      " 35%|███▌      | 3509/10000 [00:03<00:05, 1169.31it/s]\n",
      " 12%|█▏        | 24/200 [00:00<00:02, 64.79it/s]9it/s]\n",
      " 34%|███▍      | 3378/10000 [00:02<00:05, 1190.86it/s]\n",
      " 32%|███▏      | 64/200 [00:00<00:01, 75.63it/s]6it/s]\n",
      " 49%|████▉     | 4911/10000 [00:04<00:04, 1163.82it/s]\n",
      "  2%|▏         | 3/200 [00:00<00:07, 25.90it/s]64it/s]\n",
      " 36%|███▌      | 3614/10000 [00:03<00:05, 1167.69it/s]\n",
      " 15%|█▌        | 30/200 [00:00<00:02, 67.90it/s]it/s]]\n",
      " 35%|███▌      | 3536/10000 [00:02<00:05, 1199.01it/s]\n",
      "  7%|▋         | 14/200 [00:00<00:03, 56.78it/s]0it/s]\n",
      " 48%|████▊     | 4777/10000 [00:04<00:04, 1172.26it/s]\n",
      "  6%|▋         | 13/200 [00:00<00:03, 55.17it/s]2it/s]\n",
      " 47%|████▋     | 4689/10000 [00:03<00:04, 1176.41it/s]\n",
      "  6%|▋         | 13/200 [00:00<00:03, 54.48it/s]it/s]]\n",
      " 35%|███▍      | 3482/10000 [00:02<00:05, 1202.02it/s]\n",
      " 12%|█▎        | 25/200 [00:00<00:02, 66.16it/s]4it/s]\n",
      " 34%|███▍      | 3397/10000 [00:02<00:05, 1175.18it/s]\n",
      "  3%|▎         | 6/200 [00:00<00:05, 38.16it/s]05it/s]\n",
      " 50%|█████     | 5045/10000 [00:04<00:04, 1166.15it/s]\n",
      "  5%|▌         | 10/200 [00:00<00:03, 49.62it/s]6it/s]\n",
      " 35%|███▌      | 3509/10000 [00:02<00:05, 1204.23it/s]\n",
      " 10%|█         | 21/200 [00:00<00:02, 63.92it/s]9it/s]\n",
      " 34%|███▍      | 3378/10000 [00:02<00:05, 1173.25it/s]\n",
      "  8%|▊         | 16/200 [00:00<00:03, 58.66it/s]2it/s]\n",
      " 49%|████▉     | 4911/10000 [00:04<00:04, 1175.07it/s]\n",
      " 36%|███▌      | 3614/10000 [00:03<00:05, 1200.97it/s]\n",
      "  9%|▉         | 18/200 [00:00<00:02, 60.81it/s]\n",
      " 10%|█         | 21/200 [00:00<00:02, 63.63it/s]it/s]\n",
      " 35%|███▌      | 3536/10000 [00:03<00:05, 1174.75it/s]\n",
      "  2%|▏         | 3/200 [00:00<00:07, 25.86it/s]75it/s]\n",
      " 48%|████▊     | 4777/10000 [00:04<00:04, 1177.29it/s]\n",
      " 47%|████▋     | 4689/10000 [00:03<00:04, 1202.20it/s]\n",
      "  4%|▎         | 7/200 [00:00<00:04, 42.01it/s]\n",
      "  5%|▌         | 10/200 [00:00<00:03, 49.87it/s]3it/s]\n",
      " 35%|███▍      | 3482/10000 [00:02<00:05, 1177.40it/s]\n",
      " 14%|█▍        | 29/200 [00:00<00:02, 67.36it/s]9it/s]\n",
      " 34%|███▍      | 3397/10000 [00:02<00:05, 1202.56it/s]\n",
      "  2%|▏         | 3/200 [00:00<00:07, 25.51it/s]27it/s]\n",
      " 50%|█████     | 5045/10000 [00:04<00:04, 1172.10it/s]\n",
      "  6%|▌         | 12/200 [00:00<00:03, 51.49it/s]3it/s]\n",
      " 35%|███▌      | 3509/10000 [00:02<00:05, 1174.62it/s]\n",
      "  2%|▏         | 3/200 [00:00<00:08, 23.33it/s]6it/s]]\n",
      " 49%|████▉     | 4911/10000 [00:04<00:04, 1189.78it/s]\n",
      " 34%|███▍      | 3378/10000 [00:02<00:05, 1168.54it/s]\n",
      "  8%|▊         | 16/200 [00:00<00:03, 58.55it/s]9it/s]\n",
      "  6%|▋         | 13/200 [00:00<00:03, 53.10it/s]it/s]]\n",
      " 36%|███▌      | 3614/10000 [00:03<00:05, 1171.67it/s]\n",
      "  2%|▏         | 3/200 [00:00<00:07, 25.84it/s]6it/s]\n",
      " 35%|███▌      | 3536/10000 [00:02<00:05, 1200.16it/s]\n",
      " 10%|█         | 20/200 [00:00<00:02, 61.97it/s]4it/s]\n",
      " 48%|████▊     | 4777/10000 [00:04<00:04, 1172.46it/s]\n",
      "  4%|▍         | 9/200 [00:00<00:04, 47.52it/s]45it/s]\n",
      " 47%|████▋     | 4689/10000 [00:04<00:04, 1167.14it/s]\n",
      "  2%|▏         | 3/200 [00:00<00:07, 25.55it/s]0it/s]]\n",
      " 35%|███▍      | 3482/10000 [00:02<00:05, 1189.26it/s]\n",
      " 10%|█         | 21/200 [00:00<00:02, 62.59it/s]0it/s]\n",
      " 34%|███▍      | 3397/10000 [00:02<00:05, 1175.94it/s]\n",
      "  2%|▎         | 5/200 [00:00<00:05, 35.66it/s]24it/s]\n",
      " 50%|█████     | 5045/10000 [00:04<00:04, 1175.07it/s]\n",
      "  2%|▏         | 3/200 [00:00<00:07, 25.37it/s]47it/s]\n",
      " 35%|███▌      | 3509/10000 [00:02<00:05, 1194.62it/s]\n",
      "  6%|▌         | 11/200 [00:00<00:03, 51.60it/s]it/s]]\n",
      " 34%|███▍      | 3378/10000 [00:02<00:05, 1171.64it/s]\n",
      " 49%|████▉     | 4911/10000 [00:04<00:04, 1172.83it/s]\n",
      "  2%|▏         | 3/200 [00:00<00:08, 23.87it/s]]3it/s]\n",
      " 10%|█         | 20/200 [00:00<00:02, 60.37it/s]6it/s]\n",
      " 36%|███▌      | 3614/10000 [00:03<00:05, 1192.71it/s]\n",
      "  7%|▋         | 14/200 [00:00<00:03, 55.91it/s]0it/s]\n",
      " 35%|███▌      | 3536/10000 [00:02<00:05, 1179.64it/s]\n",
      "  4%|▍         | 9/200 [00:00<00:04, 45.47it/s]58it/s]\n",
      " 48%|████▊     | 4777/10000 [00:04<00:04, 1170.87it/s]\n",
      "  2%|▎         | 5/200 [00:00<00:05, 34.99it/s]81it/s]\n",
      " 47%|████▋     | 4689/10000 [00:03<00:04, 1190.59it/s]\n",
      "  2%|▏         | 4/200 [00:00<00:06, 30.54it/s]22it/s]\n",
      " 35%|███▍      | 3482/10000 [00:02<00:05, 1173.98it/s]\n",
      " 10%|█         | 20/200 [00:00<00:02, 61.40it/s]4it/s]\n",
      " 34%|███▍      | 3397/10000 [00:02<00:05, 1199.74it/s]\n",
      "  3%|▎         | 6/200 [00:00<00:04, 38.91it/s]17it/s]\n",
      " 50%|█████     | 5045/10000 [00:04<00:04, 1170.43it/s]\n",
      "  6%|▌         | 12/200 [00:00<00:03, 52.37it/s]it/s]]\n",
      " 35%|███▌      | 3509/10000 [00:02<00:05, 1175.10it/s]\n",
      "  7%|▋         | 14/200 [00:00<00:03, 55.66it/s]2it/s]\n",
      " 34%|███▍      | 3378/10000 [00:02<00:05, 1174.97it/s]\n",
      "  6%|▌         | 12/200 [00:00<00:03, 52.09it/s]9it/s]\n",
      " 49%|████▉     | 4911/10000 [00:04<00:04, 1192.00it/s]\n",
      "  2%|▏         | 3/200 [00:00<00:07, 25.35it/s]87it/s]\n",
      " 36%|███▌      | 3614/10000 [00:03<00:05, 1176.06it/s]\n",
      "  4%|▍         | 8/200 [00:00<00:04, 44.79it/s]1it/s]]\n",
      " 35%|███▌      | 3536/10000 [00:03<00:05, 1174.50it/s]\n",
      "  2%|▏         | 3/200 [00:00<00:07, 24.90it/s]14it/s]\n",
      " 48%|████▊     | 4777/10000 [00:03<00:04, 1194.37it/s]\n",
      "  6%|▌         | 12/200 [00:00<00:03, 52.09it/s]6it/s]\n",
      " 47%|████▋     | 4689/10000 [00:03<00:04, 1172.71it/s]\n",
      "  4%|▍         | 8/200 [00:00<00:04, 44.19it/s]17it/s]\n",
      " 35%|███▍      | 3482/10000 [00:02<00:05, 1172.93it/s]\n",
      " 12%|█▏        | 23/200 [00:00<00:02, 63.01it/s]3it/s]\n",
      " 34%|███▍      | 3397/10000 [00:02<00:05, 1169.99it/s]\n",
      "  2%|▏         | 4/200 [00:00<00:06, 30.65it/s]46it/s]\n",
      " 50%|█████     | 5045/10000 [00:04<00:04, 1191.20it/s]\n",
      "  5%|▌         | 10/200 [00:00<00:03, 48.85it/s]it/s]]\n",
      " 35%|███▌      | 3509/10000 [00:03<00:05, 1169.61it/s]\n",
      "  2%|▏         | 3/200 [00:00<00:07, 25.09it/s]9it/s]]\n",
      " 34%|███▍      | 3378/10000 [00:02<00:05, 1198.98it/s]\n",
      "  7%|▋         | 14/200 [00:00<00:03, 55.10it/s]3it/s]\n",
      " 49%|████▉     | 4911/10000 [00:04<00:04, 1166.61it/s]\n",
      " 36%|███▌      | 3614/10000 [00:03<00:05, 1171.58it/s]\n",
      "  6%|▋         | 13/200 [00:00<00:03, 51.80it/s]it/s]\n",
      "  2%|▏         | 3/200 [00:00<00:08, 24.36it/s]\n",
      " 35%|███▌      | 3536/10000 [00:02<00:05, 1196.09it/s]\n",
      "  7%|▋         | 14/200 [00:00<00:03, 54.99it/s]2it/s]\n",
      " 47%|████▋     | 4689/10000 [00:03<00:04, 1173.35it/s]\n",
      " 48%|████▊     | 4777/10000 [00:04<00:04, 1165.92it/s]\n",
      "  2%|▎         | 5/200 [00:00<00:05, 34.09it/s]95it/s]\n",
      "  6%|▌         | 12/200 [00:00<00:03, 49.86it/s]it/s]]\n",
      " 35%|███▍      | 3482/10000 [00:02<00:05, 1190.87it/s]\n",
      " 11%|█         | 22/200 [00:00<00:02, 60.78it/s]2it/s]\n",
      " 34%|███▍      | 3397/10000 [00:03<00:05, 1104.63it/s]\n",
      "  2%|▎         | 5/200 [00:00<00:05, 33.23it/s]76it/s]\n",
      " 50%|█████     | 5045/10000 [00:04<00:04, 1127.25it/s]\n",
      "  2%|▏         | 3/200 [00:00<00:08, 23.58it/s]24it/s]\n",
      " 35%|███▌      | 3509/10000 [00:03<00:05, 1134.01it/s]\n",
      "  6%|▌         | 12/200 [00:00<00:04, 46.38it/s]8it/s]\n",
      " 34%|███▍      | 3378/10000 [00:03<00:05, 1120.23it/s]\n",
      " 49%|████▉     | 4911/10000 [00:04<00:04, 1125.97it/s]\n",
      "  2%|▏         | 4/200 [00:00<00:07, 25.44it/s]04it/s]\n",
      "  7%|▋         | 14/200 [00:00<00:04, 46.29it/s]\n",
      " 36%|███▌      | 3614/10000 [00:03<00:05, 1110.21it/s]\n",
      "  6%|▌         | 11/200 [00:00<00:05, 35.51it/s]t/s]]\n",
      " 35%|███▌      | 3536/10000 [00:03<00:05, 1131.22it/s]\n",
      "  4%|▎         | 7/200 [00:00<00:04, 41.01it/s]02it/s]\n",
      " 48%|████▊     | 4777/10000 [00:04<00:04, 1073.39it/s]\n",
      "  5%|▌         | 10/200 [00:00<00:03, 48.13it/s]5it/s]\n",
      " 47%|████▋     | 4689/10000 [00:04<00:04, 1146.69it/s]\n",
      "  2%|▏         | 4/200 [00:00<00:06, 29.97it/s]8it/s]]\n",
      " 35%|███▍      | 3482/10000 [00:03<00:05, 1135.17it/s]\n",
      " 21%|██        | 42/200 [00:00<00:02, 62.48it/s]7it/s]\n",
      " 34%|███▍      | 3397/10000 [00:02<00:05, 1171.41it/s]\n",
      "  2%|▏         | 4/200 [00:00<00:07, 25.87it/s]55it/s]\n",
      " 50%|█████     | 5045/10000 [00:04<00:04, 1138.69it/s]\n",
      "  2%|▏         | 3/200 [00:00<00:07, 25.16it/s]65it/s]\n",
      " 35%|███▌      | 3509/10000 [00:03<00:05, 1163.13it/s]\n",
      "  4%|▍         | 9/200 [00:00<00:04, 46.62it/s]48it/s]\n",
      " 49%|████▉     | 4911/10000 [00:04<00:04, 1191.93it/s]\n",
      " 34%|███▍      | 3378/10000 [00:02<00:05, 1175.36it/s]\n",
      "  2%|▏         | 3/200 [00:00<00:08, 24.55it/s]91it/s]\n",
      "  4%|▍         | 9/200 [00:00<00:04, 45.02it/s]93it/s]\n",
      " 36%|███▌      | 3614/10000 [00:03<00:05, 1189.12it/s]\n",
      "  6%|▋         | 13/200 [00:00<00:03, 54.75it/s]\n",
      " 50%|█████████████████████████▋                         | 5032/10000 [00:04<00:04, 1165.34it/s]\n",
      "  2%|█▏                                                        | 4/200 [00:00<00:12, 15.63it/s]\n"
     ]
    },
    {
     "data": {
      "text/plain": [
       "(0.6590909090909091,\n",
       " {'batch_size': 16,\n",
       "  'distr_kind': 'Weibull',\n",
       "  'elbo': False,\n",
       "  'layer_sizes': [31, 31, 31],\n",
       "  'learning_rate': 0.001,\n",
       "  'max_epochs': 200,\n",
       "  'n_distr': 1,\n",
       "  'validation_size': 0.1})"
      ]
     },
     "execution_count": 166,
     "metadata": {},
     "output_type": "execute_result"
    }
   ],
   "source": [
    "# Stratified CV\n",
    "opt_dsm, opt_dsm_params, opt_dsm_search = optimize(survwrap.DeepSurvivalMachines(rng_seed=2308),  X_train, y_train, \n",
    "                                                   user_grid=grid,cv=RepeatedStratifiedKFold(n_splits=5, n_repeats=2, random_state=2308).split(X_train,survwrap.get_indicator(y_train)))\n",
    "opt_dsm.score(X_test, y_test), opt_dsm_params"
   ]
  },
  {
   "cell_type": "code",
   "execution_count": 167,
   "id": "e7e47436",
   "metadata": {},
   "outputs": [],
   "source": [
    "cv_res = opt_dsm_search.cv_results_\n",
    "rez=sorted(zip(cv_res['rank_test_score'], cv_res['mean_test_score'] , cv_res['std_test_score'], \n",
    "               cv_res['mean_test_score'] - cv_res['std_test_score'], opt_dsm_search.cv_results_['params']))"
   ]
  },
  {
   "cell_type": "code",
   "execution_count": 168,
   "id": "fafdcd90",
   "metadata": {},
   "outputs": [
    {
     "data": {
      "text/plain": [
       "[(1,\n",
       "  0.6708545595719525,\n",
       "  0.07941291489368205,\n",
       "  0.5914416446782704,\n",
       "  {'batch_size': 16,\n",
       "   'distr_kind': 'Weibull',\n",
       "   'elbo': False,\n",
       "   'layer_sizes': [31, 31, 31],\n",
       "   'learning_rate': 0.001,\n",
       "   'max_epochs': 200,\n",
       "   'n_distr': 1,\n",
       "   'validation_size': 0.1}),\n",
       " (2,\n",
       "  0.6660412853776564,\n",
       "  0.08625703973533061,\n",
       "  0.5797842456423258,\n",
       "  {'batch_size': 16,\n",
       "   'distr_kind': 'Weibull',\n",
       "   'elbo': False,\n",
       "   'layer_sizes': [13],\n",
       "   'learning_rate': 0.001,\n",
       "   'max_epochs': 200,\n",
       "   'n_distr': 1,\n",
       "   'validation_size': 0.1}),\n",
       " (3,\n",
       "  0.6580985055372891,\n",
       "  0.039886136922990534,\n",
       "  0.6182123686142986,\n",
       "  {'batch_size': 16,\n",
       "   'distr_kind': 'Weibull',\n",
       "   'elbo': False,\n",
       "   'layer_sizes': [23, 23, 23],\n",
       "   'learning_rate': 0.001,\n",
       "   'max_epochs': 200,\n",
       "   'n_distr': 1,\n",
       "   'validation_size': 0.1}),\n",
       " (4,\n",
       "  0.6544769350353211,\n",
       "  0.09844260219660868,\n",
       "  0.5560343328387124,\n",
       "  {'batch_size': 16,\n",
       "   'distr_kind': 'Weibull',\n",
       "   'elbo': False,\n",
       "   'layer_sizes': [23],\n",
       "   'learning_rate': 0.001,\n",
       "   'max_epochs': 200,\n",
       "   'n_distr': 1,\n",
       "   'validation_size': 0.1}),\n",
       " (5,\n",
       "  0.6502447495437347,\n",
       "  0.05905006532574704,\n",
       "  0.5911946842179876,\n",
       "  {'batch_size': 16,\n",
       "   'distr_kind': 'Weibull',\n",
       "   'elbo': False,\n",
       "   'layer_sizes': [37],\n",
       "   'learning_rate': 0.001,\n",
       "   'max_epochs': 200,\n",
       "   'n_distr': 1,\n",
       "   'validation_size': 0.1}),\n",
       " (6,\n",
       "  0.6369849876644174,\n",
       "  0.10775570949941397,\n",
       "  0.5292292781650034,\n",
       "  {'batch_size': 16,\n",
       "   'distr_kind': 'Weibull',\n",
       "   'elbo': False,\n",
       "   'layer_sizes': [17],\n",
       "   'learning_rate': 0.001,\n",
       "   'max_epochs': 200,\n",
       "   'n_distr': 1,\n",
       "   'validation_size': 0.1}),\n",
       " (7,\n",
       "  0.6288413293808699,\n",
       "  0.09260081352441787,\n",
       "  0.536240515856452,\n",
       "  {'batch_size': 16,\n",
       "   'distr_kind': 'Weibull',\n",
       "   'elbo': False,\n",
       "   'layer_sizes': [11],\n",
       "   'learning_rate': 0.001,\n",
       "   'max_epochs': 200,\n",
       "   'n_distr': 1,\n",
       "   'validation_size': 0.1}),\n",
       " (8,\n",
       "  0.6273895484269374,\n",
       "  0.07795802684147296,\n",
       "  0.5494315215854644,\n",
       "  {'batch_size': 16,\n",
       "   'distr_kind': 'Weibull',\n",
       "   'elbo': False,\n",
       "   'layer_sizes': [19],\n",
       "   'learning_rate': 0.001,\n",
       "   'max_epochs': 200,\n",
       "   'n_distr': 1,\n",
       "   'validation_size': 0.1}),\n",
       " (9,\n",
       "  0.6261967010773682,\n",
       "  0.10381205537523215,\n",
       "  0.522384645702136,\n",
       "  {'batch_size': 16,\n",
       "   'distr_kind': 'Weibull',\n",
       "   'elbo': False,\n",
       "   'layer_sizes': [31],\n",
       "   'learning_rate': 0.001,\n",
       "   'max_epochs': 200,\n",
       "   'n_distr': 1,\n",
       "   'validation_size': 0.1}),\n",
       " (10,\n",
       "  0.6137645366592515,\n",
       "  0.07844467724361279,\n",
       "  0.5353198594156386,\n",
       "  {'batch_size': 16,\n",
       "   'distr_kind': 'Weibull',\n",
       "   'elbo': False,\n",
       "   'layer_sizes': [37, 37, 37],\n",
       "   'learning_rate': 0.001,\n",
       "   'max_epochs': 200,\n",
       "   'n_distr': 1,\n",
       "   'validation_size': 0.1})]"
      ]
     },
     "execution_count": 168,
     "metadata": {},
     "output_type": "execute_result"
    }
   ],
   "source": [
    "rez[:10]"
   ]
  },
  {
   "cell_type": "code",
   "execution_count": 169,
   "id": "36d543c7-043d-4ad9-9a3b-9485d098288c",
   "metadata": {
    "scrolled": true
   },
   "outputs": [
    {
     "name": "stdout",
     "output_type": "stream",
     "text": [
      "(3, 0.6580985055372891, 0.039886136922990534, 0.6182123686142986)\n"
     ]
    },
    {
     "name": "stderr",
     "output_type": "stream",
     "text": [
      " 50%|█████████████████████████▋                         | 5032/10000 [00:04<00:04, 1169.75it/s]\n",
      "  2%|█▍                                                        | 5/200 [00:00<00:10, 18.33it/s]\n"
     ]
    },
    {
     "name": "stdout",
     "output_type": "stream",
     "text": [
      "Train:  0.7992 , Test: 0.6632\n",
      "(1, 0.6708545595719525, 0.07941291489368205, 0.5914416446782704)\n"
     ]
    },
    {
     "name": "stderr",
     "output_type": "stream",
     "text": [
      " 50%|█████████████████████████▋                         | 5032/10000 [00:04<00:04, 1173.12it/s]\n",
      "  2%|█▏                                                        | 4/200 [00:00<00:13, 14.08it/s]\n"
     ]
    },
    {
     "name": "stdout",
     "output_type": "stream",
     "text": [
      "Train:  0.8132 , Test: 0.6591\n",
      "(5, 0.6502447495437347, 0.05905006532574704, 0.5911946842179876)\n"
     ]
    },
    {
     "name": "stderr",
     "output_type": "stream",
     "text": [
      " 50%|█████████████████████████▋                         | 5032/10000 [00:04<00:04, 1179.70it/s]\n",
      "  3%|█▋                                                        | 6/200 [00:00<00:09, 20.37it/s]\n"
     ]
    },
    {
     "name": "stdout",
     "output_type": "stream",
     "text": [
      "Train:  0.7964 , Test: 0.6322\n",
      "(2, 0.6660412853776564, 0.08625703973533061, 0.5797842456423258)\n"
     ]
    },
    {
     "name": "stderr",
     "output_type": "stream",
     "text": [
      " 50%|█████████████████████████▋                         | 5032/10000 [00:04<00:04, 1171.18it/s]\n",
      "  4%|██▎                                                       | 8/200 [00:00<00:07, 26.72it/s]\n"
     ]
    },
    {
     "name": "stdout",
     "output_type": "stream",
     "text": [
      "Train:  0.8348 , Test: 0.6612\n",
      "(4, 0.6544769350353211, 0.09844260219660868, 0.5560343328387124)\n"
     ]
    },
    {
     "name": "stderr",
     "output_type": "stream",
     "text": [
      " 50%|█████████████████████████▋                         | 5032/10000 [00:04<00:04, 1162.10it/s]\n",
      "  2%|▊                                                         | 3/200 [00:00<00:13, 14.24it/s]\n"
     ]
    },
    {
     "name": "stdout",
     "output_type": "stream",
     "text": [
      "Train:  0.6627 , Test: 0.6488\n",
      "(8, 0.6273895484269374, 0.07795802684147296, 0.5494315215854644)\n"
     ]
    },
    {
     "name": "stderr",
     "output_type": "stream",
     "text": [
      " 50%|█████████████████████████▋                         | 5032/10000 [00:04<00:04, 1167.27it/s]\n",
      "  2%|█▍                                                        | 5/200 [00:00<00:09, 20.49it/s]\n"
     ]
    },
    {
     "name": "stdout",
     "output_type": "stream",
     "text": [
      "Train:  0.7324 , Test: 0.5950\n",
      "(7, 0.6288413293808699, 0.09260081352441787, 0.536240515856452)\n"
     ]
    },
    {
     "name": "stderr",
     "output_type": "stream",
     "text": [
      " 50%|█████████████████████████▋                         | 5032/10000 [00:04<00:04, 1175.08it/s]\n",
      "  3%|█▋                                                        | 6/200 [00:00<00:08, 24.23it/s]\n"
     ]
    },
    {
     "name": "stdout",
     "output_type": "stream",
     "text": [
      "Train:  0.7626 , Test: 0.6240\n",
      "(10, 0.6137645366592515, 0.07844467724361279, 0.5353198594156386)\n"
     ]
    },
    {
     "name": "stderr",
     "output_type": "stream",
     "text": [
      " 50%|█████████████████████████▋                         | 5032/10000 [00:04<00:04, 1167.58it/s]\n",
      "  3%|█▋                                                        | 6/200 [00:00<00:10, 19.36it/s]\n"
     ]
    },
    {
     "name": "stdout",
     "output_type": "stream",
     "text": [
      "Train:  0.8392 , Test: 0.6178\n",
      "(6, 0.6369849876644174, 0.10775570949941397, 0.5292292781650034)\n"
     ]
    },
    {
     "name": "stderr",
     "output_type": "stream",
     "text": [
      " 50%|█████████████████████████▋                         | 5032/10000 [00:04<00:04, 1178.51it/s]\n",
      "  4%|██                                                        | 7/200 [00:00<00:06, 27.71it/s]\n"
     ]
    },
    {
     "name": "stdout",
     "output_type": "stream",
     "text": [
      "Train:  0.7824 , Test: 0.6467\n",
      "(9, 0.6261967010773682, 0.10381205537523215, 0.522384645702136)\n"
     ]
    },
    {
     "name": "stderr",
     "output_type": "stream",
     "text": [
      " 50%|█████████████████████████▋                         | 5032/10000 [00:04<00:04, 1183.18it/s]\n",
      "  2%|▊                                                         | 3/200 [00:00<00:15, 12.76it/s]"
     ]
    },
    {
     "name": "stdout",
     "output_type": "stream",
     "text": [
      "Train:  0.6570 , Test: 0.6694\n"
     ]
    },
    {
     "name": "stderr",
     "output_type": "stream",
     "text": [
      "\n"
     ]
    }
   ],
   "source": [
    "low_bound = sorted(rez[:10], key= lambda k: k[3], reverse=True)\n",
    "for lb in [ _ for _ in low_bound if _[3] > 0.5] :\n",
    "    print(lb[0:4])\n",
    "    test_model(survwrap.DeepSurvivalMachines, **lb[4])"
   ]
  },
  {
   "cell_type": "code",
   "execution_count": 164,
   "id": "d29144de-820a-4d6e-89c0-bbf50acd6684",
   "metadata": {
    "scrolled": true
   },
   "outputs": [
    {
     "name": "stderr",
     "output_type": "stream",
     "text": [
      " 50%|█████████████████████████▋                         | 5032/10000 [00:04<00:04, 1171.12it/s]\n",
      "  4%|██▎                                                       | 8/200 [00:00<00:07, 27.00it/s]"
     ]
    },
    {
     "name": "stdout",
     "output_type": "stream",
     "text": [
      "Train:  0.8348 , Test: 0.6612\n"
     ]
    },
    {
     "name": "stderr",
     "output_type": "stream",
     "text": [
      "\n"
     ]
    },
    {
     "data": {
      "text/plain": [
       "0.6611570247933884"
      ]
     },
     "execution_count": 164,
     "metadata": {},
     "output_type": "execute_result"
    }
   ],
   "source": [
    "test_model(survwrap.DeepSurvivalMachines, batch_size=16, layer_sizes=[13], n_distr=1, max_epochs=200)"
   ]
  },
  {
   "cell_type": "markdown",
   "id": "eea8b402-b00f-4636-b0ce-707d2b9c5b88",
   "metadata": {},
   "source": [
    "# Appunti di varie prove DSM\n",
    "\n",
    "## Insieme di prova (Breast cancer)\n",
    "\n",
    "Piccolo insieme bastardo. 200 elementi, 84 features e solo il 25% di eventi non censurati.\n",
    "Coxnet di default va male (c-index 53%), DSM richiede cura per inziare a generalizzare.\n",
    "\n",
    "## Stabilità risultato\n",
    "\n",
    "1. stratificare, stratificare rispetto all'evento. Usando insiemi stratificati rispetto all'evento DSM inizia a funzionare in maniera meno erratica.\n",
    "2. Se si stratifica anche la CV, L'ottimizzazione DSM tende a fornire risultati buoni per tutta le soluzioni top e anche CoxNet ci guadagna in ottimizzazione (c-index: 57%).\n",
    "   potrebbe sembrare ovvio a posteriori, dato che stiamo imponendo un \"contenuto di informazione\" simile tra train e test. ma non mi pare una forzatura clamorosa.\n",
    "\n",
    "# Ottimizzazione parametri DSM\n",
    "\n",
    "1. Quello più difficile da gestire è ovviamente la topologia della rete. Usando un solo strato nascosto si vede che anche cambiando di un solo valore la dimensione si può passare da una rete che generalizza a una che fa schifo, quindi bisognerebbe fare uno scan senza salti. O fare una random search.\n",
    "   Alla fine mi sono inventato un protocollo scemo ma che sembra andare ragionevolmente (su breast cancer). Fare uno scan per i valori de numeri primi compresi tra 3 e n_features/2 (olè!)\n",
    "2. Reti a \"parametri equivalenti\", (la procedura del quant): fatti tanti test, c'è un fenomeno curioso: le reti con numero pari di strarti nascosti generalizzano male. Mah!\n",
    "   Quindi alla fine ho testato sistematicamente solo quelle con strati dispari (1,3,5). Ma per quelle con 5 iniziano ad apparire problemi di stabilità numerica, probabilmente quando sono troppo grandi.\n",
    "3. numero di funzioni di base (Weibull): il default è 2, ma si ottengono parecchi buoni risultati anche con una sola. Molte soluzioni con 3 non generalizzano. quindi 1 o 2.\n",
    "4. Come detto sopra, la stratificazione aiuta molto, così come il fare almeno 10 split (n_splits=5, n_repeats=2) per aver una varianza abbastanza stabile. Sono riuscito a fare griglie con cv stratificate con un trucchino sklearn che implementerei\n",
    "5. batch size: 10% dell'insieme di train. Sembra OK. mai ottimizzata. così come gli altri parametri legati al learning. Non mi aspetto che incidano.\n",
    "6. Alla fine della fiera si possono ottenere risulati stabilmente decorosi usando 1 o 3 strati nascosto e 1 sola weibull (test c-index: 65%). Introducendo anche la doppia weibull la griglia diventa più onerosa e possono aumentare le soluzioni solo apparentemente buone ma generalizzano peggio (anche se non disastrose: 58%). Non andare oltre le 2 weibull e 3 strati.\n"
   ]
  }
 ],
 "metadata": {
  "kernelspec": {
   "display_name": "Python 3 (ipykernel)",
   "language": "python",
   "name": "python3"
  },
  "language_info": {
   "codemirror_mode": {
    "name": "ipython",
    "version": 3
   },
   "file_extension": ".py",
   "mimetype": "text/x-python",
   "name": "python",
   "nbconvert_exporter": "python",
   "pygments_lexer": "ipython3",
   "version": "3.10.9"
  }
 },
 "nbformat": 4,
 "nbformat_minor": 5
}
