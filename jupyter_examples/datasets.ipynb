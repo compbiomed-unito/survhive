{
 "cells": [
  {
   "cell_type": "code",
   "execution_count": 53,
   "id": "e648fb85-eb3d-45bf-baff-743a113d8b53",
   "metadata": {},
   "outputs": [],
   "source": [
    "#import ../survwrap as tosa\n",
    "import pandas as pd \n",
    "import sksurv\n",
    "import os\n",
    "from dataclasses import dataclass, field"
   ]
  },
  {
   "cell_type": "code",
   "execution_count": 56,
   "id": "32b8c47e-b7b0-4c3a-ad09-4db28244c29c",
   "metadata": {},
   "outputs": [],
   "source": [
    "dataset_path=\"../Datasets/\""
   ]
  },
  {
   "cell_type": "code",
   "execution_count": 65,
   "id": "164cad0c-d9ef-415a-a8e1-c2703e230bf8",
   "metadata": {},
   "outputs": [],
   "source": [
    "@dataclass\n",
    "class dataset:\n",
    "    \"a dataset container\"\n",
    "    name: str\n",
    "    path: str\n",
    "    dataframe: field(default_factory=pd.DataFrame)"
   ]
  },
  {
   "cell_type": "markdown",
   "id": "dfb49b32-7580-4448-921e-f7a650fb3756",
   "metadata": {},
   "source": [
    "create a dictionary of dataset objects from the list of CSVs in dataset_path"
   ]
  },
  {
   "cell_type": "code",
   "execution_count": 64,
   "id": "40e65133-2383-44c5-b1a0-b20f8cec4054",
   "metadata": {},
   "outputs": [],
   "source": [
    "datasets ={}\n",
    "for _ in os.listdir(path=dataset_path):\n",
    "    _name=_.split('.')[0]\n",
    "    _path=dataset_path+_\n",
    "    datasets[_name]= dataset(name=_name,\n",
    "                             path=_path,\n",
    "                             dataframe = pd.read_csv(_path, index_col=0))\n"
   ]
  },
  {
   "cell_type": "code",
   "execution_count": 74,
   "id": "e22b2c36-2440-4b82-bfdc-95733ed7624f",
   "metadata": {},
   "outputs": [
    {
     "name": "stdout",
     "output_type": "stream",
     "text": [
      "flchain size: 6524\n",
      "gbsg+rotterdam size: 3668\n",
      "metabric size: 1903\n",
      "support_feature_selected size: 9105\n",
      "support_preprocessed size: 9105\n"
     ]
    }
   ],
   "source": [
    "for _ in datasets.keys():\n",
    "    print(_, \"size:\", len(datasets[_].dataframe))"
   ]
  },
  {
   "cell_type": "markdown",
   "id": "cc783f44-3478-40f8-87ee-812f06c4454d",
   "metadata": {},
   "source": [
    "test for nans"
   ]
  },
  {
   "cell_type": "code",
   "execution_count": 94,
   "id": "ea729301-740b-4330-a5da-3cfef1decbb8",
   "metadata": {},
   "outputs": [
    {
     "name": "stdout",
     "output_type": "stream",
     "text": [
      "flchain : (6524, 10)\n",
      "age           0\n",
      "sex           0\n",
      "sample.yr     0\n",
      "kappa         0\n",
      "lambda        0\n",
      "flc.grp       0\n",
      "creatinine    0\n",
      "mgus          0\n",
      "futime        0\n",
      "death         0\n",
      "dtype: int64\n",
      "gbsg+rotterdam : (3668, 10)\n",
      "age       0\n",
      "meno      0\n",
      "size      0\n",
      "grade     0\n",
      "nodes     0\n",
      "pgr       0\n",
      "er        0\n",
      "hormon    0\n",
      "time      0\n",
      "event     0\n",
      "dtype: int64\n",
      "metabric : (1903, 11)\n",
      "hormone_treatment    0\n",
      "radiotherapy         0\n",
      "chemoterapy          0\n",
      "ER-positive          0\n",
      "MKI67                0\n",
      "EGFR                 0\n",
      "PGR                  0\n",
      "ERBB2                0\n",
      "AOD                  0\n",
      "time                 0\n",
      "event                0\n",
      "dtype: int64\n",
      "support_feature_selected : (9105, 27)\n",
      "sex                           0\n",
      "edu                           0\n",
      "income                        0\n",
      "diabetes                      0\n",
      "dementia                      0\n",
      "meanbp                        0\n",
      "wblc                          0\n",
      "hrt                           0\n",
      "resp                          0\n",
      "temp                          0\n",
      "pafi                          0\n",
      "bili                          0\n",
      "sod                           0\n",
      "ph                            0\n",
      "glucose                       0\n",
      "urine                         0\n",
      "adlp                          0\n",
      "adls                          0\n",
      "dzclass_ARF/MOSF              0\n",
      "dzclass_COPD/CHF/Cirrhosis    0\n",
      "dzclass_Cancer                0\n",
      "dzclass_Coma                  0\n",
      "ca_metastatic                 0\n",
      "ca_no                         0\n",
      "ca_yes                        0\n",
      "time                          0\n",
      "event                         0\n",
      "dtype: int64\n",
      "support_preprocessed : (9105, 57)\n",
      "age                           0\n",
      "sex                           0\n",
      "slos                          0\n",
      "num.co                        0\n",
      "edu                           0\n",
      "income                        0\n",
      "scoma                         0\n",
      "charges                       0\n",
      "totcst                        0\n",
      "avtisst                       0\n",
      "hday                          0\n",
      "diabetes                      0\n",
      "dementia                      0\n",
      "meanbp                        0\n",
      "wblc                          0\n",
      "hrt                           0\n",
      "resp                          0\n",
      "temp                          0\n",
      "pafi                          0\n",
      "alb                           0\n",
      "bili                          0\n",
      "crea                          0\n",
      "sod                           0\n",
      "ph                            0\n",
      "glucose                       0\n",
      "bun                           0\n",
      "urine                         0\n",
      "adlp                          0\n",
      "adls                          0\n",
      "adlsc                         0\n",
      "dzgroup_ARF/MOSF w/Sepsis     0\n",
      "dzgroup_CHF                   0\n",
      "dzgroup_COPD                  0\n",
      "dzgroup_Cirrhosis             0\n",
      "dzgroup_Colon Cancer          0\n",
      "dzgroup_Coma                  0\n",
      "dzgroup_Lung Cancer           0\n",
      "dzgroup_MOSF w/Malig          0\n",
      "dzclass_ARF/MOSF              0\n",
      "dzclass_COPD/CHF/Cirrhosis    0\n",
      "dzclass_Cancer                0\n",
      "dzclass_Coma                  0\n",
      "race_asian                    0\n",
      "race_black                    0\n",
      "race_hispanic                 0\n",
      "race_other                    0\n",
      "race_white                    0\n",
      "ca_metastatic                 0\n",
      "ca_no                         0\n",
      "ca_yes                        0\n",
      "sfdm2_2 mo. follow-up         0\n",
      "sfdm2_Coma or Intub           0\n",
      "sfdm2_SIP30                   0\n",
      "sfdm2_adl4 (5 if sur)         0\n",
      "sfdm2_no(M2 and SIP pres)     0\n",
      "event                         0\n",
      "time                          0\n",
      "dtype: int64\n"
     ]
    }
   ],
   "source": [
    "for _ in datasets.keys():\n",
    "    print(_ , \":\", datasets[_].dataframe.to_numpy().shape)\n",
    "    print(datasets[_].dataframe.isna().sum())"
   ]
  },
  {
   "cell_type": "code",
   "execution_count": null,
   "id": "30d336b5-ac7d-41ec-bb23-0b25619f0712",
   "metadata": {},
   "outputs": [],
   "source": []
  }
 ],
 "metadata": {
  "kernelspec": {
   "display_name": "Python 3 (ipykernel)",
   "language": "python",
   "name": "python3"
  },
  "language_info": {
   "codemirror_mode": {
    "name": "ipython",
    "version": 3
   },
   "file_extension": ".py",
   "mimetype": "text/x-python",
   "name": "python",
   "nbconvert_exporter": "python",
   "pygments_lexer": "ipython3",
   "version": "3.10.9"
  }
 },
 "nbformat": 4,
 "nbformat_minor": 5
}
