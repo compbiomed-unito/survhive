{
 "cells": [
  {
   "cell_type": "code",
   "execution_count": 1,
   "id": "bceb5f87-47b6-486f-9a18-de625e889af3",
   "metadata": {},
   "outputs": [],
   "source": [
    "import survwrap as tosa\n",
    "import numpy as np"
   ]
  },
  {
   "cell_type": "code",
   "execution_count": 2,
   "id": "b1bc018e-4438-49e8-8a78-435c7068f1b2",
   "metadata": {},
   "outputs": [],
   "source": [
    "test_X, test_y = tosa.load_test_data()"
   ]
  },
  {
   "cell_type": "code",
   "execution_count": 3,
   "id": "0f410634-fa7a-4e0f-b583-e91d711feacd",
   "metadata": {
    "scrolled": true
   },
   "outputs": [
    {
     "data": {
      "text/plain": [
       "((198, 84), (198,))"
      ]
     },
     "execution_count": 3,
     "metadata": {},
     "output_type": "execute_result"
    }
   ],
   "source": [
    "test_X.shape, test_y.shape"
   ]
  },
  {
   "cell_type": "markdown",
   "id": "193fe53a-7d50-461e-9700-9912ba9b6c50",
   "metadata": {},
   "source": [
    "## Wrapper per DSM"
   ]
  },
  {
   "cell_type": "code",
   "execution_count": 60,
   "id": "d579f536-e797-4a6c-9aa0-8201af9ce0ad",
   "metadata": {},
   "outputs": [],
   "source": [
    "from dataclasses import dataclass, field\n",
    "from collections.abc import Sequence # abc: Abstract Base Class\n",
    "from survwrap import SurvivalEstimator\n",
    "import numpy as np\n",
    "from sklearn.utils import check_X_y, check_array\n",
    "from sksurv.metrics import concordance_index_censored\n",
    "\n",
    "#from tosa import SurvivalEstimator\n",
    "\n",
    "@dataclass\n",
    "class DeepSurvivalMachines(SurvivalEstimator):\n",
    "    import numpy as np\n",
    "    \n",
    "    n_distr: int = 2\n",
    "    distr_kind: str = 'Weibull'\n",
    "    batch_size: int = 10\n",
    "    layer_sizes: Sequence[int] = field(default_factory= lambda: [10,10]) #haskellismo da farsi spiegare\n",
    "    learning_rate: float = 0.001\n",
    "    validation_size: float = 0.1\n",
    "    max_epochs: int = 10\n",
    "    elbo: bool = False # what is this?\n",
    "    \n",
    "    def fit(self, X, y):\n",
    "        from auton_survival.models.dsm import DeepSurvivalMachines\n",
    "\n",
    "        check_X_y(X,y)\n",
    "        self.median_time_ = np.median(X)\n",
    "        self.model_ = DeepSurvivalMachines(\n",
    "            k=self.n_distr,\n",
    "            distribution=self.distr_kind,\n",
    "            layers=self.layer_sizes,\n",
    "        ).fit(\n",
    "            X, tosa.get_time(y), tosa.get_indicator(y),\n",
    "            learning_rate=self.learning_rate,\n",
    "            vsize = self.validation_size,\n",
    "            batch_size = self.batch_size,\n",
    "            iters = self.max_epochs, # this should be the maximum number of epochs\n",
    "            elbo = self.elbo,\n",
    "        )\n",
    "        return self\n",
    "        \n",
    "\n",
    "    def predict(self, X, eval_times=None):\n",
    "        \"\"\"predict probabilites of event up to given times for each event\"\"\"\n",
    "        #global dbg\n",
    "        #dbg = self.model_, X, eval_times, numpy.swapaxes([self.model_.predict_risk(X, t)[:, 0] for t in eval_times], 0, 1)\n",
    "        check_array(X)\n",
    "        if eval_times is None: self.single_event = True \n",
    "        eval_times = [self.median_time_] if self.single_event else eval_times \n",
    "        #print(self.median_time_, eval_times)\n",
    "        _preds = np.swapaxes([self.model_.predict_risk(X, t)[:, 0] for t in eval_times], 0, 1)\n",
    "        return _preds.flatten() if self.single_event else _preds\n",
    "    #return numpy.nan_to_num(numpy.swapaxes([self.model_.predict_risk(X, t)[:, 0] fo\n",
    "        #return numpy.nan_to_num(numpy.swapaxes([self.model_.predict_risk(X, t)[:, 0] for t in eval_times], 0, 1), nan=0.5, posinf=1, neginf=0)\n",
    "\n",
    "    def harrell_score(self, y_true, y_pred, *args, **kwargs):\n",
    "        \"return Harrell's C-index for a prediction\"\n",
    "\n",
    "        return concordance_index_censored(\n",
    "            event_indicator=y_true[y_true.dtype.names[0]],\n",
    "            event_time=tosa.get_time(y_true),\n",
    "            estimate=y_pred,\n",
    "            *args,\n",
    "            **kwargs,\n",
    "        )\n",
    "\n",
    "    def score(self, X, y): \n",
    "        \"return the Harrell's c-index as a sklearn score\"\n",
    "        X, y = check_X_y(X, y)\n",
    "        return self.harrell_score(y, self.predict(X))[0]\n",
    "\n",
    "    \n",
    "        "
   ]
  },
  {
   "cell_type": "code",
   "execution_count": 77,
   "id": "4be708e2-0eef-4f82-aa73-6d8677d5e935",
   "metadata": {},
   "outputs": [
    {
     "name": "stderr",
     "output_type": "stream",
     "text": [
      " 41%|████████████████████▉                              | 4098/10000 [00:03<00:04, 1194.35it/s]\n",
      " 15%|████████▊                                                  | 3/20 [00:00<00:01, 10.25it/s]\n"
     ]
    }
   ],
   "source": [
    "dsm_model = DeepSurvivalMachines(rng_seed=2307, max_epochs=20, layer_sizes=[10,10,10]).fit(test_X, test_y)\n",
    "dsm_pred = dsm_model.predict(test_X)"
   ]
  },
  {
   "cell_type": "code",
   "execution_count": 78,
   "id": "d551d434-aad0-44fd-8b79-35444703305e",
   "metadata": {},
   "outputs": [
    {
     "data": {
      "text/plain": [
       "((198,),\n",
       " array([0.00294256, 0.0027127 , 0.00260665, 0.00255611, 0.00264647,\n",
       "        0.00257948, 0.00298992, 0.00257948, 0.00257948, 0.00262632]))"
      ]
     },
     "execution_count": 78,
     "metadata": {},
     "output_type": "execute_result"
    }
   ],
   "source": [
    "dsm_pred.shape, dsm_pred[:10]"
   ]
  },
  {
   "cell_type": "code",
   "execution_count": 79,
   "id": "a535f3d1-e88e-469a-837d-ecd5ee1689b8",
   "metadata": {},
   "outputs": [
    {
     "data": {
      "text/plain": [
       "((0.6256785759373816, 4273, 2282, 1366, 0), 0.6256785759373816)"
      ]
     },
     "execution_count": 79,
     "metadata": {},
     "output_type": "execute_result"
    }
   ],
   "source": [
    "dsm_model.harrell_score(test_y, dsm_pred), dsm_model.score(test_X, test_y)"
   ]
  },
  {
   "cell_type": "markdown",
   "id": "97cdba49-71cc-4a18-a75b-4df13e3a971b",
   "metadata": {},
   "source": [
    "## Wrapped DSM CV test"
   ]
  },
  {
   "cell_type": "code",
   "execution_count": 43,
   "id": "2d01c6b6-536c-453a-82e5-1e1e2f13fc17",
   "metadata": {},
   "outputs": [],
   "source": [
    "from sklearn.model_selection import cross_val_score"
   ]
  },
  {
   "cell_type": "code",
   "execution_count": 80,
   "id": "ef6cadd0-e047-49e6-929f-1fe0c40228a1",
   "metadata": {},
   "outputs": [
    {
     "name": "stderr",
     "output_type": "stream",
     "text": [
      " 48%|████████████████████████▋                          | 4830/10000 [00:03<00:04, 1209.53it/s]\n",
      "100%|██████████████████████████████████████████████████████████| 20/20 [00:00<00:00, 37.28it/s]\n",
      " 45%|███████████████████████                            | 4517/10000 [00:03<00:04, 1221.31it/s]\n",
      " 20%|███████████▊                                               | 4/20 [00:00<00:01, 13.18it/s]\n",
      " 35%|█████████████████▉                                 | 3518/10000 [00:02<00:05, 1219.41it/s]\n",
      "100%|██████████████████████████████████████████████████████████| 20/20 [00:00<00:00, 36.17it/s]\n",
      " 38%|███████████████████▌                               | 3845/10000 [00:03<00:05, 1222.46it/s]\n",
      " 75%|███████████████████████████████████████████▌              | 15/20 [00:00<00:00, 24.58it/s]\n",
      " 33%|████████████████▊                                  | 3293/10000 [00:02<00:05, 1223.55it/s]\n",
      " 15%|████████▊                                                  | 3/20 [00:00<00:01, 11.35it/s]\n"
     ]
    }
   ],
   "source": [
    "cv_score = cross_val_score(dsm_model, test_X, test_y, cv=5)"
   ]
  },
  {
   "cell_type": "code",
   "execution_count": 81,
   "id": "8221b629-03c2-4561-a623-d904e88f4f0e",
   "metadata": {},
   "outputs": [
    {
     "name": "stdout",
     "output_type": "stream",
     "text": [
      "0.549  ±  0.124\n"
     ]
    },
    {
     "data": {
      "text/plain": [
       "array([0.60135135, 0.68108108, 0.56914894, 0.57983193, 0.31428571])"
      ]
     },
     "execution_count": 81,
     "metadata": {},
     "output_type": "execute_result"
    }
   ],
   "source": [
    "print(cv_score.mean().round(3), \" ± \", cv_score.std().round(3))\n",
    "cv_score"
   ]
  },
  {
   "cell_type": "code",
   "execution_count": null,
   "id": "afb071d7-7d63-46bf-b52a-c2d34bcf556b",
   "metadata": {},
   "outputs": [],
   "source": [
    "# plussminus : unicode 00b1"
   ]
  }
 ],
 "metadata": {
  "kernelspec": {
   "display_name": "Python 3 (ipykernel)",
   "language": "python",
   "name": "python3"
  },
  "language_info": {
   "codemirror_mode": {
    "name": "ipython",
    "version": 3
   },
   "file_extension": ".py",
   "mimetype": "text/x-python",
   "name": "python",
   "nbconvert_exporter": "python",
   "pygments_lexer": "ipython3",
   "version": "3.10.9"
  }
 },
 "nbformat": 4,
 "nbformat_minor": 5
}
