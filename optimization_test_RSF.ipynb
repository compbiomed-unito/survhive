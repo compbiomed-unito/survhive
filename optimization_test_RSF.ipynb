{
 "cells": [
  {
   "cell_type": "markdown",
   "id": "d0d5ccd9-853f-4e52-b3c4-696e7212e5a0",
   "metadata": {},
   "source": [
    "# Testing optimization by random search"
   ]
  },
  {
   "cell_type": "code",
   "execution_count": 1,
   "id": "387d1412",
   "metadata": {},
   "outputs": [],
   "source": [
    "import numpy"
   ]
  },
  {
   "cell_type": "code",
   "execution_count": 2,
   "id": "c4083da7",
   "metadata": {},
   "outputs": [],
   "source": [
    "import sklearn"
   ]
  },
  {
   "cell_type": "code",
   "execution_count": 3,
   "id": "5f7d6271",
   "metadata": {},
   "outputs": [],
   "source": [
    "import survhive"
   ]
  },
  {
   "cell_type": "code",
   "execution_count": 4,
   "id": "210bf36c",
   "metadata": {},
   "outputs": [
    {
     "data": {
      "text/plain": [
       "((198, 84), (198,))"
      ]
     },
     "execution_count": 4,
     "metadata": {},
     "output_type": "execute_result"
    }
   ],
   "source": [
    "X, y = survhive.load_test_data()\n",
    "X.shape, y.shape"
   ]
  },
  {
   "cell_type": "markdown",
   "id": "40fbcb80-0388-4f46-ba3a-29c3f9ee5bee",
   "metadata": {},
   "source": [
    "### Generate a (stratified) train-test split and Scale the features (only) "
   ]
  },
  {
   "cell_type": "markdown",
   "id": "b35f553a-ae5b-476e-bb42-ec48efe8ab89",
   "metadata": {},
   "source": [
    "First do the stratified splitting THEN do scaling, parameterized on X_train set ONLY "
   ]
  },
  {
   "cell_type": "code",
   "execution_count": 5,
   "id": "75714389-2def-4259-8052-bcf7977a2c56",
   "metadata": {},
   "outputs": [],
   "source": [
    "from sklearn.preprocessing import StandardScaler, RobustScaler"
   ]
  },
  {
   "cell_type": "code",
   "execution_count": 6,
   "id": "bd02c821-86c7-4515-986b-07e769f9581b",
   "metadata": {},
   "outputs": [],
   "source": [
    "X_train, X_test, y_train, y_test = survhive.survival_train_test_split(X, y,rng_seed=2309)"
   ]
  },
  {
   "cell_type": "code",
   "execution_count": 7,
   "id": "261585e2-6d7a-4dc8-9861-da0aee20e7c7",
   "metadata": {},
   "outputs": [
    {
     "data": {
      "text/plain": [
       "((148, 84), (50, 84))"
      ]
     },
     "execution_count": 7,
     "metadata": {},
     "output_type": "execute_result"
    }
   ],
   "source": [
    "scaler = StandardScaler().fit(X_train)\n",
    "[X_train, X_test] = [ scaler.transform(_) for _ in  [X_train, X_test] ]\n",
    "X_train.shape, X_test.shape"
   ]
  },
  {
   "cell_type": "code",
   "execution_count": 8,
   "id": "5f89b6c2",
   "metadata": {},
   "outputs": [],
   "source": [
    "#X_train, X_test, y_train, y_test = sklearn.model_selection.train_test_split(X, y)"
   ]
  },
  {
   "cell_type": "markdown",
   "id": "3523fc60-5251-4640-ab08-b4288c7a65b4",
   "metadata": {},
   "source": [
    "balanced partitioning OK. Robst scaler damages the performance of DSM A LOT.\n",
    "maybe did something wrong. It is standard scaler for now."
   ]
  },
  {
   "cell_type": "code",
   "execution_count": 9,
   "id": "449b6bde-498c-437f-8170-e86f34aafc9e",
   "metadata": {},
   "outputs": [
    {
     "data": {
      "text/plain": [
       "(51, 38, 13)"
      ]
     },
     "execution_count": 9,
     "metadata": {},
     "output_type": "execute_result"
    }
   ],
   "source": [
    "survhive.get_indicator(y).sum(), survhive.get_indicator(y_train).sum(), survhive.get_indicator(y_test).sum(),\n"
   ]
  },
  {
   "cell_type": "code",
   "execution_count": 10,
   "id": "62b452cd-4763-4f78-800f-3e8c78ec3bb7",
   "metadata": {
    "scrolled": true
   },
   "outputs": [
    {
     "name": "stdout",
     "output_type": "stream",
     "text": [
      "[13, 12, 13, 13, 12, 13]\n"
     ]
    }
   ],
   "source": [
    "splitter = survhive.survival_crossval_splitter(X_train,y_train,n_splits=3, n_repeats=2,rng_seed=2309)\n",
    "print([ (survhive.get_indicator(y_train[_[1]]).sum()) for _ in splitter])"
   ]
  },
  {
   "cell_type": "markdown",
   "id": "18343e1d-30ec-42b0-be0e-ac85df1298d9",
   "metadata": {},
   "source": [
    "## check possible dimensionality reduction"
   ]
  },
  {
   "cell_type": "code",
   "execution_count": 11,
   "id": "fde3a10a-379c-42b8-8070-485e7c4326bb",
   "metadata": {},
   "outputs": [],
   "source": [
    "from sklearn.decomposition import PCA"
   ]
  },
  {
   "cell_type": "code",
   "execution_count": 12,
   "id": "1ad7a35b-9295-40f8-a9c4-a02ca8cf83c8",
   "metadata": {},
   "outputs": [
    {
     "data": {
      "text/plain": [
       "74"
      ]
     },
     "execution_count": 12,
     "metadata": {},
     "output_type": "execute_result"
    }
   ],
   "source": [
    "pca= PCA(n_components=0.995, random_state=2308).fit(X_train)\n",
    "pca.n_components_"
   ]
  },
  {
   "cell_type": "markdown",
   "id": "afc3f2d1-45e8-42cc-9763-69836b1aaa71",
   "metadata": {},
   "source": [
    "Only a modest dimensionality reduction is possible using PCA"
   ]
  },
  {
   "cell_type": "code",
   "execution_count": 13,
   "id": "dd7a81c3-ced7-48df-8eba-cacb1e814bbd",
   "metadata": {},
   "outputs": [],
   "source": [
    "## Stratified CV spliter for survival analysis"
   ]
  },
  {
   "cell_type": "code",
   "execution_count": 14,
   "id": "e63ce8de-3339-4d4f-9df3-d11c8e61feba",
   "metadata": {},
   "outputs": [],
   "source": [
    "from sklearn.model_selection import RepeatedStratifiedKFold, StratifiedKFold"
   ]
  },
  {
   "cell_type": "markdown",
   "id": "8c36a230",
   "metadata": {},
   "source": [
    "# test coxnet"
   ]
  },
  {
   "cell_type": "code",
   "execution_count": 15,
   "id": "9aafa692-2cba-4a47-b376-04742eae3b67",
   "metadata": {},
   "outputs": [
    {
     "data": {
      "text/html": [
       "<style>#sk-container-id-1 {color: black;background-color: white;}#sk-container-id-1 pre{padding: 0;}#sk-container-id-1 div.sk-toggleable {background-color: white;}#sk-container-id-1 label.sk-toggleable__label {cursor: pointer;display: block;width: 100%;margin-bottom: 0;padding: 0.3em;box-sizing: border-box;text-align: center;}#sk-container-id-1 label.sk-toggleable__label-arrow:before {content: \"▸\";float: left;margin-right: 0.25em;color: #696969;}#sk-container-id-1 label.sk-toggleable__label-arrow:hover:before {color: black;}#sk-container-id-1 div.sk-estimator:hover label.sk-toggleable__label-arrow:before {color: black;}#sk-container-id-1 div.sk-toggleable__content {max-height: 0;max-width: 0;overflow: hidden;text-align: left;background-color: #f0f8ff;}#sk-container-id-1 div.sk-toggleable__content pre {margin: 0.2em;color: black;border-radius: 0.25em;background-color: #f0f8ff;}#sk-container-id-1 input.sk-toggleable__control:checked~div.sk-toggleable__content {max-height: 200px;max-width: 100%;overflow: auto;}#sk-container-id-1 input.sk-toggleable__control:checked~label.sk-toggleable__label-arrow:before {content: \"▾\";}#sk-container-id-1 div.sk-estimator input.sk-toggleable__control:checked~label.sk-toggleable__label {background-color: #d4ebff;}#sk-container-id-1 div.sk-label input.sk-toggleable__control:checked~label.sk-toggleable__label {background-color: #d4ebff;}#sk-container-id-1 input.sk-hidden--visually {border: 0;clip: rect(1px 1px 1px 1px);clip: rect(1px, 1px, 1px, 1px);height: 1px;margin: -1px;overflow: hidden;padding: 0;position: absolute;width: 1px;}#sk-container-id-1 div.sk-estimator {font-family: monospace;background-color: #f0f8ff;border: 1px dotted black;border-radius: 0.25em;box-sizing: border-box;margin-bottom: 0.5em;}#sk-container-id-1 div.sk-estimator:hover {background-color: #d4ebff;}#sk-container-id-1 div.sk-parallel-item::after {content: \"\";width: 100%;border-bottom: 1px solid gray;flex-grow: 1;}#sk-container-id-1 div.sk-label:hover label.sk-toggleable__label {background-color: #d4ebff;}#sk-container-id-1 div.sk-serial::before {content: \"\";position: absolute;border-left: 1px solid gray;box-sizing: border-box;top: 0;bottom: 0;left: 50%;z-index: 0;}#sk-container-id-1 div.sk-serial {display: flex;flex-direction: column;align-items: center;background-color: white;padding-right: 0.2em;padding-left: 0.2em;position: relative;}#sk-container-id-1 div.sk-item {position: relative;z-index: 1;}#sk-container-id-1 div.sk-parallel {display: flex;align-items: stretch;justify-content: center;background-color: white;position: relative;}#sk-container-id-1 div.sk-item::before, #sk-container-id-1 div.sk-parallel-item::before {content: \"\";position: absolute;border-left: 1px solid gray;box-sizing: border-box;top: 0;bottom: 0;left: 50%;z-index: -1;}#sk-container-id-1 div.sk-parallel-item {display: flex;flex-direction: column;z-index: 1;position: relative;background-color: white;}#sk-container-id-1 div.sk-parallel-item:first-child::after {align-self: flex-end;width: 50%;}#sk-container-id-1 div.sk-parallel-item:last-child::after {align-self: flex-start;width: 50%;}#sk-container-id-1 div.sk-parallel-item:only-child::after {width: 0;}#sk-container-id-1 div.sk-dashed-wrapped {border: 1px dashed gray;margin: 0 0.4em 0.5em 0.4em;box-sizing: border-box;padding-bottom: 0.4em;background-color: white;}#sk-container-id-1 div.sk-label label {font-family: monospace;font-weight: bold;display: inline-block;line-height: 1.2em;}#sk-container-id-1 div.sk-label-container {text-align: center;}#sk-container-id-1 div.sk-container {/* jupyter's `normalize.less` sets `[hidden] { display: none; }` but bootstrap.min.css set `[hidden] { display: none !important; }` so we also need the `!important` here to be able to override the default hidden behavior on the sphinx rendered scikit-learn.org. See: https://github.com/scikit-learn/scikit-learn/issues/21755 */display: inline-block !important;position: relative;}#sk-container-id-1 div.sk-text-repr-fallback {display: none;}</style><div id=\"sk-container-id-1\" class=\"sk-top-container\"><div class=\"sk-text-repr-fallback\"><pre>CoxNet(rng_seed=2309, l1_ratio=0.5, fit_baseline_model=False)</pre><b>In a Jupyter environment, please rerun this cell to show the HTML representation or trust the notebook. <br />On GitHub, the HTML representation is unable to render, please try loading this page with nbviewer.org.</b></div><div class=\"sk-container\" hidden><div class=\"sk-item\"><div class=\"sk-estimator sk-toggleable\"><input class=\"sk-toggleable__control sk-hidden--visually\" id=\"sk-estimator-id-1\" type=\"checkbox\" checked><label for=\"sk-estimator-id-1\" class=\"sk-toggleable__label sk-toggleable__label-arrow\">CoxNet</label><div class=\"sk-toggleable__content\"><pre>CoxNet(rng_seed=2309, l1_ratio=0.5, fit_baseline_model=False)</pre></div></div></div></div></div>"
      ],
      "text/plain": [
       "CoxNet(rng_seed=2309, l1_ratio=0.5, fit_baseline_model=False)"
      ]
     },
     "execution_count": 15,
     "metadata": {},
     "output_type": "execute_result"
    }
   ],
   "source": [
    "coxnet = survhive.CoxNet(rng_seed=2309)\n",
    "coxnet.fit(X_train, y_train)"
   ]
  },
  {
   "cell_type": "code",
   "execution_count": 16,
   "id": "9a0e80b7",
   "metadata": {},
   "outputs": [
    {
     "data": {
      "text/plain": [
       "0.5775193798449613"
      ]
     },
     "execution_count": 16,
     "metadata": {},
     "output_type": "execute_result"
    }
   ],
   "source": [
    "coxnet.score(X_test, y_test)"
   ]
  },
  {
   "cell_type": "code",
   "execution_count": 17,
   "id": "f894a2c8",
   "metadata": {
    "jupyter": {
     "source_hidden": true
    }
   },
   "outputs": [],
   "source": [
    "#from sklearn.model_selection import GridSearchCV, RandomizedSearchCV"
   ]
  },
  {
   "cell_type": "code",
   "execution_count": 18,
   "id": "941e3f4c-80cd-47ef-b9bb-b7341da0af2b",
   "metadata": {},
   "outputs": [
    {
     "data": {
      "text/plain": [
       "1"
      ]
     },
     "execution_count": 18,
     "metadata": {},
     "output_type": "execute_result"
    }
   ],
   "source": [
    "survhive.optimization._guess_tries(survhive.CoxNet.get_parameter_grid())"
   ]
  },
  {
   "cell_type": "code",
   "execution_count": 19,
   "id": "946d79e0-0f7c-44c6-893c-8b5ea52c5a57",
   "metadata": {},
   "outputs": [
    {
     "data": {
      "text/plain": [
       "{'l1_ratio': [0.01, 0.1, 0.25, 0.5, 0.75, 0.9, 0.99]}"
      ]
     },
     "execution_count": 19,
     "metadata": {},
     "output_type": "execute_result"
    }
   ],
   "source": [
    "survhive.CoxNet().get_parameter_grid()"
   ]
  },
  {
   "cell_type": "code",
   "execution_count": 20,
   "id": "29f6d229-c0b2-43b6-91e1-b619081df7f7",
   "metadata": {},
   "outputs": [],
   "source": [
    "from survhive import optimize"
   ]
  },
  {
   "cell_type": "code",
   "execution_count": 21,
   "id": "5b77922c-5d15-4aca-a395-f88ce3f68ad3",
   "metadata": {},
   "outputs": [
    {
     "name": "stdout",
     "output_type": "stream",
     "text": [
      "Random search tries: 1\n"
     ]
    },
    {
     "data": {
      "text/plain": [
       "(0.5910852713178295, {'l1_ratio': 0.99})"
      ]
     },
     "execution_count": 21,
     "metadata": {},
     "output_type": "execute_result"
    }
   ],
   "source": [
    "opt_coxnet, opt_coxnet_params, opt_coxnet_search = optimize(survhive.CoxNet(rng_seed=2309), X_train, y_train, mode='sklearn-random')\n",
    "opt_coxnet.score(X_test, y_test), opt_coxnet_params"
   ]
  },
  {
   "cell_type": "code",
   "execution_count": 22,
   "id": "7fa3fb2d-c06d-4b22-8583-50fb08b86444",
   "metadata": {},
   "outputs": [
    {
     "data": {
      "text/plain": [
       "(0.5949612403100775, {'l1_ratio': 0.01})"
      ]
     },
     "execution_count": 22,
     "metadata": {},
     "output_type": "execute_result"
    }
   ],
   "source": [
    "opt_coxnet, opt_coxnet_params, opt_coxnet_search = optimize(survhive.CoxNet(rng_seed=2309), X_train, y_train)\n",
    "opt_coxnet.score(X_test, y_test), opt_coxnet_params"
   ]
  },
  {
   "cell_type": "code",
   "execution_count": 23,
   "id": "177ee806-9966-4596-b49f-8d82bc729865",
   "metadata": {},
   "outputs": [],
   "source": [
    "def test_model(model_constructor, **model_params):\n",
    "    m = model_constructor(**model_params)\n",
    "    m.fit(X_train, y_train)\n",
    "    o = m.score(X_train, y_train)\n",
    "    s = m.score(X_test, y_test)\n",
    "    print(f'Train: {o: .4f} , Test: {s:.4f}')\n",
    "    return s"
   ]
  },
  {
   "cell_type": "markdown",
   "id": "03040b24-90a4-4b9e-9325-bbc3c41c55cb",
   "metadata": {},
   "source": [
    "## Test RSF"
   ]
  },
  {
   "cell_type": "code",
   "execution_count": 24,
   "id": "301beb87-b5b7-4619-a05a-ffb0650ff3a8",
   "metadata": {},
   "outputs": [
    {
     "data": {
      "text/html": [
       "<style>#sk-container-id-2 {color: black;background-color: white;}#sk-container-id-2 pre{padding: 0;}#sk-container-id-2 div.sk-toggleable {background-color: white;}#sk-container-id-2 label.sk-toggleable__label {cursor: pointer;display: block;width: 100%;margin-bottom: 0;padding: 0.3em;box-sizing: border-box;text-align: center;}#sk-container-id-2 label.sk-toggleable__label-arrow:before {content: \"▸\";float: left;margin-right: 0.25em;color: #696969;}#sk-container-id-2 label.sk-toggleable__label-arrow:hover:before {color: black;}#sk-container-id-2 div.sk-estimator:hover label.sk-toggleable__label-arrow:before {color: black;}#sk-container-id-2 div.sk-toggleable__content {max-height: 0;max-width: 0;overflow: hidden;text-align: left;background-color: #f0f8ff;}#sk-container-id-2 div.sk-toggleable__content pre {margin: 0.2em;color: black;border-radius: 0.25em;background-color: #f0f8ff;}#sk-container-id-2 input.sk-toggleable__control:checked~div.sk-toggleable__content {max-height: 200px;max-width: 100%;overflow: auto;}#sk-container-id-2 input.sk-toggleable__control:checked~label.sk-toggleable__label-arrow:before {content: \"▾\";}#sk-container-id-2 div.sk-estimator input.sk-toggleable__control:checked~label.sk-toggleable__label {background-color: #d4ebff;}#sk-container-id-2 div.sk-label input.sk-toggleable__control:checked~label.sk-toggleable__label {background-color: #d4ebff;}#sk-container-id-2 input.sk-hidden--visually {border: 0;clip: rect(1px 1px 1px 1px);clip: rect(1px, 1px, 1px, 1px);height: 1px;margin: -1px;overflow: hidden;padding: 0;position: absolute;width: 1px;}#sk-container-id-2 div.sk-estimator {font-family: monospace;background-color: #f0f8ff;border: 1px dotted black;border-radius: 0.25em;box-sizing: border-box;margin-bottom: 0.5em;}#sk-container-id-2 div.sk-estimator:hover {background-color: #d4ebff;}#sk-container-id-2 div.sk-parallel-item::after {content: \"\";width: 100%;border-bottom: 1px solid gray;flex-grow: 1;}#sk-container-id-2 div.sk-label:hover label.sk-toggleable__label {background-color: #d4ebff;}#sk-container-id-2 div.sk-serial::before {content: \"\";position: absolute;border-left: 1px solid gray;box-sizing: border-box;top: 0;bottom: 0;left: 50%;z-index: 0;}#sk-container-id-2 div.sk-serial {display: flex;flex-direction: column;align-items: center;background-color: white;padding-right: 0.2em;padding-left: 0.2em;position: relative;}#sk-container-id-2 div.sk-item {position: relative;z-index: 1;}#sk-container-id-2 div.sk-parallel {display: flex;align-items: stretch;justify-content: center;background-color: white;position: relative;}#sk-container-id-2 div.sk-item::before, #sk-container-id-2 div.sk-parallel-item::before {content: \"\";position: absolute;border-left: 1px solid gray;box-sizing: border-box;top: 0;bottom: 0;left: 50%;z-index: -1;}#sk-container-id-2 div.sk-parallel-item {display: flex;flex-direction: column;z-index: 1;position: relative;background-color: white;}#sk-container-id-2 div.sk-parallel-item:first-child::after {align-self: flex-end;width: 50%;}#sk-container-id-2 div.sk-parallel-item:last-child::after {align-self: flex-start;width: 50%;}#sk-container-id-2 div.sk-parallel-item:only-child::after {width: 0;}#sk-container-id-2 div.sk-dashed-wrapped {border: 1px dashed gray;margin: 0 0.4em 0.5em 0.4em;box-sizing: border-box;padding-bottom: 0.4em;background-color: white;}#sk-container-id-2 div.sk-label label {font-family: monospace;font-weight: bold;display: inline-block;line-height: 1.2em;}#sk-container-id-2 div.sk-label-container {text-align: center;}#sk-container-id-2 div.sk-container {/* jupyter's `normalize.less` sets `[hidden] { display: none; }` but bootstrap.min.css set `[hidden] { display: none !important; }` so we also need the `!important` here to be able to override the default hidden behavior on the sphinx rendered scikit-learn.org. See: https://github.com/scikit-learn/scikit-learn/issues/21755 */display: inline-block !important;position: relative;}#sk-container-id-2 div.sk-text-repr-fallback {display: none;}</style><div id=\"sk-container-id-2\" class=\"sk-top-container\"><div class=\"sk-text-repr-fallback\"><pre>RSF(rng_seed=2309, n_estimators=100, max_depth=None, min_samples_split=0.1, min_samples_leaf=0.05)</pre><b>In a Jupyter environment, please rerun this cell to show the HTML representation or trust the notebook. <br />On GitHub, the HTML representation is unable to render, please try loading this page with nbviewer.org.</b></div><div class=\"sk-container\" hidden><div class=\"sk-item\"><div class=\"sk-estimator sk-toggleable\"><input class=\"sk-toggleable__control sk-hidden--visually\" id=\"sk-estimator-id-2\" type=\"checkbox\" checked><label for=\"sk-estimator-id-2\" class=\"sk-toggleable__label sk-toggleable__label-arrow\">RSF</label><div class=\"sk-toggleable__content\"><pre>RSF(rng_seed=2309, n_estimators=100, max_depth=None, min_samples_split=0.1, min_samples_leaf=0.05)</pre></div></div></div></div></div>"
      ],
      "text/plain": [
       "RSF(rng_seed=2309, n_estimators=100, max_depth=None, min_samples_split=0.1, min_samples_leaf=0.05)"
      ]
     },
     "execution_count": 24,
     "metadata": {},
     "output_type": "execute_result"
    }
   ],
   "source": [
    "rsf=survhive.RSF(rng_seed=2309)\n",
    "rsf"
   ]
  },
  {
   "cell_type": "code",
   "execution_count": 25,
   "id": "65fcadf5-5da4-45c0-afb6-fa6ffeb8e3d7",
   "metadata": {},
   "outputs": [
    {
     "data": {
      "text/plain": [
       "0.6802325581395349"
      ]
     },
     "execution_count": 25,
     "metadata": {},
     "output_type": "execute_result"
    }
   ],
   "source": [
    "rsf.fit(X_train,y_train)\n",
    "rsf.score(X_test,y_test)"
   ]
  },
  {
   "cell_type": "code",
   "execution_count": 26,
   "id": "47ef3f41-cd0b-4ee5-8e7a-efc1e084819a",
   "metadata": {},
   "outputs": [
    {
     "data": {
      "text/plain": [
       "{'n_estimators': [50, 100, 200, 300],\n",
       " 'max_depth': [None],\n",
       " 'min_samples_split': [0.1, 0.05],\n",
       " 'min_samples_leaf': [0.05, 0.02]}"
      ]
     },
     "execution_count": 26,
     "metadata": {},
     "output_type": "execute_result"
    }
   ],
   "source": [
    "rsf_grid = rsf.get_parameter_grid()\n",
    "rsf_grid['n_estimators']=[50,100,200,300]\n",
    "rsf_grid['min_samples_split']=[0.1, 0.05]\n",
    "rsf_grid['min_samples_leaf']=[0.05, 0.02]\n",
    "rsf_grid"
   ]
  },
  {
   "cell_type": "code",
   "execution_count": 27,
   "id": "4f32b24d-9a95-4861-9ad2-a5a521d7bacf",
   "metadata": {},
   "outputs": [
    {
     "data": {
      "text/plain": [
       "(0.9515011547344111,\n",
       " 0.6821705426356589,\n",
       " {'max_depth': None,\n",
       "  'min_samples_leaf': 0.05,\n",
       "  'min_samples_split': 0.1,\n",
       "  'n_estimators': 200})"
      ]
     },
     "execution_count": 27,
     "metadata": {},
     "output_type": "execute_result"
    }
   ],
   "source": [
    "opt_rsf, opt_rsf_params, opt_rsf_search = optimize(survhive.RSF(rng_seed=2309), X_train, y_train, user_grid=rsf_grid, n_jobs=4)\n",
    "#opt_rsf, opt_rsf_params, opt_rsf_search = optimize(survhive.RSF(rng_seed=2309), X_train, y_train, n_jobs=4)\n",
    "opt_rsf.score(X_train, y_train), opt_rsf.score(X_test, y_test), opt_rsf_params"
   ]
  },
  {
   "cell_type": "code",
   "execution_count": 30,
   "id": "6a85e021-7fa4-4b19-90a9-faf24bed2133",
   "metadata": {
    "scrolled": true
   },
   "outputs": [
    {
     "data": {
      "text/plain": [
       "[(1,\n",
       "  0.6862727228138205,\n",
       "  0.10179857980253813,\n",
       "  {'max_depth': None,\n",
       "   'min_samples_leaf': 0.05,\n",
       "   'min_samples_split': 0.1,\n",
       "   'n_estimators': 200}),\n",
       " (1,\n",
       "  0.6862727228138205,\n",
       "  0.10179857980253813,\n",
       "  {'max_depth': None,\n",
       "   'min_samples_leaf': 0.05,\n",
       "   'min_samples_split': 0.05,\n",
       "   'n_estimators': 200}),\n",
       " (3,\n",
       "  0.6842178116761294,\n",
       "  0.11025692264427374,\n",
       "  {'max_depth': None,\n",
       "   'min_samples_leaf': 0.05,\n",
       "   'min_samples_split': 0.1,\n",
       "   'n_estimators': 100}),\n",
       " (3,\n",
       "  0.6842178116761294,\n",
       "  0.11025692264427374,\n",
       "  {'max_depth': None,\n",
       "   'min_samples_leaf': 0.05,\n",
       "   'min_samples_split': 0.05,\n",
       "   'n_estimators': 100}),\n",
       " (5,\n",
       "  0.6827938824928792,\n",
       "  0.09906572098459482,\n",
       "  {'max_depth': None,\n",
       "   'min_samples_leaf': 0.05,\n",
       "   'min_samples_split': 0.1,\n",
       "   'n_estimators': 300}),\n",
       " (5,\n",
       "  0.6827938824928792,\n",
       "  0.09906572098459482,\n",
       "  {'max_depth': None,\n",
       "   'min_samples_leaf': 0.05,\n",
       "   'min_samples_split': 0.05,\n",
       "   'n_estimators': 300}),\n",
       " (7,\n",
       "  0.6714392553775272,\n",
       "  0.1048767669612342,\n",
       "  {'max_depth': None,\n",
       "   'min_samples_leaf': 0.05,\n",
       "   'min_samples_split': 0.1,\n",
       "   'n_estimators': 50}),\n",
       " (7,\n",
       "  0.6714392553775272,\n",
       "  0.1048767669612342,\n",
       "  {'max_depth': None,\n",
       "   'min_samples_leaf': 0.05,\n",
       "   'min_samples_split': 0.05,\n",
       "   'n_estimators': 50}),\n",
       " (9,\n",
       "  0.662454809636359,\n",
       "  0.09177137889462071,\n",
       "  {'max_depth': None,\n",
       "   'min_samples_leaf': 0.02,\n",
       "   'min_samples_split': 0.05,\n",
       "   'n_estimators': 300}),\n",
       " (10,\n",
       "  0.6613428437309798,\n",
       "  0.10421345783751161,\n",
       "  {'max_depth': None,\n",
       "   'min_samples_leaf': 0.02,\n",
       "   'min_samples_split': 0.05,\n",
       "   'n_estimators': 100})]"
      ]
     },
     "execution_count": 30,
     "metadata": {},
     "output_type": "execute_result"
    }
   ],
   "source": [
    "survhive.get_top_models(opt_rsf_search)"
   ]
  },
  {
   "cell_type": "markdown",
   "id": "2fd37d08-ee4e-4bea-8a6d-2c6b8cbd5c8d",
   "metadata": {},
   "source": [
    "# Test DSM"
   ]
  },
  {
   "cell_type": "code",
   "execution_count": 27,
   "id": "5f760708-c608-4281-b7e0-c17b043053de",
   "metadata": {},
   "outputs": [
    {
     "data": {
      "text/plain": [
       "{'n_distr': [1, 2, 3],\n",
       " 'distr_kind': ['Weibull'],\n",
       " 'batch_size': [16, 32],\n",
       " 'layer_sizes': [[3],\n",
       "  [4],\n",
       "  [5],\n",
       "  [7],\n",
       "  [9],\n",
       "  [11],\n",
       "  [14],\n",
       "  [19],\n",
       "  [24],\n",
       "  [32],\n",
       "  [41],\n",
       "  [54],\n",
       "  [70],\n",
       "  [3, 3],\n",
       "  [4, 4],\n",
       "  [5, 5],\n",
       "  [7, 7],\n",
       "  [9, 9],\n",
       "  [11, 11],\n",
       "  [14, 14],\n",
       "  [19, 19],\n",
       "  [24, 24],\n",
       "  [32, 32],\n",
       "  [41, 41],\n",
       "  [54, 54],\n",
       "  [70, 70],\n",
       "  [3, 3, 3],\n",
       "  [4, 4, 4],\n",
       "  [5, 5, 5],\n",
       "  [7, 7, 7],\n",
       "  [9, 9, 9],\n",
       "  [11, 11, 11],\n",
       "  [14, 14, 14],\n",
       "  [19, 19, 19],\n",
       "  [24, 24, 24],\n",
       "  [32, 32, 32],\n",
       "  [41, 41, 41],\n",
       "  [54, 54, 54],\n",
       "  [70, 70, 70]],\n",
       " 'learning_rate': [0.005, 0.001],\n",
       " 'validation_size': [0.1],\n",
       " 'max_epochs': [100],\n",
       " 'elbo': [False]}"
      ]
     },
     "execution_count": 27,
     "metadata": {},
     "output_type": "execute_result"
    }
   ],
   "source": [
    "grid =survhive.DeepSurvivalMachines.get_parameter_grid(max_width=84)\n",
    "grid"
   ]
  },
  {
   "cell_type": "code",
   "execution_count": 37,
   "id": "d15a0323-2cd1-4d9e-8b54-bbc91021bed6",
   "metadata": {},
   "outputs": [
    {
     "data": {
      "text/plain": [
       "24"
      ]
     },
     "execution_count": 37,
     "metadata": {},
     "output_type": "execute_result"
    }
   ],
   "source": [
    "dsm_tries = survhive.optimization._guess_tries(grid)\n",
    "dsm_tries"
   ]
  },
  {
   "cell_type": "code",
   "execution_count": 46,
   "id": "60be1a27-6f73-43e1-bdc8-21616bed7143",
   "metadata": {},
   "outputs": [
    {
     "name": "stderr",
     "output_type": "stream",
     "text": [
      " 36%|████████████████████████████████████████████▌                                                                              | 3626/10000 [00:03<00:05, 1141.21it/s]\n",
      " 24%|███████████████████████████████▌                                                                                                 | 49/200 [00:01<00:03, 40.46it/s]\n"
     ]
    },
    {
     "name": "stdout",
     "output_type": "stream",
     "text": [
      "Train:  0.9187 , Test: 0.6977\n"
     ]
    },
    {
     "name": "stderr",
     "output_type": "stream",
     "text": [
      " 36%|████████████████████████████████████████████▌                                                                              | 3626/10000 [00:03<00:05, 1151.62it/s]\n",
      " 24%|███████████████████████████████▌                                                                                                 | 49/200 [00:01<00:03, 41.84it/s]\n"
     ]
    },
    {
     "name": "stdout",
     "output_type": "stream",
     "text": [
      "Train:  0.9187 , Test: 0.6977\n"
     ]
    },
    {
     "name": "stderr",
     "output_type": "stream",
     "text": [
      " 36%|████████████████████████████████████████████▌                                                                              | 3626/10000 [00:03<00:05, 1136.85it/s]\n",
      " 24%|███████████████████████████████▌                                                                                                 | 49/200 [00:01<00:03, 41.92it/s]\n"
     ]
    },
    {
     "name": "stdout",
     "output_type": "stream",
     "text": [
      "Train:  0.9187 , Test: 0.6977\n"
     ]
    },
    {
     "name": "stderr",
     "output_type": "stream",
     "text": [
      " 36%|████████████████████████████████████████████▌                                                                              | 3626/10000 [00:03<00:05, 1147.26it/s]\n",
      " 24%|███████████████████████████████▌                                                                                                 | 49/200 [00:01<00:03, 40.36it/s]\n"
     ]
    },
    {
     "name": "stdout",
     "output_type": "stream",
     "text": [
      "Train:  0.9187 , Test: 0.6977\n"
     ]
    },
    {
     "name": "stderr",
     "output_type": "stream",
     "text": [
      " 36%|████████████████████████████████████████████▌                                                                              | 3626/10000 [00:03<00:05, 1151.49it/s]\n",
      " 24%|███████████████████████████████▌                                                                                                 | 49/200 [00:01<00:03, 44.81it/s]\n"
     ]
    },
    {
     "name": "stdout",
     "output_type": "stream",
     "text": [
      "Train:  0.9187 , Test: 0.6977\n"
     ]
    },
    {
     "name": "stderr",
     "output_type": "stream",
     "text": [
      " 36%|████████████████████████████████████████████▌                                                                              | 3626/10000 [00:03<00:05, 1150.72it/s]\n",
      " 24%|███████████████████████████████▌                                                                                                 | 49/200 [00:01<00:03, 43.61it/s]\n"
     ]
    },
    {
     "name": "stdout",
     "output_type": "stream",
     "text": [
      "Train:  0.9187 , Test: 0.6977\n"
     ]
    },
    {
     "name": "stderr",
     "output_type": "stream",
     "text": [
      " 36%|████████████████████████████████████████████▌                                                                              | 3626/10000 [00:03<00:05, 1163.48it/s]\n",
      " 24%|███████████████████████████████▌                                                                                                 | 49/200 [00:01<00:03, 39.64it/s]\n"
     ]
    },
    {
     "name": "stdout",
     "output_type": "stream",
     "text": [
      "Train:  0.9187 , Test: 0.6977\n"
     ]
    },
    {
     "name": "stderr",
     "output_type": "stream",
     "text": [
      " 36%|████████████████████████████████████████████▌                                                                              | 3626/10000 [00:03<00:05, 1160.99it/s]\n",
      " 24%|███████████████████████████████▌                                                                                                 | 49/200 [00:01<00:03, 41.58it/s]\n"
     ]
    },
    {
     "name": "stdout",
     "output_type": "stream",
     "text": [
      "Train:  0.9187 , Test: 0.6977\n"
     ]
    },
    {
     "name": "stderr",
     "output_type": "stream",
     "text": [
      " 36%|████████████████████████████████████████████▌                                                                              | 3626/10000 [00:03<00:05, 1148.96it/s]\n",
      " 24%|███████████████████████████████▌                                                                                                 | 49/200 [00:01<00:03, 42.31it/s]\n"
     ]
    },
    {
     "name": "stdout",
     "output_type": "stream",
     "text": [
      "Train:  0.9187 , Test: 0.6977\n"
     ]
    },
    {
     "name": "stderr",
     "output_type": "stream",
     "text": [
      " 36%|████████████████████████████████████████████▌                                                                              | 3626/10000 [00:03<00:05, 1162.18it/s]\n",
      " 24%|███████████████████████████████▌                                                                                                 | 49/200 [00:01<00:03, 41.77it/s]"
     ]
    },
    {
     "name": "stdout",
     "output_type": "stream",
     "text": [
      "Train:  0.9187 , Test: 0.6977\n",
      "8 s ± 155 ms per loop (mean ± std. dev. of 10 runs, 1 loop each)\n"
     ]
    },
    {
     "name": "stderr",
     "output_type": "stream",
     "text": [
      "\n"
     ]
    }
   ],
   "source": [
    "%%timeit -c -n 1 -r 10\n",
    "test_model(survhive.DeepSurvivalMachines, batch_size=16, layer_sizes=[5]*5, n_distr=2, max_epochs=200)"
   ]
  },
  {
   "cell_type": "code",
   "execution_count": 33,
   "id": "5e24ac45",
   "metadata": {},
   "outputs": [],
   "source": [
    "# Non stratified CV\n",
    "#opt_dsm, opt_dsm_params, opt_dsm_search = optimize(survhive.DeepSurvivalMachines(rng_seed=2308),  X_train, y_train, \n",
    "#                                                   user_grid=grid,cv=RepeatedKFold(n_splits=5, n_repeats=3, random_state=2308))\n",
    "#opt_dsm.score(X_test, y_test), opt_dsm_params"
   ]
  },
  {
   "cell_type": "code",
   "execution_count": 47,
   "id": "21afcdf0-5394-44f2-94dd-b7987739d769",
   "metadata": {
    "jupyter": {
     "source_hidden": true
    }
   },
   "outputs": [
    {
     "data": {
      "text/plain": [
       "640.0"
      ]
     },
     "execution_count": 47,
     "metadata": {},
     "output_type": "execute_result"
    }
   ],
   "source": [
    "#estimated run time (s)\n",
    "8 * dsm_tries *10 / 3"
   ]
  },
  {
   "cell_type": "code",
   "execution_count": 40,
   "id": "6b2fb365-dd6e-4e05-b3fc-6c18c950221a",
   "metadata": {
    "collapsed": true,
    "jupyter": {
     "outputs_hidden": true
    }
   },
   "outputs": [
    {
     "name": "stdout",
     "output_type": "stream",
     "text": [
      "CPU times: user 11 µs, sys: 0 ns, total: 11 µs\n",
      "Wall time: 20.7 µs\n",
      "Random search tries: 24\n"
     ]
    },
    {
     "name": "stderr",
     "output_type": "stream",
     "text": [
      " 34%|███▍      | 3430/10000 [00:02<00:05, 1170.68it/s]\n",
      " 35%|███▍      | 3466/10000 [00:02<00:05, 1171.31it/s]\n",
      " 35%|███▍      | 3463/10000 [00:02<00:05, 1158.50it/s]\n",
      "  5%|▌         | 5/100 [00:00<00:02, 32.08it/s]\n",
      "  5%|▌         | 5/100 [00:00<00:03, 28.61it/s]\n",
      "  4%|▍         | 4/100 [00:00<00:03, 24.58it/s]\n",
      "  7%|▋         | 666/10000 [00:00<00:08, 1158.47it/s]\n",
      "  6%|▌         | 6/100 [00:00<00:02, 38.27it/s]9it/s]\n",
      " 34%|███▍      | 3398/10000 [00:02<00:05, 1160.06it/s]\n",
      " 16%|█▌        | 16/100 [00:00<00:01, 55.29it/s]9it/s]\n",
      " 41%|████      | 4118/10000 [00:03<00:05, 1158.23it/s]\n",
      "  6%|▌         | 6/100 [00:00<00:02, 38.00it/s]5it/s]]\n",
      " 36%|███▌      | 3565/10000 [00:03<00:05, 1146.11it/s]\n",
      " 10%|█         | 10/100 [00:00<00:01, 47.56it/s]it/s]\n",
      " 34%|███▎      | 3361/10000 [00:02<00:05, 1169.01it/s]\n",
      "  5%|▌         | 5/100 [00:00<00:03, 31.09it/s]72it/s]\n",
      " 34%|███▍      | 3389/10000 [00:02<00:05, 1159.91it/s]\n",
      "  4%|▍         | 4/100 [00:00<00:03, 29.13it/s]3it/s]]\n",
      " 46%|████▌     | 4563/10000 [00:03<00:04, 1151.64it/s]\n",
      "  5%|▌         | 5/100 [00:00<00:02, 33.03it/s]8it/s]\n",
      " 35%|███▍      | 3463/10000 [00:02<00:05, 1171.21it/s]\n",
      "  3%|▎         | 3/100 [00:00<00:04, 23.18it/s]32it/s]\n",
      " 35%|███▍      | 3466/10000 [00:02<00:05, 1157.92it/s]\n",
      " 34%|███▍      | 3430/10000 [00:02<00:05, 1160.30it/s]\n",
      "  3%|▎         | 3/100 [00:00<00:04, 22.06it/s]4it/s]\n",
      " 22%|██▏       | 22/100 [00:00<00:01, 51.56it/s]it/s]\n",
      "  7%|▋         | 666/10000 [00:00<00:07, 1177.87it/s]]\n",
      " 10%|█         | 10/100 [00:00<00:02, 42.25it/s]6it/s]\n",
      " 41%|████      | 4118/10000 [00:03<00:05, 1161.29it/s]\n",
      " 34%|███▍      | 3398/10000 [00:02<00:05, 1155.85it/s]\n",
      "  3%|▎         | 3/100 [00:00<00:04, 21.56it/s]75it/s]\n",
      "  3%|▎         | 3/100 [00:00<00:04, 21.86it/s]30it/s]\n",
      " 36%|███▌      | 3565/10000 [00:03<00:05, 1155.47it/s]\n",
      "  3%|▎         | 3/100 [00:00<00:04, 22.73it/s]32it/s]\n",
      " 34%|███▎      | 3361/10000 [00:02<00:05, 1154.69it/s]\n",
      "  7%|▋         | 7/100 [00:00<00:02, 35.92it/s]55it/s]\n",
      " 46%|████▌     | 4563/10000 [00:03<00:04, 1155.87it/s]\n",
      " 34%|███▍      | 3389/10000 [00:02<00:05, 1169.21it/s]\n",
      "  3%|▎         | 3/100 [00:00<00:04, 22.17it/s]94it/s]\n",
      " 48%|████▊     | 48/100 [00:00<00:00, 58.90it/s]3it/s]\n",
      " 35%|███▍      | 3463/10000 [00:02<00:05, 1159.82it/s]\n",
      "  9%|▉         | 9/100 [00:00<00:02, 44.22it/s]85it/s]\n",
      " 35%|███▍      | 3466/10000 [00:02<00:05, 1167.88it/s]\n",
      "  9%|▉         | 9/100 [00:00<00:01, 46.43it/s]03it/s]\n",
      " 34%|███▍      | 3430/10000 [00:02<00:05, 1160.90it/s]\n",
      " 20%|██        | 20/100 [00:00<00:01, 63.33it/s]it/s]]\n",
      "  7%|▋         | 666/10000 [00:00<00:07, 1178.34it/s]]\n",
      "  3%|▎         | 3/100 [00:00<00:03, 25.91it/s]50it/s]\n",
      " 41%|████      | 4118/10000 [00:03<00:05, 1158.26it/s]\n",
      "  6%|▌         | 6/100 [00:00<00:02, 33.74it/s]97it/s]\n",
      " 34%|███▍      | 3398/10000 [00:02<00:05, 1162.90it/s]\n",
      " 17%|█▋        | 17/100 [00:00<00:01, 57.76it/s]it/s]]\n",
      " 36%|███▌      | 3565/10000 [00:03<00:05, 1123.06it/s]\n",
      "  7%|▋         | 7/100 [00:00<00:02, 35.29it/s]05it/s]\n",
      " 34%|███▎      | 3361/10000 [00:03<00:05, 1108.46it/s]\n",
      "  6%|▌         | 6/100 [00:00<00:02, 38.69it/s]57it/s]\n",
      " 46%|████▌     | 4563/10000 [00:04<00:04, 1125.05it/s]\n",
      " 19%|█▉        | 19/100 [00:00<00:01, 60.36it/s]6it/s]\n",
      " 34%|███▍      | 3389/10000 [00:02<00:05, 1136.15it/s]\n",
      " 14%|█▍        | 14/100 [00:00<00:01, 55.94it/s]it/s]]\n",
      " 35%|███▍      | 3463/10000 [00:02<00:05, 1171.17it/s]\n",
      "  9%|▉         | 9/100 [00:00<00:01, 46.74it/s]96it/s]\n",
      " 35%|███▍      | 3466/10000 [00:02<00:05, 1156.82it/s]\n",
      "  5%|▌         | 5/100 [00:00<00:02, 34.07it/s]98it/s]\n",
      " 34%|███▍      | 3430/10000 [00:02<00:05, 1160.38it/s]\n",
      " 13%|█▎        | 13/100 [00:00<00:01, 56.67it/s]6it/s]\n",
      "  7%|▋         | 666/10000 [00:00<00:07, 1179.75it/s]]\n",
      "  3%|▎         | 3/100 [00:00<00:03, 24.76it/s]13it/s]\n",
      " 41%|████      | 4118/10000 [00:03<00:05, 1167.15it/s]\n",
      " 34%|███▍      | 3398/10000 [00:02<00:05, 1163.92it/s]\n",
      " 12%|█▏        | 12/100 [00:00<00:01, 52.18it/s]5it/s]\n",
      " 22%|██▏       | 22/100 [00:00<00:01, 62.40it/s]\n",
      " 36%|███▌      | 3565/10000 [00:03<00:05, 1143.58it/s]\n",
      " 11%|█         | 11/100 [00:00<00:01, 52.05it/s]2it/s]\n",
      " 34%|███▎      | 3361/10000 [00:02<00:05, 1158.57it/s]\n",
      " 16%|█▌        | 16/100 [00:00<00:01, 57.26it/s]5it/s]\n",
      " 46%|████▌     | 4563/10000 [00:03<00:04, 1144.54it/s]\n",
      " 13%|█▎        | 13/100 [00:00<00:01, 50.42it/s]5it/s]\n",
      " 34%|███▍      | 3389/10000 [00:02<00:05, 1162.18it/s]\n",
      " 10%|█         | 10/100 [00:00<00:01, 50.29it/s]it/s]]\n",
      " 35%|███▍      | 3463/10000 [00:02<00:05, 1161.85it/s]\n",
      "  4%|▍         | 4/100 [00:00<00:03, 28.98it/s]68it/s]\n",
      " 35%|███▍      | 3466/10000 [00:02<00:05, 1157.67it/s]\n",
      "  5%|▌         | 5/100 [00:00<00:02, 38.25it/s]25it/s]\n",
      " 34%|███▍      | 3430/10000 [00:02<00:05, 1159.08it/s]\n",
      "  7%|▋         | 7/100 [00:00<00:02, 45.93it/s]8it/s]]\n",
      "  7%|▋         | 666/10000 [00:00<00:07, 1186.31it/s]]\n",
      "  3%|▎         | 3/100 [00:00<00:03, 27.01it/s]68it/s]\n",
      " 41%|████      | 4118/10000 [00:03<00:05, 1164.18it/s]\n",
      "  7%|▋         | 7/100 [00:00<00:02, 43.24it/s]62it/s]\n",
      " 34%|███▍      | 3398/10000 [00:02<00:05, 1155.22it/s]\n",
      " 10%|█         | 10/100 [00:00<00:01, 58.11it/s]8it/s]\n",
      " 36%|███▌      | 3565/10000 [00:03<00:05, 1154.63it/s]\n",
      " 12%|█▏        | 12/100 [00:00<00:01, 60.78it/s]8it/s]\n",
      " 34%|███▎      | 3361/10000 [00:02<00:05, 1133.95it/s]\n",
      "  5%|▌         | 5/100 [00:00<00:02, 37.84it/s]07it/s]\n",
      " 46%|████▌     | 4563/10000 [00:04<00:04, 1137.61it/s]\n",
      "  6%|▌         | 6/100 [00:00<00:02, 43.54it/s]80it/s]\n",
      " 34%|███▍      | 3389/10000 [00:02<00:05, 1152.28it/s]\n",
      "  6%|▌         | 6/100 [00:00<00:02, 46.04it/s]49it/s]\n",
      " 35%|███▍      | 3463/10000 [00:02<00:05, 1164.80it/s]\n",
      "  3%|▎         | 3/100 [00:00<00:03, 24.89it/s]05it/s]\n",
      " 35%|███▍      | 3466/10000 [00:02<00:05, 1160.66it/s]\n",
      " 21%|██        | 21/100 [00:00<00:01, 68.38it/s]0it/s]\n",
      " 34%|███▍      | 3430/10000 [00:02<00:05, 1155.80it/s]\n",
      " 30%|███       | 30/100 [00:00<00:00, 74.54it/s]8it/s]\n",
      "  7%|▋         | 666/10000 [00:00<00:07, 1173.40it/s]]\n",
      "  3%|▎         | 3/100 [00:00<00:03, 26.13it/s]07it/s]\n",
      " 41%|████      | 4118/10000 [00:03<00:05, 1166.29it/s]\n",
      " 34%|███▍      | 3398/10000 [00:02<00:05, 1168.57it/s]\n",
      " 40%|████      | 40/100 [00:00<00:00, 74.19it/s]4it/s]\n",
      " 47%|████▋     | 47/100 [00:00<00:00, 78.15it/s]it/s]]\n",
      " 36%|███▌      | 3565/10000 [00:03<00:05, 1148.51it/s]\n",
      "  3%|▎         | 3/100 [00:00<00:04, 23.50it/s]49it/s]\n",
      " 34%|███▎      | 3361/10000 [00:02<00:05, 1148.85it/s]\n",
      " 33%|███▎      | 33/100 [00:00<00:00, 74.42it/s]9it/s]\n",
      " 46%|████▌     | 4563/10000 [00:03<00:04, 1145.96it/s]\n",
      " 23%|██▎       | 23/100 [00:00<00:01, 69.87it/s]it/s]]\n",
      " 34%|███▍      | 3389/10000 [00:02<00:05, 1152.18it/s]\n",
      "  3%|▎         | 3/100 [00:00<00:03, 25.43it/s]2it/s]]\n",
      " 35%|███▍      | 3463/10000 [00:02<00:05, 1165.30it/s]\n",
      " 34%|███▍      | 34/100 [00:00<00:01, 58.31it/s]0it/s]\n",
      " 35%|███▍      | 3466/10000 [00:03<00:05, 1151.52it/s]\n",
      " 34%|███▍      | 3430/10000 [00:02<00:05, 1151.13it/s]\n",
      " 18%|█▊        | 18/100 [00:00<00:01, 50.46it/s]it/s]\n",
      " 25%|██▌       | 25/100 [00:00<00:01, 55.38it/s]it/s]]\n",
      "  7%|▋         | 666/10000 [00:00<00:07, 1181.25it/s]]\n",
      "  3%|▎         | 3/100 [00:00<00:04, 21.48it/s]96it/s]\n",
      " 34%|███▍      | 3398/10000 [00:03<00:05, 1106.99it/s]\n",
      " 41%|████      | 4118/10000 [00:03<00:05, 1114.59it/s]\n",
      " 36%|███▌      | 36/100 [00:00<00:01, 57.63it/s]9it/s]\n",
      " 43%|████▎     | 43/100 [00:00<00:00, 58.13it/s]\n",
      " 36%|███▌      | 3565/10000 [00:03<00:05, 1100.22it/s]\n",
      " 31%|███       | 31/100 [00:00<00:01, 58.23it/s]7it/s]\n",
      " 34%|███▎      | 3361/10000 [00:02<00:05, 1150.46it/s]\n",
      " 18%|█▊        | 18/100 [00:00<00:01, 51.31it/s]1it/s]\n",
      " 46%|████▌     | 4563/10000 [00:03<00:04, 1154.76it/s]\n",
      " 34%|███▍      | 3389/10000 [00:02<00:05, 1159.12it/s]\n",
      " 31%|███       | 31/100 [00:00<00:01, 56.60it/s]4it/s]\n",
      " 34%|███▍      | 34/100 [00:00<00:01, 57.96it/s]7it/s]\n",
      " 35%|███▍      | 3463/10000 [00:03<00:05, 1146.07it/s]\n",
      "  3%|▎         | 3/100 [00:00<00:03, 27.86it/s]90it/s]\n",
      " 35%|███▍      | 3466/10000 [00:02<00:05, 1157.53it/s]\n",
      " 34%|███▍      | 3430/10000 [00:02<00:05, 1151.87it/s]\n",
      "  3%|▎         | 3/100 [00:00<00:03, 27.87it/s]]1it/s]\n",
      " 21%|██        | 21/100 [00:00<00:01, 69.20it/s]7it/s]\n",
      "  7%|▋         | 666/10000 [00:00<00:07, 1188.36it/s]]\n",
      " 18%|█▊        | 18/100 [00:00<00:01, 71.40it/s] it/s]\n",
      " 41%|████      | 4118/10000 [00:03<00:05, 1145.39it/s]\n",
      "  3%|▎         | 3/100 [00:00<00:03, 25.65it/s]05it/s]\n",
      " 34%|███▍      | 3398/10000 [00:02<00:05, 1147.72it/s]\n",
      "  3%|▎         | 3/100 [00:00<00:03, 28.08it/s]08it/s]\n",
      " 36%|███▌      | 3565/10000 [00:03<00:05, 1150.52it/s]\n",
      "  3%|▎         | 3/100 [00:00<00:03, 27.56it/s]78it/s]\n",
      " 34%|███▎      | 3361/10000 [00:02<00:05, 1150.87it/s]\n",
      " 10%|█         | 10/100 [00:00<00:01, 57.79it/s]2it/s]\n",
      " 46%|████▌     | 4563/10000 [00:03<00:04, 1150.52it/s]\n",
      " 34%|███▍      | 3389/10000 [00:02<00:05, 1153.66it/s]\n",
      "  3%|▎         | 3/100 [00:00<00:03, 27.67it/s]s]it/s]\n",
      " 91%|█████████ | 91/100 [00:00<00:00, 91.05it/s]it/s]]\n",
      " 35%|███▍      | 3463/10000 [00:03<00:05, 1126.71it/s]\n",
      " 70%|███████   | 70/100 [00:00<00:00, 107.83it/s]it/s]\n",
      " 35%|███▍      | 3466/10000 [00:03<00:05, 1108.74it/s]\n",
      " 34%|███▍      | 3430/10000 [00:03<00:06, 1092.94it/s]\n",
      " 44%|████▍     | 44/100 [00:00<00:00, 75.10it/s]it/s]\n",
      "100%|██████████| 100/100 [00:00<00:00, 109.22it/s]/s]]\n",
      "  7%|▋         | 666/10000 [00:00<00:08, 1136.05it/s]]\n",
      "  3%|▎         | 3/100 [00:00<00:03, 28.33it/s]94it/s]\n",
      " 41%|████      | 4118/10000 [00:03<00:05, 1072.86it/s]\n",
      " 34%|███▍      | 3398/10000 [00:03<00:05, 1124.28it/s]\n",
      " 35%|███▌      | 35/100 [00:00<00:00, 100.87it/s]it/s]\n",
      "100%|██████████| 100/100 [00:00<00:00, 119.75it/s]t/s]\n",
      " 36%|███▌      | 3565/10000 [00:03<00:06, 1030.82it/s]\n",
      " 78%|███████▊  | 78/100 [00:00<00:00, 79.90it/s]it/s]\n",
      " 34%|███▎      | 3361/10000 [00:03<00:07, 903.58it/s] \n",
      " 15%|█▌        | 15/100 [00:00<00:01, 45.36it/s]it/s]\n",
      " 46%|████▌     | 4563/10000 [00:05<00:06, 843.38it/s]\n",
      " 46%|████▌     | 46/100 [00:00<00:00, 64.27it/s]it/s]\n",
      " 34%|███▍      | 3389/10000 [00:03<00:07, 854.74it/s]\n",
      " 36%|███▌      | 36/100 [00:00<00:00, 98.81it/s] it/s]\n",
      " 35%|███▍      | 3463/10000 [00:03<00:06, 1006.94it/s]\n",
      "  6%|▌         | 6/100 [00:00<00:02, 37.63it/s]87it/s]\n",
      " 35%|███▍      | 3466/10000 [00:03<00:05, 1153.94it/s]\n",
      "  5%|▌         | 5/100 [00:00<00:02, 34.92it/s]63it/s]\n",
      " 34%|███▍      | 3430/10000 [00:02<00:05, 1160.63it/s]\n",
      "  5%|▌         | 5/100 [00:00<00:02, 34.81it/s]40it/s]\n",
      "  7%|▋         | 666/10000 [00:00<00:07, 1194.10it/s]]\n",
      "  3%|▎         | 3/100 [00:00<00:03, 25.21it/s]29it/s]\n",
      " 41%|████      | 4118/10000 [00:03<00:05, 1174.39it/s]\n",
      "  4%|▍         | 4/100 [00:00<00:03, 29.48it/s]98it/s]\n",
      " 34%|███▍      | 3398/10000 [00:02<00:05, 1177.63it/s]\n",
      " 13%|█▎        | 13/100 [00:00<00:01, 54.59it/s]it/s]]\n",
      " 36%|███▌      | 3565/10000 [00:03<00:05, 1151.19it/s]\n",
      " 11%|█         | 11/100 [00:00<00:01, 44.84it/s]4it/s]\n",
      " 34%|███▎      | 3361/10000 [00:02<00:05, 1161.86it/s]\n",
      "  5%|▌         | 5/100 [00:00<00:02, 34.43it/s]99it/s]\n",
      " 46%|████▌     | 4563/10000 [00:03<00:04, 1161.72it/s]\n",
      "  6%|▌         | 6/100 [00:00<00:02, 38.48it/s]55it/s]\n",
      " 34%|███▍      | 3389/10000 [00:02<00:05, 1134.40it/s]\n",
      "  5%|▌         | 5/100 [00:00<00:03, 28.95it/s]38it/s]\n",
      " 35%|███▍      | 3463/10000 [00:03<00:05, 1120.18it/s]\n",
      " 23%|██▎       | 23/100 [00:00<00:00, 82.92it/s] it/s]\n",
      " 35%|███▍      | 3466/10000 [00:03<00:05, 1093.66it/s]\n",
      " 20%|██        | 20/100 [00:00<00:01, 49.38it/s]it/s] \n",
      " 34%|███▍      | 3430/10000 [00:03<00:06, 1020.07it/s]\n",
      " 38%|███▊      | 38/100 [00:00<00:00, 72.63it/s]9it/s]\n",
      "  7%|▋         | 666/10000 [00:00<00:08, 1123.15it/s]]\n",
      "  3%|▎         | 3/100 [00:00<00:03, 27.19it/s]97it/s]\n",
      " 34%|███▍      | 3398/10000 [00:03<00:06, 1072.09it/s]\n",
      " 41%|████      | 4118/10000 [00:04<00:05, 1001.97it/s]\n",
      " 16%|█▌        | 16/100 [00:00<00:01, 71.28it/s] it/s]\n",
      " 54%|█████▍    | 54/100 [00:00<00:00, 92.76it/s] t/s]]\n",
      " 36%|███▌      | 3565/10000 [00:03<00:05, 1096.95it/s]\n",
      " 20%|██        | 20/100 [00:00<00:00, 81.43it/s] it/s]\n",
      " 34%|███▎      | 3361/10000 [00:02<00:05, 1126.11it/s]\n",
      " 24%|██▍       | 24/100 [00:00<00:00, 85.60it/s] it/s]\n",
      " 46%|████▌     | 4563/10000 [00:04<00:04, 1112.11it/s]\n",
      "  4%|▍         | 4/100 [00:00<00:02, 32.23it/s]0it/s]]\n",
      " 34%|███▍      | 3389/10000 [00:02<00:05, 1157.66it/s]\n",
      " 21%|██        | 21/100 [00:00<00:00, 81.93it/s] it/s]\n",
      " 35%|███▍      | 3463/10000 [00:02<00:05, 1172.02it/s]\n",
      " 41%|████      | 41/100 [00:00<00:00, 91.69it/s] it/s]\n",
      " 35%|███▍      | 3466/10000 [00:02<00:05, 1185.96it/s]\n",
      " 33%|███▎      | 33/100 [00:00<00:00, 84.66it/s] t/s]]\n",
      " 34%|███▍      | 3430/10000 [00:02<00:05, 1166.02it/s]\n",
      "100%|██████████| 100/100 [00:01<00:00, 98.71it/s]it/s]\n",
      "  7%|▋         | 666/10000 [00:00<00:08, 1060.83it/s]]\n",
      "  3%|▎         | 3/100 [00:00<00:04, 23.45it/s]88it/s]\n",
      " 34%|███▍      | 3398/10000 [00:03<00:06, 1089.39it/s]\n",
      " 41%|████      | 4118/10000 [00:03<00:05, 1092.10it/s]\n",
      " 25%|██▌       | 25/100 [00:00<00:01, 72.41it/s]it/s]\n",
      " 47%|████▋     | 47/100 [00:00<00:00, 80.72it/s]it/s]]\n",
      " 36%|███▌      | 3565/10000 [00:03<00:06, 1012.30it/s]\n",
      " 42%|████▏     | 42/100 [00:00<00:00, 78.24it/s]7it/s]\n",
      " 34%|███▎      | 3361/10000 [00:03<00:06, 1069.75it/s]\n",
      " 12%|█▏        | 12/100 [00:00<00:01, 57.74it/s] t/s] \n",
      " 46%|████▌     | 4563/10000 [00:04<00:05, 1038.58it/s]\n",
      " 14%|█▍        | 14/100 [00:00<00:01, 61.48it/s] it/s]\n",
      " 34%|███▍      | 3389/10000 [00:03<00:05, 1108.88it/s]\n",
      " 35%|███▍      | 3463/10000 [00:03<00:05, 1114.65it/s]\n",
      " 37%|███▋      | 37/100 [00:00<00:00, 80.38it/s] \n",
      "  3%|▎         | 3/100 [00:00<00:03, 26.37it/s]05it/s]\n",
      " 35%|███▍      | 3466/10000 [00:03<00:05, 1110.67it/s]\n",
      " 72%|███████▏  | 72/100 [00:00<00:00, 98.06it/s] it/s]\n",
      " 34%|███▍      | 3430/10000 [00:03<00:06, 1088.45it/s]\n",
      " 13%|█▎        | 13/100 [00:00<00:01, 63.02it/s] it/s]\n",
      " 41%|████      | 4118/10000 [00:03<00:05, 1112.75it/s]\n",
      "  7%|▋         | 666/10000 [00:00<00:08, 1115.66it/s]]\n",
      " 20%|██        | 20/100 [00:00<00:01, 72.56it/s] it/s]\n",
      " 90%|█████████ | 90/100 [00:00<00:00, 100.83it/s]t/s]]\n",
      " 34%|███▍      | 3398/10000 [00:03<00:06, 1094.22it/s]\n",
      "  3%|▎         | 3/100 [00:00<00:03, 27.13it/s]5it/s]\n",
      " 36%|███▌      | 3565/10000 [00:03<00:05, 1090.42it/s]\n",
      "  3%|▎         | 3/100 [00:00<00:03, 26.24it/s]67it/s]\n",
      " 34%|███▎      | 3361/10000 [00:03<00:05, 1113.01it/s]\n",
      " 46%|████▌     | 4563/10000 [00:04<00:04, 1112.27it/s]\n",
      " 95%|█████████▌| 95/100 [00:00<00:00, 100.69it/s]it/s]\n",
      "100%|██████████| 100/100 [00:00<00:00, 113.33it/s]/s]]\n",
      " 34%|███▍      | 3389/10000 [00:03<00:06, 1079.43it/s]\n",
      "  4%|▍         | 4/100 [00:00<00:02, 33.26it/s]64it/s]\n",
      " 35%|███▍      | 3463/10000 [00:03<00:05, 1101.60it/s]\n",
      "  6%|▌         | 6/100 [00:00<00:02, 43.61it/s]94it/s]\n",
      " 35%|███▍      | 3466/10000 [00:03<00:05, 1123.87it/s]\n",
      "  6%|▌         | 6/100 [00:00<00:02, 45.12it/s]0it/s]]\n",
      " 34%|███▍      | 3430/10000 [00:03<00:05, 1117.31it/s]\n",
      " 11%|█         | 11/100 [00:00<00:01, 63.93it/s]7it/s]\n",
      "  7%|▋         | 666/10000 [00:00<00:08, 1129.98it/s]]\n",
      "  9%|▉         | 9/100 [00:00<00:01, 56.06it/s]35it/s]\n",
      " 41%|████      | 4118/10000 [00:03<00:05, 1115.53it/s]\n",
      " 34%|███▍      | 3398/10000 [00:03<00:05, 1121.29it/s]\n",
      "  5%|▌         | 5/100 [00:00<00:02, 38.51it/s]00it/s]\n",
      " 18%|█▊        | 18/100 [00:00<00:01, 75.98it/s] it/s]\n",
      " 36%|███▌      | 3565/10000 [00:03<00:05, 1094.01it/s]\n",
      "  4%|▍         | 4/100 [00:00<00:02, 34.44it/s]08it/s]\n",
      " 34%|███▎      | 3361/10000 [00:02<00:05, 1134.33it/s]\n",
      "  8%|▊         | 8/100 [00:00<00:01, 53.27it/s]70it/s]\n",
      " 46%|████▌     | 4563/10000 [00:04<00:04, 1088.18it/s]\n",
      "  5%|▌         | 5/100 [00:00<00:02, 40.75it/s]46it/s]\n",
      " 34%|███▍      | 3389/10000 [00:03<00:05, 1111.48it/s]\n",
      "  6%|▌         | 6/100 [00:00<00:02, 43.58it/s]96it/s]\n",
      " 35%|███▍      | 3463/10000 [00:03<00:05, 1107.99it/s]\n",
      " 12%|█▏        | 12/100 [00:00<00:01, 56.43it/s] it/s]\n",
      " 35%|███▍      | 3466/10000 [00:03<00:06, 1070.05it/s]\n",
      "  6%|▌         | 6/100 [00:00<00:02, 41.03it/s]59it/s]\n",
      " 34%|███▍      | 3430/10000 [00:03<00:05, 1104.03it/s]\n",
      " 24%|██▍       | 24/100 [00:00<00:01, 74.81it/s] it/s]\n",
      "  7%|▋         | 666/10000 [00:00<00:09, 1008.91it/s]]\n",
      "  3%|▎         | 3/100 [00:00<00:03, 24.94it/s]57it/s]\n",
      " 41%|████      | 4118/10000 [00:03<00:05, 1095.52it/s]\n",
      " 10%|█         | 10/100 [00:00<00:01, 55.07it/s]2it/s]\n",
      " 34%|███▍      | 3398/10000 [00:03<00:06, 1072.15it/s]\n",
      " 16%|█▌        | 16/100 [00:00<00:01, 65.37it/s] it/s]\n",
      " 36%|███▌      | 3565/10000 [00:03<00:05, 1091.66it/s]\n",
      "  6%|▌         | 6/100 [00:00<00:02, 41.49it/s]39it/s]\n",
      " 34%|███▎      | 3361/10000 [00:03<00:06, 1063.36it/s]\n",
      " 14%|█▍        | 14/100 [00:00<00:01, 62.49it/s] it/s]\n",
      " 46%|████▌     | 4563/10000 [00:04<00:05, 1085.95it/s]\n",
      "  4%|▍         | 4/100 [00:00<00:03, 28.14it/s]it/s] ]\n",
      " 34%|███▍      | 3389/10000 [00:03<00:06, 1086.76it/s]\n",
      "  6%|▌         | 6/100 [00:00<00:02, 37.31it/s]99it/s]\n",
      " 35%|███▍      | 3463/10000 [00:03<00:06, 1020.77it/s]\n",
      "  3%|▎         | 3/100 [00:00<00:04, 23.18it/s]01it/s]\n",
      " 35%|███▍      | 3466/10000 [00:03<00:06, 1057.40it/s]\n",
      " 20%|██        | 20/100 [00:00<00:01, 73.05it/s] it/s]\n",
      " 34%|███▍      | 3430/10000 [00:03<00:06, 1062.69it/s]\n",
      "  3%|▎         | 3/100 [00:00<00:04, 19.86it/s]55it/s]\n",
      "  7%|▋         | 666/10000 [00:00<00:08, 1050.62it/s]]\n",
      " 25%|██▌       | 25/100 [00:00<00:01, 73.99it/s] it/s]\n",
      " 34%|███▍      | 3398/10000 [00:03<00:06, 1071.40it/s]\n",
      "  3%|▎         | 3/100 [00:00<00:03, 24.99it/s]28it/s]\n",
      " 41%|████      | 4118/10000 [00:03<00:05, 1070.56it/s]\n",
      " 35%|███▌      | 35/100 [00:00<00:00, 75.76it/s]t/s]]\n",
      " 36%|███▌      | 3565/10000 [00:03<00:06, 1042.64it/s]\n",
      "  3%|▎         | 3/100 [00:00<00:03, 24.55it/s]48it/s]\n",
      " 34%|███▎      | 3361/10000 [00:03<00:06, 1088.53it/s]\n",
      " 15%|█▌        | 15/100 [00:00<00:01, 64.70it/s] it/s]\n",
      " 46%|████▌     | 4563/10000 [00:04<00:05, 1048.95it/s]\n",
      " 40%|████      | 40/100 [00:00<00:00, 84.63it/s] t/s]]\n",
      " 34%|███▍      | 3389/10000 [00:03<00:05, 1109.55it/s]\n",
      "  3%|▎         | 3/100 [00:00<00:03, 25.89it/s]26it/s]\n",
      " 35%|███▍      | 3463/10000 [00:03<00:05, 1109.08it/s]\n",
      "  7%|▋         | 7/100 [00:00<00:01, 47.24it/s]36it/s]\n",
      " 35%|███▍      | 3466/10000 [00:03<00:05, 1100.68it/s]\n",
      "  6%|▌         | 6/100 [00:00<00:02, 40.14it/s]4it/s]]\n",
      " 34%|███▍      | 3430/10000 [00:03<00:05, 1099.82it/s]\n",
      " 15%|█▌        | 15/100 [00:00<00:01, 68.55it/s] t/s]]\n",
      "  7%|▋         | 666/10000 [00:00<00:08, 1130.10it/s]]\n",
      "  3%|▎         | 3/100 [00:00<00:03, 24.87it/s]97it/s]\n",
      " 41%|████      | 4118/10000 [00:03<00:05, 1071.47it/s]\n",
      "  5%|▌         | 5/100 [00:00<00:02, 37.18it/s]87it/s]\n",
      " 34%|███▍      | 3398/10000 [00:03<00:06, 1087.56it/s]\n",
      " 11%|█         | 11/100 [00:00<00:01, 60.74it/s]it/s]]\n",
      " 36%|███▌      | 3565/10000 [00:03<00:05, 1111.81it/s]\n",
      " 23%|██▎       | 23/100 [00:00<00:00, 80.58it/s] it/s]\n",
      " 34%|███▎      | 3361/10000 [00:03<00:06, 1088.66it/s]\n",
      " 18%|█▊        | 18/100 [00:00<00:01, 74.48it/s] it/s]\n",
      " 46%|████▌     | 4563/10000 [00:04<00:05, 1069.06it/s]\n",
      "  5%|▌         | 5/100 [00:00<00:02, 38.42it/s]04it/s]\n",
      " 34%|███▍      | 3389/10000 [00:03<00:06, 1094.94it/s]\n",
      "  6%|▌         | 6/100 [00:00<00:02, 43.19it/s]49it/s]\n",
      " 35%|███▍      | 3463/10000 [00:03<00:05, 1109.66it/s]\n",
      " 34%|███▍      | 34/100 [00:00<00:00, 75.20it/s]2it/s]\n",
      " 35%|███▍      | 3466/10000 [00:03<00:05, 1090.49it/s]\n",
      " 44%|████▍     | 44/100 [00:00<00:00, 87.47it/s] t/s]]\n",
      " 34%|███▍      | 3430/10000 [00:03<00:06, 1076.70it/s]\n",
      " 33%|███▎      | 33/100 [00:00<00:00, 81.65it/s] t/s]]\n",
      "  7%|▋         | 666/10000 [00:00<00:08, 1091.57it/s]]\n",
      "  3%|▎         | 3/100 [00:00<00:03, 25.22it/s]31it/s]\n",
      " 41%|████      | 4118/10000 [00:03<00:05, 1031.80it/s]\n",
      " 34%|███▍      | 3398/10000 [00:03<00:06, 1052.57it/s]\n",
      " 44%|████▍     | 44/100 [00:00<00:00, 87.28it/s] it/s]\n",
      " 47%|████▋     | 47/100 [00:00<00:00, 86.97it/s] it/s]\n",
      " 36%|███▌      | 3565/10000 [00:03<00:06, 1070.51it/s]\n",
      " 55%|█████▌    | 55/100 [00:00<00:00, 89.52it/s] it/s]\n",
      " 34%|███▎      | 3361/10000 [00:03<00:06, 1069.01it/s]\n",
      " 62%|██████▏   | 62/100 [00:00<00:00, 102.65it/s]it/s]\n",
      " 46%|████▌     | 4563/10000 [00:04<00:05, 1061.79it/s]\n",
      "  8%|▊         | 8/100 [00:00<00:01, 54.21it/s]6it/s]]\n",
      " 34%|███▍      | 3389/10000 [00:03<00:06, 1063.09it/s]\n",
      " 27%|██▋       | 27/100 [00:00<00:00, 86.70it/s] it/s]\n",
      " 35%|███▍      | 3463/10000 [00:03<00:05, 1147.97it/s]\n",
      "  8%|▊         | 8/100 [00:00<00:01, 48.83it/s]30it/s]\n",
      " 35%|███▍      | 3466/10000 [00:02<00:05, 1166.91it/s]\n",
      "  8%|▊         | 8/100 [00:00<00:01, 48.65it/s]73it/s]\n",
      " 34%|███▍      | 3430/10000 [00:02<00:05, 1171.02it/s]\n",
      " 19%|█▉        | 19/100 [00:00<00:01, 67.31it/s]9it/s]\n",
      "  7%|▋         | 666/10000 [00:00<00:07, 1185.59it/s]]\n",
      "  3%|▎         | 3/100 [00:00<00:03, 26.64it/s]22it/s]\n",
      " 34%|███▍      | 3398/10000 [00:02<00:05, 1186.51it/s]\n",
      " 41%|████      | 4118/10000 [00:03<00:04, 1180.25it/s]\n",
      " 18%|█▊        | 18/100 [00:00<00:01, 66.83it/s]\n",
      " 10%|█         | 10/100 [00:00<00:01, 53.13it/s]2it/s]\n",
      " 36%|███▌      | 3565/10000 [00:03<00:05, 1176.69it/s]\n",
      " 17%|█▋        | 17/100 [00:00<00:01, 65.55it/s]0it/s]\n",
      " 34%|███▎      | 3361/10000 [00:02<00:05, 1177.58it/s]\n",
      " 39%|███▉      | 39/100 [00:00<00:00, 72.15it/s]0it/s]\n",
      " 46%|████▌     | 4563/10000 [00:03<00:04, 1160.07it/s]\n",
      "  5%|▌         | 5/100 [00:00<00:02, 37.19it/s]1it/s]]\n",
      " 34%|███▍      | 3389/10000 [00:02<00:05, 1150.93it/s]\n",
      "  6%|▌         | 6/100 [00:00<00:02, 41.68it/s]8it/s]]\n",
      " 35%|███▍      | 3463/10000 [00:02<00:05, 1177.32it/s]\n",
      "  3%|▎         | 3/100 [00:00<00:03, 27.55it/s]61it/s]\n",
      " 35%|███▍      | 3466/10000 [00:02<00:05, 1174.49it/s]\n",
      " 21%|██        | 21/100 [00:00<00:00, 81.57it/s] it/s]\n",
      " 34%|███▍      | 3430/10000 [00:02<00:05, 1164.72it/s]\n",
      "  5%|▌         | 5/100 [00:00<00:02, 39.45it/s]76it/s]\n",
      "  7%|▋         | 666/10000 [00:00<00:08, 1130.00it/s]]\n",
      "  6%|▌         | 6/100 [00:00<00:02, 46.31it/s]98it/s]\n",
      " 41%|████      | 4118/10000 [00:03<00:05, 1138.17it/s]\n",
      " 34%|███▍      | 3398/10000 [00:02<00:05, 1139.18it/s]\n",
      "  7%|▋         | 7/100 [00:00<00:02, 37.64it/s]97it/s]\n",
      "  3%|▎         | 3/100 [00:00<00:04, 22.75it/s]\n",
      " 36%|███▌      | 3565/10000 [00:03<00:05, 1147.51it/s]\n",
      "  3%|▎         | 3/100 [00:00<00:03, 28.29it/s]29it/s]\n",
      " 34%|███▎      | 3361/10000 [00:02<00:05, 1172.12it/s]\n",
      " 33%|███▎      | 33/100 [00:00<00:00, 83.08it/s] it/s]\n",
      " 46%|████▌     | 4563/10000 [00:03<00:04, 1154.53it/s]\n",
      " 23%|██▎       | 23/100 [00:00<00:00, 85.61it/s] it/s]\n",
      " 34%|███▍      | 3389/10000 [00:02<00:05, 1152.64it/s]\n",
      "  3%|▎         | 3/100 [00:00<00:03, 29.15it/s]7it/s]]\n",
      " 35%|███▍      | 3463/10000 [00:03<00:05, 1150.48it/s]\n",
      " 14%|█▍        | 14/100 [00:00<00:01, 63.50it/s] it/s]\n",
      " 35%|███▍      | 3466/10000 [00:03<00:05, 1123.31it/s]\n",
      " 11%|█         | 11/100 [00:00<00:01, 61.39it/s] it/s]\n",
      " 34%|███▍      | 3430/10000 [00:03<00:05, 1124.89it/s]\n",
      " 10%|█         | 10/100 [00:00<00:01, 56.83it/s]3it/s]\n",
      "  7%|▋         | 666/10000 [00:00<00:07, 1192.25it/s]]\n",
      "  6%|▌         | 6/100 [00:00<00:02, 44.13it/s]24it/s]\n",
      " 41%|████      | 4118/10000 [00:03<00:05, 1153.30it/s]\n",
      "  5%|▌         | 5/100 [00:00<00:02, 39.53it/s]55it/s]\n",
      " 34%|███▍      | 3398/10000 [00:02<00:05, 1179.40it/s]\n",
      " 29%|██▉       | 29/100 [00:00<00:00, 81.70it/s] t/s]]\n",
      " 36%|███▌      | 3565/10000 [00:03<00:05, 1180.38it/s]\n",
      " 10%|█         | 10/100 [00:00<00:01, 56.47it/s]9it/s]\n",
      " 34%|███▎      | 3361/10000 [00:02<00:05, 1169.13it/s]\n",
      "  4%|▍         | 4/100 [00:00<00:02, 33.38it/s]24it/s]\n",
      " 46%|████▌     | 4563/10000 [00:03<00:04, 1168.03it/s]\n",
      "  9%|▉         | 9/100 [00:00<00:01, 54.79it/s]8it/s]]\n",
      " 34%|███▍      | 3389/10000 [00:02<00:05, 1172.31it/s]\n",
      "  6%|▌         | 6/100 [00:00<00:02, 43.16it/s]8it/s]]\n",
      " 35%|███▍      | 3463/10000 [00:02<00:05, 1184.32it/s]\n",
      "  3%|▎         | 3/100 [00:00<00:04, 21.75it/s]19it/s]\n",
      " 35%|███▍      | 3466/10000 [00:02<00:05, 1180.06it/s]\n",
      " 34%|███▍      | 3430/10000 [00:02<00:05, 1179.25it/s]\n",
      "  6%|▌         | 6/100 [00:00<00:03, 30.42it/s]90it/s]\n",
      "100%|██████████| 100/100 [00:01<00:00, 52.74it/s]it/s]\n",
      " 15%|█▌        | 1522/10000 [00:01<00:07, 1141.62it/s]/usr/local/ivan/Unito/conda/envs/tosa/lib/python3.10/site-packages/sklearn/model_selection/_validation.py:778: UserWarning: Scoring failed. The score on this train-test partition for these parameters will be set to nan. Details: \n",
      "Traceback (most recent call last):\n",
      "  File \"/usr/local/ivan/Unito/conda/envs/tosa/lib/python3.10/site-packages/sklearn/model_selection/_validation.py\", line 767, in _score\n",
      "    scores = scorer(estimator, X_test, y_test)\n",
      "  File \"/usr/local/ivan/Unito/conda/envs/tosa/lib/python3.10/site-packages/sklearn/metrics/_scorer.py\", line 444, in _passthrough_scorer\n",
      "    return estimator.score(*args, **kwargs)\n",
      "  File \"/usr/local/ivan/Unito/survhive/survhive/auton_adapters.py\", line 96, in score\n",
      "    return self.harrell_score(y, self.predict(X))[0]\n",
      "  File \"/usr/local/ivan/Unito/survhive/survhive/auton_adapters.py\", line 84, in harrell_score\n",
      "    return concordance_index_censored(\n",
      "  File \"/usr/local/ivan/Unito/conda/envs/tosa/lib/python3.10/site-packages/sksurv/metrics.py\", line 214, in concordance_index_censored\n",
      "    event_indicator, event_time, estimate = _check_inputs(event_indicator, event_time, estimate)\n",
      "  File \"/usr/local/ivan/Unito/conda/envs/tosa/lib/python3.10/site-packages/sksurv/metrics.py\", line 47, in _check_inputs\n",
      "    estimate = _check_estimate_1d(estimate, event_time)\n",
      "  File \"/usr/local/ivan/Unito/conda/envs/tosa/lib/python3.10/site-packages/sksurv/metrics.py\", line 36, in _check_estimate_1d\n",
      "    estimate = check_array(estimate, ensure_2d=False, input_name=\"estimate\")\n",
      "  File \"/usr/local/ivan/Unito/conda/envs/tosa/lib/python3.10/site-packages/sklearn/utils/validation.py\", line 921, in check_array\n",
      "    _assert_all_finite(\n",
      "  File \"/usr/local/ivan/Unito/conda/envs/tosa/lib/python3.10/site-packages/sklearn/utils/validation.py\", line 161, in _assert_all_finite\n",
      "    raise ValueError(msg_err)\n",
      "ValueError: Input estimate contains NaN.\n",
      "\n",
      "  warnings.warn(\n",
      "  7%|▋         | 666/10000 [00:00<00:07, 1175.78it/s]]\n",
      "  5%|▌         | 5/100 [00:00<00:03, 29.05it/s]78it/s]\n",
      " 41%|████      | 4118/10000 [00:03<00:05, 1157.52it/s]\n",
      "  8%|▊         | 8/100 [00:00<00:02, 35.96it/s]64it/s]\n",
      " 34%|███▍      | 3398/10000 [00:02<00:05, 1158.31it/s]\n",
      "100%|██████████| 100/100 [00:01<00:00, 51.80it/s]it/s]\n",
      " 24%|██▍       | 2449/10000 [00:02<00:06, 1100.86it/s]/usr/local/ivan/Unito/conda/envs/tosa/lib/python3.10/site-packages/sklearn/model_selection/_validation.py:778: UserWarning: Scoring failed. The score on this train-test partition for these parameters will be set to nan. Details: \n",
      "Traceback (most recent call last):\n",
      "  File \"/usr/local/ivan/Unito/conda/envs/tosa/lib/python3.10/site-packages/sklearn/model_selection/_validation.py\", line 767, in _score\n",
      "    scores = scorer(estimator, X_test, y_test)\n",
      "  File \"/usr/local/ivan/Unito/conda/envs/tosa/lib/python3.10/site-packages/sklearn/metrics/_scorer.py\", line 444, in _passthrough_scorer\n",
      "    return estimator.score(*args, **kwargs)\n",
      "  File \"/usr/local/ivan/Unito/survhive/survhive/auton_adapters.py\", line 96, in score\n",
      "    return self.harrell_score(y, self.predict(X))[0]\n",
      "  File \"/usr/local/ivan/Unito/survhive/survhive/auton_adapters.py\", line 84, in harrell_score\n",
      "    return concordance_index_censored(\n",
      "  File \"/usr/local/ivan/Unito/conda/envs/tosa/lib/python3.10/site-packages/sksurv/metrics.py\", line 214, in concordance_index_censored\n",
      "    event_indicator, event_time, estimate = _check_inputs(event_indicator, event_time, estimate)\n",
      "  File \"/usr/local/ivan/Unito/conda/envs/tosa/lib/python3.10/site-packages/sksurv/metrics.py\", line 47, in _check_inputs\n",
      "    estimate = _check_estimate_1d(estimate, event_time)\n",
      "  File \"/usr/local/ivan/Unito/conda/envs/tosa/lib/python3.10/site-packages/sksurv/metrics.py\", line 36, in _check_estimate_1d\n",
      "    estimate = check_array(estimate, ensure_2d=False, input_name=\"estimate\")\n",
      "  File \"/usr/local/ivan/Unito/conda/envs/tosa/lib/python3.10/site-packages/sklearn/utils/validation.py\", line 921, in check_array\n",
      "    _assert_all_finite(\n",
      "  File \"/usr/local/ivan/Unito/conda/envs/tosa/lib/python3.10/site-packages/sklearn/utils/validation.py\", line 161, in _assert_all_finite\n",
      "    raise ValueError(msg_err)\n",
      "ValueError: Input estimate contains NaN.\n",
      "\n",
      "  warnings.warn(\n",
      " 36%|███▌      | 3565/10000 [00:03<00:05, 1150.04it/s]\n",
      " 10%|█         | 10/100 [00:00<00:02, 37.65it/s]it/s]]\n",
      " 46%|████▌     | 4563/10000 [00:04<00:04, 1129.27it/s]\n",
      "  9%|▉         | 9/100 [00:00<00:03, 29.50it/s]19it/s]\n",
      " 34%|███▎      | 3361/10000 [00:02<00:05, 1129.64it/s]\n",
      "  4%|▍         | 4/100 [00:00<00:04, 23.44it/s]38it/s]\n",
      " 34%|███▍      | 3389/10000 [00:02<00:05, 1133.25it/s]\n",
      "  4%|▍         | 4/100 [00:00<00:04, 21.91it/s]61it/s]\n",
      " 35%|███▍      | 3463/10000 [00:03<00:05, 1123.39it/s]\n",
      " 36%|███▌      | 36/100 [00:00<00:00, 88.23it/s] it/s]\n",
      " 35%|███▍      | 3466/10000 [00:03<00:05, 1109.68it/s]\n",
      "  8%|▊         | 8/100 [00:00<00:01, 47.88it/s]80it/s]\n",
      " 34%|███▍      | 3430/10000 [00:03<00:06, 1093.10it/s]\n",
      "  9%|▉         | 9/100 [00:00<00:01, 58.57it/s]1it/s]]\n",
      "  7%|▋         | 666/10000 [00:00<00:08, 1145.67it/s]]\n",
      "  5%|▌         | 5/100 [00:00<00:02, 37.75it/s]16it/s]\n",
      " 41%|████      | 4118/10000 [00:03<00:05, 1124.38it/s]\n",
      " 34%|███▍      | 3398/10000 [00:02<00:05, 1141.75it/s]\n",
      " 34%|███▍      | 34/100 [00:00<00:00, 93.34it/s] it/s]\n",
      " 24%|██▍       | 24/100 [00:00<00:00, 85.12it/s] \n",
      " 36%|███▌      | 3565/10000 [00:03<00:05, 1147.08it/s]\n",
      " 35%|███▌      | 35/100 [00:00<00:00, 83.08it/s] it/s]\n",
      " 34%|███▎      | 3361/10000 [00:02<00:05, 1143.10it/s]\n",
      "  7%|▋         | 7/100 [00:00<00:01, 50.92it/s]22it/s]\n",
      " 46%|████▌     | 4563/10000 [00:03<00:04, 1140.77it/s]\n",
      " 16%|█▌        | 16/100 [00:00<00:01, 75.30it/s] it/s]\n",
      " 34%|███▍      | 3389/10000 [00:02<00:05, 1164.51it/s]\n",
      " 13%|█▎        | 13/100 [00:00<00:01, 69.30it/s] it/s]\n",
      " 35%|███▍      | 3463/10000 [00:02<00:05, 1175.46it/s]\n",
      " 11%|█         | 11/100 [00:00<00:01, 54.61it/s]7it/s]\n",
      " 35%|███▍      | 3466/10000 [00:03<00:05, 1130.16it/s]\n",
      "  9%|▉         | 9/100 [00:00<00:02, 41.08it/s]8it/s] \n",
      " 34%|███▍      | 3430/10000 [00:03<00:06, 976.21it/s]\n",
      " 12%|█▏        | 12/100 [00:00<00:04, 21.53it/s]it/s]\n",
      "  7%|▋         | 666/10000 [00:00<00:09, 975.02it/s] \n",
      "  3%|▎         | 3/100 [00:00<00:04, 21.46it/s]9it/s]\n",
      " 41%|████      | 4118/10000 [00:04<00:06, 888.27it/s] \n",
      "  8%|▊         | 8/100 [00:00<00:02, 40.75it/s]26it/s]\n",
      " 34%|███▍      | 3398/10000 [00:03<00:07, 866.29it/s] \n",
      " 23%|██▎       | 23/100 [00:00<00:01, 58.96it/s]2it/s]\n",
      " 36%|███▌      | 3565/10000 [00:03<00:06, 1063.26it/s]\n",
      " 24%|██▍       | 24/100 [00:00<00:01, 63.44it/s]5it/s]\n",
      " 34%|███▎      | 3361/10000 [00:03<00:05, 1113.59it/s]\n",
      "  6%|▌         | 6/100 [00:00<00:02, 33.20it/s]53it/s]\n",
      " 46%|████▌     | 4563/10000 [00:04<00:04, 1102.50it/s]\n",
      "  8%|▊         | 8/100 [00:00<00:02, 45.46it/s]59it/s]\n",
      " 34%|███▍      | 3389/10000 [00:02<00:05, 1148.67it/s]\n",
      " 11%|█         | 11/100 [00:00<00:01, 54.68it/s]\n",
      "/usr/local/ivan/Unito/conda/envs/tosa/lib/python3.10/site-packages/sklearn/model_selection/_search.py:952: UserWarning: One or more of the test scores are non-finite: [0.68480125 0.57790318 0.65420824 0.67026979 0.69810694 0.70257326\n",
      " 0.6657871  0.5705996  0.60788253 0.6723731  0.66852051 0.65102019\n",
      " 0.64014859 0.66098419 0.71784005 0.58852107 0.66560195 0.66341768\n",
      " 0.68923226 0.62321195 0.6645243         nan 0.62966792 0.66954458]\n",
      "  warnings.warn(\n",
      " 36%|████████████████████████████████████████████▌                                                                              | 3626/10000 [00:03<00:05, 1148.87it/s]\n",
      " 10%|████████████▉                                                                                                                    | 10/100 [00:00<00:02, 30.75it/s]\n"
     ]
    },
    {
     "data": {
      "text/plain": [
       "(0.6569767441860465,\n",
       " {'validation_size': 0.1,\n",
       "  'n_distr': 3,\n",
       "  'max_epochs': 100,\n",
       "  'learning_rate': 0.005,\n",
       "  'layer_sizes': [14],\n",
       "  'elbo': False,\n",
       "  'distr_kind': 'Weibull',\n",
       "  'batch_size': 32})"
      ]
     },
     "execution_count": 40,
     "metadata": {},
     "output_type": "execute_result"
    }
   ],
   "source": [
    "# Stratified CV\n",
    "%timeit -c -n 1 -r 1\n",
    "opt_dsm, opt_dsm_params, opt_dsm_search = optimize(survhive.DeepSurvivalMachines(rng_seed=2309),  X_train, y_train, mode='sklearn-random', n_jobs=3)\n",
    "opt_dsm.score(X_test, y_test), opt_dsm_params"
   ]
  },
  {
   "cell_type": "code",
   "execution_count": 48,
   "id": "4e6c5be7-8281-4924-b69e-96bf94ea9773",
   "metadata": {},
   "outputs": [
    {
     "data": {
      "text/plain": [
       "[(1,\n",
       "  0.7178400452138914,\n",
       "  0.08219866560146068,\n",
       "  {'validation_size': 0.1,\n",
       "   'n_distr': 3,\n",
       "   'max_epochs': 100,\n",
       "   'learning_rate': 0.005,\n",
       "   'layer_sizes': [14],\n",
       "   'elbo': False,\n",
       "   'distr_kind': 'Weibull',\n",
       "   'batch_size': 32}),\n",
       " (2,\n",
       "  0.7025732609869164,\n",
       "  0.05443553005684397,\n",
       "  {'validation_size': 0.1,\n",
       "   'n_distr': 1,\n",
       "   'max_epochs': 100,\n",
       "   'learning_rate': 0.001,\n",
       "   'layer_sizes': [7],\n",
       "   'elbo': False,\n",
       "   'distr_kind': 'Weibull',\n",
       "   'batch_size': 16}),\n",
       " (3,\n",
       "  0.6981069375027897,\n",
       "  0.08080460271100312,\n",
       "  {'validation_size': 0.1,\n",
       "   'n_distr': 2,\n",
       "   'max_epochs': 100,\n",
       "   'learning_rate': 0.005,\n",
       "   'layer_sizes': [54, 54],\n",
       "   'elbo': False,\n",
       "   'distr_kind': 'Weibull',\n",
       "   'batch_size': 32}),\n",
       " (4,\n",
       "  0.6892322568102879,\n",
       "  0.08074688500877836,\n",
       "  {'validation_size': 0.1,\n",
       "   'n_distr': 1,\n",
       "   'max_epochs': 100,\n",
       "   'learning_rate': 0.005,\n",
       "   'layer_sizes': [5],\n",
       "   'elbo': False,\n",
       "   'distr_kind': 'Weibull',\n",
       "   'batch_size': 16}),\n",
       " (5,\n",
       "  0.68480125131138,\n",
       "  0.12770012028028363,\n",
       "  {'validation_size': 0.1,\n",
       "   'n_distr': 1,\n",
       "   'max_epochs': 100,\n",
       "   'learning_rate': 0.005,\n",
       "   'layer_sizes': [32, 32, 32],\n",
       "   'elbo': False,\n",
       "   'distr_kind': 'Weibull',\n",
       "   'batch_size': 16}),\n",
       " (6,\n",
       "  0.6723730950646187,\n",
       "  0.09789027230747774,\n",
       "  {'validation_size': 0.1,\n",
       "   'n_distr': 1,\n",
       "   'max_epochs': 100,\n",
       "   'learning_rate': 0.005,\n",
       "   'layer_sizes': [19, 19, 19],\n",
       "   'elbo': False,\n",
       "   'distr_kind': 'Weibull',\n",
       "   'batch_size': 16}),\n",
       " (7,\n",
       "  0.670269786896231,\n",
       "  0.0696959890728102,\n",
       "  {'validation_size': 0.1,\n",
       "   'n_distr': 1,\n",
       "   'max_epochs': 100,\n",
       "   'learning_rate': 0.005,\n",
       "   'layer_sizes': [5, 5],\n",
       "   'elbo': False,\n",
       "   'distr_kind': 'Weibull',\n",
       "   'batch_size': 16}),\n",
       " (8,\n",
       "  0.669544577130772,\n",
       "  0.13198032849029048,\n",
       "  {'validation_size': 0.1,\n",
       "   'n_distr': 3,\n",
       "   'max_epochs': 100,\n",
       "   'learning_rate': 0.001,\n",
       "   'layer_sizes': [70, 70, 70],\n",
       "   'elbo': False,\n",
       "   'distr_kind': 'Weibull',\n",
       "   'batch_size': 32}),\n",
       " (9,\n",
       "  0.6685205121451073,\n",
       "  0.089045066529559,\n",
       "  {'validation_size': 0.1,\n",
       "   'n_distr': 2,\n",
       "   'max_epochs': 100,\n",
       "   'learning_rate': 0.001,\n",
       "   'layer_sizes': [24, 24],\n",
       "   'elbo': False,\n",
       "   'distr_kind': 'Weibull',\n",
       "   'batch_size': 32}),\n",
       " (10,\n",
       "  0.6657870956169052,\n",
       "  0.09186912003702505,\n",
       "  {'validation_size': 0.1,\n",
       "   'n_distr': 3,\n",
       "   'max_epochs': 100,\n",
       "   'learning_rate': 0.001,\n",
       "   'layer_sizes': [9, 9],\n",
       "   'elbo': False,\n",
       "   'distr_kind': 'Weibull',\n",
       "   'batch_size': 16})]"
      ]
     },
     "execution_count": 48,
     "metadata": {},
     "output_type": "execute_result"
    }
   ],
   "source": [
    "survhive.get_top_models(opt_dsm_search)"
   ]
  },
  {
   "cell_type": "code",
   "execution_count": 49,
   "id": "d29144de-820a-4d6e-89c0-bbf50acd6684",
   "metadata": {
    "scrolled": true
   },
   "outputs": [
    {
     "name": "stderr",
     "output_type": "stream",
     "text": [
      " 36%|████████████████████████████████████████████▌                                                                              | 3626/10000 [00:03<00:05, 1142.41it/s]\n",
      " 16%|███████████████████▉                                                                                                             | 31/200 [00:00<00:03, 51.10it/s]"
     ]
    },
    {
     "name": "stdout",
     "output_type": "stream",
     "text": [
      "Train:  0.9224 , Test: 0.7112\n"
     ]
    },
    {
     "name": "stderr",
     "output_type": "stream",
     "text": [
      "\n"
     ]
    },
    {
     "data": {
      "text/plain": [
       "0.7112403100775194"
      ]
     },
     "execution_count": 49,
     "metadata": {},
     "output_type": "execute_result"
    }
   ],
   "source": [
    "test_model(survhive.DeepSurvivalMachines, batch_size=16, layer_sizes=[7], n_distr=1, max_epochs=200)"
   ]
  },
  {
   "cell_type": "markdown",
   "id": "b0b40382-076d-4687-94be-a531868a6f55",
   "metadata": {},
   "source": [
    "# PyCox"
   ]
  },
  {
   "cell_type": "code",
   "execution_count": 55,
   "id": "d4c93711-b26b-447b-a207-32641f9c5e89",
   "metadata": {},
   "outputs": [],
   "source": [
    "#import pycox.models"
   ]
  },
  {
   "cell_type": "code",
   "execution_count": 28,
   "id": "ec08ab11-20e1-4d66-9cf7-862a875fe8c6",
   "metadata": {},
   "outputs": [
    {
     "data": {
      "text/html": [
       "<style>#sk-container-id-2 {color: black;background-color: white;}#sk-container-id-2 pre{padding: 0;}#sk-container-id-2 div.sk-toggleable {background-color: white;}#sk-container-id-2 label.sk-toggleable__label {cursor: pointer;display: block;width: 100%;margin-bottom: 0;padding: 0.3em;box-sizing: border-box;text-align: center;}#sk-container-id-2 label.sk-toggleable__label-arrow:before {content: \"▸\";float: left;margin-right: 0.25em;color: #696969;}#sk-container-id-2 label.sk-toggleable__label-arrow:hover:before {color: black;}#sk-container-id-2 div.sk-estimator:hover label.sk-toggleable__label-arrow:before {color: black;}#sk-container-id-2 div.sk-toggleable__content {max-height: 0;max-width: 0;overflow: hidden;text-align: left;background-color: #f0f8ff;}#sk-container-id-2 div.sk-toggleable__content pre {margin: 0.2em;color: black;border-radius: 0.25em;background-color: #f0f8ff;}#sk-container-id-2 input.sk-toggleable__control:checked~div.sk-toggleable__content {max-height: 200px;max-width: 100%;overflow: auto;}#sk-container-id-2 input.sk-toggleable__control:checked~label.sk-toggleable__label-arrow:before {content: \"▾\";}#sk-container-id-2 div.sk-estimator input.sk-toggleable__control:checked~label.sk-toggleable__label {background-color: #d4ebff;}#sk-container-id-2 div.sk-label input.sk-toggleable__control:checked~label.sk-toggleable__label {background-color: #d4ebff;}#sk-container-id-2 input.sk-hidden--visually {border: 0;clip: rect(1px 1px 1px 1px);clip: rect(1px, 1px, 1px, 1px);height: 1px;margin: -1px;overflow: hidden;padding: 0;position: absolute;width: 1px;}#sk-container-id-2 div.sk-estimator {font-family: monospace;background-color: #f0f8ff;border: 1px dotted black;border-radius: 0.25em;box-sizing: border-box;margin-bottom: 0.5em;}#sk-container-id-2 div.sk-estimator:hover {background-color: #d4ebff;}#sk-container-id-2 div.sk-parallel-item::after {content: \"\";width: 100%;border-bottom: 1px solid gray;flex-grow: 1;}#sk-container-id-2 div.sk-label:hover label.sk-toggleable__label {background-color: #d4ebff;}#sk-container-id-2 div.sk-serial::before {content: \"\";position: absolute;border-left: 1px solid gray;box-sizing: border-box;top: 0;bottom: 0;left: 50%;z-index: 0;}#sk-container-id-2 div.sk-serial {display: flex;flex-direction: column;align-items: center;background-color: white;padding-right: 0.2em;padding-left: 0.2em;position: relative;}#sk-container-id-2 div.sk-item {position: relative;z-index: 1;}#sk-container-id-2 div.sk-parallel {display: flex;align-items: stretch;justify-content: center;background-color: white;position: relative;}#sk-container-id-2 div.sk-item::before, #sk-container-id-2 div.sk-parallel-item::before {content: \"\";position: absolute;border-left: 1px solid gray;box-sizing: border-box;top: 0;bottom: 0;left: 50%;z-index: -1;}#sk-container-id-2 div.sk-parallel-item {display: flex;flex-direction: column;z-index: 1;position: relative;background-color: white;}#sk-container-id-2 div.sk-parallel-item:first-child::after {align-self: flex-end;width: 50%;}#sk-container-id-2 div.sk-parallel-item:last-child::after {align-self: flex-start;width: 50%;}#sk-container-id-2 div.sk-parallel-item:only-child::after {width: 0;}#sk-container-id-2 div.sk-dashed-wrapped {border: 1px dashed gray;margin: 0 0.4em 0.5em 0.4em;box-sizing: border-box;padding-bottom: 0.4em;background-color: white;}#sk-container-id-2 div.sk-label label {font-family: monospace;font-weight: bold;display: inline-block;line-height: 1.2em;}#sk-container-id-2 div.sk-label-container {text-align: center;}#sk-container-id-2 div.sk-container {/* jupyter's `normalize.less` sets `[hidden] { display: none; }` but bootstrap.min.css set `[hidden] { display: none !important; }` so we also need the `!important` here to be able to override the default hidden behavior on the sphinx rendered scikit-learn.org. See: https://github.com/scikit-learn/scikit-learn/issues/21755 */display: inline-block !important;position: relative;}#sk-container-id-2 div.sk-text-repr-fallback {display: none;}</style><div id=\"sk-container-id-2\" class=\"sk-top-container\"><div class=\"sk-text-repr-fallback\"><pre>DeepHitSingle(rng_seed=2309, num_durations=10, layer_sizes=[10, 10], epochs=10, batch_size=16, validation_size=0.1, learning_rate=0.001, dropout=0.1, device=&#x27;cpu&#x27;)</pre><b>In a Jupyter environment, please rerun this cell to show the HTML representation or trust the notebook. <br />On GitHub, the HTML representation is unable to render, please try loading this page with nbviewer.org.</b></div><div class=\"sk-container\" hidden><div class=\"sk-item\"><div class=\"sk-estimator sk-toggleable\"><input class=\"sk-toggleable__control sk-hidden--visually\" id=\"sk-estimator-id-2\" type=\"checkbox\" checked><label for=\"sk-estimator-id-2\" class=\"sk-toggleable__label sk-toggleable__label-arrow\">DeepHitSingle</label><div class=\"sk-toggleable__content\"><pre>DeepHitSingle(rng_seed=2309, num_durations=10, layer_sizes=[10, 10], epochs=10, batch_size=16, validation_size=0.1, learning_rate=0.001, dropout=0.1, device=&#x27;cpu&#x27;)</pre></div></div></div></div></div>"
      ],
      "text/plain": [
       "DeepHitSingle(rng_seed=2309, num_durations=10, layer_sizes=[10, 10], epochs=10, batch_size=16, validation_size=0.1, learning_rate=0.001, dropout=0.1, device='cpu')"
      ]
     },
     "execution_count": 28,
     "metadata": {},
     "output_type": "execute_result"
    }
   ],
   "source": [
    "dhs = survhive.DeepHitSingle(rng_seed=2309)\n",
    "dhs"
   ]
  },
  {
   "cell_type": "code",
   "execution_count": 29,
   "id": "02f94508-cc94-4aa7-bce1-519736713ae4",
   "metadata": {},
   "outputs": [
    {
     "data": {
      "text/plain": [
       "{'num_durations': [10],\n",
       " 'layer_sizes': [[3],\n",
       "  [4],\n",
       "  [5],\n",
       "  [7],\n",
       "  [9],\n",
       "  [11],\n",
       "  [14],\n",
       "  [19],\n",
       "  [24],\n",
       "  [32],\n",
       "  [41],\n",
       "  [54],\n",
       "  [70],\n",
       "  [3, 3],\n",
       "  [4, 4],\n",
       "  [5, 5],\n",
       "  [7, 7],\n",
       "  [9, 9],\n",
       "  [11, 11],\n",
       "  [14, 14],\n",
       "  [19, 19],\n",
       "  [24, 24],\n",
       "  [32, 32],\n",
       "  [41, 41],\n",
       "  [54, 54],\n",
       "  [70, 70],\n",
       "  [3, 3, 3],\n",
       "  [4, 4, 4],\n",
       "  [5, 5, 5],\n",
       "  [7, 7, 7],\n",
       "  [9, 9, 9],\n",
       "  [11, 11, 11],\n",
       "  [14, 14, 14],\n",
       "  [19, 19, 19],\n",
       "  [24, 24, 24],\n",
       "  [32, 32, 32],\n",
       "  [41, 41, 41],\n",
       "  [54, 54, 54],\n",
       "  [70, 70, 70]],\n",
       " 'epochs': [100],\n",
       " 'batch_size': [16, 32],\n",
       " 'validation_size': [0.1]}"
      ]
     },
     "execution_count": 29,
     "metadata": {},
     "output_type": "execute_result"
    }
   ],
   "source": [
    "dhs_grid = survhive.DeepHitSingle().get_parameter_grid(max_width=84)\n",
    "dhs_grid"
   ]
  },
  {
   "cell_type": "code",
   "execution_count": 31,
   "id": "49d5c9f0-9ae1-4cc0-87ee-829b2614f147",
   "metadata": {},
   "outputs": [
    {
     "name": "stdout",
     "output_type": "stream",
     "text": [
      "Train:  0.6871 , Test: 0.5136\n",
      "Train:  0.6871 , Test: 0.5136\n",
      "Train:  0.6871 , Test: 0.5136\n",
      "Train:  0.6871 , Test: 0.5136\n",
      "Train:  0.6871 , Test: 0.5136\n",
      "Train:  0.6871 , Test: 0.5136\n",
      "Train:  0.6871 , Test: 0.5136\n",
      "Train:  0.6871 , Test: 0.5136\n",
      "Train:  0.6871 , Test: 0.5136\n",
      "Train:  0.6871 , Test: 0.5136\n",
      "366 ms ± 88.6 ms per loop (mean ± std. dev. of 10 runs, 1 loop each)\n"
     ]
    }
   ],
   "source": [
    "%%timeit -n 1 -r 10\n",
    "test_model(survhive.DeepHitSingle, rng_seed=2309, num_durations=10, validation_size=None, learning_rate=0.005,  epochs=100, layer_sizes=[7,7])"
   ]
  },
  {
   "cell_type": "code",
   "execution_count": 32,
   "id": "3e3b4b4e-8c64-46c3-a83b-52e091495976",
   "metadata": {},
   "outputs": [
    {
     "data": {
      "text/plain": [
       "4"
      ]
     },
     "execution_count": 32,
     "metadata": {},
     "output_type": "execute_result"
    }
   ],
   "source": [
    "dhs_tries = survhive.optimization._guess_tries(dhs_grid)\n",
    "dhs_tries"
   ]
  },
  {
   "cell_type": "code",
   "execution_count": 86,
   "id": "604cd011-e0c6-43ea-b273-f275f465ed29",
   "metadata": {},
   "outputs": [
    {
     "data": {
      "text/plain": [
       "120.0"
      ]
     },
     "execution_count": 86,
     "metadata": {},
     "output_type": "execute_result"
    }
   ],
   "source": [
    "#estimated run time (s)\n",
    "0.5 * dhs_tries *10  #default fraction is 0.05 "
   ]
  },
  {
   "cell_type": "code",
   "execution_count": 33,
   "id": "13855dba-fc5e-45fc-b3b0-4d186abc14f6",
   "metadata": {},
   "outputs": [
    {
     "name": "stdout",
     "output_type": "stream",
     "text": [
      "Random search tries: 25\n"
     ]
    },
    {
     "data": {
      "text/plain": [
       "(0.5058139534883721,\n",
       " {'validation_size': 0.1,\n",
       "  'num_durations': 10,\n",
       "  'layer_sizes': [24, 24],\n",
       "  'epochs': 100,\n",
       "  'batch_size': 32})"
      ]
     },
     "execution_count": 33,
     "metadata": {},
     "output_type": "execute_result"
    }
   ],
   "source": [
    "# Stratified CV\n",
    "%timeit -c -n 1 -r 1\n",
    "opt_dhs, opt_dhs_params, opt_dhs_search = optimize(survhive.DeepHitSingle(rng_seed=2309),  X_train, y_train, mode='sklearn-random' , tries=25)\n",
    "opt_dhs.score(X_test, y_test), opt_dhs_params"
   ]
  },
  {
   "cell_type": "code",
   "execution_count": 34,
   "id": "a1f2b7e3-a341-4c6b-bf29-376a36cf8a43",
   "metadata": {},
   "outputs": [
    {
     "name": "stdout",
     "output_type": "stream",
     "text": [
      "Train:  0.7644 , Test: 0.5058\n"
     ]
    },
    {
     "data": {
      "text/plain": [
       "0.5058139534883721"
      ]
     },
     "execution_count": 34,
     "metadata": {},
     "output_type": "execute_result"
    }
   ],
   "source": [
    "test_model(survhive.DeepHitSingle, **opt_dhs_params, rng_seed=2309)"
   ]
  },
  {
   "cell_type": "code",
   "execution_count": 35,
   "id": "f0d67cd4-7d7c-4576-9d6e-7f05a5e54a4c",
   "metadata": {},
   "outputs": [
    {
     "data": {
      "text/plain": [
       "<Axes: >"
      ]
     },
     "execution_count": 35,
     "metadata": {},
     "output_type": "execute_result"
    },
    {
     "data": {
      "image/png": "[encoded data removed]",
      "text/plain": [
       "<Figure size 640x480 with 1 Axes>"
      ]
     },
     "metadata": {},
     "output_type": "display_data"
    }
   ],
   "source": [
    "opt_dhs.training_log_.plot()\n"
   ]
  },
  {
   "cell_type": "code",
   "execution_count": 36,
   "id": "29cdad04-d80e-425a-b279-e6ae9ef1c3ab",
   "metadata": {},
   "outputs": [
    {
     "data": {
      "text/plain": [
       "(0.49224806201550386,\n",
       " {'batch_size': 16,\n",
       "  'epochs': 100,\n",
       "  'layer_sizes': [24, 24, 24],\n",
       "  'num_durations': 10,\n",
       "  'validation_size': 0.1})"
      ]
     },
     "execution_count": 36,
     "metadata": {},
     "output_type": "execute_result"
    }
   ],
   "source": [
    "# Stratified CV\n",
    "%timeit -c -n 1 -r 1\n",
    "opt_dhs, opt_dhs_params, opt_dhs_search = optimize(survhive.DeepHitSingle(rng_seed=2309),  X_train, y_train)\n",
    "opt_dhs.score(X_test, y_test), opt_dhs_params"
   ]
  },
  {
   "cell_type": "code",
   "execution_count": 38,
   "id": "56aa1e2b-8abd-41c5-8942-3afc55723bff",
   "metadata": {},
   "outputs": [
    {
     "data": {
      "text/plain": [
       "[(1,\n",
       "  0.679903369304171,\n",
       "  0.06130404960108424,\n",
       "  {'batch_size': 16,\n",
       "   'epochs': 100,\n",
       "   'layer_sizes': [24, 24, 24],\n",
       "   'num_durations': 10,\n",
       "   'validation_size': 0.1}),\n",
       " (2,\n",
       "  0.6751875391777484,\n",
       "  0.06698878529817202,\n",
       "  {'batch_size': 32,\n",
       "   'epochs': 100,\n",
       "   'layer_sizes': [24, 24, 24],\n",
       "   'num_durations': 10,\n",
       "   'validation_size': 0.1}),\n",
       " (3,\n",
       "  0.6379099492484774,\n",
       "  0.09406721806301618,\n",
       "  {'batch_size': 16,\n",
       "   'epochs': 100,\n",
       "   'layer_sizes': [11, 11],\n",
       "   'num_durations': 10,\n",
       "   'validation_size': 0.1}),\n",
       " (4,\n",
       "  0.6258859182112918,\n",
       "  0.09973355846102765,\n",
       "  {'batch_size': 32,\n",
       "   'epochs': 100,\n",
       "   'layer_sizes': [11, 11],\n",
       "   'num_durations': 10,\n",
       "   'validation_size': 0.1}),\n",
       " (5,\n",
       "  0.6234481888778655,\n",
       "  0.07697892424340054,\n",
       "  {'batch_size': 16,\n",
       "   'epochs': 100,\n",
       "   'layer_sizes': [11],\n",
       "   'num_durations': 10,\n",
       "   'validation_size': 0.1}),\n",
       " (6,\n",
       "  0.6173458743669213,\n",
       "  0.09644734884390095,\n",
       "  {'batch_size': 32,\n",
       "   'epochs': 100,\n",
       "   'layer_sizes': [24, 24],\n",
       "   'num_durations': 10,\n",
       "   'validation_size': 0.1}),\n",
       " (7,\n",
       "  0.616101144335292,\n",
       "  0.0712906425405255,\n",
       "  {'batch_size': 32,\n",
       "   'epochs': 100,\n",
       "   'layer_sizes': [11],\n",
       "   'num_durations': 10,\n",
       "   'validation_size': 0.1}),\n",
       " (8,\n",
       "  0.6137403761690019,\n",
       "  0.09189842887930039,\n",
       "  {'batch_size': 16,\n",
       "   'epochs': 100,\n",
       "   'layer_sizes': [24, 24],\n",
       "   'num_durations': 10,\n",
       "   'validation_size': 0.1}),\n",
       " (9,\n",
       "  0.6027877808884748,\n",
       "  0.07914148368419908,\n",
       "  {'batch_size': 16,\n",
       "   'epochs': 100,\n",
       "   'layer_sizes': [3],\n",
       "   'num_durations': 10,\n",
       "   'validation_size': 0.1}),\n",
       " (10,\n",
       "  0.6019794500902141,\n",
       "  0.11406914098109469,\n",
       "  {'batch_size': 16,\n",
       "   'epochs': 100,\n",
       "   'layer_sizes': [70],\n",
       "   'num_durations': 10,\n",
       "   'validation_size': 0.1})]"
      ]
     },
     "execution_count": 38,
     "metadata": {},
     "output_type": "execute_result"
    }
   ],
   "source": [
    "survhive.get_top_models(opt_dhs_search)"
   ]
  },
  {
   "cell_type": "code",
   "execution_count": 39,
   "id": "12b2e107-ecc2-4f5a-914e-8f6ef76b0cbc",
   "metadata": {},
   "outputs": [
    {
     "data": {
      "text/plain": [
       "<Axes: >"
      ]
     },
     "execution_count": 39,
     "metadata": {},
     "output_type": "execute_result"
    },
    {
     "data": {
      "image/png": "[encoded data removed]",
      "text/plain": [
       "<Figure size 640x480 with 1 Axes>"
      ]
     },
     "metadata": {},
     "output_type": "display_data"
    }
   ],
   "source": [
    "opt_dhs.training_log_.plot()\n"
   ]
  }
 ],
 "metadata": {
  "kernelspec": {
   "display_name": "Python 3 (ipykernel)",
   "language": "python",
   "name": "python3"
  },
  "language_info": {
   "codemirror_mode": {
    "name": "ipython",
    "version": 3
   },
   "file_extension": ".py",
   "mimetype": "text/x-python",
   "name": "python",
   "nbconvert_exporter": "python",
   "pygments_lexer": "ipython3",
   "version": "3.10.9"
  }
 },
 "nbformat": 4,
 "nbformat_minor": 5
}
