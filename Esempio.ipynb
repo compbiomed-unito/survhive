{
 "cells": [
  {
   "cell_type": "code",
   "execution_count": 1,
   "id": "43de0873",
   "metadata": {},
   "outputs": [],
   "source": [
    "import numpy"
   ]
  },
  {
   "attachments": {},
   "cell_type": "markdown",
   "id": "6210e28b",
   "metadata": {},
   "source": [
    "## Mini example for scikit-survival estimators"
   ]
  },
  {
   "attachments": {},
   "cell_type": "markdown",
   "id": "a5f734c0",
   "metadata": {},
   "source": [
    "Load standard dataset for testing"
   ]
  },
  {
   "cell_type": "code",
   "execution_count": 2,
   "id": "2bd93295",
   "metadata": {},
   "outputs": [],
   "source": [
    "def load_toy_data():\n",
    "    import sksurv.datasets\n",
    "    from sklearn.preprocessing import OneHotEncoder\n",
    "    \n",
    "    X, y = sksurv.datasets.load_breast_cancer()\n",
    "    X = numpy.concatenate([\n",
    "        X.select_dtypes('float'), \n",
    "        OneHotEncoder(sparse=False).fit_transform(X.select_dtypes('category'))\n",
    "        #OneHotEncoder(sparse_output=False).fit_transform(X.select_dtypes('category'))\n",
    "        ], axis=1)\n",
    "    return X, y"
   ]
  },
  {
   "cell_type": "code",
   "execution_count": 3,
   "id": "359b7d27",
   "metadata": {},
   "outputs": [
    {
     "data": {
      "text/plain": [
       "(198, 84)"
      ]
     },
     "execution_count": 3,
     "metadata": {},
     "output_type": "execute_result"
    }
   ],
   "source": [
    "X, y = load_toy_data()\n",
    "X.shape"
   ]
  },
  {
   "attachments": {},
   "cell_type": "markdown",
   "id": "601509e7",
   "metadata": {},
   "source": [
    "Fit penalized Cox model (from scikit-survival)"
   ]
  },
  {
   "cell_type": "code",
   "execution_count": 4,
   "id": "27f0f135",
   "metadata": {},
   "outputs": [],
   "source": [
    "from sksurv.linear_model import CoxnetSurvivalAnalysis\n",
    "from sksurv.metrics import concordance_index_censored"
   ]
  },
  {
   "cell_type": "code",
   "execution_count": 5,
   "id": "179fc520",
   "metadata": {},
   "outputs": [],
   "source": [
    "model = CoxnetSurvivalAnalysis()\n",
    "model.fit(X, y)\n",
    "pred = model.predict(X)"
   ]
  },
  {
   "attachments": {},
   "cell_type": "markdown",
   "id": "44d25f3e",
   "metadata": {},
   "source": [
    "Standard functions from scikit-learn can be used with scikit-survival models"
   ]
  },
  {
   "cell_type": "code",
   "execution_count": 6,
   "id": "eb18cdb5",
   "metadata": {},
   "outputs": [],
   "source": [
    "from sklearn.model_selection import cross_val_score"
   ]
  },
  {
   "cell_type": "code",
   "execution_count": 7,
   "id": "d25715c4",
   "metadata": {},
   "outputs": [
    {
     "data": {
      "text/plain": [
       "array([0.61711712, 0.53243243, 0.58865248, 0.60504202, 0.75238095])"
      ]
     },
     "execution_count": 7,
     "metadata": {},
     "output_type": "execute_result"
    }
   ],
   "source": [
    "cross_val_score(CoxnetSurvivalAnalysis(), X, y)"
   ]
  },
  {
   "attachments": {},
   "cell_type": "markdown",
   "id": "0f809f42",
   "metadata": {},
   "source": [
    "## Scikit-learn compatibility\n",
    "Scikit-learn has a checker for estimators to see if they conform to their specification. "
   ]
  },
  {
   "cell_type": "code",
   "execution_count": 8,
   "id": "5d646652",
   "metadata": {},
   "outputs": [],
   "source": [
    "from sklearn.utils.estimator_checks import check_estimator"
   ]
  },
  {
   "attachments": {},
   "cell_type": "markdown",
   "id": "4dc0b880",
   "metadata": {},
   "source": [
    "Scikit-survival models do not necessarily pass ;-)"
   ]
  },
  {
   "cell_type": "code",
   "execution_count": 9,
   "id": "01ed6c29",
   "metadata": {},
   "outputs": [
    {
     "name": "stdout",
     "output_type": "stream",
     "text": [
      "AssertionError\n",
      "Estimator CoxnetSurvivalAnalysis should not set any attribute apart from parameters during init. Found attributes ['_baseline_models'].\n"
     ]
    }
   ],
   "source": [
    "try:\n",
    "    check_estimator(CoxnetSurvivalAnalysis())\n",
    "except Exception as e:\n",
    "    print(e.__class__.__name__)\n",
    "    print(e)"
   ]
  },
  {
   "attachments": {},
   "cell_type": "markdown",
   "id": "f6da257b",
   "metadata": {},
   "source": [
    "This is an example of a minimal (empty) estimator that passes the tests. Dataclasses can be useful to avoid long __init__ functions and it appears to work. BaseEstimator include the get/set_params methods that are required. check_X_y and check_array implement checks (required by the check_estimator function) on the input data."
   ]
  },
  {
   "cell_type": "code",
   "execution_count": 10,
   "id": "53220b5f",
   "metadata": {},
   "outputs": [],
   "source": [
    "from dataclasses import dataclass\n",
    "from sklearn.base import BaseEstimator\n",
    "from sklearn.utils import check_X_y, check_array\n",
    "\n",
    "@dataclass\n",
    "class TestEstimator(BaseEstimator):\n",
    "    param1: int = 1,\n",
    "\n",
    "    def fit(self, X, y):\n",
    "        X, y = check_X_y(X, y)\n",
    "        self._validate_data(X, y)\n",
    "        return self\n",
    "\n",
    "    def predict(self, X):\n",
    "        X = check_array(X)\n",
    "        return numpy.full(shape=X.shape[0], fill_value=self.param1)\n",
    "\n",
    "check_estimator(TestEstimator(param1=33))"
   ]
  },
  {
   "attachments": {},
   "cell_type": "markdown",
   "id": "99137670",
   "metadata": {},
   "source": [
    "## Outcome format"
   ]
  },
  {
   "attachments": {},
   "cell_type": "markdown",
   "id": "efcea259",
   "metadata": {},
   "source": [
    "Esempio formato scikit-survival"
   ]
  },
  {
   "cell_type": "code",
   "execution_count": 11,
   "id": "1a6617ec",
   "metadata": {},
   "outputs": [
    {
     "data": {
      "text/plain": [
       "array([( True,  723.), (False, 6591.), ( True,  524.), (False, 6255.),\n",
       "       ( True, 3822.), (False, 6507.), (False, 5947.), (False, 5816.),\n",
       "       (False, 6007.), ( True, 1233.)],\n",
       "      dtype=[('e.tdm', '?'), ('t.tdm', '<f8')])"
      ]
     },
     "execution_count": 11,
     "metadata": {},
     "output_type": "execute_result"
    }
   ],
   "source": [
    "y[:10]"
   ]
  },
  {
   "cell_type": "code",
   "execution_count": 12,
   "id": "c8c9d5b6",
   "metadata": {},
   "outputs": [],
   "source": [
    "def get_indicator(y):\n",
    "    return y[y.dtype.names[0]]\n",
    "def get_time(y):\n",
    "    return y[y.dtype.names[1]]"
   ]
  },
  {
   "cell_type": "code",
   "execution_count": 13,
   "id": "3ee43a7e",
   "metadata": {},
   "outputs": [
    {
     "data": {
      "text/plain": [
       "array([ True, False,  True, False,  True, False, False, False, False,\n",
       "        True])"
      ]
     },
     "execution_count": 13,
     "metadata": {},
     "output_type": "execute_result"
    }
   ],
   "source": [
    "get_indicator(y[:10])"
   ]
  },
  {
   "attachments": {},
   "cell_type": "markdown",
   "id": "78198e7f",
   "metadata": {},
   "source": [
    "## Wrapper for the DeepHit method from the pycox module"
   ]
  },
  {
   "attachments": {},
   "cell_type": "markdown",
   "id": "c315930b",
   "metadata": {},
   "source": [
    "Molto preliminare, sto recuperando e adattando il codice dal notebook ALS"
   ]
  },
  {
   "cell_type": "code",
   "execution_count": 14,
   "id": "9f31f9bd",
   "metadata": {},
   "outputs": [],
   "source": [
    "import pycox"
   ]
  },
  {
   "cell_type": "code",
   "execution_count": 15,
   "id": "daa596f2",
   "metadata": {},
   "outputs": [],
   "source": [
    "from dataclasses import dataclass\n",
    "from sklearn.base import BaseEstimator\n",
    "\n",
    "class DeepHitPycox(BaseEstimator):\n",
    "    num_durations: int = 10,\n",
    "    # qui mettiamo i parametri per la forma della rete, cercherei di fare qualcosa che rispetti il paper originale\n",
    "    layer_sizes: list = [10, 10],\n",
    "    epochs: int = 10 # maybe implement also early stopping\n",
    "    batch_size: int = 16"
   ]
  },
  {
   "attachments": {},
   "cell_type": "markdown",
   "id": "85a31852",
   "metadata": {},
   "source": [
    "# Pasticci"
   ]
  },
  {
   "cell_type": "code",
   "execution_count": 16,
   "id": "53fe51e8",
   "metadata": {},
   "outputs": [],
   "source": [
    "from sklearn.tree import DecisionTreeClassifier"
   ]
  },
  {
   "cell_type": "code",
   "execution_count": 17,
   "id": "7cb39d9d",
   "metadata": {},
   "outputs": [
    {
     "data": {
      "text/plain": [
       "array([0.675     , 0.575     , 0.625     , 0.69230769, 0.66666667])"
      ]
     },
     "execution_count": 17,
     "metadata": {},
     "output_type": "execute_result"
    }
   ],
   "source": [
    "cross_val_score(DecisionTreeClassifier(), X, get_indicator(y))"
   ]
  },
  {
   "cell_type": "code",
   "execution_count": 18,
   "id": "d7ae8a17",
   "metadata": {},
   "outputs": [
    {
     "ename": "ModuleNotFoundError",
     "evalue": "No module named 'auton_survival'",
     "output_type": "error",
     "traceback": [
      "\u001b[0;31m---------------------------------------------------------------------------\u001b[0m",
      "\u001b[0;31mModuleNotFoundError\u001b[0m                       Traceback (most recent call last)",
      "Cell \u001b[0;32mIn[18], line 21\u001b[0m\n\u001b[1;32m     18\u001b[0m         \u001b[39mreturn\u001b[39;00m numpy\u001b[39m.\u001b[39mswapaxes([\u001b[39mself\u001b[39m\u001b[39m.\u001b[39mmodel_\u001b[39m.\u001b[39mpredict_risk(X, t)[:, \u001b[39m0\u001b[39m] \u001b[39mfor\u001b[39;00m t \u001b[39min\u001b[39;00m eval_times], \u001b[39m0\u001b[39m, \u001b[39m1\u001b[39m)\n\u001b[1;32m     19\u001b[0m         \u001b[39m#return numpy.nan_to_num(numpy.swapaxes([self.model_.predict_risk(X, t)[:, 0] for t in eval_times], 0, 1), nan=0.5, posinf=1, neginf=0)\u001b[39;00m\n\u001b[0;32m---> 21\u001b[0m DeepSurvivalMachines()\u001b[39m.\u001b[39;49mfit(X, y)\u001b[39m.\u001b[39mpredict(X)\n",
      "Cell \u001b[0;32mIn[18], line 5\u001b[0m, in \u001b[0;36mDeepSurvivalMachines.fit\u001b[0;34m(self, X, y)\u001b[0m\n\u001b[1;32m      3\u001b[0m \u001b[39mimport\u001b[39;00m \u001b[39msys\u001b[39;00m\n\u001b[1;32m      4\u001b[0m sys\u001b[39m.\u001b[39mpath\u001b[39m.\u001b[39mappend(\u001b[39m'\u001b[39m\u001b[39m./auton-survival\u001b[39m\u001b[39m'\u001b[39m)\n\u001b[0;32m----> 5\u001b[0m \u001b[39mfrom\u001b[39;00m \u001b[39mauton_survival\u001b[39;00m\u001b[39m.\u001b[39;00m\u001b[39mmodels\u001b[39;00m\u001b[39m.\u001b[39;00m\u001b[39mdsm\u001b[39;00m \u001b[39mimport\u001b[39;00m DeepSurvivalMachines\n\u001b[1;32m      6\u001b[0m \u001b[39mtry\u001b[39;00m:\n\u001b[1;32m      7\u001b[0m     \u001b[39mself\u001b[39m\u001b[39m.\u001b[39mmodel_ \u001b[39m=\u001b[39m DeepSurvivalMachines(\n\u001b[1;32m      8\u001b[0m         \u001b[39m*\u001b[39m\u001b[39m*\u001b[39m\u001b[39mself\u001b[39m\u001b[39m.\u001b[39mmodel_params[\u001b[39m'\u001b[39m\u001b[39mmod\u001b[39m\u001b[39m'\u001b[39m])\u001b[39m.\u001b[39mfit(\n\u001b[1;32m      9\u001b[0m         X, times, events, \u001b[39m*\u001b[39m\u001b[39m*\u001b[39m\u001b[39mself\u001b[39m\u001b[39m.\u001b[39mmodel_params[\u001b[39m'\u001b[39m\u001b[39mfit\u001b[39m\u001b[39m'\u001b[39m])\n",
      "\u001b[0;31mModuleNotFoundError\u001b[0m: No module named 'auton_survival'"
     ]
    }
   ],
   "source": [
    "class DeepSurvivalMachines:\n",
    "    def fit(self, X, y):\n",
    "        import sys\n",
    "        sys.path.append('./auton-survival')\n",
    "        from auton_survival.models.dsm import DeepSurvivalMachines\n",
    "        try:\n",
    "            self.model_ = DeepSurvivalMachines(\n",
    "                **self.model_params['mod']).fit(\n",
    "                X, times, events, **self.model_params['fit'])\n",
    "        except RuntimeError as e:\n",
    "            raise FailedModel(f'{self.short_name} model fit failed: {e}')\n",
    "        return self\n",
    "\n",
    "    def predict(self, X, eval_times):\n",
    "        \"\"\"predict probabilites of event up to given times for each event\"\"\"\n",
    "        #global dbg\n",
    "        #dbg = self.model_, X, eval_times, numpy.swapaxes([self.model_.predict_risk(X, t)[:, 0] for t in eval_times], 0, 1)\n",
    "        return numpy.swapaxes([self.model_.predict_risk(X, t)[:, 0] for t in eval_times], 0, 1)\n",
    "        #return numpy.nan_to_num(numpy.swapaxes([self.model_.predict_risk(X, t)[:, 0] for t in eval_times], 0, 1), nan=0.5, posinf=1, neginf=0)\n",
    "\n",
    "DeepSurvivalMachines().fit(X, y).predict(X)"
   ]
  },
  {
   "cell_type": "code",
   "execution_count": null,
   "id": "2f440550",
   "metadata": {},
   "outputs": [],
   "source": [
    "def concordance_index_score(y_true, y_pred, *args, **kwargs):\n",
    "    from sksurv.metrics import concordance_index_censored\n",
    "    return concordance_index_censored(\n",
    "        event_indicator=get_indicator(y_true),\n",
    "        event_time=get_time(y_true),\n",
    "        estimate=y_pred,\n",
    "        *args, **kwargs,\n",
    "    )\n"
   ]
  },
  {
   "cell_type": "code",
   "execution_count": null,
   "id": "0ef62e44",
   "metadata": {},
   "outputs": [
    {
     "name": "stderr",
     "output_type": "stream",
     "text": [
      "/home/gbirolo/survwrap/venv/lib/python3.10/site-packages/sklearn/model_selection/_validation.py:794: UserWarning: Scoring failed. The score on this train-test partition for these parameters will be set to nan. Details: \n",
      "Traceback (most recent call last):\n",
      "  File \"/home/gbirolo/survwrap/venv/lib/python3.10/site-packages/sklearn/metrics/_scorer.py\", line 117, in __call__\n",
      "    score = scorer(estimator, *args, **kwargs)\n",
      "  File \"/tmp/ipykernel_770125/2810917926.py\", line 4, in concordance_index_score\n",
      "    event_indicator=get_indicator(y_true),\n",
      "  File \"/tmp/ipykernel_770125/2231177257.py\", line 2, in get_indicator\n",
      "    return y[y.dtype.names[0]]\n",
      "AttributeError: 'CoxnetSurvivalAnalysis' object has no attribute 'dtype'\n",
      "\n",
      "  warnings.warn(\n",
      "/home/gbirolo/survwrap/venv/lib/python3.10/site-packages/sklearn/model_selection/_validation.py:794: UserWarning: Scoring failed. The score on this train-test partition for these parameters will be set to nan. Details: \n",
      "Traceback (most recent call last):\n",
      "  File \"/home/gbirolo/survwrap/venv/lib/python3.10/site-packages/sklearn/metrics/_scorer.py\", line 117, in __call__\n",
      "    score = scorer(estimator, *args, **kwargs)\n",
      "  File \"/tmp/ipykernel_770125/2810917926.py\", line 4, in concordance_index_score\n",
      "    event_indicator=get_indicator(y_true),\n",
      "  File \"/tmp/ipykernel_770125/2231177257.py\", line 2, in get_indicator\n",
      "    return y[y.dtype.names[0]]\n",
      "AttributeError: 'CoxnetSurvivalAnalysis' object has no attribute 'dtype'\n",
      "\n",
      "  warnings.warn(\n",
      "/home/gbirolo/survwrap/venv/lib/python3.10/site-packages/sklearn/model_selection/_validation.py:794: UserWarning: Scoring failed. The score on this train-test partition for these parameters will be set to nan. Details: \n",
      "Traceback (most recent call last):\n",
      "  File \"/home/gbirolo/survwrap/venv/lib/python3.10/site-packages/sklearn/metrics/_scorer.py\", line 117, in __call__\n",
      "    score = scorer(estimator, *args, **kwargs)\n",
      "  File \"/tmp/ipykernel_770125/2810917926.py\", line 4, in concordance_index_score\n",
      "    event_indicator=get_indicator(y_true),\n",
      "  File \"/tmp/ipykernel_770125/2231177257.py\", line 2, in get_indicator\n",
      "    return y[y.dtype.names[0]]\n",
      "AttributeError: 'CoxnetSurvivalAnalysis' object has no attribute 'dtype'\n",
      "\n",
      "  warnings.warn(\n",
      "/home/gbirolo/survwrap/venv/lib/python3.10/site-packages/sklearn/model_selection/_validation.py:794: UserWarning: Scoring failed. The score on this train-test partition for these parameters will be set to nan. Details: \n",
      "Traceback (most recent call last):\n",
      "  File \"/home/gbirolo/survwrap/venv/lib/python3.10/site-packages/sklearn/metrics/_scorer.py\", line 117, in __call__\n",
      "    score = scorer(estimator, *args, **kwargs)\n",
      "  File \"/tmp/ipykernel_770125/2810917926.py\", line 4, in concordance_index_score\n",
      "    event_indicator=get_indicator(y_true),\n",
      "  File \"/tmp/ipykernel_770125/2231177257.py\", line 2, in get_indicator\n",
      "    return y[y.dtype.names[0]]\n",
      "AttributeError: 'CoxnetSurvivalAnalysis' object has no attribute 'dtype'\n",
      "\n",
      "  warnings.warn(\n",
      "/home/gbirolo/survwrap/venv/lib/python3.10/site-packages/sklearn/model_selection/_validation.py:794: UserWarning: Scoring failed. The score on this train-test partition for these parameters will be set to nan. Details: \n",
      "Traceback (most recent call last):\n",
      "  File \"/home/gbirolo/survwrap/venv/lib/python3.10/site-packages/sklearn/metrics/_scorer.py\", line 117, in __call__\n",
      "    score = scorer(estimator, *args, **kwargs)\n",
      "  File \"/tmp/ipykernel_770125/2810917926.py\", line 4, in concordance_index_score\n",
      "    event_indicator=get_indicator(y_true),\n",
      "  File \"/tmp/ipykernel_770125/2231177257.py\", line 2, in get_indicator\n",
      "    return y[y.dtype.names[0]]\n",
      "AttributeError: 'CoxnetSurvivalAnalysis' object has no attribute 'dtype'\n",
      "\n",
      "  warnings.warn(\n"
     ]
    },
    {
     "data": {
      "text/plain": [
       "array([nan, nan, nan, nan, nan])"
      ]
     },
     "execution_count": 12,
     "metadata": {},
     "output_type": "execute_result"
    }
   ],
   "source": [
    "cross_val_score(CoxnetSurvivalAnalysis(), X, y, scoring=concordance_index_score)"
   ]
  },
  {
   "cell_type": "code",
   "execution_count": null,
   "id": "012ef866",
   "metadata": {},
   "outputs": [],
   "source": [
    "import survwrap"
   ]
  },
  {
   "cell_type": "code",
   "execution_count": null,
   "id": "319d64ed",
   "metadata": {},
   "outputs": [],
   "source": []
  }
 ],
 "metadata": {
  "kernelspec": {
   "display_name": "Python 3 (ipykernel)",
   "language": "python",
   "name": "python3"
  },
  "language_info": {
   "codemirror_mode": {
    "name": "ipython",
    "version": 3
   },
   "file_extension": ".py",
   "mimetype": "text/x-python",
   "name": "python",
   "nbconvert_exporter": "python",
   "pygments_lexer": "ipython3",
   "version": "3.10.9"
  },
  "vscode": {
   "interpreter": {
    "hash": "e7370f93d1d0cde622a1f8e1c04877d8463912d04d973331ad4851f04de6915a"
   }
  }
 },
 "nbformat": 4,
 "nbformat_minor": 5
}
