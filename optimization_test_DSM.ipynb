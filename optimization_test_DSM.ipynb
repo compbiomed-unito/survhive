{
 "cells": [
  {
   "cell_type": "code",
   "execution_count": 1,
   "id": "387d1412",
   "metadata": {},
   "outputs": [],
   "source": [
    "import numpy"
   ]
  },
  {
   "cell_type": "code",
   "execution_count": 2,
   "id": "c4083da7",
   "metadata": {},
   "outputs": [],
   "source": [
    "import sklearn"
   ]
  },
  {
   "cell_type": "code",
   "execution_count": 3,
   "id": "5f7d6271",
   "metadata": {},
   "outputs": [],
   "source": [
    "import survwrap"
   ]
  },
  {
   "cell_type": "code",
   "execution_count": 4,
   "id": "210bf36c",
   "metadata": {},
   "outputs": [
    {
     "data": {
      "text/plain": [
       "((198, 84), (198,))"
      ]
     },
     "execution_count": 4,
     "metadata": {},
     "output_type": "execute_result"
    }
   ],
   "source": [
    "X, y = survwrap.load_test_data()\n",
    "X.shape, y.shape"
   ]
  },
  {
   "cell_type": "markdown",
   "id": "40fbcb80-0388-4f46-ba3a-29c3f9ee5bee",
   "metadata": {},
   "source": [
    "### Generate a (stratified) train-test split and Scale the features (only) "
   ]
  },
  {
   "cell_type": "markdown",
   "id": "b35f553a-ae5b-476e-bb42-ec48efe8ab89",
   "metadata": {},
   "source": [
    "First do the stratified splitting THEN do scaling, parameterized on X_train set ONLY "
   ]
  },
  {
   "cell_type": "code",
   "execution_count": 5,
   "id": "75714389-2def-4259-8052-bcf7977a2c56",
   "metadata": {},
   "outputs": [],
   "source": [
    "from sklearn.preprocessing import StandardScaler, RobustScaler"
   ]
  },
  {
   "cell_type": "code",
   "execution_count": 6,
   "id": "bd02c821-86c7-4515-986b-07e769f9581b",
   "metadata": {},
   "outputs": [],
   "source": [
    "X_train, X_test, y_train, y_test = sklearn.model_selection.train_test_split(X, y,\n",
    "                                                                            stratify=survwrap.get_indicator(y), \n",
    "                                                                           random_state=2308)"
   ]
  },
  {
   "cell_type": "code",
   "execution_count": 7,
   "id": "261585e2-6d7a-4dc8-9861-da0aee20e7c7",
   "metadata": {},
   "outputs": [
    {
     "data": {
      "text/plain": [
       "((148, 84), (50, 84))"
      ]
     },
     "execution_count": 7,
     "metadata": {},
     "output_type": "execute_result"
    }
   ],
   "source": [
    "scaler = StandardScaler().fit(X_train)\n",
    "[X_train, X_test] = [ scaler.transform(_) for _ in  [X_train, X_test] ]\n",
    "X_train.shape, X_test.shape"
   ]
  },
  {
   "cell_type": "code",
   "execution_count": 8,
   "id": "5f89b6c2",
   "metadata": {},
   "outputs": [],
   "source": [
    "#X_train, X_test, y_train, y_test = sklearn.model_selection.train_test_split(X, y)"
   ]
  },
  {
   "cell_type": "markdown",
   "id": "3523fc60-5251-4640-ab08-b4288c7a65b4",
   "metadata": {},
   "source": [
    "balanced partitioning OK. Robst scaler damages the performance of DSM A LOT.\n",
    "maybe did something wrong. It is standard scaler for now."
   ]
  },
  {
   "cell_type": "code",
   "execution_count": 9,
   "id": "449b6bde-498c-437f-8170-e86f34aafc9e",
   "metadata": {},
   "outputs": [
    {
     "data": {
      "text/plain": [
       "(51, 38, 13)"
      ]
     },
     "execution_count": 9,
     "metadata": {},
     "output_type": "execute_result"
    }
   ],
   "source": [
    "survwrap.get_indicator(y).sum(), survwrap.get_indicator(y_train).sum(), survwrap.get_indicator(y_test).sum(),\n"
   ]
  },
  {
   "cell_type": "markdown",
   "id": "18343e1d-30ec-42b0-be0e-ac85df1298d9",
   "metadata": {},
   "source": [
    "## check possible dimensionality reduction"
   ]
  },
  {
   "cell_type": "code",
   "execution_count": 10,
   "id": "fde3a10a-379c-42b8-8070-485e7c4326bb",
   "metadata": {},
   "outputs": [],
   "source": [
    "from sklearn.decomposition import PCA"
   ]
  },
  {
   "cell_type": "code",
   "execution_count": 11,
   "id": "1ad7a35b-9295-40f8-a9c4-a02ca8cf83c8",
   "metadata": {},
   "outputs": [
    {
     "data": {
      "text/plain": [
       "74"
      ]
     },
     "execution_count": 11,
     "metadata": {},
     "output_type": "execute_result"
    }
   ],
   "source": [
    "pca= PCA(n_components=0.995, random_state=2308).fit(X_train)\n",
    "pca.n_components_"
   ]
  },
  {
   "cell_type": "markdown",
   "id": "afc3f2d1-45e8-42cc-9763-69836b1aaa71",
   "metadata": {},
   "source": [
    "Only a modest dimensionality reduction is possible using PCA"
   ]
  },
  {
   "cell_type": "code",
   "execution_count": 12,
   "id": "dd7a81c3-ced7-48df-8eba-cacb1e814bbd",
   "metadata": {},
   "outputs": [],
   "source": [
    "## Stratified CV spliter for survival analysis"
   ]
  },
  {
   "cell_type": "code",
   "execution_count": 13,
   "id": "efe2e846-9bc4-435f-9e83-06f01577ca2a",
   "metadata": {},
   "outputs": [
    {
     "ename": "NameError",
     "evalue": "name 'RepeatedStratifiedKFold' is not defined",
     "output_type": "error",
     "traceback": [
      "\u001b[0;31m---------------------------------------------------------------------------\u001b[0m",
      "\u001b[0;31mNameError\u001b[0m                                 Traceback (most recent call last)",
      "Cell \u001b[0;32mIn[13], line 1\u001b[0m\n\u001b[0;32m----> 1\u001b[0m testkf\u001b[38;5;241m=\u001b[39m \u001b[43mRepeatedStratifiedKFold\u001b[49m(n_splits\u001b[38;5;241m=\u001b[39m\u001b[38;5;241m5\u001b[39m,n_repeats\u001b[38;5;241m=\u001b[39m\u001b[38;5;241m2\u001b[39m,random_state\u001b[38;5;241m=\u001b[39m\u001b[38;5;241m2307\u001b[39m)\n\u001b[1;32m      2\u001b[0m \u001b[38;5;28;01mfor\u001b[39;00m trn,tst \u001b[38;5;129;01min\u001b[39;00m testkf\u001b[38;5;241m.\u001b[39msplit(X_train, survwrap\u001b[38;5;241m.\u001b[39mget_indicator(y_train)):\n\u001b[1;32m      3\u001b[0m     \u001b[38;5;28mprint\u001b[39m(trn,tst) \n",
      "\u001b[0;31mNameError\u001b[0m: name 'RepeatedStratifiedKFold' is not defined"
     ]
    }
   ],
   "source": [
    "testkf= RepeatedStratifiedKFold(n_splits=5,n_repeats=2,random_state=2307)\n",
    "for trn,tst in testkf.split(X_train, survwrap.get_indicator(y_train)):\n",
    "    print(trn,tst) "
   ]
  },
  {
   "cell_type": "code",
   "execution_count": 30,
   "id": "e63ce8de-3339-4d4f-9df3-d11c8e61feba",
   "metadata": {},
   "outputs": [],
   "source": [
    "from sklearn.model_selection import RepeatedKFold, RepeatedStratifiedKFold"
   ]
  },
  {
   "cell_type": "markdown",
   "id": "8c36a230",
   "metadata": {},
   "source": [
    "# test coxnet"
   ]
  },
  {
   "cell_type": "code",
   "execution_count": 23,
   "id": "9aafa692-2cba-4a47-b376-04742eae3b67",
   "metadata": {},
   "outputs": [
    {
     "data": {
      "text/html": [
       "<style>#sk-container-id-1 {color: black;background-color: white;}#sk-container-id-1 pre{padding: 0;}#sk-container-id-1 div.sk-toggleable {background-color: white;}#sk-container-id-1 label.sk-toggleable__label {cursor: pointer;display: block;width: 100%;margin-bottom: 0;padding: 0.3em;box-sizing: border-box;text-align: center;}#sk-container-id-1 label.sk-toggleable__label-arrow:before {content: \"▸\";float: left;margin-right: 0.25em;color: #696969;}#sk-container-id-1 label.sk-toggleable__label-arrow:hover:before {color: black;}#sk-container-id-1 div.sk-estimator:hover label.sk-toggleable__label-arrow:before {color: black;}#sk-container-id-1 div.sk-toggleable__content {max-height: 0;max-width: 0;overflow: hidden;text-align: left;background-color: #f0f8ff;}#sk-container-id-1 div.sk-toggleable__content pre {margin: 0.2em;color: black;border-radius: 0.25em;background-color: #f0f8ff;}#sk-container-id-1 input.sk-toggleable__control:checked~div.sk-toggleable__content {max-height: 200px;max-width: 100%;overflow: auto;}#sk-container-id-1 input.sk-toggleable__control:checked~label.sk-toggleable__label-arrow:before {content: \"▾\";}#sk-container-id-1 div.sk-estimator input.sk-toggleable__control:checked~label.sk-toggleable__label {background-color: #d4ebff;}#sk-container-id-1 div.sk-label input.sk-toggleable__control:checked~label.sk-toggleable__label {background-color: #d4ebff;}#sk-container-id-1 input.sk-hidden--visually {border: 0;clip: rect(1px 1px 1px 1px);clip: rect(1px, 1px, 1px, 1px);height: 1px;margin: -1px;overflow: hidden;padding: 0;position: absolute;width: 1px;}#sk-container-id-1 div.sk-estimator {font-family: monospace;background-color: #f0f8ff;border: 1px dotted black;border-radius: 0.25em;box-sizing: border-box;margin-bottom: 0.5em;}#sk-container-id-1 div.sk-estimator:hover {background-color: #d4ebff;}#sk-container-id-1 div.sk-parallel-item::after {content: \"\";width: 100%;border-bottom: 1px solid gray;flex-grow: 1;}#sk-container-id-1 div.sk-label:hover label.sk-toggleable__label {background-color: #d4ebff;}#sk-container-id-1 div.sk-serial::before {content: \"\";position: absolute;border-left: 1px solid gray;box-sizing: border-box;top: 0;bottom: 0;left: 50%;z-index: 0;}#sk-container-id-1 div.sk-serial {display: flex;flex-direction: column;align-items: center;background-color: white;padding-right: 0.2em;padding-left: 0.2em;position: relative;}#sk-container-id-1 div.sk-item {position: relative;z-index: 1;}#sk-container-id-1 div.sk-parallel {display: flex;align-items: stretch;justify-content: center;background-color: white;position: relative;}#sk-container-id-1 div.sk-item::before, #sk-container-id-1 div.sk-parallel-item::before {content: \"\";position: absolute;border-left: 1px solid gray;box-sizing: border-box;top: 0;bottom: 0;left: 50%;z-index: -1;}#sk-container-id-1 div.sk-parallel-item {display: flex;flex-direction: column;z-index: 1;position: relative;background-color: white;}#sk-container-id-1 div.sk-parallel-item:first-child::after {align-self: flex-end;width: 50%;}#sk-container-id-1 div.sk-parallel-item:last-child::after {align-self: flex-start;width: 50%;}#sk-container-id-1 div.sk-parallel-item:only-child::after {width: 0;}#sk-container-id-1 div.sk-dashed-wrapped {border: 1px dashed gray;margin: 0 0.4em 0.5em 0.4em;box-sizing: border-box;padding-bottom: 0.4em;background-color: white;}#sk-container-id-1 div.sk-label label {font-family: monospace;font-weight: bold;display: inline-block;line-height: 1.2em;}#sk-container-id-1 div.sk-label-container {text-align: center;}#sk-container-id-1 div.sk-container {/* jupyter's `normalize.less` sets `[hidden] { display: none; }` but bootstrap.min.css set `[hidden] { display: none !important; }` so we also need the `!important` here to be able to override the default hidden behavior on the sphinx rendered scikit-learn.org. See: https://github.com/scikit-learn/scikit-learn/issues/21755 */display: inline-block !important;position: relative;}#sk-container-id-1 div.sk-text-repr-fallback {display: none;}</style><div id=\"sk-container-id-1\" class=\"sk-top-container\"><div class=\"sk-text-repr-fallback\"><pre>CoxNet(rng_seed=2308, l1_ratio=0.5, verbose=False, fit_baseline_model=False)</pre><b>In a Jupyter environment, please rerun this cell to show the HTML representation or trust the notebook. <br />On GitHub, the HTML representation is unable to render, please try loading this page with nbviewer.org.</b></div><div class=\"sk-container\" hidden><div class=\"sk-item\"><div class=\"sk-estimator sk-toggleable\"><input class=\"sk-toggleable__control sk-hidden--visually\" id=\"sk-estimator-id-1\" type=\"checkbox\" checked><label for=\"sk-estimator-id-1\" class=\"sk-toggleable__label sk-toggleable__label-arrow\">CoxNet</label><div class=\"sk-toggleable__content\"><pre>CoxNet(rng_seed=2308, l1_ratio=0.5, verbose=False, fit_baseline_model=False)</pre></div></div></div></div></div>"
      ],
      "text/plain": [
       "CoxNet(rng_seed=2308, l1_ratio=0.5, verbose=False, fit_baseline_model=False)"
      ]
     },
     "execution_count": 23,
     "metadata": {},
     "output_type": "execute_result"
    }
   ],
   "source": [
    "coxnet = survwrap.CoxNet(rng_seed=2308)\n",
    "coxnet.fit(X_train, y_train)"
   ]
  },
  {
   "cell_type": "code",
   "execution_count": 24,
   "id": "9a0e80b7",
   "metadata": {},
   "outputs": [
    {
     "data": {
      "text/plain": [
       "0.5330578512396694"
      ]
     },
     "execution_count": 24,
     "metadata": {},
     "output_type": "execute_result"
    }
   ],
   "source": [
    "coxnet.score(X_test, y_test)"
   ]
  },
  {
   "cell_type": "code",
   "execution_count": 25,
   "id": "f894a2c8",
   "metadata": {},
   "outputs": [],
   "source": [
    "from sklearn.model_selection import GridSearchCV, RandomizedSearchCV"
   ]
  },
  {
   "cell_type": "code",
   "execution_count": 27,
   "id": "8a1ea4f2",
   "metadata": {},
   "outputs": [],
   "source": [
    "def optimize(estimator, X, y, mode='sklearn-grid', user_grid=[] , cv=None):\n",
    "    if mode == 'sklearn-grid':\n",
    "        if not user_grid: \n",
    "            user_grid = estimator.get_parameter_grid()\n",
    "        gs = GridSearchCV(estimator, user_grid, refit=True, cv=cv, n_jobs=3)\n",
    "        gs.fit(X, y)\n",
    "        return gs.best_estimator_, gs.best_params_, gs\n",
    "    raise ValueError(f'unknown mode parameter: \"{mode}\"')"
   ]
  },
  {
   "cell_type": "code",
   "execution_count": 28,
   "id": "946d79e0-0f7c-44c6-893c-8b5ea52c5a57",
   "metadata": {},
   "outputs": [
    {
     "data": {
      "text/plain": [
       "{'l1_ratio': [0.01, 0.1, 0.25, 0.5, 0.75, 0.9, 0.99]}"
      ]
     },
     "execution_count": 28,
     "metadata": {},
     "output_type": "execute_result"
    }
   ],
   "source": [
    "survwrap.CoxNet().get_parameter_grid()"
   ]
  },
  {
   "cell_type": "code",
   "execution_count": 31,
   "id": "2cc893c3",
   "metadata": {},
   "outputs": [
    {
     "data": {
      "text/plain": [
       "(0.5764462809917356, {'l1_ratio': 0.01})"
      ]
     },
     "execution_count": 31,
     "metadata": {},
     "output_type": "execute_result"
    }
   ],
   "source": [
    "opt_coxnet, opt_coxnet_params, opt_coxnet_search = optimize(survwrap.CoxNet(), X_train, y_train, user_grid={'l1_ratio':[0.01,0.25,0.5,0.75,0.8,0.99]},\n",
    "                                                           cv=RepeatedStratifiedKFold(n_splits=5, n_repeats=2, random_state=2308).split(X_train,survwrap.get_indicator(y_train)))\n",
    "opt_coxnet.score(X_test, y_test), opt_coxnet_params"
   ]
  },
  {
   "cell_type": "code",
   "execution_count": 32,
   "id": "177ee806-9966-4596-b49f-8d82bc729865",
   "metadata": {},
   "outputs": [],
   "source": [
    "def test_model(model_constructor, **model_params):\n",
    "    m = model_constructor(**model_params, rng_seed=2308)\n",
    "    m.fit(X_train, y_train)\n",
    "    o = m.score(X_train, y_train)\n",
    "    s = m.score(X_test, y_test)\n",
    "    print(f'Train: {o: .4f} , Test: {s:.4f}')\n",
    "    return s"
   ]
  },
  {
   "cell_type": "markdown",
   "id": "2fd37d08-ee4e-4bea-8a6d-2c6b8cbd5c8d",
   "metadata": {},
   "source": [
    "# Test DSM"
   ]
  },
  {
   "cell_type": "code",
   "execution_count": 33,
   "id": "5f760708-c608-4281-b7e0-c17b043053de",
   "metadata": {},
   "outputs": [
    {
     "data": {
      "text/plain": [
       "{'n_distr': [2],\n",
       " 'distr_kind': ['Weibull'],\n",
       " 'batch_size': [16],\n",
       " 'layer_sizes': [[10]],\n",
       " 'learning_rate': [0.001],\n",
       " 'validation_size': [0.1],\n",
       " 'max_epochs': [10],\n",
       " 'elbo': [False]}"
      ]
     },
     "execution_count": 33,
     "metadata": {},
     "output_type": "execute_result"
    }
   ],
   "source": [
    "grid =survwrap.DeepSurvivalMachines.get_parameter_grid()\n",
    "grid"
   ]
  },
  {
   "cell_type": "code",
   "execution_count": 34,
   "id": "a1bb0097",
   "metadata": {},
   "outputs": [
    {
     "name": "stderr",
     "output_type": "stream",
     "text": [
      " 50%|█████████████████████████████████████████████████████████████▉                                                             | 5032/10000 [00:04<00:04, 1157.38it/s]\n",
      "  3%|███▉                                                                                                                              | 6/200 [00:00<00:06, 28.80it/s]"
     ]
    },
    {
     "name": "stdout",
     "output_type": "stream",
     "text": [
      "Train:  0.8134 , Test: 0.6178\n"
     ]
    },
    {
     "name": "stderr",
     "output_type": "stream",
     "text": [
      "\n"
     ]
    },
    {
     "data": {
      "text/plain": [
       "0.6177685950413223"
      ]
     },
     "execution_count": 34,
     "metadata": {},
     "output_type": "execute_result"
    }
   ],
   "source": [
    "test_model(survwrap.DeepSurvivalMachines, batch_size=16, layer_sizes=[16], n_distr=2, max_epochs=200)"
   ]
  },
  {
   "cell_type": "code",
   "execution_count": 35,
   "id": "931e5ff4-5503-4b97-8a7d-8f5b75e389cc",
   "metadata": {},
   "outputs": [
    {
     "name": "stderr",
     "output_type": "stream",
     "text": [
      " 50%|█████████████████████████████████████████████████████████████▉                                                             | 5032/10000 [00:04<00:04, 1162.84it/s]\n",
      " 10%|████████████▎                                                                                                                    | 19/200 [00:00<00:04, 41.99it/s]"
     ]
    },
    {
     "name": "stdout",
     "output_type": "stream",
     "text": [
      "Train:  0.8690 , Test: 0.6467\n"
     ]
    },
    {
     "name": "stderr",
     "output_type": "stream",
     "text": [
      "\n"
     ]
    },
    {
     "data": {
      "text/plain": [
       "0.6466942148760331"
      ]
     },
     "execution_count": 35,
     "metadata": {},
     "output_type": "execute_result"
    }
   ],
   "source": [
    "test_model(survwrap.DeepSurvivalMachines, batch_size=16, layer_sizes=[7,7,7], n_distr=2, max_epochs=200)"
   ]
  },
  {
   "cell_type": "code",
   "execution_count": 36,
   "id": "60be1a27-6f73-43e1-bdc8-21616bed7143",
   "metadata": {},
   "outputs": [
    {
     "name": "stderr",
     "output_type": "stream",
     "text": [
      " 50%|█████████████████████████████████████████████████████████████▉                                                             | 5032/10000 [00:04<00:04, 1173.56it/s]\n",
      "  9%|███████████▌                                                                                                                     | 18/200 [00:00<00:04, 37.44it/s]"
     ]
    },
    {
     "name": "stdout",
     "output_type": "stream",
     "text": [
      "Train:  0.7767 , Test: 0.6085\n"
     ]
    },
    {
     "name": "stderr",
     "output_type": "stream",
     "text": [
      "\n"
     ]
    },
    {
     "data": {
      "text/plain": [
       "0.6084710743801653"
      ]
     },
     "execution_count": 36,
     "metadata": {},
     "output_type": "execute_result"
    }
   ],
   "source": [
    "test_model(survwrap.DeepSurvivalMachines, batch_size=16, layer_sizes=[5]*5, n_distr=2, max_epochs=200)"
   ]
  },
  {
   "cell_type": "code",
   "execution_count": 128,
   "id": "8a8cb18b",
   "metadata": {},
   "outputs": [
    {
     "name": "stderr",
     "output_type": "stream",
     "text": [
      " 50%|█████████████████████████▋                         | 5032/10000 [00:04<00:04, 1165.34it/s]\n",
      "  3%|█▋                                                        | 6/200 [00:00<00:08, 22.83it/s]"
     ]
    },
    {
     "name": "stdout",
     "output_type": "stream",
     "text": [
      "Train:  0.7555 , Test: 0.5971\n"
     ]
    },
    {
     "name": "stderr",
     "output_type": "stream",
     "text": [
      "\n"
     ]
    },
    {
     "data": {
      "text/plain": [
       "0.5971074380165289"
      ]
     },
     "execution_count": 128,
     "metadata": {},
     "output_type": "execute_result"
    }
   ],
   "source": [
    "test_model(survwrap.DeepSurvivalMachines,layer_sizes=[41], max_epochs=200)"
   ]
  },
  {
   "cell_type": "code",
   "execution_count": 37,
   "id": "5db2f376-1589-4e41-a45b-8aca88521d0a",
   "metadata": {},
   "outputs": [
    {
     "data": {
      "text/plain": [
       "{'n_distr': [1, 2],\n",
       " 'distr_kind': ['Weibull'],\n",
       " 'batch_size': [16],\n",
       " 'layer_sizes': [[3],\n",
       "  [5],\n",
       "  [7],\n",
       "  [11],\n",
       "  [13],\n",
       "  [17],\n",
       "  [19],\n",
       "  [23],\n",
       "  [29],\n",
       "  [31],\n",
       "  [37],\n",
       "  [3, 3, 3],\n",
       "  [5, 5, 5],\n",
       "  [7, 7, 7],\n",
       "  [11, 11, 11],\n",
       "  [13, 13, 13],\n",
       "  [17, 17, 17],\n",
       "  [19, 19, 19],\n",
       "  [23, 23, 23],\n",
       "  [29, 29, 29],\n",
       "  [31, 31, 31],\n",
       "  [37, 37, 37]],\n",
       " 'learning_rate': [0.001],\n",
       " 'validation_size': [0.1],\n",
       " 'max_epochs': [200],\n",
       " 'elbo': [False]}"
      ]
     },
     "execution_count": 37,
     "metadata": {},
     "output_type": "execute_result"
    }
   ],
   "source": [
    "grid['n_distr']=[1,2]\n",
    "some_primes = [3,5,7,11,13,17,19,23,29,31,37]\n",
    "grid['layer_sizes']=[ [_] for _ in some_primes] + [ [_]*3 for _ in some_primes]\n",
    "    #[31]*2,[29]*2,[27]*2, [25]*2, [23]*2, [21]*2, [19]*2, [17]*3, [15]*3, \n",
    "     #                [12]*4, [10]*5, [8]*6, [7]*7, ]\n",
    "    #[40],[30,30], [30], [23,23], [13,13,13], [25],[11,11,11],[20],[9,9,9], \n",
    "                     #[15],[7,7,7],[10],[5,5,5]]\n",
    "                     #[16],[14,14], [7,7,7]]\n",
    "grid['max_epochs']=[200]\n",
    "grid['batch_size']=[16]\n",
    "grid"
   ]
  },
  {
   "cell_type": "code",
   "execution_count": 38,
   "id": "360b059e-fd0a-41ee-aa5a-ba940f7300ce",
   "metadata": {},
   "outputs": [],
   "source": [
    "from sklearn.model_selection import RepeatedKFold "
   ]
  },
  {
   "cell_type": "code",
   "execution_count": 142,
   "id": "5e24ac45",
   "metadata": {},
   "outputs": [],
   "source": [
    "# Non stratified CV\n",
    "#opt_dsm, opt_dsm_params, opt_dsm_search = optimize(survwrap.DeepSurvivalMachines(rng_seed=2308),  X_train, y_train, \n",
    "#                                                   user_grid=grid,cv=RepeatedKFold(n_splits=5, n_repeats=3, random_state=2308))\n",
    "#opt_dsm.score(X_test, y_test), opt_dsm_params"
   ]
  },
  {
   "cell_type": "code",
   "execution_count": 39,
   "id": "6b2fb365-dd6e-4e05-b3fc-6c18c950221a",
   "metadata": {},
   "outputs": [
    {
     "name": "stderr",
     "output_type": "stream",
     "text": [
      " 35%|███▌      | 3536/10000 [00:03<00:05, 1165.27it/s]\n",
      " 20%|██        | 40/200 [00:00<00:01, 82.29it/s]6it/s]\n",
      " 47%|████▋     | 4689/10000 [00:03<00:04, 1181.55it/s]\n",
      " 48%|████▊     | 4777/10000 [00:03<00:04, 1196.39it/s]\n",
      "  2%|▏         | 3/200 [00:00<00:08, 22.91it/s]8it/s]\n",
      "  2%|▏         | 3/200 [00:00<00:08, 24.50it/s]\n",
      " 35%|███▍      | 3482/10000 [00:02<00:05, 1173.15it/s]\n",
      " 34%|███▍      | 3397/10000 [00:02<00:05, 1162.14it/s]\n",
      " 20%|█▉        | 39/200 [00:00<00:02, 68.94it/s]\n",
      "  2%|▏         | 3/200 [00:00<00:08, 23.58it/s]9it/s] \n",
      " 50%|█████     | 5045/10000 [00:04<00:04, 1129.78it/s]\n",
      "  8%|▊         | 15/200 [00:00<00:03, 61.02it/s]5it/s]\n",
      " 35%|███▌      | 3509/10000 [00:03<00:05, 1126.83it/s]\n",
      " 17%|█▋        | 34/200 [00:00<00:02, 77.86it/s]9it/s]\n",
      " 49%|████▉     | 4911/10000 [00:04<00:04, 1156.30it/s]\n",
      "  6%|▋         | 13/200 [00:00<00:03, 61.01it/s]9it/s]\n",
      " 34%|███▍      | 3378/10000 [00:02<00:05, 1152.22it/s]\n",
      " 14%|█▎        | 27/200 [00:00<00:02, 74.51it/s]6it/s]\n",
      " 36%|███▌      | 3614/10000 [00:03<00:05, 1186.78it/s]\n",
      " 26%|██▌       | 51/200 [00:00<00:01, 82.72it/s]9it/s]\n",
      " 35%|███▌      | 3536/10000 [00:02<00:05, 1191.47it/s]\n",
      "  2%|▏         | 3/200 [00:00<00:07, 26.39it/s]1it/s]]\n",
      " 48%|████▊     | 4777/10000 [00:04<00:04, 1161.58it/s]\n",
      " 30%|██▉       | 59/200 [00:00<00:01, 74.50it/s]1it/s]\n",
      " 35%|███▍      | 3482/10000 [00:02<00:05, 1181.25it/s]\n",
      "  2%|▏         | 3/200 [00:00<00:07, 25.93it/s]38it/s]\n",
      " 47%|████▋     | 4689/10000 [00:03<00:04, 1184.59it/s]\n",
      " 10%|█         | 20/200 [00:00<00:02, 62.67it/s]1it/s]\n",
      " 34%|███▍      | 3397/10000 [00:02<00:05, 1173.74it/s]\n",
      "  5%|▌         | 10/200 [00:00<00:03, 49.58it/s]4it/s]\n",
      " 50%|█████     | 5045/10000 [00:04<00:04, 1173.72it/s]\n",
      " 35%|███▌      | 3509/10000 [00:02<00:05, 1184.11it/s]\n",
      "  2%|▏         | 4/200 [00:00<00:06, 29.74it/s]]it/s]\n",
      " 14%|█▍        | 29/200 [00:00<00:02, 66.52it/s]it/s]\n",
      " 34%|███▍      | 3378/10000 [00:02<00:05, 1166.72it/s]\n",
      " 36%|███▌      | 3614/10000 [00:03<00:05, 1162.44it/s]\n",
      " 49%|████▉     | 4911/10000 [00:04<00:04, 1172.46it/s]\n",
      " 10%|█         | 20/200 [00:00<00:02, 61.34it/s]\n",
      " 28%|██▊       | 55/200 [00:00<00:01, 72.78it/s]it/s]\n",
      " 20%|█▉        | 39/200 [00:00<00:02, 69.23it/s]it/s]\n",
      " 35%|███▌      | 3536/10000 [00:03<00:05, 1165.60it/s]\n",
      "  2%|▏         | 3/200 [00:00<00:07, 27.84it/s]14it/s]\n",
      " 48%|████▊     | 4777/10000 [00:04<00:04, 1179.60it/s]\n",
      " 47%|████▋     | 4689/10000 [00:03<00:04, 1181.16it/s]\n",
      "  6%|▋         | 13/200 [00:00<00:03, 60.58it/s]3it/s]\n",
      " 27%|██▋       | 54/200 [00:00<00:01, 82.10it/s]it/s]]\n",
      " 35%|███▍      | 3482/10000 [00:02<00:05, 1174.85it/s]\n",
      " 26%|██▌       | 52/200 [00:00<00:01, 83.02it/s]8it/s]\n",
      " 34%|███▍      | 3397/10000 [00:02<00:05, 1189.13it/s]\n",
      "  2%|▏         | 3/200 [00:00<00:07, 27.06it/s]99it/s]\n",
      " 50%|█████     | 5045/10000 [00:04<00:04, 1169.32it/s]\n",
      " 10%|█         | 21/200 [00:00<00:02, 68.87it/s]0it/s]\n",
      " 35%|███▌      | 3509/10000 [00:02<00:05, 1187.37it/s]\n",
      "  2%|▏         | 3/200 [00:00<00:07, 27.80it/s]9it/s]]\n",
      " 49%|████▉     | 4911/10000 [00:04<00:04, 1185.47it/s]\n",
      " 34%|███▍      | 3378/10000 [00:02<00:05, 1172.65it/s]\n",
      " 10%|█         | 20/200 [00:00<00:02, 67.70it/s]7it/s]\n",
      " 10%|█         | 20/200 [00:00<00:02, 69.00it/s]it/s]]\n",
      " 36%|███▌      | 3614/10000 [00:03<00:05, 1170.13it/s]\n",
      "  2%|▏         | 3/200 [00:00<00:07, 27.70it/s]9it/s]\n",
      " 35%|███▌      | 3536/10000 [00:03<00:05, 1178.25it/s]\n",
      " 13%|█▎        | 26/200 [00:00<00:02, 65.00it/s]2it/s]\n",
      " 48%|████▊     | 4777/10000 [00:04<00:04, 1166.97it/s]\n",
      "  8%|▊         | 16/200 [00:00<00:03, 57.56it/s]0it/s]\n",
      " 47%|████▋     | 4689/10000 [00:04<00:04, 1169.20it/s]\n",
      "  5%|▌         | 10/200 [00:00<00:03, 48.81it/s]it/s]]\n",
      " 35%|███▍      | 3482/10000 [00:02<00:05, 1205.52it/s]\n",
      " 43%|████▎     | 86/200 [00:01<00:01, 77.32it/s]4it/s]\n",
      " 34%|███▍      | 3397/10000 [00:02<00:05, 1164.96it/s]\n",
      " 50%|█████     | 5045/10000 [00:04<00:04, 1172.56it/s]\n",
      "  2%|▎         | 5/200 [00:00<00:06, 30.58it/s]34it/s]\n",
      " 44%|████▍     | 88/200 [00:01<00:01, 75.72it/s]5it/s]\n",
      " 35%|███▌      | 3509/10000 [00:02<00:05, 1197.33it/s]\n",
      " 21%|██        | 42/200 [00:00<00:02, 70.40it/s]1it/s]\n",
      " 34%|███▍      | 3378/10000 [00:02<00:05, 1178.21it/s]\n",
      " 49%|████▉     | 4911/10000 [00:04<00:04, 1161.05it/s]\n",
      "  6%|▋         | 13/200 [00:00<00:03, 49.45it/s]0it/s]\n",
      " 71%|███████   | 142/200 [00:01<00:00, 75.27it/s]t/s]]\n",
      " 36%|███▌      | 3614/10000 [00:03<00:05, 1180.73it/s]\n",
      " 17%|█▋        | 34/200 [00:00<00:02, 70.33it/s]9it/s]\n",
      " 35%|███▌      | 3536/10000 [00:03<00:05, 1176.48it/s]\n",
      "  2%|▏         | 3/200 [00:00<00:07, 25.60it/s]64it/s]\n",
      " 48%|████▊     | 4777/10000 [00:04<00:04, 1172.70it/s]\n",
      " 47%|████▋     | 4689/10000 [00:03<00:04, 1198.94it/s]\n",
      " 22%|██▏       | 43/200 [00:00<00:01, 81.30it/s]\n",
      "  4%|▎         | 7/200 [00:00<00:04, 43.90it/s]2it/s]]\n",
      " 35%|███▍      | 3482/10000 [00:02<00:05, 1177.18it/s]\n",
      " 22%|██▎       | 45/200 [00:00<00:01, 82.11it/s]2it/s]\n",
      " 34%|███▍      | 3397/10000 [00:02<00:05, 1196.55it/s]\n",
      "  7%|▋         | 14/200 [00:00<00:03, 60.89it/s]0it/s]\n",
      " 50%|█████     | 5045/10000 [00:04<00:04, 1153.87it/s]\n",
      "  6%|▌         | 12/200 [00:00<00:03, 51.38it/s]7it/s]\n",
      " 35%|███▌      | 3509/10000 [00:03<00:05, 1149.86it/s]\n",
      "  2%|▏         | 3/200 [00:00<00:07, 25.51it/s]83it/s]\n",
      " 49%|████▉     | 4911/10000 [00:04<00:04, 1173.12it/s]\n",
      " 34%|███▍      | 3378/10000 [00:02<00:05, 1158.86it/s]\n",
      "  6%|▌         | 11/200 [00:00<00:03, 57.49it/s]9it/s]\n",
      " 15%|█▌        | 30/200 [00:00<00:02, 74.21it/s]it/s]]\n",
      " 36%|███▌      | 3614/10000 [00:03<00:05, 1173.25it/s]\n",
      "  8%|▊         | 17/200 [00:00<00:02, 64.38it/s]it/s]\n",
      " 35%|███▌      | 3536/10000 [00:03<00:05, 1177.25it/s]\n",
      " 10%|█         | 20/200 [00:00<00:02, 62.75it/s]7it/s]\n",
      " 48%|████▊     | 4777/10000 [00:04<00:04, 1147.79it/s]\n",
      " 47%|████▋     | 4689/10000 [00:04<00:04, 1158.58it/s]\n",
      "  9%|▉         | 18/200 [00:00<00:03, 59.80it/s]0it/s]\n",
      " 24%|██▍       | 49/200 [00:00<00:02, 71.07it/s]2it/s]\n",
      " 35%|███▍      | 3482/10000 [00:02<00:05, 1206.80it/s]\n",
      " 12%|█▏        | 24/200 [00:00<00:02, 65.39it/s]0it/s]\n",
      " 34%|███▍      | 3397/10000 [00:02<00:05, 1168.13it/s]\n",
      "  6%|▌         | 11/200 [00:00<00:03, 50.61it/s]3it/s]\n",
      " 50%|█████     | 5045/10000 [00:04<00:04, 1169.98it/s]\n",
      "  2%|▏         | 3/200 [00:00<00:08, 24.54it/s]74it/s]\n",
      " 35%|███▌      | 3509/10000 [00:02<00:05, 1205.83it/s]\n",
      " 32%|███▏      | 63/200 [00:00<00:01, 75.26it/s]it/s]]\n",
      " 34%|███▍      | 3378/10000 [00:02<00:05, 1173.18it/s]\n",
      " 49%|████▉     | 4911/10000 [00:04<00:04, 1170.84it/s]\n",
      "  9%|▉         | 18/200 [00:00<00:03, 56.12it/s]0it/s]\n",
      "  3%|▎         | 6/200 [00:00<00:05, 37.29it/s]\n",
      " 36%|███▌      | 3614/10000 [00:03<00:05, 1188.78it/s]\n",
      "  8%|▊         | 16/200 [00:00<00:03, 58.40it/s]2it/s]\n",
      " 35%|███▌      | 3536/10000 [00:02<00:05, 1180.95it/s]\n",
      "  7%|▋         | 14/200 [00:00<00:03, 61.43it/s]6it/s]\n",
      " 48%|████▊     | 4777/10000 [00:04<00:04, 1181.12it/s]\n",
      "  8%|▊         | 17/200 [00:00<00:02, 65.10it/s]7it/s]\n",
      " 47%|████▋     | 4689/10000 [00:03<00:04, 1203.63it/s]\n",
      "  4%|▎         | 7/200 [00:00<00:04, 46.07it/s]47it/s]\n",
      " 35%|███▍      | 3482/10000 [00:02<00:05, 1186.11it/s]\n",
      " 28%|██▊       | 57/200 [00:00<00:01, 83.04it/s]1it/s]\n",
      " 34%|███▍      | 3397/10000 [00:02<00:05, 1208.77it/s]\n",
      " 20%|█▉        | 39/200 [00:00<00:02, 79.62it/s]0it/s]\n",
      " 50%|█████     | 5045/10000 [00:04<00:04, 1178.76it/s]\n",
      "  4%|▍         | 8/200 [00:00<00:03, 50.17it/s]2it/s]]\n",
      " 35%|███▌      | 3509/10000 [00:02<00:05, 1185.62it/s]\n",
      " 12%|█▏        | 23/200 [00:00<00:02, 68.68it/s]9it/s]\n",
      " 34%|███▍      | 3378/10000 [00:02<00:05, 1177.81it/s]\n",
      " 49%|████▉     | 4911/10000 [00:04<00:04, 1196.44it/s]\n",
      " 38%|███▊      | 77/200 [00:00<00:01, 85.22it/s]9it/s]\n",
      "  4%|▍         | 9/200 [00:00<00:03, 51.15it/s]91it/s]\n",
      " 36%|███▌      | 3614/10000 [00:03<00:05, 1178.01it/s]\n",
      " 15%|█▌        | 30/200 [00:00<00:02, 75.67it/s]9it/s]\n",
      " 35%|███▌      | 3536/10000 [00:03<00:05, 1172.70it/s]\n",
      "  2%|▏         | 3/200 [00:00<00:07, 25.84it/s]93it/s]\n",
      " 48%|████▊     | 4777/10000 [00:03<00:04, 1202.53it/s]\n",
      " 24%|██▍       | 48/200 [00:00<00:02, 72.74it/s]1it/s]\n",
      " 47%|████▋     | 4689/10000 [00:03<00:04, 1178.23it/s]\n",
      "  6%|▌         | 12/200 [00:00<00:03, 52.95it/s]5it/s]\n",
      " 35%|███▍      | 3482/10000 [00:02<00:05, 1184.30it/s]\n",
      " 25%|██▌       | 50/200 [00:00<00:02, 66.69it/s]6it/s]\n",
      " 34%|███▍      | 3397/10000 [00:02<00:05, 1136.79it/s]\n",
      "  5%|▌         | 10/200 [00:00<00:04, 46.72it/s]1it/s]\n",
      " 50%|█████     | 5045/10000 [00:04<00:04, 1168.73it/s]\n",
      " 14%|█▍        | 29/200 [00:00<00:02, 66.91it/s]3it/s]\n",
      " 35%|███▌      | 3509/10000 [00:03<00:05, 1160.49it/s]\n",
      "  2%|▏         | 3/200 [00:00<00:08, 24.57it/s]20it/s]\n",
      " 34%|███▍      | 3378/10000 [00:02<00:05, 1189.83it/s]\n",
      " 49%|████▉     | 4911/10000 [00:04<00:04, 1173.50it/s]\n",
      " 12%|█▏        | 24/200 [00:00<00:02, 62.61it/s]\n",
      " 36%|███▌      | 3614/10000 [00:03<00:05, 1170.72it/s]\n",
      " 16%|█▋        | 33/200 [00:00<00:02, 67.32it/s]it/s]\n",
      "  2%|▏         | 4/200 [00:00<00:06, 30.66it/s]\n",
      " 35%|███▌      | 3536/10000 [00:02<00:05, 1191.86it/s]\n",
      " 10%|█         | 20/200 [00:00<00:02, 67.61it/s]7it/s]\n",
      " 47%|████▋     | 4689/10000 [00:04<00:04, 1168.57it/s]\n",
      " 48%|████▊     | 4777/10000 [00:04<00:04, 1168.50it/s]\n",
      "  5%|▌         | 10/200 [00:00<00:03, 48.61it/s]8it/s]\n",
      " 17%|█▋        | 34/200 [00:00<00:02, 71.77it/s]9it/s]\n",
      " 35%|███▍      | 3482/10000 [00:02<00:05, 1166.95it/s]\n",
      " 29%|██▉       | 58/200 [00:00<00:01, 79.30it/s]9it/s]\n",
      " 34%|███▍      | 3397/10000 [00:02<00:05, 1183.25it/s]\n",
      " 16%|█▌        | 31/200 [00:00<00:02, 75.12it/s]4it/s]\n",
      " 50%|█████     | 5045/10000 [00:04<00:04, 1169.87it/s]\n",
      "  5%|▌         | 10/200 [00:00<00:03, 52.70it/s]1it/s]\n",
      " 35%|███▌      | 3509/10000 [00:02<00:05, 1208.51it/s]\n",
      " 18%|█▊        | 36/200 [00:00<00:02, 78.45it/s]7it/s]\n",
      " 34%|███▍      | 3378/10000 [00:02<00:05, 1176.65it/s]\n",
      " 10%|█         | 20/200 [00:00<00:02, 68.58it/s]6it/s]\n",
      " 49%|████▉     | 4911/10000 [00:04<00:04, 1184.93it/s]\n",
      " 14%|█▎        | 27/200 [00:00<00:02, 63.48it/s]9it/s]\n",
      " 36%|███▌      | 3614/10000 [00:03<00:05, 1180.31it/s]\n",
      " 10%|█         | 21/200 [00:00<00:02, 69.37it/s]it/s]]\n",
      " 35%|███▌      | 3536/10000 [00:03<00:05, 1152.90it/s]\n",
      "  7%|▋         | 14/200 [00:00<00:03, 55.14it/s]7it/s]\n",
      " 48%|████▊     | 4777/10000 [00:04<00:04, 1175.40it/s]\n",
      " 10%|▉         | 19/200 [00:00<00:03, 58.14it/s]5it/s]\n",
      " 47%|████▋     | 4689/10000 [00:03<00:04, 1178.80it/s]\n",
      " 12%|█▎        | 25/200 [00:00<00:02, 65.53it/s]7it/s]\n",
      " 35%|███▍      | 3482/10000 [00:02<00:05, 1178.57it/s]\n",
      " 38%|███▊      | 76/200 [00:01<00:01, 74.76it/s]2it/s]\n",
      " 34%|███▍      | 3397/10000 [00:02<00:05, 1201.41it/s]\n",
      " 14%|█▎        | 27/200 [00:00<00:03, 57.52it/s]5it/s]\n",
      " 50%|█████     | 5045/10000 [00:04<00:04, 1170.24it/s]\n",
      "  2%|▏         | 3/200 [00:00<00:08, 24.05it/s]1it/s]]\n",
      " 35%|███▌      | 3509/10000 [00:03<00:05, 1142.44it/s]\n",
      " 20%|██        | 40/200 [00:00<00:02, 70.13it/s]3it/s]\n",
      " 34%|███▍      | 3378/10000 [00:02<00:05, 1159.06it/s]\n",
      " 13%|█▎        | 26/200 [00:00<00:03, 56.31it/s]3it/s]\n",
      " 49%|████▉     | 4911/10000 [00:04<00:04, 1181.58it/s]\n",
      "  5%|▌         | 10/200 [00:00<00:03, 48.38it/s]it/s]]\n",
      " 36%|███▌      | 3614/10000 [00:03<00:05, 1158.37it/s]\n",
      " 12%|█▏        | 23/200 [00:00<00:02, 62.42it/s]9it/s]\n",
      " 35%|███▌      | 3536/10000 [00:02<00:05, 1183.08it/s]\n",
      "  4%|▍         | 9/200 [00:00<00:04, 44.73it/s]56it/s]\n",
      " 48%|████▊     | 4777/10000 [00:03<00:04, 1199.34it/s]\n",
      "  8%|▊         | 15/200 [00:00<00:03, 55.50it/s]6it/s]\n",
      " 47%|████▋     | 4689/10000 [00:04<00:04, 1155.10it/s]\n",
      "  3%|▎         | 6/200 [00:00<00:04, 42.70it/s]40it/s]\n",
      " 35%|███▍      | 3482/10000 [00:02<00:05, 1177.61it/s]\n",
      " 18%|█▊        | 35/200 [00:00<00:02, 77.65it/s]it/s]]\n",
      " 34%|███▍      | 3397/10000 [00:02<00:05, 1156.85it/s]\n",
      " 50%|█████     | 5045/10000 [00:04<00:04, 1197.61it/s]\n",
      "  4%|▎         | 7/200 [00:00<00:04, 41.34it/s]34it/s]\n",
      " 16%|█▌        | 32/200 [00:00<00:02, 73.49it/s]\n",
      " 35%|███▌      | 3509/10000 [00:02<00:05, 1184.01it/s]\n",
      " 10%|▉         | 19/200 [00:00<00:02, 65.04it/s]it/s]\n",
      " 34%|███▍      | 3378/10000 [00:02<00:05, 1159.28it/s]\n",
      "  7%|▋         | 14/200 [00:00<00:03, 61.41it/s]9it/s]\n",
      " 36%|███▌      | 3614/10000 [00:03<00:05, 1173.81it/s]\n",
      "  6%|▌         | 11/200 [00:00<00:03, 54.85it/s]7it/s]\n",
      " 49%|████▉     | 4911/10000 [00:04<00:04, 1188.50it/s]\n",
      "  4%|▍         | 9/200 [00:00<00:03, 51.16it/s]92it/s]\n",
      " 35%|███▌      | 3536/10000 [00:03<00:05, 1154.89it/s]\n",
      "  7%|▋         | 14/200 [00:00<00:03, 54.30it/s]4it/s]\n",
      " 48%|████▊     | 4777/10000 [00:04<00:04, 1164.74it/s]\n",
      " 47%|████▋     | 4689/10000 [00:03<00:04, 1186.88it/s]\n",
      " 12%|█▎        | 25/200 [00:00<00:02, 63.06it/s]2it/s]\n",
      "  8%|▊         | 16/200 [00:00<00:03, 55.19it/s]2it/s]\n",
      " 35%|███▍      | 3482/10000 [00:02<00:05, 1174.30it/s]\n",
      " 14%|█▍        | 29/200 [00:00<00:02, 66.29it/s]1it/s]\n",
      " 36%|███▌      | 3581/10000 [00:03<00:05, 1125.93it/s]\n",
      "  8%|▊         | 17/200 [00:00<00:03, 57.59it/s]4it/s]\n",
      " 50%|█████     | 5045/10000 [00:04<00:04, 1159.98it/s]\n",
      "  6%|▌         | 11/200 [00:00<00:03, 51.11it/s]9it/s]\n",
      " 35%|███▌      | 3509/10000 [00:03<00:05, 1146.24it/s]\n",
      " 16%|█▌        | 32/200 [00:00<00:02, 66.96it/s]8it/s]\n",
      " 34%|███▍      | 3378/10000 [00:02<00:05, 1172.82it/s]\n",
      " 49%|████▉     | 4911/10000 [00:04<00:04, 1181.96it/s]\n",
      " 14%|█▍        | 28/200 [00:00<00:02, 64.35it/s]8it/s]\n",
      " 12%|█▏        | 24/200 [00:00<00:02, 62.68it/s]\n",
      " 36%|███▌      | 3614/10000 [00:03<00:05, 1161.17it/s]\n",
      "  6%|▌         | 11/200 [00:00<00:03, 51.13it/s]it/s]\n",
      " 35%|███▌      | 3536/10000 [00:02<00:05, 1188.27it/s]\n",
      " 12%|█▏        | 23/200 [00:00<00:02, 71.56it/s]5it/s]\n",
      " 48%|████▊     | 4777/10000 [00:03<00:04, 1203.04it/s]\n",
      " 14%|█▍        | 28/200 [00:00<00:02, 75.25it/s]8it/s]\n",
      " 47%|████▋     | 4689/10000 [00:04<00:04, 1171.91it/s]\n",
      "  3%|▎         | 6/200 [00:00<00:05, 36.96it/s]4it/s]]\n",
      " 35%|███▍      | 3482/10000 [00:03<00:05, 1113.37it/s]\n",
      " 13%|█▎        | 26/200 [00:00<00:02, 59.65it/s]3it/s]\n",
      " 34%|███▍      | 3397/10000 [00:03<00:05, 1108.40it/s]\n",
      " 11%|█         | 22/200 [00:00<00:02, 71.23it/s]9it/s]\n",
      " 50%|█████     | 5045/10000 [00:04<00:04, 1150.64it/s]\n",
      "  6%|▌         | 11/200 [00:00<00:03, 57.15it/s]0it/s]\n",
      " 35%|███▌      | 3509/10000 [00:02<00:05, 1191.12it/s]\n",
      " 24%|██▍       | 49/200 [00:00<00:01, 81.13it/s]9it/s]\n",
      " 34%|███▍      | 3378/10000 [00:02<00:05, 1209.53it/s]\n",
      " 15%|█▌        | 30/200 [00:00<00:02, 71.89it/s]3it/s]\n",
      " 49%|████▉     | 4911/10000 [00:04<00:04, 1165.62it/s]\n",
      "  3%|▎         | 6/200 [00:00<00:04, 42.47it/s]60it/s]\n",
      " 36%|███▌      | 3614/10000 [00:03<00:05, 1186.03it/s]\n",
      "  8%|▊         | 16/200 [00:00<00:02, 64.77it/s]0it/s]\n",
      " 35%|███▌      | 3536/10000 [00:02<00:05, 1199.65it/s]\n",
      "  5%|▌         | 10/200 [00:00<00:03, 50.16it/s]4it/s]\n",
      " 48%|████▊     | 4777/10000 [00:04<00:04, 1168.17it/s]\n",
      "  8%|▊         | 17/200 [00:00<00:03, 59.85it/s]1it/s]\n",
      " 47%|████▋     | 4689/10000 [00:03<00:04, 1174.18it/s]\n",
      "  2%|▏         | 3/200 [00:00<00:07, 25.58it/s]58it/s]\n",
      " 35%|███▍      | 3482/10000 [00:02<00:05, 1192.56it/s]\n",
      " 16%|█▋        | 33/200 [00:00<00:02, 69.34it/s]it/s]]\n",
      " 34%|███▍      | 3397/10000 [00:02<00:05, 1201.62it/s]\n",
      "  8%|▊         | 15/200 [00:00<00:03, 57.25it/s]5it/s]\n",
      " 50%|█████     | 5045/10000 [00:04<00:04, 1194.86it/s]\n",
      "  2%|▏         | 4/200 [00:00<00:06, 31.61it/s]9it/s]]\n",
      " 35%|███▌      | 3509/10000 [00:02<00:05, 1216.29it/s]\n",
      " 18%|█▊        | 35/200 [00:00<00:02, 69.15it/s]0it/s]\n",
      " 34%|███▍      | 3378/10000 [00:02<00:05, 1172.99it/s]\n",
      " 17%|█▋        | 34/200 [00:00<00:02, 68.14it/s]7it/s]\n",
      " 49%|████▉     | 4911/10000 [00:04<00:04, 1183.47it/s]\n",
      " 36%|███▌      | 3614/10000 [00:02<00:05, 1209.38it/s]\n",
      "  2%|▏         | 4/200 [00:00<00:06, 29.93it/s]8it/s]\n",
      "  7%|▋         | 14/200 [00:00<00:03, 54.53it/s]it/s]\n",
      " 35%|███▌      | 3536/10000 [00:03<00:05, 1177.07it/s]\n",
      "  4%|▍         | 9/200 [00:00<00:03, 52.00it/s]33it/s]\n",
      " 48%|████▊     | 4777/10000 [00:04<00:04, 1175.58it/s]\n",
      " 47%|████▋     | 4689/10000 [00:03<00:04, 1190.79it/s]\n",
      "  2%|▏         | 3/200 [00:00<00:07, 25.21it/s]28it/s]\n",
      " 12%|█▏        | 23/200 [00:00<00:02, 70.18it/s]it/s]]\n",
      " 35%|███▍      | 3482/10000 [00:03<00:05, 1151.89it/s]\n",
      "  7%|▋         | 14/200 [00:00<00:03, 61.14it/s]0it/s]\n",
      " 34%|███▍      | 3397/10000 [00:02<00:05, 1210.84it/s]\n",
      "  9%|▉         | 18/200 [00:00<00:02, 67.32it/s]8it/s]\n",
      " 50%|█████     | 5045/10000 [00:04<00:04, 1190.71it/s]\n",
      "  2%|▏         | 4/200 [00:00<00:06, 28.26it/s]90it/s]\n",
      " 35%|███▌      | 3509/10000 [00:03<00:05, 1168.87it/s]\n",
      " 10%|█         | 20/200 [00:00<00:02, 64.43it/s]0it/s]\n",
      " 34%|███▍      | 3378/10000 [00:02<00:05, 1164.55it/s]\n",
      " 49%|████▉     | 4911/10000 [00:04<00:04, 1177.19it/s]\n",
      "  6%|▋         | 13/200 [00:00<00:03, 55.12it/s]4it/s]\n",
      " 10%|█         | 20/200 [00:00<00:02, 65.35it/s]it/s]]\n",
      " 36%|███▌      | 3614/10000 [00:03<00:05, 1133.71it/s]\n",
      " 20%|█▉        | 39/200 [00:00<00:02, 78.70it/s]8it/s]\n",
      " 35%|███▌      | 3536/10000 [00:02<00:05, 1181.37it/s]\n",
      "  4%|▍         | 9/200 [00:00<00:04, 41.61it/s]68it/s]\n",
      " 48%|████▊     | 4777/10000 [00:04<00:04, 1184.86it/s]\n",
      " 15%|█▌        | 30/200 [00:00<00:02, 66.00it/s]8it/s]\n",
      " 47%|████▋     | 4689/10000 [00:04<00:04, 1169.53it/s]\n",
      "  2%|▏         | 4/200 [00:00<00:06, 30.63it/s]1it/s]]\n",
      " 35%|███▍      | 3482/10000 [00:02<00:05, 1186.65it/s]\n",
      " 26%|██▌       | 51/200 [00:00<00:02, 71.40it/s]0it/s]\n",
      " 34%|███▍      | 3397/10000 [00:02<00:05, 1189.65it/s]\n",
      " 10%|█         | 20/200 [00:00<00:02, 61.20it/s]3it/s]\n",
      " 50%|█████     | 5045/10000 [00:04<00:04, 1189.34it/s]\n",
      "  4%|▎         | 7/200 [00:00<00:04, 42.35it/s]75it/s]\n",
      " 35%|███▌      | 3509/10000 [00:02<00:05, 1192.22it/s]\n",
      " 12%|█▏        | 23/200 [00:00<00:02, 61.62it/s]6it/s]\n",
      " 34%|███▍      | 3378/10000 [00:02<00:05, 1174.75it/s]\n",
      " 11%|█         | 22/200 [00:00<00:02, 60.21it/s]3it/s]\n",
      " 49%|████▉     | 4911/10000 [00:04<00:04, 1178.83it/s]\n",
      "  9%|▉         | 18/200 [00:00<00:03, 57.17it/s]0it/s]\n",
      " 36%|███▌      | 3614/10000 [00:03<00:05, 1184.66it/s]\n",
      "  8%|▊         | 17/200 [00:00<00:03, 56.91it/s]3it/s]\n",
      " 35%|███▌      | 3536/10000 [00:02<00:05, 1189.51it/s]\n",
      "  2%|▏         | 3/200 [00:00<00:07, 27.00it/s]85it/s]\n",
      " 48%|████▊     | 4777/10000 [00:04<00:04, 1186.24it/s]\n",
      " 14%|█▎        | 27/200 [00:00<00:02, 73.42it/s]1it/s]\n",
      " 47%|████▋     | 4689/10000 [00:03<00:04, 1190.40it/s]\n",
      "  3%|▎         | 6/200 [00:00<00:04, 41.60it/s]73it/s]\n",
      " 35%|███▍      | 3482/10000 [00:02<00:05, 1205.00it/s]\n",
      " 24%|██▍       | 48/200 [00:00<00:02, 68.34it/s]3it/s]\n",
      " 34%|███▍      | 3397/10000 [00:02<00:05, 1148.84it/s]\n",
      "  2%|▏         | 4/200 [00:00<00:06, 32.54it/s]40it/s]\n",
      " 50%|█████     | 5045/10000 [00:04<00:04, 1161.92it/s]\n",
      "  3%|▎         | 6/200 [00:00<00:04, 42.11it/s]88it/s]\n",
      " 35%|███▌      | 3509/10000 [00:02<00:05, 1187.34it/s]\n",
      "  2%|▏         | 3/200 [00:00<00:07, 26.87it/s]76it/s]\n",
      " 34%|███▍      | 3378/10000 [00:02<00:05, 1202.95it/s]\n",
      "  4%|▍         | 9/200 [00:00<00:03, 52.15it/s]65it/s]\n",
      " 49%|████▉     | 4911/10000 [00:04<00:04, 1195.65it/s]\n",
      "  4%|▎         | 7/200 [00:00<00:04, 45.63it/s]1it/s]]\n",
      " 36%|███▌      | 3614/10000 [00:03<00:05, 1201.20it/s]\n",
      " 12%|█▎        | 25/200 [00:00<00:02, 72.59it/s]it/s]\n",
      " 35%|███▌      | 3536/10000 [00:03<00:05, 1166.89it/s]\n",
      "  4%|▍         | 9/200 [00:00<00:04, 43.16it/s]54it/s]\n",
      " 48%|████▊     | 4777/10000 [00:04<00:04, 1157.01it/s]\n",
      " 11%|█         | 22/200 [00:00<00:02, 63.09it/s]8it/s]\n",
      " 47%|████▋     | 4689/10000 [00:04<00:04, 1149.09it/s]\n",
      "  8%|▊         | 17/200 [00:00<00:03, 59.45it/s]it/s]]\n",
      " 35%|███▍      | 3482/10000 [00:02<00:05, 1191.84it/s]\n",
      " 12%|█▏        | 24/200 [00:00<00:02, 64.69it/s]4it/s]\n",
      " 34%|███▍      | 3397/10000 [00:02<00:05, 1205.76it/s]\n",
      " 13%|█▎        | 26/200 [00:00<00:02, 65.62it/s]1it/s]\n",
      " 50%|█████     | 5045/10000 [00:04<00:04, 1192.01it/s]\n",
      "  2%|▏         | 4/200 [00:00<00:06, 31.07it/s]6it/s]]\n",
      " 35%|███▌      | 3509/10000 [00:02<00:05, 1200.26it/s]\n",
      " 17%|█▋        | 34/200 [00:00<00:02, 67.72it/s]it/s]]\n",
      " 34%|███▍      | 3378/10000 [00:02<00:05, 1192.00it/s]\n",
      " 11%|█         | 22/200 [00:00<00:03, 56.55it/s]3it/s]\n",
      " 49%|████▉     | 4911/10000 [00:04<00:04, 1193.71it/s]\n",
      "  2%|▎         | 5/200 [00:00<00:05, 34.67it/s]89it/s]\n",
      " 36%|███▌      | 3614/10000 [00:03<00:05, 1179.96it/s]\n",
      "  9%|▉         | 18/200 [00:00<00:03, 58.06it/s]it/s]]\n",
      " 35%|███▌      | 3536/10000 [00:03<00:05, 1156.34it/s]\n",
      "  5%|▌         | 10/200 [00:00<00:03, 52.01it/s]0it/s]\n",
      " 48%|████▊     | 4777/10000 [00:04<00:04, 1163.98it/s]\n",
      " 11%|█         | 22/200 [00:00<00:02, 65.79it/s]5it/s]\n",
      " 47%|████▋     | 4689/10000 [00:04<00:04, 1162.38it/s]\n",
      "  3%|▎         | 6/200 [00:00<00:04, 40.56it/s]01it/s]\n",
      " 35%|███▍      | 3482/10000 [00:02<00:05, 1180.31it/s]\n",
      " 12%|█▏        | 23/200 [00:00<00:02, 69.58it/s]9it/s]\n",
      " 34%|███▍      | 3397/10000 [00:02<00:05, 1192.48it/s]\n",
      "  8%|▊         | 15/200 [00:00<00:02, 62.61it/s]7it/s]\n",
      " 50%|█████     | 5045/10000 [00:04<00:04, 1189.79it/s]\n",
      "  2%|▎         | 5/200 [00:00<00:05, 37.83it/s]7it/s]]\n",
      " 35%|███▌      | 3509/10000 [00:02<00:05, 1186.65it/s]\n",
      " 14%|█▍        | 28/200 [00:00<00:02, 73.41it/s]it/s]]\n",
      " 34%|███▍      | 3378/10000 [00:02<00:05, 1176.74it/s]\n",
      "  7%|▋         | 14/200 [00:00<00:03, 59.85it/s]1it/s]\n",
      " 49%|████▉     | 4911/10000 [00:04<00:04, 1185.06it/s]\n",
      "  3%|▎         | 6/200 [00:00<00:04, 41.52it/s]3it/s]]\n",
      " 36%|███▌      | 3614/10000 [00:03<00:05, 1183.56it/s]\n",
      " 11%|█         | 22/200 [00:00<00:02, 69.88it/s]9it/s]\n",
      " 35%|███▌      | 3536/10000 [00:02<00:05, 1191.37it/s]\n",
      "  4%|▎         | 7/200 [00:00<00:04, 41.56it/s]19it/s]\n",
      " 48%|████▊     | 4777/10000 [00:04<00:04, 1190.71it/s]\n",
      "  8%|▊         | 17/200 [00:00<00:03, 52.85it/s]2it/s]\n",
      " 47%|████▋     | 4689/10000 [00:03<00:04, 1178.33it/s]\n",
      "  5%|▌         | 10/200 [00:00<00:03, 48.09it/s]9it/s]\n",
      " 35%|███▍      | 3482/10000 [00:03<00:05, 1154.68it/s]\n",
      " 41%|████      | 82/200 [00:01<00:01, 75.70it/s]8it/s]\n",
      " 34%|███▍      | 3397/10000 [00:02<00:05, 1188.33it/s]\n",
      "  4%|▎         | 7/200 [00:00<00:04, 42.62it/s]55it/s]\n",
      " 50%|█████     | 5045/10000 [00:04<00:04, 1182.47it/s]\n",
      "  4%|▎         | 7/200 [00:00<00:04, 42.35it/s]50it/s]\n",
      " 35%|███▌      | 3509/10000 [00:02<00:05, 1205.87it/s]\n",
      " 13%|█▎        | 26/200 [00:00<00:02, 65.56it/s]5it/s]\n",
      " 34%|███▍      | 3378/10000 [00:02<00:05, 1201.34it/s]\n",
      "  6%|▌         | 12/200 [00:00<00:03, 53.06it/s]9it/s]\n",
      " 49%|████▉     | 4911/10000 [00:04<00:04, 1195.89it/s]\n",
      "  9%|▉         | 18/200 [00:00<00:03, 58.59it/s]it/s]]\n",
      " 36%|███▌      | 3614/10000 [00:03<00:05, 1200.26it/s]\n",
      "  6%|▌         | 11/200 [00:00<00:03, 49.55it/s]8it/s]\n",
      " 35%|███▌      | 3536/10000 [00:03<00:05, 1176.70it/s]\n",
      "  7%|▋         | 14/200 [00:00<00:03, 52.42it/s]1it/s]\n",
      " 48%|████▊     | 4777/10000 [00:04<00:04, 1166.05it/s]\n",
      "  8%|▊         | 16/200 [00:00<00:02, 63.74it/s]9it/s]\n",
      " 47%|████▋     | 4689/10000 [00:04<00:04, 1160.34it/s]\n",
      "  2%|▎         | 5/200 [00:00<00:05, 37.17it/s]99it/s]\n",
      " 35%|███▍      | 3482/10000 [00:02<00:05, 1181.85it/s]\n",
      " 16%|█▌        | 31/200 [00:00<00:02, 75.01it/s]it/s]]\n",
      " 34%|███▍      | 3397/10000 [00:02<00:05, 1208.96it/s]\n",
      "  8%|▊         | 15/200 [00:00<00:02, 62.05it/s]0it/s]\n",
      " 50%|█████     | 5045/10000 [00:04<00:04, 1188.78it/s]\n",
      "  2%|▏         | 3/200 [00:00<00:07, 27.24it/s]21it/s]\n",
      " 35%|███▌      | 3509/10000 [00:02<00:05, 1184.91it/s]\n",
      " 12%|█▏        | 23/200 [00:00<00:02, 69.09it/s]it/s]]\n",
      " 34%|███▍      | 3378/10000 [00:02<00:05, 1191.44it/s]\n",
      "  6%|▌         | 12/200 [00:00<00:03, 58.19it/s]3it/s]\n",
      " 49%|████▉     | 4911/10000 [00:04<00:04, 1202.89it/s]\n",
      " 36%|███▌      | 3614/10000 [00:03<00:05, 1179.24it/s]\n",
      "  2%|▏         | 3/200 [00:00<00:07, 27.14it/s]\n",
      "  8%|▊         | 16/200 [00:00<00:02, 64.07it/s]9it/s]\n",
      " 35%|███▌      | 3536/10000 [00:02<00:05, 1192.63it/s]\n",
      "  7%|▋         | 14/200 [00:00<00:03, 54.43it/s]3it/s]\n",
      " 48%|████▊     | 4777/10000 [00:03<00:04, 1206.97it/s]\n",
      " 47%|████▋     | 4689/10000 [00:03<00:04, 1183.93it/s]\n",
      "  8%|▊         | 17/200 [00:00<00:03, 57.41it/s]3it/s]\n",
      "  6%|▋         | 13/200 [00:00<00:03, 52.27it/s]it/s]]\n",
      " 35%|███▍      | 3482/10000 [00:02<00:05, 1187.22it/s]\n",
      " 14%|█▍        | 28/200 [00:00<00:02, 64.96it/s]3it/s]\n",
      " 34%|███▍      | 3397/10000 [00:02<00:05, 1184.38it/s]\n",
      "  8%|▊         | 15/200 [00:00<00:03, 56.11it/s]6it/s]\n",
      " 50%|█████     | 5045/10000 [00:04<00:04, 1203.91it/s]\n",
      "  4%|▎         | 7/200 [00:00<00:04, 42.13it/s]61it/s]\n",
      " 35%|███▌      | 3509/10000 [00:02<00:05, 1191.96it/s]\n",
      " 12%|█▏        | 23/200 [00:00<00:02, 61.55it/s]1it/s]\n",
      " 34%|███▍      | 3378/10000 [00:02<00:05, 1204.04it/s]\n",
      "  6%|▋         | 13/200 [00:00<00:03, 53.75it/s]1it/s]\n",
      " 49%|████▉     | 4911/10000 [00:04<00:04, 1180.03it/s]\n",
      "  2%|▎         | 5/200 [00:00<00:05, 34.48it/s]8it/s]]\n",
      " 36%|███▌      | 3614/10000 [00:03<00:05, 1182.74it/s]\n",
      "  7%|▋         | 14/200 [00:00<00:03, 55.10it/s]it/s]\n",
      " 35%|███▌      | 3536/10000 [00:02<00:05, 1212.92it/s]\n",
      " 11%|█         | 22/200 [00:00<00:02, 66.30it/s]8it/s]\n",
      " 48%|████▊     | 4777/10000 [00:04<00:04, 1181.01it/s]\n",
      " 47%|████▋     | 4689/10000 [00:03<00:04, 1195.62it/s]\n",
      "  2%|▏         | 3/200 [00:00<00:07, 25.70it/s]75it/s]\n",
      " 76%|███████▌  | 151/200 [00:01<00:00, 81.19it/s]it/s]\n",
      " 35%|███▍      | 3482/10000 [00:02<00:05, 1202.58it/s]\n",
      " 34%|███▍      | 69/200 [00:00<00:01, 78.35it/s]7it/s]\n",
      " 34%|███▍      | 3397/10000 [00:02<00:05, 1170.88it/s]\n",
      " 50%|█████     | 5045/10000 [00:04<00:04, 1185.60it/s]\n",
      "  2%|▏         | 3/200 [00:00<00:07, 26.14it/s]84it/s]\n",
      " 34%|███▎      | 67/200 [00:00<00:01, 75.89it/s]it/s]]\n",
      " 35%|███▌      | 3509/10000 [00:02<00:05, 1206.13it/s]\n",
      " 23%|██▎       | 46/200 [00:00<00:02, 75.76it/s]it/s]]\n",
      " 34%|███▍      | 3378/10000 [00:03<00:05, 1122.35it/s]\n",
      " 49%|████▉     | 4911/10000 [00:04<00:04, 1167.75it/s]\n",
      "  2%|▏         | 3/200 [00:00<00:07, 25.98it/s]14it/s]\n",
      " 26%|██▌       | 52/200 [00:00<00:01, 75.99it/s]it/s]]\n",
      " 36%|███▌      | 3614/10000 [00:03<00:05, 1151.64it/s]\n",
      " 27%|██▋       | 54/200 [00:00<00:02, 71.59it/s]5it/s]\n",
      " 35%|███▌      | 3536/10000 [00:03<00:05, 1133.57it/s]\n",
      "  2%|▎         | 5/200 [00:00<00:05, 32.56it/s]33it/s]\n",
      " 48%|████▊     | 4777/10000 [00:04<00:04, 1160.79it/s]\n",
      " 47%|████▋     | 4689/10000 [00:04<00:04, 1166.63it/s]\n",
      " 26%|██▌       | 52/200 [00:00<00:02, 67.91it/s]\n",
      " 18%|█▊        | 35/200 [00:00<00:02, 64.68it/s]2it/s]\n",
      " 35%|███▍      | 3482/10000 [00:02<00:05, 1181.12it/s]\n",
      "  2%|▏         | 3/200 [00:00<00:07, 24.74it/s]2it/s]]\n",
      " 34%|███▍      | 3397/10000 [00:02<00:05, 1180.46it/s]\n",
      " 16%|█▌        | 32/200 [00:00<00:02, 62.09it/s]6it/s]\n",
      " 50%|█████     | 5045/10000 [00:04<00:04, 1180.31it/s]\n",
      " 35%|███▌      | 3509/10000 [00:03<00:05, 1168.72it/s]\n",
      "  2%|▏         | 3/200 [00:00<00:08, 24.55it/s]8it/s]\n",
      " 26%|██▌       | 51/200 [00:00<00:02, 67.51it/s]6it/s]\n",
      " 34%|███▍      | 3378/10000 [00:02<00:05, 1188.82it/s]\n",
      " 49%|████▉     | 4911/10000 [00:04<00:04, 1189.77it/s]\n",
      " 36%|███▌      | 3614/10000 [00:03<00:05, 1183.57it/s]\n",
      "  8%|▊         | 15/200 [00:00<00:03, 53.36it/s]\n",
      " 20%|██        | 40/200 [00:00<00:02, 64.75it/s]it/s]\n",
      " 66%|██████▌   | 132/200 [00:01<00:00, 70.57it/s]t/s]\n",
      " 35%|███▌      | 3536/10000 [00:03<00:05, 1177.62it/s]\n",
      "  2%|▏         | 3/200 [00:00<00:07, 25.20it/s]65it/s]\n",
      " 48%|████▊     | 4777/10000 [00:04<00:04, 1189.54it/s]\n",
      " 47%|████▋     | 4689/10000 [00:03<00:04, 1180.45it/s]\n",
      " 26%|██▌       | 52/200 [00:00<00:01, 75.70it/s]0it/s]\n",
      " 11%|█         | 22/200 [00:00<00:02, 65.02it/s]it/s]]\n",
      " 35%|███▍      | 3482/10000 [00:02<00:05, 1169.85it/s]\n",
      "  2%|▏         | 3/200 [00:00<00:07, 26.32it/s]88it/s]\n",
      " 34%|███▍      | 3397/10000 [00:02<00:05, 1154.58it/s]\n",
      " 10%|█         | 20/200 [00:00<00:02, 64.71it/s]7it/s]\n",
      " 35%|███▌      | 3509/10000 [00:03<00:05, 1149.77it/s]\n",
      " 50%|█████     | 5045/10000 [00:04<00:04, 1172.98it/s]\n",
      "  2%|▏         | 3/200 [00:00<00:08, 23.82it/s]30it/s]\n",
      " 14%|█▍        | 29/200 [00:00<00:02, 59.18it/s]1it/s]\n",
      " 34%|███▍      | 3378/10000 [00:02<00:05, 1171.76it/s]\n",
      " 49%|████▉     | 4911/10000 [00:04<00:04, 1174.73it/s]\n",
      " 36%|███▌      | 3614/10000 [00:03<00:05, 1191.37it/s]\n",
      " 22%|██▎       | 45/200 [00:00<00:02, 73.23it/s]\n",
      "  2%|▏         | 3/200 [00:00<00:07, 24.65it/s]\n",
      " 22%|██▏       | 43/200 [00:00<00:02, 73.07it/s]it/s]\n",
      " 35%|███▌      | 3536/10000 [00:02<00:05, 1184.79it/s]\n",
      " 12%|█▏        | 23/200 [00:00<00:03, 58.01it/s]3it/s]\n",
      " 48%|████▊     | 4777/10000 [00:03<00:04, 1198.57it/s]\n",
      " 47%|████▋     | 4689/10000 [00:03<00:04, 1196.37it/s]\n",
      "  4%|▍         | 9/200 [00:00<00:04, 40.46it/s]2it/s]\n",
      "  3%|▎         | 6/200 [00:00<00:06, 32.21it/s]6it/s]]\n",
      " 35%|███▍      | 3482/10000 [00:02<00:05, 1175.82it/s]\n",
      " 17%|█▋        | 34/200 [00:00<00:02, 62.16it/s]7it/s]\n",
      " 34%|███▍      | 3397/10000 [00:02<00:05, 1169.91it/s]\n",
      " 26%|██▌       | 51/200 [00:00<00:02, 67.82it/s]3it/s]\n",
      " 50%|█████     | 5045/10000 [00:04<00:04, 1195.28it/s]\n",
      "  2%|▏         | 3/200 [00:00<00:08, 23.67it/s]8it/s]]\n",
      " 35%|███▌      | 3509/10000 [00:02<00:05, 1186.35it/s]\n",
      " 14%|█▍        | 29/200 [00:00<00:02, 58.62it/s]6it/s]\n",
      " 34%|███▍      | 3378/10000 [00:02<00:05, 1192.89it/s]\n",
      " 15%|█▌        | 30/200 [00:00<00:02, 62.26it/s]6it/s]\n",
      " 49%|████▉     | 4911/10000 [00:04<00:04, 1184.27it/s]\n",
      "  2%|▏         | 3/200 [00:00<00:08, 24.59it/s]94it/s]\n",
      " 36%|███▌      | 3614/10000 [00:03<00:05, 1183.99it/s]\n",
      " 26%|██▌       | 51/200 [00:00<00:02, 67.13it/s]8it/s]\n",
      " 35%|███▌      | 3536/10000 [00:02<00:05, 1189.58it/s]\n",
      "  9%|▉         | 18/200 [00:00<00:02, 62.05it/s]9it/s]\n",
      " 48%|████▊     | 4777/10000 [00:04<00:04, 1186.96it/s]\n",
      "  4%|▍         | 9/200 [00:00<00:04, 46.72it/s]12it/s]\n",
      " 35%|███▍      | 3482/10000 [00:02<00:05, 1201.98it/s]\n",
      " 47%|████▋     | 4689/10000 [00:03<00:04, 1185.32it/s]\n",
      "  2%|▏         | 3/200 [00:00<00:07, 25.68it/s]91it/s]\n",
      " 38%|███▊      | 77/200 [00:00<00:01, 78.25it/s]it/s]]\n",
      " 50%|█████     | 5045/10000 [00:04<00:04, 1175.21it/s]\n",
      "  2%|▎         | 5/200 [00:00<00:06, 31.01it/s]12it/s]\n",
      " 34%|███▍      | 3397/10000 [00:02<00:05, 1150.40it/s]\n",
      "  2%|▎         | 5/200 [00:00<00:05, 36.54it/s]4it/s]]\n",
      " 35%|███▌      | 3509/10000 [00:02<00:05, 1178.41it/s]\n",
      " 16%|█▋        | 33/200 [00:00<00:02, 70.14it/s]6it/s]\n",
      " 34%|███▍      | 3378/10000 [00:02<00:05, 1162.78it/s]\n",
      " 32%|███▏      | 63/200 [00:00<00:01, 74.70it/s]7it/s]\n",
      " 49%|████▉     | 4911/10000 [00:04<00:04, 1175.96it/s]\n",
      "  2%|▎         | 5/200 [00:00<00:05, 35.22it/s]5it/s]]\n",
      " 36%|███▌      | 3614/10000 [00:03<00:05, 1186.68it/s]\n",
      " 18%|█▊        | 35/200 [00:00<00:02, 70.91it/s]it/s]]\n",
      " 35%|███▌      | 3536/10000 [00:02<00:05, 1179.57it/s]\n",
      " 12%|█▏        | 24/200 [00:00<00:03, 58.07it/s]4it/s]\n",
      " 48%|████▊     | 4777/10000 [00:04<00:04, 1186.41it/s]\n",
      " 12%|█▏        | 24/200 [00:00<00:02, 60.22it/s]1it/s]\n",
      " 47%|████▋     | 4689/10000 [00:03<00:04, 1181.94it/s]\n",
      "  9%|▉         | 18/200 [00:00<00:04, 44.72it/s]it/s]]\n",
      " 35%|███▍      | 3482/10000 [00:03<00:05, 1156.86it/s]\n",
      " 29%|██▉       | 58/200 [00:00<00:02, 60.84it/s]1it/s]\n",
      " 34%|███▍      | 3397/10000 [00:02<00:05, 1164.27it/s]\n",
      " 12%|█▏        | 23/200 [00:00<00:03, 58.60it/s]7it/s]\n",
      " 50%|█████     | 5045/10000 [00:04<00:04, 1144.72it/s]\n",
      "  2%|▏         | 3/200 [00:00<00:08, 23.46it/s]81it/s]\n",
      " 35%|███▌      | 3509/10000 [00:02<00:05, 1172.43it/s]\n",
      " 20%|█▉        | 39/200 [00:00<00:02, 57.76it/s]1it/s]\n",
      " 34%|███▍      | 3378/10000 [00:02<00:05, 1157.93it/s]\n",
      " 18%|█▊        | 36/200 [00:00<00:02, 63.86it/s]8it/s]\n",
      " 49%|████▉     | 4911/10000 [00:04<00:04, 1176.98it/s]\n",
      "  2%|▏         | 3/200 [00:00<00:08, 24.35it/s]20it/s]\n",
      " 36%|███▌      | 3614/10000 [00:03<00:05, 1185.76it/s]\n",
      " 28%|██▊       | 55/200 [00:00<00:02, 66.71it/s]3it/s]\n",
      " 35%|███▌      | 3536/10000 [00:02<00:05, 1188.45it/s]\n",
      "  9%|▉         | 18/200 [00:00<00:02, 61.41it/s]5it/s]\n",
      " 48%|████▊     | 4777/10000 [00:03<00:04, 1196.59it/s]\n",
      "  4%|▍         | 8/200 [00:00<00:04, 45.16it/s]30it/s]\n",
      " 47%|████▋     | 4689/10000 [00:03<00:04, 1192.31it/s]\n",
      " 35%|███▍      | 3482/10000 [00:02<00:05, 1189.94it/s]\n",
      "  6%|▌         | 12/200 [00:00<00:03, 52.79it/s]3it/s]\n",
      " 36%|███▌      | 71/200 [00:00<00:01, 76.51it/s]8it/s]\n",
      " 50%|█████     | 5045/10000 [00:04<00:04, 1196.99it/s]\n",
      "  2%|▏         | 3/200 [00:00<00:07, 26.01it/s]55it/s]\n",
      " 34%|███▍      | 3397/10000 [00:02<00:05, 1169.43it/s]\n",
      " 14%|█▎        | 27/200 [00:00<00:02, 66.44it/s]3it/s]\n",
      " 35%|███▌      | 3509/10000 [00:02<00:05, 1194.45it/s]\n",
      " 12%|█▏        | 24/200 [00:00<00:02, 66.14it/s]4it/s]\n",
      " 34%|███▍      | 3378/10000 [00:02<00:05, 1191.25it/s]\n",
      " 49%|████▉     | 4911/10000 [00:04<00:04, 1196.72it/s]\n",
      "  2%|▏         | 3/200 [00:00<00:11, 17.64it/s]]1it/s]\n",
      " 32%|███▏      | 64/200 [00:00<00:01, 70.89it/s]2it/s]\n",
      " 36%|███▌      | 3614/10000 [00:03<00:05, 1167.84it/s]\n",
      " 15%|█▌        | 30/200 [00:00<00:02, 70.11it/s]it/s]\n",
      " 35%|███▌      | 3536/10000 [00:03<00:05, 1174.93it/s]\n",
      "  2%|▏         | 3/200 [00:00<00:08, 24.45it/s]69it/s]\n",
      " 48%|████▊     | 4777/10000 [00:04<00:04, 1166.30it/s]\n",
      " 10%|█         | 21/200 [00:00<00:03, 57.04it/s]1it/s]\n",
      " 47%|████▋     | 4689/10000 [00:04<00:04, 1171.39it/s]\n",
      "  8%|▊         | 15/200 [00:00<00:03, 53.21it/s]6it/s]\n",
      " 35%|███▍      | 3482/10000 [00:02<00:05, 1179.04it/s]\n",
      "  2%|▏         | 3/200 [00:00<00:07, 24.96it/s]17it/s]\n",
      " 34%|███▍      | 3397/10000 [00:02<00:05, 1210.35it/s]\n",
      "  6%|▌         | 11/200 [00:00<00:03, 48.84it/s]0it/s]\n",
      " 35%|███▌      | 3509/10000 [00:02<00:05, 1218.83it/s]\n",
      " 50%|█████     | 5045/10000 [00:04<00:04, 1191.50it/s]\n",
      "  2%|▏         | 3/200 [00:00<00:07, 24.67it/s]54it/s]\n",
      " 14%|█▎        | 27/200 [00:00<00:02, 60.76it/s]it/s]]\n",
      " 34%|███▍      | 3378/10000 [00:02<00:05, 1200.59it/s]\n",
      " 49%|████▉     | 4911/10000 [00:04<00:04, 1204.49it/s]\n",
      "  9%|▉         | 18/200 [00:00<00:03, 56.21it/s]\n",
      " 36%|███▌      | 3614/10000 [00:03<00:05, 1183.89it/s]\n",
      " 10%|█         | 20/200 [00:00<00:03, 55.47it/s]\n",
      "  6%|▌         | 11/200 [00:00<00:04, 47.25it/s]it/s]\n",
      " 35%|███▌      | 3536/10000 [00:02<00:05, 1187.87it/s]\n",
      "  7%|▋         | 14/200 [00:00<00:03, 57.26it/s]5it/s]\n",
      " 48%|████▊     | 4777/10000 [00:03<00:04, 1198.52it/s]\n",
      " 47%|████▋     | 4689/10000 [00:03<00:04, 1189.09it/s]\n",
      "  6%|▋         | 13/200 [00:00<00:03, 56.00it/s]4it/s]\n",
      "  6%|▋         | 13/200 [00:00<00:03, 53.74it/s]7it/s]\n",
      " 35%|███▍      | 3482/10000 [00:02<00:05, 1183.04it/s]\n",
      " 12%|█▎        | 25/200 [00:00<00:03, 56.92it/s]9it/s]\n",
      " 34%|███▍      | 3397/10000 [00:03<00:05, 1116.75it/s]\n",
      "  3%|▎         | 6/200 [00:00<00:05, 37.29it/s]13it/s]\n",
      " 50%|█████     | 5045/10000 [00:04<00:04, 1139.11it/s]\n",
      "  5%|▌         | 10/200 [00:00<00:04, 46.17it/s]8it/s]\n",
      " 35%|███▌      | 3509/10000 [00:03<00:05, 1102.86it/s]\n",
      " 10%|█         | 21/200 [00:00<00:03, 52.07it/s]9it/s]\n",
      " 34%|███▍      | 3378/10000 [00:02<00:05, 1131.33it/s]\n",
      " 49%|████▉     | 4911/10000 [00:04<00:04, 1108.91it/s]\n",
      "  8%|▊         | 16/200 [00:00<00:03, 58.66it/s]4it/s]\n",
      "  9%|▉         | 18/200 [00:00<00:03, 58.60it/s]6it/s]\n",
      " 36%|███▌      | 3614/10000 [00:03<00:05, 1152.02it/s]\n",
      " 10%|█         | 21/200 [00:00<00:02, 63.54it/s]6it/s]\n",
      " 35%|███▌      | 3536/10000 [00:02<00:05, 1188.04it/s]\n",
      "  6%|▋         | 13/200 [00:00<00:03, 50.31it/s]2it/s]\n",
      " 48%|████▊     | 4777/10000 [00:04<00:04, 1168.48it/s]\n",
      "  4%|▍         | 9/200 [00:00<00:04, 43.08it/s]33it/s]\n",
      " 47%|████▋     | 4689/10000 [00:03<00:04, 1175.03it/s]\n",
      "  4%|▍         | 9/200 [00:00<00:04, 44.10it/s]03it/s]\n",
      " 35%|███▍      | 3482/10000 [00:02<00:05, 1193.17it/s]\n",
      "  9%|▉         | 18/200 [00:00<00:03, 54.96it/s]7it/s]\n",
      " 34%|███▍      | 3397/10000 [00:02<00:05, 1189.90it/s]\n",
      "  8%|▊         | 17/200 [00:00<00:03, 54.68it/s]5it/s]\n",
      " 50%|█████     | 5045/10000 [00:04<00:04, 1173.23it/s]\n",
      "  2%|▏         | 3/200 [00:00<00:08, 22.86it/s]31it/s]\n",
      " 35%|███▌      | 3509/10000 [00:02<00:05, 1187.18it/s]\n",
      " 12%|█▏        | 24/200 [00:00<00:02, 58.94it/s]4it/s]\n",
      " 34%|███▍      | 3378/10000 [00:02<00:05, 1175.46it/s]\n",
      " 19%|█▉        | 38/200 [00:00<00:02, 63.17it/s]5it/s]\n",
      " 49%|████▉     | 4911/10000 [00:04<00:04, 1183.97it/s]\n",
      " 36%|███▌      | 3614/10000 [00:03<00:05, 1185.20it/s]\n",
      "  7%|▋         | 14/200 [00:00<00:03, 50.92it/s]it/s]\n",
      " 13%|█▎        | 26/200 [00:00<00:02, 58.89it/s]3it/s]\n",
      " 35%|███▌      | 3536/10000 [00:03<00:05, 1164.60it/s]\n",
      "  2%|▏         | 3/200 [00:00<00:07, 25.82it/s]71it/s]\n",
      " 48%|████▊     | 4777/10000 [00:04<00:04, 1184.18it/s]\n",
      "  4%|▎         | 7/200 [00:00<00:04, 42.27it/s]71it/s]\n",
      " 47%|████▋     | 4689/10000 [00:03<00:04, 1183.95it/s]\n",
      "  5%|▌         | 10/200 [00:00<00:03, 50.08it/s]5it/s]\n",
      " 35%|███▍      | 3482/10000 [00:02<00:05, 1177.97it/s]\n",
      " 14%|█▍        | 29/200 [00:00<00:02, 66.17it/s]9it/s]\n",
      " 34%|███▍      | 3397/10000 [00:02<00:05, 1172.63it/s]\n",
      "  2%|▏         | 3/200 [00:00<00:08, 23.20it/s]84it/s]\n",
      " 50%|█████     | 5045/10000 [00:04<00:04, 1146.90it/s]\n",
      "  6%|▌         | 12/200 [00:00<00:03, 52.13it/s]0it/s]\n",
      " 35%|███▌      | 3509/10000 [00:03<00:06, 1078.71it/s]\n",
      "  2%|▏         | 3/200 [00:00<00:07, 25.55it/s]05it/s]\n",
      " 49%|████▉     | 4911/10000 [00:04<00:04, 1132.36it/s]\n",
      " 34%|███▍      | 3378/10000 [00:03<00:05, 1107.34it/s]\n",
      "  8%|▊         | 16/200 [00:00<00:03, 55.75it/s]1it/s]\n",
      "  6%|▋         | 13/200 [00:00<00:03, 52.21it/s]\n",
      " 36%|███▌      | 3614/10000 [00:03<00:05, 1108.90it/s]\n",
      "  2%|▏         | 3/200 [00:00<00:07, 25.81it/s]8it/s]\n",
      " 35%|███▌      | 3536/10000 [00:02<00:05, 1195.47it/s]\n",
      "  7%|▋         | 14/200 [00:00<00:03, 51.27it/s]0it/s]\n",
      " 48%|████▊     | 4777/10000 [00:04<00:04, 1182.96it/s]\n",
      "  8%|▊         | 16/200 [00:00<00:03, 53.64it/s]8it/s]\n",
      " 47%|████▋     | 4689/10000 [00:03<00:04, 1173.67it/s]\n",
      "  3%|▎         | 6/200 [00:00<00:05, 35.43it/s]0it/s]]\n",
      " 35%|███▍      | 3482/10000 [00:02<00:05, 1170.88it/s]\n",
      " 16%|█▌        | 31/200 [00:00<00:02, 58.63it/s]7it/s]\n",
      " 34%|███▍      | 3397/10000 [00:02<00:05, 1155.09it/s]\n",
      "  7%|▋         | 14/200 [00:00<00:03, 47.78it/s]9it/s]\n",
      " 50%|█████     | 5045/10000 [00:04<00:04, 1176.10it/s]\n",
      "  2%|▏         | 3/200 [00:00<00:08, 23.67it/s]37it/s]\n",
      " 35%|███▌      | 3509/10000 [00:02<00:05, 1177.35it/s]\n",
      " 14%|█▎        | 27/200 [00:00<00:03, 57.65it/s]2it/s]\n",
      " 34%|███▍      | 3378/10000 [00:02<00:05, 1164.24it/s]\n",
      "  8%|▊         | 16/200 [00:00<00:03, 52.17it/s]2it/s]\n",
      " 49%|████▉     | 4911/10000 [00:04<00:04, 1162.25it/s]\n",
      "  2%|▏         | 3/200 [00:00<00:08, 23.29it/s]8it/s]]\n",
      " 36%|███▌      | 3614/10000 [00:03<00:05, 1151.62it/s]\n",
      " 10%|█         | 21/200 [00:00<00:03, 55.97it/s]4it/s]\n",
      " 35%|███▌      | 3536/10000 [00:02<00:05, 1189.47it/s]\n",
      " 10%|█         | 20/200 [00:00<00:03, 59.39it/s]2it/s]\n",
      " 48%|████▊     | 4777/10000 [00:04<00:04, 1164.05it/s]\n",
      "  4%|▍         | 9/200 [00:00<00:04, 44.31it/s]18it/s]\n",
      " 47%|████▋     | 4689/10000 [00:03<00:04, 1188.32it/s]\n",
      "  2%|▏         | 3/200 [00:00<00:07, 25.59it/s]86it/s]\n",
      " 35%|███▍      | 3482/10000 [00:02<00:05, 1191.64it/s]\n",
      " 10%|█         | 21/200 [00:00<00:02, 63.71it/s]it/s]]\n",
      " 34%|███▍      | 3397/10000 [00:02<00:05, 1192.03it/s]\n",
      "  2%|▎         | 5/200 [00:00<00:05, 36.23it/s]42it/s]\n",
      " 50%|█████     | 5045/10000 [00:04<00:04, 1168.48it/s]\n",
      "  2%|▏         | 3/200 [00:00<00:07, 24.81it/s]01it/s]\n",
      " 35%|███▌      | 3509/10000 [00:02<00:05, 1190.04it/s]\n",
      "  6%|▌         | 11/200 [00:00<00:03, 51.57it/s]9it/s]\n",
      " 34%|███▍      | 3378/10000 [00:02<00:05, 1159.82it/s]\n",
      " 10%|█         | 20/200 [00:00<00:02, 62.00it/s]9it/s]\n",
      " 36%|███▌      | 3614/10000 [00:03<00:05, 1191.79it/s]\n",
      " 49%|████▉     | 4911/10000 [00:04<00:04, 1189.72it/s]\n",
      "  2%|▏         | 3/200 [00:00<00:08, 23.82it/s]4it/s]\n",
      "  7%|▋         | 14/200 [00:00<00:03, 52.29it/s]\n",
      " 35%|███▌      | 3536/10000 [00:03<00:05, 1175.80it/s]\n",
      "  2%|▏         | 3/200 [00:00<00:07, 24.63it/s]78it/s]\n",
      " 47%|████▋     | 4689/10000 [00:03<00:04, 1175.35it/s]\n",
      " 48%|████▊     | 4777/10000 [00:04<00:04, 1180.18it/s]\n",
      "  4%|▍         | 8/200 [00:00<00:04, 40.86it/s]64it/s]\n",
      " 12%|█▏        | 23/200 [00:00<00:03, 49.06it/s]it/s]]\n",
      " 35%|███▍      | 3482/10000 [00:03<00:05, 1113.75it/s]\n",
      " 11%|█         | 22/200 [00:00<00:03, 52.48it/s]5it/s]\n",
      " 34%|███▍      | 3397/10000 [00:03<00:05, 1131.27it/s]\n",
      " 10%|▉         | 19/200 [00:00<00:03, 50.13it/s]5it/s]\n",
      " 50%|█████     | 5045/10000 [00:04<00:04, 1073.67it/s]\n",
      "  4%|▍         | 9/200 [00:00<00:04, 41.49it/s]38it/s]\n",
      " 35%|███▌      | 3509/10000 [00:03<00:06, 1079.32it/s]\n",
      "  2%|▎         | 5/200 [00:00<00:06, 31.45it/s]12it/s]\n",
      " 34%|███▍      | 3378/10000 [00:02<00:05, 1171.54it/s]\n",
      " 49%|████▉     | 4911/10000 [00:04<00:04, 1153.24it/s]\n",
      "  8%|▊         | 17/200 [00:00<00:03, 53.72it/s]4it/s]\n",
      "  7%|▋         | 14/200 [00:00<00:03, 49.75it/s]4it/s]\n",
      " 36%|███▌      | 3614/10000 [00:03<00:05, 1165.04it/s]\n",
      "  3%|▎         | 6/200 [00:00<00:05, 35.63it/s]6it/s]\n",
      " 35%|███▌      | 3536/10000 [00:02<00:05, 1191.97it/s]\n",
      "  4%|▍         | 9/200 [00:00<00:04, 47.70it/s]00it/s]\n",
      " 48%|████▊     | 4777/10000 [00:04<00:04, 1182.33it/s]\n",
      "  2%|▎         | 5/200 [00:00<00:05, 34.43it/s]50it/s]\n",
      " 47%|████▋     | 4689/10000 [00:03<00:04, 1173.37it/s]\n",
      "  2%|▏         | 4/200 [00:00<00:06, 29.76it/s]0it/s]]\n",
      " 35%|███▍      | 3482/10000 [00:02<00:05, 1185.80it/s]\n",
      " 10%|█         | 20/200 [00:00<00:03, 59.18it/s]9it/s]\n",
      " 34%|███▍      | 3397/10000 [00:02<00:05, 1156.62it/s]\n",
      "  3%|▎         | 6/200 [00:00<00:04, 39.83it/s]97it/s]\n",
      " 50%|█████     | 5045/10000 [00:04<00:04, 1176.03it/s]\n",
      "  6%|▌         | 12/200 [00:00<00:03, 51.32it/s]1it/s]\n",
      " 35%|███▌      | 3509/10000 [00:02<00:05, 1192.62it/s]\n",
      "  7%|▋         | 14/200 [00:00<00:03, 55.30it/s]2it/s]\n",
      " 34%|███▍      | 3378/10000 [00:02<00:05, 1190.18it/s]\n",
      " 49%|████▉     | 4911/10000 [00:04<00:04, 1172.33it/s]\n",
      "  2%|▏         | 3/200 [00:00<00:08, 22.85it/s]36it/s]\n",
      "  6%|▌         | 12/200 [00:00<00:03, 51.08it/s]2it/s]\n",
      " 36%|███▌      | 3614/10000 [00:03<00:05, 1189.97it/s]\n",
      "  4%|▍         | 8/200 [00:00<00:04, 44.69it/s]42it/s]\n",
      " 35%|███▌      | 3536/10000 [00:03<00:05, 1178.54it/s]\n",
      "  5%|▌         | 10/200 [00:00<00:04, 44.54it/s]4it/s]\n",
      " 48%|████▊     | 4777/10000 [00:04<00:04, 1192.87it/s]\n",
      "  4%|▎         | 7/200 [00:00<00:04, 38.78it/s]17it/s]\n",
      " 47%|████▋     | 4689/10000 [00:03<00:04, 1186.35it/s]\n",
      "  4%|▍         | 8/200 [00:00<00:04, 40.87it/s]75it/s]\n",
      " 35%|███▍      | 3482/10000 [00:02<00:05, 1180.45it/s]\n",
      " 11%|█         | 22/200 [00:00<00:03, 56.24it/s]7it/s]\n",
      " 34%|███▍      | 3397/10000 [00:02<00:05, 1198.50it/s]\n",
      "  2%|▏         | 3/200 [00:00<00:09, 20.74it/s]81it/s]\n",
      " 50%|█████     | 5045/10000 [00:04<00:04, 1185.18it/s]\n",
      "  8%|▊         | 15/200 [00:00<00:03, 51.11it/s]it/s]]\n",
      " 35%|███▌      | 3509/10000 [00:02<00:05, 1174.12it/s]\n",
      " 10%|█         | 21/200 [00:00<00:03, 56.00it/s]3it/s]\n",
      " 34%|███▍      | 3378/10000 [00:02<00:05, 1188.91it/s]\n",
      "  6%|▌         | 11/200 [00:00<00:04, 45.94it/s]3it/s]\n",
      " 49%|████▉     | 4911/10000 [00:04<00:04, 1187.55it/s]\n",
      "  3%|▎         | 6/200 [00:00<00:05, 35.21it/s]1it/s]]\n",
      " 36%|███▌      | 3614/10000 [00:03<00:05, 1157.31it/s]\n",
      " 12%|█▎        | 25/200 [00:00<00:02, 58.39it/s]2it/s]\n",
      " 35%|███▌      | 3536/10000 [00:03<00:05, 1146.38it/s]\n",
      "  2%|▏         | 3/200 [00:00<00:08, 22.15it/s]42it/s]\n",
      " 48%|████▊     | 4777/10000 [00:04<00:04, 1154.28it/s]\n",
      "  6%|▌         | 12/200 [00:00<00:03, 48.26it/s]9it/s]\n",
      " 47%|████▋     | 4689/10000 [00:04<00:04, 1119.15it/s]\n",
      "  4%|▍         | 8/200 [00:00<00:04, 42.98it/s]86it/s]\n",
      " 35%|███▍      | 3482/10000 [00:02<00:05, 1175.51it/s]\n",
      " 12%|█▏        | 23/200 [00:00<00:02, 62.85it/s]it/s]]\n",
      " 34%|███▍      | 3397/10000 [00:02<00:05, 1173.41it/s]\n",
      "  2%|▏         | 4/200 [00:00<00:06, 30.41it/s]46it/s]\n",
      " 50%|█████     | 5045/10000 [00:04<00:04, 1195.44it/s]\n",
      "  5%|▌         | 10/200 [00:00<00:03, 48.72it/s]it/s]]\n",
      " 35%|███▌      | 3509/10000 [00:02<00:05, 1179.25it/s]\n",
      "  2%|▏         | 3/200 [00:00<00:07, 24.89it/s]7it/s]\n",
      " 34%|███▍      | 3378/10000 [00:02<00:05, 1168.27it/s]\n",
      "  7%|▋         | 14/200 [00:00<00:03, 55.39it/s]8it/s]\n",
      " 36%|███▌      | 3614/10000 [00:03<00:05, 1150.30it/s]\n",
      "  2%|▏         | 3/200 [00:00<00:07, 26.03it/s]37it/s]\n",
      " 49%|████▉     | 4911/10000 [00:04<00:04, 1136.27it/s]\n",
      "  6%|▋         | 13/200 [00:00<00:03, 52.64it/s]5it/s]\n",
      " 35%|███▌      | 3536/10000 [00:02<00:05, 1191.80it/s]\n",
      "  6%|▌         | 12/200 [00:00<00:03, 47.73it/s]5it/s]\n",
      " 48%|████▊     | 4777/10000 [00:04<00:04, 1180.72it/s]\n",
      " 12%|█▏        | 23/200 [00:00<00:03, 53.02it/s]9it/s]\n",
      " 47%|████▋     | 4689/10000 [00:04<00:04, 1166.02it/s]\n",
      "  4%|▎         | 7/200 [00:00<00:05, 38.48it/s]3it/s]]\n",
      " 35%|███▍      | 3482/10000 [00:02<00:05, 1196.38it/s]\n",
      " 12%|█▏        | 24/200 [00:00<00:03, 57.47it/s]1it/s]\n",
      " 34%|███▍      | 3397/10000 [00:02<00:05, 1177.98it/s]\n",
      "  6%|▋         | 13/200 [00:00<00:03, 49.21it/s]9it/s]\n",
      " 50%|█████     | 5045/10000 [00:04<00:04, 1179.57it/s]\n",
      "  6%|▌         | 11/200 [00:00<00:04, 46.21it/s]5it/s]\n",
      " 35%|███▌      | 3509/10000 [00:02<00:05, 1191.50it/s]\n",
      " 16%|█▋        | 33/200 [00:00<00:02, 60.39it/s]it/s]]\n",
      " 34%|███▍      | 3378/10000 [00:02<00:05, 1175.45it/s]\n",
      "  6%|▌         | 11/200 [00:00<00:04, 45.71it/s]5it/s]\n",
      " 49%|████▉     | 4911/10000 [00:04<00:04, 1164.75it/s]\n",
      "  4%|▍         | 9/200 [00:00<00:04, 42.68it/s]7it/s]]\n",
      " 36%|███▌      | 3614/10000 [00:03<00:05, 1193.45it/s]\n",
      "  6%|▌         | 12/200 [00:00<00:03, 48.41it/s]it/s]\n",
      " 35%|███▌      | 3536/10000 [00:02<00:05, 1180.41it/s]\n",
      "  7%|▋         | 14/200 [00:00<00:03, 54.99it/s]4it/s]\n",
      " 48%|████▊     | 4777/10000 [00:04<00:04, 1176.42it/s]\n",
      "  6%|▌         | 12/200 [00:00<00:04, 46.87it/s]2it/s]\n",
      " 47%|████▋     | 4689/10000 [00:03<00:04, 1195.93it/s]\n",
      "  2%|▎         | 5/200 [00:00<00:05, 35.26it/s]45it/s]\n",
      " 35%|███▍      | 3482/10000 [00:02<00:05, 1185.28it/s]\n",
      " 11%|█         | 22/200 [00:00<00:03, 58.22it/s]8it/s]\n",
      " 34%|███▍      | 3397/10000 [00:02<00:05, 1195.37it/s]\n",
      "  2%|▎         | 5/200 [00:00<00:05, 32.55it/s]01it/s]\n",
      " 50%|█████     | 5045/10000 [00:04<00:04, 1173.85it/s]\n",
      "  2%|▏         | 3/200 [00:00<00:08, 23.74it/s]48it/s]\n",
      " 35%|███▌      | 3509/10000 [00:02<00:05, 1181.76it/s]\n",
      "  6%|▌         | 12/200 [00:00<00:03, 52.56it/s]1it/s]\n",
      " 34%|███▍      | 3378/10000 [00:02<00:05, 1175.85it/s]\n",
      " 49%|████▉     | 4911/10000 [00:04<00:04, 1176.30it/s]\n",
      "  2%|▏         | 4/200 [00:00<00:06, 29.14it/s]26it/s]\n",
      "  7%|▋         | 14/200 [00:00<00:03, 50.08it/s]4it/s]\n",
      " 36%|███▌      | 3614/10000 [00:03<00:05, 1173.66it/s]\n",
      "  6%|▌         | 11/200 [00:00<00:05, 37.59it/s]it/s]\n",
      " 35%|███▌      | 3536/10000 [00:03<00:05, 1149.69it/s]\n",
      "  6%|▌         | 12/200 [00:00<00:03, 47.74it/s]6it/s]\n",
      " 48%|████▊     | 4777/10000 [00:04<00:04, 1145.78it/s]\n",
      "  5%|▌         | 10/200 [00:00<00:04, 44.65it/s]1it/s]\n",
      " 47%|████▋     | 4689/10000 [00:04<00:04, 1168.88it/s]\n",
      "  5%|▌         | 10/200 [00:00<00:04, 44.31it/s]it/s]]\n",
      " 35%|███▍      | 3482/10000 [00:02<00:05, 1189.82it/s]\n",
      " 12%|█▏        | 24/200 [00:00<00:03, 48.28it/s]5it/s]\n",
      " 34%|███▍      | 3397/10000 [00:02<00:05, 1152.14it/s]\n",
      "  6%|▋         | 13/200 [00:00<00:04, 46.34it/s]8it/s]\n",
      " 50%|█████     | 5045/10000 [00:04<00:04, 1141.03it/s]\n",
      "  6%|▌         | 12/200 [00:00<00:03, 47.85it/s]9it/s]\n",
      " 35%|███▌      | 3509/10000 [00:02<00:05, 1182.40it/s]\n",
      "  8%|▊         | 17/200 [00:00<00:03, 51.32it/s]3it/s]\n",
      " 34%|███▍      | 3378/10000 [00:02<00:05, 1129.09it/s]\n",
      "  2%|▏         | 3/200 [00:00<00:08, 24.01it/s]53it/s]\n",
      " 49%|████▉     | 4911/10000 [00:04<00:04, 1171.76it/s]\n",
      "  6%|▋         | 13/200 [00:00<00:03, 48.27it/s]it/s]]\n",
      " 36%|███▌      | 3614/10000 [00:03<00:05, 1176.40it/s]\n",
      "  7%|▋         | 14/200 [00:00<00:03, 49.62it/s]it/s]]\n",
      " 35%|███▌      | 3536/10000 [00:03<00:05, 1175.91it/s]\n",
      "  4%|▎         | 7/200 [00:00<00:04, 40.70it/s]56it/s]\n",
      " 48%|████▊     | 4777/10000 [00:04<00:04, 1172.52it/s]\n",
      "  5%|▌         | 10/200 [00:00<00:04, 47.38it/s]6it/s]\n",
      " 47%|████▋     | 4689/10000 [00:03<00:04, 1176.62it/s]\n",
      "  2%|▏         | 4/200 [00:00<00:06, 30.74it/s]4it/s]]\n",
      " 35%|███▍      | 3482/10000 [00:02<00:05, 1168.67it/s]\n",
      " 21%|██        | 42/200 [00:00<00:02, 67.98it/s]1it/s]\n",
      " 34%|███▍      | 3397/10000 [00:02<00:05, 1187.46it/s]\n",
      " 18%|█▊        | 1800/10000 [00:01<00:07, 1140.01it/s]\n",
      " 50%|█████     | 5045/10000 [00:04<00:04, 1176.90it/s]\n",
      "  2%|▏         | 3/200 [00:00<00:07, 25.76it/s]30it/s]\n",
      " 35%|███▌      | 3509/10000 [00:02<00:05, 1180.63it/s]\n",
      "  4%|▍         | 9/200 [00:00<00:04, 46.15it/s]3it/s]]\n",
      " 34%|███▍      | 3378/10000 [00:02<00:05, 1184.11it/s]\n",
      "  4%|▍         | 9/200 [00:00<00:04, 46.15it/s]89it/s]\n",
      " 49%|████▉     | 4911/10000 [00:04<00:04, 1186.10it/s]\n",
      "  2%|▏         | 3/200 [00:00<00:07, 25.65it/s]00it/s]\n",
      " 36%|███▌      | 3614/10000 [00:03<00:05, 1178.78it/s]\n",
      "  6%|▋         | 13/200 [00:00<00:03, 51.65it/s]it/s]\n",
      " 35%|███▌      | 3536/10000 [00:03<00:05, 1171.92it/s]\n",
      "  5%|▌         | 10/200 [00:00<00:04, 44.04it/s]6it/s]\n",
      " 48%|████▊     | 4777/10000 [00:04<00:04, 1186.86it/s]\n",
      "  7%|▋         | 14/200 [00:00<00:03, 49.73it/s]5it/s]\n",
      " 47%|████▋     | 4689/10000 [00:03<00:04, 1176.27it/s]\n",
      "  5%|▌         | 10/200 [00:00<00:04, 44.18it/s]8it/s]\n",
      " 35%|███▍      | 3482/10000 [00:02<00:05, 1172.70it/s]\n",
      " 16%|█▌        | 32/200 [00:00<00:02, 59.22it/s]7it/s]\n",
      " 34%|███▍      | 3397/10000 [00:02<00:05, 1166.94it/s]\n",
      "  2%|▎         | 5/200 [00:00<00:06, 29.24it/s]68it/s]\n",
      " 50%|█████     | 5045/10000 [00:04<00:04, 1153.42it/s]\n",
      "  2%|▎         | 5/200 [00:00<00:06, 31.49it/s]78it/s]\n",
      " 35%|███▌      | 3509/10000 [00:02<00:05, 1172.05it/s]\n",
      "  7%|▋         | 14/200 [00:00<00:03, 49.72it/s]1it/s]\n",
      " 34%|███▍      | 3378/10000 [00:02<00:05, 1185.31it/s]\n",
      "  5%|▌         | 10/200 [00:00<00:04, 44.54it/s]6it/s]\n",
      " 49%|████▉     | 4911/10000 [00:04<00:04, 1181.48it/s]\n",
      "  2%|▏         | 3/200 [00:00<00:07, 24.84it/s]29it/s]\n",
      " 36%|███▌      | 3614/10000 [00:03<00:05, 1183.96it/s]\n",
      "  7%|▋         | 14/200 [00:00<00:03, 51.15it/s]\n",
      " 50%|█████████████████████████████████████████████████████████████▉                                                             | 5032/10000 [00:04<00:04, 1214.43it/s]\n",
      "  4%|█████▏                                                                                                                            | 8/200 [00:00<00:07, 27.25it/s]\n"
     ]
    },
    {
     "data": {
      "text/plain": [
       "(0.6838842975206612,\n",
       " {'batch_size': 16,\n",
       "  'distr_kind': 'Weibull',\n",
       "  'elbo': False,\n",
       "  'layer_sizes': [13],\n",
       "  'learning_rate': 0.001,\n",
       "  'max_epochs': 200,\n",
       "  'n_distr': 1,\n",
       "  'validation_size': 0.1})"
      ]
     },
     "execution_count": 39,
     "metadata": {},
     "output_type": "execute_result"
    }
   ],
   "source": [
    "# Stratified CV\n",
    "opt_dsm, opt_dsm_params, opt_dsm_search = optimize(survwrap.DeepSurvivalMachines(rng_seed=2308),  X_train, y_train, \n",
    "                                                   user_grid=grid,cv=RepeatedStratifiedKFold(n_splits=5, n_repeats=2, random_state=2308).split(X_train,survwrap.get_indicator(y_train)))\n",
    "opt_dsm.score(X_test, y_test), opt_dsm_params"
   ]
  },
  {
   "cell_type": "code",
   "execution_count": 41,
   "id": "4303f402-dce9-4566-964b-e2e743ecf102",
   "metadata": {},
   "outputs": [
    {
     "data": {
      "text/plain": [
       "[(1,\n",
       "  0.6800064902521725,\n",
       "  0.08640148207431089,\n",
       "  0.5936050081778617,\n",
       "  {'batch_size': 16,\n",
       "   'distr_kind': 'Weibull',\n",
       "   'elbo': False,\n",
       "   'layer_sizes': [13],\n",
       "   'learning_rate': 0.001,\n",
       "   'max_epochs': 200,\n",
       "   'n_distr': 1,\n",
       "   'validation_size': 0.1}),\n",
       " (2,\n",
       "  0.6778373825259126,\n",
       "  0.09205344136092578,\n",
       "  0.5857839411649869,\n",
       "  {'batch_size': 16,\n",
       "   'distr_kind': 'Weibull',\n",
       "   'elbo': False,\n",
       "   'layer_sizes': [17],\n",
       "   'learning_rate': 0.001,\n",
       "   'max_epochs': 200,\n",
       "   'n_distr': 2,\n",
       "   'validation_size': 0.1}),\n",
       " (3,\n",
       "  0.674360686971627,\n",
       "  0.05712700290002999,\n",
       "  0.617233684071597,\n",
       "  {'batch_size': 16,\n",
       "   'distr_kind': 'Weibull',\n",
       "   'elbo': False,\n",
       "   'layer_sizes': [37],\n",
       "   'learning_rate': 0.001,\n",
       "   'max_epochs': 200,\n",
       "   'n_distr': 1,\n",
       "   'validation_size': 0.1}),\n",
       " (4,\n",
       "  0.6707957096968238,\n",
       "  0.0607100595554704,\n",
       "  0.6100856501413534,\n",
       "  {'batch_size': 16,\n",
       "   'distr_kind': 'Weibull',\n",
       "   'elbo': False,\n",
       "   'layer_sizes': [29],\n",
       "   'learning_rate': 0.001,\n",
       "   'max_epochs': 200,\n",
       "   'n_distr': 2,\n",
       "   'validation_size': 0.1}),\n",
       " (5,\n",
       "  0.668418138256611,\n",
       "  0.07413221467718444,\n",
       "  0.5942859235794266,\n",
       "  {'batch_size': 16,\n",
       "   'distr_kind': 'Weibull',\n",
       "   'elbo': False,\n",
       "   'layer_sizes': [37],\n",
       "   'learning_rate': 0.001,\n",
       "   'max_epochs': 200,\n",
       "   'n_distr': 2,\n",
       "   'validation_size': 0.1}),\n",
       " (6,\n",
       "  0.6683175258595094,\n",
       "  0.057869604945826984,\n",
       "  0.6104479209136825,\n",
       "  {'batch_size': 16,\n",
       "   'distr_kind': 'Weibull',\n",
       "   'elbo': False,\n",
       "   'layer_sizes': [13],\n",
       "   'learning_rate': 0.001,\n",
       "   'max_epochs': 200,\n",
       "   'n_distr': 2,\n",
       "   'validation_size': 0.1}),\n",
       " (7,\n",
       "  0.6652983137465113,\n",
       "  0.05494023873549321,\n",
       "  0.610358075011018,\n",
       "  {'batch_size': 16,\n",
       "   'distr_kind': 'Weibull',\n",
       "   'elbo': False,\n",
       "   'layer_sizes': [7, 7, 7],\n",
       "   'learning_rate': 0.001,\n",
       "   'max_epochs': 200,\n",
       "   'n_distr': 2,\n",
       "   'validation_size': 0.1}),\n",
       " (8,\n",
       "  0.6598382074175131,\n",
       "  0.09760034612352134,\n",
       "  0.5622378612939918,\n",
       "  {'batch_size': 16,\n",
       "   'distr_kind': 'Weibull',\n",
       "   'elbo': False,\n",
       "   'layer_sizes': [31, 31, 31],\n",
       "   'learning_rate': 0.001,\n",
       "   'max_epochs': 200,\n",
       "   'n_distr': 1,\n",
       "   'validation_size': 0.1}),\n",
       " (9,\n",
       "  0.6597070588850419,\n",
       "  0.08400503850693543,\n",
       "  0.5757020203781065,\n",
       "  {'batch_size': 16,\n",
       "   'distr_kind': 'Weibull',\n",
       "   'elbo': False,\n",
       "   'layer_sizes': [31],\n",
       "   'learning_rate': 0.001,\n",
       "   'max_epochs': 200,\n",
       "   'n_distr': 1,\n",
       "   'validation_size': 0.1}),\n",
       " (10,\n",
       "  0.6566287013964694,\n",
       "  0.06944752909421092,\n",
       "  0.5871811723022585,\n",
       "  {'batch_size': 16,\n",
       "   'distr_kind': 'Weibull',\n",
       "   'elbo': False,\n",
       "   'layer_sizes': [23],\n",
       "   'learning_rate': 0.001,\n",
       "   'max_epochs': 200,\n",
       "   'n_distr': 2,\n",
       "   'validation_size': 0.1})]"
      ]
     },
     "execution_count": 41,
     "metadata": {},
     "output_type": "execute_result"
    }
   ],
   "source": [
    "cv_res = opt_dsm_search.cv_results_\n",
    "rez=sorted(zip(cv_res['rank_test_score'], cv_res['mean_test_score'] , cv_res['std_test_score'], \n",
    "               cv_res['mean_test_score'] - cv_res['std_test_score'], opt_dsm_search.cv_results_['params']))\n",
    "rez[:10]"
   ]
  },
  {
   "cell_type": "code",
   "execution_count": 42,
   "id": "36d543c7-043d-4ad9-9a3b-9485d098288c",
   "metadata": {
    "scrolled": true
   },
   "outputs": [
    {
     "name": "stdout",
     "output_type": "stream",
     "text": [
      "(3, 0.674360686971627, 0.05712700290002999, 0.617233684071597)\n"
     ]
    },
    {
     "name": "stderr",
     "output_type": "stream",
     "text": [
      " 50%|█████████████████████████████████████████████████████████████▉                                                             | 5032/10000 [00:04<00:04, 1206.26it/s]\n",
      "  3%|███▉                                                                                                                              | 6/200 [00:00<00:07, 24.69it/s]\n"
     ]
    },
    {
     "name": "stdout",
     "output_type": "stream",
     "text": [
      "Train:  0.8486 , Test: 0.6653\n",
      "(6, 0.6683175258595094, 0.057869604945826984, 0.6104479209136825)\n"
     ]
    },
    {
     "name": "stderr",
     "output_type": "stream",
     "text": [
      " 50%|█████████████████████████████████████████████████████████████▉                                                             | 5032/10000 [00:04<00:04, 1211.79it/s]\n",
      "  5%|██████▍                                                                                                                          | 10/200 [00:00<00:05, 35.92it/s]\n"
     ]
    },
    {
     "name": "stdout",
     "output_type": "stream",
     "text": [
      "Train:  0.7811 , Test: 0.6198\n",
      "(7, 0.6652983137465113, 0.05494023873549321, 0.610358075011018)\n"
     ]
    },
    {
     "name": "stderr",
     "output_type": "stream",
     "text": [
      " 50%|█████████████████████████████████████████████████████████████▉                                                             | 5032/10000 [00:04<00:04, 1209.84it/s]\n",
      " 10%|████████████▎                                                                                                                    | 19/200 [00:00<00:04, 41.61it/s]\n"
     ]
    },
    {
     "name": "stdout",
     "output_type": "stream",
     "text": [
      "Train:  0.8690 , Test: 0.6467\n",
      "(4, 0.6707957096968238, 0.0607100595554704, 0.6100856501413534)\n"
     ]
    },
    {
     "name": "stderr",
     "output_type": "stream",
     "text": [
      " 50%|█████████████████████████████████████████████████████████████▉                                                             | 5032/10000 [00:04<00:04, 1216.11it/s]\n",
      "  3%|███▉                                                                                                                              | 6/200 [00:00<00:08, 23.98it/s]\n"
     ]
    },
    {
     "name": "stdout",
     "output_type": "stream",
     "text": [
      "Train:  0.8268 , Test: 0.6157\n",
      "(5, 0.668418138256611, 0.07413221467718444, 0.5942859235794266)\n"
     ]
    },
    {
     "name": "stderr",
     "output_type": "stream",
     "text": [
      " 50%|█████████████████████████████████████████████████████████████▉                                                             | 5032/10000 [00:04<00:04, 1212.13it/s]\n",
      "  3%|███▉                                                                                                                              | 6/200 [00:00<00:07, 25.64it/s]\n"
     ]
    },
    {
     "name": "stdout",
     "output_type": "stream",
     "text": [
      "Train:  0.8295 , Test: 0.6095\n",
      "(1, 0.6800064902521725, 0.08640148207431089, 0.5936050081778617)\n"
     ]
    },
    {
     "name": "stderr",
     "output_type": "stream",
     "text": [
      " 50%|█████████████████████████████████████████████████████████████▉                                                             | 5032/10000 [00:04<00:04, 1201.83it/s]\n",
      "  4%|█████▏                                                                                                                            | 8/200 [00:00<00:05, 36.94it/s]\n"
     ]
    },
    {
     "name": "stdout",
     "output_type": "stream",
     "text": [
      "Train:  0.8299 , Test: 0.6839\n",
      "(10, 0.6566287013964694, 0.06944752909421092, 0.5871811723022585)\n"
     ]
    },
    {
     "name": "stderr",
     "output_type": "stream",
     "text": [
      " 50%|█████████████████████████████████████████████████████████████▉                                                             | 5032/10000 [00:04<00:04, 1207.06it/s]\n",
      "  2%|██▌                                                                                                                               | 4/200 [00:00<00:08, 23.08it/s]\n"
     ]
    },
    {
     "name": "stdout",
     "output_type": "stream",
     "text": [
      "Train:  0.7370 , Test: 0.5227\n",
      "(2, 0.6778373825259126, 0.09205344136092578, 0.5857839411649869)\n"
     ]
    },
    {
     "name": "stderr",
     "output_type": "stream",
     "text": [
      " 50%|█████████████████████████████████████████████████████████████▉                                                             | 5032/10000 [00:04<00:04, 1219.73it/s]\n",
      "  5%|██████▍                                                                                                                          | 10/200 [00:00<00:05, 36.98it/s]\n"
     ]
    },
    {
     "name": "stdout",
     "output_type": "stream",
     "text": [
      "Train:  0.8032 , Test: 0.5992\n",
      "(9, 0.6597070588850419, 0.08400503850693543, 0.5757020203781065)\n"
     ]
    },
    {
     "name": "stderr",
     "output_type": "stream",
     "text": [
      " 50%|█████████████████████████████████████████████████████████████▉                                                             | 5032/10000 [00:04<00:04, 1208.08it/s]\n",
      "  2%|█▉                                                                                                                                | 3/200 [00:00<00:11, 17.28it/s]\n"
     ]
    },
    {
     "name": "stdout",
     "output_type": "stream",
     "text": [
      "Train:  0.6866 , Test: 0.6343\n",
      "(8, 0.6598382074175131, 0.09760034612352134, 0.5622378612939918)\n"
     ]
    },
    {
     "name": "stderr",
     "output_type": "stream",
     "text": [
      " 50%|█████████████████████████████████████████████████████████████▉                                                             | 5032/10000 [00:04<00:04, 1218.22it/s]\n",
      "  2%|██▌                                                                                                                               | 4/200 [00:00<00:09, 20.63it/s]\n"
     ]
    },
    {
     "name": "stdout",
     "output_type": "stream",
     "text": [
      "Train:  0.8286 , Test: 0.6550\n"
     ]
    }
   ],
   "source": [
    "low_bound = sorted(rez[:10], key= lambda k: k[3], reverse=True)\n",
    "for lb in [ _ for _ in low_bound if _[3] > 0.5] :\n",
    "    print(lb[0:4])\n",
    "    test_model(survwrap.DeepSurvivalMachines, **lb[4])"
   ]
  },
  {
   "cell_type": "code",
   "execution_count": 43,
   "id": "d29144de-820a-4d6e-89c0-bbf50acd6684",
   "metadata": {
    "scrolled": true
   },
   "outputs": [
    {
     "name": "stderr",
     "output_type": "stream",
     "text": [
      " 50%|█████████████████████████████████████████████████████████████▉                                                             | 5032/10000 [00:04<00:04, 1215.34it/s]\n",
      "  4%|█████▏                                                                                                                            | 8/200 [00:00<00:05, 36.70it/s]"
     ]
    },
    {
     "name": "stdout",
     "output_type": "stream",
     "text": [
      "Train:  0.8299 , Test: 0.6839\n"
     ]
    },
    {
     "name": "stderr",
     "output_type": "stream",
     "text": [
      "\n"
     ]
    },
    {
     "data": {
      "text/plain": [
       "0.6838842975206612"
      ]
     },
     "execution_count": 43,
     "metadata": {},
     "output_type": "execute_result"
    }
   ],
   "source": [
    "test_model(survwrap.DeepSurvivalMachines, batch_size=16, layer_sizes=[13], n_distr=1, max_epochs=200)"
   ]
  },
  {
   "cell_type": "markdown",
   "id": "eea8b402-b00f-4636-b0ce-707d2b9c5b88",
   "metadata": {},
   "source": [
    "# Appunti di varie prove DSM\n",
    "\n",
    "## Insieme di prova (Breast cancer)\n",
    "\n",
    "Piccolo insieme bastardo. 200 elementi, 84 features e solo il 25% di eventi non censurati.\n",
    "Coxnet di default va male (c-index 53%), DSM richiede cura per inziare a generalizzare.\n",
    "\n",
    "## Stabilità risultato\n",
    "\n",
    "1. stratificare, stratificare rispetto all'evento. Usando insiemi stratificati rispetto all'evento DSM inizia a funzionare in maniera meno erratica.\n",
    "2. Se si stratifica anche la CV, L'ottimizzazione DSM tende a fornire risultati buoni per tutta le soluzioni top e anche CoxNet ci guadagna in ottimizzazione (c-index: 57%).\n",
    "   potrebbe sembrare ovvio a posteriori, dato che stiamo imponendo un \"contenuto di informazione\" simile tra train e test. ma non mi pare una forzatura clamorosa.\n",
    "\n",
    "# Ottimizzazione parametri DSM\n",
    "\n",
    "1. Quello più difficile da gestire è ovviamente la topologia della rete. Usando un solo strato nascosto si vede che anche cambiando di un solo valore la dimensione si può passare da una rete che generalizza a una che fa schifo, quindi bisognerebbe fare uno scan senza salti. O fare una random search.\n",
    "   Alla fine mi sono inventato un protocollo scemo ma che sembra andare ragionevolmente (su breast cancer). Fare uno scan per i valori de numeri primi compresi tra 3 e n_features/2 (olè!)\n",
    "2. Reti a \"parametri equivalenti\", (la procedura del quant): fatti tanti test, c'è un fenomeno curioso: le reti con numero pari di strarti nascosti generalizzano male. Mah!\n",
    "   Quindi alla fine ho testato sistematicamente solo quelle con strati dispari (1,3,5). Ma per quelle con 5 iniziano ad apparire problemi di stabilità numerica, probabilmente quando sono troppo grandi.\n",
    "3. numero di funzioni di base (Weibull): il default è 2, ma si ottengono parecchi buoni risultati anche con una sola. Molte soluzioni con 3 non generalizzano. quindi 1 o 2.\n",
    "4. Come detto sopra, la stratificazione aiuta molto, così come il fare almeno 10 split (n_splits=5, n_repeats=2) per aver una varianza abbastanza stabile. Sono riuscito a fare griglie con cv stratificate con un trucchino sklearn che implementerei\n",
    "5. batch size: 10% dell'insieme di train. Sembra OK. mai ottimizzata. così come gli altri parametri legati al learning. Non mi aspetto che incidano.\n",
    "6. Alla fine della fiera si possono ottenere risulati stabilmente decorosi usando 1 o 3 strati nascosto e 1 sola weibull (test c-index: 65%). Introducendo anche la doppia weibull la griglia diventa più onerosa e possono aumentare le soluzioni solo apparentemente buone ma generalizzano peggio (anche se non disastrose: 58%). Non andare oltre le 2 weibull e 3 strati.\n"
   ]
  }
 ],
 "metadata": {
  "kernelspec": {
   "display_name": "Python 3 (ipykernel)",
   "language": "python",
   "name": "python3"
  },
  "language_info": {
   "codemirror_mode": {
    "name": "ipython",
    "version": 3
   },
   "file_extension": ".py",
   "mimetype": "text/x-python",
   "name": "python",
   "nbconvert_exporter": "python",
   "pygments_lexer": "ipython3",
   "version": "3.10.9"
  }
 },
 "nbformat": 4,
 "nbformat_minor": 5
}
